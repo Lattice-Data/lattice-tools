{
 "cells": [
  {
   "cell_type": "code",
   "execution_count": null,
   "id": "e2b10971-4a50-456c-9cdd-30e2012b14a9",
   "metadata": {},
   "outputs": [],
   "source": [
    "import numpy as np\n",
    "import pandas as pd\n",
    "from public_resources import *"
   ]
  },
  {
   "cell_type": "code",
   "execution_count": null,
   "id": "bf6ceb10-a033-4259-a621-54d360f05b98",
   "metadata": {},
   "outputs": [],
   "source": [
    "search_term = 'multiome'"
   ]
  },
  {
   "cell_type": "markdown",
   "id": "a337565d-c729-4585-ab3b-034952625169",
   "metadata": {},
   "source": [
    "# Search public resources"
   ]
  },
  {
   "cell_type": "code",
   "execution_count": null,
   "id": "44f144ab-1dfa-47db-8c94-f43b0c997e62",
   "metadata": {
    "scrolled": true
   },
   "outputs": [],
   "source": [
    "#Figshare searches may return too many results - unclear how to do phrase searching (e.g. \"Paired-seq\")\n",
    "fshare_df = figshare_query(search_term)\n",
    "fshare_df"
   ]
  },
  {
   "cell_type": "code",
   "execution_count": null,
   "id": "ab53b8a1-6ba1-414f-be53-a4013192e70c",
   "metadata": {
    "scrolled": true
   },
   "outputs": [],
   "source": [
    "bs_df = biostudies_query(search_term)\n",
    "bs_df"
   ]
  },
  {
   "cell_type": "code",
   "execution_count": null,
   "id": "209c3002-31c9-4db3-99a7-efe0320a471d",
   "metadata": {},
   "outputs": [],
   "source": [
    "geo_df = geo_query(search_term)\n",
    "geo_df"
   ]
  },
  {
   "cell_type": "code",
   "execution_count": null,
   "id": "f979e137-14d5-4062-a3af-6d3702dab012",
   "metadata": {
    "scrolled": true
   },
   "outputs": [],
   "source": [
    "z_df = zenodo_query(search_term)\n",
    "z_df"
   ]
  },
  {
   "cell_type": "markdown",
   "id": "51827878-3093-446a-9dc0-9be30ed06c67",
   "metadata": {},
   "source": [
    "**Merge**"
   ]
  },
  {
   "cell_type": "code",
   "execution_count": null,
   "id": "8a4aa43e-488a-4cd3-89fb-fce787a39b44",
   "metadata": {},
   "outputs": [],
   "source": [
    "add_dois = {}\n",
    "\n",
    "merged_df = pd.concat([bs_df, geo_df,fshare_df, z_df])\n",
    "unfound_accs = [k for k in add_dois.keys() if k not in merged_df['accession'].unique()]\n",
    "if unfound_accs:\n",
    "    print('accession not in dataframe')\n",
    "    print(unfound_accs)"
   ]
  },
  {
   "cell_type": "code",
   "execution_count": null,
   "id": "bb23dd30-dc44-47e3-a1a6-cb2b8c5b2580",
   "metadata": {
    "scrolled": true
   },
   "outputs": [],
   "source": [
    "#TESTING PURPOSES\n",
    "add_dois = {}\n",
    "\n",
    "merged_df = pd.concat([bs_df, geo_df, z_df])\n",
    "unfound_accs = [k for k in add_dois.keys() if k not in merged_df['accession'].unique()]\n",
    "if unfound_accs:\n",
    "    print('accession not in dataframe')\n",
    "    print(unfound_accs)"
   ]
  },
  {
   "cell_type": "code",
   "execution_count": null,
   "id": "eb8190c6-1c3d-4f79-98cb-5d694100479b",
   "metadata": {},
   "outputs": [],
   "source": [
    "merged_df['doi'] = merged_df.apply(lambda x: add_dois.get(x['accession'], x['doi']), axis=1)\n",
    "\n",
    "for pmid in merged_df[(merged_df['doi'].isna()) & (merged_df['pmid'].isna() == False)]['pmid'].dropna().unique():\n",
    "    if pmid:\n",
    "        doi = pmid_to_doi(pmid)\n",
    "        merged_df.loc[merged_df['pmid'] == pmid, 'doi'] = doi\n",
    "merged_df.drop(columns='pmid',inplace=True)\n",
    "\n",
    "merged_df_nodoi = merged_df[(merged_df['doi'].isna()) | (merged_df['doi'] == '')]\n",
    "merged_df_nodoi.rename(columns={'title': 'Title'}, inplace=True)\n",
    "merged_df = merged_df[(merged_df['doi'].isna() == False) & (merged_df['doi'] != '')]\n",
    "\n",
    "pub_info = []\n",
    "for doi in merged_df['doi'].dropna().unique():\n",
    "    if doi:\n",
    "        pub_info.append(doi_checker(doi))\n",
    "\n",
    "pub_df = pd.DataFrame(pub_info)\n",
    "pub_df['doi'] = pub_df.apply(lambda x: x['DOI'] if pd.isnull(x['updated_doi']) else x['updated_doi'], axis=1)\n",
    "pub_df = pub_df[pub_df['invalid DOI'] != 'yes']\n",
    "pub_df.drop(columns=['updated_doi','invalid DOI'], inplace=True)\n",
    "\n",
    "merged_df = merged_df.merge(pub_df, left_on='doi', right_on='DOI', how='left', suffixes=('_x',None))\n",
    "merged_df['Title'] = merged_df.apply(lambda x: x['title'] if pd.isnull(x['doi']) else x['Title'], axis=1)\n",
    "merged_df.drop(columns=['DOI','doi_x'], inplace=True)\n",
    "merged_df.fillna({'file formats': ''}, inplace=True)\n",
    "\n",
    "\n",
    "def join_responsibly(x):\n",
    "    return ','.join(set([e for e in x if not pd.isnull(e)]))\n",
    "\n",
    "merged_df = merged_df.groupby('doi').agg({\n",
    "    'accession': lambda x: ','.join(set(x)),\n",
    "    'file formats': lambda x: ','.join(set([e for r in x for e in r])),\n",
    "    'developmental stage': join_responsibly,\n",
    "    'organism part': join_responsibly,\n",
    "    'disease': join_responsibly,\n",
    "    'organism': join_responsibly,\n",
    "    'Title': lambda x: ','.join(set(x)),\n",
    "    'Journal': lambda x: ','.join(set(x)),\n",
    "    'Year': lambda x: ','.join(set([str(e) for e in x])),\n",
    "    'First authors': lambda x: ','.join(set(x)),\n",
    "}).reset_index()\n",
    "\n",
    "merged_df = pd.concat([merged_df,merged_df_nodoi])\n",
    "\n",
    "merged_df.to_csv(f'{search_term}_records.csv', index=False)"
   ]
  },
  {
   "cell_type": "markdown",
   "id": "7cb66a6f-d69f-43b5-b28a-2b5502879efc",
   "metadata": {},
   "source": [
    "# Identify publications"
   ]
  },
  {
   "cell_type": "code",
   "execution_count": null,
   "id": "dbbd1139-6d01-4a6d-bee7-79cd38c81d92",
   "metadata": {},
   "outputs": [],
   "source": [
    "dois = publication_search(search_term)\n",
    "\n",
    "new_pub_info = []\n",
    "for doi in dois:\n",
    "    if doi and doi not in merged_df['doi'].unique():\n",
    "        new_pub_info.append(doi_checker(doi))\n",
    "new_pub_df = pd.DataFrame(new_pub_info)\n",
    "new_pub_df.drop(columns=['input_doi','invalid DOI'], inplace=True)\n",
    "new_pub_df = new_pub_df[new_pub_df['doi'].isin(merged_df['doi'].unique()) == False]\n",
    "\n",
    "all_pubs = pd.concat([merged_df, new_pub_df])\n",
    "\n",
    "all_pubs.to_csv(f'{search_term}_publications.csv', index=False)\n",
    "all_pubs"
   ]
  },
  {
   "cell_type": "code",
   "execution_count": null,
   "id": "e3870c91-ac1b-4496-9d74-36181b8b631a",
   "metadata": {},
   "outputs": [],
   "source": [
    "#add in preprint\n",
    "#https://api.biorxiv.org/ - to public_resources.py"
   ]
  }
 ],
 "metadata": {
  "kernelspec": {
   "display_name": "Python 3 (ipykernel)",
   "language": "python",
   "name": "python3"
  },
  "language_info": {
   "codemirror_mode": {
    "name": "ipython",
    "version": 3
   },
   "file_extension": ".py",
   "mimetype": "text/x-python",
   "name": "python",
   "nbconvert_exporter": "python",
   "pygments_lexer": "ipython3",
   "version": "3.11.9"
  }
 },
 "nbformat": 4,
 "nbformat_minor": 5
}
