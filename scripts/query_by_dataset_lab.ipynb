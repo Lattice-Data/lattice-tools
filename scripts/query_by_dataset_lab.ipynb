{
 "cells": [
  {
   "cell_type": "code",
   "execution_count": null,
   "metadata": {},
   "outputs": [],
   "source": [
    "import json\n",
    "import pandas as pd\n",
    "import requests\n",
    "from lattice import Connection\n",
    "\n",
    "\n",
    "mode = 'prod'\n",
    "connection = Connection(mode)\n",
    "serv = connection.server"
   ]
  },
  {
   "cell_type": "code",
   "execution_count": null,
   "metadata": {},
   "outputs": [],
   "source": [
    "obj_dict = {\n",
    "    'human-postnatal-donors': 'HumanPostnatalDonor',\n",
    "    'human-prenatal-donors': 'HumanPrenatalDonor',\n",
    "    'tissues': 'Tissues',\n",
    "    'organoids': 'Organoids',\n",
    "    'cell-cultures': 'CellCultures',\n",
    "    'suspensions': 'Suspensions'\n",
    "}"
   ]
  },
  {
   "cell_type": "code",
   "execution_count": null,
   "metadata": {},
   "outputs": [],
   "source": [
    "def create_queries(ids):\n",
    "    objects = {}\n",
    "    blank = []\n",
    "    for i in ids:\n",
    "        objtype = i.split('/')[1]\n",
    "        acc = i.split('/')[2]\n",
    "        if objtype in objects:\n",
    "            objects[objtype].append(acc)\n",
    "        else:\n",
    "            objects[objtype] = [acc]\n",
    "    for k,v in objects.items():\n",
    "        if v:\n",
    "            url = serv + 'report/?type=' + obj_dict[k] + '&accession=' + '&accession='.join(v)\n",
    "            if len(url) > 8000: #max url length is 8205\n",
    "                mid = len(v)//2\n",
    "                url1 = serv + 'report/?type=' + obj_dict[k] + '&accession=' + '&accession='.join(v[:mid])\n",
    "                blank.append((str(len(v[:mid])) + ' ' + k, url1))\n",
    "                url2 = serv + 'report/?type=' + obj_dict[k] + '&accession=' + '&accession='.join(v[mid:])\n",
    "                blank.append((str(len(v[mid:])) + ' ' + k, url2))\n",
    "            else:\n",
    "                blank.append((str(len(v)) + ' ' + k, url))\n",
    "    if blank:\n",
    "        count = 0\n",
    "        print(str(len(blank)) + ' URL(s)')\n",
    "        for i in blank:\n",
    "            count += 1\n",
    "            print(f'{str(count)}: {i[0]}')\n",
    "            print(i[1])"
   ]
  },
  {
   "cell_type": "code",
   "execution_count": null,
   "metadata": {},
   "outputs": [],
   "source": [
    "def query(group, objects):\n",
    "    if group.startswith('LATDS'):\n",
    "        query = f'&dataset=/datasets/{group}/'\n",
    "    else:\n",
    "        query = f'&lab.name={group}'\n",
    "    \n",
    "    if objects == 'donors':\n",
    "        query += '&field=donors.@id'\n",
    "    elif objects == 'samples':\n",
    "        query += '&field=derived_from.derived_from'\n",
    "    elif objects == 'suspensions':\n",
    "        query += '&field=derived_from.@id'\n",
    "    \n",
    "    url = serv + f'report/?type=Library{query}&limit=all'\n",
    "    r = requests.get(url, auth=connection.auth).json()\n",
    "    donors = []\n",
    "    for l in r['@graph']:\n",
    "        donors.extend(d['@id'] for d in l['donors']) #DIFFERENT\n",
    "    create_queries(set(donors))"
   ]
  },
  {
   "cell_type": "code",
   "execution_count": null,
   "metadata": {},
   "outputs": [],
   "source": [
    "def query_donors(group):\n",
    "    if group.startswith('LATDS'):\n",
    "        query = '&dataset=/datasets/' + group + '/'\n",
    "    else:\n",
    "        query = '&lab.name=' + group\n",
    "\n",
    "    url = serv + f'report/?type=Library{query}&field=donors.@id&limit=all'\n",
    "    r = requests.get(url, auth=connection.auth).json()\n",
    "    donors = []\n",
    "    for l in r['@graph']:\n",
    "        donors.extend(d['@id'] for d in l['donors'])\n",
    "    create_queries(set(donors))"
   ]
  },
  {
   "cell_type": "code",
   "execution_count": null,
   "metadata": {},
   "outputs": [],
   "source": [
    "#currently, only retrieves the Suspensions that a Library derives from\n",
    "#not a Suspension that another Suspension derives from\n",
    "def query_suspensions(group):\n",
    "    if group.startswith('LATDS'):\n",
    "        query = '&dataset=/datasets/' + group + '/'\n",
    "    else:\n",
    "        query = '&lab.name=' + group\n",
    "\n",
    "    url = serv + f'report/?type=Library{query}&field=derived_from.@id&limit=all'\n",
    "    r = requests.get(url, auth=connection.auth).json()\n",
    "    susps = []\n",
    "    for l in r['@graph']:\n",
    "        susps.extend(d['@id'] for d in l['derived_from'])\n",
    "    create_queries(set(susps))"
   ]
  },
  {
   "cell_type": "code",
   "execution_count": null,
   "metadata": {},
   "outputs": [],
   "source": [
    "def query_samples(group):\n",
    "    if group.startswith('LATDS'):\n",
    "        query = '&dataset=/datasets/' + group + '/'\n",
    "    else:\n",
    "        query = '&lab.name=' + group\n",
    "\n",
    "    url = serv + f'report/?type=Library{query}&field=derived_from.derived_from&limit=all'\n",
    "    r = requests.get(url, auth=connection.auth).json()\n",
    "    samples = []\n",
    "    for l in r['@graph']:\n",
    "        for d in l['derived_from']:\n",
    "            for dd in d['derived_from']:\n",
    "                if dd.startswith('/suspensions/'):\n",
    "                    second_susp = requests.get(serv + dd, auth=connection.auth).json()\n",
    "                    samples.extend(second_susp['derived_from'])\n",
    "                else:\n",
    "                    samples.append(dd)\n",
    "    create_queries(set(samples))"
   ]
  },
  {
   "cell_type": "code",
   "execution_count": null,
   "metadata": {
    "scrolled": true
   },
   "outputs": [],
   "source": [
    "#query Datasets by Accession\n",
    "query_donors('LATDS977NKW')"
   ]
  },
  {
   "cell_type": "code",
   "execution_count": null,
   "metadata": {},
   "outputs": [],
   "source": [
    "#query Datasets by Accession\n",
    "query_samples('LATDS977NKW')"
   ]
  },
  {
   "cell_type": "code",
   "execution_count": null,
   "metadata": {},
   "outputs": [],
   "source": [
    "#query Datasets by Accession\n",
    "query_suspensions('LATDS977NKW')"
   ]
  },
  {
   "cell_type": "code",
   "execution_count": null,
   "metadata": {},
   "outputs": [],
   "source": [
    "#query Labs by Name\n",
    "query_donors('jason-spence')"
   ]
  },
  {
   "cell_type": "code",
   "execution_count": null,
   "metadata": {},
   "outputs": [],
   "source": [
    "#query Labs by Name\n",
    "query_samples('jason-spence')"
   ]
  },
  {
   "cell_type": "code",
   "execution_count": null,
   "metadata": {},
   "outputs": [],
   "source": [
    "#query Labs by Name\n",
    "query_suspensions('jason-spence')"
   ]
  },
  {
   "cell_type": "code",
   "execution_count": null,
   "metadata": {},
   "outputs": [],
   "source": []
  }
 ],
 "metadata": {
  "kernelspec": {
   "display_name": "Python 3",
   "language": "python",
   "name": "python3"
  },
  "language_info": {
   "codemirror_mode": {
    "name": "ipython",
    "version": 3
   },
   "file_extension": ".py",
   "mimetype": "text/x-python",
   "name": "python",
   "nbconvert_exporter": "python",
   "pygments_lexer": "ipython3",
   "version": "3.7.13"
  }
 },
 "nbformat": 4,
 "nbformat_minor": 5
}
