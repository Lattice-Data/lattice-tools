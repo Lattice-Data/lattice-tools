{
 "cells": [
  {
   "cell_type": "code",
   "execution_count": null,
   "metadata": {},
   "outputs": [],
   "source": [
    "import json\n",
    "import pandas as pd\n",
    "import requests\n",
    "from lattice import Connection\n",
    "\n",
    "\n",
    "mode = 'prod'\n",
    "connection = Connection(mode)\n",
    "serv = connection.server"
   ]
  },
  {
   "cell_type": "code",
   "execution_count": null,
   "metadata": {},
   "outputs": [],
   "source": [
    "def query_donors(group):\n",
    "    if group.startswith('LATDS'):\n",
    "        query = '&dataset=/datasets/' + group + '/'\n",
    "    else:\n",
    "        query = '&lab.name=' + group\n",
    "\n",
    "    obj_dict = {'human-postnatal-donors': 'HumanPostnatalDonor', 'human-prenatal-donors': 'HumanPrenatalDonor'}\n",
    "    donors = {'human-postnatal-donors': [], 'human-prenatal-donors': []}\n",
    "    donors_temp = []\n",
    "    blank = []\n",
    "\n",
    "\n",
    "    url = serv + f'report/?type=Library{query}&field=donors.@id&limit=all'\n",
    "    r = requests.get(url, auth=connection.auth).json()\n",
    "    for l in r['@graph']:\n",
    "        donors_temp.extend(d['@id'] for d in l['donors'])\n",
    "    donors_temp = set(donors_temp)\n",
    "    for d in donors_temp:\n",
    "        objtype = d.split('/')[1]\n",
    "        acc = d.split('/')[2]\n",
    "        donors[objtype].append(acc)\n",
    "    for k,v in donors.items():\n",
    "        if v:\n",
    "            url = serv + 'report/?type=' + obj_dict[k] + '&accession=' + '&accession='.join(v)\n",
    "            if len(url) > 8000: #max url length is 8205\n",
    "                mid = len(v)//2\n",
    "                url1 = serv + 'report/?type=' + obj_dict[k] + '&accession=' + '&accession='.join(v[:mid])\n",
    "                blank.append((str(len(v[:mid])) + ' donors', url1))\n",
    "                #print(str(len(v[:mid])) + ' donors')\n",
    "                #print(url1)\n",
    "                url2 = serv + 'report/?type=' + obj_dict[k] + '&accession=' + '&accession='.join(v[mid:])\n",
    "                blank.append((str(len(v[mid:])) + ' donors', url2))\n",
    "                #print(str(len(v[mid:])) + ' donors')\n",
    "                #print(url2)\n",
    "            else:\n",
    "                blank.append((str(len(v)) + ' donors', url))\n",
    "                #print(str(len(v)) + ' donors')\n",
    "                #print(url)\n",
    "    if blank:\n",
    "        count = 0\n",
    "        print(str(len(blank)) + ' URL(s)')\n",
    "        for i in blank:\n",
    "            count += 1\n",
    "            print(f'{str(count)}: {i[0]}')\n",
    "            print(i[1])"
   ]
  },
  {
   "cell_type": "code",
   "execution_count": null,
   "metadata": {
    "scrolled": true
   },
   "outputs": [],
   "source": [
    "#query Datasets by Accession\n",
    "query_donors('LATDS977NKW')"
   ]
  },
  {
   "cell_type": "code",
   "execution_count": null,
   "metadata": {},
   "outputs": [],
   "source": [
    "#query Labs by Name\n",
    "query_donors('jason-spence')"
   ]
  },
  {
   "cell_type": "code",
   "execution_count": null,
   "metadata": {},
   "outputs": [],
   "source": []
  }
 ],
 "metadata": {
  "kernelspec": {
   "display_name": "Python 3",
   "language": "python",
   "name": "python3"
  },
  "language_info": {
   "codemirror_mode": {
    "name": "ipython",
    "version": 3
   },
   "file_extension": ".py",
   "mimetype": "text/x-python",
   "name": "python",
   "nbconvert_exporter": "python",
   "pygments_lexer": "ipython3",
   "version": "3.7.13"
  }
 },
 "nbformat": 4,
 "nbformat_minor": 5
}
