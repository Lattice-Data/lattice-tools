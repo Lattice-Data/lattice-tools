{
 "cells": [
  {
   "cell_type": "code",
   "execution_count": null,
   "id": "cd06b45b-b4e3-4b43-bbfa-a7f33654bdad",
   "metadata": {},
   "outputs": [],
   "source": [
    "import pandas as pd\n",
    "import sys\n",
    "\n",
    "\n",
    "sys.path.append('..')\n",
    "from public_resources.public_resources import insdc_meta"
   ]
  },
  {
   "cell_type": "markdown",
   "id": "ce4400cc-e5a4-43a0-83dc-a816c4217d84",
   "metadata": {},
   "source": [
    "**ATTN - LIST THE TYPES OF ACCESSIONS THAT SHOULD WORK**"
   ]
  },
  {
   "cell_type": "code",
   "execution_count": null,
   "id": "f4ac38e5-8c65-49ff-8344-a020ad827098",
   "metadata": {},
   "outputs": [],
   "source": [
    "accession = 'E-MTAB-12975'# 'GSE147528'"
   ]
  },
  {
   "cell_type": "code",
   "execution_count": null,
   "id": "1a819b5d-398b-4eac-a414-a0ca28c702de",
   "metadata": {},
   "outputs": [],
   "source": [
    "attributes = insdc_meta(accession)\n",
    "df = pd.DataFrame(attributes)"
   ]
  },
  {
   "cell_type": "code",
   "execution_count": null,
   "id": "319ea5bb-1254-4401-8dc4-80e1de512dcc",
   "metadata": {
    "scrolled": true
   },
   "outputs": [],
   "source": [
    "sample_df = df[[c for c in df.columns if c.startswith('Experiment:') or c.startswith('Sample:')]].drop_duplicates()\n",
    "sample_df"
   ]
  },
  {
   "cell_type": "code",
   "execution_count": null,
   "id": "3ddfa103-3681-4de4-811e-cb2c66b40abe",
   "metadata": {
    "scrolled": true
   },
   "outputs": [],
   "source": [
    "run_df = df[[c for c in df.columns if c.startswith('Run:')]].drop_duplicates()\n",
    "run_df[['Run:accession','Run:total_spots'] + [c for c in df.columns if c.endswith(' filename')]]"
   ]
  },
  {
   "cell_type": "code",
   "execution_count": null,
   "id": "754bd2f9-6acc-42bb-bdc4-ccab9f579714",
   "metadata": {},
   "outputs": [],
   "source": [
    "file_df = pd.DataFrame()\n",
    "files = [c.split(' ')[0] for c in df.columns if c.endswith(' filename') or c.endswith(' url')]\n",
    "for f in files:\n",
    "    temp = df[[f + ' filename', f + ' url']]\n",
    "    temp.columns = ['filename', 'url']\n",
    "    file_df = pd.concat([file_df, temp])\n",
    "file_df"
   ]
  },
  {
   "cell_type": "code",
   "execution_count": null,
   "id": "2d9a5e95-020f-470a-9577-5416e6d63f6c",
   "metadata": {},
   "outputs": [],
   "source": []
  }
 ],
 "metadata": {
  "kernelspec": {
   "display_name": "Python 3 (ipykernel)",
   "language": "python",
   "name": "python3"
  },
  "language_info": {
   "codemirror_mode": {
    "name": "ipython",
    "version": 3
   },
   "file_extension": ".py",
   "mimetype": "text/x-python",
   "name": "python",
   "nbconvert_exporter": "python",
   "pygments_lexer": "ipython3",
   "version": "3.11.9"
  }
 },
 "nbformat": 4,
 "nbformat_minor": 5
}
