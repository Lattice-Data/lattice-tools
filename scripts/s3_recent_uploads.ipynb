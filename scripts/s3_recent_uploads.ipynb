{
 "cells": [
  {
   "cell_type": "code",
   "execution_count": null,
   "id": "3db2e3c0",
   "metadata": {},
   "outputs": [],
   "source": [
    "import boto3\n",
    "from datetime import datetime, timezone, timedelta\n",
    "\n",
    "\n",
    "session = boto3.session.Session()\n",
    "s3_client = session.client('s3')\n",
    "s3 = boto3.resource('s3')"
   ]
  },
  {
   "cell_type": "code",
   "execution_count": null,
   "id": "9122e47c",
   "metadata": {},
   "outputs": [],
   "source": [
    "#define how many days to look back\n",
    "days_to_go_back = 3"
   ]
  },
  {
   "cell_type": "code",
   "execution_count": null,
   "id": "be206fa4",
   "metadata": {},
   "outputs": [],
   "source": [
    "stamp = datetime.now(timezone.utc) + timedelta(days= -days_to_go_back)\n",
    "\n",
    "new = {}\n",
    "response = s3_client.list_buckets()\n",
    "for b in response['Buckets']:\n",
    "    bucket = b['Name']\n",
    "    if 'submissions-czi' in bucket:\n",
    "        files = {}\n",
    "        my_bucket = s3.Bucket(bucket)\n",
    "        for my_bucket_object in my_bucket.objects.all():\n",
    "            file_name = my_bucket_object.key\n",
    "            if my_bucket_object.last_modified > stamp and file_name.endswith('/') != True:\n",
    "                date = str(my_bucket_object.last_modified.date())\n",
    "                if date in files:\n",
    "                    files[date].append(file_name)\n",
    "                else:\n",
    "                    files[date] = [file_name]\n",
    "        if files:\n",
    "            new[bucket] = files\n",
    "\n",
    "for k,v in new.items():\n",
    "    allfiles = [f for l in v.values() for f in l]\n",
    "    print(f'{k}: {str(len(allfiles))} new files')"
   ]
  },
  {
   "cell_type": "code",
   "execution_count": null,
   "id": "af934c94",
   "metadata": {},
   "outputs": [],
   "source": [
    "#select a bucket to investigate specific files\n",
    "bucket = 'submissions-czi011eye'\n",
    "\n",
    "for k,v in new[bucket].items():\n",
    "    print(k)\n",
    "    print('\\n'.join(v) + '\\n')"
   ]
  },
  {
   "cell_type": "code",
   "execution_count": null,
   "id": "b96894b7",
   "metadata": {},
   "outputs": [],
   "source": []
  }
 ],
 "metadata": {
  "kernelspec": {
   "display_name": "Python 3 (ipykernel)",
   "language": "python",
   "name": "python3"
  },
  "language_info": {
   "codemirror_mode": {
    "name": "ipython",
    "version": 3
   },
   "file_extension": ".py",
   "mimetype": "text/x-python",
   "name": "python",
   "nbconvert_exporter": "python",
   "pygments_lexer": "ipython3",
   "version": "3.9.18"
  }
 },
 "nbformat": 4,
 "nbformat_minor": 5
}
