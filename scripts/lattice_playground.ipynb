{
 "cells": [
  {
   "cell_type": "code",
   "execution_count": null,
   "id": "319a9e9c",
   "metadata": {},
   "outputs": [],
   "source": [
    "import boto3.session\n",
    "import fsspec\n",
    "import h5py\n",
    "import pandas as pd\n",
    "\n",
    "from anndata._io.specs import read_elem\n",
    "from concurrent import futures\n",
    "from concurrent.futures import ThreadPoolExecutor\n",
    "from dataclasses import dataclass\n",
    "from pathlib import Path\n",
    "\n",
    "from lattice import (\n",
    "    Connection, \n",
    "    get_object,\n",
    "    get_report, \n",
    "    parse_ids, \n",
    ")"
   ]
  },
  {
   "cell_type": "code",
   "execution_count": 2,
   "id": "a3e542d2",
   "metadata": {},
   "outputs": [],
   "source": [
    "FRAGMENT_DIR = Path(\"matrix_files/atac_fragments\")"
   ]
  },
  {
   "cell_type": "code",
   "execution_count": 3,
   "id": "6195a59b",
   "metadata": {},
   "outputs": [],
   "source": [
    "if not FRAGMENT_DIR.is_dir():\n",
    "    FRAGMENT_DIR.mkdir()"
   ]
  },
  {
   "cell_type": "code",
   "execution_count": null,
   "id": "cf57fff0",
   "metadata": {},
   "outputs": [],
   "source": [
    "@dataclass\n",
    "class URIPath:\n",
    "    \"\"\"\n",
    "    Dataclass to hold various parsed information for each S3 URI\n",
    "    Only needs full uri to create the various attributes\n",
    "    \"\"\"\n",
    "\n",
    "    full_uri: str\n",
    "\n",
    "    def __post_init__(self):\n",
    "        self.bucket_name: str = self.full_uri.split(\"/\")[2]\n",
    "        self.file_path = self.full_uri.replace(\"s3://{}/\".format(self.bucket_name), \"\")\n",
    "        self.file_name = self.full_uri.split(\"/\")[-1]\n",
    "        self.parent_path = self.file_path.replace(self.file_name, \"\")\n",
    "        self.full_parent_path = self.full_uri.replace(self.file_name, \"\")"
   ]
  },
  {
   "cell_type": "code",
   "execution_count": null,
   "id": "5aa5617a",
   "metadata": {},
   "outputs": [],
   "source": [
    "@dataclass\n",
    "class FragmentFileMeta:\n",
    "    cell_label_location: str\n",
    "    label: str\n",
    "    accession: str\n",
    "    uri: URIPath\n",
    "    barcodes: pd.Series\n",
    "\n",
    "    def __post_init__(self):\n",
    "        self.download_file_name = self.accession + \"_\" + self.uri.file_name\n",
    "        # probably better to add this logic somewhere else\n",
    "        self.is_file_local = (FRAGMENT_DIR / self.download_file_name).is_file()"
   ]
  },
  {
   "cell_type": "code",
   "execution_count": 5,
   "id": "9b12297c",
   "metadata": {},
   "outputs": [],
   "source": [
    "fs = fsspec.filesystem('s3')"
   ]
  },
  {
   "cell_type": "code",
   "execution_count": 82,
   "id": "640555ec",
   "metadata": {},
   "outputs": [
    {
     "name": "stdout",
     "output_type": "stream",
     "text": [
      "submissions-czi115cns/Galvao_2023/PhaseI/G120_D_FL\n",
      "submissions-czi115cns/Galvao_2023/PhaseI/G120_D_TL\n",
      "submissions-czi115cns/Galvao_2023/PhaseI/G120_F1_N\n",
      "submissions-czi115cns/Galvao_2023/PhaseI/G129_D\n",
      "submissions-czi115cns/Galvao_2023/PhaseI/G133_D_FL\n",
      "submissions-czi115cns/Galvao_2023/PhaseI/G133_N_FL\n",
      "submissions-czi115cns/Galvao_2023/PhaseI/G150_D\n",
      "submissions-czi115cns/Galvao_2023/PhaseI/G159_D\n",
      "submissions-czi115cns/Galvao_2023/PhaseI/G171_D\n",
      "submissions-czi115cns/Galvao_2023/PhaseI/G187_D\n",
      "submissions-czi115cns/Galvao_2023/PhaseI/G210_D\n"
     ]
    }
   ],
   "source": [
    "for item in fs.ls(uri.full_parent_path):\n",
    "    if fs.isdir(item):\n",
    "        possible_fragment_file = item + \"/CellRanger_outputs\" + \"/atac_fragments.tsv.gz\"\n",
    "        if fs.isfile(possible_fragment_file):\n",
    "            print(item)"
   ]
  },
  {
   "cell_type": "code",
   "execution_count": 6,
   "id": "364c3b83",
   "metadata": {},
   "outputs": [],
   "source": [
    "connection = Connection(\"prod\")"
   ]
  },
  {
   "cell_type": "code",
   "execution_count": 17,
   "id": "ff0fb4f4",
   "metadata": {},
   "outputs": [
    {
     "data": {
      "text/plain": [
       "('ProcessedMatrixFile', '&@id=/processed-matrix-files/LATDF393MGJ/')"
      ]
     },
     "execution_count": 17,
     "metadata": {},
     "output_type": "execute_result"
    }
   ],
   "source": [
    "parse_ids(['/processed-matrix-files/LATDF393MGJ/'])"
   ]
  },
  {
   "cell_type": "code",
   "execution_count": 8,
   "id": "0b869b09",
   "metadata": {},
   "outputs": [],
   "source": [
    "PROCESSED_MATRIX_ACCESSION = 'LATDF393MGJ'\n",
    "field_list = [\n",
    "    'accession',\n",
    "    's3_uri',\n",
    "    'cell_label_location',\n",
    "    'cell_label_mappings',\n",
    "]"
   ]
  },
  {
   "cell_type": "code",
   "execution_count": 9,
   "id": "f11017e6",
   "metadata": {},
   "outputs": [
    {
     "data": {
      "text/plain": [
       "{'@id': '/processed-matrix-files/LATDF393MGJ/',\n",
       " '@type': ['ProcessedMatrixFile', 'AnalysisFile', 'DataFile', 'File', 'Item'],\n",
       " 'accession': 'LATDF393MGJ',\n",
       " 'cell_label_location': 'suffix',\n",
       " 'cell_label_mappings': [{'raw_matrix': '/raw-matrix-files/LATDF665HUO/',\n",
       "   'label': '_1'},\n",
       "  {'raw_matrix': '/raw-matrix-files/LATDF565IPN/', 'label': '_2'},\n",
       "  {'raw_matrix': '/raw-matrix-files/LATDF070QKM/', 'label': '_3'},\n",
       "  {'raw_matrix': '/raw-matrix-files/LATDF384WBZ/', 'label': '_4'},\n",
       "  {'raw_matrix': '/raw-matrix-files/LATDF796UKR/', 'label': '_5'},\n",
       "  {'raw_matrix': '/raw-matrix-files/LATDF533UDH/', 'label': '_6'},\n",
       "  {'raw_matrix': '/raw-matrix-files/LATDF678UZL/', 'label': '_7'},\n",
       "  {'raw_matrix': '/raw-matrix-files/LATDF719TNR/', 'label': '_8'},\n",
       "  {'raw_matrix': '/raw-matrix-files/LATDF939FYS/', 'label': '_9'},\n",
       "  {'raw_matrix': '/raw-matrix-files/LATDF565CDU/', 'label': '_10'},\n",
       "  {'raw_matrix': '/raw-matrix-files/LATDF435SJY/', 'label': '_11'}],\n",
       " 's3_uri': 's3://submissions-czi115cns/Galvao_2023/PhaseI/Anndata_RNA_CELLxGENE.h5ad'}"
      ]
     },
     "execution_count": 9,
     "metadata": {},
     "output_type": "execute_result"
    }
   ],
   "source": [
    "processed_matrix_report = get_report(\n",
    "    'ProcessedMatrixFile',\n",
    "    f'&@id=/processed-matrix-files/{PROCESSED_MATRIX_ACCESSION}/',\n",
    "    field_list,\n",
    "    connection\n",
    ")[0]\n",
    "processed_matrix_report"
   ]
  },
  {
   "cell_type": "code",
   "execution_count": 11,
   "id": "76122c14",
   "metadata": {},
   "outputs": [
    {
     "data": {
      "application/vnd.microsoft.datawrangler.viewer.v0+json": {
       "columns": [
        {
         "name": "index",
         "rawType": "object",
         "type": "string"
        },
        {
         "name": "0",
         "rawType": "object",
         "type": "string"
        }
       ],
       "ref": "3a31974e-efa4-4258-9453-a51db3f6ded2",
       "rows": [
        [
         "AAACCGCGTGCATTAG-1_1",
         "AAACCGCGTGCATTAG-1_1"
        ],
        [
         "AAAGGAGCAATCCTAG-1_1",
         "AAAGGAGCAATCCTAG-1_1"
        ],
        [
         "AAAGGCTCATCCCGCT-1_1",
         "AAAGGCTCATCCCGCT-1_1"
        ],
        [
         "AAATGCCTCTTGTTCG-1_1",
         "AAATGCCTCTTGTTCG-1_1"
        ],
        [
         "AACAAAGGTTGTTCAC-1_1",
         "AACAAAGGTTGTTCAC-1_1"
        ],
        [
         "AACATAGCATTAGCGC-1_1",
         "AACATAGCATTAGCGC-1_1"
        ],
        [
         "AACCGGCTCTCGCCCA-1_1",
         "AACCGGCTCTCGCCCA-1_1"
        ],
        [
         "AACCTCCTCCTAGTTT-1_1",
         "AACCTCCTCCTAGTTT-1_1"
        ],
        [
         "AACCTTAAGGCTGTGC-1_1",
         "AACCTTAAGGCTGTGC-1_1"
        ],
        [
         "AACCTTGCACATTGCA-1_1",
         "AACCTTGCACATTGCA-1_1"
        ],
        [
         "AACGCCCAGTCAGTAC-1_1",
         "AACGCCCAGTCAGTAC-1_1"
        ],
        [
         "AACTCACAGTCAGGCC-1_1",
         "AACTCACAGTCAGGCC-1_1"
        ],
        [
         "AACTGTTCACAGAAAC-1_1",
         "AACTGTTCACAGAAAC-1_1"
        ],
        [
         "AAGAACAGTTCGCTTG-1_1",
         "AAGAACAGTTCGCTTG-1_1"
        ],
        [
         "AAGACATAGCCGCAAC-1_1",
         "AAGACATAGCCGCAAC-1_1"
        ],
        [
         "AAGACATAGCGAGTAA-1_1",
         "AAGACATAGCGAGTAA-1_1"
        ],
        [
         "AAGACCAAGCGGATAA-1_1",
         "AAGACCAAGCGGATAA-1_1"
        ],
        [
         "AAGCCACGTTGCACGG-1_1",
         "AAGCCACGTTGCACGG-1_1"
        ],
        [
         "AAGCCTTAGCTGTAAC-1_1",
         "AAGCCTTAGCTGTAAC-1_1"
        ],
        [
         "AAGCCTTAGTCATTTC-1_1",
         "AAGCCTTAGTCATTTC-1_1"
        ],
        [
         "AAGCGTTTCTCACACC-1_1",
         "AAGCGTTTCTCACACC-1_1"
        ],
        [
         "AAGCTTGGTGCAACTA-1_1",
         "AAGCTTGGTGCAACTA-1_1"
        ],
        [
         "AAGGCCCTCCCTCAAC-1_1",
         "AAGGCCCTCCCTCAAC-1_1"
        ],
        [
         "AAGGTCAAGTATTGGC-1_1",
         "AAGGTCAAGTATTGGC-1_1"
        ],
        [
         "AAGTCTATCTTGATGA-1_1",
         "AAGTCTATCTTGATGA-1_1"
        ],
        [
         "AAGTGTTGTAAGGTTT-1_1",
         "AAGTGTTGTAAGGTTT-1_1"
        ],
        [
         "AAGTGTTGTCATTGTC-1_1",
         "AAGTGTTGTCATTGTC-1_1"
        ],
        [
         "AAGTTTGTCATTGCAA-1_1",
         "AAGTTTGTCATTGCAA-1_1"
        ],
        [
         "AAGTTTGTCGGTTTGG-1_1",
         "AAGTTTGTCGGTTTGG-1_1"
        ],
        [
         "AATAACCGTTAAGCCA-1_1",
         "AATAACCGTTAAGCCA-1_1"
        ],
        [
         "AATAACCGTTAGGTGC-1_1",
         "AATAACCGTTAGGTGC-1_1"
        ],
        [
         "AATACCGGTCATTGAG-1_1",
         "AATACCGGTCATTGAG-1_1"
        ],
        [
         "AATAGCTGTCTTGCAT-1_1",
         "AATAGCTGTCTTGCAT-1_1"
        ],
        [
         "AATAGCTGTGTGAGGA-1_1",
         "AATAGCTGTGTGAGGA-1_1"
        ],
        [
         "AATATCCCAATATAGG-1_1",
         "AATATCCCAATATAGG-1_1"
        ],
        [
         "AATCAGGAGGATTGCT-1_1",
         "AATCAGGAGGATTGCT-1_1"
        ],
        [
         "AATCATGTCTCATCAT-1_1",
         "AATCATGTCTCATCAT-1_1"
        ],
        [
         "AATCGCCCAGAGGGAG-1_1",
         "AATCGCCCAGAGGGAG-1_1"
        ],
        [
         "AATCGCCCATAAAGCA-1_1",
         "AATCGCCCATAAAGCA-1_1"
        ],
        [
         "AATCTTGAGTGGCGGA-1_1",
         "AATCTTGAGTGGCGGA-1_1"
        ],
        [
         "AATGTCATCCTTTACG-1_1",
         "AATGTCATCCTTTACG-1_1"
        ],
        [
         "AATTGCTCATTGTGCA-1_1",
         "AATTGCTCATTGTGCA-1_1"
        ],
        [
         "AATTGGACAAATTCGT-1_1",
         "AATTGGACAAATTCGT-1_1"
        ],
        [
         "AATTGGGAGGCTAAGA-1_1",
         "AATTGGGAGGCTAAGA-1_1"
        ],
        [
         "ACAAAGGTCACAGGAA-1_1",
         "ACAAAGGTCACAGGAA-1_1"
        ],
        [
         "ACAAAGGTCTACTAAG-1_1",
         "ACAAAGGTCTACTAAG-1_1"
        ],
        [
         "ACAACACTCAGCCAAT-1_1",
         "ACAACACTCAGCCAAT-1_1"
        ],
        [
         "ACAACACTCCTAACGG-1_1",
         "ACAACACTCCTAACGG-1_1"
        ],
        [
         "ACACGGACAGCCAGTT-1_1",
         "ACACGGACAGCCAGTT-1_1"
        ],
        [
         "ACAGTATGTAGACAAA-1_1",
         "ACAGTATGTAGACAAA-1_1"
        ]
       ],
       "shape": {
        "columns": 1,
        "rows": 61525
       }
      },
      "text/plain": [
       "AAACCGCGTGCATTAG-1_1      AAACCGCGTGCATTAG-1_1\n",
       "AAAGGAGCAATCCTAG-1_1      AAAGGAGCAATCCTAG-1_1\n",
       "AAAGGCTCATCCCGCT-1_1      AAAGGCTCATCCCGCT-1_1\n",
       "AAATGCCTCTTGTTCG-1_1      AAATGCCTCTTGTTCG-1_1\n",
       "AACAAAGGTTGTTCAC-1_1      AACAAAGGTTGTTCAC-1_1\n",
       "                                 ...          \n",
       "TTTGTGTTCTCCATGC-1_11    TTTGTGTTCTCCATGC-1_11\n",
       "TTTGTTGGTCTAACAG-1_11    TTTGTTGGTCTAACAG-1_11\n",
       "TTTGTTGGTTGGCCGA-1_11    TTTGTTGGTTGGCCGA-1_11\n",
       "TTTGTTGGTTTATCGC-1_11    TTTGTTGGTTTATCGC-1_11\n",
       "TTTGTTGGTTTGACCT-1_11    TTTGTTGGTTTGACCT-1_11\n",
       "Length: 61525, dtype: object"
      ]
     },
     "execution_count": 11,
     "metadata": {},
     "output_type": "execute_result"
    }
   ],
   "source": [
    "h5ad_uri = URIPath(processed_matrix_report['s3_uri'])\n",
    "with h5py.File(fs.open(h5ad_uri.full_uri)) as f:\n",
    "    barcodes = read_elem(f['obs']).index.to_series()\n",
    "\n",
    "barcodes"
   ]
  },
  {
   "cell_type": "code",
   "execution_count": 12,
   "id": "f43ef1a1",
   "metadata": {},
   "outputs": [
    {
     "name": "stdout",
     "output_type": "stream",
     "text": [
      "LATDF665HUO\n",
      "_1\n",
      "suffix\n",
      "atac_fragments.tsv.gz\n",
      "LATDF665HUO_atac_fragments.tsv.gz\n",
      "False\n",
      "========================================\n",
      "LATDF565IPN\n",
      "_2\n",
      "suffix\n",
      "atac_fragments.tsv.gz\n",
      "LATDF565IPN_atac_fragments.tsv.gz\n",
      "False\n",
      "========================================\n",
      "LATDF070QKM\n",
      "_3\n",
      "suffix\n",
      "atac_fragments.tsv.gz\n",
      "LATDF070QKM_atac_fragments.tsv.gz\n",
      "False\n",
      "========================================\n",
      "LATDF384WBZ\n",
      "_4\n",
      "suffix\n",
      "atac_fragments.tsv.gz\n",
      "LATDF384WBZ_atac_fragments.tsv.gz\n",
      "False\n",
      "========================================\n",
      "LATDF796UKR\n",
      "_5\n",
      "suffix\n",
      "atac_fragments.tsv.gz\n",
      "LATDF796UKR_atac_fragments.tsv.gz\n",
      "False\n",
      "========================================\n",
      "LATDF533UDH\n",
      "_6\n",
      "suffix\n",
      "atac_fragments.tsv.gz\n",
      "LATDF533UDH_atac_fragments.tsv.gz\n",
      "False\n",
      "========================================\n",
      "LATDF678UZL\n",
      "_7\n",
      "suffix\n",
      "atac_fragments.tsv.gz\n",
      "LATDF678UZL_atac_fragments.tsv.gz\n",
      "False\n",
      "========================================\n",
      "LATDF719TNR\n",
      "_8\n",
      "suffix\n",
      "atac_fragments.tsv.gz\n",
      "LATDF719TNR_atac_fragments.tsv.gz\n",
      "False\n",
      "========================================\n",
      "LATDF939FYS\n",
      "_9\n",
      "suffix\n",
      "atac_fragments.tsv.gz\n",
      "LATDF939FYS_atac_fragments.tsv.gz\n",
      "False\n",
      "========================================\n",
      "LATDF565CDU\n",
      "_10\n",
      "suffix\n",
      "atac_fragments.tsv.gz\n",
      "LATDF565CDU_atac_fragments.tsv.gz\n",
      "False\n",
      "========================================\n",
      "LATDF435SJY\n",
      "_11\n",
      "suffix\n",
      "atac_fragments.tsv.gz\n",
      "LATDF435SJY_atac_fragments.tsv.gz\n",
      "False\n",
      "========================================\n",
      "{'raw_matrix': '/raw-matrix-files/LATDF665HUO/', 'label': '_1', 'fragment_file_s3_uri': 's3://submissions-czi115cns/Galvao_2023/PhaseI/G120_F1_N/CellRanger_outputs/atac_fragments.tsv.gz', 'accession': 'LATDF665HUO'}\n",
      "{'raw_matrix': '/raw-matrix-files/LATDF565IPN/', 'label': '_2', 'fragment_file_s3_uri': 's3://submissions-czi115cns/Galvao_2023/PhaseI/G120_D_TL/CellRanger_outputs/atac_fragments.tsv.gz', 'accession': 'LATDF565IPN'}\n",
      "{'raw_matrix': '/raw-matrix-files/LATDF070QKM/', 'label': '_3', 'fragment_file_s3_uri': 's3://submissions-czi115cns/Galvao_2023/PhaseI/G120_D_FL/CellRanger_outputs/atac_fragments.tsv.gz', 'accession': 'LATDF070QKM'}\n",
      "{'raw_matrix': '/raw-matrix-files/LATDF384WBZ/', 'label': '_4', 'fragment_file_s3_uri': 's3://submissions-czi115cns/Galvao_2023/PhaseI/G133_D_FL/CellRanger_outputs/atac_fragments.tsv.gz', 'accession': 'LATDF384WBZ'}\n",
      "{'raw_matrix': '/raw-matrix-files/LATDF796UKR/', 'label': '_5', 'fragment_file_s3_uri': 's3://submissions-czi115cns/Galvao_2023/PhaseI/G133_N_FL/CellRanger_outputs/atac_fragments.tsv.gz', 'accession': 'LATDF796UKR'}\n",
      "{'raw_matrix': '/raw-matrix-files/LATDF533UDH/', 'label': '_6', 'fragment_file_s3_uri': 's3://submissions-czi115cns/Galvao_2023/PhaseI/G129_D/CellRanger_outputs/atac_fragments.tsv.gz', 'accession': 'LATDF533UDH'}\n",
      "{'raw_matrix': '/raw-matrix-files/LATDF678UZL/', 'label': '_7', 'fragment_file_s3_uri': 's3://submissions-czi115cns/Galvao_2023/PhaseI/G150_D/CellRanger_outputs/atac_fragments.tsv.gz', 'accession': 'LATDF678UZL'}\n",
      "{'raw_matrix': '/raw-matrix-files/LATDF719TNR/', 'label': '_8', 'fragment_file_s3_uri': 's3://submissions-czi115cns/Galvao_2023/PhaseI/G159_D/CellRanger_outputs/atac_fragments.tsv.gz', 'accession': 'LATDF719TNR'}\n",
      "{'raw_matrix': '/raw-matrix-files/LATDF939FYS/', 'label': '_9', 'fragment_file_s3_uri': 's3://submissions-czi115cns/Galvao_2023/PhaseI/G171_D/CellRanger_outputs/atac_fragments.tsv.gz', 'accession': 'LATDF939FYS'}\n",
      "{'raw_matrix': '/raw-matrix-files/LATDF565CDU/', 'label': '_10', 'fragment_file_s3_uri': 's3://submissions-czi115cns/Galvao_2023/PhaseI/G187_D/CellRanger_outputs/atac_fragments.tsv.gz', 'accession': 'LATDF565CDU'}\n",
      "{'raw_matrix': '/raw-matrix-files/LATDF435SJY/', 'label': '_11', 'fragment_file_s3_uri': 's3://submissions-czi115cns/Galvao_2023/PhaseI/G210_D/CellRanger_outputs/atac_fragments.tsv.gz', 'accession': 'LATDF435SJY'}\n"
     ]
    }
   ],
   "source": [
    "master_fragment_file_meta = []\n",
    "for raw_matrix_meta in processed_matrix_report['cell_label_mappings']:\n",
    "    obj_type, filter_url = parse_ids([raw_matrix_meta['raw_matrix']])\n",
    "    raw_matrix_report = get_report(\n",
    "        obj_type, \n",
    "        filter_url, \n",
    "        field_lst=[\n",
    "            'accession', \n",
    "            's3_uri', \n",
    "            'fragment_file_s3_uri'\n",
    "        ], \n",
    "        connection=connection\n",
    "    )[0]\n",
    "    fragment_uri = raw_matrix_report['s3_uri'].replace(\"filtered_feature_bc_matrix.h5\", \"atac_fragments.tsv.gz\")\n",
    "    accession = raw_matrix_report['accession']\n",
    "    raw_matrix_meta['fragment_file_s3_uri'] = fragment_uri\n",
    "    raw_matrix_meta['accession'] = raw_matrix_report['accession']\n",
    "    assert fs.isfile(raw_matrix_meta['fragment_file_s3_uri']), f\"raw matrix{accession} does not have fragment file s3\"\n",
    "    master_fragment_file_meta.append(\n",
    "        FragmentFileMeta(\n",
    "            cell_label_location=processed_matrix_report['cell_label_location'],\n",
    "            label=raw_matrix_meta['label'],\n",
    "            accession=accession,\n",
    "            uri=URIPath(fragment_uri),\n",
    "            barcodes=barcodes\n",
    "        )\n",
    "    )\n",
    "\n",
    "for meta in master_fragment_file_meta:\n",
    "    print(meta.accession)\n",
    "    print(meta.label)\n",
    "    print(meta.cell_label_location)\n",
    "    print(meta.uri.file_name)\n",
    "    print(meta.download_file_name)\n",
    "    print(meta.is_file_local)\n",
    "    print(\"=\" * 40)\n",
    "for matrix in processed_matrix_report['cell_label_mappings']:\n",
    "    print(matrix)"
   ]
  },
  {
   "cell_type": "code",
   "execution_count": 101,
   "id": "97f81109",
   "metadata": {},
   "outputs": [
    {
     "name": "stdout",
     "output_type": "stream",
     "text": [
      "_1\n",
      "s3://submissions-czi115cns/Galvao_2023/PhaseI/G120_F1_N/CellRanger_outputs/atac_fragments.tsv.gz\n",
      "_2\n",
      "s3://submissions-czi115cns/Galvao_2023/PhaseI/G120_D_TL/CellRanger_outputs/atac_fragments.tsv.gz\n",
      "_3\n",
      "s3://submissions-czi115cns/Galvao_2023/PhaseI/G120_D_FL/CellRanger_outputs/atac_fragments.tsv.gz\n",
      "_4\n",
      "s3://submissions-czi115cns/Galvao_2023/PhaseI/G133_D_FL/CellRanger_outputs/atac_fragments.tsv.gz\n",
      "_5\n",
      "s3://submissions-czi115cns/Galvao_2023/PhaseI/G133_N_FL/CellRanger_outputs/atac_fragments.tsv.gz\n",
      "_6\n",
      "s3://submissions-czi115cns/Galvao_2023/PhaseI/G129_D/CellRanger_outputs/atac_fragments.tsv.gz\n",
      "_7\n",
      "s3://submissions-czi115cns/Galvao_2023/PhaseI/G150_D/CellRanger_outputs/atac_fragments.tsv.gz\n",
      "_8\n",
      "s3://submissions-czi115cns/Galvao_2023/PhaseI/G159_D/CellRanger_outputs/atac_fragments.tsv.gz\n",
      "_9\n",
      "s3://submissions-czi115cns/Galvao_2023/PhaseI/G171_D/CellRanger_outputs/atac_fragments.tsv.gz\n",
      "_10\n",
      "s3://submissions-czi115cns/Galvao_2023/PhaseI/G187_D/CellRanger_outputs/atac_fragments.tsv.gz\n",
      "_11\n",
      "s3://submissions-czi115cns/Galvao_2023/PhaseI/G210_D/CellRanger_outputs/atac_fragments.tsv.gz\n"
     ]
    }
   ],
   "source": [
    "for matrix in processed_matrix_report['cell_label_mappings']:\n",
    "    assert fs.isfile(matrix['fragment_file_s3_uri']), f\"raw matrix{matrix} does not have fragment file s3\"\n",
    "    print(matrix['label'])\n",
    "    print(matrix['fragment_file_s3_uri'])"
   ]
  },
  {
   "cell_type": "code",
   "execution_count": 13,
   "id": "d2c2ede7",
   "metadata": {},
   "outputs": [
    {
     "data": {
      "text/plain": [
       "[('RawMatrixFile', '&@id=/raw-matrix-files/LATDF665HUO/'),\n",
       " ('RawMatrixFile', '&@id=/raw-matrix-files/LATDF565IPN/'),\n",
       " ('RawMatrixFile', '&@id=/raw-matrix-files/LATDF070QKM/'),\n",
       " ('RawMatrixFile', '&@id=/raw-matrix-files/LATDF384WBZ/'),\n",
       " ('RawMatrixFile', '&@id=/raw-matrix-files/LATDF796UKR/'),\n",
       " ('RawMatrixFile', '&@id=/raw-matrix-files/LATDF533UDH/'),\n",
       " ('RawMatrixFile', '&@id=/raw-matrix-files/LATDF678UZL/'),\n",
       " ('RawMatrixFile', '&@id=/raw-matrix-files/LATDF719TNR/'),\n",
       " ('RawMatrixFile', '&@id=/raw-matrix-files/LATDF939FYS/'),\n",
       " ('RawMatrixFile', '&@id=/raw-matrix-files/LATDF565CDU/'),\n",
       " ('RawMatrixFile', '&@id=/raw-matrix-files/LATDF435SJY/')]"
      ]
     },
     "execution_count": 13,
     "metadata": {},
     "output_type": "execute_result"
    }
   ],
   "source": [
    "[parse_ids([raw_matrix_meta['raw_matrix']]) for raw_matrix_meta in processed_matrix_report['cell_label_mappings']]"
   ]
  },
  {
   "cell_type": "code",
   "execution_count": 13,
   "id": "d88811b0",
   "metadata": {},
   "outputs": [
    {
     "data": {
      "text/plain": [
       "{'lab': {'name': 'diogo-troggian-veiga',\n",
       "  'title': 'Diogo Troggian Veiga, UNICAMP',\n",
       "  'status': 'current',\n",
       "  'schema_version': '3',\n",
       "  'institute_name': 'State University of Campinas',\n",
       "  '@id': '/labs/diogo-troggian-veiga/',\n",
       "  '@type': ['Lab', 'Item'],\n",
       "  'uuid': '252a818f-5d43-49fb-bded-302bce6cab1a'},\n",
       " 's3_uri': 's3://submissions-czi115cns/Galvao_2023/PhaseI/Anndata_RNA_CELLxGENE.h5ad',\n",
       " 'status': 'in progress',\n",
       " 'aliases': ['diogo-troggian-veiga:RNA_processed_matrix'],\n",
       " 'dataset': '/datasets/LATDS089SAH/',\n",
       " 'accession': 'LATDF393MGJ',\n",
       " 'validated': False,\n",
       " 'description': 'snRNA-seq data from eight focal cortical dysplasia donors',\n",
       " 'file_format': 'hdf5',\n",
       " 'X_normalized': True,\n",
       " 'date_created': '2024-06-27T20:46:20.687543+00:00',\n",
       " 'derived_from': ['/raw-matrix-files/LATDF070QKM/',\n",
       "  '/raw-matrix-files/LATDF565IPN/',\n",
       "  '/raw-matrix-files/LATDF665HUO/',\n",
       "  '/raw-matrix-files/LATDF533UDH/',\n",
       "  '/raw-matrix-files/LATDF384WBZ/',\n",
       "  '/raw-matrix-files/LATDF796UKR/',\n",
       "  '/raw-matrix-files/LATDF678UZL/',\n",
       "  '/raw-matrix-files/LATDF719TNR/',\n",
       "  '/raw-matrix-files/LATDF939FYS/',\n",
       "  '/raw-matrix-files/LATDF565CDU/',\n",
       "  '/raw-matrix-files/LATDF435SJY/'],\n",
       " 'feature_keys': ['gene symbol'],\n",
       " 'output_types': ['gene quantifications'],\n",
       " 'submitted_by': '/users/614fcd46-301d-4325-a270-a1d3eb2c5ceb/',\n",
       " 'author_columns': ['nCount_RNA',\n",
       "  'nFeature_RNA',\n",
       "  'percent.mito',\n",
       "  'nucleosome_signal',\n",
       "  'TSS.enrichment',\n",
       "  'onset',\n",
       "  'duration',\n",
       "  'lateralization',\n",
       "  'histological_assessment'],\n",
       " 'cellxgene_uuid': '01b84709-139c-4485-98a9-6e14c58fbbf6',\n",
       " 'schema_version': '12',\n",
       " 'is_primary_data': 'True',\n",
       " 'default_embedding': 'X_umap.joint',\n",
       " 'derivation_process': ['single cell analysis pipeline'],\n",
       " 'cell_label_location': 'suffix',\n",
       " 'cell_label_mappings': [{'label': '_1',\n",
       "   'raw_matrix': '/raw-matrix-files/LATDF665HUO/'},\n",
       "  {'label': '_2', 'raw_matrix': '/raw-matrix-files/LATDF565IPN/'},\n",
       "  {'label': '_3', 'raw_matrix': '/raw-matrix-files/LATDF070QKM/'},\n",
       "  {'label': '_4', 'raw_matrix': '/raw-matrix-files/LATDF384WBZ/'},\n",
       "  {'label': '_5', 'raw_matrix': '/raw-matrix-files/LATDF796UKR/'},\n",
       "  {'label': '_6', 'raw_matrix': '/raw-matrix-files/LATDF533UDH/'},\n",
       "  {'label': '_7', 'raw_matrix': '/raw-matrix-files/LATDF678UZL/'},\n",
       "  {'label': '_8', 'raw_matrix': '/raw-matrix-files/LATDF719TNR/'},\n",
       "  {'label': '_9', 'raw_matrix': '/raw-matrix-files/LATDF939FYS/'},\n",
       "  {'label': '_10', 'raw_matrix': '/raw-matrix-files/LATDF565CDU/'},\n",
       "  {'label': '_11', 'raw_matrix': '/raw-matrix-files/LATDF435SJY/'}],\n",
       " 'author_cell_type_column': 'consensus.annot',\n",
       " 'experimental_variable_disease': [{'status': 'in progress',\n",
       "   'term_id': 'MONDO:0011818',\n",
       "   'term_name': 'isolated focal cortical dysplasia type II',\n",
       "   'schema_version': '2',\n",
       "   '@id': '/ontology-terms/MONDO_0011818/',\n",
       "   '@type': ['OntologyTerm', 'Item'],\n",
       "   'uuid': 'a8ed8dbc-3107-4d44-926a-1146c669ff3e',\n",
       "   'name': 'MONDO_0011818',\n",
       "   'synonyms': ['focal cortical dysplasia, type II, somatic',\n",
       "    'FCD type II',\n",
       "    'cortical dysplasia, Taylor type',\n",
       "    'isolated focal cortical dysplasia type 2'],\n",
       "   'ontology_database': 'MONDO'}],\n",
       " 'award': {'url': 'https://chanzuckerberg.com/science/programs-resources/single-cell-biology/pediatric-networks/single-cell-epigenomics-and-transcriptomics-of-the-childhood-brain/',\n",
       "  'name': 'CZI115CNS',\n",
       "  'focus': 'nervous system',\n",
       "  'title': 'Single-Cell Epigenomics and Transcriptomics of the Childhood Brain',\n",
       "  'status': 'current',\n",
       "  'project': 'HCA Pediatric Networks',\n",
       "  'description': 'This project will create a comprehensive cell atlas of the childhood brain by performing joint chromatin and transcriptome profiling at single-cell resolution of healthy tissues from five brain regions and seven donors.',\n",
       "  'schema_version': '2',\n",
       "  'coordinating_pi': '/users/a8d773ca-d999-48b9-ae0b-1abca60e342d/',\n",
       "  'CZI_project_identifier': 'DAF2021-237598',\n",
       "  'principal_investigators': ['/users/a8d773ca-d999-48b9-ae0b-1abca60e342d/',\n",
       "   '/users/e8b0f9e8-8d4c-461d-b59b-81a8013d6fdc/',\n",
       "   '/users/2e3e2734-3db4-4ca5-85a4-9cfd49a6ec2e/',\n",
       "   '/users/72d57f38-f9de-4bdf-8e99-cde20725fd61/'],\n",
       "  '@id': '/awards/CZI115CNS/',\n",
       "  '@type': ['Award', 'Item'],\n",
       "  'uuid': '5ec16f0e-3a2c-45ea-a6ae-cb01b837ddbf'},\n",
       " '@id': '/processed-matrix-files/LATDF393MGJ/',\n",
       " '@type': ['ProcessedMatrixFile', 'AnalysisFile', 'DataFile', 'File', 'Item'],\n",
       " 'uuid': '4a21ff3d-b4bf-4843-8a07-61bf801fa6e6',\n",
       " 'title': 'LATDF393MGJ',\n",
       " 'libraries': ['/libraries/LATLB006LXO/',\n",
       "  '/libraries/LATLB009HFU/',\n",
       "  '/libraries/LATLB040QXI/',\n",
       "  '/libraries/LATLB147VPA/',\n",
       "  '/libraries/LATLB158DAP/',\n",
       "  '/libraries/LATLB207APV/',\n",
       "  '/libraries/LATLB240OJX/',\n",
       "  '/libraries/LATLB254EBG/',\n",
       "  '/libraries/LATLB330WQJ/',\n",
       "  '/libraries/LATLB450TAW/',\n",
       "  '/libraries/LATLB454WGZ/',\n",
       "  '/libraries/LATLB468EDZ/',\n",
       "  '/libraries/LATLB563NKG/',\n",
       "  '/libraries/LATLB584INC/',\n",
       "  '/libraries/LATLB599DRC/',\n",
       "  '/libraries/LATLB844VHX/',\n",
       "  '/libraries/LATLB890PXS/',\n",
       "  '/libraries/LATLB892RTZ/',\n",
       "  '/libraries/LATLB937TFZ/',\n",
       "  '/libraries/LATLB968DNP/',\n",
       "  '/libraries/LATLB973OCP/',\n",
       "  '/libraries/LATLB997UBM/'],\n",
       " 'assays': ['snRNA-seq'],\n",
       " 'cell_annotations': [{'status': 'in progress',\n",
       "   'aliases': ['diogo-troggian-veiga:EN_L2_3'],\n",
       "   'matrix_files': ['/processed-matrix-files/LATDF393MGJ/'],\n",
       "   'cell_ontology': {'status': 'in progress',\n",
       "    'term_id': 'CL:4030059',\n",
       "    'term_name': 'L2/3 intratelencephalic projecting glutamatergic neuron',\n",
       "    'schema_version': '2',\n",
       "    '@id': '/ontology-terms/CL_4030059/',\n",
       "    '@type': ['OntologyTerm', 'Item'],\n",
       "    'uuid': '4bd5e566-36b2-48b8-bdb9-6cb9c791dd9a',\n",
       "    'name': 'CL_4030059',\n",
       "    'cell_slims': ['neural cell'],\n",
       "    'system_slims': ['nervous system'],\n",
       "    'qa_slims': ['cell'],\n",
       "    'ontology_database': 'CL'},\n",
       "   'schema_version': '2',\n",
       "   'author_cell_type': 'EN L2/3',\n",
       "   '@id': '/cell-annotations/3dbc25be-bc83-4165-bce6-46edceeef8cc/',\n",
       "   '@type': ['CellAnnotation', 'Item'],\n",
       "   'uuid': '3dbc25be-bc83-4165-bce6-46edceeef8cc'},\n",
       "  {'status': 'in progress',\n",
       "   'aliases': ['diogo-troggian-veiga:Endo'],\n",
       "   'matrix_files': ['/processed-matrix-files/LATDF393MGJ/'],\n",
       "   'cell_ontology': {'status': 'in progress',\n",
       "    'term_id': 'CL:0000115',\n",
       "    'term_name': 'endothelial cell',\n",
       "    'schema_version': '2',\n",
       "    '@id': '/ontology-terms/CL_0000115/',\n",
       "    '@type': ['OntologyTerm', 'Item'],\n",
       "    'uuid': 'd87d9e08-be8a-4df1-9990-1c2c67e64fd0',\n",
       "    'name': 'CL_0000115',\n",
       "    'cell_slims': ['endothelial cell'],\n",
       "    'qa_slims': ['cell'],\n",
       "    'synonyms': ['endotheliocyte'],\n",
       "    'ontology_database': 'CL'},\n",
       "   'schema_version': '2',\n",
       "   'author_cell_type': 'Endo',\n",
       "   '@id': '/cell-annotations/1dc07ee4-1f8e-466c-a00c-0ff7b68dfe0a/',\n",
       "   '@type': ['CellAnnotation', 'Item'],\n",
       "   'uuid': '1dc07ee4-1f8e-466c-a00c-0ff7b68dfe0a'},\n",
       "  {'status': 'in progress',\n",
       "   'aliases': ['diogo-troggian-veiga:EN_L5'],\n",
       "   'matrix_files': ['/processed-matrix-files/LATDF393MGJ/'],\n",
       "   'cell_ontology': {'status': 'in progress',\n",
       "    'term_id': 'CL:0000679',\n",
       "    'term_name': 'glutamatergic neuron',\n",
       "    'schema_version': '2',\n",
       "    '@id': '/ontology-terms/CL_0000679/',\n",
       "    '@type': ['OntologyTerm', 'Item'],\n",
       "    'uuid': 'ca2f47a5-d772-418a-b82e-0078f435ffd1',\n",
       "    'name': 'CL_0000679',\n",
       "    'cell_slims': ['neural cell'],\n",
       "    'system_slims': ['nervous system'],\n",
       "    'qa_slims': ['cell'],\n",
       "    'ontology_database': 'CL'},\n",
       "   'schema_version': '2',\n",
       "   'author_cell_type': 'EN L5',\n",
       "   '@id': '/cell-annotations/d539009c-255a-49bf-b0d4-9296925f3a75/',\n",
       "   '@type': ['CellAnnotation', 'Item'],\n",
       "   'uuid': 'd539009c-255a-49bf-b0d4-9296925f3a75'},\n",
       "  {'status': 'in progress',\n",
       "   'aliases': ['diogo-troggian-veiga:Astro'],\n",
       "   'matrix_files': ['/processed-matrix-files/LATDF393MGJ/'],\n",
       "   'cell_ontology': {'status': 'in progress',\n",
       "    'term_id': 'CL:0000127',\n",
       "    'term_name': 'astrocyte',\n",
       "    'schema_version': '2',\n",
       "    '@id': '/ontology-terms/CL_0000127/',\n",
       "    '@type': ['OntologyTerm', 'Item'],\n",
       "    'uuid': 'dcd20a0c-19a3-4dd4-b694-215305437b9c',\n",
       "    'name': 'CL_0000127',\n",
       "    'cell_slims': ['neural cell'],\n",
       "    'system_slims': ['nervous system'],\n",
       "    'qa_slims': ['cell'],\n",
       "    'synonyms': ['astrocytic glia'],\n",
       "    'ontology_database': 'CL'},\n",
       "   'schema_version': '2',\n",
       "   'author_cell_type': 'Astro',\n",
       "   '@id': '/cell-annotations/2732ba30-7469-4cfe-a2bd-0c27dc6a48c9/',\n",
       "   '@type': ['CellAnnotation', 'Item'],\n",
       "   'uuid': '2732ba30-7469-4cfe-a2bd-0c27dc6a48c9'},\n",
       "  {'status': 'in progress',\n",
       "   'aliases': ['diogo-troggian-veiga:Pvalb'],\n",
       "   'matrix_files': ['/processed-matrix-files/LATDF393MGJ/'],\n",
       "   'cell_ontology': {'status': 'in progress',\n",
       "    'term_id': 'CL:4023018',\n",
       "    'term_name': 'pvalb GABAergic cortical interneuron',\n",
       "    'schema_version': '2',\n",
       "    '@id': '/ontology-terms/CL_4023018/',\n",
       "    '@type': ['OntologyTerm', 'Item'],\n",
       "    'uuid': 'eeb7fb99-7275-481a-a27a-128eba459980',\n",
       "    'name': 'CL_4023018',\n",
       "    'cell_slims': ['neural cell'],\n",
       "    'system_slims': ['nervous system'],\n",
       "    'qa_slims': ['cell'],\n",
       "    'ontology_database': 'CL'},\n",
       "   'schema_version': '2',\n",
       "   'author_cell_type': 'Pvalb',\n",
       "   '@id': '/cell-annotations/387cd49b-b783-4525-9d81-a7b294926d6f/',\n",
       "   '@type': ['CellAnnotation', 'Item'],\n",
       "   'uuid': '387cd49b-b783-4525-9d81-a7b294926d6f'},\n",
       "  {'status': 'in progress',\n",
       "   'aliases': ['diogo-troggian-veiga:EN_L6'],\n",
       "   'matrix_files': ['/processed-matrix-files/LATDF393MGJ/'],\n",
       "   'cell_ontology': {'status': 'in progress',\n",
       "    'term_id': 'CL:0000679',\n",
       "    'term_name': 'glutamatergic neuron',\n",
       "    'schema_version': '2',\n",
       "    '@id': '/ontology-terms/CL_0000679/',\n",
       "    '@type': ['OntologyTerm', 'Item'],\n",
       "    'uuid': 'ca2f47a5-d772-418a-b82e-0078f435ffd1',\n",
       "    'name': 'CL_0000679',\n",
       "    'cell_slims': ['neural cell'],\n",
       "    'system_slims': ['nervous system'],\n",
       "    'qa_slims': ['cell'],\n",
       "    'ontology_database': 'CL'},\n",
       "   'schema_version': '2',\n",
       "   'author_cell_type': 'EN L6',\n",
       "   '@id': '/cell-annotations/3e0da820-b865-4699-b928-662edae3922f/',\n",
       "   '@type': ['CellAnnotation', 'Item'],\n",
       "   'uuid': '3e0da820-b865-4699-b928-662edae3922f'},\n",
       "  {'status': 'in progress',\n",
       "   'aliases': ['diogo-troggian-veiga:Sncg_Lamp5'],\n",
       "   'matrix_files': ['/processed-matrix-files/LATDF393MGJ/'],\n",
       "   'cell_ontology': {'status': 'in progress',\n",
       "    'term_id': 'CL:0010011',\n",
       "    'term_name': 'cerebral cortex GABAergic interneuron',\n",
       "    'schema_version': '2',\n",
       "    '@id': '/ontology-terms/CL_0010011/',\n",
       "    '@type': ['OntologyTerm', 'Item'],\n",
       "    'uuid': '82c7a96c-eae9-4942-8f6e-4a257279ecd1',\n",
       "    'name': 'CL_0010011',\n",
       "    'cell_slims': ['neural cell'],\n",
       "    'system_slims': ['nervous system'],\n",
       "    'qa_slims': ['cell'],\n",
       "    'ontology_database': 'CL'},\n",
       "   'schema_version': '2',\n",
       "   'author_cell_type': 'Sncg/Lamp5',\n",
       "   '@id': '/cell-annotations/52f50b9d-c6ff-4481-9edb-76dd73b1ff8f/',\n",
       "   '@type': ['CellAnnotation', 'Item'],\n",
       "   'uuid': '52f50b9d-c6ff-4481-9edb-76dd73b1ff8f'},\n",
       "  {'status': 'in progress',\n",
       "   'aliases': ['diogo-troggian-veiga:EN_L5_6'],\n",
       "   'matrix_files': ['/processed-matrix-files/LATDF393MGJ/'],\n",
       "   'cell_ontology': {'status': 'in progress',\n",
       "    'term_id': 'CL:0000679',\n",
       "    'term_name': 'glutamatergic neuron',\n",
       "    'schema_version': '2',\n",
       "    '@id': '/ontology-terms/CL_0000679/',\n",
       "    '@type': ['OntologyTerm', 'Item'],\n",
       "    'uuid': 'ca2f47a5-d772-418a-b82e-0078f435ffd1',\n",
       "    'name': 'CL_0000679',\n",
       "    'cell_slims': ['neural cell'],\n",
       "    'system_slims': ['nervous system'],\n",
       "    'qa_slims': ['cell'],\n",
       "    'ontology_database': 'CL'},\n",
       "   'schema_version': '2',\n",
       "   'author_cell_type': 'EN L5/6',\n",
       "   '@id': '/cell-annotations/83bd8f36-0827-44fb-949c-e32b37e8d3b1/',\n",
       "   '@type': ['CellAnnotation', 'Item'],\n",
       "   'uuid': '83bd8f36-0827-44fb-949c-e32b37e8d3b1'},\n",
       "  {'status': 'in progress',\n",
       "   'aliases': ['diogo-troggian-veiga:Sst'],\n",
       "   'matrix_files': ['/processed-matrix-files/LATDF393MGJ/'],\n",
       "   'cell_ontology': {'status': 'in progress',\n",
       "    'term_id': 'CL:4023017',\n",
       "    'term_name': 'sst GABAergic cortical interneuron',\n",
       "    'schema_version': '2',\n",
       "    '@id': '/ontology-terms/CL_4023017/',\n",
       "    '@type': ['OntologyTerm', 'Item'],\n",
       "    'uuid': '59b58f80-9864-49df-b667-d1168a8c1664',\n",
       "    'name': 'CL_4023017',\n",
       "    'cell_slims': ['neural cell'],\n",
       "    'system_slims': ['nervous system'],\n",
       "    'qa_slims': ['cell'],\n",
       "    'ontology_database': 'CL'},\n",
       "   'schema_version': '2',\n",
       "   'author_cell_type': 'Sst',\n",
       "   '@id': '/cell-annotations/fca26cb3-572e-43c0-a1d3-0e1565c09251/',\n",
       "   '@type': ['CellAnnotation', 'Item'],\n",
       "   'uuid': 'fca26cb3-572e-43c0-a1d3-0e1565c09251'},\n",
       "  {'status': 'in progress',\n",
       "   'aliases': ['diogo-troggian-veiga:OPC'],\n",
       "   'matrix_files': ['/processed-matrix-files/LATDF393MGJ/'],\n",
       "   'cell_ontology': {'status': 'in progress',\n",
       "    'term_id': 'CL:0002453',\n",
       "    'term_name': 'oligodendrocyte precursor cell',\n",
       "    'schema_version': '2',\n",
       "    '@id': '/ontology-terms/CL_0002453/',\n",
       "    '@type': ['OntologyTerm', 'Item'],\n",
       "    'uuid': '9b509361-df3d-4b19-a98b-5566d40aeebf',\n",
       "    'name': 'CL_0002453',\n",
       "    'cell_slims': ['neural cell'],\n",
       "    'system_slims': ['central nervous system', 'nervous system'],\n",
       "    'qa_slims': ['cell'],\n",
       "    'ontology_database': 'CL'},\n",
       "   'schema_version': '2',\n",
       "   'author_cell_type': 'OPC',\n",
       "   '@id': '/cell-annotations/237c569c-782d-4b79-80a3-c9728c7afab6/',\n",
       "   '@type': ['CellAnnotation', 'Item'],\n",
       "   'uuid': '237c569c-782d-4b79-80a3-c9728c7afab6'},\n",
       "  {'status': 'in progress',\n",
       "   'aliases': ['diogo-troggian-veiga:Vip'],\n",
       "   'matrix_files': ['/processed-matrix-files/LATDF393MGJ/'],\n",
       "   'cell_ontology': {'status': 'in progress',\n",
       "    'term_id': 'CL:4023016',\n",
       "    'term_name': 'VIP GABAergic cortical interneuron',\n",
       "    'schema_version': '2',\n",
       "    '@id': '/ontology-terms/CL_4023016/',\n",
       "    '@type': ['OntologyTerm', 'Item'],\n",
       "    'uuid': '6bb157e9-0d17-4d84-b668-8a85e73962b2',\n",
       "    'name': 'CL_4023016',\n",
       "    'cell_slims': ['neural cell'],\n",
       "    'system_slims': ['nervous system'],\n",
       "    'qa_slims': ['cell'],\n",
       "    'ontology_database': 'CL'},\n",
       "   'schema_version': '2',\n",
       "   'author_cell_type': 'Vip',\n",
       "   '@id': '/cell-annotations/ecc433aa-602d-44f1-a8d7-3fc5f9804cc1/',\n",
       "   '@type': ['CellAnnotation', 'Item'],\n",
       "   'uuid': 'ecc433aa-602d-44f1-a8d7-3fc5f9804cc1'},\n",
       "  {'status': 'in progress',\n",
       "   'aliases': ['diogo-troggian-veiga:Unclassified'],\n",
       "   'matrix_files': ['/processed-matrix-files/LATDF393MGJ/'],\n",
       "   'cell_ontology': {'status': 'in progress',\n",
       "    'term_id': 'NCIT:C17998',\n",
       "    'term_name': 'Unknown',\n",
       "    'schema_version': '2',\n",
       "    '@id': '/ontology-terms/NCIT_C17998/',\n",
       "    '@type': ['OntologyTerm', 'Item'],\n",
       "    'uuid': '9ccb9d0b-1747-4ad1-969a-769286937021',\n",
       "    'name': 'NCIT_C17998',\n",
       "    'synonyms': ['Not Known',\n",
       "     'UNKNOWN',\n",
       "     'Unknown/Not Stated',\n",
       "     'UNK',\n",
       "     'Unknown',\n",
       "     '{Unknown}',\n",
       "     'U'],\n",
       "    'ontology_database': 'NCIT'},\n",
       "   'schema_version': '2',\n",
       "   'author_cell_type': 'Unclassified',\n",
       "   '@id': '/cell-annotations/81bc8394-9c9a-46df-a356-70e2ff8d7f75/',\n",
       "   '@type': ['CellAnnotation', 'Item'],\n",
       "   'uuid': '81bc8394-9c9a-46df-a356-70e2ff8d7f75'},\n",
       "  {'status': 'in progress',\n",
       "   'aliases': ['diogo-troggian-veiga:Microglia'],\n",
       "   'matrix_files': ['/processed-matrix-files/LATDF393MGJ/'],\n",
       "   'cell_ontology': {'status': 'in progress',\n",
       "    'term_id': 'CL:0000129',\n",
       "    'term_name': 'microglial cell',\n",
       "    'schema_version': '2',\n",
       "    '@id': '/ontology-terms/CL_0000129/',\n",
       "    '@type': ['OntologyTerm', 'Item'],\n",
       "    'uuid': '9c5d5a4b-3675-4c9f-ae09-743977ab1b9c',\n",
       "    'name': 'CL_0000129',\n",
       "    'cell_slims': ['myeloid cell',\n",
       "     'leukocyte',\n",
       "     'hematopoietic cell',\n",
       "     'neural cell'],\n",
       "    'system_slims': ['immune system',\n",
       "     'central nervous system',\n",
       "     'nervous system'],\n",
       "    'qa_slims': ['cell'],\n",
       "    'synonyms': ['hortega cells',\n",
       "     'brain-resident macrophage',\n",
       "     'microgliocyte'],\n",
       "    'ontology_database': 'CL'},\n",
       "   'schema_version': '2',\n",
       "   'author_cell_type': 'Microglia',\n",
       "   '@id': '/cell-annotations/c7559031-7af0-433a-b5bb-a6760a5cfb2f/',\n",
       "   '@type': ['CellAnnotation', 'Item'],\n",
       "   'uuid': 'c7559031-7af0-433a-b5bb-a6760a5cfb2f'},\n",
       "  {'status': 'in progress',\n",
       "   'aliases': ['diogo-troggian-veiga:VLMC'],\n",
       "   'matrix_files': ['/processed-matrix-files/LATDF393MGJ/'],\n",
       "   'cell_ontology': {'status': 'in progress',\n",
       "    'term_id': 'CL:4023051',\n",
       "    'term_name': 'vascular leptomeningeal cell',\n",
       "    'schema_version': '2',\n",
       "    '@id': '/ontology-terms/CL_4023051/',\n",
       "    '@type': ['OntologyTerm', 'Item'],\n",
       "    'uuid': 'e17d9619-6b80-43e1-8b5b-ff380fb4d2af',\n",
       "    'name': 'CL_4023051',\n",
       "    'organ_slims': ['connective tissue'],\n",
       "    'cell_slims': ['fibroblast', 'connective tissue cell', 'neural cell'],\n",
       "    'system_slims': ['central nervous system', 'nervous system'],\n",
       "    'qa_slims': ['cell'],\n",
       "    'synonyms': ['VLMC'],\n",
       "    'ontology_database': 'CL'},\n",
       "   'schema_version': '2',\n",
       "   'author_cell_type': 'VLMC',\n",
       "   '@id': '/cell-annotations/dcb906eb-4d2f-4042-aad1-72bfb49b7b36/',\n",
       "   '@type': ['CellAnnotation', 'Item'],\n",
       "   'uuid': 'dcb906eb-4d2f-4042-aad1-72bfb49b7b36'},\n",
       "  {'status': 'in progress',\n",
       "   'aliases': ['diogo-troggian-veiga:Lamp5'],\n",
       "   'matrix_files': ['/processed-matrix-files/LATDF393MGJ/'],\n",
       "   'cell_ontology': {'status': 'in progress',\n",
       "    'term_id': 'CL:4023011',\n",
       "    'term_name': 'lamp5 GABAergic cortical interneuron',\n",
       "    'schema_version': '2',\n",
       "    '@id': '/ontology-terms/CL_4023011/',\n",
       "    '@type': ['OntologyTerm', 'Item'],\n",
       "    'uuid': 'd0ade47a-1194-487d-bd7f-d15f55e372d7',\n",
       "    'name': 'CL_4023011',\n",
       "    'cell_slims': ['neural cell'],\n",
       "    'system_slims': ['nervous system'],\n",
       "    'qa_slims': ['cell'],\n",
       "    'ontology_database': 'CL'},\n",
       "   'schema_version': '2',\n",
       "   'author_cell_type': 'Lamp5',\n",
       "   '@id': '/cell-annotations/8bcf839e-ef3f-44be-91e6-9096f96bda48/',\n",
       "   '@type': ['CellAnnotation', 'Item'],\n",
       "   'uuid': '8bcf839e-ef3f-44be-91e6-9096f96bda48'},\n",
       "  {'status': 'in progress',\n",
       "   'aliases': ['diogo-troggian-veiga:OPC_Diff'],\n",
       "   'matrix_files': ['/processed-matrix-files/LATDF393MGJ/'],\n",
       "   'cell_ontology': {'status': 'in progress',\n",
       "    'term_id': 'CL:4023059',\n",
       "    'term_name': 'differentiation-committed oligodendrocyte precursor',\n",
       "    'schema_version': '2',\n",
       "    '@id': '/ontology-terms/CL_4023059/',\n",
       "    '@type': ['OntologyTerm', 'Item'],\n",
       "    'uuid': '9ff206c2-1e76-4ae4-b76f-828d8e366ef7',\n",
       "    'name': 'CL_4023059',\n",
       "    'cell_slims': ['neural cell'],\n",
       "    'system_slims': ['nervous system'],\n",
       "    'qa_slims': ['cell'],\n",
       "    'synonyms': ['committed oligodendrocyte precursor', 'COP'],\n",
       "    'ontology_database': 'CL'},\n",
       "   'schema_version': '2',\n",
       "   'author_cell_type': 'OPC Diff.',\n",
       "   '@id': '/cell-annotations/1ceb4034-a095-432d-a57e-ea77df7fe65f/',\n",
       "   '@type': ['CellAnnotation', 'Item'],\n",
       "   'uuid': '1ceb4034-a095-432d-a57e-ea77df7fe65f'},\n",
       "  {'status': 'in progress',\n",
       "   'aliases': ['diogo-troggian-veiga:Oligo'],\n",
       "   'matrix_files': ['/processed-matrix-files/LATDF393MGJ/'],\n",
       "   'cell_ontology': {'status': 'in progress',\n",
       "    'term_id': 'CL:0000128',\n",
       "    'term_name': 'oligodendrocyte',\n",
       "    'schema_version': '2',\n",
       "    '@id': '/ontology-terms/CL_0000128/',\n",
       "    '@type': ['OntologyTerm', 'Item'],\n",
       "    'uuid': '1fd3a701-a1e9-41a0-a60d-f5b8a4d985ef',\n",
       "    'name': 'CL_0000128',\n",
       "    'cell_slims': ['neural cell'],\n",
       "    'system_slims': ['central nervous system', 'nervous system'],\n",
       "    'qa_slims': ['cell'],\n",
       "    'synonyms': ['OLs'],\n",
       "    'ontology_database': 'CL'},\n",
       "   'schema_version': '2',\n",
       "   'author_cell_type': 'Oligo',\n",
       "   '@id': '/cell-annotations/14a5fa9f-7367-40f7-bc54-57b28403f767/',\n",
       "   '@type': ['CellAnnotation', 'Item'],\n",
       "   'uuid': '14a5fa9f-7367-40f7-bc54-57b28403f767'}],\n",
       " 'genome_annotations': ['GENCODE 32'],\n",
       " 'assemblies': ['GRCh38'],\n",
       " '@context': '/terms/',\n",
       " 'actions': [{'name': 'edit',\n",
       "   'title': 'Edit',\n",
       "   'profile': '/profiles/ProcessedMatrixFile.json',\n",
       "   'href': '/processed-matrix-files/LATDF393MGJ/#!edit'},\n",
       "  {'name': 'edit-json',\n",
       "   'title': 'Edit JSON',\n",
       "   'profile': '/profiles/ProcessedMatrixFile.json',\n",
       "   'href': '/processed-matrix-files/LATDF393MGJ/#!edit-json'}],\n",
       " 'audit': {}}"
      ]
     },
     "execution_count": 13,
     "metadata": {},
     "output_type": "execute_result"
    }
   ],
   "source": [
    "processed_matrix_file_json = get_object('LATDF393MGJ', connection)\n",
    "processed_matrix_file_json"
   ]
  },
  {
   "cell_type": "code",
   "execution_count": 14,
   "id": "8956e52d",
   "metadata": {},
   "outputs": [
    {
     "data": {
      "application/vnd.microsoft.datawrangler.viewer.v0+json": {
       "columns": [
        {
         "name": "index",
         "rawType": "object",
         "type": "string"
        },
        {
         "name": "0",
         "rawType": "object",
         "type": "string"
        },
        {
         "name": "1",
         "rawType": "object",
         "type": "string"
        }
       ],
       "ref": "00afcd85-397b-41dc-9773-80ce9573ba8e",
       "rows": [
        [
         "AAACCGCGTGCATTAG-1_1",
         "AAACCGCGTGCATTAG-1",
         "1"
        ],
        [
         "AAAGGAGCAATCCTAG-1_1",
         "AAAGGAGCAATCCTAG-1",
         "1"
        ],
        [
         "AAAGGCTCATCCCGCT-1_1",
         "AAAGGCTCATCCCGCT-1",
         "1"
        ],
        [
         "AAATGCCTCTTGTTCG-1_1",
         "AAATGCCTCTTGTTCG-1",
         "1"
        ],
        [
         "AACAAAGGTTGTTCAC-1_1",
         "AACAAAGGTTGTTCAC-1",
         "1"
        ],
        [
         "AACATAGCATTAGCGC-1_1",
         "AACATAGCATTAGCGC-1",
         "1"
        ],
        [
         "AACCGGCTCTCGCCCA-1_1",
         "AACCGGCTCTCGCCCA-1",
         "1"
        ],
        [
         "AACCTCCTCCTAGTTT-1_1",
         "AACCTCCTCCTAGTTT-1",
         "1"
        ],
        [
         "AACCTTAAGGCTGTGC-1_1",
         "AACCTTAAGGCTGTGC-1",
         "1"
        ],
        [
         "AACCTTGCACATTGCA-1_1",
         "AACCTTGCACATTGCA-1",
         "1"
        ],
        [
         "AACGCCCAGTCAGTAC-1_1",
         "AACGCCCAGTCAGTAC-1",
         "1"
        ],
        [
         "AACTCACAGTCAGGCC-1_1",
         "AACTCACAGTCAGGCC-1",
         "1"
        ],
        [
         "AACTGTTCACAGAAAC-1_1",
         "AACTGTTCACAGAAAC-1",
         "1"
        ],
        [
         "AAGAACAGTTCGCTTG-1_1",
         "AAGAACAGTTCGCTTG-1",
         "1"
        ],
        [
         "AAGACATAGCCGCAAC-1_1",
         "AAGACATAGCCGCAAC-1",
         "1"
        ],
        [
         "AAGACATAGCGAGTAA-1_1",
         "AAGACATAGCGAGTAA-1",
         "1"
        ],
        [
         "AAGACCAAGCGGATAA-1_1",
         "AAGACCAAGCGGATAA-1",
         "1"
        ],
        [
         "AAGCCACGTTGCACGG-1_1",
         "AAGCCACGTTGCACGG-1",
         "1"
        ],
        [
         "AAGCCTTAGCTGTAAC-1_1",
         "AAGCCTTAGCTGTAAC-1",
         "1"
        ],
        [
         "AAGCCTTAGTCATTTC-1_1",
         "AAGCCTTAGTCATTTC-1",
         "1"
        ],
        [
         "AAGCGTTTCTCACACC-1_1",
         "AAGCGTTTCTCACACC-1",
         "1"
        ],
        [
         "AAGCTTGGTGCAACTA-1_1",
         "AAGCTTGGTGCAACTA-1",
         "1"
        ],
        [
         "AAGGCCCTCCCTCAAC-1_1",
         "AAGGCCCTCCCTCAAC-1",
         "1"
        ],
        [
         "AAGGTCAAGTATTGGC-1_1",
         "AAGGTCAAGTATTGGC-1",
         "1"
        ],
        [
         "AAGTCTATCTTGATGA-1_1",
         "AAGTCTATCTTGATGA-1",
         "1"
        ],
        [
         "AAGTGTTGTAAGGTTT-1_1",
         "AAGTGTTGTAAGGTTT-1",
         "1"
        ],
        [
         "AAGTGTTGTCATTGTC-1_1",
         "AAGTGTTGTCATTGTC-1",
         "1"
        ],
        [
         "AAGTTTGTCATTGCAA-1_1",
         "AAGTTTGTCATTGCAA-1",
         "1"
        ],
        [
         "AAGTTTGTCGGTTTGG-1_1",
         "AAGTTTGTCGGTTTGG-1",
         "1"
        ],
        [
         "AATAACCGTTAAGCCA-1_1",
         "AATAACCGTTAAGCCA-1",
         "1"
        ],
        [
         "AATAACCGTTAGGTGC-1_1",
         "AATAACCGTTAGGTGC-1",
         "1"
        ],
        [
         "AATACCGGTCATTGAG-1_1",
         "AATACCGGTCATTGAG-1",
         "1"
        ],
        [
         "AATAGCTGTCTTGCAT-1_1",
         "AATAGCTGTCTTGCAT-1",
         "1"
        ],
        [
         "AATAGCTGTGTGAGGA-1_1",
         "AATAGCTGTGTGAGGA-1",
         "1"
        ],
        [
         "AATATCCCAATATAGG-1_1",
         "AATATCCCAATATAGG-1",
         "1"
        ],
        [
         "AATCAGGAGGATTGCT-1_1",
         "AATCAGGAGGATTGCT-1",
         "1"
        ],
        [
         "AATCATGTCTCATCAT-1_1",
         "AATCATGTCTCATCAT-1",
         "1"
        ],
        [
         "AATCGCCCAGAGGGAG-1_1",
         "AATCGCCCAGAGGGAG-1",
         "1"
        ],
        [
         "AATCGCCCATAAAGCA-1_1",
         "AATCGCCCATAAAGCA-1",
         "1"
        ],
        [
         "AATCTTGAGTGGCGGA-1_1",
         "AATCTTGAGTGGCGGA-1",
         "1"
        ],
        [
         "AATGTCATCCTTTACG-1_1",
         "AATGTCATCCTTTACG-1",
         "1"
        ],
        [
         "AATTGCTCATTGTGCA-1_1",
         "AATTGCTCATTGTGCA-1",
         "1"
        ],
        [
         "AATTGGACAAATTCGT-1_1",
         "AATTGGACAAATTCGT-1",
         "1"
        ],
        [
         "AATTGGGAGGCTAAGA-1_1",
         "AATTGGGAGGCTAAGA-1",
         "1"
        ],
        [
         "ACAAAGGTCACAGGAA-1_1",
         "ACAAAGGTCACAGGAA-1",
         "1"
        ],
        [
         "ACAAAGGTCTACTAAG-1_1",
         "ACAAAGGTCTACTAAG-1",
         "1"
        ],
        [
         "ACAACACTCAGCCAAT-1_1",
         "ACAACACTCAGCCAAT-1",
         "1"
        ],
        [
         "ACAACACTCCTAACGG-1_1",
         "ACAACACTCCTAACGG-1",
         "1"
        ],
        [
         "ACACGGACAGCCAGTT-1_1",
         "ACACGGACAGCCAGTT-1",
         "1"
        ],
        [
         "ACAGTATGTAGACAAA-1_1",
         "ACAGTATGTAGACAAA-1",
         "1"
        ]
       ],
       "shape": {
        "columns": 2,
        "rows": 61525
       }
      },
      "text/html": [
       "<div>\n",
       "<style scoped>\n",
       "    .dataframe tbody tr th:only-of-type {\n",
       "        vertical-align: middle;\n",
       "    }\n",
       "\n",
       "    .dataframe tbody tr th {\n",
       "        vertical-align: top;\n",
       "    }\n",
       "\n",
       "    .dataframe thead th {\n",
       "        text-align: right;\n",
       "    }\n",
       "</style>\n",
       "<table border=\"1\" class=\"dataframe\">\n",
       "  <thead>\n",
       "    <tr style=\"text-align: right;\">\n",
       "      <th></th>\n",
       "      <th>0</th>\n",
       "      <th>1</th>\n",
       "    </tr>\n",
       "  </thead>\n",
       "  <tbody>\n",
       "    <tr>\n",
       "      <th>AAACCGCGTGCATTAG-1_1</th>\n",
       "      <td>AAACCGCGTGCATTAG-1</td>\n",
       "      <td>1</td>\n",
       "    </tr>\n",
       "    <tr>\n",
       "      <th>AAAGGAGCAATCCTAG-1_1</th>\n",
       "      <td>AAAGGAGCAATCCTAG-1</td>\n",
       "      <td>1</td>\n",
       "    </tr>\n",
       "    <tr>\n",
       "      <th>AAAGGCTCATCCCGCT-1_1</th>\n",
       "      <td>AAAGGCTCATCCCGCT-1</td>\n",
       "      <td>1</td>\n",
       "    </tr>\n",
       "    <tr>\n",
       "      <th>AAATGCCTCTTGTTCG-1_1</th>\n",
       "      <td>AAATGCCTCTTGTTCG-1</td>\n",
       "      <td>1</td>\n",
       "    </tr>\n",
       "    <tr>\n",
       "      <th>AACAAAGGTTGTTCAC-1_1</th>\n",
       "      <td>AACAAAGGTTGTTCAC-1</td>\n",
       "      <td>1</td>\n",
       "    </tr>\n",
       "    <tr>\n",
       "      <th>...</th>\n",
       "      <td>...</td>\n",
       "      <td>...</td>\n",
       "    </tr>\n",
       "    <tr>\n",
       "      <th>TTTGTGTTCTCCATGC-1_11</th>\n",
       "      <td>TTTGTGTTCTCCATGC-1</td>\n",
       "      <td>11</td>\n",
       "    </tr>\n",
       "    <tr>\n",
       "      <th>TTTGTTGGTCTAACAG-1_11</th>\n",
       "      <td>TTTGTTGGTCTAACAG-1</td>\n",
       "      <td>11</td>\n",
       "    </tr>\n",
       "    <tr>\n",
       "      <th>TTTGTTGGTTGGCCGA-1_11</th>\n",
       "      <td>TTTGTTGGTTGGCCGA-1</td>\n",
       "      <td>11</td>\n",
       "    </tr>\n",
       "    <tr>\n",
       "      <th>TTTGTTGGTTTATCGC-1_11</th>\n",
       "      <td>TTTGTTGGTTTATCGC-1</td>\n",
       "      <td>11</td>\n",
       "    </tr>\n",
       "    <tr>\n",
       "      <th>TTTGTTGGTTTGACCT-1_11</th>\n",
       "      <td>TTTGTTGGTTTGACCT-1</td>\n",
       "      <td>11</td>\n",
       "    </tr>\n",
       "  </tbody>\n",
       "</table>\n",
       "<p>61525 rows × 2 columns</p>\n",
       "</div>"
      ],
      "text/plain": [
       "                                        0   1\n",
       "AAACCGCGTGCATTAG-1_1   AAACCGCGTGCATTAG-1   1\n",
       "AAAGGAGCAATCCTAG-1_1   AAAGGAGCAATCCTAG-1   1\n",
       "AAAGGCTCATCCCGCT-1_1   AAAGGCTCATCCCGCT-1   1\n",
       "AAATGCCTCTTGTTCG-1_1   AAATGCCTCTTGTTCG-1   1\n",
       "AACAAAGGTTGTTCAC-1_1   AACAAAGGTTGTTCAC-1   1\n",
       "...                                   ...  ..\n",
       "TTTGTGTTCTCCATGC-1_11  TTTGTGTTCTCCATGC-1  11\n",
       "TTTGTTGGTCTAACAG-1_11  TTTGTTGGTCTAACAG-1  11\n",
       "TTTGTTGGTTGGCCGA-1_11  TTTGTTGGTTGGCCGA-1  11\n",
       "TTTGTTGGTTTATCGC-1_11  TTTGTTGGTTTATCGC-1  11\n",
       "TTTGTTGGTTTGACCT-1_11  TTTGTTGGTTTGACCT-1  11\n",
       "\n",
       "[61525 rows x 2 columns]"
      ]
     },
     "execution_count": 14,
     "metadata": {},
     "output_type": "execute_result"
    }
   ],
   "source": [
    "barcodes.str.split(\"_\", expand=True)"
   ]
  },
  {
   "cell_type": "code",
   "execution_count": null,
   "id": "f3e5a7ee",
   "metadata": {},
   "outputs": [
    {
     "name": "stdout",
     "output_type": "stream",
     "text": [
      "All files local, no downloading needed\n"
     ]
    }
   ],
   "source": [
    "FILES_TO_DOWNLOAD = master_fragment_file_meta # all the files that you want to download\n",
    "\n",
    "def download_object(s3_client, fragment_meta: FragmentFileMeta):\n",
    "    download_path = Path(FRAGMENT_DIR) / fragment_meta.download_file_name\n",
    "    print(f\"Downloading {fragment_meta.download_file_name} to {download_path}\")\n",
    "    s3_client.download_file(\n",
    "        fragment_meta.uri.bucket_name,\n",
    "        fragment_meta.uri.file_path,\n",
    "        str(download_path)\n",
    "    )\n",
    "    return \"Success\"\n",
    "\n",
    "def download_parallel_multithreading():\n",
    "    # Create a session and use it to make our client\n",
    "    session = boto3.session.Session()\n",
    "    s3_client = session.client(\"s3\")\n",
    "\n",
    "    # Dispatch work tasks with our s3_client\n",
    "    with ThreadPoolExecutor(max_workers=8) as executor:\n",
    "        future_to_key = {\n",
    "            executor.submit(download_object, s3_client, key): key.download_file_name \n",
    "            for key in FILES_TO_DOWNLOAD\n",
    "            if not key.is_file_local\n",
    "        }\n",
    "\n",
    "        if not future_to_key:\n",
    "            print(\"All files local, no downloading needed\")\n",
    "\n",
    "        for future in futures.as_completed(future_to_key):\n",
    "            key = future_to_key[future]\n",
    "            exception = future.exception()\n",
    "\n",
    "            if not exception:\n",
    "                yield key, future.result()\n",
    "            else:\n",
    "                yield key, exception\n",
    "\n",
    "\n",
    "for key, result in download_parallel_multithreading():\n",
    "    print(f\"{key} result: {result}\")"
   ]
  }
 ],
 "metadata": {
  "kernelspec": {
   "display_name": "lattice",
   "language": "python",
   "name": "python3"
  },
  "language_info": {
   "codemirror_mode": {
    "name": "ipython",
    "version": 3
   },
   "file_extension": ".py",
   "mimetype": "text/x-python",
   "name": "python",
   "nbconvert_exporter": "python",
   "pygments_lexer": "ipython3",
   "version": "3.11.8"
  }
 },
 "nbformat": 4,
 "nbformat_minor": 5
}
