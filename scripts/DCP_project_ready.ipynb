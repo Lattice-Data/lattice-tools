{
 "cells": [
  {
   "cell_type": "code",
   "execution_count": null,
   "id": "fae01003",
   "metadata": {},
   "outputs": [],
   "source": [
    "import json\n",
    "import os\n",
    "from google.cloud import storage\n",
    "\n",
    "\n",
    "client = storage.Client()\n",
    "bucket = client.bucket('broad-dsp-monster-hca-prod-lattice')"
   ]
  },
  {
   "cell_type": "code",
   "execution_count": null,
   "id": "741eb5e0",
   "metadata": {},
   "outputs": [],
   "source": [
    "#set the uuid as the project_id\n",
    "project_id = ''"
   ]
  },
  {
   "cell_type": "code",
   "execution_count": null,
   "id": "a1ccf43a",
   "metadata": {
    "scrolled": true
   },
   "outputs": [],
   "source": [
    "print(project_id)\n",
    "\n",
    "staging_area = 'gs://broad-dsp-monster-hca-prod-lattice/staging/' + project_id\n",
    "\n",
    "all_blobs = list(client.list_blobs(bucket, prefix='staging/' + project_id + '/metadata/project/'))\n",
    "proj_blob = all_blobs[0]\n",
    "file = proj_blob.name.split('/')[-1]\n",
    "proj_blob.download_to_filename(file)\n",
    "\n",
    "proj_json = json.load(open(file))\n",
    "\n",
    "print(proj_json['project_core']['project_title'])\n",
    "os.remove(file)\n",
    "\n",
    "file = 'staging_area.json'\n",
    "blob = bucket.blob('staging/' + project_id + '/' + file)\n",
    "blob.download_to_filename(file)\n",
    "\n",
    "j = json.load(open(file))\n",
    "print('is Revision: ' + str(j['is_delta']))\n",
    "os.remove(file)"
   ]
  },
  {
   "cell_type": "code",
   "execution_count": null,
   "id": "0fffa03f-4bd5-464f-8c42-be8df5516622",
   "metadata": {},
   "outputs": [],
   "source": [
    "# validate the staging area\n",
    "%run '~/GitClones/DCP/hca-import-validation/validate_staging_area.py' -s {staging_area}"
   ]
  }
 ],
 "metadata": {
  "kernelspec": {
   "display_name": "Python 3 (ipykernel)",
   "language": "python",
   "name": "python3"
  },
  "language_info": {
   "codemirror_mode": {
    "name": "ipython",
    "version": 3
   },
   "file_extension": ".py",
   "mimetype": "text/x-python",
   "name": "python",
   "nbconvert_exporter": "python",
   "pygments_lexer": "ipython3",
   "version": "3.9.18"
  }
 },
 "nbformat": 4,
 "nbformat_minor": 5
}
