{
 "cells": [
  {
   "cell_type": "code",
   "execution_count": null,
   "id": "fae01003",
   "metadata": {},
   "outputs": [],
   "source": [
    "import json\n",
    "import os\n",
    "from google.cloud import storage\n",
    "\n",
    "\n",
    "client = storage.Client()\n",
    "bucket = client.bucket('broad-dsp-monster-hca-prod-lattice')"
   ]
  },
  {
   "cell_type": "code",
   "execution_count": null,
   "id": "741eb5e0",
   "metadata": {},
   "outputs": [],
   "source": [
    "#set the uuid as the project_id\n",
    "project_id = 'da74b507-60ee-4dd1-bd02-807bb051a337' #LATDS919IZQ - Skin"
   ]
  },
  {
   "cell_type": "code",
   "execution_count": null,
   "id": "a1ccf43a",
   "metadata": {},
   "outputs": [],
   "source": [
    "# review the title\n",
    "staging_area = 'gs://broad-dsp-monster-hca-prod-lattice/staging/' + project_id\n",
    "\n",
    "all_blobs = list(client.list_blobs(bucket, prefix='staging/' + project_id + '/metadata/project/'))\n",
    "proj_blob = all_blobs[0]\n",
    "file = proj_blob.name.split('/')[-1]\n",
    "proj_blob.download_to_filename(file)\n",
    "\n",
    "proj_json = json.load(open(file))\n",
    "\n",
    "print(proj_json['project_core']['project_title'])\n",
    "os.remove(file)"
   ]
  },
  {
   "cell_type": "code",
   "execution_count": null,
   "id": "2b892ee6-c8ba-42af-9a82-ac23be6b8cb2",
   "metadata": {},
   "outputs": [],
   "source": [
    "# review if new project or revision\n",
    "file = 'staging_area.json'\n",
    "blob = bucket.blob('staging/' + project_id + '/' + file)\n",
    "blob.download_to_filename(file)\n",
    "\n",
    "j = json.load(open(file))\n",
    "print('is Revision: ' + str(j['is_delta']))\n",
    "os.remove(file)"
   ]
  },
  {
   "cell_type": "code",
   "execution_count": null,
   "id": "47ca0362-afba-400e-ba14-95bc9caf231e",
   "metadata": {},
   "outputs": [],
   "source": [
    "# report staging area uri\n",
    "print(staging_area)"
   ]
  },
  {
   "cell_type": "code",
   "execution_count": null,
   "id": "0fffa03f-4bd5-464f-8c42-be8df5516622",
   "metadata": {},
   "outputs": [],
   "source": [
    "# validate the staging area\n",
    "%run '~/GitClones/DCP/hca-import-validation/validate_staging_area.py' -s {staging_area}"
   ]
  },
  {
   "cell_type": "code",
   "execution_count": null,
   "id": "41cc2436-3fcd-431c-bca7-89b79a785bf7",
   "metadata": {},
   "outputs": [],
   "source": []
  }
 ],
 "metadata": {
  "kernelspec": {
   "display_name": "Python 3 (ipykernel)",
   "language": "python",
   "name": "python3"
  },
  "language_info": {
   "codemirror_mode": {
    "name": "ipython",
    "version": 3
   },
   "file_extension": ".py",
   "mimetype": "text/x-python",
   "name": "python",
   "nbconvert_exporter": "python",
   "pygments_lexer": "ipython3",
   "version": "3.9.18"
  }
 },
 "nbformat": 4,
 "nbformat_minor": 5
}
