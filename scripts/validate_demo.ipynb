{
 "cells": [
  {
   "cell_type": "code",
   "execution_count": null,
   "id": "a5399031",
   "metadata": {},
   "outputs": [],
   "source": [
    "import lattice\n",
    "import json\n",
    "import os\n",
    "import pandas as pd\n",
    "import requests\n",
    "from datetime import datetime\n",
    "from urllib.parse import urljoin\n",
    "\n",
    "\n",
    "connection = lattice.Connection('prod')\n",
    "prod_server = connection.server"
   ]
  },
  {
   "cell_type": "code",
   "execution_count": null,
   "id": "c745a8e5",
   "metadata": {},
   "outputs": [],
   "source": [
    "demo_server = ''"
   ]
  },
  {
   "cell_type": "code",
   "execution_count": null,
   "id": "a92999fc",
   "metadata": {},
   "outputs": [],
   "source": [
    "def compare_search(add_url, audit=False):\n",
    "    url = urljoin(prod_server, add_url)\n",
    "    results = requests.get(url, auth=connection.auth).json()\n",
    "    if audit:\n",
    "        prod = {}\n",
    "        for f in results['facets']:\n",
    "            if f['field'].startswith('audit'):\n",
    "                for t in f['terms']:\n",
    "                    prod[t['key']] = t['doc_count']\n",
    "    else:\n",
    "        prod = {r['key']: r['doc_count'] for r in results['facets'][0]['terms']}\n",
    "\n",
    "    url = urljoin(demo_server, add_url)\n",
    "    results = requests.get(url, auth=connection.auth).json()\n",
    "    if audit:\n",
    "        demo = {}\n",
    "        for f in results['facets']:\n",
    "            if f['field'].startswith('audit'):\n",
    "                for t in f['terms']:\n",
    "                    demo[t['key']] = t['doc_count']\n",
    "    else:\n",
    "        demo = {r['key']: r['doc_count'] for r in results['facets'][0]['terms']}\n",
    "\n",
    "    issues = []\n",
    "    for k,v in prod.items():\n",
    "        if v != demo.get(k, 0):\n",
    "            issues.append({'type': k, 'prod': v, 'demo': demo.get(k, 0)})\n",
    "    for k,v in demo.items():\n",
    "        if k not in prod:\n",
    "            issues.append({'type': k, 'prod': 0, 'demo': v})\n",
    "    if issues:\n",
    "        return pd.DataFrame(issues).set_index('type')\n",
    "    else:\n",
    "        return 'No difference'"
   ]
  },
  {
   "cell_type": "code",
   "execution_count": null,
   "id": "ec3dc88a",
   "metadata": {},
   "outputs": [],
   "source": [
    "#ensure that the demo is done indexing\n",
    "url = urljoin(demo_server, '_indexer')\n",
    "r = requests.get(url, auth=connection.auth).json()\n",
    "print(r['status'])\n",
    "if r['status'] == 'waiting':\n",
    "    if(r['results']):\n",
    "        print(r['results'][0]['cycle_took'])\n",
    "else:\n",
    "    start = datetime.strptime(r['started'], '%Y-%m-%dT%H:%M:%S.%f')\n",
    "    now = datetime.utcnow()\n",
    "    elapsed = now - start\n",
    "    print(elapsed)"
   ]
  },
  {
   "cell_type": "code",
   "execution_count": null,
   "id": "601aa8fb",
   "metadata": {},
   "outputs": [],
   "source": [
    "print('COMPARE total object counts per type')\n",
    "compare_search('search/?type=*')"
   ]
  },
  {
   "cell_type": "code",
   "execution_count": null,
   "id": "1b6d56ec",
   "metadata": {},
   "outputs": [],
   "source": [
    "print('COMPARE object counts with INTERNAL ACTION')\n",
    "compare_search('search/?type=*&audit.INTERNAL_ACTION=*')"
   ]
  },
  {
   "cell_type": "code",
   "execution_count": null,
   "id": "1f9d3d5b",
   "metadata": {},
   "outputs": [],
   "source": [
    "print('COMPARE object counts with AUDITS')\n",
    "compare_search('search/?type=*', audit=True)"
   ]
  },
  {
   "cell_type": "code",
   "execution_count": null,
   "id": "ee9eefb3",
   "metadata": {},
   "outputs": [],
   "source": [
    "#check properties of OntologyTerm objects\n",
    "slim_fields = [\n",
    "    'organ_slims',\n",
    "    'system_slims',\n",
    "    'cell_slims',\n",
    "    'development_slims',\n",
    "    'disease_slims',\n",
    "    'qa_slims'\n",
    "]\n",
    "\n",
    "url = urljoin(prod_server, 'search/?type=OntologyTerm&limit=all&field=' + '&field='.join(slim_fields))\n",
    "results = requests.get(url, auth=connection.auth).json()\n",
    "prod_terms = {}\n",
    "for r in results['@graph']:\n",
    "    prod_terms[r['@id']] = {}\n",
    "    for sf in slim_fields:\n",
    "        if sf in r:\n",
    "            prod_terms[r['@id']][sf] = r[sf]\n",
    "\n",
    "url = urljoin(demo_server, 'search/?type=OntologyTerm&limit=all&field=' + '&field='.join(slim_fields))\n",
    "results = requests.get(url, auth=connection.auth).json()\n",
    "demo_terms = {}\n",
    "for r in results['@graph']:\n",
    "    demo_terms[r['@id']] = {}\n",
    "    for sf in slim_fields:\n",
    "        if sf in r:\n",
    "            demo_terms[r['@id']][sf] = r[sf]\n",
    "\n",
    "issues = []\n",
    "for k,v in prod_terms.items():\n",
    "    if k in demo_terms:\n",
    "        for k2,v2 in v.items():\n",
    "            if v2 != demo_terms[k].get(k2):\n",
    "                issues.append({\n",
    "                    'term': k,\n",
    "                    'slim': k2,\n",
    "                    'prod': v2,\n",
    "                    'demo': demo_terms[k].get(k2)\n",
    "                })\n",
    "    else:\n",
    "        issues.append({\n",
    "            'term': k,\n",
    "            'demo': 'absent'\n",
    "        })\n",
    "pd.DataFrame(issues)"
   ]
  },
  {
   "cell_type": "markdown",
   "id": "d4a3abcb-b6b1-4e3b-a493-a6fda4bbd78e",
   "metadata": {},
   "source": [
    "# enforce unique arrays, block additional properties"
   ]
  },
  {
   "cell_type": "code",
   "execution_count": null,
   "id": "8d99bb67-f550-4e61-b674-40d184969d8b",
   "metadata": {},
   "outputs": [],
   "source": [
    "url = urljoin(demo_server, 'profiles/?format=json')\n",
    "results = requests.get(url).json()\n",
    "for k,v in results.items():\n",
    "    if k not in ['_subtypes','@type']:\n",
    "        for p,s in v['properties'].items():\n",
    "            if s['type'] == 'object':\n",
    "                if s.get('additionalProperties') != False:\n",
    "                    print('additionalProperties allowed', k + '.' + p)\n",
    "                for p2, s2 in s['properties'].items():\n",
    "                    if s2['type'] == 'array' and p2 != '@type' and s2.get('notSubmittable') != True and not s2.get('uniqueItems'):\n",
    "                        print('non-unique allowed', k + '.' + p + '.' + p2)\n",
    "            elif s['type'] == 'array':\n",
    "                if s['items']['type'] == 'object' and s['items'].get('additionalProperties') != False:\n",
    "                    print('additionalProperties allowed', k + '.' + p)\n",
    "                if p != '@type' and s.get('notSubmittable') != True and not s.get('uniqueItems'):\n",
    "                    print('non-unique allowed', k + '.' + p)"
   ]
  },
  {
   "cell_type": "markdown",
   "id": "28536cb2-e108-4ba4-ad6a-c36f6a4667ae",
   "metadata": {},
   "source": [
    "# validate slim labels"
   ]
  },
  {
   "cell_type": "code",
   "execution_count": null,
   "id": "5c70841c-3445-4da8-8caf-c7e6423253ee",
   "metadata": {},
   "outputs": [],
   "source": [
    "url = 'https://raw.githubusercontent.com/Lattice-Data/encoded/refs/heads/dev/src/encoded/types/ontology_term.py'\n",
    "content = requests.get(url).text.split('\\n')\n",
    "\n",
    "s_l = 'system_slim_terms = {'\n",
    "s_l_num = content.index(s_l)\n",
    "\n",
    "e_l = '@collection('\n",
    "e_l_num = content.index(e_l)\n",
    "\n",
    "with open('slims_temp.py', 'w') as f:\n",
    "    f.write('\\n'.join(content[start_l_num:e_l_num]))\n",
    "\n",
    "from slims_temp import *\n",
    "\n",
    "slims = {\n",
    "    **system_slim_terms, **organ_slim_terms, **cell_slim_terms,\n",
    "    **disease_slim_terms, **development_slim_terms, **ethnicity_slim_terms\n",
    "} #we don't worry about qa_slim_terms\n",
    "\n",
    "url = urljoin(demo_server, 'search/?type=OntologyTerm&limit=all&field=term_name&field=term_id&field=audit')\n",
    "results = requests.get(url, auth=connection.auth).json()\n",
    "\n",
    "for term in results['@graph']:\n",
    "    if term['term_id'] in slims:\n",
    "        curr_label = slims[term['term_id']]\n",
    "        if term['term_name'] != curr_label:\n",
    "            print(f\"update {term['term_id']} from {curr_label} to {term['term_name']}\")\n",
    "        elif term.get('audit'):\n",
    "            print(term['term_id'],term['audit'])\n",
    "all_obj_ids = [term['term_id'] for term in results['@graph']]\n",
    "missing_objs = [s for s in slims.keys() if s not in all_obj_ids]\n",
    "for t in missing_objs:\n",
    "    print('add obj',t)\n",
    "\n",
    "os.remove('slims_temp.py')"
   ]
  },
  {
   "cell_type": "code",
   "execution_count": null,
   "id": "78e3a756-6d8d-4256-9e93-3fbfec9ef4a7",
   "metadata": {},
   "outputs": [],
   "source": []
  }
 ],
 "metadata": {
  "kernelspec": {
   "display_name": "Python 3 (ipykernel)",
   "language": "python",
   "name": "python3"
  },
  "language_info": {
   "codemirror_mode": {
    "name": "ipython",
    "version": 3
   },
   "file_extension": ".py",
   "mimetype": "text/x-python",
   "name": "python",
   "nbconvert_exporter": "python",
   "pygments_lexer": "ipython3",
   "version": "3.11.9"
  }
 },
 "nbformat": 4,
 "nbformat_minor": 5
}
