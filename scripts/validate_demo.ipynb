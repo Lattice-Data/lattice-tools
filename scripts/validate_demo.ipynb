{
 "cells": [
  {
   "cell_type": "code",
   "execution_count": null,
   "id": "a5399031",
   "metadata": {},
   "outputs": [],
   "source": [
    "from datetime import datetime\n",
    "import lattice\n",
    "import json\n",
    "import requests\n",
    "import pandas as pd\n",
    "from urllib.parse import urljoin\n",
    "\n",
    "\n",
    "mode = 'prod'\n",
    "connection = lattice.Connection(mode)\n",
    "prod_server = connection.server"
   ]
  },
  {
   "cell_type": "code",
   "execution_count": null,
   "id": "c745a8e5",
   "metadata": {},
   "outputs": [],
   "source": [
    "demo_server = 'http://ec2-54-176-95-4.us-west-1.compute.amazonaws.com/'"
   ]
  },
  {
   "cell_type": "code",
   "execution_count": null,
   "id": "a92999fc",
   "metadata": {},
   "outputs": [],
   "source": [
    "def compare_search(add_url, audit=False):\n",
    "    url = urljoin(prod_server, add_url)\n",
    "    results = requests.get(url, auth=connection.auth).json()\n",
    "    if audit:\n",
    "        prod = {}\n",
    "        for f in results['facets']:\n",
    "            if f['field'].startswith('audit'):\n",
    "                for t in f['terms']:\n",
    "                    prod[t['key']] = t['doc_count']\n",
    "    else:\n",
    "        prod = {r['key']: r['doc_count'] for r in results['facets'][0]['terms']}\n",
    "\n",
    "    url = urljoin(demo_server, add_url)\n",
    "    results = requests.get(url, auth=connection.auth).json()\n",
    "    if audit:\n",
    "        demo = {}\n",
    "        for f in results['facets']:\n",
    "            if f['field'].startswith('audit'):\n",
    "                for t in f['terms']:\n",
    "                    demo[t['key']] = t['doc_count']\n",
    "    else:\n",
    "        demo = {r['key']: r['doc_count'] for r in results['facets'][0]['terms']}\n",
    "\n",
    "    issues = []\n",
    "    for k,v in prod.items():\n",
    "        if v != demo.get(k, 0):\n",
    "            issues.append({'type': k, 'prod': v, 'demo': demo.get(k, 0)})\n",
    "    for k,v in demo.items():\n",
    "        if k not in prod:\n",
    "            issues.append({'type': k, 'prod': 0, 'demo': v})\n",
    "    if issues:\n",
    "        return pd.DataFrame(issues).set_index('type')\n",
    "    else:\n",
    "        return 'No difference'"
   ]
  },
  {
   "cell_type": "code",
   "execution_count": null,
   "id": "ec3dc88a",
   "metadata": {},
   "outputs": [],
   "source": [
    "#ensure that the demo is done indexing\n",
    "url = urljoin(demo_server, '_indexer')\n",
    "r = requests.get(url, auth=connection.auth).json()\n",
    "print(r['status'])\n",
    "if r['status'] == 'waiting':\n",
    "    if(r['results']):\n",
    "        print(r['results'][0]['cycle_took'])\n",
    "else:\n",
    "    start = datetime.strptime(r['started'], '%Y-%m-%dT%H:%M:%S.%f')\n",
    "    now = datetime.utcnow()\n",
    "    elapsed = now - start\n",
    "    print(elapsed)"
   ]
  },
  {
   "cell_type": "code",
   "execution_count": null,
   "id": "601aa8fb",
   "metadata": {},
   "outputs": [],
   "source": [
    "print('COMPARE total object counts per type')\n",
    "compare_search('search/?type=*')"
   ]
  },
  {
   "cell_type": "code",
   "execution_count": null,
   "id": "1b6d56ec",
   "metadata": {},
   "outputs": [],
   "source": [
    "print('COMPARE object counts with INTERNAL ACTION')\n",
    "compare_search('search/?type=*&audit.INTERNAL_ACTION=*')"
   ]
  },
  {
   "cell_type": "code",
   "execution_count": null,
   "id": "1f9d3d5b",
   "metadata": {},
   "outputs": [],
   "source": [
    "print('COMPARE object counts with AUDITS')\n",
    "compare_search('search/?type=*', audit=True)"
   ]
  },
  {
   "cell_type": "code",
   "execution_count": null,
   "id": "ee9eefb3",
   "metadata": {},
   "outputs": [],
   "source": [
    "#check properties of OntologyTerm objects\n",
    "slim_fields = [\n",
    "    'organ_slims',\n",
    "    'system_slims',\n",
    "    'cell_slims',\n",
    "    'development_slims',\n",
    "    'disease_slims',\n",
    "    'ethnicity_slims',\n",
    "    'qa_slims'\n",
    "]\n",
    "\n",
    "url = urljoin(prod_server, 'search/?type=OntologyTerm&limit=all&field=' + '&field='.join(slim_fields))\n",
    "results = requests.get(url, auth=connection.auth).json()\n",
    "prod_terms = {}\n",
    "for r in results['@graph']:\n",
    "    prod_terms[r['@id']] = {}\n",
    "    for sf in slim_fields:\n",
    "        if sf in r:\n",
    "            prod_terms[r['@id']][sf] = r[sf]\n",
    "\n",
    "url = urljoin(prod_server, 'search/?type=OntologyTerm&limit=all&field=' + '&field='.join(slim_fields))\n",
    "results = requests.get(url, auth=connection.auth).json()\n",
    "demo_terms = {}\n",
    "for r in results['@graph']:\n",
    "    demo_terms[r['@id']] = {}\n",
    "    for sf in slim_fields:\n",
    "        if sf in r:\n",
    "            demo_terms[r['@id']][sf] = r[sf]\n",
    "\n",
    "issues = []\n",
    "for k,v in prod_terms.items():\n",
    "    if k in demo_terms:\n",
    "        for k2,v2 in v.items():\n",
    "            if v2 != demo_terms[k].get(k2):\n",
    "                issues.append({\n",
    "                    'term': k,\n",
    "                    'slim': k2,\n",
    "                    'prod': v2,\n",
    "                    'demo': demo_terms[k].get(k2)\n",
    "                })\n",
    "    else:\n",
    "        issues.append({\n",
    "            'term': k,\n",
    "            'demo': 'absent'\n",
    "        })\n",
    "pd.DataFrame(issues)"
   ]
  },
  {
   "cell_type": "code",
   "execution_count": null,
   "id": "fa700591-9c55-4f08-ac80-35fc1d2c0157",
   "metadata": {},
   "outputs": [],
   "source": []
  }
 ],
 "metadata": {
  "kernelspec": {
   "display_name": "Python 3 (ipykernel)",
   "language": "python",
   "name": "python3"
  },
  "language_info": {
   "codemirror_mode": {
    "name": "ipython",
    "version": 3
   },
   "file_extension": ".py",
   "mimetype": "text/x-python",
   "name": "python",
   "nbconvert_exporter": "python",
   "pygments_lexer": "ipython3",
   "version": "3.9.18"
  }
 },
 "nbformat": 4,
 "nbformat_minor": 5
}
