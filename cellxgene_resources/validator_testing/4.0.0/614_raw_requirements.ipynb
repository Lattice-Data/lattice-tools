{
 "cells": [
  {
   "cell_type": "markdown",
   "id": "85125780-ec16-4228-a300-f4f559ec7ec0",
   "metadata": {},
   "source": [
    "https://github.com/chanzuckerberg/single-cell-curation/issues/614"
   ]
  },
  {
   "cell_type": "code",
   "execution_count": 3,
   "id": "fc2e3a67-f8a8-436d-b8c4-73c2058f1e77",
   "metadata": {},
   "outputs": [],
   "source": [
    "#import cxg_upload\n",
    "import numpy as np\n",
    "import os\n",
    "import scanpy as sc\n",
    "import subprocess\n",
    "import anndata as ad\n",
    "from scipy import sparse\n",
    "from datetime import datetime"
   ]
  },
  {
   "cell_type": "code",
   "execution_count": 4,
   "id": "f69fe399-0c2e-4c75-9e2f-7e5aaeac128b",
   "metadata": {},
   "outputs": [],
   "source": [
    "def validate(file):\n",
    "    validate_process = subprocess.run(['cellxgene-schema', 'validate', file], stdout=subprocess.PIPE, stderr=subprocess.PIPE)\n",
    "    for line in validate_process.stdout.decode('utf-8').split('\\n'):\n",
    "        print(line)\n",
    "    for line in validate_process.stderr.decode('utf-8').split('\\n'):\n",
    "        print(line)\n",
    "        if 'is_valid=' in line:\n",
    "            valid = line.split('=')[-1]\n",
    "            return valid"
   ]
  },
  {
   "cell_type": "code",
   "execution_count": 5,
   "id": "3fd28fe9-df9d-4a79-8d07-803d3e8a005a",
   "metadata": {},
   "outputs": [],
   "source": [
    "def save_and_test(adata, expected):\n",
    "    now = datetime.now() \n",
    "    dt_string = now.strftime('%m/%d %H:%M')\n",
    "    adata.uns['title'] += (' - ' + dt_string)\n",
    "\n",
    "    file = 'test.h5ad'\n",
    "    adata.write(filename=file)\n",
    "    adata = sc.read_h5ad(file)\n",
    "\n",
    "    if adata.raw:\n",
    "        print(\"Datatype of raw.X matrix: {}\".format(adata.raw.X.dtype))\n",
    "        print(\"Format of raw.X matrix: {}\".format(get_format(adata.raw.X)))\n",
    "        non_integer = np.any(~np.equal(np.mod(adata.raw.X.data, 1), 0))\n",
    "        if non_integer == False:\n",
    "            print('raw.X is all integers')\n",
    "        else:\n",
    "            print('raw.X contains non-integer values')\n",
    "    else:\n",
    "        print(\"raw slot is absent\")\n",
    "    print('---------')\n",
    "\n",
    "    print(\"Datatype of X matrix: {}\".format(adata.X.dtype))\n",
    "    print(\"Format of X matrix: {}\".format(get_format(adata.X)))\n",
    "    non_integer = np.any(~np.equal(np.mod(adata.X.data, 1), 0))\n",
    "    if non_integer == False:\n",
    "        print('X is all integers')\n",
    "    else:\n",
    "        print('X contains non-integer values')\n",
    "    print('------------------')\n",
    "\n",
    "    valid = validate(file)\n",
    "    print('------------------')\n",
    "    \n",
    "    if expected != valid:\n",
    "        print('\\033[1m\\033[91mERROR\\033[0m')\n",
    "    else:\n",
    "        print('\\033[1m\\033[92mPASSED\\033[0m')\n",
    "        #if expected == 'True':\n",
    "            #cxg_upload.upload(file)\n",
    "    os.remove(file)"
   ]
  },
  {
   "cell_type": "code",
   "execution_count": 6,
   "id": "905d6fd0-1f5b-4b9a-a762-d7e98a87339e",
   "metadata": {},
   "outputs": [],
   "source": [
    "def get_format(x):\n",
    "    if sparse.issparse(x):\n",
    "        return(x.getformat())\n",
    "    elif isinstance(x, np.ndarray):\n",
    "        return(\"numpy array\")"
   ]
  },
  {
   "cell_type": "markdown",
   "id": "5855158a-fb65-4ef7-a1b8-209eba1b6cf1",
   "metadata": {},
   "source": [
    "## Test Valid Cases"
   ]
  },
  {
   "cell_type": "code",
   "execution_count": 7,
   "id": "6cb3311d-7aaf-43b1-a36c-553c6f9038d4",
   "metadata": {},
   "outputs": [
    {
     "name": "stdout",
     "output_type": "stream",
     "text": [
      "Datatype of raw.X matrix: float32\n",
      "Format of raw.X matrix: csr\n",
      "raw.X is all integers\n",
      "---------\n",
      "Datatype of X matrix: float32\n",
      "Format of X matrix: csr\n",
      "X contains non-integer values\n",
      "------------------\n",
      "Loading dependencies\n",
      "Loading validator modules\n",
      "\n",
      "Starting validation...\n",
      "Validation complete in 0:00:01.621658 with status is_valid=True\n",
      "------------------\n",
      "\u001b[1m\u001b[92mPASSED\u001b[0m\n"
     ]
    }
   ],
   "source": [
    "# Raw counts in raw slot - csr\n",
    "adata = sc.read_h5ad(\"../valid.h5ad\")\n",
    "adata.uns['title'] = '614 Raw counts in raw slot - csr'\n",
    "\n",
    "save_and_test(adata, 'True')"
   ]
  },
  {
   "cell_type": "code",
   "execution_count": 8,
   "id": "363cb3ae-7460-4b42-b04b-8b03ec78bd97",
   "metadata": {},
   "outputs": [
    {
     "name": "stdout",
     "output_type": "stream",
     "text": [
      "Datatype of raw.X matrix: float32\n",
      "Format of raw.X matrix: csc\n",
      "raw.X is all integers\n",
      "---------\n",
      "Datatype of X matrix: float32\n",
      "Format of X matrix: csr\n",
      "X contains non-integer values\n",
      "------------------\n",
      "Loading dependencies\n",
      "Loading validator modules\n",
      "\n",
      "Starting validation...\n",
      "Matrices are in CSC format; loading entire dataset into memory.\n",
      "WARNING: Sparsity of 'raw.X' is 0.6653779298622293 which is greater than 0.5, and it is not a 'scipy.sparse.csr_matrix'. It is STRONGLY RECOMMENDED to use this type of matrix for the given sparsity.\n",
      "Validation complete in 0:00:02.200945 with status is_valid=True\n",
      "------------------\n",
      "\u001b[1m\u001b[92mPASSED\u001b[0m\n"
     ]
    }
   ],
   "source": [
    "# Raw counts in raw slot - csc\n",
    "adata = sc.read_h5ad(\"../valid.h5ad\")\n",
    "adata.uns['title'] = '614 Raw counts in raw slot - csc'\n",
    "\n",
    "raw = ad.AnnData(X=adata.raw.X, obs=adata.obs, var=adata.raw.var)\n",
    "raw.X = sparse.csc_matrix(raw.X)\n",
    "adata.raw = raw\n",
    "save_and_test(adata, 'True')"
   ]
  },
  {
   "cell_type": "code",
   "execution_count": 9,
   "id": "f1212850-20be-4813-b220-c8db9bd33eb4",
   "metadata": {},
   "outputs": [
    {
     "name": "stdout",
     "output_type": "stream",
     "text": [
      "Datatype of raw.X matrix: float32\n",
      "Format of raw.X matrix: numpy array\n",
      "raw.X is all integers\n",
      "---------\n",
      "Datatype of X matrix: float32\n",
      "Format of X matrix: csr\n",
      "X contains non-integer values\n",
      "------------------\n",
      "Loading dependencies\n",
      "Loading validator modules\n",
      "\n",
      "Starting validation...\n",
      "WARNING: Sparsity of 'raw.X' is 0.6653779298622293 which is greater than 0.5, and it is not a 'scipy.sparse.csr_matrix'. It is STRONGLY RECOMMENDED to use this type of matrix for the given sparsity.\n",
      "Validation complete in 0:00:01.247990 with status is_valid=True\n",
      "------------------\n",
      "\u001b[1m\u001b[92mPASSED\u001b[0m\n"
     ]
    }
   ],
   "source": [
    "# Raw counts in raw slot - np.ndarray\n",
    "adata = sc.read_h5ad(\"../valid.h5ad\")\n",
    "adata.uns['title'] = '614 Raw counts in raw slot - np.ndarray'\n",
    "\n",
    "raw = ad.AnnData(X=adata.raw.X, obs=adata.obs, var=adata.raw.var)\n",
    "raw.X = raw.X.toarray()\n",
    "adata.raw = raw\n",
    "save_and_test(adata, 'True')"
   ]
  },
  {
   "cell_type": "code",
   "execution_count": 10,
   "id": "cd0c5648-19d6-412a-afcc-f2909a3d5fa3",
   "metadata": {},
   "outputs": [
    {
     "name": "stdout",
     "output_type": "stream",
     "text": [
      "raw slot is absent\n",
      "---------\n",
      "Datatype of X matrix: float32\n",
      "Format of X matrix: csr\n",
      "X is all integers\n",
      "------------------\n",
      "Loading dependencies\n",
      "Loading validator modules\n",
      "\n",
      "Starting validation...\n",
      "WARNING: Only raw data was found, i.e. there is no 'raw.X'. It is STRONGLY RECOMMENDED that 'final' (normalized) data is provided.\n",
      "Validation complete in 0:00:01.563721 with status is_valid=True\n",
      "------------------\n",
      "\u001b[1m\u001b[92mPASSED\u001b[0m\n"
     ]
    }
   ],
   "source": [
    "# Raw counts in .X - csr\n",
    "adata = sc.read_h5ad(\"../valid.h5ad\")\n",
    "adata.uns['title'] = '614 Raw counts in .X - csr'\n",
    "\n",
    "adata.X = adata.raw.X\n",
    "del adata.raw\n",
    "save_and_test(adata, 'True')"
   ]
  },
  {
   "cell_type": "code",
   "execution_count": 11,
   "id": "6c79b31a-3282-40cd-ba7e-d5a996509c41",
   "metadata": {},
   "outputs": [
    {
     "name": "stdout",
     "output_type": "stream",
     "text": [
      "raw slot is absent\n",
      "---------\n",
      "Datatype of X matrix: float32\n",
      "Format of X matrix: csc\n",
      "X is all integers\n",
      "------------------\n",
      "Loading dependencies\n",
      "Loading validator modules\n",
      "\n",
      "Starting validation...\n",
      "Matrices are in CSC format; loading entire dataset into memory.\n",
      "WARNING: Sparsity of 'X' is 0.6653779298622293 which is greater than 0.5, and it is not a 'scipy.sparse.csr_matrix'. It is STRONGLY RECOMMENDED to use this type of matrix for the given sparsity.\n",
      "WARNING: Only raw data was found, i.e. there is no 'raw.X'. It is STRONGLY RECOMMENDED that 'final' (normalized) data is provided.\n",
      "Validation complete in 0:00:02.116349 with status is_valid=True\n",
      "------------------\n",
      "\u001b[1m\u001b[92mPASSED\u001b[0m\n"
     ]
    }
   ],
   "source": [
    "# Raw counts in .X - csc\n",
    "adata = sc.read_h5ad(\"../valid.h5ad\")\n",
    "adata.uns['title'] = '614 Raw counts in .X - csc'\n",
    "\n",
    "adata.X = sparse.csc_matrix(raw.X)\n",
    "del adata.raw\n",
    "save_and_test(adata, 'True')"
   ]
  },
  {
   "cell_type": "code",
   "execution_count": 12,
   "id": "0db40868-04c1-4506-81ef-e58b4230e12f",
   "metadata": {},
   "outputs": [
    {
     "name": "stdout",
     "output_type": "stream",
     "text": [
      "raw slot is absent\n",
      "---------\n",
      "Datatype of X matrix: float32\n",
      "Format of X matrix: numpy array\n",
      "X is all integers\n",
      "------------------\n",
      "Loading dependencies\n",
      "Loading validator modules\n",
      "\n",
      "Starting validation...\n",
      "WARNING: Sparsity of 'X' is 0.6653779298622293 which is greater than 0.5, and it is not a 'scipy.sparse.csr_matrix'. It is STRONGLY RECOMMENDED to use this type of matrix for the given sparsity.\n",
      "WARNING: Only raw data was found, i.e. there is no 'raw.X'. It is STRONGLY RECOMMENDED that 'final' (normalized) data is provided.\n",
      "Validation complete in 0:00:01.126856 with status is_valid=True\n",
      "------------------\n",
      "\u001b[1m\u001b[92mPASSED\u001b[0m\n"
     ]
    }
   ],
   "source": [
    "# Raw counts in .X - np.ndarray\n",
    "adata = sc.read_h5ad(\"../valid.h5ad\")\n",
    "adata.uns['title'] = '614 Raw counts in .X - np.ndarray'\n",
    "\n",
    "adata.X = adata.raw.X.toarray()\n",
    "del adata.raw\n",
    "save_and_test(adata, 'True')"
   ]
  },
  {
   "cell_type": "code",
   "execution_count": 13,
   "id": "e57c57f9-955f-48ea-b8cb-55f738312c57",
   "metadata": {},
   "outputs": [
    {
     "name": "stdout",
     "output_type": "stream",
     "text": [
      "Datatype of raw.X matrix: float32\n",
      "Format of raw.X matrix: csr\n",
      "raw.X is all integers\n",
      "---------\n",
      "Datatype of X matrix: float64\n",
      "Format of X matrix: csr\n",
      "X contains non-integer values\n",
      "------------------\n",
      "Loading dependencies\n",
      "Loading validator modules\n",
      "\n",
      "Starting validation...\n",
      "Validation complete in 0:00:01.656692 with status is_valid=True\n",
      "------------------\n",
      "\u001b[1m\u001b[92mPASSED\u001b[0m\n"
     ]
    }
   ],
   "source": [
    "# .X is float64\n",
    "adata = sc.read_h5ad(\"../valid.h5ad\")\n",
    "adata.uns['title'] = '614 .X is float64'\n",
    "\n",
    "adata.X = adata.X.astype('float64')\n",
    "save_and_test(adata, 'True')"
   ]
  },
  {
   "cell_type": "code",
   "execution_count": 14,
   "id": "42026ac5-eba2-4d86-8f2f-aa6898fe3c06",
   "metadata": {},
   "outputs": [
    {
     "name": "stdout",
     "output_type": "stream",
     "text": [
      "Datatype of raw.X matrix: float32\n",
      "Format of raw.X matrix: csr\n",
      "raw.X is all integers\n",
      "---------\n",
      "Datatype of X matrix: float16\n",
      "Format of X matrix: csr\n",
      "X contains non-integer values\n",
      "------------------\n",
      "Loading dependencies\n",
      "Loading validator modules\n",
      "\n",
      "Starting validation...\n",
      "Validation complete in 0:00:01.675820 with status is_valid=True\n",
      "------------------\n",
      "\u001b[1m\u001b[92mPASSED\u001b[0m\n"
     ]
    }
   ],
   "source": [
    "# .X is float16\n",
    "adata = sc.read_h5ad(\"../valid.h5ad\")\n",
    "adata.uns['title'] = '614 .X is float16'\n",
    "\n",
    "adata.X = adata.X.astype('float16')\n",
    "save_and_test(adata, 'True')"
   ]
  },
  {
   "cell_type": "code",
   "execution_count": 15,
   "id": "31adc220-25ce-4610-9e9f-ae533b7a09a2",
   "metadata": {},
   "outputs": [
    {
     "name": "stdout",
     "output_type": "stream",
     "text": [
      "Datatype of raw.X matrix: float32\n",
      "Format of raw.X matrix: csr\n",
      "raw.X is all integers\n",
      "---------\n",
      "Datatype of X matrix: int64\n",
      "Format of X matrix: csr\n",
      "X is all integers\n",
      "------------------\n",
      "Loading dependencies\n",
      "Loading validator modules\n",
      "\n",
      "Starting validation...\n",
      "Validation complete in 0:00:01.588810 with status is_valid=True\n",
      "------------------\n",
      "\u001b[1m\u001b[92mPASSED\u001b[0m\n"
     ]
    }
   ],
   "source": [
    "# .X is int with negatives\n",
    "adata = sc.read_h5ad(\"../valid.h5ad\")\n",
    "adata.uns['title'] = '614 .X is int with negatives'\n",
    "\n",
    "adata.X = adata.X.toarray()\n",
    "adata.X[0:5] = -145\n",
    "adata.X = sparse.csr_matrix(adata.X)\n",
    "adata.X = adata.X.astype(int)\n",
    "save_and_test(adata, 'True')"
   ]
  },
  {
   "cell_type": "code",
   "execution_count": 16,
   "id": "26d7fc17-6c7d-4d70-90d3-3677d86892cb",
   "metadata": {},
   "outputs": [
    {
     "name": "stdout",
     "output_type": "stream",
     "text": [
      "Nonzero expression values in adata.X for first 5 cells: []\n",
      "Datatype of raw.X matrix: float32\n",
      "Format of raw.X matrix: csr\n",
      "raw.X is all integers\n",
      "---------\n",
      "Datatype of X matrix: float32\n",
      "Format of X matrix: csc\n",
      "X contains non-integer values\n",
      "------------------\n",
      "Loading dependencies\n",
      "Loading validator modules\n",
      "\n",
      "Starting validation...\n",
      "Matrices are in CSC format; loading entire dataset into memory.\n",
      "WARNING: Sparsity of 'X' is 0.6662728797638218 which is greater than 0.5, and it is not a 'scipy.sparse.csr_matrix'. It is STRONGLY RECOMMENDED to use this type of matrix for the given sparsity.\n",
      "Validation complete in 0:00:01.718755 with status is_valid=True\n",
      "------------------\n",
      "\u001b[1m\u001b[92mPASSED\u001b[0m\n"
     ]
    }
   ],
   "source": [
    "# .X has cells with all zeros\n",
    "adata = sc.read_h5ad(\"../valid.h5ad\")\n",
    "adata.uns['title'] = '614 .X has cells with all zeros'\n",
    "\n",
    "adata.X = adata.X.toarray()\n",
    "adata.X[0:5] = 0\n",
    "adata.X = sparse.csc_matrix(adata.X)\n",
    "print(\"Nonzero expression values in adata.X for first 5 cells: {}\".format(adata[0:5,:].X.data))\n",
    "save_and_test(adata, 'True')"
   ]
  },
  {
   "cell_type": "code",
   "execution_count": 17,
   "id": "d538f83c-5142-4d4c-85cf-3ab95a4d31dd",
   "metadata": {},
   "outputs": [
    {
     "name": "stderr",
     "output_type": "stream",
     "text": [
      "... storing 'assay_ontology_term_id' as categorical\n",
      "... storing 'suspension_type' as categorical\n"
     ]
    },
    {
     "name": "stdout",
     "output_type": "stream",
     "text": [
      "raw slot is absent\n",
      "---------\n",
      "Datatype of X matrix: float32\n",
      "Format of X matrix: csr\n",
      "X contains non-integer values\n",
      "------------------\n",
      "Loading dependencies\n",
      "Loading validator modules\n",
      "\n",
      "Starting validation...\n",
      "Validation complete in 0:00:00.426518 with status is_valid=True\n",
      "------------------\n",
      "\u001b[1m\u001b[92mPASSED\u001b[0m\n"
     ]
    }
   ],
   "source": [
    "#non-RNA assay without raw counts\n",
    "adata = sc.read_h5ad(\"../valid.h5ad\")\n",
    "adata.uns['title'] = '614 non-RNA assay without raw counts'\n",
    "\n",
    "adata.obs['assay_ontology_term_id'] = 'EFO:0007045' #ATAC-seq\n",
    "adata.obs['suspension_type'] = 'nucleus'\n",
    "del adata.raw\n",
    "save_and_test(adata, 'True')"
   ]
  },
  {
   "cell_type": "code",
   "execution_count": 18,
   "id": "d2adc1da-680a-4630-b427-d77ff75534eb",
   "metadata": {},
   "outputs": [
    {
     "name": "stderr",
     "output_type": "stream",
     "text": [
      "... storing 'assay_ontology_term_id' as categorical\n",
      "... storing 'suspension_type' as categorical\n"
     ]
    },
    {
     "name": "stdout",
     "output_type": "stream",
     "text": [
      "Datatype of raw.X matrix: float32\n",
      "Format of raw.X matrix: csr\n",
      "raw.X contains non-integer values\n",
      "---------\n",
      "Datatype of X matrix: float32\n",
      "Format of X matrix: csr\n",
      "X contains non-integer values\n",
      "------------------\n",
      "Loading dependencies\n",
      "Loading validator modules\n",
      "\n",
      "Starting validation...\n",
      "Validation complete in 0:00:00.544245 with status is_valid=True\n",
      "------------------\n",
      "\u001b[1m\u001b[92mPASSED\u001b[0m\n"
     ]
    }
   ],
   "source": [
    "#non-RNA without raw counts but with raw.X\n",
    "adata = sc.read_h5ad(\"../valid.h5ad\")\n",
    "adata.uns['title'] = '614 non-RNA without raw counts but with raw.X'\n",
    "\n",
    "adata.obs['assay_ontology_term_id'] = 'EFO:0007045' #ATAC-seq\n",
    "adata.obs['suspension_type'] = 'nucleus'\n",
    "non_raw = ad.AnnData(X=adata.X, obs=adata.obs, var=adata.var)\n",
    "non_raw.var.drop(columns='feature_is_filtered', inplace=True)\n",
    "adata.raw = non_raw\n",
    "save_and_test(adata, 'True')"
   ]
  },
  {
   "cell_type": "code",
   "execution_count": 19,
   "id": "690cd0e1-9d43-44a8-b384-9dcd1fff4a7d",
   "metadata": {},
   "outputs": [
    {
     "name": "stderr",
     "output_type": "stream",
     "text": [
      "... storing 'assay_ontology_term_id' as categorical\n",
      "... storing 'suspension_type' as categorical\n"
     ]
    },
    {
     "name": "stdout",
     "output_type": "stream",
     "text": [
      "Nonzero expression values in adata.X first 5 cells: []\n",
      "raw slot is absent\n",
      "---------\n",
      "Datatype of X matrix: float32\n",
      "Format of X matrix: csr\n",
      "X contains non-integer values\n",
      "------------------\n",
      "Loading dependencies\n",
      "Loading validator modules\n",
      "\n",
      "Starting validation...\n",
      "Validation complete in 0:00:00.407274 with status is_valid=True\n",
      "------------------\n",
      "\u001b[1m\u001b[92mPASSED\u001b[0m\n"
     ]
    }
   ],
   "source": [
    "#non-RNA assay has cells with zeros\n",
    "adata = sc.read_h5ad(\"../valid.h5ad\")\n",
    "adata.uns['title'] = '614 non-RNA assay has cells with zeros'\n",
    "\n",
    "adata.obs['assay_ontology_term_id'] = 'EFO:0007045' #ATAC-seq\n",
    "adata.obs['suspension_type'] = 'nucleus'\n",
    "adata.X = adata.X.toarray()\n",
    "adata.X[0:5] = 0\n",
    "adata.X = sparse.csr_matrix(adata.X)\n",
    "del adata.raw\n",
    "print(\"Nonzero expression values in adata.X first 5 cells: {}\".format(adata[0:5,:].X.data))\n",
    "save_and_test(adata, 'True')"
   ]
  },
  {
   "cell_type": "markdown",
   "id": "3d11a0d9-eb56-47ce-804a-b0ca72ad5ddb",
   "metadata": {},
   "source": [
    "## Test Invalid Cases"
   ]
  },
  {
   "cell_type": "code",
   "execution_count": 20,
   "id": "a77aecaa-8984-41f0-b642-c44858fad205",
   "metadata": {},
   "outputs": [
    {
     "name": "stdout",
     "output_type": "stream",
     "text": [
      "raw slot is absent\n",
      "---------\n",
      "Datatype of X matrix: float32\n",
      "Format of X matrix: csr\n",
      "X contains non-integer values\n",
      "------------------\n",
      "Loading dependencies\n",
      "Loading validator modules\n",
      "\n",
      "Starting validation...\n",
      "ERROR: All non-zero values in raw matrix must be positive integers of type numpy.float32.\n",
      "ERROR: Raw data is missing: there is only a normalized matrix in X and no raw.X\n",
      "Validation complete in 0:00:01.473229 with status is_valid=False\n",
      "------------------\n",
      "\u001b[1m\u001b[92mPASSED\u001b[0m\n"
     ]
    }
   ],
   "source": [
    "# No raw counts\n",
    "adata = sc.read_h5ad(\"../valid.h5ad\")\n",
    "del adata.raw\n",
    "save_and_test(adata, 'False')"
   ]
  },
  {
   "cell_type": "code",
   "execution_count": 21,
   "id": "06afa4c3-2c09-42df-a5de-42e5c29c97ed",
   "metadata": {},
   "outputs": [
    {
     "name": "stdout",
     "output_type": "stream",
     "text": [
      "Datatype of raw.X matrix: float64\n",
      "Format of raw.X matrix: csr\n",
      "raw.X is all integers\n",
      "---------\n",
      "Datatype of X matrix: float32\n",
      "Format of X matrix: csr\n",
      "X contains non-integer values\n",
      "------------------\n",
      "Loading dependencies\n",
      "Loading validator modules\n",
      "\n",
      "Starting validation...\n",
      "ERROR: Raw matrix values must have type numpy.float32.\n",
      "ERROR: Raw data may be missing: data in 'raw.X' does not meet schema requirements.\n",
      "Validation complete in 0:00:00.536380 with status is_valid=False\n",
      "------------------\n",
      "\u001b[1m\u001b[92mPASSED\u001b[0m\n"
     ]
    }
   ],
   "source": [
    "# The raw counts in adata.raw.X are float64 for csr\n",
    "adata = sc.read_h5ad(\"../valid.h5ad\")\n",
    "raw = ad.AnnData(X=adata.raw.X, obs=adata.obs, var=adata.raw.var)\n",
    "raw.X = raw.X.astype('float64')\n",
    "adata.raw = raw\n",
    "save_and_test(adata, 'False')"
   ]
  },
  {
   "cell_type": "code",
   "execution_count": 22,
   "id": "699b3681-944a-4a15-8d46-ff5ada925994",
   "metadata": {},
   "outputs": [
    {
     "name": "stdout",
     "output_type": "stream",
     "text": [
      "raw slot is absent\n",
      "---------\n",
      "Datatype of X matrix: float64\n",
      "Format of X matrix: csr\n",
      "X is all integers\n",
      "------------------\n",
      "Loading dependencies\n",
      "Loading validator modules\n",
      "\n",
      "Starting validation...\n",
      "ERROR: Raw matrix values must have type numpy.float32.\n",
      "ERROR: Raw data is missing: there is only a normalized matrix in X and no raw.X\n",
      "Validation complete in 0:00:00.444967 with status is_valid=False\n",
      "------------------\n",
      "\u001b[1m\u001b[92mPASSED\u001b[0m\n"
     ]
    }
   ],
   "source": [
    "# The raw counts in adata.X are float64 for csr\n",
    "adata = sc.read_h5ad(\"../valid.h5ad\")\n",
    "adata.X = adata.raw.X.astype('float64')\n",
    "del adata.raw\n",
    "save_and_test(adata, 'False')"
   ]
  },
  {
   "cell_type": "code",
   "execution_count": 23,
   "id": "1368a468-8f87-45bd-a034-95cd794b9b39",
   "metadata": {},
   "outputs": [
    {
     "name": "stdout",
     "output_type": "stream",
     "text": [
      "Datatype of raw.X matrix: float16\n",
      "Format of raw.X matrix: csr\n",
      "raw.X contains non-integer values\n",
      "---------\n",
      "Datatype of X matrix: float32\n",
      "Format of X matrix: csr\n",
      "X contains non-integer values\n",
      "------------------\n",
      "Loading dependencies\n",
      "Loading validator modules\n",
      "\n",
      "Starting validation...\n",
      "ERROR: Raw matrix values must have type numpy.float32.\n",
      "ERROR: Raw data may be missing: data in 'raw.X' does not meet schema requirements.\n",
      "Validation complete in 0:00:00.535383 with status is_valid=False\n",
      "------------------\n",
      "\u001b[1m\u001b[92mPASSED\u001b[0m\n"
     ]
    }
   ],
   "source": [
    "# The raw counts in adata.raw.X are float16 for csr\n",
    "adata = sc.read_h5ad(\"../valid.h5ad\")\n",
    "raw = ad.AnnData(X=adata.raw.X, obs=adata.obs, var=adata.raw.var)\n",
    "raw.X = raw.X.astype('float16')\n",
    "adata.raw = raw\n",
    "save_and_test(adata, 'False')"
   ]
  },
  {
   "cell_type": "code",
   "execution_count": 24,
   "id": "d602ca25-6130-496c-9eec-81f787a4c90a",
   "metadata": {},
   "outputs": [
    {
     "name": "stdout",
     "output_type": "stream",
     "text": [
      "raw slot is absent\n",
      "---------\n",
      "Datatype of X matrix: float16\n",
      "Format of X matrix: csr\n",
      "X contains non-integer values\n",
      "------------------\n",
      "Loading dependencies\n",
      "Loading validator modules\n",
      "\n",
      "Starting validation...\n",
      "ERROR: Raw matrix values must have type numpy.float32.\n",
      "ERROR: Raw data is missing: there is only a normalized matrix in X and no raw.X\n",
      "Validation complete in 0:00:00.405481 with status is_valid=False\n",
      "------------------\n",
      "\u001b[1m\u001b[92mPASSED\u001b[0m\n"
     ]
    }
   ],
   "source": [
    "# The raw counts in adata.X are float16 for csr\n",
    "adata = sc.read_h5ad(\"../valid.h5ad\")\n",
    "adata.X = adata.raw.X.astype('float16')\n",
    "del adata.raw\n",
    "save_and_test(adata, 'False')"
   ]
  },
  {
   "cell_type": "code",
   "execution_count": 25,
   "id": "56fbc4da-1d56-47de-9649-8a93b3040780",
   "metadata": {},
   "outputs": [
    {
     "name": "stdout",
     "output_type": "stream",
     "text": [
      "Datatype of raw.X matrix: int64\n",
      "Format of raw.X matrix: csr\n",
      "raw.X is all integers\n",
      "---------\n",
      "Datatype of X matrix: float32\n",
      "Format of X matrix: csr\n",
      "X contains non-integer values\n",
      "------------------\n",
      "Loading dependencies\n",
      "Loading validator modules\n",
      "\n",
      "Starting validation...\n",
      "ERROR: Raw matrix values must have type numpy.float32.\n",
      "ERROR: Raw data may be missing: data in 'raw.X' does not meet schema requirements.\n",
      "Validation complete in 0:00:00.511712 with status is_valid=False\n",
      "------------------\n",
      "\u001b[1m\u001b[92mPASSED\u001b[0m\n"
     ]
    }
   ],
   "source": [
    "# The raw counts in adata.raw.X are integers for csr\n",
    "adata = sc.read_h5ad(\"../valid.h5ad\")\n",
    "raw = ad.AnnData(X=adata.raw.X, obs=adata.obs, var=adata.raw.var)\n",
    "raw.X = raw.X.astype(int)\n",
    "adata.raw = raw\n",
    "save_and_test(adata, 'False')"
   ]
  },
  {
   "cell_type": "code",
   "execution_count": 26,
   "id": "965643a1-6e61-4691-926f-fe090426d7ce",
   "metadata": {},
   "outputs": [
    {
     "name": "stdout",
     "output_type": "stream",
     "text": [
      "raw slot is absent\n",
      "---------\n",
      "Datatype of X matrix: int64\n",
      "Format of X matrix: csr\n",
      "X is all integers\n",
      "------------------\n",
      "Loading dependencies\n",
      "Loading validator modules\n",
      "\n",
      "Starting validation...\n",
      "ERROR: Raw matrix values must have type numpy.float32.\n",
      "ERROR: Raw data is missing: there is only a normalized matrix in X and no raw.X\n",
      "Validation complete in 0:00:00.368212 with status is_valid=False\n",
      "------------------\n",
      "\u001b[1m\u001b[92mPASSED\u001b[0m\n"
     ]
    }
   ],
   "source": [
    "# The raw counts in adata.X are integers for csr\n",
    "adata = sc.read_h5ad(\"../valid.h5ad\")\n",
    "adata.X = adata.raw.X.astype(int)\n",
    "del adata.raw\n",
    "save_and_test(adata, 'False')"
   ]
  },
  {
   "cell_type": "code",
   "execution_count": 27,
   "id": "20d8d492-71ed-461e-8e87-1c843ebe1977",
   "metadata": {},
   "outputs": [
    {
     "name": "stdout",
     "output_type": "stream",
     "text": [
      "Datatype of raw.X matrix: float64\n",
      "Format of raw.X matrix: csc\n",
      "raw.X is all integers\n",
      "---------\n",
      "Datatype of X matrix: float32\n",
      "Format of X matrix: csr\n",
      "X contains non-integer values\n",
      "------------------\n",
      "Loading dependencies\n",
      "Loading validator modules\n",
      "\n",
      "Starting validation...\n",
      "Matrices are in CSC format; loading entire dataset into memory.\n",
      "WARNING: Sparsity of 'raw.X' is 0.6653779298622293 which is greater than 0.5, and it is not a 'scipy.sparse.csr_matrix'. It is STRONGLY RECOMMENDED to use this type of matrix for the given sparsity.\n",
      "ERROR: Raw matrix values must have type numpy.float32.\n",
      "ERROR: Raw data may be missing: data in 'raw.X' does not meet schema requirements.\n",
      "Validation complete in 0:00:00.578565 with status is_valid=False\n",
      "------------------\n",
      "\u001b[1m\u001b[92mPASSED\u001b[0m\n"
     ]
    }
   ],
   "source": [
    "# The raw counts in adata.raw.X are float64 for csc\n",
    "adata = sc.read_h5ad(\"../valid.h5ad\")\n",
    "raw = ad.AnnData(X=adata.raw.X, obs=adata.obs, var=adata.raw.var)\n",
    "raw.X = raw.X.astype('float64')\n",
    "raw.X = sparse.csc_matrix(raw.X)\n",
    "adata.raw = raw\n",
    "save_and_test(adata, 'False')"
   ]
  },
  {
   "cell_type": "code",
   "execution_count": 28,
   "id": "931b7be3-ef8b-4903-b992-c4ed8a086426",
   "metadata": {},
   "outputs": [
    {
     "name": "stdout",
     "output_type": "stream",
     "text": [
      "raw slot is absent\n",
      "---------\n",
      "Datatype of X matrix: float64\n",
      "Format of X matrix: csc\n",
      "X is all integers\n",
      "------------------\n",
      "Loading dependencies\n",
      "Loading validator modules\n",
      "\n",
      "Starting validation...\n",
      "Matrices are in CSC format; loading entire dataset into memory.\n",
      "WARNING: Sparsity of 'X' is 0.6653779298622293 which is greater than 0.5, and it is not a 'scipy.sparse.csr_matrix'. It is STRONGLY RECOMMENDED to use this type of matrix for the given sparsity.\n",
      "ERROR: Raw matrix values must have type numpy.float32.\n",
      "ERROR: Raw data is missing: there is only a normalized matrix in X and no raw.X\n",
      "Validation complete in 0:00:00.431806 with status is_valid=False\n",
      "------------------\n",
      "\u001b[1m\u001b[92mPASSED\u001b[0m\n"
     ]
    }
   ],
   "source": [
    "# The raw counts in adata.X are float64 for csc\n",
    "adata = sc.read_h5ad(\"../valid.h5ad\")\n",
    "adata.X = adata.raw.X.astype('float64')\n",
    "adata.X = sparse.csc_matrix(adata.X)\n",
    "del adata.raw\n",
    "save_and_test(adata, 'False')"
   ]
  },
  {
   "cell_type": "code",
   "execution_count": 29,
   "id": "24d0819b-aced-4849-81a5-94a30ae49efe",
   "metadata": {},
   "outputs": [],
   "source": [
    "# The raw counts in adata.raw.X are float16 for csc\n",
    "# Seems to convert to float32 at some point in the process"
   ]
  },
  {
   "cell_type": "code",
   "execution_count": 30,
   "id": "83583f59-5f1f-47d8-9233-15c491b84c63",
   "metadata": {},
   "outputs": [],
   "source": [
    "# The raw counts in adata.X are float16 for csc\n",
    "# Seems to convert to float32 at some point in the process"
   ]
  },
  {
   "cell_type": "code",
   "execution_count": 31,
   "id": "4066407c-54c6-4fa3-9b3d-5d2efec920e3",
   "metadata": {},
   "outputs": [
    {
     "name": "stdout",
     "output_type": "stream",
     "text": [
      "Datatype of raw.X matrix: int64\n",
      "Format of raw.X matrix: csc\n",
      "raw.X is all integers\n",
      "---------\n",
      "Datatype of X matrix: float32\n",
      "Format of X matrix: csr\n",
      "X contains non-integer values\n",
      "------------------\n",
      "Loading dependencies\n",
      "Loading validator modules\n",
      "\n",
      "Starting validation...\n",
      "Matrices are in CSC format; loading entire dataset into memory.\n",
      "WARNING: Sparsity of 'raw.X' is 0.6653779298622293 which is greater than 0.5, and it is not a 'scipy.sparse.csr_matrix'. It is STRONGLY RECOMMENDED to use this type of matrix for the given sparsity.\n",
      "ERROR: Raw matrix values must have type numpy.float32.\n",
      "ERROR: Raw data may be missing: data in 'raw.X' does not meet schema requirements.\n",
      "Validation complete in 0:00:00.557051 with status is_valid=False\n",
      "------------------\n",
      "\u001b[1m\u001b[92mPASSED\u001b[0m\n"
     ]
    }
   ],
   "source": [
    "# The raw counts in adata.raw.X are integers for csc\n",
    "adata = sc.read_h5ad(\"../valid.h5ad\")\n",
    "raw = ad.AnnData(X=adata.raw.X, obs=adata.obs, var=adata.raw.var)\n",
    "raw.X = raw.X.astype(int)\n",
    "raw.X = sparse.csc_matrix(raw.X)\n",
    "adata.raw = raw\n",
    "save_and_test(adata, 'False')"
   ]
  },
  {
   "cell_type": "code",
   "execution_count": 32,
   "id": "b4a9e97d-0340-41d2-b528-4591f2c78774",
   "metadata": {},
   "outputs": [
    {
     "name": "stdout",
     "output_type": "stream",
     "text": [
      "raw slot is absent\n",
      "---------\n",
      "Datatype of X matrix: int64\n",
      "Format of X matrix: csc\n",
      "X is all integers\n",
      "------------------\n",
      "Loading dependencies\n",
      "Loading validator modules\n",
      "\n",
      "Starting validation...\n",
      "Matrices are in CSC format; loading entire dataset into memory.\n",
      "WARNING: Sparsity of 'X' is 0.6653779298622293 which is greater than 0.5, and it is not a 'scipy.sparse.csr_matrix'. It is STRONGLY RECOMMENDED to use this type of matrix for the given sparsity.\n",
      "ERROR: Raw matrix values must have type numpy.float32.\n",
      "ERROR: Raw data is missing: there is only a normalized matrix in X and no raw.X\n",
      "Validation complete in 0:00:00.384306 with status is_valid=False\n",
      "------------------\n",
      "\u001b[1m\u001b[92mPASSED\u001b[0m\n"
     ]
    }
   ],
   "source": [
    "# The raw counts in adata.X are integers for csc\n",
    "adata = sc.read_h5ad(\"../valid.h5ad\")\n",
    "adata.X = adata.raw.X.astype(int)\n",
    "adata.X = sparse.csc_matrix(adata.X)\n",
    "del adata.raw\n",
    "save_and_test(adata, 'False')"
   ]
  },
  {
   "cell_type": "code",
   "execution_count": 33,
   "id": "9798769d-395c-4724-93a3-28e1da630a79",
   "metadata": {},
   "outputs": [
    {
     "name": "stdout",
     "output_type": "stream",
     "text": [
      "Datatype of raw.X matrix: float64\n",
      "Format of raw.X matrix: numpy array\n",
      "raw.X is all integers\n",
      "---------\n",
      "Datatype of X matrix: float32\n",
      "Format of X matrix: csr\n",
      "X contains non-integer values\n",
      "------------------\n",
      "Loading dependencies\n",
      "Loading validator modules\n",
      "\n",
      "Starting validation...\n",
      "WARNING: Sparsity of 'raw.X' is 0.6653779298622293 which is greater than 0.5, and it is not a 'scipy.sparse.csr_matrix'. It is STRONGLY RECOMMENDED to use this type of matrix for the given sparsity.\n",
      "ERROR: Raw matrix values must have type numpy.float32.\n",
      "ERROR: Raw data may be missing: data in 'raw.X' does not meet schema requirements.\n",
      "Validation complete in 0:00:00.664475 with status is_valid=False\n",
      "------------------\n",
      "\u001b[1m\u001b[92mPASSED\u001b[0m\n"
     ]
    }
   ],
   "source": [
    "# The raw counts in adata.raw.X are float64 for np.ndarray\n",
    "adata = sc.read_h5ad(\"../valid.h5ad\")\n",
    "raw = ad.AnnData(X=adata.raw.X, obs=adata.obs, var=adata.raw.var)\n",
    "raw.X = raw.X.astype('float64')\n",
    "raw.X = raw.X.toarray()\n",
    "adata.raw = raw\n",
    "save_and_test(adata, 'False')"
   ]
  },
  {
   "cell_type": "code",
   "execution_count": 34,
   "id": "ca072751-37e2-402c-978c-e97446252bab",
   "metadata": {},
   "outputs": [
    {
     "name": "stdout",
     "output_type": "stream",
     "text": [
      "raw slot is absent\n",
      "---------\n",
      "Datatype of X matrix: float64\n",
      "Format of X matrix: numpy array\n",
      "X is all integers\n",
      "------------------\n",
      "Loading dependencies\n",
      "Loading validator modules\n",
      "\n",
      "Starting validation...\n",
      "WARNING: Sparsity of 'X' is 0.6653779298622293 which is greater than 0.5, and it is not a 'scipy.sparse.csr_matrix'. It is STRONGLY RECOMMENDED to use this type of matrix for the given sparsity.\n",
      "ERROR: Raw matrix values must have type numpy.float32.\n",
      "ERROR: Raw data is missing: there is only a normalized matrix in X and no raw.X\n",
      "Validation complete in 0:00:00.523946 with status is_valid=False\n",
      "------------------\n",
      "\u001b[1m\u001b[92mPASSED\u001b[0m\n"
     ]
    }
   ],
   "source": [
    "# The raw counts in adata.X are float64 for np.ndarray\n",
    "adata = sc.read_h5ad(\"../valid.h5ad\")\n",
    "adata.X = adata.raw.X.astype('float64')\n",
    "adata.X = adata.X.toarray()\n",
    "del adata.raw\n",
    "save_and_test(adata, 'False')"
   ]
  },
  {
   "cell_type": "code",
   "execution_count": 35,
   "id": "fd88ca9d-1892-40b6-82db-75f578393bc9",
   "metadata": {},
   "outputs": [],
   "source": [
    "# The raw counts in adata.raw.X are float16 for np.ndarray\n",
    "# ValueError: Output dtype not compatible with inputs."
   ]
  },
  {
   "cell_type": "code",
   "execution_count": 36,
   "id": "acf115d0-9a22-42dc-9909-f0ce61771f8b",
   "metadata": {},
   "outputs": [],
   "source": [
    "# The raw counts in adata.X are float16 for np.ndarray\n",
    "# ValueError: Output dtype not compatible with inputs."
   ]
  },
  {
   "cell_type": "code",
   "execution_count": 37,
   "id": "58e6c6e7-7056-4e0f-8921-ef724535fd24",
   "metadata": {},
   "outputs": [
    {
     "name": "stdout",
     "output_type": "stream",
     "text": [
      "Datatype of raw.X matrix: int64\n",
      "Format of raw.X matrix: numpy array\n",
      "raw.X is all integers\n",
      "---------\n",
      "Datatype of X matrix: float32\n",
      "Format of X matrix: csr\n",
      "X contains non-integer values\n",
      "------------------\n",
      "Loading dependencies\n",
      "Loading validator modules\n",
      "\n",
      "Starting validation...\n",
      "WARNING: Sparsity of 'raw.X' is 0.6653779298622293 which is greater than 0.5, and it is not a 'scipy.sparse.csr_matrix'. It is STRONGLY RECOMMENDED to use this type of matrix for the given sparsity.\n",
      "ERROR: Raw matrix values must have type numpy.float32.\n",
      "ERROR: Raw data may be missing: data in 'raw.X' does not meet schema requirements.\n",
      "Validation complete in 0:00:00.543127 with status is_valid=False\n",
      "------------------\n",
      "\u001b[1m\u001b[92mPASSED\u001b[0m\n"
     ]
    }
   ],
   "source": [
    "# The raw counts in adata.raw.X are integers for np.ndarray\n",
    "adata = sc.read_h5ad(\"../valid.h5ad\")\n",
    "raw = ad.AnnData(X=adata.raw.X, obs=adata.obs, var=adata.raw.var)\n",
    "raw.X = raw.X.astype(int)\n",
    "raw.X = raw.X.toarray()\n",
    "adata.raw = raw\n",
    "save_and_test(adata, 'False')"
   ]
  },
  {
   "cell_type": "code",
   "execution_count": 38,
   "id": "fb760664-e0e6-44e5-aac9-639ca562c45e",
   "metadata": {},
   "outputs": [
    {
     "name": "stdout",
     "output_type": "stream",
     "text": [
      "raw slot is absent\n",
      "---------\n",
      "Datatype of X matrix: int64\n",
      "Format of X matrix: numpy array\n",
      "X is all integers\n",
      "------------------\n",
      "Loading dependencies\n",
      "Loading validator modules\n",
      "\n",
      "Starting validation...\n",
      "WARNING: Sparsity of 'X' is 0.6653779298622293 which is greater than 0.5, and it is not a 'scipy.sparse.csr_matrix'. It is STRONGLY RECOMMENDED to use this type of matrix for the given sparsity.\n",
      "ERROR: Raw matrix values must have type numpy.float32.\n",
      "ERROR: Raw data is missing: there is only a normalized matrix in X and no raw.X\n",
      "Validation complete in 0:00:00.411815 with status is_valid=False\n",
      "------------------\n",
      "\u001b[1m\u001b[92mPASSED\u001b[0m\n"
     ]
    }
   ],
   "source": [
    "# The raw counts in adata.X are integers for np.ndarray\n",
    "adata = sc.read_h5ad(\"../valid.h5ad\")\n",
    "adata.X = adata.raw.X.astype(int)\n",
    "adata.X = adata.X.toarray()\n",
    "del adata.raw\n",
    "save_and_test(adata, 'False')"
   ]
  },
  {
   "cell_type": "code",
   "execution_count": 39,
   "id": "72b9b648-078d-46ac-9207-7259c1ee61c5",
   "metadata": {},
   "outputs": [
    {
     "name": "stdout",
     "output_type": "stream",
     "text": [
      "Nonzero expression values in adata.raw.X for first 5 cells: [-145. -145. -145. ... -145. -145. -145.]\n",
      "Datatype of raw.X matrix: float32\n",
      "Format of raw.X matrix: csr\n",
      "raw.X is all integers\n",
      "---------\n",
      "Datatype of X matrix: float32\n",
      "Format of X matrix: csr\n",
      "X contains non-integer values\n",
      "------------------\n",
      "Loading dependencies\n",
      "Loading validator modules\n",
      "\n",
      "Starting validation...\n",
      "ERROR: All non-zero values in raw matrix must be positive integers of type numpy.float32.\n",
      "ERROR: Raw data may be missing: data in 'raw.X' does not meet schema requirements.\n",
      "Validation complete in 0:00:01.637124 with status is_valid=False\n",
      "------------------\n",
      "\u001b[1m\u001b[92mPASSED\u001b[0m\n"
     ]
    }
   ],
   "source": [
    "#raw layer includes some negative int values - in adata.raw.X\n",
    "adata = sc.read_h5ad(\"../valid.h5ad\")\n",
    "raw = ad.AnnData(X=adata.raw.X, obs=adata.obs, var=adata.raw.var)\n",
    "raw.X = raw.X.toarray()\n",
    "raw.X[0:5] = -145\n",
    "raw.X = sparse.csr_matrix(raw.X)\n",
    "adata.raw = raw\n",
    "print(\"Nonzero expression values in adata.raw.X for first 5 cells: {}\".format(adata[0:5,:].raw.X.data))\n",
    "save_and_test(adata, 'False')"
   ]
  },
  {
   "cell_type": "code",
   "execution_count": 40,
   "id": "2f9429c0-35ca-495e-96cf-9e0007c5f2c5",
   "metadata": {},
   "outputs": [
    {
     "name": "stdout",
     "output_type": "stream",
     "text": [
      "Nonzero expression values in adata.X first 5 cells: [-145. -145. -145. ... -145. -145. -145.]\n",
      "raw slot is absent\n",
      "---------\n",
      "Datatype of X matrix: float32\n",
      "Format of X matrix: csr\n",
      "X is all integers\n",
      "------------------\n",
      "Loading dependencies\n",
      "Loading validator modules\n",
      "\n",
      "Starting validation...\n",
      "ERROR: All non-zero values in raw matrix must be positive integers of type numpy.float32.\n",
      "ERROR: Raw data is missing: there is only a normalized matrix in X and no raw.X\n",
      "Validation complete in 0:00:01.538073 with status is_valid=False\n",
      "------------------\n",
      "\u001b[1m\u001b[92mPASSED\u001b[0m\n"
     ]
    }
   ],
   "source": [
    "#raw layer includes some negative int values - in adata.X\n",
    "adata = sc.read_h5ad(\"../valid.h5ad\")\n",
    "adata.X = raw.X.toarray()\n",
    "adata.X[0:5] = -145\n",
    "adata.X = sparse.csr_matrix(adata.X)\n",
    "del adata.raw\n",
    "print(\"Nonzero expression values in adata.X first 5 cells: {}\".format(adata[0:5,:].X.data))\n",
    "save_and_test(adata, 'False')"
   ]
  },
  {
   "cell_type": "code",
   "execution_count": 41,
   "id": "22adbffe-1f19-4297-974c-2aef5870377f",
   "metadata": {},
   "outputs": [
    {
     "name": "stdout",
     "output_type": "stream",
     "text": [
      "Nonzero expression values in adata.raw.X for first 5 cells: []\n",
      "Datatype of raw.X matrix: float32\n",
      "Format of raw.X matrix: csr\n",
      "raw.X is all integers\n",
      "---------\n",
      "Datatype of X matrix: float32\n",
      "Format of X matrix: csr\n",
      "X contains non-integer values\n",
      "------------------\n",
      "Loading dependencies\n",
      "Loading validator modules\n",
      "\n",
      "Starting validation...\n",
      "ERROR: Each cell must have at least one non-zero value in its row in the raw matrix.\n",
      "ERROR: Raw data may be missing: data in 'raw.X' does not meet schema requirements.\n",
      "Validation complete in 0:00:01.683724 with status is_valid=False\n",
      "------------------\n",
      "\u001b[1m\u001b[92mPASSED\u001b[0m\n"
     ]
    }
   ],
   "source": [
    "# The raw counts in adata.raw.X is csr and has zero counts for first 5 cells\n",
    "adata = sc.read_h5ad(\"../valid.h5ad\")\n",
    "raw = ad.AnnData(X=adata.raw.X, obs=adata.obs, var=adata.raw.var)\n",
    "raw.X = raw.X.toarray()\n",
    "raw.X[0:5] = 0\n",
    "raw.X = sparse.csr_matrix(raw.X)\n",
    "adata.raw = raw\n",
    "print(\"Nonzero expression values in adata.raw.X for first 5 cells: {}\".format(adata[0:5,:].raw.X.data))\n",
    "save_and_test(adata, 'False')"
   ]
  },
  {
   "cell_type": "code",
   "execution_count": 42,
   "id": "f4035a97-9817-4c3e-9d5e-bb748e516c36",
   "metadata": {},
   "outputs": [
    {
     "name": "stdout",
     "output_type": "stream",
     "text": [
      "Nonzero expression values in adata.raw.X for first 5 cells: []\n",
      "Datatype of raw.X matrix: float32\n",
      "Format of raw.X matrix: csc\n",
      "raw.X is all integers\n",
      "---------\n",
      "Datatype of X matrix: float32\n",
      "Format of X matrix: csr\n",
      "X contains non-integer values\n",
      "------------------\n",
      "Loading dependencies\n",
      "Loading validator modules\n",
      "\n",
      "Starting validation...\n",
      "Matrices are in CSC format; loading entire dataset into memory.\n",
      "WARNING: Sparsity of 'raw.X' is 0.6662728797638218 which is greater than 0.5, and it is not a 'scipy.sparse.csr_matrix'. It is STRONGLY RECOMMENDED to use this type of matrix for the given sparsity.\n",
      "ERROR: Each cell must have at least one non-zero value in its row in the raw matrix.\n",
      "ERROR: Raw data may be missing: data in 'raw.X' does not meet schema requirements.\n",
      "Validation complete in 0:00:02.167283 with status is_valid=False\n",
      "------------------\n",
      "\u001b[1m\u001b[92mPASSED\u001b[0m\n"
     ]
    }
   ],
   "source": [
    "# The raw counts in adata.raw.X is csc and has zero counts for first 5 cells\n",
    "adata = sc.read_h5ad(\"../valid.h5ad\")\n",
    "raw = ad.AnnData(X=adata.raw.X, obs=adata.obs, var=adata.raw.var)\n",
    "raw.X = raw.X.toarray()\n",
    "raw.X[0:5] = 0\n",
    "raw.X = sparse.csc_matrix(raw.X)\n",
    "adata.raw = raw\n",
    "print(\"Nonzero expression values in adata.raw.X for first 5 cells: {}\".format(adata[0:5,:].raw.X.data))\n",
    "save_and_test(adata, 'False')"
   ]
  },
  {
   "cell_type": "code",
   "execution_count": 43,
   "id": "2108a2ba-5f96-4376-944a-3f58f5935a01",
   "metadata": {},
   "outputs": [
    {
     "name": "stdout",
     "output_type": "stream",
     "text": [
      "Nonzero expression values in adata.raw.X for first 5 cells: []\n",
      "Datatype of raw.X matrix: float32\n",
      "Format of raw.X matrix: numpy array\n",
      "raw.X is all integers\n",
      "---------\n",
      "Datatype of X matrix: float32\n",
      "Format of X matrix: csr\n",
      "X contains non-integer values\n",
      "------------------\n",
      "Loading dependencies\n",
      "Loading validator modules\n",
      "\n",
      "Starting validation...\n",
      "WARNING: Sparsity of 'raw.X' is 0.6662728797638218 which is greater than 0.5, and it is not a 'scipy.sparse.csr_matrix'. It is STRONGLY RECOMMENDED to use this type of matrix for the given sparsity.\n",
      "ERROR: Each cell must have at least one non-zero value in its row in the raw matrix.\n",
      "ERROR: Raw data may be missing: data in 'raw.X' does not meet schema requirements.\n",
      "Validation complete in 0:00:01.217033 with status is_valid=False\n",
      "------------------\n",
      "\u001b[1m\u001b[92mPASSED\u001b[0m\n"
     ]
    }
   ],
   "source": [
    "# The raw counts in adata.raw.X is np.ndarray and has zero counts for first 5 cells\n",
    "adata = sc.read_h5ad(\"../valid.h5ad\")\n",
    "raw = ad.AnnData(X=adata.raw.X, obs=adata.obs, var=adata.raw.var)\n",
    "raw.X = raw.X.toarray()\n",
    "raw.X[0:5] = 0\n",
    "adata.raw = raw\n",
    "print(\"Nonzero expression values in adata.raw.X for first 5 cells: {}\".format(adata[0:5,:].raw.X[~np.all(adata[0:5,:].raw.X == 0, axis=1)]))\n",
    "save_and_test(adata, 'False')"
   ]
  },
  {
   "cell_type": "code",
   "execution_count": 44,
   "id": "e6e98069-a94a-4b88-a0b6-95feff98eaaa",
   "metadata": {},
   "outputs": [
    {
     "name": "stdout",
     "output_type": "stream",
     "text": [
      "Nonzero expression values in adata.X first 5 cells: []\n",
      "raw slot is absent\n",
      "---------\n",
      "Datatype of X matrix: float32\n",
      "Format of X matrix: csr\n",
      "X is all integers\n",
      "------------------\n",
      "Loading dependencies\n",
      "Loading validator modules\n",
      "\n",
      "Starting validation...\n",
      "ERROR: Each cell must have at least one non-zero value in its row in the raw matrix.\n",
      "ERROR: Raw data is missing: there is only a normalized matrix in X and no raw.X\n",
      "Validation complete in 0:00:01.556297 with status is_valid=False\n",
      "------------------\n",
      "\u001b[1m\u001b[92mPASSED\u001b[0m\n"
     ]
    }
   ],
   "source": [
    "# The raw counts in adata.X is csr and has zero counts for first 5 cells\n",
    "adata = sc.read_h5ad(\"../valid.h5ad\")\n",
    "adata.X = adata.raw.X.toarray()\n",
    "adata.X[0:5] = 0\n",
    "adata.X = sparse.csr_matrix(adata.X)\n",
    "del adata.raw\n",
    "print(\"Nonzero expression values in adata.X first 5 cells: {}\".format(adata[0:5,:].X.data))\n",
    "save_and_test(adata, 'False')"
   ]
  },
  {
   "cell_type": "code",
   "execution_count": 45,
   "id": "4f41c248-c085-4673-93a7-7e1b93d489e6",
   "metadata": {},
   "outputs": [
    {
     "name": "stdout",
     "output_type": "stream",
     "text": [
      "Nonzero expression values in adata.X first 5 cells: []\n",
      "raw slot is absent\n",
      "---------\n",
      "Datatype of X matrix: float32\n",
      "Format of X matrix: csc\n",
      "X is all integers\n",
      "------------------\n",
      "Loading dependencies\n",
      "Loading validator modules\n",
      "\n",
      "Starting validation...\n",
      "Matrices are in CSC format; loading entire dataset into memory.\n",
      "WARNING: Sparsity of 'X' is 0.6662728797638218 which is greater than 0.5, and it is not a 'scipy.sparse.csr_matrix'. It is STRONGLY RECOMMENDED to use this type of matrix for the given sparsity.\n",
      "ERROR: Each cell must have at least one non-zero value in its row in the raw matrix.\n",
      "ERROR: Raw data is missing: there is only a normalized matrix in X and no raw.X\n",
      "Validation complete in 0:00:02.057178 with status is_valid=False\n",
      "------------------\n",
      "\u001b[1m\u001b[92mPASSED\u001b[0m\n"
     ]
    }
   ],
   "source": [
    "# The raw counts in adata.X is csr and has zero counts for first 5 cells\n",
    "adata = sc.read_h5ad(\"../valid.h5ad\")\n",
    "adata.X = adata.raw.X.toarray()\n",
    "adata.X[0:5] = 0\n",
    "adata.X = sparse.csc_matrix(adata.X)\n",
    "del adata.raw\n",
    "print(\"Nonzero expression values in adata.X first 5 cells: {}\".format(adata[0:5,:].X.data))\n",
    "save_and_test(adata, 'False')"
   ]
  },
  {
   "cell_type": "code",
   "execution_count": 46,
   "id": "9a0f8d49-c462-43b5-aa7d-3a20db1b0a73",
   "metadata": {},
   "outputs": [
    {
     "name": "stdout",
     "output_type": "stream",
     "text": [
      "Nonzero expression values in adata.X first 5 cells: []\n",
      "raw slot is absent\n",
      "---------\n",
      "Datatype of X matrix: float32\n",
      "Format of X matrix: numpy array\n",
      "X is all integers\n",
      "------------------\n",
      "Loading dependencies\n",
      "Loading validator modules\n",
      "\n",
      "Starting validation...\n",
      "WARNING: Sparsity of 'X' is 0.6662728797638218 which is greater than 0.5, and it is not a 'scipy.sparse.csr_matrix'. It is STRONGLY RECOMMENDED to use this type of matrix for the given sparsity.\n",
      "ERROR: Each cell must have at least one non-zero value in its row in the raw matrix.\n",
      "ERROR: Raw data is missing: there is only a normalized matrix in X and no raw.X\n",
      "Validation complete in 0:00:01.103737 with status is_valid=False\n",
      "------------------\n",
      "\u001b[1m\u001b[92mPASSED\u001b[0m\n"
     ]
    }
   ],
   "source": [
    "# The raw counts in adata.X is csr and has zero counts for first 5 cells\n",
    "adata = sc.read_h5ad(\"../valid.h5ad\")\n",
    "adata.X = adata.raw.X.toarray()\n",
    "adata.X[0:5] = 0\n",
    "del adata.raw\n",
    "print(\"Nonzero expression values in adata.X first 5 cells: {}\".format(adata[0:5,:].X[~np.all(adata[0:5,:].X == 0, axis=1)]))\n",
    "save_and_test(adata, 'False')"
   ]
  },
  {
   "cell_type": "code",
   "execution_count": null,
   "id": "9038d0f8-6c9e-43ce-9d32-5d2c2a46e3b1",
   "metadata": {},
   "outputs": [],
   "source": []
  }
 ],
 "metadata": {
  "kernelspec": {
   "display_name": "Python 3 (ipykernel)",
   "language": "python",
   "name": "python3"
  },
  "language_info": {
   "codemirror_mode": {
    "name": "ipython",
    "version": 3
   },
   "file_extension": ".py",
   "mimetype": "text/x-python",
   "name": "python",
   "nbconvert_exporter": "python",
   "pygments_lexer": "ipython3",
   "version": "3.9.18"
  }
 },
 "nbformat": 4,
 "nbformat_minor": 5
}
