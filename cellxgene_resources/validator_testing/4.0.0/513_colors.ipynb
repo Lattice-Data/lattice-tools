{
 "cells": [
  {
   "cell_type": "markdown",
   "id": "0fdc81bf",
   "metadata": {},
   "source": [
    "https://github.com/chanzuckerberg/single-cell-curation/issues/513 <br>\n",
    "https://github.com/chanzuckerberg/single-cell-curation/blob/main/schema/4.0.0/schema.md#column_colors"
   ]
  },
  {
   "cell_type": "code",
   "execution_count": 1,
   "id": "2b8b98ac",
   "metadata": {},
   "outputs": [],
   "source": [
    "#import cxg_upload\n",
    "import matplotlib.colors as mcolors\n",
    "import numpy as np\n",
    "import os\n",
    "import pandas as pd\n",
    "import random\n",
    "import scanpy as sc\n",
    "import subprocess\n",
    "from datetime import datetime"
   ]
  },
  {
   "cell_type": "code",
   "execution_count": 2,
   "id": "75849952",
   "metadata": {},
   "outputs": [],
   "source": [
    "def validate(file):\n",
    "    validate_process = subprocess.run(['cellxgene-schema', 'validate', file], stdout=subprocess.PIPE, stderr=subprocess.PIPE)\n",
    "    for line in validate_process.stdout.decode('utf-8').split('\\n'):\n",
    "        print(line)\n",
    "    for line in validate_process.stderr.decode('utf-8').split('\\n'):\n",
    "        print(line)\n",
    "        if 'is_valid=' in line:\n",
    "            valid = line.split('=')[-1]\n",
    "            return valid"
   ]
  },
  {
   "cell_type": "code",
   "execution_count": 3,
   "id": "19365f72",
   "metadata": {},
   "outputs": [],
   "source": [
    "def save_and_test(adata, expected):\n",
    "    now = datetime.now() \n",
    "    dt_string = now.strftime('%m/%d %H:%M')\n",
    "    adata.uns['title'] += (' - ' + dt_string)\n",
    "\n",
    "    file = 'test.h5ad'\n",
    "    adata.write(filename=file)\n",
    "    test_adata = sc.read_h5ad(file)\n",
    "    for k,v in test_adata.uns.items():\n",
    "        if k.endswith('_colors'):\n",
    "            print('--')\n",
    "            print(k)\n",
    "            print(v)\n",
    "            obs_field = k.replace('_colors','')\n",
    "            if obs_field in test_adata.obs.columns:\n",
    "                uniq_vals = str(len(test_adata.obs[obs_field].unique()))\n",
    "                val_type = str(test_adata.obs[obs_field].dtype)\n",
    "                print(obs_field + ':' + uniq_vals + ' values of type:' + val_type)\n",
    "            else:\n",
    "                print(obs_field + ' not in obs')\n",
    "            print('--')\n",
    "    print('------------------')\n",
    "\n",
    "    valid = validate(file)\n",
    "    print('------------------')\n",
    "    if expected != valid:\n",
    "        print('\\033[1m\\033[91mERROR\\033[0m')\n",
    "    else:\n",
    "        print('\\033[1m\\033[92mPASSED\\033[0m')\n",
    "        #if expected == 'True':\n",
    "            #cxg_upload.upload(file)\n",
    "    os.remove(file)"
   ]
  },
  {
   "cell_type": "code",
   "execution_count": 4,
   "id": "92a073af",
   "metadata": {},
   "outputs": [],
   "source": [
    "adata = sc.read_h5ad('../valid.h5ad')"
   ]
  },
  {
   "cell_type": "code",
   "execution_count": 5,
   "id": "e3ac92c0",
   "metadata": {},
   "outputs": [
    {
     "data": {
      "text/html": [
       "<div>\n",
       "<style scoped>\n",
       "    .dataframe tbody tr th:only-of-type {\n",
       "        vertical-align: middle;\n",
       "    }\n",
       "\n",
       "    .dataframe tbody tr th {\n",
       "        vertical-align: top;\n",
       "    }\n",
       "\n",
       "    .dataframe thead th {\n",
       "        text-align: right;\n",
       "    }\n",
       "</style>\n",
       "<table border=\"1\" class=\"dataframe\">\n",
       "  <thead>\n",
       "    <tr style=\"text-align: right;\">\n",
       "      <th></th>\n",
       "      <th>0</th>\n",
       "      <th>unique len</th>\n",
       "    </tr>\n",
       "    <tr>\n",
       "      <th>index</th>\n",
       "      <th></th>\n",
       "      <th></th>\n",
       "    </tr>\n",
       "  </thead>\n",
       "  <tbody>\n",
       "    <tr>\n",
       "      <th>BICCN_cluster_id</th>\n",
       "      <td>float64</td>\n",
       "      <td>61</td>\n",
       "    </tr>\n",
       "    <tr>\n",
       "      <th>QC</th>\n",
       "      <td>category</td>\n",
       "      <td>2000</td>\n",
       "    </tr>\n",
       "    <tr>\n",
       "      <th>BICCN_cluster_label</th>\n",
       "      <td>category</td>\n",
       "      <td>61</td>\n",
       "    </tr>\n",
       "    <tr>\n",
       "      <th>BICCN_subclass_label</th>\n",
       "      <td>category</td>\n",
       "      <td>17</td>\n",
       "    </tr>\n",
       "    <tr>\n",
       "      <th>BICCN_class_label</th>\n",
       "      <td>category</td>\n",
       "      <td>3</td>\n",
       "    </tr>\n",
       "    <tr>\n",
       "      <th>cluster_color</th>\n",
       "      <td>category</td>\n",
       "      <td>61</td>\n",
       "    </tr>\n",
       "    <tr>\n",
       "      <th>size</th>\n",
       "      <td>float64</td>\n",
       "      <td>55</td>\n",
       "    </tr>\n",
       "    <tr>\n",
       "      <th>temp_class_label</th>\n",
       "      <td>category</td>\n",
       "      <td>17</td>\n",
       "    </tr>\n",
       "    <tr>\n",
       "      <th>BICCN_ontology_term_id</th>\n",
       "      <td>category</td>\n",
       "      <td>17</td>\n",
       "    </tr>\n",
       "    <tr>\n",
       "      <th>assay_ontology_term_id</th>\n",
       "      <td>category</td>\n",
       "      <td>1</td>\n",
       "    </tr>\n",
       "    <tr>\n",
       "      <th>disease_ontology_term_id</th>\n",
       "      <td>category</td>\n",
       "      <td>1</td>\n",
       "    </tr>\n",
       "    <tr>\n",
       "      <th>tissue_ontology_term_id</th>\n",
       "      <td>category</td>\n",
       "      <td>1</td>\n",
       "    </tr>\n",
       "    <tr>\n",
       "      <th>BICCN_project</th>\n",
       "      <td>category</td>\n",
       "      <td>1</td>\n",
       "    </tr>\n",
       "    <tr>\n",
       "      <th>cell_type_ontology_term_id</th>\n",
       "      <td>category</td>\n",
       "      <td>6</td>\n",
       "    </tr>\n",
       "    <tr>\n",
       "      <th>self_reported_ethnicity_ontology_term_id</th>\n",
       "      <td>category</td>\n",
       "      <td>1</td>\n",
       "    </tr>\n",
       "    <tr>\n",
       "      <th>development_stage_ontology_term_id</th>\n",
       "      <td>category</td>\n",
       "      <td>1</td>\n",
       "    </tr>\n",
       "    <tr>\n",
       "      <th>sex_ontology_term_id</th>\n",
       "      <td>category</td>\n",
       "      <td>2</td>\n",
       "    </tr>\n",
       "    <tr>\n",
       "      <th>is_primary_data</th>\n",
       "      <td>bool</td>\n",
       "      <td>1</td>\n",
       "    </tr>\n",
       "    <tr>\n",
       "      <th>organism_ontology_term_id</th>\n",
       "      <td>category</td>\n",
       "      <td>1</td>\n",
       "    </tr>\n",
       "    <tr>\n",
       "      <th>donor_id</th>\n",
       "      <td>category</td>\n",
       "      <td>44</td>\n",
       "    </tr>\n",
       "    <tr>\n",
       "      <th>suspension_type</th>\n",
       "      <td>category</td>\n",
       "      <td>1</td>\n",
       "    </tr>\n",
       "    <tr>\n",
       "      <th>tissue_type</th>\n",
       "      <td>category</td>\n",
       "      <td>1</td>\n",
       "    </tr>\n",
       "  </tbody>\n",
       "</table>\n",
       "</div>"
      ],
      "text/plain": [
       "                                                 0  unique len\n",
       "index                                                         \n",
       "BICCN_cluster_id                           float64          61\n",
       "QC                                        category        2000\n",
       "BICCN_cluster_label                       category          61\n",
       "BICCN_subclass_label                      category          17\n",
       "BICCN_class_label                         category           3\n",
       "cluster_color                             category          61\n",
       "size                                       float64          55\n",
       "temp_class_label                          category          17\n",
       "BICCN_ontology_term_id                    category          17\n",
       "assay_ontology_term_id                    category           1\n",
       "disease_ontology_term_id                  category           1\n",
       "tissue_ontology_term_id                   category           1\n",
       "BICCN_project                             category           1\n",
       "cell_type_ontology_term_id                category           6\n",
       "self_reported_ethnicity_ontology_term_id  category           1\n",
       "development_stage_ontology_term_id        category           1\n",
       "sex_ontology_term_id                      category           2\n",
       "is_primary_data                               bool           1\n",
       "organism_ontology_term_id                 category           1\n",
       "donor_id                                  category          44\n",
       "suspension_type                           category           1\n",
       "tissue_type                               category           1"
      ]
     },
     "execution_count": 5,
     "metadata": {},
     "output_type": "execute_result"
    }
   ],
   "source": [
    "df = pd.DataFrame(adata.obs.dtypes).reset_index()\n",
    "df['unique len'] = df['index'].apply(lambda x: len(adata.obs[x].unique()))\n",
    "df.set_index('index', inplace=True)\n",
    "df"
   ]
  },
  {
   "cell_type": "code",
   "execution_count": 6,
   "id": "5d3723b1",
   "metadata": {},
   "outputs": [],
   "source": [
    "def create_color_list(count):\n",
    "    return random.sample(list(mcolors.cnames.values()), count)"
   ]
  },
  {
   "cell_type": "markdown",
   "id": "f4a199fe",
   "metadata": {},
   "source": [
    "**Test valid cases**"
   ]
  },
  {
   "cell_type": "code",
   "execution_count": 7,
   "id": "68d9a16e-635f-4a5a-9ad4-472007c5f706",
   "metadata": {},
   "outputs": [
    {
     "name": "stdout",
     "output_type": "stream",
     "text": [
      "------------------\n",
      "Loading dependencies\n",
      "Loading validator modules\n",
      "\n",
      "Starting validation...\n",
      "Validation complete in 0:00:01.687781 with status is_valid=True\n",
      "------------------\n",
      "\u001b[1m\u001b[92mPASSED\u001b[0m\n"
     ]
    }
   ],
   "source": [
    "#untouched, no colors defined\n",
    "save_and_test(adata, 'True')"
   ]
  },
  {
   "cell_type": "code",
   "execution_count": 8,
   "id": "20d01266",
   "metadata": {},
   "outputs": [
    {
     "name": "stdout",
     "output_type": "stream",
     "text": [
      "--\n",
      "BICCN_class_label_colors\n",
      "['blueviolet' 'cornsilk' 'dimgrey']\n",
      "BICCN_class_label:3 values of type:category\n",
      "--\n",
      "--\n",
      "temp_class_label_colors\n",
      "['#FFF5EE' '#B8860B' '#BA55D3' '#6B8E23' '#F8F8FF' '#696969' '#FF6347'\n",
      " '#F5FFFA' '#9ACD32' '#9370DB' '#C0C0C0' '#98FB98' '#40E0D0' '#6A5ACD'\n",
      " '#48D1CC' '#00FF00' '#A0522D']\n",
      "temp_class_label:17 values of type:category\n",
      "--\n",
      "------------------\n",
      "Loading dependencies\n",
      "Loading validator modules\n",
      "\n",
      "Starting validation...\n",
      "Validation complete in 0:00:01.733874 with status is_valid=True\n",
      "------------------\n",
      "\u001b[1m\u001b[92mPASSED\u001b[0m\n"
     ]
    }
   ],
   "source": [
    "#colors matches length of obs - named & hex\n",
    "adata.uns['title'] = '513 colors matches length of obs'\n",
    "\n",
    "adata.uns['temp_class_label_colors'] = np.array(create_color_list(17))\n",
    "adata.uns['BICCN_class_label_colors'] = np.array(random.sample(list(mcolors.CSS4_COLORS.keys()), 3))\n",
    "save_and_test(adata, 'True')"
   ]
  },
  {
   "cell_type": "code",
   "execution_count": 9,
   "id": "2e0c8175",
   "metadata": {},
   "outputs": [
    {
     "name": "stdout",
     "output_type": "stream",
     "text": [
      "--\n",
      "BICCN_class_label_colors\n",
      "['palegreen' 'mediumblue' 'papayawhip' 'ivory' 'honeydew' 'darkslategray'\n",
      " 'lightskyblue' 'orange' 'darkmagenta' 'darkseagreen' 'rosybrown' 'green']\n",
      "BICCN_class_label:3 values of type:category\n",
      "--\n",
      "--\n",
      "temp_class_label_colors\n",
      "['#5f9ea0' '#fffacd' '#40e0d0' '#f4a460' '#f8f8ff' '#808080' '#ff00ff'\n",
      " '#4682b4' '#c71585' '#cd5c5c' '#bdb76b' '#f08080' '#808000' '#7cfc00'\n",
      " '#00ced1' '#000000' '#daa520' '#ffff00' '#f5fffa' '#708090' '#191970'\n",
      " '#8b008b' '#deb887' '#bc8f8f' '#008080' '#ff69b4' '#00ffff' '#ffe4b5'\n",
      " '#00008b' '#00ff00' '#00bfff' '#4b0082' '#ffdead' '#ffa07a' '#9400d3'\n",
      " '#008b8b' '#0000ff' '#006400' '#4169e1' '#e9967a']\n",
      "temp_class_label:17 values of type:category\n",
      "--\n",
      "------------------\n",
      "Loading dependencies\n",
      "Loading validator modules\n",
      "\n",
      "Starting validation...\n",
      "Validation complete in 0:00:01.669568 with status is_valid=True\n",
      "------------------\n",
      "\u001b[1m\u001b[92mPASSED\u001b[0m\n"
     ]
    }
   ],
   "source": [
    "#colors exceeds length of obs - named & hex\n",
    "adata.uns['title'] = '513 colors exceeds length of obs'\n",
    "\n",
    "adata.uns['temp_class_label_colors'] = np.array([c.lower() for c in create_color_list(40)])\n",
    "adata.uns['BICCN_class_label_colors'] = np.array(random.sample(list(mcolors.CSS4_COLORS.keys()), 12))\n",
    "save_and_test(adata, 'True')"
   ]
  },
  {
   "cell_type": "code",
   "execution_count": 10,
   "id": "de19a968",
   "metadata": {},
   "outputs": [
    {
     "name": "stdout",
     "output_type": "stream",
     "text": [
      "--\n",
      "BICCN_ontology_term_id_colors\n",
      "['#FF8C00' '#9400D3' '#A52A2A' '#F8F8FF' '#F5F5DC' '#4169E1' '#800080'\n",
      " '#DDA0DD' '#708090' '#8B008B' '#F0FFFF' '#FFF5EE' '#FFE4B5' '#778899'\n",
      " '#D2B48C' '#800000' '#4B0082']\n",
      "BICCN_ontology_term_id:17 values of type:category\n",
      "--\n",
      "------------------\n",
      "Loading dependencies\n",
      "Loading validator modules\n",
      "\n",
      "Starting validation...\n",
      "Validation complete in 0:00:01.641147 with status is_valid=True\n",
      "------------------\n",
      "\u001b[1m\u001b[92mPASSED\u001b[0m\n"
     ]
    }
   ],
   "source": [
    "adata.uns = {'title': 'temporary title'}\n",
    "#colors for non-schema *_ontology_term_id - hex\n",
    "adata.uns['title'] = '513 colors for non-schema *_ontology_term_id'\n",
    "\n",
    "adata.uns['BICCN_ontology_term_id_colors'] = np.array(create_color_list(17))\n",
    "save_and_test(adata, 'True')"
   ]
  },
  {
   "cell_type": "code",
   "execution_count": 11,
   "id": "6e52a4f1",
   "metadata": {},
   "outputs": [
    {
     "name": "stdout",
     "output_type": "stream",
     "text": [
      "--\n",
      "BICCN_ontology_term_id_colors\n",
      "['royalblue' 'lightgreen' 'mediumseagreen' 'darkred' 'darkgreen' 'yellow'\n",
      " 'brown' 'darkviolet' 'rebeccapurple' 'pink' 'orangered' 'palevioletred'\n",
      " 'ivory' 'violet' 'dodgerblue' 'red' 'turquoise']\n",
      "BICCN_ontology_term_id:17 values of type:category\n",
      "--\n",
      "------------------\n",
      "Loading dependencies\n",
      "Loading validator modules\n",
      "\n",
      "Starting validation...\n",
      "Validation complete in 0:00:01.697771 with status is_valid=True\n",
      "------------------\n",
      "\u001b[1m\u001b[92mPASSED\u001b[0m\n"
     ]
    }
   ],
   "source": [
    "#colors for non-schema_ontology_term_id - named\n",
    "adata.uns['title'] = '513 colors for non-schema_ontology_term_id'\n",
    "\n",
    "adata.uns['BICCN_ontology_term_id_colors'] = np.array(random.sample(list(mcolors.CSS4_COLORS.keys()), 17))\n",
    "save_and_test(adata, 'True')"
   ]
  },
  {
   "cell_type": "code",
   "execution_count": 12,
   "id": "fb66aa19",
   "metadata": {},
   "outputs": [
    {
     "name": "stdout",
     "output_type": "stream",
     "text": [
      "--\n",
      "assay_ontology_term_id_colors\n",
      "['silver']\n",
      "assay_ontology_term_id:1 values of type:category\n",
      "--\n",
      "--\n",
      "sex_ontology_term_id_colors\n",
      "['#FF4500' '#4B0082']\n",
      "sex_ontology_term_id:2 values of type:category\n",
      "--\n",
      "------------------\n",
      "Loading dependencies\n",
      "Loading validator modules\n",
      "\n",
      "Starting validation...\n",
      "Validation complete in 0:00:01.669604 with status is_valid=True\n",
      "------------------\n",
      "\u001b[1m\u001b[92mPASSED\u001b[0m\n"
     ]
    }
   ],
   "source": [
    "adata.uns = {'title': 'temporary title'}\n",
    "#colors is for *_ontology_term_id = hex * named\n",
    "adata.uns['title'] = '513 colors is for *_ontology_term_id'\n",
    "\n",
    "adata.uns['sex_ontology_term_id_colors'] = np.array(create_color_list(2))\n",
    "adata.uns['assay_ontology_term_id_colors'] = random.sample(list(mcolors.CSS4_COLORS.keys()), 1)\n",
    "save_and_test(adata, 'True')"
   ]
  },
  {
   "cell_type": "code",
   "execution_count": 13,
   "id": "93244d5c",
   "metadata": {},
   "outputs": [
    {
     "name": "stdout",
     "output_type": "stream",
     "text": [
      "--\n",
      "BICCN_class_label_colors\n",
      "['chocolate' 'white' 'chocolate' 'white']\n",
      "BICCN_class_label:3 values of type:category\n",
      "--\n",
      "--\n",
      "cell_type_ontology_term_id_colors\n",
      "['#808080' '#ADFF2F' '#778899' '#808080' '#ADFF2F' '#778899']\n",
      "cell_type_ontology_term_id:6 values of type:category\n",
      "--\n",
      "------------------\n",
      "Loading dependencies\n",
      "Loading validator modules\n",
      "\n",
      "Starting validation...\n",
      "Validation complete in 0:00:01.696699 with status is_valid=True\n",
      "------------------\n",
      "\u001b[1m\u001b[92mPASSED\u001b[0m\n"
     ]
    }
   ],
   "source": [
    "adata.uns = {'title': 'temporary title'}\n",
    "#duplicate colors in a list - hex & named\n",
    "adata.uns['title'] = '513 duplicate colors in a list'\n",
    "\n",
    "adata.uns['BICCN_class_label_colors'] = random.sample(list(mcolors.CSS4_COLORS.keys()), 2)\n",
    "adata.uns['BICCN_class_label_colors'] += adata.uns['BICCN_class_label_colors']\n",
    "adata.uns['BICCN_class_label_colors'] = np.array(adata.uns['BICCN_class_label_colors'])\n",
    "\n",
    "adata.uns['cell_type_ontology_term_id_colors'] = create_color_list(3)\n",
    "adata.uns['cell_type_ontology_term_id_colors'] += adata.uns['cell_type_ontology_term_id_colors']\n",
    "adata.uns['cell_type_ontology_term_id_colors'] = np.array(adata.uns['cell_type_ontology_term_id_colors'])\n",
    "save_and_test(adata, 'True')"
   ]
  },
  {
   "cell_type": "markdown",
   "id": "36b19db2",
   "metadata": {},
   "source": [
    "**Test invalid cases**"
   ]
  },
  {
   "cell_type": "code",
   "execution_count": 14,
   "id": "75307e6a",
   "metadata": {},
   "outputs": [
    {
     "name": "stdout",
     "output_type": "stream",
     "text": [
      "--\n",
      "BICCN_class_label_colors\n",
      "['lightcoral']\n",
      "BICCN_class_label:3 values of type:category\n",
      "--\n",
      "--\n",
      "temp_class_label_colors\n",
      "['#A0522D' '#00FF00']\n",
      "temp_class_label:17 values of type:category\n",
      "--\n",
      "------------------\n",
      "Loading dependencies\n",
      "Loading validator modules\n",
      "\n",
      "Starting validation...\n",
      "WARNING: Validation of raw layer was not performed due to current errors, try again after fixing current errors.\n",
      "ERROR: Annotated categorical field BICCN_class_label must have at least 3 color options in uns[BICCN_class_label_colors]. Found: ['lightcoral']\n",
      "ERROR: Annotated categorical field temp_class_label must have at least 17 color options in uns[temp_class_label_colors]. Found: ['#A0522D' '#00FF00']\n",
      "Validation complete in 0:00:00.522046 with status is_valid=False\n",
      "------------------\n",
      "\u001b[1m\u001b[92mPASSED\u001b[0m\n"
     ]
    }
   ],
   "source": [
    "adata.uns = {'title': 'temporary title'}\n",
    "#invalid test for length of colors array is less than obs counterpart - named & hex\n",
    "adata.uns['temp_class_label_colors'] = np.array(create_color_list(2))\n",
    "adata.uns['BICCN_class_label_colors'] = np.array(random.sample(list(mcolors.CSS4_COLORS.keys()), 1))\n",
    "save_and_test(adata, 'False')"
   ]
  },
  {
   "cell_type": "code",
   "execution_count": 15,
   "id": "51190aa7",
   "metadata": {},
   "outputs": [
    {
     "name": "stdout",
     "output_type": "stream",
     "text": [
      "--\n",
      "BICCN_class_label_colors\n",
      "[]\n",
      "BICCN_class_label:3 values of type:category\n",
      "--\n",
      "------------------\n",
      "Loading dependencies\n",
      "Loading validator modules\n",
      "\n",
      "Starting validation...\n",
      "WARNING: Validation of raw layer was not performed due to current errors, try again after fixing current errors.\n",
      "ERROR: Annotated categorical field BICCN_class_label must have at least 3 color options in uns[BICCN_class_label_colors]. Found: []\n",
      "Validation complete in 0:00:00.526532 with status is_valid=False\n",
      "------------------\n",
      "\u001b[1m\u001b[92mPASSED\u001b[0m\n"
     ]
    }
   ],
   "source": [
    "adata.uns = {'title': 'temporary title'}\n",
    "#invalid test for colors array that is empty np array\n",
    "adata.uns['BICCN_class_label_colors'] = np.array([])\n",
    "save_and_test(adata, 'False')"
   ]
  },
  {
   "cell_type": "code",
   "execution_count": 16,
   "id": "33e25d73",
   "metadata": {},
   "outputs": [
    {
     "name": "stdout",
     "output_type": "stream",
     "text": [
      "--\n",
      "BICCN_class_label_colors\n",
      "[nan nan nan]\n",
      "BICCN_class_label:3 values of type:category\n",
      "--\n",
      "------------------\n",
      "Loading dependencies\n",
      "Loading validator modules\n",
      "\n",
      "Starting validation...\n",
      "WARNING: Validation of raw layer was not performed due to current errors, try again after fixing current errors.\n",
      "ERROR: Colors in uns[BICCN_class_label_colors] must be strings. Found: [nan nan nan] which are float64\n",
      "Validation complete in 0:00:00.521479 with status is_valid=False\n",
      "------------------\n",
      "\u001b[1m\u001b[92mPASSED\u001b[0m\n"
     ]
    }
   ],
   "source": [
    "adata.uns = {'title': 'temporary title'}\n",
    "#invalid test for colors array that is None or np.nan\n",
    "adata.uns['BICCN_class_label_colors'] = np.array([np.nan, np.nan, np.nan])\n",
    "save_and_test(adata, 'False')"
   ]
  },
  {
   "cell_type": "code",
   "execution_count": 17,
   "id": "bad379fa",
   "metadata": {},
   "outputs": [
    {
     "name": "stdout",
     "output_type": "stream",
     "text": [
      "--\n",
      "BICCN_class_label_colors\n",
      "['' '' '']\n",
      "BICCN_class_label:3 values of type:category\n",
      "--\n",
      "------------------\n",
      "Loading dependencies\n",
      "Loading validator modules\n",
      "\n",
      "Starting validation...\n",
      "WARNING: Validation of raw layer was not performed due to current errors, try again after fixing current errors.\n",
      "ERROR: Colors in uns[BICCN_class_label_colors] must be either all hex colors or all CSS4 named colors. Found: ['' '' '']\n",
      "Validation complete in 0:00:00.516561 with status is_valid=False\n",
      "------------------\n",
      "\u001b[1m\u001b[92mPASSED\u001b[0m\n"
     ]
    }
   ],
   "source": [
    "adata.uns = {'title': 'temporary title'}\n",
    "#invalid test for colors array that is empty strings\n",
    "adata.uns['BICCN_class_label_colors'] = np.array(['','',''])\n",
    "save_and_test(adata, 'False')"
   ]
  },
  {
   "cell_type": "code",
   "execution_count": 18,
   "id": "46504981",
   "metadata": {},
   "outputs": [
    {
     "name": "stdout",
     "output_type": "stream",
     "text": [
      "--\n",
      "BICCN_class_label_colors\n",
      "#B22222,#2F4F4F,#FF00FF,#6A5ACD,#0000CD,#FFEBCD,#483D8B,#B0E0E6,#DA70D6,#708090,#663399,#CD5C5C,#191970,#FFE4C4,#7FFF00,#8B4513,#20B2AA\n",
      "BICCN_class_label:3 values of type:category\n",
      "--\n",
      "--\n",
      "sex_ontology_term_id_colors\n",
      "darkturquoise,azure\n",
      "sex_ontology_term_id:2 values of type:category\n",
      "--\n",
      "------------------\n",
      "Loading dependencies\n",
      "Loading validator modules\n",
      "\n",
      "Starting validation...\n",
      "WARNING: Validation of raw layer was not performed due to current errors, try again after fixing current errors.\n",
      "ERROR: Colors field uns['BICCN_class_label_colors'] must be of 'numpy.ndarray' type, it is <class 'str'>\n",
      "ERROR: Colors field uns['sex_ontology_term_id_colors'] must be of 'numpy.ndarray' type, it is <class 'str'>\n",
      "Validation complete in 0:00:00.519461 with status is_valid=False\n",
      "------------------\n",
      "\u001b[1m\u001b[92mPASSED\u001b[0m\n"
     ]
    }
   ],
   "source": [
    "adata.uns = {'title': 'temporary title'}\n",
    "#invalid test for colors as string or dictionary\n",
    "adata.uns['BICCN_class_label_colors'] = ','.join(create_color_list(17))\n",
    "adata.uns['sex_ontology_term_id_colors'] = ','.join(random.sample(list(mcolors.CSS4_COLORS.keys()), 2))\n",
    "save_and_test(adata, 'False')"
   ]
  },
  {
   "cell_type": "code",
   "execution_count": 19,
   "id": "c7421f3c",
   "metadata": {},
   "outputs": [
    {
     "name": "stdout",
     "output_type": "stream",
     "text": [
      "--\n",
      "cell_type_colors\n",
      "['#AFEEEE' '#F08080' '#4169E1' '#F4A460' '#778899' '#FFFACD']\n",
      "cell_type not in obs\n",
      "--\n",
      "--\n",
      "sex_colors\n",
      "['lemonchiffon' 'slategrey']\n",
      "sex not in obs\n",
      "--\n",
      "------------------\n",
      "Loading dependencies\n",
      "Loading validator modules\n",
      "\n",
      "Starting validation...\n",
      "WARNING: Validation of raw layer was not performed due to current errors, try again after fixing current errors.\n",
      "ERROR: Colors field uns[cell_type_colors] does not have a corresponding categorical field in obs. Annotate cell_type_ontology_term_id_colors instead\n",
      "ERROR: Colors field uns[sex_colors] does not have a corresponding categorical field in obs. Annotate sex_ontology_term_id_colors instead\n",
      "Validation complete in 0:00:00.524661 with status is_valid=False\n",
      "------------------\n",
      "\u001b[1m\u001b[92mPASSED\u001b[0m\n"
     ]
    }
   ],
   "source": [
    "adata.uns = {'title': 'temporary title'}\n",
    "#colors for schema fields - named & hex\n",
    "adata.uns['cell_type_colors'] = np.array(create_color_list(6))\n",
    "adata.uns['sex_colors'] = np.array(random.sample(list(mcolors.CSS4_COLORS.keys()), 2))\n",
    "save_and_test(adata, 'False')"
   ]
  },
  {
   "cell_type": "code",
   "execution_count": 20,
   "id": "4a297e63",
   "metadata": {},
   "outputs": [
    {
     "name": "stdout",
     "output_type": "stream",
     "text": [
      "--\n",
      "author_cell_type_colors\n",
      "['#2F4F4F' '#FFEBCD' '#F4A460' '#DAA520' '#2E8B57' '#FFFFFF' '#CD853F'\n",
      " '#6B8E23' '#00FF7F' '#8B4513' '#D8BFD8' '#A9A9A9' '#FAFAD2' '#D3D3D3'\n",
      " '#B0C4DE' '#228B22' '#F0F8FF']\n",
      "author_cell_type not in obs\n",
      "--\n",
      "------------------\n",
      "Loading dependencies\n",
      "Loading validator modules\n",
      "\n",
      "Starting validation...\n",
      "WARNING: Validation of raw layer was not performed due to current errors, try again after fixing current errors.\n",
      "ERROR: Colors field uns[author_cell_type_colors] does not have a corresponding categorical field in obs\n",
      "Validation complete in 0:00:00.531041 with status is_valid=False\n",
      "------------------\n",
      "\u001b[1m\u001b[92mPASSED\u001b[0m\n"
     ]
    }
   ],
   "source": [
    "adata.uns = {'title': 'temporary title'}\n",
    "#colors does not have obs counterpart\n",
    "adata.uns['author_cell_type_colors'] = np.array(create_color_list(17))\n",
    "save_and_test(adata, 'False')"
   ]
  },
  {
   "cell_type": "code",
   "execution_count": 21,
   "id": "b672c585",
   "metadata": {},
   "outputs": [
    {
     "name": "stdout",
     "output_type": "stream",
     "text": [
      "--\n",
      "BICCN_ontology_term_id_colors\n",
      "['#FFFFF0' '#7FFF00' '#006400' '#BA55D3' '#BDB76B' '#66CDAA' '#FAFAD2'\n",
      " '#EE82EE' '#8A2BE2' '#87CEFA' '#483D8B' '#000080' '#BC8F8F' '#ADD8E6'\n",
      " '#FF6347' '#F5F5DC' '#E6E6FA' '#98FB98' '#FFC0CB' '#DDA0DD' 'navajowhite'\n",
      " 'oldlace' 'sandybrown' 'beige' 'darkmagenta' 'ghostwhite' 'rebeccapurple'\n",
      " 'lime' 'aliceblue' 'wheat' 'pink' 'darkcyan' 'skyblue' 'tan'\n",
      " 'mediumslateblue' 'slategray' 'mediumturquoise' 'darkviolet'\n",
      " 'darkslategrey' 'limegreen']\n",
      "BICCN_ontology_term_id:17 values of type:category\n",
      "--\n",
      "------------------\n",
      "Loading dependencies\n",
      "Loading validator modules\n",
      "\n",
      "Starting validation...\n",
      "WARNING: Validation of raw layer was not performed due to current errors, try again after fixing current errors.\n",
      "ERROR: Colors in uns[BICCN_ontology_term_id_colors] must be either all hex colors or all CSS4 named colors. Found: ['#FFFFF0' '#7FFF00' '#006400' '#BA55D3' '#BDB76B' '#66CDAA' '#FAFAD2'\n",
      " '#EE82EE' '#8A2BE2' '#87CEFA' '#483D8B' '#000080' '#BC8F8F' '#ADD8E6'\n",
      " '#FF6347' '#F5F5DC' '#E6E6FA' '#98FB98' '#FFC0CB' '#DDA0DD' 'navajowhite'\n",
      " 'oldlace' 'sandybrown' 'beige' 'darkmagenta' 'ghostwhite' 'rebeccapurple'\n",
      " 'lime' 'aliceblue' 'wheat' 'pink' 'darkcyan' 'skyblue' 'tan'\n",
      " 'mediumslateblue' 'slategray' 'mediumturquoise' 'darkviolet'\n",
      " 'darkslategrey' 'limegreen']\n",
      "Validation complete in 0:00:00.523854 with status is_valid=False\n",
      "------------------\n",
      "\u001b[1m\u001b[92mPASSED\u001b[0m\n"
     ]
    }
   ],
   "source": [
    "adata.uns = {'title': 'temporary title'}\n",
    "#colors is mixed named & hex\n",
    "adata.uns['BICCN_ontology_term_id_colors'] = \\\n",
    "    np.array(create_color_list(20) + random.sample(list(mcolors.CSS4_COLORS.keys()), 20))\n",
    "save_and_test(adata, 'False')"
   ]
  },
  {
   "cell_type": "code",
   "execution_count": 22,
   "id": "1a62f63f",
   "metadata": {},
   "outputs": [
    {
     "name": "stdout",
     "output_type": "stream",
     "text": [
      "--\n",
      "BICCN_class_label_colors\n",
      "['r' 'b' 'k']\n",
      "BICCN_class_label:3 values of type:category\n",
      "--\n",
      "------------------\n",
      "Loading dependencies\n",
      "Loading validator modules\n",
      "\n",
      "Starting validation...\n",
      "WARNING: Validation of raw layer was not performed due to current errors, try again after fixing current errors.\n",
      "ERROR: Colors in uns[BICCN_class_label_colors] must be either all hex colors or all CSS4 named colors. Found: ['r' 'b' 'k']\n",
      "Validation complete in 0:00:00.526548 with status is_valid=False\n",
      "------------------\n",
      "\u001b[1m\u001b[92mPASSED\u001b[0m\n"
     ]
    }
   ],
   "source": [
    "adata.uns = {'title': 'temporary title'}\n",
    "#colors is non-named or hex\n",
    "adata.uns['BICCN_class_label_colors'] = np.array(random.sample(list(mcolors.BASE_COLORS.keys()), 3))\n",
    "save_and_test(adata, 'False')"
   ]
  },
  {
   "cell_type": "code",
   "execution_count": 23,
   "id": "b6b9b488",
   "metadata": {},
   "outputs": [
    {
     "name": "stdout",
     "output_type": "stream",
     "text": [
      "--\n",
      "BICCN_class_label_colors\n",
      "[[0.   0.   1.  ]\n",
      " [0.75 0.   0.75]\n",
      " [0.   0.75 0.75]]\n",
      "BICCN_class_label:3 values of type:category\n",
      "--\n",
      "------------------\n",
      "Loading dependencies\n",
      "Loading validator modules\n",
      "\n",
      "Starting validation...\n",
      "WARNING: Validation of raw layer was not performed due to current errors, try again after fixing current errors.\n",
      "ERROR: Colors in uns[BICCN_class_label_colors] must be strings. Found: [[0.   0.   1.  ]\n",
      " [0.75 0.   0.75]\n",
      " [0.   0.75 0.75]] which are float64\n",
      "Validation complete in 0:00:00.526853 with status is_valid=False\n",
      "------------------\n",
      "\u001b[1m\u001b[92mPASSED\u001b[0m\n"
     ]
    }
   ],
   "source": [
    "#colors is non-named or hex\n",
    "adata.uns['BICCN_class_label_colors'] = np.array(random.sample(list(mcolors.BASE_COLORS.values()), 3))\n",
    "save_and_test(adata, 'False')"
   ]
  },
  {
   "cell_type": "code",
   "execution_count": 24,
   "id": "f0108058",
   "metadata": {},
   "outputs": [
    {
     "name": "stdout",
     "output_type": "stream",
     "text": [
      "--\n",
      "BICCN_class_label_colors\n",
      "['xkcd:blue/purple' 'xkcd:dark red' 'xkcd:bluish grey']\n",
      "BICCN_class_label:3 values of type:category\n",
      "--\n",
      "------------------\n",
      "Loading dependencies\n",
      "Loading validator modules\n",
      "\n",
      "Starting validation...\n",
      "WARNING: Validation of raw layer was not performed due to current errors, try again after fixing current errors.\n",
      "ERROR: Colors in uns[BICCN_class_label_colors] must be either all hex colors or all CSS4 named colors. Found: ['xkcd:blue/purple' 'xkcd:dark red' 'xkcd:bluish grey']\n",
      "Validation complete in 0:00:00.526995 with status is_valid=False\n",
      "------------------\n",
      "\u001b[1m\u001b[92mPASSED\u001b[0m\n"
     ]
    }
   ],
   "source": [
    "#colors is non-named or hex\n",
    "adata.uns['BICCN_class_label_colors'] = np.array(random.sample(list(mcolors.XKCD_COLORS.keys()), 3))\n",
    "save_and_test(adata, 'False')"
   ]
  },
  {
   "cell_type": "code",
   "execution_count": 25,
   "id": "05dd5530",
   "metadata": {},
   "outputs": [
    {
     "name": "stdout",
     "output_type": "stream",
     "text": [
      "--\n",
      "BICCN_class_label_colors\n",
      "['tab:gray' 'tab:blue' 'tab:orange']\n",
      "BICCN_class_label:3 values of type:category\n",
      "--\n",
      "------------------\n",
      "Loading dependencies\n",
      "Loading validator modules\n",
      "\n",
      "Starting validation...\n",
      "WARNING: Validation of raw layer was not performed due to current errors, try again after fixing current errors.\n",
      "ERROR: Colors in uns[BICCN_class_label_colors] must be either all hex colors or all CSS4 named colors. Found: ['tab:gray' 'tab:blue' 'tab:orange']\n",
      "Validation complete in 0:00:00.518464 with status is_valid=False\n",
      "------------------\n",
      "\u001b[1m\u001b[92mPASSED\u001b[0m\n"
     ]
    }
   ],
   "source": [
    "#colors is non-named or hex\n",
    "adata.uns['BICCN_class_label_colors'] = np.array(random.sample(list(mcolors.TABLEAU_COLORS.keys()), 3))\n",
    "save_and_test(adata, 'False')"
   ]
  },
  {
   "cell_type": "code",
   "execution_count": 26,
   "id": "43330dad",
   "metadata": {},
   "outputs": [
    {
     "name": "stdout",
     "output_type": "stream",
     "text": [
      "--\n",
      "is_primary_data_colors\n",
      "['whitesmoke']\n",
      "is_primary_data:1 values of type:bool\n",
      "--\n",
      "------------------\n",
      "Loading dependencies\n",
      "Loading validator modules\n",
      "\n",
      "Starting validation...\n",
      "WARNING: Validation of raw layer was not performed due to current errors, try again after fixing current errors.\n",
      "ERROR: Colors field uns[is_primary_data_colors] does not have a corresponding categorical field in obs. is_primary_data is present but is dtype bool\n",
      "Validation complete in 0:00:00.522868 with status is_valid=False\n",
      "------------------\n",
      "\u001b[1m\u001b[92mPASSED\u001b[0m\n"
     ]
    }
   ],
   "source": [
    "adata.uns = {'title': 'temporary title'}\n",
    "#colors counterpart in obs is boolean\n",
    "adata.uns['is_primary_data_colors'] = np.array(random.sample(list(mcolors.CSS4_COLORS.keys()), 1))\n",
    "save_and_test(adata, 'False')"
   ]
  },
  {
   "cell_type": "code",
   "execution_count": 27,
   "id": "3e681ba0",
   "metadata": {},
   "outputs": [
    {
     "name": "stdout",
     "output_type": "stream",
     "text": [
      "--\n",
      "size_colors\n",
      "['#00FF7F' '#8A2BE2' '#F0F8FF' '#FF1493' '#8B4513' '#1E90FF' '#000080'\n",
      " '#0000FF' '#FFC0CB' '#7FFF00' '#FAEBD7' '#87CEFA' '#8B008B' '#FFE4E1'\n",
      " '#008B8B' '#FDF5E6' '#98FB98']\n",
      "size:55 values of type:float64\n",
      "--\n",
      "------------------\n",
      "Loading dependencies\n",
      "Loading validator modules\n",
      "\n",
      "Starting validation...\n",
      "WARNING: Validation of raw layer was not performed due to current errors, try again after fixing current errors.\n",
      "ERROR: Colors field uns[size_colors] does not have a corresponding categorical field in obs. size is present but is dtype float64\n",
      "Validation complete in 0:00:00.527051 with status is_valid=False\n",
      "------------------\n",
      "\u001b[1m\u001b[92mPASSED\u001b[0m\n"
     ]
    }
   ],
   "source": [
    "adata.uns = {'title': 'temporary title'}\n",
    "#colors counterpart in obs is float\n",
    "adata.uns['size_colors'] = np.array(create_color_list(17))\n",
    "save_and_test(adata, 'False')"
   ]
  },
  {
   "cell_type": "code",
   "execution_count": 28,
   "id": "10c71a67",
   "metadata": {},
   "outputs": [
    {
     "name": "stdout",
     "output_type": "stream",
     "text": [
      "--\n",
      "BICCN_cluster_id_colors\n",
      "['#8B0000' '#6495ED' '#2F4F4F' '#87CEEB' '#F5F5DC' '#FFF5EE' '#ADD8E6'\n",
      " '#808080' '#A9A9A9' '#E6E6FA' '#D3D3D3' '#FFC0CB' '#FFD700' '#EEE8AA'\n",
      " '#F0FFFF' '#006400' '#4B0082' '#7B68EE' '#FFFF00' '#FFFFF0' '#3CB371'\n",
      " '#00008B' '#FFFAFA' '#FF6347' '#F5F5F5' '#00FF00' '#FDF5E6' '#000080'\n",
      " '#A9A9A9' '#FF0000' '#DEB887' '#DCDCDC' '#FFFFFF' '#E9967A' '#F8F8FF'\n",
      " '#EE82EE' '#9ACD32' '#5F9EA0' '#7CFC00' '#FFFFE0' '#8FBC8F' '#F5DEB3'\n",
      " '#228B22' '#708090' '#87CEFA' '#40E0D0' '#6B8E23' '#7FFFD4' '#FFFAF0'\n",
      " '#6A5ACD' '#00FFFF' '#FFE4C4' '#FFE4B5' '#778899' '#BC8F8F' '#8B4513'\n",
      " '#FFB6C1' '#A0522D' '#DA70D6' '#00FA9A' '#FAEBD7']\n",
      "BICCN_cluster_id:61 values of type:int64\n",
      "--\n",
      "------------------\n",
      "Loading dependencies\n",
      "Loading validator modules\n",
      "\n",
      "Starting validation...\n",
      "WARNING: Validation of raw layer was not performed due to current errors, try again after fixing current errors.\n",
      "ERROR: Colors field uns[BICCN_cluster_id_colors] does not have a corresponding categorical field in obs. BICCN_cluster_id is present but is dtype int64\n",
      "Validation complete in 0:00:00.530629 with status is_valid=False\n",
      "------------------\n",
      "\u001b[1m\u001b[92mPASSED\u001b[0m\n"
     ]
    }
   ],
   "source": [
    "adata.uns = {'title': 'temporary title'}\n",
    "adata.obs['BICCN_cluster_id'] = adata.obs['BICCN_cluster_id'].map(int)\n",
    "#colors counterpart in obs is int\n",
    "adata.uns['BICCN_cluster_id_colors'] = np.array(create_color_list(61))\n",
    "save_and_test(adata, 'False')"
   ]
  },
  {
   "cell_type": "code",
   "execution_count": 29,
   "id": "0a143aa3",
   "metadata": {},
   "outputs": [],
   "source": [
    "#not np.array - couldn't test as array seems to be converted upon writing AnnData"
   ]
  },
  {
   "cell_type": "code",
   "execution_count": null,
   "id": "a5ee7420",
   "metadata": {},
   "outputs": [],
   "source": []
  }
 ],
 "metadata": {
  "kernelspec": {
   "display_name": "Python 3 (ipykernel)",
   "language": "python",
   "name": "python3"
  },
  "language_info": {
   "codemirror_mode": {
    "name": "ipython",
    "version": 3
   },
   "file_extension": ".py",
   "mimetype": "text/x-python",
   "name": "python",
   "nbconvert_exporter": "python",
   "pygments_lexer": "ipython3",
   "version": "3.9.18"
  }
 },
 "nbformat": 4,
 "nbformat_minor": 5
}
