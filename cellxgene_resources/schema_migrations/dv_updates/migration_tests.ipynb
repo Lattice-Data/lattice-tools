{
 "cells": [
  {
   "cell_type": "code",
   "execution_count": null,
   "id": "937e2382-69e7-46aa-81b4-fc23ed63db63",
   "metadata": {},
   "outputs": [],
   "source": [
    "import json\n",
    "import os\n",
    "import pandas as pd\n",
    "from urllib.parse import quote\n",
    "import requests\n",
    "import sys"
   ]
  },
  {
   "cell_type": "code",
   "execution_count": null,
   "id": "2ba5651b-8bc1-4583-a51f-b152547cd1f8",
   "metadata": {},
   "outputs": [],
   "source": [
    "#one time generation of per donor per collection from our curated spreadsheet\n",
    "\n",
    "donor_updates = {}\n",
    "\n",
    "sheet_id = '1bELrjC18WH7wVyxlfKPvWjvUKKqy7y4iFav9ddNooAg'\n",
    "tab_name = 'migrate only'\n",
    "url = f'https://docs.google.com/spreadsheets/d/{sheet_id}/gviz/tq?tqx=out:csv&sheet={quote(tab_name)}'\n",
    "donor_meta = pd.read_csv(url)\n",
    "for i,row in donor_meta[['collection','donor_id','new dev_stage']].iterrows():\n",
    "    c = row['collection']\n",
    "    d = row['donor_id']\n",
    "    t = row['new dev_stage']\n",
    "\n",
    "    if c in donor_updates:\n",
    "        donor_updates[c][d] = t\n",
    "    else:\n",
    "        donor_updates[c] = {d:t}\n",
    "\n",
    "#with open('/Users/jason/GitClones/CZI/single-cell-curation/cellxgene_schema_cli/cellxgene_schema/donor_updates.json', 'w', encoding='utf-8') as f:\n",
    "#    json.dump(donor_updates, f, ensure_ascii=False, indent=4)"
   ]
  },
  {
   "cell_type": "code",
   "execution_count": null,
   "id": "02a4fd53-dd90-44b7-abff-f23dd7a0a834",
   "metadata": {},
   "outputs": [],
   "source": [
    "scc_repo_loc = os.path.expanduser('~/GitClones/CZI/')\n",
    "api_key_file_path = os.path.expanduser('~/Documents/keys/cxg-api-key.txt')"
   ]
  },
  {
   "cell_type": "code",
   "execution_count": null,
   "id": "a8e918ad-1737-4925-ad24-8a8f88959873",
   "metadata": {},
   "outputs": [],
   "source": [
    "sys.path.append(os.path.abspath(scc_repo_loc + 'single-cell-curation/notebooks/curation_api/python/'))\n",
    "\n",
    "\n",
    "from src.utils.config import set_api_access_config\n",
    "from src.collection import get_collections, get_collection\n",
    "from src.dataset import get_dataset,get_datasets"
   ]
  },
  {
   "cell_type": "code",
   "execution_count": null,
   "id": "b408510f-e9f8-4807-9daf-ac3005de78cf",
   "metadata": {},
   "outputs": [],
   "source": [
    "set_api_access_config(api_key_file_path)\n",
    "\n",
    "collections = {}\n",
    "datasets = get_datasets()\n",
    "for d in datasets:\n",
    "    c_id = d['collection_id']\n",
    "    dev_stages = {t['ontology_term_id']:t['label'] for t in d['development_stage']}\n",
    "    if c_id in collections:\n",
    "        collections[c_id]['donor_id'].extend(d['donor_id'])\n",
    "        collections[c_id]['development_stage'].update(dev_stages)\n",
    "    else:\n",
    "        collections[c_id] = {\n",
    "            'donor_id': d['donor_id'],\n",
    "            'development_stage': dev_stages\n",
    "        }\n",
    "print(f'{len(collections)} Public Collections')\n",
    "\n",
    "pub_cs = get_collections()\n",
    "public_names = {c['name']:c['collection_id'] for c in pub_cs}\n",
    "\n",
    "priv_cs = get_collections(visibility='PRIVATE')\n",
    "priv_collections = {c['name']:c for c in priv_cs if not c.get('revision_of')}\n",
    "print(f'{len(priv_collections)} Private Collections')"
   ]
  },
  {
   "cell_type": "code",
   "execution_count": null,
   "id": "28f074b0-ebd7-4a97-ad3d-ae3bffce929f",
   "metadata": {},
   "outputs": [],
   "source": [
    "current_terms = ['unknown']\n",
    "\n",
    "for ont in ['hsapdv','mmusdv']:\n",
    "    url = f'https://www.ebi.ac.uk/ols4/api/ontologies/{ont}/terms?obsoletes=false&size=500'\n",
    "    r = requests.get(url).json()\n",
    "    terms = [t['obo_id'] for t in r['_embedded']['terms']]\n",
    "    current_terms.extend(terms)\n",
    "len(current_terms)"
   ]
  },
  {
   "cell_type": "code",
   "execution_count": null,
   "id": "3c0b1f17-c826-4d7e-b857-88909af96308",
   "metadata": {},
   "outputs": [],
   "source": [
    "# looks like json files still exist in our repo so commenting out dir change for now\n",
    "# mig_loc = scc_repo_loc + 'single-cell-curation/cellxgene_schema_cli/cellxgene_schema/'\n",
    "automigrate_terms = json.load(open('automigrate_terms.json'))\n",
    "donor_updates = json.load(open('donor_updates.json'))"
   ]
  },
  {
   "cell_type": "code",
   "execution_count": null,
   "id": "f75e1d5d-a9fa-42c4-af64-2fa2a84ff4e2",
   "metadata": {},
   "outputs": [],
   "source": [
    "#Flag any old term from automigrate_terms.json that is not deprecated\n",
    "[t for t in automigrate_terms.keys() if t in current_terms]"
   ]
  },
  {
   "cell_type": "code",
   "execution_count": null,
   "id": "2a5f9396-3af0-4ad9-b523-fb02909ff84a",
   "metadata": {},
   "outputs": [],
   "source": [
    "#Flag any new term from automigrate_terms.json that is not in the new version\n",
    "[t for t in automigrate_terms.values() if t not in current_terms]"
   ]
  },
  {
   "cell_type": "code",
   "execution_count": null,
   "id": "5c06505c-c329-46e6-b14c-c502f8b7d4ab",
   "metadata": {},
   "outputs": [],
   "source": [
    "#Flag any new term from donor_updates.json that is not in the new version\n",
    "[v for val in donor_updates.values() for v in val.values() if v not in current_terms]"
   ]
  },
  {
   "cell_type": "code",
   "execution_count": null,
   "id": "7388d7dc-d674-42a5-b111-5ff1ea80ffff",
   "metadata": {},
   "outputs": [],
   "source": [
    "#Confirm every key from donor_updates.json is either a public Collection ID or a private Collection name\n",
    "for k,v in donor_updates.items():\n",
    "    if k in collections:\n",
    "        not_present = [d for d in v.keys() if d not in collections[k]['donor_id']]\n",
    "        if not_present:\n",
    "            print(f'ERROR: {\",\".join(not_present)} not in {k}')\n",
    "    elif k in priv_collections:\n",
    "        c_id = priv_collections[k]['collection_id']\n",
    "        donors = []\n",
    "        for d in priv_collections[k]['datasets']:\n",
    "            dataset = get_dataset(c_id, d['dataset_id'])\n",
    "            donors.extend(dataset['donor_id'])\n",
    "        not_present = [d for d in v.keys() if d not in donors]\n",
    "        if not_present:\n",
    "            print(f'ERROR: {\",\".join(not_present)} not in {k}')\n",
    "    elif k in public_names:\n",
    "        print(f'ERROR: update to {public_names[k]} for {k}')\n",
    "    else:\n",
    "        print(f'ERROR: {k} not a public collection_id or private name')"
   ]
  },
  {
   "cell_type": "code",
   "execution_count": null,
   "id": "7af75e0a",
   "metadata": {},
   "outputs": [],
   "source": [
    "# create list of private collection ids not in revision then get json metadata into master list of dicts\n",
    "# no param to get private collections through get_datasets() so need to use get_collection() per private collection id\n",
    "priv_cs_list = [c['collection_id'] for c in priv_cs if not c.get('revision_of')]\n",
    "private_datasets = [get_collection(c) for c in priv_cs_list]"
   ]
  },
  {
   "cell_type": "code",
   "execution_count": null,
   "id": "2e7d3b28",
   "metadata": {},
   "outputs": [],
   "source": [
    "private_collections = {}\n",
    "for c in private_datasets:\n",
    "    c_id = c['collection_id']\n",
    "    datasets = c['datasets']\n",
    "    for d in datasets:\n",
    "        # skip datasets that have not met validation\n",
    "        if d['processing_status'] != 'SUCCESS':\n",
    "            print(f\"Current processing error with dataset {d['dataset_version_id']} in collection {c_id}\")\n",
    "            continue\n",
    "        dev_stages = {t['ontology_term_id']:t['label'] for t in d['development_stage']}\n",
    "        if c_id in private_collections:\n",
    "            private_collections[c_id]['donor_id'].extend(d['donor_id'])\n",
    "            private_collections[c_id]['development_stage'].update(dev_stages)\n",
    "        else:\n",
    "            private_collections[c_id] = {\n",
    "                'donor_id': d['donor_id'],\n",
    "                'development_stage': dev_stages\n",
    "            }"
   ]
  },
  {
   "cell_type": "code",
   "execution_count": null,
   "id": "ada748e1",
   "metadata": {},
   "outputs": [],
   "source": [
    "# function to browse all private or public Collections and see what deprecated terms are not covered in this migration\n",
    "def uncovered_terms(collection_dict):\n",
    "    ''' \n",
    "    collection_dict format:\n",
    "    {collection_id:\n",
    "        {\n",
    "            donor_id: list[donors],\n",
    "            development_stage: dict{dev_term_id: term}\n",
    "        }    \n",
    "    }\n",
    "    '''\n",
    "    for k,v in collection_dict.items():\n",
    "        dev_stages = v['development_stage']\n",
    "        deprecated = [t for t in dev_stages.keys() if t not in current_terms and t.startswith('UBERON:') is False]\n",
    "        not_migrated = [t for t in deprecated if t not in automigrate_terms.keys()]\n",
    "        if not_migrated and k not in donor_updates:\n",
    "            print(k)\n",
    "            for t in not_migrated:\n",
    "                print('--',t,':',dev_stages[t])\n",
    "            print('')"
   ]
  },
  {
   "cell_type": "code",
   "execution_count": null,
   "id": "7f1fa1d4",
   "metadata": {},
   "outputs": [],
   "source": [
    "# public collections with deprecated terms not covered in this migration\n",
    "uncovered_terms(collections)"
   ]
  },
  {
   "cell_type": "code",
   "execution_count": null,
   "id": "30b5bd26",
   "metadata": {},
   "outputs": [],
   "source": [
    "# private collections with deprecated terms not covered in this migration\n",
    "uncovered_terms(private_collections)"
   ]
  },
  {
   "cell_type": "code",
   "execution_count": null,
   "id": "f9f3708d-b39f-44df-9435-ab1dfadfa681",
   "metadata": {},
   "outputs": [],
   "source": [
    "#for each Collection in donor_updates, confirm that each donor specified donor's current dev_stage is deprecated\n",
    "#for each Collection in donor_updates, confirm that there is no other donor's with a deprecated dev_stage"
   ]
  }
 ],
 "metadata": {
  "kernelspec": {
   "display_name": "Python 3 (ipykernel)",
   "language": "python",
   "name": "python3"
  },
  "language_info": {
   "codemirror_mode": {
    "name": "ipython",
    "version": 3
   },
   "file_extension": ".py",
   "mimetype": "text/x-python",
   "name": "python",
   "nbconvert_exporter": "python",
   "pygments_lexer": "ipython3",
   "version": "3.9.18"
  }
 },
 "nbformat": 4,
 "nbformat_minor": 5
}
