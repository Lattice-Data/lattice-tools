{
 "cells": [
  {
   "cell_type": "code",
   "execution_count": 1,
   "id": "937e2382-69e7-46aa-81b4-fc23ed63db63",
   "metadata": {},
   "outputs": [],
   "source": [
    "import json\n",
    "import os\n",
    "import requests\n",
    "import sys"
   ]
  },
  {
   "cell_type": "code",
   "execution_count": 2,
   "id": "02a4fd53-dd90-44b7-abff-f23dd7a0a834",
   "metadata": {},
   "outputs": [],
   "source": [
    "scc_repo_loc = os.path.expanduser('~/GitClones/CZI/')\n",
    "api_key_file_path = os.path.expanduser('~/Documents/keys/cxg-api-key.txt')"
   ]
  },
  {
   "cell_type": "code",
   "execution_count": 3,
   "id": "a8e918ad-1737-4925-ad24-8a8f88959873",
   "metadata": {},
   "outputs": [],
   "source": [
    "sys.path.append(os.path.abspath(scc_repo_loc + 'single-cell-curation/notebooks/curation_api/python/'))\n",
    "\n",
    "\n",
    "from src.utils.config import set_api_access_config\n",
    "from src.collection import get_collections\n",
    "from src.dataset import get_dataset,get_datasets"
   ]
  },
  {
   "cell_type": "code",
   "execution_count": 4,
   "id": "b408510f-e9f8-4807-9daf-ac3005de78cf",
   "metadata": {},
   "outputs": [
    {
     "name": "stdout",
     "output_type": "stream",
     "text": [
      "Set 'SITE_URL' env var to https://cellxgene.cziscience.com\n",
      "Set 'API_URL_BASE' env var to https://api.cellxgene.cziscience.com\n",
      "Successfully set 'ACCESS_TOKEN' env var!\n",
      "181 Public Collections\n",
      "67 Private Collections\n"
     ]
    }
   ],
   "source": [
    "set_api_access_config(api_key_file_path)\n",
    "\n",
    "collections = {}\n",
    "datasets = get_datasets()\n",
    "for d in datasets:\n",
    "    c_id = d['collection_id']\n",
    "    dev_stages = {t['ontology_term_id']:t['label'] for t in d['development_stage']}\n",
    "    if c_id in collections:\n",
    "        collections[c_id]['donor_id'].extend(d['donor_id'])\n",
    "        collections[c_id]['development_stage'].update(dev_stages)\n",
    "    else:\n",
    "        collections[c_id] = {\n",
    "            'donor_id': d['donor_id'],\n",
    "            'development_stage': dev_stages\n",
    "        }\n",
    "print(f'{len(collections)} Public Collections')\n",
    "\n",
    "pub_cs = get_collections()\n",
    "public_names = {c['name']:c['collection_id'] for c in pub_cs}\n",
    "\n",
    "priv_cs = get_collections(visibility='PRIVATE')\n",
    "priv_collections = {c['name']:c for c in priv_cs if not c.get('revision_of')}\n",
    "print(f'{len(priv_collections)} Private Collections')"
   ]
  },
  {
   "cell_type": "code",
   "execution_count": 5,
   "id": "28f074b0-ebd7-4a97-ad3d-ae3bffce929f",
   "metadata": {},
   "outputs": [
    {
     "data": {
      "text/plain": [
       "373"
      ]
     },
     "execution_count": 5,
     "metadata": {},
     "output_type": "execute_result"
    }
   ],
   "source": [
    "current_terms = ['unknown']\n",
    "\n",
    "for ont in ['hsapdv','mmusdv']:\n",
    "    url = f'https://www.ebi.ac.uk/ols4/api/ontologies/{ont}/terms?obsoletes=false&size=500'\n",
    "    r = requests.get(url).json()\n",
    "    terms = [t['obo_id'] for t in r['_embedded']['terms']]\n",
    "    current_terms.extend(terms)\n",
    "len(current_terms)"
   ]
  },
  {
   "cell_type": "code",
   "execution_count": 6,
   "id": "3c0b1f17-c826-4d7e-b857-88909af96308",
   "metadata": {},
   "outputs": [],
   "source": [
    "automigrate_terms = json.load(open('automigrate_terms.json'))\n",
    "donor_updates = json.load(open('donor_updates.json'))"
   ]
  },
  {
   "cell_type": "code",
   "execution_count": 7,
   "id": "f75e1d5d-a9fa-42c4-af64-2fa2a84ff4e2",
   "metadata": {},
   "outputs": [
    {
     "data": {
      "text/plain": [
       "[]"
      ]
     },
     "execution_count": 7,
     "metadata": {},
     "output_type": "execute_result"
    }
   ],
   "source": [
    "#Flag any old term from automigrate_terms.json that is not deprecated\n",
    "[t for t in automigrate_terms.keys() if t in current_terms]"
   ]
  },
  {
   "cell_type": "code",
   "execution_count": 8,
   "id": "2a5f9396-3af0-4ad9-b523-fb02909ff84a",
   "metadata": {},
   "outputs": [
    {
     "data": {
      "text/plain": [
       "[]"
      ]
     },
     "execution_count": 8,
     "metadata": {},
     "output_type": "execute_result"
    }
   ],
   "source": [
    "#Flag any new term from automigrate_terms.json that is not in the new version\n",
    "[t for t in automigrate_terms.values() if t not in current_terms]"
   ]
  },
  {
   "cell_type": "code",
   "execution_count": 9,
   "id": "5c06505c-c329-46e6-b14c-c502f8b7d4ab",
   "metadata": {},
   "outputs": [
    {
     "data": {
      "text/plain": [
       "[]"
      ]
     },
     "execution_count": 9,
     "metadata": {},
     "output_type": "execute_result"
    }
   ],
   "source": [
    "#Flag any new term from donor_updates.json that is not in the new version\n",
    "[v for val in donor_updates.values() for v in val.values() if v not in current_terms]"
   ]
  },
  {
   "cell_type": "code",
   "execution_count": 10,
   "id": "7388d7dc-d674-42a5-b111-5ff1ea80ffff",
   "metadata": {},
   "outputs": [
    {
     "name": "stdout",
     "output_type": "stream",
     "text": [
      "ERROR: private_collection_title not a public collection_id or private name\n"
     ]
    }
   ],
   "source": [
    "#Confirm every key from donor_updates.json is either a public Collection ID or a private Collection name\n",
    "for k,v in donor_updates.items():\n",
    "    if k in collections:\n",
    "        not_present = [d for d in v.keys() if d not in collections[k]['donor_id']]\n",
    "        if not_present:\n",
    "            print(f'ERROR: {\",\".join(not_present)} not in {k}')\n",
    "    elif k in priv_collections:\n",
    "        c_id = priv_collections[k]['collection_id']\n",
    "        donors = []\n",
    "        for d in priv_collections[k]['datasets']:\n",
    "            dataset = get_dataset(c_id, d['dataset_id'])\n",
    "            donors.extend(dataset['donor_id'])\n",
    "        not_present = [d for d in v.keys() if d not in donors]\n",
    "        if not_present:\n",
    "            print(f'ERROR: {\",\".join(not_present)} not in {k}')\n",
    "    elif k in public_names:\n",
    "        print(f'ERROR: update to {public_names[k]} for {k}')\n",
    "    else:\n",
    "        print(f'ERROR: {k} not a public collection_id or private name')"
   ]
  },
  {
   "cell_type": "code",
   "execution_count": 1,
   "id": "f4fae020-40de-4851-afd8-f7d07e7774f2",
   "metadata": {},
   "outputs": [],
   "source": [
    "#browse all public Collections and see what deprecated terms are not covered in this migration"
   ]
  },
  {
   "cell_type": "code",
   "execution_count": 29,
   "id": "8f1b7eb5-38a9-4d79-898f-6d997c303efb",
   "metadata": {},
   "outputs": [],
   "source": [
    "#browse all private Collections and see what deprecated terms are not covered in this migration"
   ]
  },
  {
   "cell_type": "code",
   "execution_count": null,
   "id": "2c7f5345-b61a-474a-a385-eae30aeb7c4e",
   "metadata": {},
   "outputs": [],
   "source": []
  }
 ],
 "metadata": {
  "kernelspec": {
   "display_name": "Python 3 (ipykernel)",
   "language": "python",
   "name": "python3"
  },
  "language_info": {
   "codemirror_mode": {
    "name": "ipython",
    "version": 3
   },
   "file_extension": ".py",
   "mimetype": "text/x-python",
   "name": "python",
   "nbconvert_exporter": "python",
   "pygments_lexer": "ipython3",
   "version": "3.9.18"
  }
 },
 "nbformat": 4,
 "nbformat_minor": 5
}
