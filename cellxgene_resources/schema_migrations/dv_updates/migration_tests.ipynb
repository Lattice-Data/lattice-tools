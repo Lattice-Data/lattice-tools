{
 "cells": [
  {
   "cell_type": "code",
   "execution_count": 1,
   "id": "937e2382-69e7-46aa-81b4-fc23ed63db63",
   "metadata": {},
   "outputs": [],
   "source": [
    "import json\n",
    "import os\n",
    "import requests\n",
    "import sys"
   ]
  },
  {
   "cell_type": "code",
   "execution_count": 2,
   "id": "02a4fd53-dd90-44b7-abff-f23dd7a0a834",
   "metadata": {},
   "outputs": [],
   "source": [
    "scc_repo_loc = os.path.expanduser('~/GitClones/CZI/')\n",
    "api_key_file_path = os.path.expanduser('~/Documents/keys/cxg-api-key.txt')"
   ]
  },
  {
   "cell_type": "code",
   "execution_count": 3,
   "id": "a8e918ad-1737-4925-ad24-8a8f88959873",
   "metadata": {},
   "outputs": [],
   "source": [
    "sys.path.append(os.path.abspath(scc_repo_loc + 'single-cell-curation/notebooks/curation_api/python/'))\n",
    "\n",
    "\n",
    "from src.utils.config import set_api_access_config\n",
    "from src.collection import get_collections\n",
    "from src.dataset import get_dataset,get_datasets"
   ]
  },
  {
   "cell_type": "code",
   "execution_count": 4,
   "id": "b408510f-e9f8-4807-9daf-ac3005de78cf",
   "metadata": {},
   "outputs": [
    {
     "name": "stdout",
     "output_type": "stream",
     "text": [
      "Set 'SITE_URL' env var to https://cellxgene.cziscience.com\n",
      "Set 'API_URL_BASE' env var to https://api.cellxgene.cziscience.com\n",
      "Successfully set 'ACCESS_TOKEN' env var!\n",
      "181 Public Collections\n",
      "67 Private Collections\n"
     ]
    }
   ],
   "source": [
    "set_api_access_config(api_key_file_path)\n",
    "\n",
    "collections = {}\n",
    "datasets = get_datasets()\n",
    "for d in datasets:\n",
    "    c_id = d['collection_id']\n",
    "    dev_stages = {t['ontology_term_id']:t['label'] for t in d['development_stage']}\n",
    "    if c_id in collections:\n",
    "        collections[c_id]['donor_id'].extend(d['donor_id'])\n",
    "        collections[c_id]['development_stage'].update(dev_stages)\n",
    "    else:\n",
    "        collections[c_id] = {\n",
    "            'donor_id': d['donor_id'],\n",
    "            'development_stage': dev_stages\n",
    "        }\n",
    "print(f'{len(collections)} Public Collections')\n",
    "\n",
    "pub_cs = get_collections()\n",
    "public_names = {c['name']:c['collection_id'] for c in pub_cs}\n",
    "\n",
    "priv_cs = get_collections(visibility='PRIVATE')\n",
    "priv_collections = {c['name']:c for c in priv_cs if not c.get('revision_of')}\n",
    "print(f'{len(priv_collections)} Private Collections')"
   ]
  },
  {
   "cell_type": "code",
   "execution_count": 5,
   "id": "28f074b0-ebd7-4a97-ad3d-ae3bffce929f",
   "metadata": {},
   "outputs": [
    {
     "data": {
      "text/plain": [
       "373"
      ]
     },
     "execution_count": 5,
     "metadata": {},
     "output_type": "execute_result"
    }
   ],
   "source": [
    "current_terms = ['unknown']\n",
    "\n",
    "for ont in ['hsapdv','mmusdv']:\n",
    "    url = f'https://www.ebi.ac.uk/ols4/api/ontologies/{ont}/terms?obsoletes=false&size=500'\n",
    "    r = requests.get(url).json()\n",
    "    terms = [t['obo_id'] for t in r['_embedded']['terms']]\n",
    "    current_terms.extend(terms)\n",
    "len(current_terms)"
   ]
  },
  {
   "cell_type": "code",
   "execution_count": 6,
   "id": "3c0b1f17-c826-4d7e-b857-88909af96308",
   "metadata": {},
   "outputs": [],
   "source": [
    "automigrate_terms = json.load(open('automigrate_terms.json'))\n",
    "donor_updates = json.load(open('donor_updates.json'))"
   ]
  },
  {
   "cell_type": "code",
   "execution_count": 7,
   "id": "f75e1d5d-a9fa-42c4-af64-2fa2a84ff4e2",
   "metadata": {},
   "outputs": [
    {
     "data": {
      "text/plain": [
       "[]"
      ]
     },
     "execution_count": 7,
     "metadata": {},
     "output_type": "execute_result"
    }
   ],
   "source": [
    "#Flag any old term from automigrate_terms.json that is not deprecated\n",
    "[t for t in automigrate_terms.keys() if t in current_terms]"
   ]
  },
  {
   "cell_type": "code",
   "execution_count": 8,
   "id": "2a5f9396-3af0-4ad9-b523-fb02909ff84a",
   "metadata": {},
   "outputs": [
    {
     "data": {
      "text/plain": [
       "[]"
      ]
     },
     "execution_count": 8,
     "metadata": {},
     "output_type": "execute_result"
    }
   ],
   "source": [
    "#Flag any new term from automigrate_terms.json that is not in the new version\n",
    "[t for t in automigrate_terms.values() if t not in current_terms]"
   ]
  },
  {
   "cell_type": "code",
   "execution_count": 9,
   "id": "5c06505c-c329-46e6-b14c-c502f8b7d4ab",
   "metadata": {},
   "outputs": [
    {
     "data": {
      "text/plain": [
       "[]"
      ]
     },
     "execution_count": 9,
     "metadata": {},
     "output_type": "execute_result"
    }
   ],
   "source": [
    "#Flag any new term from donor_updates.json that is not in the new version\n",
    "[v for val in donor_updates.values() for v in val.values() if v not in current_terms]"
   ]
  },
  {
   "cell_type": "code",
   "execution_count": 10,
   "id": "7388d7dc-d674-42a5-b111-5ff1ea80ffff",
   "metadata": {},
   "outputs": [
    {
     "name": "stdout",
     "output_type": "stream",
     "text": [
      "ERROR: private_collection_title not a public collection_id or private name\n"
     ]
    }
   ],
   "source": [
    "#Confirm every key from donor_updates.json is either a public Collection ID or a private Collection name\n",
    "for k,v in donor_updates.items():\n",
    "    if k in collections:\n",
    "        not_present = [d for d in v.keys() if d not in collections[k]['donor_id']]\n",
    "        if not_present:\n",
    "            print(f'ERROR: {\",\".join(not_present)} not in {k}')\n",
    "    elif k in priv_collections:\n",
    "        c_id = priv_collections[k]['collection_id']\n",
    "        donors = []\n",
    "        for d in priv_collections[k]['datasets']:\n",
    "            dataset = get_dataset(c_id, d['dataset_id'])\n",
    "            donors.extend(dataset['donor_id'])\n",
    "        not_present = [d for d in v.keys() if d not in donors]\n",
    "        if not_present:\n",
    "            print(f'ERROR: {\",\".join(not_present)} not in {k}')\n",
    "    elif k in public_names:\n",
    "        print(f'ERROR: update to {public_names[k]} for {k}')\n",
    "    else:\n",
    "        print(f'ERROR: {k} not a public collection_id or private name')"
   ]
  },
  {
   "cell_type": "code",
   "execution_count": 12,
   "id": "f4fae020-40de-4851-afd8-f7d07e7774f2",
   "metadata": {},
   "outputs": [
    {
     "name": "stdout",
     "output_type": "stream",
     "text": [
      "cae8bad0-39e9-4771-85a7-822b0e06de9f\n",
      "-- HsapDv:0000082 : newborn human stage\n",
      "\n",
      "e1fa9900-3fc9-4b57-9dce-c95724c88716\n",
      "-- UBERON:0018241 : prime adult stage\n",
      "\n",
      "28e9d721-6816-48a2-8d0b-43bf0b0c0ebc\n",
      "-- HsapDv:0000082 : newborn human stage\n",
      "\n",
      "4c6eaf5c-6d57-4c76-b1e9-60df8c655f1e\n",
      "-- HsapDv:0000091 : human late adulthood stage\n",
      "\n",
      "72d37bc9-76cc-442d-9131-da0e273862db\n",
      "-- HsapDv:0000082 : newborn human stage\n",
      "-- MmusDv:0000037 : Theiler stage 28\n",
      "\n",
      "4dca242c-d302-4dba-a68f-4c61e7bad553\n",
      "-- UBERON:0018241 : prime adult stage\n",
      "\n",
      "d17249d2-0e6e-4500-abb8-e6c93fa1ac6f\n",
      "-- HsapDv:0000092 : human middle aged stage\n",
      "\n",
      "10ec9198-584e-4a7e-8a24-4a332915a4ef\n",
      "-- HsapDv:0000082 : newborn human stage\n",
      "\n",
      "02b01703-bf1b-48de-b99a-23bef8cccc81\n",
      "-- MmusDv:0000041 : unknown\n",
      "\n",
      "71f4bccf-53d4-4c12-9e80-e73bfb89e398\n",
      "-- HsapDv:0000090 : 25-44 year-old human stage\n",
      "\n",
      "8c4bcf0d-b4df-45c7-888c-74fb0013e9e7\n",
      "-- UBERON:0034919 : juvenile stage\n",
      "-- UBERON:0018241 : prime adult stage\n",
      "\n",
      "bacccb91-066d-4453-b70e-59de0b4598cd\n",
      "-- HsapDv:0000082 : newborn human stage\n",
      "\n",
      "0fd39ad7-5d2d-41c2-bda0-c55bde614bdb\n",
      "-- UBERON:0018241 : prime adult stage\n",
      "-- UBERON:0007222 : late adult stage\n",
      "\n",
      "b1912131-de29-4f13-b528-164b45d69cfd\n",
      "-- HsapDv:0000204 : mature stage\n",
      "\n",
      "4195ab4c-20bd-4cd3-8b3d-65601277e731\n",
      "-- HsapDv:0000204 : mature stage\n",
      "\n",
      "6f6d381a-7701-4781-935c-db10d30de293\n",
      "-- HsapDv:0000082 : newborn human stage\n",
      "\n",
      "7651ac1a-f947-463a-9223-a9e408a41989\n",
      "-- HsapDv:0000082 : newborn human stage\n",
      "\n",
      "5c868b6f-62c5-4532-9d7f-a346ad4b50a7\n",
      "-- HsapDv:0000089 : young adult stage\n",
      "\n",
      "793fdaec-5067-428a-a9db-ecefe135c945\n",
      "-- HsapDv:0000082 : newborn human stage\n",
      "\n",
      "43d4bb39-21af-4d05-b973-4c1fed7b916c\n",
      "-- HsapDv:0000082 : newborn human stage\n",
      "\n",
      "d86517f0-fa7e-4266-b82e-a521350d6d36\n",
      "-- MmusDv:0000037 : Theiler stage 28\n",
      "\n",
      "0a77d4c0-d5d0-40f0-aa1a-5e1429bcbd7e\n",
      "-- UBERON:0018241 : prime adult stage\n",
      "\n",
      "e33ffcd3-7cbf-4b8c-b0f4-85587ad5019a\n",
      "-- HsapDv:0000090 : 25-44 year-old human stage\n",
      "\n",
      "e75342a8-0f3b-4ec5-8ee1-245a23e0f7cb\n",
      "-- HsapDv:0000086 : adolescent stage\n",
      "-- HsapDv:0000083 : infant stage\n",
      "-- HsapDv:0000089 : young adult stage\n",
      "\n",
      "de13e3e2-23b6-40ed-a413-e9e12d7d3910\n",
      "-- HsapDv:0000086 : adolescent stage\n",
      "-- HsapDv:0000083 : infant stage\n",
      "-- HsapDv:0000089 : young adult stage\n",
      "-- HsapDv:0000204 : mature stage\n",
      "\n",
      "92fde064-2fb4-41f8-b85c-c6904000b859\n",
      "-- MmusDv:0000037 : Theiler stage 28\n",
      "\n",
      "2f4c738f-e2f3-4553-9db2-0582a38ea4dc\n",
      "-- HsapDv:0000091 : human late adulthood stage\n",
      "\n",
      "32f2fd23-ec74-486f-9544-e5b2f41725f5\n",
      "-- HsapDv:0000088 : human early adulthood stage\n",
      "\n",
      "2b02dff7-e427-4cdc-96fb-c0f354c099aa\n",
      "-- HsapDv:0000088 : human early adulthood stage\n",
      "\n",
      "0434a9d4-85fd-4554-b8e3-cf6c582bb2fa\n",
      "-- HsapDv:0000088 : human early adulthood stage\n",
      "-- HsapDv:0000092 : human middle aged stage\n",
      "\n",
      "03f821b4-87be-4ff4-b65a-b5fc00061da7\n",
      "-- HsapDv:0000084 : 2-5 year-old child stage\n",
      "-- HsapDv:0000086 : adolescent stage\n",
      "-- HsapDv:0000083 : infant stage\n",
      "-- HsapDv:0000082 : newborn human stage\n",
      "\n",
      "6e067060-f7e4-466c-86f3-ec3dd33c0381\n",
      "-- UBERON:0007220 : late embryonic stage\n",
      "\n",
      "44531dd9-1388-4416-a117-af0a99de2294\n",
      "-- HsapDv:0000204 : mature stage\n",
      "\n",
      "48d354f5-a5ca-4f35-a3bb-fa3687502252\n",
      "-- MmusDv:0000037 : Theiler stage 28\n",
      "\n",
      "b9fc3d70-5a72-4479-a046-c2cc1ab19efc\n",
      "-- HsapDv:0000092 : human middle aged stage\n",
      "\n",
      "db468083-041c-41ca-8f6f-bf991a070adf\n",
      "-- HsapDv:0000082 : newborn human stage\n",
      "\n",
      "367d95c0-0eb0-4dae-8276-9407239421ee\n",
      "-- UBERON:0000113 : post-juvenile adult stage\n",
      "\n",
      "38833785-fac5-48fd-944a-0f62a4c23ed1\n",
      "-- HsapDv:0000082 : newborn human stage\n",
      "\n"
     ]
    }
   ],
   "source": [
    "#browse all public Collections and see what deprecated terms are not covered in this migration\n",
    "for k,v in collections.items():\n",
    "    dev_stages = v['development_stage']\n",
    "    deprecated = [t for t in dev_stages.keys() if t not in current_terms and t not in automigrate_terms.keys()]\n",
    "    if deprecated:\n",
    "        print(k)\n",
    "        for t in deprecated:\n",
    "            print('--',t,':',dev_stages[t])\n",
    "        print('')"
   ]
  },
  {
   "cell_type": "code",
   "execution_count": 29,
   "id": "8f1b7eb5-38a9-4d79-898f-6d997c303efb",
   "metadata": {},
   "outputs": [],
   "source": [
    "#browse all private Collections and see what deprecated terms are not covered in this migration"
   ]
  },
  {
   "cell_type": "code",
   "execution_count": null,
   "id": "2c7f5345-b61a-474a-a385-eae30aeb7c4e",
   "metadata": {},
   "outputs": [],
   "source": []
  }
 ],
 "metadata": {
  "kernelspec": {
   "display_name": "Python 3 (ipykernel)",
   "language": "python",
   "name": "python3"
  },
  "language_info": {
   "codemirror_mode": {
    "name": "ipython",
    "version": 3
   },
   "file_extension": ".py",
   "mimetype": "text/x-python",
   "name": "python",
   "nbconvert_exporter": "python",
   "pygments_lexer": "ipython3",
   "version": "3.9.18"
  }
 },
 "nbformat": 4,
 "nbformat_minor": 5
}
