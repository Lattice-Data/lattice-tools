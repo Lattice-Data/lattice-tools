{
 "cells": [
  {
   "cell_type": "code",
   "execution_count": null,
   "id": "b7b8c865",
   "metadata": {},
   "outputs": [],
   "source": [
    "import pandas as pd\n",
    "from cellxgene_mods import CxG_API,compare_revision,report\n",
    "from sequence_data import *\n",
    "\n",
    "\n",
    "CxG_API.config() # set env='dev' or 'staging' if working in either of those test environments\""
   ]
  },
  {
   "cell_type": "markdown",
   "id": "2bf01cc5",
   "metadata": {},
   "source": [
    "**Specify the Collection**<br>"
   ]
  },
  {
   "cell_type": "code",
   "execution_count": null,
   "id": "986a8658-fecc-493a-9395-8e5545ea8259",
   "metadata": {},
   "outputs": [],
   "source": [
    "collection_id = ''"
   ]
  },
  {
   "cell_type": "code",
   "execution_count": null,
   "id": "5db51036-2a4b-4d7f-8c35-67b8525b2af3",
   "metadata": {},
   "outputs": [],
   "source": [
    "revision_flag = False\n",
    "collection = CxG_API.get_collection(collection_id)\n",
    "if collection.get('revising_in'):\n",
    "    revision_flag = True\n",
    "    revision_id = collection['revising_in']\n",
    "    revision = CxG_API.get_collection(revision_id)\n",
    "elif collection.get('revision_of'):\n",
    "    revision_flag = True\n",
    "    revision_id = collection_id\n",
    "    revision = collection\n",
    "    collection_id = collection['revision_of']\n",
    "    collection = CxG_API.get_collection(collection_id)\n",
    "\n",
    "to_qa = collection\n",
    "if revision_flag:\n",
    "    to_qa = revision\n",
    "    compare_revision(collection, revision)"
   ]
  },
  {
   "cell_type": "code",
   "execution_count": null,
   "id": "5628a657",
   "metadata": {},
   "outputs": [],
   "source": [
    "#check is_primary_data\n",
    "df = pd.DataFrame(to_qa['datasets'])[['title','dataset_id','is_primary_data','cell_count','primary_cell_count']]\n",
    "df"
   ]
  },
  {
   "cell_type": "code",
   "execution_count": null,
   "id": "80fbf178-ff76-4220-8486-31959462c9c4",
   "metadata": {},
   "outputs": [],
   "source": [
    "if not to_qa.get('consortia'):\n",
    "    report('No consortia - confirm this is correct', 'WARNING')\n",
    "\n",
    "if not df[df.duplicated(subset='title', keep=False)].empty:\n",
    "    report('non-unique Dataset titles','ERROR')\n",
    "    display(df[df.duplicated(subset='title', keep=False)].sort_values('title'))"
   ]
  },
  {
   "cell_type": "code",
   "execution_count": null,
   "id": "32618d83-5f17-4cad-8656-4c39b00bd8da",
   "metadata": {},
   "outputs": [],
   "source": [
    "for l in collection['links']:\n",
    "    #SOMETHING TO GET raw_represent - from\n",
    "    raw_present = SOME_FUNC(l['link_url'])\n",
    "\n",
    "    if raw_present and l['link_type'] != 'RAW_DATA':\n",
    "        print(f\"ERROR: raw data found at {url}, expecting RAW DATA link_type, not {l['link_type']}\")\n",
    "    elif not raw_present and l['link_type'] == 'RAW_DATA':\n",
    "        print(f\"ERROR: link_type:RAW DATA but raw data not found at {l['link_url']}\")"
   ]
  },
  {
   "cell_type": "code",
   "execution_count": null,
   "id": "2776819a-dcbd-478c-938b-c3b4868aae41",
   "metadata": {},
   "outputs": [],
   "source": []
  }
 ],
 "metadata": {
  "kernelspec": {
   "display_name": "Python 3 (ipykernel)",
   "language": "python",
   "name": "python3"
  },
  "language_info": {
   "codemirror_mode": {
    "name": "ipython",
    "version": 3
   },
   "file_extension": ".py",
   "mimetype": "text/x-python",
   "name": "python",
   "nbconvert_exporter": "python",
   "pygments_lexer": "ipython3",
   "version": "3.11.9"
  }
 },
 "nbformat": 4,
 "nbformat_minor": 5
}
