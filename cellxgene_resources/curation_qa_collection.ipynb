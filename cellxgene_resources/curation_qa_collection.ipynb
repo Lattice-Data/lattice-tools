{
 "cells": [
  {
   "cell_type": "code",
   "execution_count": null,
   "id": "b7b8c865",
   "metadata": {},
   "outputs": [],
   "source": [
    "import pandas as pd\n",
    "from IPython.display import display\n",
    "from cellxgene_mods import CxG_API,compare_revision,report\n",
    "from sequence_data import detect_sequence_data\n",
    "\n",
    "\n",
    "CxG_API.config() # set env='dev' or 'staging' if working in either of those test environments"
   ]
  },
  {
   "cell_type": "markdown",
   "id": "2bf01cc5",
   "metadata": {},
   "source": [
    "**Specify the Collection**"
   ]
  },
  {
   "cell_type": "code",
   "execution_count": null,
   "id": "986a8658-fecc-493a-9395-8e5545ea8259",
   "metadata": {},
   "outputs": [],
   "source": [
    "collection_id = ''"
   ]
  },
  {
   "cell_type": "markdown",
   "id": "e969a67b-dba3-450e-a217-07926cc26de6",
   "metadata": {},
   "source": [
    "**General QA**\n",
    "- If Revsion, review updates\n",
    "- Check for consortia\n",
    "- Check for duplicate Dataset titles\n",
    "- Review is_primary_data curation within Collection"
   ]
  },
  {
   "cell_type": "code",
   "execution_count": null,
   "id": "5628a657",
   "metadata": {},
   "outputs": [],
   "source": [
    "collection = CxG_API.get_collection(collection_id)\n",
    "if collection.get('revising_in') or collection.get('revision_of'):\n",
    "    collection = compare_revision(collection)\n",
    "    \n",
    "if not collection.get('consortia'):\n",
    "    report('No consortia - confirm this is correct', 'WARNING')\n",
    "\n",
    "df = pd.DataFrame(collection['datasets'])[['title','dataset_id','is_primary_data','cell_count','primary_cell_count']]\n",
    "if not df[df.duplicated(subset='title', keep=False)].empty:\n",
    "    report('non-unique Dataset titles','ERROR')\n",
    "    display(df[df.duplicated(subset='title', keep=False)].sort_values('title'))\n",
    "\n",
    "df"
   ]
  },
  {
   "cell_type": "markdown",
   "id": "8900b4f7-7fcc-4a66-b6a2-0861755ae900",
   "metadata": {},
   "source": [
    "**Validate links for presence of raw sequence data**"
   ]
  },
  {
   "cell_type": "code",
   "execution_count": null,
   "id": "32618d83-5f17-4cad-8656-4c39b00bd8da",
   "metadata": {},
   "outputs": [],
   "source": [
    "raw_data_link = False\n",
    "for l in collection['links']:\n",
    "    raw_present = detect_sequence_data(l['link_url'])\n",
    "\n",
    "    if raw_present:\n",
    "        raw_data_link = True\n",
    "        if l['link_type'] != 'RAW_DATA':\n",
    "            report(f'raw data found at {url}, expecting link_type:RAW DATA, not {l[\"link_type\"]}', 'ERROR')\n",
    "    elif not raw_present and l['link_type'] == 'RAW_DATA':\n",
    "        report(f'link_type:RAW DATA but raw data not found at {l[\"link_url\"]}', 'ERROR')\n",
    "\n",
    "if not raw_data_link:\n",
    "    report('No raw data link present', 'WARNING')"
   ]
  },
  {
   "cell_type": "code",
   "execution_count": null,
   "id": "e9f117cd-4eac-45c2-ac4c-faa4c7d4d490",
   "metadata": {},
   "outputs": [],
   "source": []
  }
 ],
 "metadata": {
  "kernelspec": {
   "display_name": "Python 3 (ipykernel)",
   "language": "python",
   "name": "python3"
  },
  "language_info": {
   "codemirror_mode": {
    "name": "ipython",
    "version": 3
   },
   "file_extension": ".py",
   "mimetype": "text/x-python",
   "name": "python",
   "nbconvert_exporter": "python",
   "pygments_lexer": "ipython3",
   "version": "3.11.9"
  }
 },
 "nbformat": 4,
 "nbformat_minor": 5
}
