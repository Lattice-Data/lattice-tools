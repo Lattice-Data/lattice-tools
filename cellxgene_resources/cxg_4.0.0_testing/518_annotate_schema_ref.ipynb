{
 "cells": [
  {
   "cell_type": "code",
   "execution_count": 1,
   "metadata": {},
   "outputs": [],
   "source": [
    "#https://github.com/chanzuckerberg/single-cell-curation/issues/518\n",
    "#https://github.com/chanzuckerberg/single-cell-curation/blob/main/schema/4.0.0/schema.md#schema_reference\n",
    "\n",
    "import numpy as np\n",
    "import os\n",
    "import scanpy as sc\n",
    "import subprocess\n",
    "import pandas as pd"
   ]
  },
  {
   "cell_type": "code",
   "execution_count": 8,
   "metadata": {},
   "outputs": [],
   "source": [
    "def validate(input_file, output_file):\n",
    "    ''' \n",
    "    Input: h5ad file\n",
    "    Output: h5ad file with additional var metadata fields\n",
    "    \n",
    "    '''\n",
    "    validate_process = subprocess.run(['cellxgene-schema', 'validate', '--add-labels', f'{output_file}', f'{input_file}'], stdout=subprocess.PIPE, stderr=subprocess.PIPE)\n",
    "    for line in validate_process.stdout.decode('utf-8').split('\\n'):\n",
    "        print(line)\n",
    "    for line in validate_process.stderr.decode('utf-8').split('\\n'):\n",
    "        print(line)\n",
    "        if 'is_valid=' in line:\n",
    "            valid = line.split('=')[-1]\n",
    "            print(valid)"
   ]
  },
  {
   "cell_type": "code",
   "execution_count": 13,
   "metadata": {},
   "outputs": [],
   "source": [
    "adata_without_schema_version = sc.read_h5ad('/Users/corinnsmall/GitClones/Lattice-Data/lattice-tools/cellxgene_resources/valid.h5ad')"
   ]
  },
  {
   "cell_type": "code",
   "execution_count": 10,
   "metadata": {},
   "outputs": [
    {
     "name": "stdout",
     "output_type": "stream",
     "text": [
      "Loading dependencies\n",
      "Loading validator modules\n",
      "\n",
      "Starting validation...\n",
      "Validation complete in 0:00:02.952212 with status is_valid=True\n",
      "True\n",
      "Writing labels\n",
      "enforce canonical format in X\n",
      "enforce canonical format in raw.X\n",
      "H5AD label writing complete in 0:00:59.006520, was_writing_successful: True\n",
      "\n"
     ]
    }
   ],
   "source": [
    "validate('/Users/corinnsmall/GitClones/Lattice-Data/lattice-tools/cellxgene_resources/valid.h5ad', 'valid_add_labels_schema.h5ad')\n"
   ]
  },
  {
   "cell_type": "code",
   "execution_count": 11,
   "metadata": {},
   "outputs": [],
   "source": [
    "adata_with_schema_version = sc.read_h5ad('valid_add_labels_schema.h5ad')"
   ]
  },
  {
   "cell_type": "code",
   "execution_count": 16,
   "metadata": {},
   "outputs": [
    {
     "data": {
      "text/plain": [
       "AnnData object with n_obs × n_vars = 2000 × 22356\n",
       "    obs: 'BICCN_cluster_id', 'QC', 'BICCN_cluster_label', 'BICCN_subclass_label', 'BICCN_class_label', 'cluster_color', 'size', 'temp_class_label', 'BICCN_ontology_term_id', 'assay_ontology_term_id', 'disease_ontology_term_id', 'tissue_ontology_term_id', 'BICCN_project', 'cell_type_ontology_term_id', 'self_reported_ethnicity_ontology_term_id', 'development_stage_ontology_term_id', 'sex_ontology_term_id', 'is_primary_data', 'organism_ontology_term_id', 'donor_id', 'suspension_type', 'tissue_type'\n",
       "    var: 'Unnamed: 0', 'feature_is_filtered'\n",
       "    uns: 'title'\n",
       "    obsm: 'X_harmony', 'X_umap'"
      ]
     },
     "execution_count": 16,
     "metadata": {},
     "output_type": "execute_result"
    }
   ],
   "source": [
    "adata_without_schema_version"
   ]
  },
  {
   "cell_type": "code",
   "execution_count": 17,
   "metadata": {},
   "outputs": [
    {
     "data": {
      "text/plain": [
       "'4.0.0'"
      ]
     },
     "execution_count": 17,
     "metadata": {},
     "output_type": "execute_result"
    }
   ],
   "source": [
    "adata_with_schema_version.uns['schema_version']"
   ]
  }
 ],
 "metadata": {
  "kernelspec": {
   "display_name": "cxg4testing",
   "language": "python",
   "name": "python3"
  },
  "language_info": {
   "codemirror_mode": {
    "name": "ipython",
    "version": 3
   },
   "file_extension": ".py",
   "mimetype": "text/x-python",
   "name": "python",
   "nbconvert_exporter": "python",
   "pygments_lexer": "ipython3",
   "version": "3.9.18"
  },
  "orig_nbformat": 4
 },
 "nbformat": 4,
 "nbformat_minor": 2
}
