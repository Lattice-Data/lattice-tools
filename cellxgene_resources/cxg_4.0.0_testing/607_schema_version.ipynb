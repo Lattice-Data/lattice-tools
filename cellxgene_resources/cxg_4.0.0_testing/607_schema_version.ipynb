{
 "cells": [
  {
   "cell_type": "markdown",
   "id": "6109d00b-31d6-4677-90b9-6e844dba570d",
   "metadata": {},
   "source": [
    "https://github.com/chanzuckerberg/single-cell-curation/issues/607"
   ]
  },
  {
   "cell_type": "code",
   "execution_count": null,
   "id": "b0268a6e-a8f2-41c8-b165-67bab8c8a113",
   "metadata": {},
   "outputs": [],
   "source": [
    "import numpy as np\n",
    "import os\n",
    "import scanpy as sc\n",
    "import subprocess"
   ]
  },
  {
   "cell_type": "code",
   "execution_count": null,
   "id": "2fdaff90-f97e-4573-8c6b-05976421ebee",
   "metadata": {},
   "outputs": [],
   "source": [
    "def validate(file):\n",
    "    validate_process = subprocess.run(['cellxgene-schema', 'validate', file], stdout=subprocess.PIPE, stderr=subprocess.PIPE)\n",
    "    for line in validate_process.stdout.decode('utf-8').split('\\n'):\n",
    "        print(line)\n",
    "    for line in validate_process.stderr.decode('utf-8').split('\\n'):\n",
    "        print(line)\n",
    "        if 'is_valid=' in line:\n",
    "            valid = line.split('=')[-1]\n",
    "            return valid"
   ]
  },
  {
   "cell_type": "code",
   "execution_count": null,
   "id": "d714f555-39eb-4bf9-a3ed-7a6dbc89da9f",
   "metadata": {},
   "outputs": [],
   "source": [
    "def save_and_test(adata, expected):\n",
    "    adata.write(filename='test.h5ad')\n",
    "    adata = sc.read_h5ad('test.h5ad')\n",
    "    if 'schema_version' in adata.uns.keys():\n",
    "        print('schema_version present:')\n",
    "        print(adata.uns['schema_version'])\n",
    "    else:\n",
    "        print('schema_version absent')\n",
    "    print('------------------')\n",
    "    valid = validate('test.h5ad')\n",
    "    print('------------------')\n",
    "    if expected != valid:\n",
    "        print('\\033[1m\\033[91mERROR\\033[0m')\n",
    "    else:\n",
    "        print('\\033[1m\\033[92mPASSED\\033[0m')\n",
    "    os.remove('test.h5ad')"
   ]
  },
  {
   "cell_type": "code",
   "execution_count": null,
   "id": "21362261-e943-4d34-bb58-9992e6729c7c",
   "metadata": {},
   "outputs": [],
   "source": [
    "adata = sc.read_h5ad('../valid.h5ad')"
   ]
  },
  {
   "cell_type": "markdown",
   "id": "9a3c06cf-8738-4f0f-b1a4-cf9c122de1cc",
   "metadata": {},
   "source": [
    "### Testing Valid Case "
   ]
  },
  {
   "cell_type": "code",
   "execution_count": null,
   "id": "6ef7748a-7596-449b-8db6-48e427f595be",
   "metadata": {},
   "outputs": [],
   "source": [
    "# Schema version is not present\n",
    "save_and_test(adata, 'True')"
   ]
  },
  {
   "cell_type": "markdown",
   "id": "507a8443-f8ae-46ec-9ed8-785bcb3c3853",
   "metadata": {},
   "source": [
    "### Testing Invalid Case "
   ]
  },
  {
   "cell_type": "code",
   "execution_count": null,
   "id": "12403680-ea72-4ad8-9e39-f74b5c1c4c32",
   "metadata": {},
   "outputs": [],
   "source": [
    "# Schema version is present\n",
    "adata.uns['schema_version'] = '4.0.0'\n",
    "save_and_test(adata, 'False')"
   ]
  },
  {
   "cell_type": "code",
   "execution_count": null,
   "id": "1052acd6-9f8c-4749-b6cc-ac58661e16c5",
   "metadata": {},
   "outputs": [],
   "source": [
    "# Schema version is present and null\n",
    "adata.uns['schema_version'] = None\n",
    "save_and_test(adata, 'False')"
   ]
  },
  {
   "cell_type": "code",
   "execution_count": null,
   "id": "c1e95a76-e0f9-460d-8e17-a11702d3cac7",
   "metadata": {},
   "outputs": [],
   "source": [
    "# Schema version as boolean false\n",
    "adata.uns['schema_version'] = False\n",
    "save_and_test(adata, 'False')"
   ]
  },
  {
   "cell_type": "code",
   "execution_count": null,
   "id": "b0ec4306-899c-4ca6-9cf2-294920ff8878",
   "metadata": {},
   "outputs": [],
   "source": [
    "# Schema version as empty string\n",
    "adata.uns['schema_version'] = ''\n",
    "save_and_test(adata, 'False')"
   ]
  },
  {
   "cell_type": "code",
   "execution_count": null,
   "id": "627bf06f-7efb-49ed-bb2c-1327386bb050",
   "metadata": {},
   "outputs": [],
   "source": [
    "# Schema version as NaN\n",
    "adata.uns['schema_version'] = 'NaN'\n",
    "save_and_test(adata, 'False')"
   ]
  }
 ],
 "metadata": {
  "kernelspec": {
   "display_name": "Python 3 (ipykernel)",
   "language": "python",
   "name": "python3"
  },
  "language_info": {
   "codemirror_mode": {
    "name": "ipython",
    "version": 3
   },
   "file_extension": ".py",
   "mimetype": "text/x-python",
   "name": "python",
   "nbconvert_exporter": "python",
   "pygments_lexer": "ipython3",
   "version": "3.10.8"
  }
 },
 "nbformat": 4,
 "nbformat_minor": 5
}
