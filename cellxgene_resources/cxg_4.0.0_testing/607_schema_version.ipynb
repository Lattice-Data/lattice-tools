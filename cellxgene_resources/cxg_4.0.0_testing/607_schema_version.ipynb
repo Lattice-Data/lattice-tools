{
 "cells": [
  {
   "cell_type": "markdown",
   "id": "6109d00b-31d6-4677-90b9-6e844dba570d",
   "metadata": {},
   "source": [
    "https://github.com/chanzuckerberg/single-cell-curation/issues/607"
   ]
  },
  {
   "cell_type": "code",
   "execution_count": 20,
   "id": "b0268a6e-a8f2-41c8-b165-67bab8c8a113",
   "metadata": {},
   "outputs": [],
   "source": [
    "import numpy as np\n",
    "import os\n",
    "import scanpy as sc\n",
    "import subprocess"
   ]
  },
  {
   "cell_type": "code",
   "execution_count": 21,
   "id": "2fdaff90-f97e-4573-8c6b-05976421ebee",
   "metadata": {},
   "outputs": [],
   "source": [
    "def validate(file):\n",
    "    validate_process = subprocess.run(['cellxgene-schema', 'validate', file], stdout=subprocess.PIPE, stderr=subprocess.PIPE)\n",
    "    for line in validate_process.stdout.decode('utf-8').split('\\n'):\n",
    "        print(line)\n",
    "    for line in validate_process.stderr.decode('utf-8').split('\\n'):\n",
    "        print(line)\n",
    "        if 'is_valid=' in line:\n",
    "            valid = line.split('=')[-1]\n",
    "            return valid"
   ]
  },
  {
   "cell_type": "code",
   "execution_count": 22,
   "id": "d714f555-39eb-4bf9-a3ed-7a6dbc89da9f",
   "metadata": {},
   "outputs": [],
   "source": [
    "def save_and_test(adata, expected):\n",
    "    if 'schema_version' in adata.uns.keys():\n",
    "        print('schema_version present:')\n",
    "        print(adata.uns['schema_version'])\n",
    "    else:\n",
    "        print('schema_version absent')\n",
    "    print('------------------')\n",
    "\n",
    "    adata.write(filename='test.h5ad')\n",
    "    valid = validate('test.h5ad')\n",
    "    print('------------------')\n",
    "    if expected != valid:\n",
    "        print('\\033[1m\\033[91mERROR\\033[0m')\n",
    "    else:\n",
    "        print('\\033[1m\\033[92mPASSED\\033[0m')\n",
    "    os.remove('test.h5ad')"
   ]
  },
  {
   "cell_type": "code",
   "execution_count": 23,
   "id": "21362261-e943-4d34-bb58-9992e6729c7c",
   "metadata": {},
   "outputs": [],
   "source": [
    "adata = sc.read_h5ad('../valid.h5ad')"
   ]
  },
  {
   "cell_type": "markdown",
   "id": "9a3c06cf-8738-4f0f-b1a4-cf9c122de1cc",
   "metadata": {},
   "source": [
    "### Testing Valid Case "
   ]
  },
  {
   "cell_type": "code",
   "execution_count": 24,
   "id": "6ef7748a-7596-449b-8db6-48e427f595be",
   "metadata": {},
   "outputs": [
    {
     "name": "stdout",
     "output_type": "stream",
     "text": [
      "schema_version absent\n",
      "------------------\n",
      "Loading dependencies\n",
      "Loading validator modules\n",
      "\n",
      "Starting validation...\n",
      "Validation complete in 0:00:00.875105 with status is_valid=True\n",
      "------------------\n",
      "\u001b[1m\u001b[92mPASSED\u001b[0m\n"
     ]
    }
   ],
   "source": [
    "# Schema version is not present\n",
    "save_and_test(adata, 'True')"
   ]
  },
  {
   "cell_type": "markdown",
   "id": "507a8443-f8ae-46ec-9ed8-785bcb3c3853",
   "metadata": {},
   "source": [
    "### Testing Invalid Case "
   ]
  },
  {
   "cell_type": "code",
   "execution_count": 25,
   "id": "12403680-ea72-4ad8-9e39-f74b5c1c4c32",
   "metadata": {},
   "outputs": [
    {
     "name": "stdout",
     "output_type": "stream",
     "text": [
      "schema_version present:\n",
      "4.0.0\n",
      "------------------\n",
      "Loading dependencies\n",
      "Loading validator modules\n",
      "\n",
      "Starting validation...\n",
      "Schema version '4.0.0' is not supported. Current supported versions: '3.0.0'. Validating with latest version '3.0.0'.\n",
      "Validation complete in 0:00:00.867722 with status is_valid=True\n",
      "------------------\n",
      "\u001b[1m\u001b[91mERROR\u001b[0m\n"
     ]
    }
   ],
   "source": [
    "# Schema version is present\n",
    "adata.uns['schema_version'] = '4.0.0'\n",
    "save_and_test(adata, 'False')"
   ]
  },
  {
   "cell_type": "code",
   "execution_count": 26,
   "id": "1052acd6-9f8c-4749-b6cc-ac58661e16c5",
   "metadata": {},
   "outputs": [
    {
     "name": "stdout",
     "output_type": "stream",
     "text": [
      "schema_version present:\n",
      "None\n",
      "------------------\n",
      "Loading dependencies\n",
      "Loading validator modules\n",
      "\n",
      "Starting validation...\n",
      "Validation complete in 0:00:00.973061 with status is_valid=True\n",
      "------------------\n",
      "\u001b[1m\u001b[91mERROR\u001b[0m\n"
     ]
    }
   ],
   "source": [
    "# Schema version is present and null\n",
    "adata.uns['schema_version'] = None\n",
    "save_and_test(adata, 'False')"
   ]
  },
  {
   "cell_type": "code",
   "execution_count": 27,
   "id": "c1e95a76-e0f9-460d-8e17-a11702d3cac7",
   "metadata": {},
   "outputs": [
    {
     "name": "stdout",
     "output_type": "stream",
     "text": [
      "schema_version present:\n",
      "False\n",
      "------------------\n",
      "Loading dependencies\n",
      "Loading validator modules\n",
      "\n",
      "Starting validation...\n",
      "WARNING: Validation of raw layer was not performed due to current errors, try again after fixing current errors.\n",
      "ERROR: 'False' in 'uns['schema_version']' is not valid, it must be a string.\n",
      "Validation complete in 0:00:00.476179 with status is_valid=False\n",
      "------------------\n",
      "\u001b[1m\u001b[92mPASSED\u001b[0m\n"
     ]
    }
   ],
   "source": [
    "# Schema version as boolean false\n",
    "adata.uns['schema_version'] = False\n",
    "save_and_test(adata, 'False')"
   ]
  },
  {
   "cell_type": "code",
   "execution_count": 28,
   "id": "b0ec4306-899c-4ca6-9cf2-294920ff8878",
   "metadata": {},
   "outputs": [
    {
     "name": "stdout",
     "output_type": "stream",
     "text": [
      "schema_version present:\n",
      "\n",
      "------------------\n",
      "Loading dependencies\n",
      "Loading validator modules\n",
      "\n",
      "Starting validation...\n",
      "Validation complete in 0:00:00.871559 with status is_valid=True\n",
      "------------------\n",
      "\u001b[1m\u001b[91mERROR\u001b[0m\n"
     ]
    }
   ],
   "source": [
    "# Schema version as empty string\n",
    "adata.uns['schema_version'] = ''\n",
    "save_and_test(adata, 'False')"
   ]
  },
  {
   "cell_type": "code",
   "execution_count": 29,
   "id": "627bf06f-7efb-49ed-bb2c-1327386bb050",
   "metadata": {},
   "outputs": [
    {
     "name": "stdout",
     "output_type": "stream",
     "text": [
      "schema_version present:\n",
      "NaN\n",
      "------------------\n",
      "Loading dependencies\n",
      "Loading validator modules\n",
      "\n",
      "Starting validation...\n",
      "Traceback (most recent call last):\n",
      "  File \"/Users/jchaffer/opt/anaconda3/envs/cxg/bin/cellxgene-schema\", line 8, in <module>\n",
      "    sys.exit(schema_cli())\n",
      "  File \"/Users/jchaffer/opt/anaconda3/envs/cxg/lib/python3.10/site-packages/click/core.py\", line 1130, in __call__\n",
      "    return self.main(*args, **kwargs)\n",
      "  File \"/Users/jchaffer/opt/anaconda3/envs/cxg/lib/python3.10/site-packages/click/core.py\", line 1055, in main\n",
      "    rv = self.invoke(ctx)\n",
      "  File \"/Users/jchaffer/opt/anaconda3/envs/cxg/lib/python3.10/site-packages/click/core.py\", line 1657, in invoke\n",
      "    return _process_result(sub_ctx.command.invoke(sub_ctx))\n",
      "  File \"/Users/jchaffer/opt/anaconda3/envs/cxg/lib/python3.10/site-packages/click/core.py\", line 1404, in invoke\n",
      "    return ctx.invoke(self.callback, **ctx.params)\n",
      "  File \"/Users/jchaffer/opt/anaconda3/envs/cxg/lib/python3.10/site-packages/click/core.py\", line 760, in invoke\n",
      "    return __callback(*args, **kwargs)\n",
      "  File \"/Users/jchaffer/opt/anaconda3/envs/cxg/lib/python3.10/site-packages/cellxgene_schema/cli.py\", line 47, in schema_validate\n",
      "    is_valid, _, _ = validate(h5ad_file, add_labels_file, ignore_labels=ignore_labels, verbose=verbose)\n",
      "  File \"/Users/jchaffer/opt/anaconda3/envs/cxg/lib/python3.10/site-packages/cellxgene_schema/validate.py\", line 1217, in validate\n",
      "    validator.validate_adata(h5ad_path)\n",
      "  File \"/Users/jchaffer/opt/anaconda3/envs/cxg/lib/python3.10/site-packages/cellxgene_schema/validate.py\", line 1168, in validate_adata\n",
      "    self._set_schema_def()\n",
      "  File \"/Users/jchaffer/opt/anaconda3/envs/cxg/lib/python3.10/site-packages/cellxgene_schema/validate.py\", line 95, in _set_schema_def\n",
      "    if version and not semver.Version.parse(version).is_compatible(latest_major_version):\n",
      "  File \"/Users/jchaffer/opt/anaconda3/envs/cxg/lib/python3.10/site-packages/semver/version.py\", line 647, in parse\n",
      "    raise ValueError(f\"{version} is not valid SemVer string\")\n",
      "ValueError: NaN is not valid SemVer string\n",
      "\n",
      "------------------\n",
      "\u001b[1m\u001b[91mERROR\u001b[0m\n"
     ]
    }
   ],
   "source": [
    "# Schema version as NaN\n",
    "adata.uns['schema_version'] = 'NaN'\n",
    "save_and_test(adata, 'False')"
   ]
  }
 ],
 "metadata": {
  "kernelspec": {
   "display_name": "Python 3 (ipykernel)",
   "language": "python",
   "name": "python3"
  },
  "language_info": {
   "codemirror_mode": {
    "name": "ipython",
    "version": 3
   },
   "file_extension": ".py",
   "mimetype": "text/x-python",
   "name": "python",
   "nbconvert_exporter": "python",
   "pygments_lexer": "ipython3",
   "version": "3.10.8"
  }
 },
 "nbformat": 4,
 "nbformat_minor": 5
}
