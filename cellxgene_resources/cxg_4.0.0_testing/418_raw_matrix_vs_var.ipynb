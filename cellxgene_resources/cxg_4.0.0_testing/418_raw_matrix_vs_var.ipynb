{
 "cells": [
  {
   "cell_type": "markdown",
   "id": "908fe462-cf3d-4c31-84f3-8b5448f2e991",
   "metadata": {},
   "source": [
    "https://github.com/chanzuckerberg/single-cell-curation/issues/418"
   ]
  },
  {
   "cell_type": "code",
   "execution_count": 1,
   "id": "1b2ae6d8-1f3f-4cd8-8c75-9f0a8b0c2c69",
   "metadata": {},
   "outputs": [],
   "source": [
    "import numpy as np\n",
    "import os\n",
    "import scanpy as sc\n",
    "import subprocess\n",
    "import anndata as ad"
   ]
  },
  {
   "cell_type": "code",
   "execution_count": 2,
   "id": "f4c7adb5-3297-4cd0-a739-726d3331135e",
   "metadata": {},
   "outputs": [],
   "source": [
    "def validate(file):\n",
    "    validate_process = subprocess.run(['cellxgene-schema', 'validate', file], stdout=subprocess.PIPE, stderr=subprocess.PIPE)\n",
    "    for line in validate_process.stdout.decode('utf-8').split('\\n'):\n",
    "        print(line)\n",
    "    for line in validate_process.stderr.decode('utf-8').split('\\n'):\n",
    "        print(line)\n",
    "        if 'is_valid=' in line:\n",
    "            valid = line.split('=')[-1]\n",
    "            return valid"
   ]
  },
  {
   "cell_type": "code",
   "execution_count": 3,
   "id": "edd70365-3392-4bb5-9e24-2f61cfd497f0",
   "metadata": {},
   "outputs": [],
   "source": [
    "def save_and_test(adata, expected):\n",
    "    adata.write(filename='test.h5ad')\n",
    "    adata = sc.read_h5ad('test.h5ad')\n",
    "\n",
    "    print(\"Shape of raw: {}\".format(adata.raw.X.shape))\n",
    "    print(\"Number of features in var: {}\".format(len(adata.raw.var)))\n",
    "    print('------------------')\n",
    "\n",
    "    valid = validate('test.h5ad')\n",
    "    print('------------------')\n",
    "    \n",
    "    if expected != valid:\n",
    "        print('\\033[1m\\033[91mERROR\\033[0m')\n",
    "    else:\n",
    "        print('\\033[1m\\033[92mPASSED\\033[0m')\n",
    "    os.remove('test.h5ad')"
   ]
  },
  {
   "cell_type": "markdown",
   "id": "80d19f07-2c54-42d8-b0f4-aee888ccf8f0",
   "metadata": {},
   "source": [
    "## Test Valid Cases"
   ]
  },
  {
   "cell_type": "code",
   "execution_count": 4,
   "id": "88a90589-4dda-43bd-93be-c55b822b03f1",
   "metadata": {},
   "outputs": [
    {
     "name": "stdout",
     "output_type": "stream",
     "text": [
      "Shape of raw: (2000, 22356)\n",
      "Number of features in var: 22356\n",
      "------------------\n",
      "Loading dependencies\n",
      "Loading validator modules\n",
      "\n",
      "Starting validation...\n",
      "Validation complete in 0:00:00.647977 with status is_valid=True\n",
      "------------------\n",
      "\u001b[1m\u001b[92mPASSED\u001b[0m\n"
     ]
    }
   ],
   "source": [
    "# Make sure valid.h5ad is valid\n",
    "adata = sc.read_h5ad(\"../valid.h5ad\")\n",
    "save_and_test(adata, 'True')"
   ]
  },
  {
   "cell_type": "markdown",
   "id": "c3275ce2-58eb-410b-8ea6-fee5bb21499b",
   "metadata": {},
   "source": [
    "## Test Invalid Cases"
   ]
  },
  {
   "cell_type": "code",
   "execution_count": 5,
   "id": "d389bee3-9c24-43fb-a508-1ba31bd67c91",
   "metadata": {},
   "outputs": [
    {
     "name": "stdout",
     "output_type": "stream",
     "text": [
      "Shape of raw: (2000, 22356)\n",
      "Number of features in var: 22000\n",
      "------------------\n",
      "Loading dependencies\n",
      "Loading validator modules\n",
      "\n",
      "Starting validation...\n",
      "Validation complete in 0:00:00.641024 with status is_valid=True\n",
      "------------------\n",
      "\u001b[1m\u001b[91mERROR\u001b[0m\n"
     ]
    }
   ],
   "source": [
    "# Make sure that validator catches when there are more genes in adata.raw.X compared to adata.raw.var\n",
    "adata = sc.read_h5ad('../valid.h5ad')\n",
    "raw = ad.AnnData(X=adata.raw.X, obs=adata.obs, var=adata.raw.var)\n",
    "l = len(raw.var)\n",
    "adata = adata[:,0:l-356]\n",
    "raw.var.drop(raw.var.index[l-356:l], inplace=True)\n",
    "adata.raw = raw\n",
    "\n",
    "save_and_test(adata, 'False')"
   ]
  },
  {
   "cell_type": "code",
   "execution_count": null,
   "id": "a87ce6fa-b627-4dc9-887d-9b714fc5c016",
   "metadata": {},
   "outputs": [],
   "source": []
  }
 ],
 "metadata": {
  "kernelspec": {
   "display_name": "Python 3 (ipykernel)",
   "language": "python",
   "name": "python3"
  },
  "language_info": {
   "codemirror_mode": {
    "name": "ipython",
    "version": 3
   },
   "file_extension": ".py",
   "mimetype": "text/x-python",
   "name": "python",
   "nbconvert_exporter": "python",
   "pygments_lexer": "ipython3",
   "version": "3.9.17"
  }
 },
 "nbformat": 4,
 "nbformat_minor": 5
}
