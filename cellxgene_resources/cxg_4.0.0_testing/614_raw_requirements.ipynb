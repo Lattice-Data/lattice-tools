{
 "cells": [
  {
   "cell_type": "markdown",
   "id": "85125780-ec16-4228-a300-f4f559ec7ec0",
   "metadata": {},
   "source": [
    "https://github.com/chanzuckerberg/single-cell-curation/issues/614"
   ]
  },
  {
   "cell_type": "code",
   "execution_count": 1,
   "id": "fc2e3a67-f8a8-436d-b8c4-73c2058f1e77",
   "metadata": {},
   "outputs": [],
   "source": [
    "import numpy as np\n",
    "import os\n",
    "import scanpy as sc\n",
    "import subprocess\n",
    "import anndata as ad\n",
    "from scipy import sparse"
   ]
  },
  {
   "cell_type": "code",
   "execution_count": 2,
   "id": "f69fe399-0c2e-4c75-9e2f-7e5aaeac128b",
   "metadata": {},
   "outputs": [],
   "source": [
    "def validate(file):\n",
    "    validate_process = subprocess.run(['cellxgene-schema', 'validate', file], stdout=subprocess.PIPE, stderr=subprocess.PIPE)\n",
    "    for line in validate_process.stdout.decode('utf-8').split('\\n'):\n",
    "        print(line)\n",
    "    for line in validate_process.stderr.decode('utf-8').split('\\n'):\n",
    "        print(line)\n",
    "        if 'is_valid=' in line:\n",
    "            valid = line.split('=')[-1]\n",
    "            return valid"
   ]
  },
  {
   "cell_type": "code",
   "execution_count": 3,
   "id": "3fd28fe9-df9d-4a79-8d07-803d3e8a005a",
   "metadata": {},
   "outputs": [],
   "source": [
    "def save_and_test(adata, expected):\n",
    "    adata.write(filename='test.h5ad')\n",
    "    adata = sc.read_h5ad('test.h5ad')\n",
    "\n",
    "    if adata.raw:\n",
    "        print(\"Datatype of raw matrix: {}\".format(adata.raw.X.dtype))\n",
    "        print(\"Format of raw matrix: {}\".format(get_format(adata.raw.X)))\n",
    "        print('------------------')\n",
    "    else:\n",
    "        print(\"Datatype of raw matrix: {}\".format(adata.X.dtype))\n",
    "        print(\"Format of raw matrix: {}\".format(get_format(adata.X)))\n",
    "        print('------------------')\n",
    "\n",
    "    valid = validate('test.h5ad')\n",
    "    print('------------------')\n",
    "    \n",
    "    if expected != valid:\n",
    "        print('\\033[1m\\033[91mERROR\\033[0m')\n",
    "    else:\n",
    "        print('\\033[1m\\033[92mPASSED\\033[0m')\n",
    "    os.remove('test.h5ad')"
   ]
  },
  {
   "cell_type": "code",
   "execution_count": 4,
   "id": "905d6fd0-1f5b-4b9a-a762-d7e98a87339e",
   "metadata": {},
   "outputs": [],
   "source": [
    "def get_format(x):\n",
    "    if sparse.issparse(x):\n",
    "        return(x.getformat())\n",
    "    elif isinstance(x, np.ndarray):\n",
    "        return(\"numpy array\")"
   ]
  },
  {
   "cell_type": "markdown",
   "id": "5855158a-fb65-4ef7-a1b8-209eba1b6cf1",
   "metadata": {},
   "source": [
    "## Test Valid Cases"
   ]
  },
  {
   "cell_type": "code",
   "execution_count": 5,
   "id": "6cb3311d-7aaf-43b1-a36c-553c6f9038d4",
   "metadata": {},
   "outputs": [
    {
     "name": "stdout",
     "output_type": "stream",
     "text": [
      "Datatype of raw matrix: float32\n",
      "Format of raw matrix: csr\n",
      "------------------\n",
      "Loading dependencies\n",
      "Loading validator modules\n",
      "\n",
      "Starting validation...\n",
      "Validation complete in 0:00:00.679551 with status is_valid=True\n",
      "------------------\n",
      "\u001b[1m\u001b[92mPASSED\u001b[0m\n"
     ]
    }
   ],
   "source": [
    "# Double check that adata is valid\n",
    "adata = sc.read_h5ad(\"../valid.h5ad\")\n",
    "save_and_test(adata, 'True')"
   ]
  },
  {
   "cell_type": "markdown",
   "id": "3d11a0d9-eb56-47ce-804a-b0ca72ad5ddb",
   "metadata": {},
   "source": [
    "## Test Invalid Cases"
   ]
  },
  {
   "cell_type": "code",
   "execution_count": 6,
   "id": "56fbc4da-1d56-47de-9649-8a93b3040780",
   "metadata": {},
   "outputs": [
    {
     "name": "stdout",
     "output_type": "stream",
     "text": [
      "Datatype of raw matrix: int64\n",
      "Format of raw matrix: csr\n",
      "------------------\n",
      "Loading dependencies\n",
      "Loading validator modules\n",
      "\n",
      "Starting validation...\n",
      "Validation complete in 0:00:00.377719 with status is_valid=True\n",
      "------------------\n",
      "\u001b[1m\u001b[91mERROR\u001b[0m\n"
     ]
    }
   ],
   "source": [
    "# The raw counts in adata.raw.X are integers for csr\n",
    "adata = sc.read_h5ad(\"../valid.h5ad\")\n",
    "raw = ad.AnnData(X=adata.raw.X, obs=adata.obs, var=adata.raw.var)\n",
    "raw.X = raw.X.astype(int)\n",
    "adata.raw = raw\n",
    "save_and_test(adata, 'False')"
   ]
  },
  {
   "cell_type": "code",
   "execution_count": 7,
   "id": "965643a1-6e61-4691-926f-fe090426d7ce",
   "metadata": {},
   "outputs": [
    {
     "name": "stdout",
     "output_type": "stream",
     "text": [
      "Datatype of raw matrix: int64\n",
      "Format of raw matrix: csr\n",
      "------------------\n",
      "Loading dependencies\n",
      "Loading validator modules\n",
      "\n",
      "Starting validation...\n",
      "WARNING: Only raw data was found, i.e. there is no 'raw.X'. It is STRONGLY RECOMMENDED that 'final' (normalized) data is provided.\n",
      "Validation complete in 0:00:00.299035 with status is_valid=True\n",
      "------------------\n",
      "\u001b[1m\u001b[91mERROR\u001b[0m\n"
     ]
    }
   ],
   "source": [
    "# The raw counts in adata.X are integers for csr\n",
    "adata = sc.read_h5ad(\"../valid.h5ad\")\n",
    "adata.X = adata.raw.X.astype(int)\n",
    "del adata.raw\n",
    "save_and_test(adata, 'False')"
   ]
  },
  {
   "cell_type": "code",
   "execution_count": 8,
   "id": "4066407c-54c6-4fa3-9b3d-5d2efec920e3",
   "metadata": {},
   "outputs": [
    {
     "name": "stdout",
     "output_type": "stream",
     "text": [
      "Datatype of raw matrix: int64\n",
      "Format of raw matrix: csc\n",
      "------------------\n",
      "Loading dependencies\n",
      "Loading validator modules\n",
      "\n",
      "Starting validation...\n",
      "Matrices are in CSC format; loading entire dataset into memory.\n",
      "WARNING: Sparsity of 'raw.X' is 0.6653779298622293 which is greater than 0.5, and it is not a 'scipy.sparse.csr_matrix'. It is STRONGLY RECOMMENDED to use this type of matrix for the given sparsity.\n",
      "Validation complete in 0:00:00.400113 with status is_valid=True\n",
      "------------------\n",
      "\u001b[1m\u001b[91mERROR\u001b[0m\n"
     ]
    }
   ],
   "source": [
    "# The raw counts in adata.raw.X are integers for csc\n",
    "adata = sc.read_h5ad(\"../valid.h5ad\")\n",
    "raw = ad.AnnData(X=adata.raw.X, obs=adata.obs, var=adata.raw.var)\n",
    "raw.X = raw.X.astype(int)\n",
    "raw.X = sparse.csc_matrix(raw.X)\n",
    "adata.raw = raw\n",
    "save_and_test(adata, 'False')"
   ]
  },
  {
   "cell_type": "code",
   "execution_count": 9,
   "id": "b4a9e97d-0340-41d2-b528-4591f2c78774",
   "metadata": {},
   "outputs": [
    {
     "name": "stdout",
     "output_type": "stream",
     "text": [
      "Datatype of raw matrix: int64\n",
      "Format of raw matrix: csc\n",
      "------------------\n",
      "Loading dependencies\n",
      "Loading validator modules\n",
      "\n",
      "Starting validation...\n",
      "Matrices are in CSC format; loading entire dataset into memory.\n",
      "WARNING: Sparsity of 'X' is 0.6653779298622293 which is greater than 0.5, and it is not a 'scipy.sparse.csr_matrix'. It is STRONGLY RECOMMENDED to use this type of matrix for the given sparsity.\n",
      "WARNING: Only raw data was found, i.e. there is no 'raw.X'. It is STRONGLY RECOMMENDED that 'final' (normalized) data is provided.\n",
      "Validation complete in 0:00:00.312281 with status is_valid=True\n",
      "------------------\n",
      "\u001b[1m\u001b[91mERROR\u001b[0m\n"
     ]
    }
   ],
   "source": [
    "# The raw counts in adata.X are integers for csc\n",
    "adata = sc.read_h5ad(\"../valid.h5ad\")\n",
    "adata.X = adata.raw.X.astype(int)\n",
    "adata.X = sparse.csc_matrix(adata.X)\n",
    "del adata.raw\n",
    "save_and_test(adata, 'False')"
   ]
  },
  {
   "cell_type": "code",
   "execution_count": 10,
   "id": "58e6c6e7-7056-4e0f-8921-ef724535fd24",
   "metadata": {},
   "outputs": [
    {
     "name": "stdout",
     "output_type": "stream",
     "text": [
      "Datatype of raw matrix: int64\n",
      "Format of raw matrix: numpy array\n",
      "------------------\n",
      "Loading dependencies\n",
      "Loading validator modules\n",
      "\n",
      "Starting validation...\n",
      "WARNING: Sparsity of 'raw.X' is 0.6653779298622293 which is greater than 0.5, and it is not a 'scipy.sparse.csr_matrix'. It is STRONGLY RECOMMENDED to use this type of matrix for the given sparsity.\n",
      "Validation complete in 0:00:00.521248 with status is_valid=True\n",
      "------------------\n",
      "\u001b[1m\u001b[91mERROR\u001b[0m\n"
     ]
    }
   ],
   "source": [
    "# The raw counts in adata.raw.X are integers for np.ndarray\n",
    "adata = sc.read_h5ad(\"../valid.h5ad\")\n",
    "raw = ad.AnnData(X=adata.raw.X, obs=adata.obs, var=adata.raw.var)\n",
    "raw.X = raw.X.astype(int)\n",
    "raw.X = raw.X.toarray()\n",
    "adata.raw = raw\n",
    "save_and_test(adata, 'False')"
   ]
  },
  {
   "cell_type": "code",
   "execution_count": 11,
   "id": "fb760664-e0e6-44e5-aac9-639ca562c45e",
   "metadata": {},
   "outputs": [
    {
     "name": "stdout",
     "output_type": "stream",
     "text": [
      "Datatype of raw matrix: int64\n",
      "Format of raw matrix: numpy array\n",
      "------------------\n",
      "Loading dependencies\n",
      "Loading validator modules\n",
      "\n",
      "Starting validation...\n",
      "WARNING: Sparsity of 'X' is 0.6653779298622293 which is greater than 0.5, and it is not a 'scipy.sparse.csr_matrix'. It is STRONGLY RECOMMENDED to use this type of matrix for the given sparsity.\n",
      "WARNING: Only raw data was found, i.e. there is no 'raw.X'. It is STRONGLY RECOMMENDED that 'final' (normalized) data is provided.\n",
      "Validation complete in 0:00:00.433554 with status is_valid=True\n",
      "------------------\n",
      "\u001b[1m\u001b[91mERROR\u001b[0m\n"
     ]
    }
   ],
   "source": [
    "# The raw counts in adata.X are integers for np.ndarray\n",
    "adata = sc.read_h5ad(\"../valid.h5ad\")\n",
    "adata.X = adata.raw.X.astype(int)\n",
    "adata.X = adata.X.toarray()\n",
    "del adata.raw\n",
    "save_and_test(adata, 'False')"
   ]
  },
  {
   "cell_type": "code",
   "execution_count": 12,
   "id": "22adbffe-1f19-4297-974c-2aef5870377f",
   "metadata": {},
   "outputs": [
    {
     "name": "stdout",
     "output_type": "stream",
     "text": [
      "Nonzero expression values in adata.raw.X for first 5 cells: []\n",
      "Nonzero expression values in adata.X first 5 cells: [6.41681   5.462968  5.822448  ... 5.140746  3.9875417 3.667482 ]\n",
      "Datatype of raw matrix: float32\n",
      "Format of raw matrix: csr\n",
      "------------------\n",
      "Loading dependencies\n",
      "Loading validator modules\n",
      "\n",
      "Starting validation...\n",
      "Validation complete in 0:00:00.646313 with status is_valid=True\n",
      "------------------\n",
      "\u001b[1m\u001b[91mERROR\u001b[0m\n"
     ]
    }
   ],
   "source": [
    "# The raw counts in adata.raw.X is csr and has zero counts for first 5 cells\n",
    "adata = sc.read_h5ad(\"../valid.h5ad\")\n",
    "raw = ad.AnnData(X=adata.raw.X, obs=adata.obs, var=adata.raw.var)\n",
    "raw.X = raw.X.toarray()\n",
    "raw.X[0:5] = 0\n",
    "raw.X = sparse.csr_matrix(raw.X)\n",
    "adata.raw = raw\n",
    "print(\"Nonzero expression values in adata.raw.X for first 5 cells: {}\".format(adata[0:5,:].raw.X.data))\n",
    "print(\"Nonzero expression values in adata.X first 5 cells: {}\".format(adata[0:5,:].X.data))\n",
    "save_and_test(adata, 'False')"
   ]
  },
  {
   "cell_type": "code",
   "execution_count": 13,
   "id": "f4035a97-9817-4c3e-9d5e-bb748e516c36",
   "metadata": {},
   "outputs": [
    {
     "name": "stdout",
     "output_type": "stream",
     "text": [
      "Nonzero expression values in adata.raw.X for first 5 cells: []\n",
      "Nonzero expression values in adata.X first 5 cells: [6.41681   5.462968  5.822448  ... 5.140746  3.9875417 3.667482 ]\n",
      "Datatype of raw matrix: float32\n",
      "Format of raw matrix: csc\n",
      "------------------\n",
      "Loading dependencies\n",
      "Loading validator modules\n",
      "\n",
      "Starting validation...\n",
      "Matrices are in CSC format; loading entire dataset into memory.\n",
      "WARNING: Sparsity of 'raw.X' is 0.6662728797638218 which is greater than 0.5, and it is not a 'scipy.sparse.csr_matrix'. It is STRONGLY RECOMMENDED to use this type of matrix for the given sparsity.\n",
      "Validation complete in 0:00:00.657570 with status is_valid=True\n",
      "------------------\n",
      "\u001b[1m\u001b[91mERROR\u001b[0m\n"
     ]
    }
   ],
   "source": [
    "# The raw counts in adata.raw.X is csc and has zero counts for first 5 cells\n",
    "adata = sc.read_h5ad(\"../valid.h5ad\")\n",
    "raw = ad.AnnData(X=adata.raw.X, obs=adata.obs, var=adata.raw.var)\n",
    "raw.X = raw.X.toarray()\n",
    "raw.X[0:5] = 0\n",
    "raw.X = sparse.csc_matrix(raw.X)\n",
    "adata.raw = raw\n",
    "print(\"Nonzero expression values in adata.raw.X for first 5 cells: {}\".format(adata[0:5,:].raw.X.data))\n",
    "print(\"Nonzero expression values in adata.X first 5 cells: {}\".format(adata[0:5,:].X.data))\n",
    "save_and_test(adata, 'False')"
   ]
  },
  {
   "cell_type": "code",
   "execution_count": 14,
   "id": "2108a2ba-5f96-4376-944a-3f58f5935a01",
   "metadata": {},
   "outputs": [
    {
     "name": "stdout",
     "output_type": "stream",
     "text": [
      "Nonzero expression values in adata.raw.X for first 5 cells: []\n",
      "Nonzero expression values in adata.X first 5 cells: [6.41681   5.462968  5.822448  ... 5.140746  3.9875417 3.667482 ]\n",
      "Datatype of raw matrix: float32\n",
      "Format of raw matrix: numpy array\n",
      "------------------\n",
      "Loading dependencies\n",
      "Loading validator modules\n",
      "\n",
      "Starting validation...\n",
      "WARNING: Sparsity of 'raw.X' is 0.6662728797638218 which is greater than 0.5, and it is not a 'scipy.sparse.csr_matrix'. It is STRONGLY RECOMMENDED to use this type of matrix for the given sparsity.\n",
      "Validation complete in 0:00:00.943125 with status is_valid=True\n",
      "------------------\n",
      "\u001b[1m\u001b[91mERROR\u001b[0m\n"
     ]
    }
   ],
   "source": [
    "# The raw counts in adata.raw.X is np.ndarray and has zero counts for first 5 cells\n",
    "adata = sc.read_h5ad(\"../valid.h5ad\")\n",
    "raw = ad.AnnData(X=adata.raw.X, obs=adata.obs, var=adata.raw.var)\n",
    "raw.X = raw.X.toarray()\n",
    "raw.X[0:5] = 0\n",
    "adata.raw = raw\n",
    "print(\"Nonzero expression values in adata.raw.X for first 5 cells: {}\".format(adata[0:5,:].raw.X[~np.all(adata[0:5,:].raw.X == 0, axis=1)]))\n",
    "print(\"Nonzero expression values in adata.X first 5 cells: {}\".format(adata[0:5,:].X.data))\n",
    "save_and_test(adata, 'False')"
   ]
  },
  {
   "cell_type": "code",
   "execution_count": 15,
   "id": "e6e98069-a94a-4b88-a0b6-95feff98eaaa",
   "metadata": {},
   "outputs": [
    {
     "name": "stdout",
     "output_type": "stream",
     "text": [
      "Nonzero expression values in adata.X first 5 cells: []\n",
      "Datatype of raw matrix: float32\n",
      "Format of raw matrix: csr\n",
      "------------------\n",
      "Loading dependencies\n",
      "Loading validator modules\n",
      "\n",
      "Starting validation...\n",
      "WARNING: Only raw data was found, i.e. there is no 'raw.X'. It is STRONGLY RECOMMENDED that 'final' (normalized) data is provided.\n",
      "Validation complete in 0:00:00.569957 with status is_valid=True\n",
      "------------------\n",
      "\u001b[1m\u001b[91mERROR\u001b[0m\n"
     ]
    }
   ],
   "source": [
    "# The raw counts in adata.X is csr and has zero counts for first 5 cells\n",
    "adata = sc.read_h5ad(\"../valid.h5ad\")\n",
    "adata.X = adata.raw.X.toarray()\n",
    "adata.X[0:5] = 0\n",
    "adata.X = sparse.csr_matrix(adata.X)\n",
    "del adata.raw\n",
    "print(\"Nonzero expression values in adata.X first 5 cells: {}\".format(adata[0:5,:].X.data))\n",
    "save_and_test(adata, 'False')"
   ]
  },
  {
   "cell_type": "code",
   "execution_count": 16,
   "id": "4f41c248-c085-4673-93a7-7e1b93d489e6",
   "metadata": {},
   "outputs": [
    {
     "name": "stdout",
     "output_type": "stream",
     "text": [
      "Nonzero expression values in adata.X first 5 cells: []\n",
      "Datatype of raw matrix: float32\n",
      "Format of raw matrix: csc\n",
      "------------------\n",
      "Loading dependencies\n",
      "Loading validator modules\n",
      "\n",
      "Starting validation...\n",
      "Matrices are in CSC format; loading entire dataset into memory.\n",
      "WARNING: Sparsity of 'X' is 0.6662728797638218 which is greater than 0.5, and it is not a 'scipy.sparse.csr_matrix'. It is STRONGLY RECOMMENDED to use this type of matrix for the given sparsity.\n",
      "WARNING: Only raw data was found, i.e. there is no 'raw.X'. It is STRONGLY RECOMMENDED that 'final' (normalized) data is provided.\n",
      "Validation complete in 0:00:00.553223 with status is_valid=True\n",
      "------------------\n",
      "\u001b[1m\u001b[91mERROR\u001b[0m\n"
     ]
    }
   ],
   "source": [
    "# The raw counts in adata.X is csr and has zero counts for first 5 cells\n",
    "adata = sc.read_h5ad(\"../valid.h5ad\")\n",
    "adata.X = adata.raw.X.toarray()\n",
    "adata.X[0:5] = 0\n",
    "adata.X = sparse.csc_matrix(adata.X)\n",
    "del adata.raw\n",
    "print(\"Nonzero expression values in adata.X first 5 cells: {}\".format(adata[0:5,:].X.data))\n",
    "save_and_test(adata, 'False')"
   ]
  },
  {
   "cell_type": "code",
   "execution_count": 17,
   "id": "9a0f8d49-c462-43b5-aa7d-3a20db1b0a73",
   "metadata": {},
   "outputs": [
    {
     "name": "stdout",
     "output_type": "stream",
     "text": [
      "Nonzero expression values in adata.X first 5 cells: []\n",
      "Datatype of raw matrix: float32\n",
      "Format of raw matrix: numpy array\n",
      "------------------\n",
      "Loading dependencies\n",
      "Loading validator modules\n",
      "\n",
      "Starting validation...\n",
      "WARNING: Sparsity of 'X' is 0.6662728797638218 which is greater than 0.5, and it is not a 'scipy.sparse.csr_matrix'. It is STRONGLY RECOMMENDED to use this type of matrix for the given sparsity.\n",
      "WARNING: Only raw data was found, i.e. there is no 'raw.X'. It is STRONGLY RECOMMENDED that 'final' (normalized) data is provided.\n",
      "Validation complete in 0:00:00.864831 with status is_valid=True\n",
      "------------------\n",
      "\u001b[1m\u001b[91mERROR\u001b[0m\n"
     ]
    }
   ],
   "source": [
    "# The raw counts in adata.X is csr and has zero counts for first 5 cells\n",
    "adata = sc.read_h5ad(\"../valid.h5ad\")\n",
    "adata.X = adata.raw.X.toarray()\n",
    "adata.X[0:5] = 0\n",
    "del adata.raw\n",
    "print(\"Nonzero expression values in adata.X first 5 cells: {}\".format(adata[0:5,:].X[~np.all(adata[0:5,:].X == 0, axis=1)]))\n",
    "save_and_test(adata, 'False')"
   ]
  }
 ],
 "metadata": {
  "kernelspec": {
   "display_name": "Python 3 (ipykernel)",
   "language": "python",
   "name": "python3"
  },
  "language_info": {
   "codemirror_mode": {
    "name": "ipython",
    "version": 3
   },
   "file_extension": ".py",
   "mimetype": "text/x-python",
   "name": "python",
   "nbconvert_exporter": "python",
   "pygments_lexer": "ipython3",
   "version": "3.9.17"
  }
 },
 "nbformat": 4,
 "nbformat_minor": 5
}
