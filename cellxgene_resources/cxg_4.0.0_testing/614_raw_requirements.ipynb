{
 "cells": [
  {
   "cell_type": "markdown",
   "id": "85125780-ec16-4228-a300-f4f559ec7ec0",
   "metadata": {},
   "source": [
    "https://github.com/chanzuckerberg/single-cell-curation/issues/614"
   ]
  },
  {
   "cell_type": "code",
   "execution_count": null,
   "id": "fc2e3a67-f8a8-436d-b8c4-73c2058f1e77",
   "metadata": {},
   "outputs": [],
   "source": [
    "import numpy as np\n",
    "import os\n",
    "import scanpy as sc\n",
    "import subprocess\n",
    "import anndata as ad\n",
    "from scipy import sparse"
   ]
  },
  {
   "cell_type": "code",
   "execution_count": null,
   "id": "f69fe399-0c2e-4c75-9e2f-7e5aaeac128b",
   "metadata": {},
   "outputs": [],
   "source": [
    "def validate(file):\n",
    "    validate_process = subprocess.run(['cellxgene-schema', 'validate', file], stdout=subprocess.PIPE, stderr=subprocess.PIPE)\n",
    "    for line in validate_process.stdout.decode('utf-8').split('\\n'):\n",
    "        print(line)\n",
    "    for line in validate_process.stderr.decode('utf-8').split('\\n'):\n",
    "        print(line)\n",
    "        if 'is_valid=' in line:\n",
    "            valid = line.split('=')[-1]\n",
    "            return valid"
   ]
  },
  {
   "cell_type": "code",
   "execution_count": null,
   "id": "3fd28fe9-df9d-4a79-8d07-803d3e8a005a",
   "metadata": {},
   "outputs": [],
   "source": [
    "def save_and_test(adata, expected):\n",
    "    adata.write(filename='test.h5ad')\n",
    "    adata = sc.read_h5ad('test.h5ad')\n",
    "\n",
    "    if adata.raw:\n",
    "        print(\"Datatype of raw.X matrix: {}\".format(adata.raw.X.dtype))\n",
    "        print(\"Format of raw.X matrix: {}\".format(get_format(adata.raw.X)))\n",
    "        non_integer = np.any(~np.equal(np.mod(adata.raw.X.data, 1), 0))\n",
    "        if non_integer == False:\n",
    "            print('raw.X is all integers')\n",
    "        else:\n",
    "            print('raw.X contains non-integer values')\n",
    "    else:\n",
    "        print(\"raw slot is absent\")\n",
    "    print('---------')\n",
    "\n",
    "    print(\"Datatype of X matrix: {}\".format(adata.X.dtype))\n",
    "    print(\"Format of X matrix: {}\".format(get_format(adata.X)))\n",
    "    non_integer = np.any(~np.equal(np.mod(adata.X.data, 1), 0))\n",
    "    if non_integer == False:\n",
    "        print('X is all integers')\n",
    "    else:\n",
    "        print('X contains non-integer values')\n",
    "    print('------------------')\n",
    "\n",
    "    valid = validate('test.h5ad')\n",
    "    print('------------------')\n",
    "    \n",
    "    if expected != valid:\n",
    "        print('\\033[1m\\033[91mERROR\\033[0m')\n",
    "    else:\n",
    "        print('\\033[1m\\033[92mPASSED\\033[0m')\n",
    "    os.remove('test.h5ad')"
   ]
  },
  {
   "cell_type": "code",
   "execution_count": null,
   "id": "905d6fd0-1f5b-4b9a-a762-d7e98a87339e",
   "metadata": {},
   "outputs": [],
   "source": [
    "def get_format(x):\n",
    "    if sparse.issparse(x):\n",
    "        return(x.getformat())\n",
    "    elif isinstance(x, np.ndarray):\n",
    "        return(\"numpy array\")"
   ]
  },
  {
   "cell_type": "markdown",
   "id": "5855158a-fb65-4ef7-a1b8-209eba1b6cf1",
   "metadata": {},
   "source": [
    "## Test Valid Cases"
   ]
  },
  {
   "cell_type": "code",
   "execution_count": null,
   "id": "6cb3311d-7aaf-43b1-a36c-553c6f9038d4",
   "metadata": {},
   "outputs": [],
   "source": [
    "# Raw counts in raw slot - csr\n",
    "adata = sc.read_h5ad(\"../valid.h5ad\")\n",
    "save_and_test(adata, 'True')"
   ]
  },
  {
   "cell_type": "code",
   "execution_count": null,
   "id": "363cb3ae-7460-4b42-b04b-8b03ec78bd97",
   "metadata": {},
   "outputs": [],
   "source": [
    "# Raw counts in raw slot - csc\n",
    "adata = sc.read_h5ad(\"../valid.h5ad\")\n",
    "raw = ad.AnnData(X=adata.raw.X, obs=adata.obs, var=adata.raw.var)\n",
    "raw.X = sparse.csc_matrix(raw.X)\n",
    "adata.raw = raw\n",
    "save_and_test(adata, 'True')"
   ]
  },
  {
   "cell_type": "code",
   "execution_count": null,
   "id": "f1212850-20be-4813-b220-c8db9bd33eb4",
   "metadata": {},
   "outputs": [],
   "source": [
    "# Raw counts in raw slot - np.ndarray\n",
    "adata = sc.read_h5ad(\"../valid.h5ad\")\n",
    "raw = ad.AnnData(X=adata.raw.X, obs=adata.obs, var=adata.raw.var)\n",
    "raw.X = raw.X.toarray()\n",
    "adata.raw = raw\n",
    "save_and_test(adata, 'True')"
   ]
  },
  {
   "cell_type": "code",
   "execution_count": null,
   "id": "cd0c5648-19d6-412a-afcc-f2909a3d5fa3",
   "metadata": {},
   "outputs": [],
   "source": [
    "# Raw counts in .X - csr\n",
    "adata = sc.read_h5ad(\"../valid.h5ad\")\n",
    "adata.X = adata.raw.X\n",
    "del adata.raw\n",
    "save_and_test(adata, 'True')"
   ]
  },
  {
   "cell_type": "code",
   "execution_count": null,
   "id": "6c79b31a-3282-40cd-ba7e-d5a996509c41",
   "metadata": {},
   "outputs": [],
   "source": [
    "# Raw counts in .X - csc\n",
    "adata = sc.read_h5ad(\"../valid.h5ad\")\n",
    "adata.X = sparse.csc_matrix(raw.X)\n",
    "del adata.raw\n",
    "save_and_test(adata, 'True')"
   ]
  },
  {
   "cell_type": "code",
   "execution_count": null,
   "id": "0db40868-04c1-4506-81ef-e58b4230e12f",
   "metadata": {},
   "outputs": [],
   "source": [
    "# Raw counts in .X - np.ndarray\n",
    "adata = sc.read_h5ad(\"../valid.h5ad\")\n",
    "adata.X = adata.raw.X.toarray()\n",
    "del adata.raw\n",
    "save_and_test(adata, 'True')"
   ]
  },
  {
   "cell_type": "code",
   "execution_count": null,
   "id": "e57c57f9-955f-48ea-b8cb-55f738312c57",
   "metadata": {},
   "outputs": [],
   "source": [
    "# .X is float64\n",
    "adata = sc.read_h5ad(\"../valid.h5ad\")\n",
    "adata.X = adata.X.astype('float64')\n",
    "save_and_test(adata, 'True')"
   ]
  },
  {
   "cell_type": "code",
   "execution_count": null,
   "id": "42026ac5-eba2-4d86-8f2f-aa6898fe3c06",
   "metadata": {},
   "outputs": [],
   "source": [
    "# .X is float16\n",
    "adata = sc.read_h5ad(\"../valid.h5ad\")\n",
    "adata.X = adata.X.astype('float16')\n",
    "save_and_test(adata, 'True')"
   ]
  },
  {
   "cell_type": "code",
   "execution_count": null,
   "id": "31adc220-25ce-4610-9e9f-ae533b7a09a2",
   "metadata": {},
   "outputs": [],
   "source": [
    "# .X is int with negatives\n",
    "adata = sc.read_h5ad(\"../valid.h5ad\")\n",
    "adata.X = adata.X.toarray()\n",
    "adata.X[0:5] = -145\n",
    "adata.X = sparse.csr_matrix(adata.X)\n",
    "adata.X = adata.X.astype(int)\n",
    "save_and_test(adata, 'True')"
   ]
  },
  {
   "cell_type": "code",
   "execution_count": null,
   "id": "26d7fc17-6c7d-4d70-90d3-3677d86892cb",
   "metadata": {},
   "outputs": [],
   "source": [
    "# .X has cells with all zeros\n",
    "adata = sc.read_h5ad(\"../valid.h5ad\")\n",
    "adata.X = adata.X.toarray()\n",
    "adata.X[0:5] = 0\n",
    "adata.X = sparse.csc_matrix(adata.X)\n",
    "print(\"Nonzero expression values in adata.X for first 5 cells: {}\".format(adata[0:5,:].X.data))\n",
    "save_and_test(adata, 'True')"
   ]
  },
  {
   "cell_type": "code",
   "execution_count": null,
   "id": "d538f83c-5142-4d4c-85cf-3ab95a4d31dd",
   "metadata": {},
   "outputs": [],
   "source": [
    "#non-RNA assay without raw counts\n",
    "adata = sc.read_h5ad(\"../valid.h5ad\")\n",
    "adata.obs['assay_ontology_term_id'] = 'EFO:0007045' #ATAC-seq\n",
    "del adata.raw\n",
    "save_and_test(adata, 'True')"
   ]
  },
  {
   "cell_type": "code",
   "execution_count": null,
   "id": "d2adc1da-680a-4630-b427-d77ff75534eb",
   "metadata": {},
   "outputs": [],
   "source": [
    "#non-RNA without raw counts but with raw.X\n",
    "adata = sc.read_h5ad(\"../valid.h5ad\")\n",
    "adata.obs['assay_ontology_term_id'] = 'EFO:0007045' #ATAC-seq\n",
    "adata.obs['suspension_type'] = 'nucleus'\n",
    "non_raw = ad.AnnData(X=adata.X, obs=adata.obs, var=adata.var)\n",
    "non_raw.var.drop(columns='feature_is_filtered', inplace=True)\n",
    "adata.raw = non_raw\n",
    "save_and_test(adata, 'True')"
   ]
  },
  {
   "cell_type": "code",
   "execution_count": null,
   "id": "690cd0e1-9d43-44a8-b384-9dcd1fff4a7d",
   "metadata": {},
   "outputs": [],
   "source": [
    "#non-RNA assay has cells with zeros\n",
    "adata = sc.read_h5ad(\"../valid.h5ad\")\n",
    "adata.obs['assay_ontology_term_id'] = 'EFO:0007045' #ATAC-seq\n",
    "adata.obs['suspension_type'] = 'nucleus'\n",
    "adata.X = adata.X.toarray()\n",
    "adata.X[0:5] = 0\n",
    "adata.X = sparse.csr_matrix(adata.X)\n",
    "del adata.raw\n",
    "print(\"Nonzero expression values in adata.X first 5 cells: {}\".format(adata[0:5,:].X.data))\n",
    "save_and_test(adata, 'True')"
   ]
  },
  {
   "cell_type": "markdown",
   "id": "3d11a0d9-eb56-47ce-804a-b0ca72ad5ddb",
   "metadata": {},
   "source": [
    "## Test Invalid Cases"
   ]
  },
  {
   "cell_type": "code",
   "execution_count": null,
   "id": "a77aecaa-8984-41f0-b642-c44858fad205",
   "metadata": {},
   "outputs": [],
   "source": [
    "# No raw counts\n",
    "adata = sc.read_h5ad(\"../valid.h5ad\")\n",
    "del adata.raw\n",
    "save_and_test(adata, 'False')"
   ]
  },
  {
   "cell_type": "code",
   "execution_count": null,
   "id": "06afa4c3-2c09-42df-a5de-42e5c29c97ed",
   "metadata": {},
   "outputs": [],
   "source": [
    "# The raw counts in adata.raw.X are float64 for csr\n",
    "adata = sc.read_h5ad(\"../valid.h5ad\")\n",
    "raw = ad.AnnData(X=adata.raw.X, obs=adata.obs, var=adata.raw.var)\n",
    "raw.X = raw.X.astype('float64')\n",
    "adata.raw = raw\n",
    "save_and_test(adata, 'False')"
   ]
  },
  {
   "cell_type": "code",
   "execution_count": null,
   "id": "699b3681-944a-4a15-8d46-ff5ada925994",
   "metadata": {},
   "outputs": [],
   "source": [
    "# The raw counts in adata.X are float64 for csr\n",
    "adata = sc.read_h5ad(\"../valid.h5ad\")\n",
    "adata.X = adata.raw.X.astype('float64')\n",
    "del adata.raw\n",
    "save_and_test(adata, 'False')"
   ]
  },
  {
   "cell_type": "code",
   "execution_count": null,
   "id": "1368a468-8f87-45bd-a034-95cd794b9b39",
   "metadata": {},
   "outputs": [],
   "source": [
    "# The raw counts in adata.raw.X are float16 for csr\n",
    "adata = sc.read_h5ad(\"../valid.h5ad\")\n",
    "raw = ad.AnnData(X=adata.raw.X, obs=adata.obs, var=adata.raw.var)\n",
    "raw.X = raw.X.astype('float16')\n",
    "adata.raw = raw\n",
    "save_and_test(adata, 'False')"
   ]
  },
  {
   "cell_type": "code",
   "execution_count": null,
   "id": "d602ca25-6130-496c-9eec-81f787a4c90a",
   "metadata": {},
   "outputs": [],
   "source": [
    "# The raw counts in adata.X are float16 for csr\n",
    "adata = sc.read_h5ad(\"../valid.h5ad\")\n",
    "adata.X = adata.raw.X.astype('float16')\n",
    "del adata.raw\n",
    "save_and_test(adata, 'False')"
   ]
  },
  {
   "cell_type": "code",
   "execution_count": null,
   "id": "56fbc4da-1d56-47de-9649-8a93b3040780",
   "metadata": {},
   "outputs": [],
   "source": [
    "# The raw counts in adata.raw.X are integers for csr\n",
    "adata = sc.read_h5ad(\"../valid.h5ad\")\n",
    "raw = ad.AnnData(X=adata.raw.X, obs=adata.obs, var=adata.raw.var)\n",
    "raw.X = raw.X.astype(int)\n",
    "adata.raw = raw\n",
    "save_and_test(adata, 'False')"
   ]
  },
  {
   "cell_type": "code",
   "execution_count": null,
   "id": "965643a1-6e61-4691-926f-fe090426d7ce",
   "metadata": {},
   "outputs": [],
   "source": [
    "# The raw counts in adata.X are integers for csr\n",
    "adata = sc.read_h5ad(\"../valid.h5ad\")\n",
    "adata.X = adata.raw.X.astype(int)\n",
    "del adata.raw\n",
    "save_and_test(adata, 'False')"
   ]
  },
  {
   "cell_type": "code",
   "execution_count": null,
   "id": "20d8d492-71ed-461e-8e87-1c843ebe1977",
   "metadata": {},
   "outputs": [],
   "source": [
    "# The raw counts in adata.raw.X are float64 for csc\n",
    "adata = sc.read_h5ad(\"../valid.h5ad\")\n",
    "raw = ad.AnnData(X=adata.raw.X, obs=adata.obs, var=adata.raw.var)\n",
    "raw.X = raw.X.astype('float64')\n",
    "raw.X = sparse.csc_matrix(raw.X)\n",
    "adata.raw = raw\n",
    "save_and_test(adata, 'False')"
   ]
  },
  {
   "cell_type": "code",
   "execution_count": null,
   "id": "931b7be3-ef8b-4903-b992-c4ed8a086426",
   "metadata": {},
   "outputs": [],
   "source": [
    "# The raw counts in adata.X are float64 for csc\n",
    "adata = sc.read_h5ad(\"../valid.h5ad\")\n",
    "adata.X = adata.raw.X.astype('float64')\n",
    "adata.X = sparse.csc_matrix(adata.X)\n",
    "del adata.raw\n",
    "save_and_test(adata, 'False')"
   ]
  },
  {
   "cell_type": "code",
   "execution_count": null,
   "id": "24d0819b-aced-4849-81a5-94a30ae49efe",
   "metadata": {},
   "outputs": [],
   "source": [
    "# The raw counts in adata.raw.X are float16 for csc\n",
    "# Seems to convert to float32 at some point in the process"
   ]
  },
  {
   "cell_type": "code",
   "execution_count": null,
   "id": "83583f59-5f1f-47d8-9233-15c491b84c63",
   "metadata": {},
   "outputs": [],
   "source": [
    "# The raw counts in adata.X are float16 for csc\n",
    "# Seems to convert to float32 at some point in the process"
   ]
  },
  {
   "cell_type": "code",
   "execution_count": null,
   "id": "4066407c-54c6-4fa3-9b3d-5d2efec920e3",
   "metadata": {},
   "outputs": [],
   "source": [
    "# The raw counts in adata.raw.X are integers for csc\n",
    "adata = sc.read_h5ad(\"../valid.h5ad\")\n",
    "raw = ad.AnnData(X=adata.raw.X, obs=adata.obs, var=adata.raw.var)\n",
    "raw.X = raw.X.astype(int)\n",
    "raw.X = sparse.csc_matrix(raw.X)\n",
    "adata.raw = raw\n",
    "save_and_test(adata, 'False')"
   ]
  },
  {
   "cell_type": "code",
   "execution_count": null,
   "id": "b4a9e97d-0340-41d2-b528-4591f2c78774",
   "metadata": {},
   "outputs": [],
   "source": [
    "# The raw counts in adata.X are integers for csc\n",
    "adata = sc.read_h5ad(\"../valid.h5ad\")\n",
    "adata.X = adata.raw.X.astype(int)\n",
    "adata.X = sparse.csc_matrix(adata.X)\n",
    "del adata.raw\n",
    "save_and_test(adata, 'False')"
   ]
  },
  {
   "cell_type": "code",
   "execution_count": null,
   "id": "9798769d-395c-4724-93a3-28e1da630a79",
   "metadata": {},
   "outputs": [],
   "source": [
    "# The raw counts in adata.raw.X are float64 for np.ndarray\n",
    "adata = sc.read_h5ad(\"../valid.h5ad\")\n",
    "raw = ad.AnnData(X=adata.raw.X, obs=adata.obs, var=adata.raw.var)\n",
    "raw.X = raw.X.astype('float64')\n",
    "raw.X = raw.X.toarray()\n",
    "adata.raw = raw\n",
    "save_and_test(adata, 'False')"
   ]
  },
  {
   "cell_type": "code",
   "execution_count": null,
   "id": "ca072751-37e2-402c-978c-e97446252bab",
   "metadata": {},
   "outputs": [],
   "source": [
    "# The raw counts in adata.X are float64 for np.ndarray\n",
    "adata = sc.read_h5ad(\"../valid.h5ad\")\n",
    "adata.X = adata.raw.X.astype('float64')\n",
    "adata.X = adata.X.toarray()\n",
    "del adata.raw\n",
    "save_and_test(adata, 'False')"
   ]
  },
  {
   "cell_type": "code",
   "execution_count": null,
   "id": "fd88ca9d-1892-40b6-82db-75f578393bc9",
   "metadata": {},
   "outputs": [],
   "source": [
    "# The raw counts in adata.raw.X are float16 for np.ndarray\n",
    "# ValueError: Output dtype not compatible with inputs."
   ]
  },
  {
   "cell_type": "code",
   "execution_count": null,
   "id": "acf115d0-9a22-42dc-9909-f0ce61771f8b",
   "metadata": {},
   "outputs": [],
   "source": [
    "# The raw counts in adata.X are float16 for np.ndarray\n",
    "# ValueError: Output dtype not compatible with inputs."
   ]
  },
  {
   "cell_type": "code",
   "execution_count": null,
   "id": "58e6c6e7-7056-4e0f-8921-ef724535fd24",
   "metadata": {},
   "outputs": [],
   "source": [
    "# The raw counts in adata.raw.X are integers for np.ndarray\n",
    "adata = sc.read_h5ad(\"../valid.h5ad\")\n",
    "raw = ad.AnnData(X=adata.raw.X, obs=adata.obs, var=adata.raw.var)\n",
    "raw.X = raw.X.astype(int)\n",
    "raw.X = raw.X.toarray()\n",
    "adata.raw = raw\n",
    "save_and_test(adata, 'False')"
   ]
  },
  {
   "cell_type": "code",
   "execution_count": null,
   "id": "fb760664-e0e6-44e5-aac9-639ca562c45e",
   "metadata": {},
   "outputs": [],
   "source": [
    "# The raw counts in adata.X are integers for np.ndarray\n",
    "adata = sc.read_h5ad(\"../valid.h5ad\")\n",
    "adata.X = adata.raw.X.astype(int)\n",
    "adata.X = adata.X.toarray()\n",
    "del adata.raw\n",
    "save_and_test(adata, 'False')"
   ]
  },
  {
   "cell_type": "code",
   "execution_count": null,
   "id": "72b9b648-078d-46ac-9207-7259c1ee61c5",
   "metadata": {},
   "outputs": [],
   "source": [
    "#raw layer includes some negative int values - in adata.raw.X\n",
    "adata = sc.read_h5ad(\"../valid.h5ad\")\n",
    "raw = ad.AnnData(X=adata.raw.X, obs=adata.obs, var=adata.raw.var)\n",
    "raw.X = raw.X.toarray()\n",
    "raw.X[0:5] = -145\n",
    "raw.X = sparse.csr_matrix(raw.X)\n",
    "adata.raw = raw\n",
    "print(\"Nonzero expression values in adata.raw.X for first 5 cells: {}\".format(adata[0:5,:].raw.X.data))\n",
    "save_and_test(adata, 'False')"
   ]
  },
  {
   "cell_type": "code",
   "execution_count": null,
   "id": "2f9429c0-35ca-495e-96cf-9e0007c5f2c5",
   "metadata": {},
   "outputs": [],
   "source": [
    "#raw layer includes some negative int values - in adata.X\n",
    "adata = sc.read_h5ad(\"../valid.h5ad\")\n",
    "adata.X = raw.X.toarray()\n",
    "adata.X[0:5] = -145\n",
    "adata.X = sparse.csr_matrix(adata.X)\n",
    "del adata.raw\n",
    "print(\"Nonzero expression values in adata.X first 5 cells: {}\".format(adata[0:5,:].X.data))\n",
    "save_and_test(adata, 'False')"
   ]
  },
  {
   "cell_type": "code",
   "execution_count": null,
   "id": "22adbffe-1f19-4297-974c-2aef5870377f",
   "metadata": {},
   "outputs": [],
   "source": [
    "# The raw counts in adata.raw.X is csr and has zero counts for first 5 cells\n",
    "adata = sc.read_h5ad(\"../valid.h5ad\")\n",
    "raw = ad.AnnData(X=adata.raw.X, obs=adata.obs, var=adata.raw.var)\n",
    "raw.X = raw.X.toarray()\n",
    "raw.X[0:5] = 0\n",
    "raw.X = sparse.csr_matrix(raw.X)\n",
    "adata.raw = raw\n",
    "print(\"Nonzero expression values in adata.raw.X for first 5 cells: {}\".format(adata[0:5,:].raw.X.data))\n",
    "save_and_test(adata, 'False')"
   ]
  },
  {
   "cell_type": "code",
   "execution_count": null,
   "id": "f4035a97-9817-4c3e-9d5e-bb748e516c36",
   "metadata": {},
   "outputs": [],
   "source": [
    "# The raw counts in adata.raw.X is csc and has zero counts for first 5 cells\n",
    "adata = sc.read_h5ad(\"../valid.h5ad\")\n",
    "raw = ad.AnnData(X=adata.raw.X, obs=adata.obs, var=adata.raw.var)\n",
    "raw.X = raw.X.toarray()\n",
    "raw.X[0:5] = 0\n",
    "raw.X = sparse.csc_matrix(raw.X)\n",
    "adata.raw = raw\n",
    "print(\"Nonzero expression values in adata.raw.X for first 5 cells: {}\".format(adata[0:5,:].raw.X.data))\n",
    "save_and_test(adata, 'False')"
   ]
  },
  {
   "cell_type": "code",
   "execution_count": null,
   "id": "2108a2ba-5f96-4376-944a-3f58f5935a01",
   "metadata": {},
   "outputs": [],
   "source": [
    "# The raw counts in adata.raw.X is np.ndarray and has zero counts for first 5 cells\n",
    "adata = sc.read_h5ad(\"../valid.h5ad\")\n",
    "raw = ad.AnnData(X=adata.raw.X, obs=adata.obs, var=adata.raw.var)\n",
    "raw.X = raw.X.toarray()\n",
    "raw.X[0:5] = 0\n",
    "adata.raw = raw\n",
    "print(\"Nonzero expression values in adata.raw.X for first 5 cells: {}\".format(adata[0:5,:].raw.X[~np.all(adata[0:5,:].raw.X == 0, axis=1)]))\n",
    "save_and_test(adata, 'False')"
   ]
  },
  {
   "cell_type": "code",
   "execution_count": null,
   "id": "e6e98069-a94a-4b88-a0b6-95feff98eaaa",
   "metadata": {},
   "outputs": [],
   "source": [
    "# The raw counts in adata.X is csr and has zero counts for first 5 cells\n",
    "adata = sc.read_h5ad(\"../valid.h5ad\")\n",
    "adata.X = adata.raw.X.toarray()\n",
    "adata.X[0:5] = 0\n",
    "adata.X = sparse.csr_matrix(adata.X)\n",
    "del adata.raw\n",
    "print(\"Nonzero expression values in adata.X first 5 cells: {}\".format(adata[0:5,:].X.data))\n",
    "save_and_test(adata, 'False')"
   ]
  },
  {
   "cell_type": "code",
   "execution_count": null,
   "id": "4f41c248-c085-4673-93a7-7e1b93d489e6",
   "metadata": {},
   "outputs": [],
   "source": [
    "# The raw counts in adata.X is csr and has zero counts for first 5 cells\n",
    "adata = sc.read_h5ad(\"../valid.h5ad\")\n",
    "adata.X = adata.raw.X.toarray()\n",
    "adata.X[0:5] = 0\n",
    "adata.X = sparse.csc_matrix(adata.X)\n",
    "del adata.raw\n",
    "print(\"Nonzero expression values in adata.X first 5 cells: {}\".format(adata[0:5,:].X.data))\n",
    "save_and_test(adata, 'False')"
   ]
  },
  {
   "cell_type": "code",
   "execution_count": null,
   "id": "9a0f8d49-c462-43b5-aa7d-3a20db1b0a73",
   "metadata": {},
   "outputs": [],
   "source": [
    "# The raw counts in adata.X is csr and has zero counts for first 5 cells\n",
    "adata = sc.read_h5ad(\"../valid.h5ad\")\n",
    "adata.X = adata.raw.X.toarray()\n",
    "adata.X[0:5] = 0\n",
    "del adata.raw\n",
    "print(\"Nonzero expression values in adata.X first 5 cells: {}\".format(adata[0:5,:].X[~np.all(adata[0:5,:].X == 0, axis=1)]))\n",
    "save_and_test(adata, 'False')"
   ]
  },
  {
   "cell_type": "code",
   "execution_count": null,
   "id": "9038d0f8-6c9e-43ce-9d32-5d2c2a46e3b1",
   "metadata": {},
   "outputs": [],
   "source": []
  }
 ],
 "metadata": {
  "kernelspec": {
   "display_name": "Python 3 (ipykernel)",
   "language": "python",
   "name": "python3"
  },
  "language_info": {
   "codemirror_mode": {
    "name": "ipython",
    "version": 3
   },
   "file_extension": ".py",
   "mimetype": "text/x-python",
   "name": "python",
   "nbconvert_exporter": "python",
   "pygments_lexer": "ipython3",
   "version": "3.9.18"
  }
 },
 "nbformat": 4,
 "nbformat_minor": 5
}
