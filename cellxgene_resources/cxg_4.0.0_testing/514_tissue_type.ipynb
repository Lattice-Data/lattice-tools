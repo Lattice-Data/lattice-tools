{
 "cells": [
  {
   "cell_type": "markdown",
   "id": "cbb17152",
   "metadata": {},
   "source": [
    "https://github.com/chanzuckerberg/single-cell-curation/issues/514<br>\n",
    "https://github.com/chanzuckerberg/single-cell-curation/blob/main/schema/4.0.0/schema.md#tissue_type"
   ]
  },
  {
   "cell_type": "code",
   "execution_count": null,
   "id": "2b8b98ac",
   "metadata": {},
   "outputs": [],
   "source": [
    "import numpy as np\n",
    "import os\n",
    "import scanpy as sc\n",
    "import subprocess"
   ]
  },
  {
   "cell_type": "code",
   "execution_count": null,
   "id": "75849952",
   "metadata": {},
   "outputs": [],
   "source": [
    "def validate(file):\n",
    "    validate_process = subprocess.run(['cellxgene-schema', 'validate', file], stdout=subprocess.PIPE, stderr=subprocess.PIPE)\n",
    "    for line in validate_process.stdout.decode('utf-8').split('\\n'):\n",
    "        print(line)\n",
    "    for line in validate_process.stderr.decode('utf-8').split('\\n'):\n",
    "        print(line)\n",
    "        if 'is_valid=' in line:\n",
    "            valid = line.split('=')[-1]\n",
    "            return valid"
   ]
  },
  {
   "cell_type": "code",
   "execution_count": null,
   "id": "19365f72",
   "metadata": {},
   "outputs": [],
   "source": [
    "def save_and_test(adata, expected):\n",
    "    adata.write(filename='test.h5ad')\n",
    "    test_adata = sc.read_h5ad('test.h5ad')\n",
    "    if 'tissue_type' in test_adata.obs.columns:\n",
    "        print(test_adata.obs[['tissue_type','tissue_ontology_term_id']].value_counts())\n",
    "    else:\n",
    "        print('tissue_type absent')\n",
    "    print('------------------')\n",
    "\n",
    "    valid = validate('test.h5ad')\n",
    "    print('------------------')\n",
    "    if expected != valid:\n",
    "        print('\\033[1m\\033[91mERROR\\033[0m')\n",
    "    else:\n",
    "        print('\\033[1m\\033[92mPASSED\\033[0m')\n",
    "    os.remove('test.h5ad')"
   ]
  },
  {
   "cell_type": "code",
   "execution_count": null,
   "id": "92a073af",
   "metadata": {},
   "outputs": [],
   "source": [
    "adata = sc.read_h5ad('../valid.h5ad') #backed='r' would be slightly quicker but produces an error with multiple writes"
   ]
  },
  {
   "cell_type": "markdown",
   "id": "f4a199fe",
   "metadata": {},
   "source": [
    "**Test valid cases**"
   ]
  },
  {
   "cell_type": "code",
   "execution_count": null,
   "id": "20d01266",
   "metadata": {},
   "outputs": [],
   "source": [
    "#tissue/UBERON\n",
    "adata.obs['tissue_type'] = 'tissue'\n",
    "adata.obs['tissue_ontology_term_id'] = 'UBERON:0004784'\n",
    "save_and_test(adata, 'True')"
   ]
  },
  {
   "cell_type": "code",
   "execution_count": null,
   "id": "2e0c8175",
   "metadata": {},
   "outputs": [],
   "source": [
    "#organoid/UBERON\n",
    "adata.obs['tissue_type'] = 'organoid'\n",
    "adata.obs['tissue_ontology_term_id'] = 'UBERON:0004784'\n",
    "save_and_test(adata, 'True')"
   ]
  },
  {
   "cell_type": "code",
   "execution_count": null,
   "id": "c7421f3c",
   "metadata": {},
   "outputs": [],
   "source": [
    "#cell culture/CL\n",
    "adata.obs['tissue_type'] = 'cell culture'\n",
    "adata.obs['tissue_ontology_term_id'] = 'CL:0000034'\n",
    "save_and_test(adata, 'True')"
   ]
  },
  {
   "cell_type": "markdown",
   "id": "36b19db2",
   "metadata": {},
   "source": [
    "**Test invalid cases**"
   ]
  },
  {
   "cell_type": "code",
   "execution_count": null,
   "id": "4a297e63",
   "metadata": {},
   "outputs": [],
   "source": [
    "#Tissue\n",
    "adata.obs['tissue_type'] = 'Tissue'\n",
    "adata.obs['tissue_ontology_term_id'] = 'UBERON:0004784'\n",
    "save_and_test(adata, 'False')"
   ]
  },
  {
   "cell_type": "code",
   "execution_count": null,
   "id": "43330dad",
   "metadata": {},
   "outputs": [],
   "source": [
    "#null\n",
    "adata.obs['tissue_type'] = np.NaN\n",
    "save_and_test(adata, 'False')"
   ]
  },
  {
   "cell_type": "code",
   "execution_count": null,
   "id": "3e681ba0",
   "metadata": {},
   "outputs": [],
   "source": [
    "#cell culture/UBERON\n",
    "adata.obs['tissue_type'] = 'cell culture'\n",
    "adata.obs['tissue_ontology_term_id'] = 'UBERON:0004784'\n",
    "save_and_test(adata, 'False')"
   ]
  },
  {
   "cell_type": "code",
   "execution_count": null,
   "id": "10c71a67",
   "metadata": {},
   "outputs": [],
   "source": [
    "#organoid/CL\n",
    "adata.obs['tissue_type'] = 'organoid'\n",
    "adata.obs['tissue_ontology_term_id'] = 'CL:0000034'\n",
    "save_and_test(adata, 'False')"
   ]
  },
  {
   "cell_type": "code",
   "execution_count": null,
   "id": "fb66aa19",
   "metadata": {},
   "outputs": [],
   "source": [
    "#tissue/CL\n",
    "adata.obs['tissue_type'] = 'tissue'\n",
    "adata.obs['tissue_ontology_term_id'] = 'CL:0000034'\n",
    "save_and_test(adata, 'False')"
   ]
  },
  {
   "cell_type": "code",
   "execution_count": null,
   "id": "b672c585",
   "metadata": {},
   "outputs": [],
   "source": [
    "#too broad UBERON\n",
    "adata.obs['tissue_type'] = 'tissue'\n",
    "adata.obs['tissue_ontology_term_id'] = 'UBERON:0001062'\n",
    "save_and_test(adata, 'False')"
   ]
  },
  {
   "cell_type": "code",
   "execution_count": null,
   "id": "1a62f63f",
   "metadata": {},
   "outputs": [],
   "source": [
    "#no tissue_type\n",
    "adata.obs.drop(columns=['tissue_type'], inplace=True)\n",
    "save_and_test(adata, 'False')"
   ]
  },
  {
   "cell_type": "code",
   "execution_count": null,
   "id": "9fdd0243",
   "metadata": {},
   "outputs": [],
   "source": [
    "#current notation\n",
    "adata.obs['tissue_type'] = 'organoid'\n",
    "adata.obs['tissue_ontology_term_id'] = 'UBERON:0001062 (organoid)'\n",
    "save_and_test(adata, 'False')"
   ]
  }
 ],
 "metadata": {
  "kernelspec": {
   "display_name": "Python 3 (ipykernel)",
   "language": "python",
   "name": "python3"
  },
  "language_info": {
   "codemirror_mode": {
    "name": "ipython",
    "version": 3
   },
   "file_extension": ".py",
   "mimetype": "text/x-python",
   "name": "python",
   "nbconvert_exporter": "python",
   "pygments_lexer": "ipython3",
   "version": "3.9.18"
  }
 },
 "nbformat": 4,
 "nbformat_minor": 5
}
