{
 "cells": [
  {
   "cell_type": "markdown",
   "id": "137253a2-1f82-4d14-8469-524726567077",
   "metadata": {},
   "source": [
    "https://github.com/chanzuckerberg/single-cell-curation/issues/515"
   ]
  },
  {
   "cell_type": "code",
   "execution_count": 1,
   "id": "dae17f0f-9f60-415e-9b55-9c08bcc7dc90",
   "metadata": {},
   "outputs": [],
   "source": [
    "import numpy as np\n",
    "import os\n",
    "import scanpy as sc\n",
    "import subprocess"
   ]
  },
  {
   "cell_type": "code",
   "execution_count": 2,
   "id": "c9e3a0b7-b304-447b-b9b1-53fd155084b3",
   "metadata": {},
   "outputs": [],
   "source": [
    "def validate(file):\n",
    "    validate_process = subprocess.run(['cellxgene-schema', 'validate', file], stdout=subprocess.PIPE, stderr=subprocess.PIPE)\n",
    "    for line in validate_process.stdout.decode('utf-8').split('\\n'):\n",
    "        print(line)\n",
    "    for line in validate_process.stderr.decode('utf-8').split('\\n'):\n",
    "        print(line)\n",
    "        if 'is_valid=' in line:\n",
    "            valid = line.split('=')[-1]\n",
    "            return valid"
   ]
  },
  {
   "cell_type": "code",
   "execution_count": 3,
   "id": "1e15482a-84a2-4243-8561-20ccead7d543",
   "metadata": {},
   "outputs": [],
   "source": [
    "def save_and_test(adata, expected):\n",
    "    adata.write(filename='test.h5ad')\n",
    "    adata = sc.read_h5ad('test.h5ad')\n",
    "    if 'organism_ontology_term_id' in adata.obs.columns:\n",
    "        print(adata.obs[['organism_ontology_term_id','self_reported_ethnicity_ontology_term_id']].value_counts())\n",
    "    else:\n",
    "        print('organism_ontology_term_id absent')\n",
    "    print('------------------')\n",
    "    valid = validate('test.h5ad')\n",
    "    print('------------------')\n",
    "    if expected != valid:\n",
    "        print('\\033[1m\\033[91mERROR\\033[0m')\n",
    "    else:\n",
    "        print('\\033[1m\\033[92mPASSED\\033[0m')\n",
    "    os.remove('test.h5ad')"
   ]
  },
  {
   "cell_type": "code",
   "execution_count": 4,
   "id": "2246c83a-8614-4430-a5ac-f28349541cf5",
   "metadata": {},
   "outputs": [],
   "source": [
    "adata = sc.read_h5ad('../valid.h5ad')"
   ]
  },
  {
   "cell_type": "markdown",
   "id": "bd3dd843-b5a6-4974-8df4-eae960e7d36d",
   "metadata": {
    "tags": []
   },
   "source": [
    "### Test Valid Cases "
   ]
  },
  {
   "cell_type": "code",
   "execution_count": 8,
   "id": "cda7c10f-bf75-4071-8dd8-74637043e901",
   "metadata": {},
   "outputs": [
    {
     "name": "stdout",
     "output_type": "stream",
     "text": [
      "organism_ontology_term_id  self_reported_ethnicity_ontology_term_id\n",
      "NCBITaxon:9606             unknown                                     2000\n",
      "dtype: int64\n",
      "------------------\n",
      "Loading dependencies\n",
      "Loading validator modules\n",
      "\n",
      "Starting validation...\n",
      "Validation complete in 0:00:00.874154 with status is_valid=True\n",
      "------------------\n",
      "\u001b[1m\u001b[92mPASSED\u001b[0m\n"
     ]
    }
   ],
   "source": [
    "# self_reported_ethnicty_ontology_term_id as unknown\n",
    "adata.obs['organism_ontology_term_id'] = 'NCBITaxon:9606'\n",
    "adata.obs['self_reported_ethnicity_ontology_term_id'] = 'unknown'\n",
    "adata.obs['development_stage_ontology_term_id'] = 'unknown'\n",
    "save_and_test(adata, 'True')"
   ]
  },
  {
   "cell_type": "code",
   "execution_count": 9,
   "id": "ce843e71-d8b3-4743-bae7-85d59787e5c2",
   "metadata": {},
   "outputs": [
    {
     "name": "stdout",
     "output_type": "stream",
     "text": [
      "organism_ontology_term_id  self_reported_ethnicity_ontology_term_id\n",
      "NCBITaxon:9606             HANCESTRO:0005,HANCESTRO:0014               2000\n",
      "dtype: int64\n",
      "------------------\n",
      "Loading dependencies\n",
      "Loading validator modules\n",
      "\n",
      "Starting validation...\n",
      "Validation complete in 0:00:00.869773 with status is_valid=True\n",
      "------------------\n",
      "\u001b[1m\u001b[92mPASSED\u001b[0m\n"
     ]
    }
   ],
   "source": [
    "# comma separated list for self_reported_ethnicity_ontology_term_id\n",
    "adata.obs['organism_ontology_term_id'] = 'NCBITaxon:9606'\n",
    "adata.obs['self_reported_ethnicity_ontology_term_id'] = 'HANCESTRO:0005,HANCESTRO:0014'\n",
    "save_and_test(adata, 'True')"
   ]
  },
  {
   "cell_type": "code",
   "execution_count": 10,
   "id": "85a05fa8-d68c-442f-adff-8d5ca95f8108",
   "metadata": {},
   "outputs": [
    {
     "name": "stdout",
     "output_type": "stream",
     "text": [
      "organism_ontology_term_id  self_reported_ethnicity_ontology_term_id\n",
      "NCBITaxon:10090            na                                          2000\n",
      "dtype: int64\n",
      "------------------\n",
      "Loading dependencies\n",
      "Loading validator modules\n",
      "\n",
      "Starting validation...\n",
      "Validation complete in 0:00:00.886473 with status is_valid=True\n",
      "------------------\n",
      "\u001b[1m\u001b[92mPASSED\u001b[0m\n"
     ]
    }
   ],
   "source": [
    "# self_reported_ethnicity_ontology_term_id as na\n",
    "adata.obs['organism_ontology_term_id'] = 'NCBITaxon:10090'\n",
    "adata.obs['self_reported_ethnicity_ontology_term_id'] = 'na'\n",
    "save_and_test(adata, 'True')"
   ]
  },
  {
   "cell_type": "markdown",
   "id": "0fdd0cd0-ef53-4058-8965-a1fa24eacd34",
   "metadata": {},
   "source": [
    "### Test Invalid Cases "
   ]
  },
  {
   "cell_type": "code",
   "execution_count": 11,
   "id": "64ee668e-54de-4618-a96e-95ebcc7d0e93",
   "metadata": {},
   "outputs": [
    {
     "name": "stdout",
     "output_type": "stream",
     "text": [
      "organism_ontology_term_id  self_reported_ethnicity_ontology_term_id\n",
      "NCBITaxon:9606             multiethnic                                 2000\n",
      "dtype: int64\n",
      "------------------\n",
      "Loading dependencies\n",
      "Loading validator modules\n",
      "\n",
      "Starting validation...\n",
      "WARNING: Validation of raw layer was not performed due to current errors, try again after fixing current errors.\n",
      "ERROR: 'multiethnic' in 'self_reported_ethnicity_ontology_term_id' is not a valid ontology term id of 'HANCESTRO'. When 'organism_ontology_term_id' is 'NCBITaxon:9606' (Homo sapiens), self_reported_ethnicity_ontology_term_id MUST be formatted as one or more comma-separated (with no leading or trailing spaces) HANCESTRO terms in ascending lexical order, or 'unknown' if unavailable. Cannot match any forbidden HANCESTRO terms listed in schema definition.\n",
      "Validation complete in 0:00:00.575086 with status is_valid=False\n",
      "------------------\n",
      "\u001b[1m\u001b[92mPASSED\u001b[0m\n"
     ]
    }
   ],
   "source": [
    "#multiethnic\n",
    "adata.obs['organism_ontology_term_id'] = 'NCBITaxon:9606'\n",
    "adata.obs['self_reported_ethnicity_ontology_term_id'] = 'multiethnic'\n",
    "save_and_test(adata, 'False')"
   ]
  },
  {
   "cell_type": "code",
   "execution_count": 12,
   "id": "c60b503d-3e20-4868-977e-881a2fffcde3",
   "metadata": {},
   "outputs": [
    {
     "name": "stdout",
     "output_type": "stream",
     "text": [
      "organism_ontology_term_id absent\n",
      "------------------\n",
      "Loading dependencies\n",
      "Loading validator modules\n",
      "\n",
      "Starting validation...\n",
      "WARNING: Validation of raw layer was not performed due to current errors, try again after fixing current errors.\n",
      "ERROR: Dataframe 'obs' is missing column 'organism_ontology_term_id'.\n",
      "ERROR: Checking values with dependencies failed for adata.obs['self_reported_ethnicity_ontology_term_id'], this is likely due to missing dependent column in adata.obs.\n",
      "ERROR: Checking values with dependencies failed for adata.obs['development_stage_ontology_term_id'], this is likely due to missing dependent column in adata.obs.\n",
      "Validation complete in 0:00:00.593389 with status is_valid=False\n",
      "------------------\n",
      "\u001b[1m\u001b[92mPASSED\u001b[0m\n"
     ]
    }
   ],
   "source": [
    "# orangism_ontology_term_id absent\n",
    "adata.obs.drop(columns=['organism_ontology_term_id'], inplace=True)\n",
    "adata.obs['self_reported_ethnicity_ontology_term_id'] = 'HANCESTRO:0005'\n",
    "save_and_test(adata, 'False')"
   ]
  },
  {
   "cell_type": "code",
   "execution_count": 13,
   "id": "ffc8c58a-5621-4efc-be03-21e051bb913f",
   "metadata": {},
   "outputs": [
    {
     "name": "stdout",
     "output_type": "stream",
     "text": [
      "organism_ontology_term_id  self_reported_ethnicity_ontology_term_id\n",
      "NCBITaxon:9606              HANCESTRO:0005                             2000\n",
      "dtype: int64\n",
      "------------------\n",
      "Loading dependencies\n",
      "Loading validator modules\n",
      "\n",
      "Starting validation...\n",
      "WARNING: Validation of raw layer was not performed due to current errors, try again after fixing current errors.\n",
      "ERROR: ' HANCESTRO:0005' in 'self_reported_ethnicity_ontology_term_id' is not a valid ontology term id of 'HANCESTRO'. When 'organism_ontology_term_id' is 'NCBITaxon:9606' (Homo sapiens), self_reported_ethnicity_ontology_term_id MUST be formatted as one or more comma-separated (with no leading or trailing spaces) HANCESTRO terms in ascending lexical order, or 'unknown' if unavailable. Cannot match any forbidden HANCESTRO terms listed in schema definition.\n",
      "Validation complete in 0:00:00.518596 with status is_valid=False\n",
      "------------------\n",
      "\u001b[1m\u001b[92mPASSED\u001b[0m\n"
     ]
    }
   ],
   "source": [
    "# single self_reported_ethnicity_ontology_term_id term with leading space\n",
    "adata.obs['organism_ontology_term_id'] = 'NCBITaxon:9606'\n",
    "adata.obs['self_reported_ethnicity_ontology_term_id'] = ' HANCESTRO:0005'\n",
    "save_and_test(adata, 'False')"
   ]
  },
  {
   "cell_type": "code",
   "execution_count": 14,
   "id": "e18015d6-3394-41f7-9468-693ed5c479b9",
   "metadata": {},
   "outputs": [
    {
     "name": "stdout",
     "output_type": "stream",
     "text": [
      "organism_ontology_term_id  self_reported_ethnicity_ontology_term_id\n",
      "NCBITaxon:9606             HANCESTRO:0005                              2000\n",
      "dtype: int64\n",
      "------------------\n",
      "Loading dependencies\n",
      "Loading validator modules\n",
      "\n",
      "Starting validation...\n",
      "WARNING: Validation of raw layer was not performed due to current errors, try again after fixing current errors.\n",
      "ERROR: 'HANCESTRO:0005 ' in 'self_reported_ethnicity_ontology_term_id' is not a valid ontology term id of 'HANCESTRO'. When 'organism_ontology_term_id' is 'NCBITaxon:9606' (Homo sapiens), self_reported_ethnicity_ontology_term_id MUST be formatted as one or more comma-separated (with no leading or trailing spaces) HANCESTRO terms in ascending lexical order, or 'unknown' if unavailable. Cannot match any forbidden HANCESTRO terms listed in schema definition.\n",
      "Validation complete in 0:00:00.515149 with status is_valid=False\n",
      "------------------\n",
      "\u001b[1m\u001b[92mPASSED\u001b[0m\n"
     ]
    }
   ],
   "source": [
    "# single self_reported_ethnicity_ontology_term_id term with trailing space\n",
    "adata.obs['organism_ontology_term_id'] = 'NCBITaxon:9606'\n",
    "adata.obs['self_reported_ethnicity_ontology_term_id'] = 'HANCESTRO:0005 '\n",
    "save_and_test(adata, 'False')"
   ]
  },
  {
   "cell_type": "code",
   "execution_count": 15,
   "id": "c6b83b19-4594-4916-9384-87f5fd3fc84a",
   "metadata": {},
   "outputs": [
    {
     "name": "stdout",
     "output_type": "stream",
     "text": [
      "organism_ontology_term_id  self_reported_ethnicity_ontology_term_id\n",
      "NCBITaxon:9606              HANCESTRO:0005                             2000\n",
      "dtype: int64\n",
      "------------------\n",
      "Loading dependencies\n",
      "Loading validator modules\n",
      "\n",
      "Starting validation...\n",
      "WARNING: Validation of raw layer was not performed due to current errors, try again after fixing current errors.\n",
      "ERROR: ' HANCESTRO:0005 ' in 'self_reported_ethnicity_ontology_term_id' is not a valid ontology term id of 'HANCESTRO'. When 'organism_ontology_term_id' is 'NCBITaxon:9606' (Homo sapiens), self_reported_ethnicity_ontology_term_id MUST be formatted as one or more comma-separated (with no leading or trailing spaces) HANCESTRO terms in ascending lexical order, or 'unknown' if unavailable. Cannot match any forbidden HANCESTRO terms listed in schema definition.\n",
      "Validation complete in 0:00:00.528122 with status is_valid=False\n",
      "------------------\n",
      "\u001b[1m\u001b[92mPASSED\u001b[0m\n"
     ]
    }
   ],
   "source": [
    "# single self_reported_ethnicity_ontology_term_id term with leading and trailing space\n",
    "adata.obs['organism_ontology_term_id'] = 'NCBITaxon:9606'\n",
    "adata.obs['self_reported_ethnicity_ontology_term_id'] = ' HANCESTRO:0005 '\n",
    "save_and_test(adata, 'False')"
   ]
  },
  {
   "cell_type": "code",
   "execution_count": 16,
   "id": "98ccbd09-fc61-4231-b97a-7f1985ed53c7",
   "metadata": {},
   "outputs": [
    {
     "name": "stdout",
     "output_type": "stream",
     "text": [
      "organism_ontology_term_id  self_reported_ethnicity_ontology_term_id\n",
      "NCBITaxon:9606             HANCESTRO:0005, HANCESTRO:0014              2000\n",
      "dtype: int64\n",
      "------------------\n",
      "Loading dependencies\n",
      "Loading validator modules\n",
      "\n",
      "Starting validation...\n",
      "WARNING: Validation of raw layer was not performed due to current errors, try again after fixing current errors.\n",
      "ERROR: ' HANCESTRO:0014' in 'self_reported_ethnicity_ontology_term_id' is not a valid ontology term id of 'HANCESTRO'. When 'organism_ontology_term_id' is 'NCBITaxon:9606' (Homo sapiens), self_reported_ethnicity_ontology_term_id MUST be formatted as one or more comma-separated (with no leading or trailing spaces) HANCESTRO terms in ascending lexical order, or 'unknown' if unavailable. Cannot match any forbidden HANCESTRO terms listed in schema definition.\n",
      "Validation complete in 0:00:00.513412 with status is_valid=False\n",
      "------------------\n",
      "\u001b[1m\u001b[92mPASSED\u001b[0m\n"
     ]
    }
   ],
   "source": [
    "# list of self_reported_ethnicity_ontology_term_id terms with one having leading space\n",
    "adata.obs['organism_ontology_term_id'] = 'NCBITaxon:9606'\n",
    "adata.obs['self_reported_ethnicity_ontology_term_id'] = 'HANCESTRO:0005, HANCESTRO:0014'\n",
    "save_and_test(adata, 'False')"
   ]
  },
  {
   "cell_type": "code",
   "execution_count": 17,
   "id": "e6a0cd3c-bf64-4012-8693-682c466b0a32",
   "metadata": {},
   "outputs": [
    {
     "name": "stdout",
     "output_type": "stream",
     "text": [
      "organism_ontology_term_id  self_reported_ethnicity_ontology_term_id\n",
      "NCBITaxon:9606             HANCESTRO:0005 ,HANCESTRO:0014              2000\n",
      "dtype: int64\n",
      "------------------\n",
      "Loading dependencies\n",
      "Loading validator modules\n",
      "\n",
      "Starting validation...\n",
      "WARNING: Validation of raw layer was not performed due to current errors, try again after fixing current errors.\n",
      "ERROR: 'HANCESTRO:0005 ' in 'self_reported_ethnicity_ontology_term_id' is not a valid ontology term id of 'HANCESTRO'. When 'organism_ontology_term_id' is 'NCBITaxon:9606' (Homo sapiens), self_reported_ethnicity_ontology_term_id MUST be formatted as one or more comma-separated (with no leading or trailing spaces) HANCESTRO terms in ascending lexical order, or 'unknown' if unavailable. Cannot match any forbidden HANCESTRO terms listed in schema definition.\n",
      "Validation complete in 0:00:00.525109 with status is_valid=False\n",
      "------------------\n",
      "\u001b[1m\u001b[92mPASSED\u001b[0m\n"
     ]
    }
   ],
   "source": [
    "# list of self_reported_ethnicity_ontology_term_id terms with one having trailing space\n",
    "adata.obs['organism_ontology_term_id'] = 'NCBITaxon:9606'\n",
    "adata.obs['self_reported_ethnicity_ontology_term_id'] = 'HANCESTRO:0005 ,HANCESTRO:0014'\n",
    "save_and_test(adata, 'False')"
   ]
  },
  {
   "cell_type": "code",
   "execution_count": 18,
   "id": "6b5ed842-823d-4066-aae3-241e7d9266cf",
   "metadata": {},
   "outputs": [
    {
     "name": "stdout",
     "output_type": "stream",
     "text": [
      "organism_ontology_term_id  self_reported_ethnicity_ontology_term_id\n",
      "NCBITaxon:9606             HANCESTRO:0014,HANCESTRO:0005               2000\n",
      "dtype: int64\n",
      "------------------\n",
      "Loading dependencies\n",
      "Loading validator modules\n",
      "\n",
      "Starting validation...\n",
      "WARNING: Validation of raw layer was not performed due to current errors, try again after fixing current errors.\n",
      "ERROR: 'HANCESTRO:0014,HANCESTRO:0005' in 'self_reported_ethnicity_ontology_term_id' is not in ascending lexical order. When 'organism_ontology_term_id' is 'NCBITaxon:9606' (Homo sapiens), self_reported_ethnicity_ontology_term_id MUST be formatted as one or more comma-separated (with no leading or trailing spaces) HANCESTRO terms in ascending lexical order, or 'unknown' if unavailable. Cannot match any forbidden HANCESTRO terms listed in schema definition.\n",
      "Validation complete in 0:00:00.514896 with status is_valid=False\n",
      "------------------\n",
      "\u001b[1m\u001b[92mPASSED\u001b[0m\n"
     ]
    }
   ],
   "source": [
    "# list of self_reported_ethnicity_ontology_term_id not in ascending lexical order\n",
    "adata.obs['organism_ontology_term_id'] = 'NCBITaxon:9606'\n",
    "adata.obs['self_reported_ethnicity_ontology_term_id'] = 'HANCESTRO:0014,HANCESTRO:0005'\n",
    "save_and_test(adata, 'False')"
   ]
  },
  {
   "cell_type": "code",
   "execution_count": 19,
   "id": "2260ba74-46dd-4948-aa47-39840b943a0b",
   "metadata": {},
   "outputs": [
    {
     "name": "stdout",
     "output_type": "stream",
     "text": [
      "organism_ontology_term_id  self_reported_ethnicity_ontology_term_id\n",
      "NCBITaxon:9606             HANCESTRO:0002                              2000\n",
      "dtype: int64\n",
      "------------------\n",
      "Loading dependencies\n",
      "Loading validator modules\n",
      "\n",
      "Starting validation...\n",
      "WARNING: Validation of raw layer was not performed due to current errors, try again after fixing current errors.\n",
      "ERROR: 'HANCESTRO:0002' in 'self_reported_ethnicity_ontology_term_id' is not allowed. When 'organism_ontology_term_id' is 'NCBITaxon:9606' (Homo sapiens), self_reported_ethnicity_ontology_term_id MUST be formatted as one or more comma-separated (with no leading or trailing spaces) HANCESTRO terms in ascending lexical order, or 'unknown' if unavailable. Cannot match any forbidden HANCESTRO terms listed in schema definition.\n",
      "Validation complete in 0:00:00.514706 with status is_valid=False\n",
      "------------------\n",
      "\u001b[1m\u001b[92mPASSED\u001b[0m\n"
     ]
    }
   ],
   "source": [
    "# self_reported_ethnicity_ontology_term_id as HANCESTRO:0002\n",
    "adata.obs['organism_ontology_term_id'] = 'NCBITaxon:9606'\n",
    "adata.obs['self_reported_ethnicity_ontology_term_id'] = 'HANCESTRO:0002'\n",
    "save_and_test(adata, 'False')"
   ]
  },
  {
   "cell_type": "code",
   "execution_count": 20,
   "id": "69a7c6be-30a4-4f6d-9979-c80346875f7a",
   "metadata": {},
   "outputs": [
    {
     "name": "stdout",
     "output_type": "stream",
     "text": [
      "organism_ontology_term_id  self_reported_ethnicity_ontology_term_id\n",
      "NCBITaxon:9606             HANCESTRO:0003                              2000\n",
      "dtype: int64\n",
      "------------------\n",
      "Loading dependencies\n",
      "Loading validator modules\n",
      "\n",
      "Starting validation...\n",
      "WARNING: Validation of raw layer was not performed due to current errors, try again after fixing current errors.\n",
      "ERROR: 'HANCESTRO:0003' in 'self_reported_ethnicity_ontology_term_id' is not allowed. When 'organism_ontology_term_id' is 'NCBITaxon:9606' (Homo sapiens), self_reported_ethnicity_ontology_term_id MUST be formatted as one or more comma-separated (with no leading or trailing spaces) HANCESTRO terms in ascending lexical order, or 'unknown' if unavailable. Cannot match any forbidden HANCESTRO terms listed in schema definition.\n",
      "Validation complete in 0:00:00.517374 with status is_valid=False\n",
      "------------------\n",
      "\u001b[1m\u001b[92mPASSED\u001b[0m\n"
     ]
    }
   ],
   "source": [
    "# self_reported_ethnicity_ontology_term_id as HANCESTRO:0003\n",
    "adata.obs['organism_ontology_term_id'] = 'NCBITaxon:9606'\n",
    "adata.obs['self_reported_ethnicity_ontology_term_id'] = 'HANCESTRO:0003'\n",
    "save_and_test(adata, 'False')"
   ]
  },
  {
   "cell_type": "code",
   "execution_count": 21,
   "id": "3d3f3538-8540-4a9f-8757-115ccbbda895",
   "metadata": {},
   "outputs": [
    {
     "name": "stdout",
     "output_type": "stream",
     "text": [
      "organism_ontology_term_id  self_reported_ethnicity_ontology_term_id\n",
      "NCBITaxon:9606             HANCESTRO:0004                              2000\n",
      "dtype: int64\n",
      "------------------\n",
      "Loading dependencies\n",
      "Loading validator modules\n",
      "\n",
      "Starting validation...\n",
      "WARNING: Validation of raw layer was not performed due to current errors, try again after fixing current errors.\n",
      "ERROR: 'HANCESTRO:0004' in 'self_reported_ethnicity_ontology_term_id' is not allowed. When 'organism_ontology_term_id' is 'NCBITaxon:9606' (Homo sapiens), self_reported_ethnicity_ontology_term_id MUST be formatted as one or more comma-separated (with no leading or trailing spaces) HANCESTRO terms in ascending lexical order, or 'unknown' if unavailable. Cannot match any forbidden HANCESTRO terms listed in schema definition.\n",
      "Validation complete in 0:00:00.596482 with status is_valid=False\n",
      "------------------\n",
      "\u001b[1m\u001b[92mPASSED\u001b[0m\n"
     ]
    }
   ],
   "source": [
    "# self_reported_ethnicity_ontology_term_id as HANCESTRO:0004\n",
    "adata.obs['organism_ontology_term_id'] = 'NCBITaxon:9606'\n",
    "adata.obs['self_reported_ethnicity_ontology_term_id'] = 'HANCESTRO:0004'\n",
    "save_and_test(adata, 'False')"
   ]
  },
  {
   "cell_type": "code",
   "execution_count": 22,
   "id": "6c8f49d2-67b6-4abd-953a-8f8c9d664c7b",
   "metadata": {},
   "outputs": [
    {
     "name": "stdout",
     "output_type": "stream",
     "text": [
      "organism_ontology_term_id  self_reported_ethnicity_ontology_term_id\n",
      "NCBITaxon:9606             HANCESTRO:0018                              2000\n",
      "dtype: int64\n",
      "------------------\n",
      "Loading dependencies\n",
      "Loading validator modules\n",
      "\n",
      "Starting validation...\n",
      "WARNING: Validation of raw layer was not performed due to current errors, try again after fixing current errors.\n",
      "ERROR: 'HANCESTRO:0018' in 'self_reported_ethnicity_ontology_term_id' is not allowed. When 'organism_ontology_term_id' is 'NCBITaxon:9606' (Homo sapiens), self_reported_ethnicity_ontology_term_id MUST be formatted as one or more comma-separated (with no leading or trailing spaces) HANCESTRO terms in ascending lexical order, or 'unknown' if unavailable. Cannot match any forbidden HANCESTRO terms listed in schema definition.\n",
      "Validation complete in 0:00:00.530657 with status is_valid=False\n",
      "------------------\n",
      "\u001b[1m\u001b[92mPASSED\u001b[0m\n"
     ]
    }
   ],
   "source": [
    "# self_reported_ethnicity_ontology_term_id as HANCESTRO:0018\n",
    "adata.obs['organism_ontology_term_id'] = 'NCBITaxon:9606'\n",
    "adata.obs['self_reported_ethnicity_ontology_term_id'] = 'HANCESTRO:0018'\n",
    "save_and_test(adata, 'False')"
   ]
  },
  {
   "cell_type": "code",
   "execution_count": 23,
   "id": "31b4dab7-001c-452e-89e3-049130db9426",
   "metadata": {},
   "outputs": [
    {
     "name": "stdout",
     "output_type": "stream",
     "text": [
      "organism_ontology_term_id  self_reported_ethnicity_ontology_term_id\n",
      "NCBITaxon:9606             HANCESTRO:0290                              2000\n",
      "dtype: int64\n",
      "------------------\n",
      "Loading dependencies\n",
      "Loading validator modules\n",
      "\n",
      "Starting validation...\n",
      "WARNING: Validation of raw layer was not performed due to current errors, try again after fixing current errors.\n",
      "ERROR: 'HANCESTRO:0290' in 'self_reported_ethnicity_ontology_term_id' is not allowed. When 'organism_ontology_term_id' is 'NCBITaxon:9606' (Homo sapiens), self_reported_ethnicity_ontology_term_id MUST be formatted as one or more comma-separated (with no leading or trailing spaces) HANCESTRO terms in ascending lexical order, or 'unknown' if unavailable. Cannot match any forbidden HANCESTRO terms listed in schema definition.\n",
      "Validation complete in 0:00:00.523487 with status is_valid=False\n",
      "------------------\n",
      "\u001b[1m\u001b[92mPASSED\u001b[0m\n"
     ]
    }
   ],
   "source": [
    "# self_reported_ethnicity_ontology_term_id as HANCESTRO:0290\n",
    "adata.obs['organism_ontology_term_id'] = 'NCBITaxon:9606'\n",
    "adata.obs['self_reported_ethnicity_ontology_term_id'] = 'HANCESTRO:0290'\n",
    "save_and_test(adata, 'False')"
   ]
  },
  {
   "cell_type": "code",
   "execution_count": 24,
   "id": "c5a1ce9d-a43b-4c32-a04f-e689e55e033f",
   "metadata": {},
   "outputs": [
    {
     "name": "stdout",
     "output_type": "stream",
     "text": [
      "organism_ontology_term_id  self_reported_ethnicity_ontology_term_id\n",
      "NCBITaxon:9606             HANCESTRO:0304                              2000\n",
      "dtype: int64\n",
      "------------------\n",
      "Loading dependencies\n",
      "Loading validator modules\n",
      "\n",
      "Starting validation...\n",
      "WARNING: Validation of raw layer was not performed due to current errors, try again after fixing current errors.\n",
      "ERROR: 'HANCESTRO:0304' in 'self_reported_ethnicity_ontology_term_id' is not allowed. When 'organism_ontology_term_id' is 'NCBITaxon:9606' (Homo sapiens), self_reported_ethnicity_ontology_term_id MUST be formatted as one or more comma-separated (with no leading or trailing spaces) HANCESTRO terms in ascending lexical order, or 'unknown' if unavailable. Cannot match any forbidden HANCESTRO terms listed in schema definition.\n",
      "Validation complete in 0:00:00.521001 with status is_valid=False\n",
      "------------------\n",
      "\u001b[1m\u001b[92mPASSED\u001b[0m\n"
     ]
    }
   ],
   "source": [
    "# self_reported_ethnicity_ontology_term_id as HANCESTRO:0304\n",
    "adata.obs['organism_ontology_term_id'] = 'NCBITaxon:9606'\n",
    "adata.obs['self_reported_ethnicity_ontology_term_id'] = 'HANCESTRO:0304'\n",
    "save_and_test(adata, 'False')"
   ]
  },
  {
   "cell_type": "code",
   "execution_count": 25,
   "id": "ff33ecaf-d76d-48be-a4a5-a47c71691237",
   "metadata": {},
   "outputs": [
    {
     "name": "stdout",
     "output_type": "stream",
     "text": [
      "organism_ontology_term_id  self_reported_ethnicity_ontology_term_id\n",
      "NCBITaxon:9606             HANCESTRO:0323                              2000\n",
      "dtype: int64\n",
      "------------------\n",
      "Loading dependencies\n",
      "Loading validator modules\n",
      "\n",
      "Starting validation...\n",
      "WARNING: Validation of raw layer was not performed due to current errors, try again after fixing current errors.\n",
      "ERROR: 'HANCESTRO:0323' in 'self_reported_ethnicity_ontology_term_id' is not allowed. When 'organism_ontology_term_id' is 'NCBITaxon:9606' (Homo sapiens), self_reported_ethnicity_ontology_term_id MUST be formatted as one or more comma-separated (with no leading or trailing spaces) HANCESTRO terms in ascending lexical order, or 'unknown' if unavailable. Cannot match any forbidden HANCESTRO terms listed in schema definition.\n",
      "Validation complete in 0:00:00.517649 with status is_valid=False\n",
      "------------------\n",
      "\u001b[1m\u001b[92mPASSED\u001b[0m\n"
     ]
    }
   ],
   "source": [
    "# self_reported_ethnicity_ontology_term_id as HANCESTRO:0323\n",
    "adata.obs['organism_ontology_term_id'] = 'NCBITaxon:9606'\n",
    "adata.obs['self_reported_ethnicity_ontology_term_id'] = 'HANCESTRO:0323'\n",
    "save_and_test(adata, 'False')"
   ]
  },
  {
   "cell_type": "code",
   "execution_count": 26,
   "id": "18b71ae0-61e2-404e-9499-ff96f9674ef4",
   "metadata": {},
   "outputs": [
    {
     "name": "stdout",
     "output_type": "stream",
     "text": [
      "organism_ontology_term_id  self_reported_ethnicity_ontology_term_id\n",
      "NCBITaxon:9606             HANCESTRO:0324                              2000\n",
      "dtype: int64\n",
      "------------------\n",
      "Loading dependencies\n",
      "Loading validator modules\n",
      "\n",
      "Starting validation...\n",
      "WARNING: Validation of raw layer was not performed due to current errors, try again after fixing current errors.\n",
      "ERROR: 'HANCESTRO:0324' in 'self_reported_ethnicity_ontology_term_id' is not allowed. When 'organism_ontology_term_id' is 'NCBITaxon:9606' (Homo sapiens), self_reported_ethnicity_ontology_term_id MUST be formatted as one or more comma-separated (with no leading or trailing spaces) HANCESTRO terms in ascending lexical order, or 'unknown' if unavailable. Cannot match any forbidden HANCESTRO terms listed in schema definition.\n",
      "Validation complete in 0:00:00.521779 with status is_valid=False\n",
      "------------------\n",
      "\u001b[1m\u001b[92mPASSED\u001b[0m\n"
     ]
    }
   ],
   "source": [
    "# self_reported_ethnicity_ontology_term_id as HANCESTRO:0324\n",
    "adata.obs['organism_ontology_term_id'] = 'NCBITaxon:9606'\n",
    "adata.obs['self_reported_ethnicity_ontology_term_id'] = 'HANCESTRO:0324'\n",
    "save_and_test(adata, 'False')"
   ]
  },
  {
   "cell_type": "code",
   "execution_count": 27,
   "id": "39f41c32-e3cf-4b8a-afc1-191c5082b46e",
   "metadata": {},
   "outputs": [
    {
     "name": "stdout",
     "output_type": "stream",
     "text": [
      "organism_ontology_term_id  self_reported_ethnicity_ontology_term_id\n",
      "NCBITaxon:9606             HANCESTRO:0551                              2000\n",
      "dtype: int64\n",
      "------------------\n",
      "Loading dependencies\n",
      "Loading validator modules\n",
      "\n",
      "Starting validation...\n",
      "WARNING: Validation of raw layer was not performed due to current errors, try again after fixing current errors.\n",
      "ERROR: 'HANCESTRO:0551' in 'self_reported_ethnicity_ontology_term_id' is not allowed. When 'organism_ontology_term_id' is 'NCBITaxon:9606' (Homo sapiens), self_reported_ethnicity_ontology_term_id MUST be formatted as one or more comma-separated (with no leading or trailing spaces) HANCESTRO terms in ascending lexical order, or 'unknown' if unavailable. Cannot match any forbidden HANCESTRO terms listed in schema definition.\n",
      "Validation complete in 0:00:00.514690 with status is_valid=False\n",
      "------------------\n",
      "\u001b[1m\u001b[92mPASSED\u001b[0m\n"
     ]
    }
   ],
   "source": [
    "# self_reported_ethnicity_ontology_term_id as HANCESTRO:0551\n",
    "adata.obs['organism_ontology_term_id'] = 'NCBITaxon:9606'\n",
    "adata.obs['self_reported_ethnicity_ontology_term_id'] = 'HANCESTRO:0551'\n",
    "save_and_test(adata, 'False')"
   ]
  },
  {
   "cell_type": "code",
   "execution_count": 28,
   "id": "aacaaac8-44d4-4999-a86a-6d7aae752d7e",
   "metadata": {},
   "outputs": [
    {
     "name": "stdout",
     "output_type": "stream",
     "text": [
      "organism_ontology_term_id  self_reported_ethnicity_ontology_term_id\n",
      "NCBITaxon:9606             HANCESTRO:0554                              2000\n",
      "dtype: int64\n",
      "------------------\n",
      "Loading dependencies\n",
      "Loading validator modules\n",
      "\n",
      "Starting validation...\n",
      "WARNING: Validation of raw layer was not performed due to current errors, try again after fixing current errors.\n",
      "ERROR: 'HANCESTRO:0554' in 'self_reported_ethnicity_ontology_term_id' is not allowed. When 'organism_ontology_term_id' is 'NCBITaxon:9606' (Homo sapiens), self_reported_ethnicity_ontology_term_id MUST be formatted as one or more comma-separated (with no leading or trailing spaces) HANCESTRO terms in ascending lexical order, or 'unknown' if unavailable. Cannot match any forbidden HANCESTRO terms listed in schema definition.\n",
      "Validation complete in 0:00:00.517733 with status is_valid=False\n",
      "------------------\n",
      "\u001b[1m\u001b[92mPASSED\u001b[0m\n"
     ]
    }
   ],
   "source": [
    "# self_reported_ethnicity_ontology_term_id as HANCESTRO:0554\n",
    "adata.obs['organism_ontology_term_id'] = 'NCBITaxon:9606'\n",
    "adata.obs['self_reported_ethnicity_ontology_term_id'] = 'HANCESTRO:0554'\n",
    "save_and_test(adata, 'False')"
   ]
  },
  {
   "cell_type": "code",
   "execution_count": 29,
   "id": "2a44c886-9c68-4843-ab62-9d53b062e2f2",
   "metadata": {},
   "outputs": [
    {
     "name": "stdout",
     "output_type": "stream",
     "text": [
      "organism_ontology_term_id  self_reported_ethnicity_ontology_term_id\n",
      "NCBITaxon:9606             HANCESTRO:0555                              2000\n",
      "dtype: int64\n",
      "------------------\n",
      "Loading dependencies\n",
      "Loading validator modules\n",
      "\n",
      "Starting validation...\n",
      "WARNING: Validation of raw layer was not performed due to current errors, try again after fixing current errors.\n",
      "ERROR: 'HANCESTRO:0555' in 'self_reported_ethnicity_ontology_term_id' is not allowed. When 'organism_ontology_term_id' is 'NCBITaxon:9606' (Homo sapiens), self_reported_ethnicity_ontology_term_id MUST be formatted as one or more comma-separated (with no leading or trailing spaces) HANCESTRO terms in ascending lexical order, or 'unknown' if unavailable. Cannot match any forbidden HANCESTRO terms listed in schema definition.\n",
      "Validation complete in 0:00:00.519740 with status is_valid=False\n",
      "------------------\n",
      "\u001b[1m\u001b[92mPASSED\u001b[0m\n"
     ]
    }
   ],
   "source": [
    "# self_reported_ethnicity_ontology_term_id as HANCESTRO:0555\n",
    "adata.obs['organism_ontology_term_id'] = 'NCBITaxon:9606'\n",
    "adata.obs['self_reported_ethnicity_ontology_term_id'] = 'HANCESTRO:0555'\n",
    "save_and_test(adata, 'False')"
   ]
  },
  {
   "cell_type": "code",
   "execution_count": 30,
   "id": "69b87568-28f9-42dc-8433-96546a900ac1",
   "metadata": {},
   "outputs": [
    {
     "name": "stdout",
     "output_type": "stream",
     "text": [
      "organism_ontology_term_id  self_reported_ethnicity_ontology_term_id\n",
      "NCBITaxon:9606             HANCESTRO:0557                              2000\n",
      "dtype: int64\n",
      "------------------\n",
      "Loading dependencies\n",
      "Loading validator modules\n",
      "\n",
      "Starting validation...\n",
      "WARNING: Validation of raw layer was not performed due to current errors, try again after fixing current errors.\n",
      "ERROR: 'HANCESTRO:0557' in 'self_reported_ethnicity_ontology_term_id' is not allowed. When 'organism_ontology_term_id' is 'NCBITaxon:9606' (Homo sapiens), self_reported_ethnicity_ontology_term_id MUST be formatted as one or more comma-separated (with no leading or trailing spaces) HANCESTRO terms in ascending lexical order, or 'unknown' if unavailable. Cannot match any forbidden HANCESTRO terms listed in schema definition.\n",
      "Validation complete in 0:00:00.522760 with status is_valid=False\n",
      "------------------\n",
      "\u001b[1m\u001b[92mPASSED\u001b[0m\n"
     ]
    }
   ],
   "source": [
    "# self_reported_ethnicity_ontology_term_id as HANCESTRO:0557\n",
    "adata.obs['organism_ontology_term_id'] = 'NCBITaxon:9606'\n",
    "adata.obs['self_reported_ethnicity_ontology_term_id'] = 'HANCESTRO:0557'\n",
    "save_and_test(adata, 'False')"
   ]
  },
  {
   "cell_type": "code",
   "execution_count": 31,
   "id": "368bf4dc-cc66-43c7-b3bd-23b68368f9ed",
   "metadata": {},
   "outputs": [
    {
     "name": "stdout",
     "output_type": "stream",
     "text": [
      "organism_ontology_term_id  self_reported_ethnicity_ontology_term_id\n",
      "NCBITaxon:9606             HANCESTRO:0558                              2000\n",
      "dtype: int64\n",
      "------------------\n",
      "Loading dependencies\n",
      "Loading validator modules\n",
      "\n",
      "Starting validation...\n",
      "WARNING: Validation of raw layer was not performed due to current errors, try again after fixing current errors.\n",
      "ERROR: 'HANCESTRO:0558' in 'self_reported_ethnicity_ontology_term_id' is not allowed. When 'organism_ontology_term_id' is 'NCBITaxon:9606' (Homo sapiens), self_reported_ethnicity_ontology_term_id MUST be formatted as one or more comma-separated (with no leading or trailing spaces) HANCESTRO terms in ascending lexical order, or 'unknown' if unavailable. Cannot match any forbidden HANCESTRO terms listed in schema definition.\n",
      "Validation complete in 0:00:00.520235 with status is_valid=False\n",
      "------------------\n",
      "\u001b[1m\u001b[92mPASSED\u001b[0m\n"
     ]
    }
   ],
   "source": [
    "# self_reported_ethnicity_ontology_term_id as HANCESTRO:0558\n",
    "adata.obs['organism_ontology_term_id'] = 'NCBITaxon:9606'\n",
    "adata.obs['self_reported_ethnicity_ontology_term_id'] = 'HANCESTRO:0558'\n",
    "save_and_test(adata, 'False')"
   ]
  },
  {
   "cell_type": "code",
   "execution_count": 32,
   "id": "96a87ca3-510b-4355-ab61-4751493ddbc6",
   "metadata": {},
   "outputs": [
    {
     "name": "stdout",
     "output_type": "stream",
     "text": [
      "organism_ontology_term_id  self_reported_ethnicity_ontology_term_id\n",
      "NCBITaxon:9606             HANCESTRO:0559                              2000\n",
      "dtype: int64\n",
      "------------------\n",
      "Loading dependencies\n",
      "Loading validator modules\n",
      "\n",
      "Starting validation...\n",
      "WARNING: Validation of raw layer was not performed due to current errors, try again after fixing current errors.\n",
      "ERROR: 'HANCESTRO:0559' in 'self_reported_ethnicity_ontology_term_id' is not allowed. When 'organism_ontology_term_id' is 'NCBITaxon:9606' (Homo sapiens), self_reported_ethnicity_ontology_term_id MUST be formatted as one or more comma-separated (with no leading or trailing spaces) HANCESTRO terms in ascending lexical order, or 'unknown' if unavailable. Cannot match any forbidden HANCESTRO terms listed in schema definition.\n",
      "Validation complete in 0:00:00.524198 with status is_valid=False\n",
      "------------------\n",
      "\u001b[1m\u001b[92mPASSED\u001b[0m\n"
     ]
    }
   ],
   "source": [
    "# self_reported_ethnicity_ontology_term_id as HANCESTRO:0559\n",
    "adata.obs['organism_ontology_term_id'] = 'NCBITaxon:9606'\n",
    "adata.obs['self_reported_ethnicity_ontology_term_id'] = 'HANCESTRO:0559'\n",
    "save_and_test(adata, 'False')"
   ]
  },
  {
   "cell_type": "code",
   "execution_count": 33,
   "id": "7529829c-aab5-45c4-ae8a-04ce5a0c5ee9",
   "metadata": {},
   "outputs": [
    {
     "name": "stdout",
     "output_type": "stream",
     "text": [
      "organism_ontology_term_id  self_reported_ethnicity_ontology_term_id\n",
      "NCBITaxon:9606             HANCESTRO:0560                              2000\n",
      "dtype: int64\n",
      "------------------\n",
      "Loading dependencies\n",
      "Loading validator modules\n",
      "\n",
      "Starting validation...\n",
      "WARNING: Validation of raw layer was not performed due to current errors, try again after fixing current errors.\n",
      "ERROR: 'HANCESTRO:0560' in 'self_reported_ethnicity_ontology_term_id' is not allowed. When 'organism_ontology_term_id' is 'NCBITaxon:9606' (Homo sapiens), self_reported_ethnicity_ontology_term_id MUST be formatted as one or more comma-separated (with no leading or trailing spaces) HANCESTRO terms in ascending lexical order, or 'unknown' if unavailable. Cannot match any forbidden HANCESTRO terms listed in schema definition.\n",
      "Validation complete in 0:00:00.520939 with status is_valid=False\n",
      "------------------\n",
      "\u001b[1m\u001b[92mPASSED\u001b[0m\n"
     ]
    }
   ],
   "source": [
    "# self_reported_ethnicity_ontology_term_id as HANCESTRO:0560\n",
    "adata.obs['organism_ontology_term_id'] = 'NCBITaxon:9606'\n",
    "adata.obs['self_reported_ethnicity_ontology_term_id'] = 'HANCESTRO:0560'\n",
    "save_and_test(adata, 'False')"
   ]
  },
  {
   "cell_type": "code",
   "execution_count": 34,
   "id": "31e94c78-c7bf-443f-8726-d993a2531229",
   "metadata": {},
   "outputs": [
    {
     "name": "stdout",
     "output_type": "stream",
     "text": [
      "organism_ontology_term_id  self_reported_ethnicity_ontology_term_id\n",
      "NCBITaxon:9606             HANCESTRO:0561                              2000\n",
      "dtype: int64\n",
      "------------------\n",
      "Loading dependencies\n",
      "Loading validator modules\n",
      "\n",
      "Starting validation...\n",
      "WARNING: Validation of raw layer was not performed due to current errors, try again after fixing current errors.\n",
      "ERROR: 'HANCESTRO:0561' in 'self_reported_ethnicity_ontology_term_id' is not allowed. When 'organism_ontology_term_id' is 'NCBITaxon:9606' (Homo sapiens), self_reported_ethnicity_ontology_term_id MUST be formatted as one or more comma-separated (with no leading or trailing spaces) HANCESTRO terms in ascending lexical order, or 'unknown' if unavailable. Cannot match any forbidden HANCESTRO terms listed in schema definition.\n",
      "Validation complete in 0:00:00.513786 with status is_valid=False\n",
      "------------------\n",
      "\u001b[1m\u001b[92mPASSED\u001b[0m\n"
     ]
    }
   ],
   "source": [
    "# self_reported_ethnicity_ontology_term_id as HANCESTRO:0561\n",
    "adata.obs['organism_ontology_term_id'] = 'NCBITaxon:9606'\n",
    "adata.obs['self_reported_ethnicity_ontology_term_id'] = 'HANCESTRO:0561'\n",
    "save_and_test(adata, 'False')"
   ]
  },
  {
   "cell_type": "code",
   "execution_count": 35,
   "id": "ea142394-1c8c-4915-aa8c-c98984a25132",
   "metadata": {},
   "outputs": [
    {
     "name": "stdout",
     "output_type": "stream",
     "text": [
      "organism_ontology_term_id  self_reported_ethnicity_ontology_term_id\n",
      "NCBITaxon:9606             HANCESTRO:0564                              2000\n",
      "dtype: int64\n",
      "------------------\n",
      "Loading dependencies\n",
      "Loading validator modules\n",
      "\n",
      "Starting validation...\n",
      "WARNING: Validation of raw layer was not performed due to current errors, try again after fixing current errors.\n",
      "ERROR: 'HANCESTRO:0564' in 'self_reported_ethnicity_ontology_term_id' is not allowed. When 'organism_ontology_term_id' is 'NCBITaxon:9606' (Homo sapiens), self_reported_ethnicity_ontology_term_id MUST be formatted as one or more comma-separated (with no leading or trailing spaces) HANCESTRO terms in ascending lexical order, or 'unknown' if unavailable. Cannot match any forbidden HANCESTRO terms listed in schema definition.\n",
      "Validation complete in 0:00:00.521581 with status is_valid=False\n",
      "------------------\n",
      "\u001b[1m\u001b[92mPASSED\u001b[0m\n"
     ]
    }
   ],
   "source": [
    "# self_reported_ethnicity_ontology_term_id as HANCESTRO:0564\n",
    "adata.obs['organism_ontology_term_id'] = 'NCBITaxon:9606'\n",
    "adata.obs['self_reported_ethnicity_ontology_term_id'] = 'HANCESTRO:0564'\n",
    "save_and_test(adata, 'False')"
   ]
  },
  {
   "cell_type": "code",
   "execution_count": 36,
   "id": "93a08eb0-902e-44c3-a029-9f4ab6795ef8",
   "metadata": {},
   "outputs": [
    {
     "name": "stdout",
     "output_type": "stream",
     "text": [
      "organism_ontology_term_id  self_reported_ethnicity_ontology_term_id\n",
      "NCBITaxon:9606             HANCESTRO:0565                              2000\n",
      "dtype: int64\n",
      "------------------\n",
      "Loading dependencies\n",
      "Loading validator modules\n",
      "\n",
      "Starting validation...\n",
      "WARNING: Validation of raw layer was not performed due to current errors, try again after fixing current errors.\n",
      "ERROR: 'HANCESTRO:0565' in 'self_reported_ethnicity_ontology_term_id' is not allowed. When 'organism_ontology_term_id' is 'NCBITaxon:9606' (Homo sapiens), self_reported_ethnicity_ontology_term_id MUST be formatted as one or more comma-separated (with no leading or trailing spaces) HANCESTRO terms in ascending lexical order, or 'unknown' if unavailable. Cannot match any forbidden HANCESTRO terms listed in schema definition.\n",
      "Validation complete in 0:00:00.533324 with status is_valid=False\n",
      "------------------\n",
      "\u001b[1m\u001b[92mPASSED\u001b[0m\n"
     ]
    }
   ],
   "source": [
    "# self_reported_ethnicity_ontology_term_id as HANCESTRO:0565\n",
    "adata.obs['organism_ontology_term_id'] = 'NCBITaxon:9606'\n",
    "adata.obs['self_reported_ethnicity_ontology_term_id'] = 'HANCESTRO:0565'\n",
    "save_and_test(adata, 'False')"
   ]
  },
  {
   "cell_type": "code",
   "execution_count": 37,
   "id": "33080e4f-013b-4c39-871f-d0f3a4fa47c1",
   "metadata": {},
   "outputs": [
    {
     "name": "stdout",
     "output_type": "stream",
     "text": [
      "organism_ontology_term_id  self_reported_ethnicity_ontology_term_id\n",
      "NCBITaxon:9606             HANCESTRO:0566                              2000\n",
      "dtype: int64\n",
      "------------------\n",
      "Loading dependencies\n",
      "Loading validator modules\n",
      "\n",
      "Starting validation...\n",
      "WARNING: Validation of raw layer was not performed due to current errors, try again after fixing current errors.\n",
      "ERROR: 'HANCESTRO:0566' in 'self_reported_ethnicity_ontology_term_id' is not allowed. When 'organism_ontology_term_id' is 'NCBITaxon:9606' (Homo sapiens), self_reported_ethnicity_ontology_term_id MUST be formatted as one or more comma-separated (with no leading or trailing spaces) HANCESTRO terms in ascending lexical order, or 'unknown' if unavailable. Cannot match any forbidden HANCESTRO terms listed in schema definition.\n",
      "Validation complete in 0:00:00.533919 with status is_valid=False\n",
      "------------------\n",
      "\u001b[1m\u001b[92mPASSED\u001b[0m\n"
     ]
    }
   ],
   "source": [
    "# self_reported_ethnicity_ontology_term_id as HANCESTRO:0566\n",
    "adata.obs['organism_ontology_term_id'] = 'NCBITaxon:9606'\n",
    "adata.obs['self_reported_ethnicity_ontology_term_id'] = 'HANCESTRO:0566'\n",
    "save_and_test(adata, 'False')"
   ]
  },
  {
   "cell_type": "code",
   "execution_count": 38,
   "id": "d97a3dc6-14a1-430a-8ee3-28fb29d0e36c",
   "metadata": {},
   "outputs": [
    {
     "name": "stdout",
     "output_type": "stream",
     "text": [
      "organism_ontology_term_id  self_reported_ethnicity_ontology_term_id\n",
      "NCBITaxon:9606             GEO:000000374                               2000\n",
      "dtype: int64\n",
      "------------------\n",
      "Loading dependencies\n",
      "Loading validator modules\n",
      "\n",
      "Starting validation...\n",
      "WARNING: Validation of raw layer was not performed due to current errors, try again after fixing current errors.\n",
      "ERROR: 'GEO:000000374' in 'self_reported_ethnicity_ontology_term_id' is not a valid ontology term id of 'HANCESTRO'. When 'organism_ontology_term_id' is 'NCBITaxon:9606' (Homo sapiens), self_reported_ethnicity_ontology_term_id MUST be formatted as one or more comma-separated (with no leading or trailing spaces) HANCESTRO terms in ascending lexical order, or 'unknown' if unavailable. Cannot match any forbidden HANCESTRO terms listed in schema definition.\n",
      "Validation complete in 0:00:00.519333 with status is_valid=False\n",
      "------------------\n",
      "\u001b[1m\u001b[92mPASSED\u001b[0m\n"
     ]
    }
   ],
   "source": [
    "# self_reported_ethnicity_ontology_term_id as GEO:000000374\n",
    "adata.obs['organism_ontology_term_id'] = 'NCBITaxon:9606'\n",
    "adata.obs['self_reported_ethnicity_ontology_term_id'] = 'GEO:000000374'\n",
    "save_and_test(adata, 'False')"
   ]
  },
  {
   "cell_type": "code",
   "execution_count": 39,
   "id": "b52c3b45-0e78-4ac7-82cb-f47421261217",
   "metadata": {},
   "outputs": [
    {
     "name": "stdout",
     "output_type": "stream",
     "text": [
      "organism_ontology_term_id  self_reported_ethnicity_ontology_term_id\n",
      "NCBITaxon:9606             HANCESTRO:0029                              2000\n",
      "dtype: int64\n",
      "------------------\n",
      "Loading dependencies\n",
      "Loading validator modules\n",
      "\n",
      "Starting validation...\n",
      "WARNING: Validation of raw layer was not performed due to current errors, try again after fixing current errors.\n",
      "ERROR: 'HANCESTRO:0029' in 'self_reported_ethnicity_ontology_term_id' is not allowed. When 'organism_ontology_term_id' is 'NCBITaxon:9606' (Homo sapiens), self_reported_ethnicity_ontology_term_id MUST be formatted as one or more comma-separated (with no leading or trailing spaces) HANCESTRO terms in ascending lexical order, or 'unknown' if unavailable. Cannot match any forbidden HANCESTRO terms listed in schema definition.\n",
      "Validation complete in 0:00:00.521574 with status is_valid=False\n",
      "------------------\n",
      "\u001b[1m\u001b[92mPASSED\u001b[0m\n"
     ]
    }
   ],
   "source": [
    "# self_reported_ethnicity_ontology_term_id as HANCESTRO:0029\n",
    "adata.obs['organism_ontology_term_id'] = 'NCBITaxon:9606'\n",
    "adata.obs['self_reported_ethnicity_ontology_term_id'] = 'HANCESTRO:0029'\n",
    "save_and_test(adata, 'False')"
   ]
  },
  {
   "cell_type": "code",
   "execution_count": 40,
   "id": "dfcf08f6-a9fa-4f48-b7b3-72e0d4924eee",
   "metadata": {},
   "outputs": [
    {
     "name": "stdout",
     "output_type": "stream",
     "text": [
      "organism_ontology_term_id  self_reported_ethnicity_ontology_term_id\n",
      "NCBITaxon:9606             HANCESTRO:0030                              2000\n",
      "dtype: int64\n",
      "------------------\n",
      "Loading dependencies\n",
      "Loading validator modules\n",
      "\n",
      "Starting validation...\n",
      "WARNING: Validation of raw layer was not performed due to current errors, try again after fixing current errors.\n",
      "ERROR: 'HANCESTRO:0030' in 'self_reported_ethnicity_ontology_term_id' is not allowed. When 'organism_ontology_term_id' is 'NCBITaxon:9606' (Homo sapiens), self_reported_ethnicity_ontology_term_id MUST be formatted as one or more comma-separated (with no leading or trailing spaces) HANCESTRO terms in ascending lexical order, or 'unknown' if unavailable. Cannot match any forbidden HANCESTRO terms listed in schema definition.\n",
      "Validation complete in 0:00:00.518828 with status is_valid=False\n",
      "------------------\n",
      "\u001b[1m\u001b[92mPASSED\u001b[0m\n"
     ]
    }
   ],
   "source": [
    "# self_reported_ethnicity_ontology_term_id as HANCESTRO:0030\n",
    "adata.obs['organism_ontology_term_id'] = 'NCBITaxon:9606'\n",
    "adata.obs['self_reported_ethnicity_ontology_term_id'] = 'HANCESTRO:0030'\n",
    "save_and_test(adata, 'False')"
   ]
  },
  {
   "cell_type": "code",
   "execution_count": 41,
   "id": "5828dde5-4b5e-4140-9f56-4c06daac2ed7",
   "metadata": {},
   "outputs": [
    {
     "name": "stdout",
     "output_type": "stream",
     "text": [
      "organism_ontology_term_id  self_reported_ethnicity_ontology_term_id\n",
      "NCBITaxon:9606             HANCESTRO:0031                              2000\n",
      "dtype: int64\n",
      "------------------\n",
      "Loading dependencies\n",
      "Loading validator modules\n",
      "\n",
      "Starting validation...\n",
      "WARNING: Validation of raw layer was not performed due to current errors, try again after fixing current errors.\n",
      "ERROR: 'HANCESTRO:0031' in 'self_reported_ethnicity_ontology_term_id' is not allowed. When 'organism_ontology_term_id' is 'NCBITaxon:9606' (Homo sapiens), self_reported_ethnicity_ontology_term_id MUST be formatted as one or more comma-separated (with no leading or trailing spaces) HANCESTRO terms in ascending lexical order, or 'unknown' if unavailable. Cannot match any forbidden HANCESTRO terms listed in schema definition.\n",
      "Validation complete in 0:00:00.576064 with status is_valid=False\n",
      "------------------\n",
      "\u001b[1m\u001b[92mPASSED\u001b[0m\n"
     ]
    }
   ],
   "source": [
    "# self_reported_ethnicity_ontology_term_id as HANCESTRO:0031\n",
    "adata.obs['organism_ontology_term_id'] = 'NCBITaxon:9606'\n",
    "adata.obs['self_reported_ethnicity_ontology_term_id'] = 'HANCESTRO:0031'\n",
    "save_and_test(adata, 'False')"
   ]
  },
  {
   "cell_type": "code",
   "execution_count": 42,
   "id": "c5a022b1-ed66-4bf7-8ac4-febe130fb61b",
   "metadata": {},
   "outputs": [
    {
     "name": "stdout",
     "output_type": "stream",
     "text": [
      "organism_ontology_term_id  self_reported_ethnicity_ontology_term_id\n",
      "NCBITaxon:9606             HANCESTRO:0032                              2000\n",
      "dtype: int64\n",
      "------------------\n",
      "Loading dependencies\n",
      "Loading validator modules\n",
      "\n",
      "Starting validation...\n",
      "WARNING: Validation of raw layer was not performed due to current errors, try again after fixing current errors.\n",
      "ERROR: 'HANCESTRO:0032' in 'self_reported_ethnicity_ontology_term_id' is not allowed. When 'organism_ontology_term_id' is 'NCBITaxon:9606' (Homo sapiens), self_reported_ethnicity_ontology_term_id MUST be formatted as one or more comma-separated (with no leading or trailing spaces) HANCESTRO terms in ascending lexical order, or 'unknown' if unavailable. Cannot match any forbidden HANCESTRO terms listed in schema definition.\n",
      "Validation complete in 0:00:00.588872 with status is_valid=False\n",
      "------------------\n",
      "\u001b[1m\u001b[92mPASSED\u001b[0m\n"
     ]
    }
   ],
   "source": [
    "# self_reported_ethnicity_ontology_term_id as HANCESTRO:0032\n",
    "adata.obs['organism_ontology_term_id'] = 'NCBITaxon:9606'\n",
    "adata.obs['self_reported_ethnicity_ontology_term_id'] = 'HANCESTRO:0032'\n",
    "save_and_test(adata, 'False')"
   ]
  },
  {
   "cell_type": "code",
   "execution_count": 43,
   "id": "73ffed63-bff4-4c66-902a-e1efa253fcbc",
   "metadata": {},
   "outputs": [
    {
     "name": "stdout",
     "output_type": "stream",
     "text": [
      "organism_ontology_term_id  self_reported_ethnicity_ontology_term_id\n",
      "NCBITaxon:9606             HANCESTRO:0033                              2000\n",
      "dtype: int64\n",
      "------------------\n",
      "Loading dependencies\n",
      "Loading validator modules\n",
      "\n",
      "Starting validation...\n",
      "WARNING: Validation of raw layer was not performed due to current errors, try again after fixing current errors.\n",
      "ERROR: 'HANCESTRO:0033' in 'self_reported_ethnicity_ontology_term_id' is not allowed. When 'organism_ontology_term_id' is 'NCBITaxon:9606' (Homo sapiens), self_reported_ethnicity_ontology_term_id MUST be formatted as one or more comma-separated (with no leading or trailing spaces) HANCESTRO terms in ascending lexical order, or 'unknown' if unavailable. Cannot match any forbidden HANCESTRO terms listed in schema definition.\n",
      "Validation complete in 0:00:00.523278 with status is_valid=False\n",
      "------------------\n",
      "\u001b[1m\u001b[92mPASSED\u001b[0m\n"
     ]
    }
   ],
   "source": [
    "# self_reported_ethnicity_ontology_term_id as HANCESTRO:0033\n",
    "adata.obs['organism_ontology_term_id'] = 'NCBITaxon:9606'\n",
    "adata.obs['self_reported_ethnicity_ontology_term_id'] = 'HANCESTRO:0033'\n",
    "save_and_test(adata, 'False')"
   ]
  },
  {
   "cell_type": "code",
   "execution_count": 44,
   "id": "acfa979c-35d4-4b3b-a1cc-e8bbe8e709b0",
   "metadata": {},
   "outputs": [
    {
     "name": "stdout",
     "output_type": "stream",
     "text": [
      "organism_ontology_term_id  self_reported_ethnicity_ontology_term_id\n",
      "NCBITaxon:9606             HANCESTRO:0034                              2000\n",
      "dtype: int64\n",
      "------------------\n",
      "Loading dependencies\n",
      "Loading validator modules\n",
      "\n",
      "Starting validation...\n",
      "WARNING: Validation of raw layer was not performed due to current errors, try again after fixing current errors.\n",
      "ERROR: 'HANCESTRO:0034' in 'self_reported_ethnicity_ontology_term_id' is not allowed. When 'organism_ontology_term_id' is 'NCBITaxon:9606' (Homo sapiens), self_reported_ethnicity_ontology_term_id MUST be formatted as one or more comma-separated (with no leading or trailing spaces) HANCESTRO terms in ascending lexical order, or 'unknown' if unavailable. Cannot match any forbidden HANCESTRO terms listed in schema definition.\n",
      "Validation complete in 0:00:00.517707 with status is_valid=False\n",
      "------------------\n",
      "\u001b[1m\u001b[92mPASSED\u001b[0m\n"
     ]
    }
   ],
   "source": [
    "# self_reported_ethnicity_ontology_term_id as HANCESTRO:0034\n",
    "adata.obs['organism_ontology_term_id'] = 'NCBITaxon:9606'\n",
    "adata.obs['self_reported_ethnicity_ontology_term_id'] = 'HANCESTRO:0034'\n",
    "save_and_test(adata, 'False')"
   ]
  },
  {
   "cell_type": "code",
   "execution_count": 45,
   "id": "94f6a933-3a58-49c5-aa63-d8578165c4e9",
   "metadata": {},
   "outputs": [
    {
     "name": "stdout",
     "output_type": "stream",
     "text": [
      "organism_ontology_term_id  self_reported_ethnicity_ontology_term_id\n",
      "NCBITaxon:9606             HANCESTRO:0005,unknown                      2000\n",
      "dtype: int64\n",
      "------------------\n",
      "Loading dependencies\n",
      "Loading validator modules\n",
      "\n",
      "Starting validation...\n",
      "WARNING: Validation of raw layer was not performed due to current errors, try again after fixing current errors.\n",
      "ERROR: 'unknown' in 'self_reported_ethnicity_ontology_term_id' is not a valid ontology term id of 'HANCESTRO'. When 'organism_ontology_term_id' is 'NCBITaxon:9606' (Homo sapiens), self_reported_ethnicity_ontology_term_id MUST be formatted as one or more comma-separated (with no leading or trailing spaces) HANCESTRO terms in ascending lexical order, or 'unknown' if unavailable. Cannot match any forbidden HANCESTRO terms listed in schema definition.\n",
      "Validation complete in 0:00:00.518398 with status is_valid=False\n",
      "------------------\n",
      "\u001b[1m\u001b[92mPASSED\u001b[0m\n"
     ]
    }
   ],
   "source": [
    "# list of self_reported_ethnicity_ontology_term_id with valid (HANCESTRO:0005:0014) and unknown\n",
    "adata.obs['organism_ontology_term_id'] = 'NCBITaxon:9606'\n",
    "adata.obs['self_reported_ethnicity_ontology_term_id'] = 'HANCESTRO:0005,unknown'\n",
    "save_and_test(adata, 'False')"
   ]
  },
  {
   "cell_type": "code",
   "execution_count": 46,
   "id": "43cd1658-b965-4157-a083-538f24d9ab8e",
   "metadata": {},
   "outputs": [
    {
     "name": "stdout",
     "output_type": "stream",
     "text": [
      "organism_ontology_term_id  self_reported_ethnicity_ontology_term_id    \n",
      "NCBITaxon:9606             HANCESTRO:0005,HANCESTRO:0014,HANCESTRO:0034    2000\n",
      "dtype: int64\n",
      "------------------\n",
      "Loading dependencies\n",
      "Loading validator modules\n",
      "\n",
      "Starting validation...\n",
      "WARNING: Validation of raw layer was not performed due to current errors, try again after fixing current errors.\n",
      "ERROR: 'HANCESTRO:0034' in 'self_reported_ethnicity_ontology_term_id' is not allowed. When 'organism_ontology_term_id' is 'NCBITaxon:9606' (Homo sapiens), self_reported_ethnicity_ontology_term_id MUST be formatted as one or more comma-separated (with no leading or trailing spaces) HANCESTRO terms in ascending lexical order, or 'unknown' if unavailable. Cannot match any forbidden HANCESTRO terms listed in schema definition.\n",
      "Validation complete in 0:00:00.530687 with status is_valid=False\n",
      "------------------\n",
      "\u001b[1m\u001b[92mPASSED\u001b[0m\n"
     ]
    }
   ],
   "source": [
    "# list of self_reported_ethnicity_ontology_term_id with valid (HANCESTRO:0005,HANCESTRO:0014) and invalid (HANCESTRO:0034) ids\n",
    "adata.obs['organism_ontology_term_id'] = 'NCBITaxon:9606'\n",
    "adata.obs['self_reported_ethnicity_ontology_term_id'] = 'HANCESTRO:0005,HANCESTRO:0014,HANCESTRO:0034'\n",
    "save_and_test(adata, 'False')"
   ]
  },
  {
   "cell_type": "code",
   "execution_count": 47,
   "id": "5f691f8d-e4ab-44d7-adab-d1a43ff0114e",
   "metadata": {},
   "outputs": [
    {
     "name": "stdout",
     "output_type": "stream",
     "text": [
      "organism_ontology_term_id  self_reported_ethnicity_ontology_term_id\n",
      "NCBITaxon:9606             HANCESTRO:0033,HANCESTRO:0034               2000\n",
      "dtype: int64\n",
      "------------------\n",
      "Loading dependencies\n",
      "Loading validator modules\n",
      "\n",
      "Starting validation...\n",
      "WARNING: Validation of raw layer was not performed due to current errors, try again after fixing current errors.\n",
      "ERROR: 'HANCESTRO:0033' in 'self_reported_ethnicity_ontology_term_id' is not allowed. When 'organism_ontology_term_id' is 'NCBITaxon:9606' (Homo sapiens), self_reported_ethnicity_ontology_term_id MUST be formatted as one or more comma-separated (with no leading or trailing spaces) HANCESTRO terms in ascending lexical order, or 'unknown' if unavailable. Cannot match any forbidden HANCESTRO terms listed in schema definition.\n",
      "ERROR: 'HANCESTRO:0034' in 'self_reported_ethnicity_ontology_term_id' is not allowed. When 'organism_ontology_term_id' is 'NCBITaxon:9606' (Homo sapiens), self_reported_ethnicity_ontology_term_id MUST be formatted as one or more comma-separated (with no leading or trailing spaces) HANCESTRO terms in ascending lexical order, or 'unknown' if unavailable. Cannot match any forbidden HANCESTRO terms listed in schema definition.\n",
      "Validation complete in 0:00:00.533111 with status is_valid=False\n",
      "------------------\n",
      "\u001b[1m\u001b[92mPASSED\u001b[0m\n"
     ]
    }
   ],
   "source": [
    "# list of self_reported_ethnicity_ontology_term_id with invalid (HANCESTRO:0033,HANCESTRO:0034) ids\n",
    "adata.obs['organism_ontology_term_id'] = 'NCBITaxon:9606'\n",
    "adata.obs['self_reported_ethnicity_ontology_term_id'] = 'HANCESTRO:0033,HANCESTRO:0034'\n",
    "save_and_test(adata, 'False')"
   ]
  },
  {
   "cell_type": "code",
   "execution_count": 48,
   "id": "8df51c48-91c5-4b45-87d0-6071cf8b3ff7",
   "metadata": {},
   "outputs": [
    {
     "name": "stdout",
     "output_type": "stream",
     "text": [
      "organism_ontology_term_id  self_reported_ethnicity_ontology_term_id\n",
      "NCBITaxon:9606             HANCESTRO:0051                              2000\n",
      "dtype: int64\n",
      "------------------\n",
      "Loading dependencies\n",
      "Loading validator modules\n",
      "\n",
      "Starting validation...\n",
      "WARNING: Validation of raw layer was not performed due to current errors, try again after fixing current errors.\n",
      "ERROR: 'HANCESTRO:0051' in 'self_reported_ethnicity_ontology_term_id' is not allowed. Child terms of 'HANCESTRO:0002' are not allowed. When 'organism_ontology_term_id' is 'NCBITaxon:9606' (Homo sapiens), self_reported_ethnicity_ontology_term_id MUST be formatted as one or more comma-separated (with no leading or trailing spaces) HANCESTRO terms in ascending lexical order, or 'unknown' if unavailable. Cannot match any forbidden HANCESTRO terms listed in schema definition.\n",
      "Validation complete in 0:00:00.524051 with status is_valid=False\n",
      "------------------\n",
      "\u001b[1m\u001b[92mPASSED\u001b[0m\n"
     ]
    }
   ],
   "source": [
    "# self_reported_ethnicity_ontology_term_id as HANCESTRO:0051, child of HANCESTRO:0002\n",
    "adata.obs['organism_ontology_term_id'] = 'NCBITaxon:9606'\n",
    "adata.obs['self_reported_ethnicity_ontology_term_id'] = 'HANCESTRO:0051'\n",
    "save_and_test(adata, 'False')"
   ]
  },
  {
   "cell_type": "code",
   "execution_count": 49,
   "id": "35f70743-98d1-47d2-b78a-0a21b6ea7a5a",
   "metadata": {},
   "outputs": [
    {
     "name": "stdout",
     "output_type": "stream",
     "text": [
      "organism_ontology_term_id  self_reported_ethnicity_ontology_term_id\n",
      "NCBITaxon:9606             HANCESTRO:0306                              2000\n",
      "dtype: int64\n",
      "------------------\n",
      "Loading dependencies\n",
      "Loading validator modules\n",
      "\n",
      "Starting validation...\n",
      "WARNING: Validation of raw layer was not performed due to current errors, try again after fixing current errors.\n",
      "ERROR: 'HANCESTRO:0306' in 'self_reported_ethnicity_ontology_term_id' is not allowed. Child terms of 'HANCESTRO:0304' are not allowed. When 'organism_ontology_term_id' is 'NCBITaxon:9606' (Homo sapiens), self_reported_ethnicity_ontology_term_id MUST be formatted as one or more comma-separated (with no leading or trailing spaces) HANCESTRO terms in ascending lexical order, or 'unknown' if unavailable. Cannot match any forbidden HANCESTRO terms listed in schema definition.\n",
      "Validation complete in 0:00:00.510952 with status is_valid=False\n",
      "------------------\n",
      "\u001b[1m\u001b[92mPASSED\u001b[0m\n"
     ]
    }
   ],
   "source": [
    "# self_reported_ethnicity_ontology_term_id as HANCESTRO:0306, child of HANCESTRO:0304\n",
    "adata.obs['organism_ontology_term_id'] = 'NCBITaxon:9606'\n",
    "adata.obs['self_reported_ethnicity_ontology_term_id'] = 'HANCESTRO:0306'\n",
    "save_and_test(adata, 'False')"
   ]
  },
  {
   "cell_type": "code",
   "execution_count": 50,
   "id": "b60dfce0-2f9b-4ebd-9a3b-361978a19690",
   "metadata": {},
   "outputs": [
    {
     "name": "stdout",
     "output_type": "stream",
     "text": [
      "organism_ontology_term_id  self_reported_ethnicity_ontology_term_id\n",
      "NCBITaxon:9606             HANCESTRO:0005,HANCESTRO:0005               2000\n",
      "dtype: int64\n",
      "------------------\n",
      "Loading dependencies\n",
      "Loading validator modules\n",
      "\n",
      "Starting validation...\n",
      "WARNING: Validation of raw layer was not performed due to current errors, try again after fixing current errors.\n",
      "ERROR: 'HANCESTRO:0005,HANCESTRO:0005' in 'self_reported_ethnicity_ontology_term_id' contains duplicates. When 'organism_ontology_term_id' is 'NCBITaxon:9606' (Homo sapiens), self_reported_ethnicity_ontology_term_id MUST be formatted as one or more comma-separated (with no leading or trailing spaces) HANCESTRO terms in ascending lexical order, or 'unknown' if unavailable. Cannot match any forbidden HANCESTRO terms listed in schema definition.\n",
      "Validation complete in 0:00:00.517032 with status is_valid=False\n",
      "------------------\n",
      "\u001b[1m\u001b[92mPASSED\u001b[0m\n"
     ]
    }
   ],
   "source": [
    "# list of self_reported_ethnicity_ontology_term_id with valid (HANCESTRO:0005) ids but duplicated\n",
    "adata.obs['organism_ontology_term_id'] = 'NCBITaxon:9606'\n",
    "adata.obs['self_reported_ethnicity_ontology_term_id'] = 'HANCESTRO:0005,HANCESTRO:0005'\n",
    "save_and_test(adata, 'False')"
   ]
  },
  {
   "cell_type": "code",
   "execution_count": 51,
   "id": "ecb063fd-65f4-4e92-9635-882b8d72da32",
   "metadata": {},
   "outputs": [
    {
     "name": "stdout",
     "output_type": "stream",
     "text": [
      "organism_ontology_term_id  self_reported_ethnicity_ontology_term_id\n",
      "NCBITaxon:9606             ['HANCESTRO:0005,HANCESTRO:0014']           2000\n",
      "dtype: int64\n",
      "------------------\n",
      "Loading dependencies\n",
      "Loading validator modules\n",
      "\n",
      "Starting validation...\n",
      "WARNING: Validation of raw layer was not performed due to current errors, try again after fixing current errors.\n",
      "ERROR: '['HANCESTRO:0005' in 'self_reported_ethnicity_ontology_term_id' is not a valid ontology term id of 'HANCESTRO'. When 'organism_ontology_term_id' is 'NCBITaxon:9606' (Homo sapiens), self_reported_ethnicity_ontology_term_id MUST be formatted as one or more comma-separated (with no leading or trailing spaces) HANCESTRO terms in ascending lexical order, or 'unknown' if unavailable. Cannot match any forbidden HANCESTRO terms listed in schema definition.\n",
      "ERROR: 'HANCESTRO:0014']' in 'self_reported_ethnicity_ontology_term_id' is not a valid ontology term id of 'HANCESTRO'. When 'organism_ontology_term_id' is 'NCBITaxon:9606' (Homo sapiens), self_reported_ethnicity_ontology_term_id MUST be formatted as one or more comma-separated (with no leading or trailing spaces) HANCESTRO terms in ascending lexical order, or 'unknown' if unavailable. Cannot match any forbidden HANCESTRO terms listed in schema definition.\n",
      "ERROR: '['HANCESTRO:0005,HANCESTRO:0014']' in 'self_reported_ethnicity_ontology_term_id' is not in ascending lexical order. When 'organism_ontology_term_id' is 'NCBITaxon:9606' (Homo sapiens), self_reported_ethnicity_ontology_term_id MUST be formatted as one or more comma-separated (with no leading or trailing spaces) HANCESTRO terms in ascending lexical order, or 'unknown' if unavailable. Cannot match any forbidden HANCESTRO terms listed in schema definition.\n",
      "Validation complete in 0:00:00.515304 with status is_valid=False\n",
      "------------------\n",
      "\u001b[1m\u001b[92mPASSED\u001b[0m\n"
     ]
    }
   ],
   "source": [
    "# list of valid self_reported_ethnicity_ontology_term_id as dtype list\n",
    "adata.obs['organism_ontology_term_id'] = 'NCBITaxon:9606'\n",
    "adata.obs['self_reported_ethnicity_ontology_term_id'] = 'HANCESTRO:0005,HANCESTRO:0014'\n",
    "adata.obs['self_reported_ethnicity_ontology_term_id'] = adata.obs['self_reported_ethnicity_ontology_term_id'].str.split()\n",
    "adata.obs['self_reported_ethnicity_ontology_term_id'] = adata.obs['self_reported_ethnicity_ontology_term_id'].astype('str')\n",
    "save_and_test(adata, 'False')"
   ]
  },
  {
   "cell_type": "code",
   "execution_count": 52,
   "id": "2b28092a-f418-444f-88d8-cac90952d0fb",
   "metadata": {},
   "outputs": [
    {
     "name": "stdout",
     "output_type": "stream",
     "text": [
      "organism_ontology_term_id  self_reported_ethnicity_ontology_term_id\n",
      "NCBITaxon:10090            HANCESTRO:0005,HANCESTRO:0014               2000\n",
      "dtype: int64\n",
      "------------------\n",
      "Loading dependencies\n",
      "Loading validator modules\n",
      "\n",
      "Starting validation...\n",
      "WARNING: Validation of raw layer was not performed due to current errors, try again after fixing current errors.\n",
      "ERROR: 'HANCESTRO:0005,HANCESTRO:0014' in 'self_reported_ethnicity_ontology_term_id' is not a valid value of 'self_reported_ethnicity_ontology_term_id'. When 'organism_ontology_term_id' is NOT 'NCBITaxon:9606' (Homo sapiens), self_reported_ethnicity_ontology_term_id MUST be 'na'.\n",
      "Validation complete in 0:00:00.513593 with status is_valid=False\n",
      "------------------\n",
      "\u001b[1m\u001b[92mPASSED\u001b[0m\n"
     ]
    }
   ],
   "source": [
    "# list of valid self_reported_ethnicity_ontology_term_id HANCESTRO terms with mouse for organism\n",
    "adata.obs['organism_ontology_term_id'] = 'NCBITaxon:10090'\n",
    "adata.obs['self_reported_ethnicity_ontology_term_id'] = 'HANCESTRO:0005,HANCESTRO:0014'\n",
    "save_and_test(adata, 'False')"
   ]
  },
  {
   "cell_type": "code",
   "execution_count": 53,
   "id": "09e0ec32-62fa-4dc6-8396-64192d57b267",
   "metadata": {},
   "outputs": [
    {
     "name": "stdout",
     "output_type": "stream",
     "text": [
      "organism_ontology_term_id  self_reported_ethnicity_ontology_term_id\n",
      "NCBITaxon:10090            HANCESTRO:0014                              2000\n",
      "dtype: int64\n",
      "------------------\n",
      "Loading dependencies\n",
      "Loading validator modules\n",
      "\n",
      "Starting validation...\n",
      "WARNING: Validation of raw layer was not performed due to current errors, try again after fixing current errors.\n",
      "ERROR: 'HANCESTRO:0014' in 'self_reported_ethnicity_ontology_term_id' is not a valid value of 'self_reported_ethnicity_ontology_term_id'. When 'organism_ontology_term_id' is NOT 'NCBITaxon:9606' (Homo sapiens), self_reported_ethnicity_ontology_term_id MUST be 'na'.\n",
      "Validation complete in 0:00:00.521896 with status is_valid=False\n",
      "------------------\n",
      "\u001b[1m\u001b[92mPASSED\u001b[0m\n"
     ]
    }
   ],
   "source": [
    "# valid HANCESTRO self_reported_ethnicity_ontology_term_id with mouse for organism\n",
    "adata.obs['organism_ontology_term_id'] = 'NCBITaxon:10090'\n",
    "adata.obs['self_reported_ethnicity_ontology_term_id'] = 'HANCESTRO:0014'\n",
    "save_and_test(adata, 'False')"
   ]
  },
  {
   "cell_type": "code",
   "execution_count": null,
   "id": "e35f31e1-b509-4cc3-b563-601434d57c7a",
   "metadata": {},
   "outputs": [],
   "source": []
  }
 ],
 "metadata": {
  "kernelspec": {
   "display_name": "Python 3 (ipykernel)",
   "language": "python",
   "name": "python3"
  },
  "language_info": {
   "codemirror_mode": {
    "name": "ipython",
    "version": 3
   },
   "file_extension": ".py",
   "mimetype": "text/x-python",
   "name": "python",
   "nbconvert_exporter": "python",
   "pygments_lexer": "ipython3",
   "version": "3.9.18"
  }
 },
 "nbformat": 4,
 "nbformat_minor": 5
}
