{
 "cells": [
  {
   "cell_type": "markdown",
   "id": "384cd59d-9ae0-4b8b-8dab-79cefe90dfaa",
   "metadata": {},
   "source": [
    "https://github.com/chanzuckerberg/single-cell-curation/issues/405"
   ]
  },
  {
   "cell_type": "code",
   "execution_count": 1,
   "id": "cff55803-6fc1-477e-82ec-95d73e824784",
   "metadata": {},
   "outputs": [],
   "source": [
    "import numpy as np\n",
    "import os\n",
    "import scanpy as sc\n",
    "import subprocess\n",
    "import anndata as ad\n",
    "from scipy import sparse"
   ]
  },
  {
   "cell_type": "code",
   "execution_count": 2,
   "id": "40bf652d-17d3-4b5d-88a0-dd16f0283315",
   "metadata": {},
   "outputs": [],
   "source": [
    "def validate(file):\n",
    "    validate_process = subprocess.run(['cellxgene-schema', 'validate', file], stdout=subprocess.PIPE, stderr=subprocess.PIPE)\n",
    "    for line in validate_process.stdout.decode('utf-8').split('\\n'):\n",
    "        print(line)\n",
    "    for line in validate_process.stderr.decode('utf-8').split('\\n'):\n",
    "        print(line)\n",
    "        if 'is_valid=' in line:\n",
    "            valid = line.split('=')[-1]\n",
    "            return valid"
   ]
  },
  {
   "cell_type": "code",
   "execution_count": 3,
   "id": "dc39f074-4f1e-4c8c-8326-4763dc9fde36",
   "metadata": {},
   "outputs": [],
   "source": [
    "def save_and_test(adata, expected):\n",
    "    adata.write(filename='test.h5ad')\n",
    "    adata = sc.read_h5ad('test.h5ad')\n",
    "\n",
    "    print(\"A valid h5ad\")\n",
    "    print('------------------')\n",
    "\n",
    "    valid = validate('test.h5ad')\n",
    "    print('------------------')\n",
    "    \n",
    "    if expected != valid:\n",
    "        print('\\033[1m\\033[91mERROR\\033[0m')\n",
    "    else:\n",
    "        print('\\033[1m\\033[92mPASSED\\033[0m')\n",
    "    os.remove('test.h5ad')"
   ]
  },
  {
   "cell_type": "markdown",
   "id": "face024a-052c-472f-b0ba-a5066ea1ddf4",
   "metadata": {},
   "source": [
    "## Test Valid Cases"
   ]
  },
  {
   "cell_type": "code",
   "execution_count": 4,
   "id": "50b2671a-533c-459e-83d9-acbd009c0d46",
   "metadata": {},
   "outputs": [
    {
     "name": "stdout",
     "output_type": "stream",
     "text": [
      "A valid h5ad\n",
      "------------------\n",
      "Loading dependencies\n",
      "Loading validator modules\n",
      "\n",
      "Starting validation...\n",
      "Validation complete in 0:00:00.688623 with status is_valid=True\n",
      "------------------\n",
      "\u001b[1m\u001b[92mPASSED\u001b[0m\n"
     ]
    }
   ],
   "source": [
    "# Validate and add labels to valid.h5ad with bool columns\n",
    "adata = sc.read_h5ad(\"../valid.h5ad\")\n",
    "save_and_test(adata,'True')"
   ]
  },
  {
   "cell_type": "markdown",
   "id": "5935cad3-cc58-4e61-9556-5b7361f39536",
   "metadata": {},
   "source": [
    "## Test Invalid Cases"
   ]
  },
  {
   "cell_type": "code",
   "execution_count": 5,
   "id": "c16f8640-1a01-46be-9852-16c817973487",
   "metadata": {},
   "outputs": [
    {
     "name": "stdout",
     "output_type": "stream",
     "text": [
      "Validating original h5ad with column containing category of boolean type\n",
      "------------------\n",
      "Loading dependencies\n",
      "Loading validator modules\n",
      "\n",
      "Starting validation...\n",
      "Validation complete in 0:00:54.785192 with status is_valid=True\n",
      "\u001b[1m\u001b[91mERROR\u001b[0m\n"
     ]
    }
   ],
   "source": [
    "# The original invalid file is the only file we can obtain with a column of category type containing boolean objects\n",
    "# File is on google drive: https://drive.google.com/drive/u/1/folders/1PJGniNxWStKGge-cE1cu6DfLtTEZFrlz\n",
    "print(\"Validating original h5ad with column containing category of boolean type\")\n",
    "print('------------------')\n",
    "valid = validate(\"example_addlabelsFail.h5ad\")\n",
    "expected = 'False'\n",
    "\n",
    "if expected != valid:\n",
    "    print('\\033[1m\\033[91mERROR\\033[0m')\n",
    "else:\n",
    "    print('\\033[1m\\033[92mPASSED\\033[0m')"
   ]
  },
  {
   "cell_type": "code",
   "execution_count": null,
   "id": "30216001-1e5c-473e-b3d7-d02735bbae72",
   "metadata": {},
   "outputs": [],
   "source": []
  }
 ],
 "metadata": {
  "kernelspec": {
   "display_name": "Python 3 (ipykernel)",
   "language": "python",
   "name": "python3"
  },
  "language_info": {
   "codemirror_mode": {
    "name": "ipython",
    "version": 3
   },
   "file_extension": ".py",
   "mimetype": "text/x-python",
   "name": "python",
   "nbconvert_exporter": "python",
   "pygments_lexer": "ipython3",
   "version": "3.9.17"
  }
 },
 "nbformat": 4,
 "nbformat_minor": 5
}
