{
 "cells": [
  {
   "cell_type": "markdown",
   "id": "d70656a7-c1f6-48d5-a28f-82db6d35cc99",
   "metadata": {},
   "source": [
    "https://github.com/chanzuckerberg/single-cell-curation/issues/382"
   ]
  },
  {
   "cell_type": "code",
   "execution_count": 21,
   "id": "44de289e-348d-421a-82cd-63e48e5817bf",
   "metadata": {},
   "outputs": [],
   "source": [
    "import anndata as ad\n",
    "import cxg_upload\n",
    "import numpy as np\n",
    "import os\n",
    "import scanpy as sc\n",
    "import subprocess\n",
    "from datetime import datetime\n",
    "from scipy import sparse"
   ]
  },
  {
   "cell_type": "code",
   "execution_count": 22,
   "id": "6cd1680c",
   "metadata": {},
   "outputs": [],
   "source": [
    "def validate(file):\n",
    "    validate_process = subprocess.run(['cellxgene-schema', 'validate', file], stdout=subprocess.PIPE, stderr=subprocess.PIPE)\n",
    "    for line in validate_process.stdout.decode('utf-8').split('\\n'):\n",
    "        print(line)\n",
    "    for line in validate_process.stderr.decode('utf-8').split('\\n'):\n",
    "        print(line)\n",
    "        if 'is_valid=' in line:\n",
    "            valid = line.split('=')[-1]\n",
    "            return valid"
   ]
  },
  {
   "cell_type": "code",
   "execution_count": 23,
   "id": "bfafa028-c441-46ed-b455-593279cfa5df",
   "metadata": {},
   "outputs": [],
   "source": [
    "def last_values(x):\n",
    "    if sparse.issparse(x):\n",
    "        l = len(x.data)\n",
    "        return(x.data[l-10:l])\n",
    "    else:\n",
    "        s = x.shape\n",
    "        return(x[s[0]-1][s[1]-10:s[1]])"
   ]
  },
  {
   "cell_type": "code",
   "execution_count": 24,
   "id": "43388be8-52fe-4193-ae78-09f87708f20d",
   "metadata": {},
   "outputs": [],
   "source": [
    "def get_format(x):\n",
    "    if sparse.issparse(x):\n",
    "        return(x.getformat())\n",
    "    elif isinstance(x, np.ndarray):\n",
    "        return(\"numpy array\")"
   ]
  },
  {
   "cell_type": "code",
   "execution_count": 25,
   "id": "56eca710-ad1e-446f-a2be-5a703cb85476",
   "metadata": {},
   "outputs": [],
   "source": [
    "def save_and_test(adata, expected):\n",
    "    now = datetime.now() \n",
    "    dt_string = now.strftime('%m/%d %H:%M')\n",
    "    adata.uns['title'] += (' - ' + dt_string)\n",
    "\n",
    "    file = 'test.h5ad'\n",
    "    adata.write(filename=file)    \n",
    "    adata = sc.read_h5ad(file)\n",
    "    \n",
    "    if adata.raw:\n",
    "        print(\"adata.raw present\")\n",
    "        print(\"Raw matrix data structure: {}\".format(get_format(adata.raw.X)))\n",
    "        print(\"Raw matrix max value:{}\".format(adata.raw.X.max()))\n",
    "        last_values_list = last_values(adata.raw.X)\n",
    "        print(\"Last 10 raw values: {}\".format(last_values_list))\n",
    "    else:\n",
    "        print(\"No adata.raw present\")\n",
    "        print(\"Raw matrix data structure: {}\".format(get_format(adata.X)))\n",
    "        print(\"Raw matrix max value:{}\".format(adata.X.max()))\n",
    "        last_values_list = last_values(adata.X)\n",
    "        print(\"Last 10 raw values: {}\".format(last_values_list))\n",
    "    print('------------------')\n",
    "\n",
    "    valid = validate(file)\n",
    "    print('------------------')\n",
    "    \n",
    "\n",
    "    if expected != valid:\n",
    "        print('\\033[1m\\033[91mERROR\\033[0m')\n",
    "    else:\n",
    "        print('\\033[1m\\033[92mPASSED\\033[0m')\n",
    "        if expected == 'True':\n",
    "            cxg_upload.upload(file)\n",
    "    os.remove(file)"
   ]
  },
  {
   "cell_type": "markdown",
   "id": "207129fb-eb50-4471-b79f-0c764c573c04",
   "metadata": {},
   "source": [
    "## Test Valid Cases"
   ]
  },
  {
   "cell_type": "code",
   "execution_count": 27,
   "id": "bc2881b6-e1e1-47d3-92ed-0a17c04da6fc",
   "metadata": {},
   "outputs": [
    {
     "name": "stderr",
     "output_type": "stream",
     "text": [
      "/opt/anaconda3/envs/lattice/lib/python3.9/site-packages/anndata/_core/anndata.py:1828: UserWarning: Observation names are not unique. To make them unique, call `.obs_names_make_unique`.\n",
      "  utils.warn_names_duplicates(\"obs\")\n"
     ]
    },
    {
     "name": "stdout",
     "output_type": "stream",
     "text": [
      "adata.raw present\n",
      "Raw matrix data structure: csr\n",
      "Raw matrix max value:157728.0\n",
      "Last 10 raw values: [ 48.  93.  31. 230. 866. 286. 205. 185.  94.  73.]\n",
      "------------------\n",
      "Loading dependencies\n",
      "Loading validator modules\n",
      "\n",
      "Starting validation...\n",
      "Validation complete in 0:00:04.170533 with status is_valid=True\n",
      "------------------\n",
      "\u001b[1m\u001b[92mPASSED\u001b[0m\n",
      "\n",
      "\u001b[1m\u001b[38;5;10mSUCCESS\u001b[0m\n",
      "\n",
      "Created new Dataset 33946b0b-e87a-4695-a848-20c9523e938b in the Collection at https://cellxgene.dev.single-cell.czi.technology/collections/aec7f284-3cce-48f2-b256-af685dd40a38\n",
      "\n",
      "\u001b[1m\u001b[38;5;9mFAILED\u001b[0m\n",
      "\n",
      "Gateway Time-out\n",
      "\n",
      "<!DOCTYPE HTML PUBLIC \"-//W3C//DTD HTML 4.01 Transitional//EN\" \"http://www.w3.org/TR/html4/loose.dtd\">\n",
      "<HTML><HEAD><META HTTP-EQUIV=\"Content-Type\" CONTENT=\"text/html; charset=iso-8859-1\">\n",
      "<TITLE>ERROR: The request could not be satisfied</TITLE>\n",
      "</HEAD><BODY>\n",
      "<H1>504 ERROR</H1>\n",
      "<H2>The request could not be satisfied.</H2>\n",
      "<HR noshade size=\"1px\">\n",
      "CloudFront attempted to establish a connection with the origin, but either the attempt failed or the origin closed the connection.\n",
      "We can't connect to the server for this app or website at this time. There might be too much traffic or a configuration error. Try again later, or contact the app or website owner.\n",
      "<BR clear=\"all\">\n",
      "If you provide content to customers through CloudFront, you can find steps to troubleshoot and help prevent this error by reviewing the CloudFront documentation.\n",
      "<BR clear=\"all\">\n",
      "<HR noshade size=\"1px\">\n",
      "<PRE>\n",
      "Generated by cloudfront (CloudFront)\n",
      "Request ID: tonRlG9h_HdlQLkXud_OTZwYXB3GxZEquf1zS617pM6dt68VuJRuYQ==\n",
      "</PRE>\n",
      "<ADDRESS>\n",
      "</ADDRESS>\n",
      "</BODY></HTML>\n",
      "\n",
      "x-request-id: None\n"
     ]
    },
    {
     "ename": "HTTPError",
     "evalue": "504 Server Error: Gateway Time-out for url: https://api.cellxgene.dev.single-cell.czi.technology/curation/v1/collections/aec7f284-3cce-48f2-b256-af685dd40a38/s3-upload-credentials",
     "output_type": "error",
     "traceback": [
      "\u001b[0;31m---------------------------------------------------------------------------\u001b[0m",
      "\u001b[0;31mHTTPError\u001b[0m                                 Traceback (most recent call last)",
      "Cell \u001b[0;32mIn[27], line 9\u001b[0m\n\u001b[1;32m      6\u001b[0m adata\u001b[38;5;241m.\u001b[39mobs_names_make_unique()\n\u001b[1;32m      7\u001b[0m adata\u001b[38;5;241m.\u001b[39mvar[\u001b[38;5;124m'\u001b[39m\u001b[38;5;124mfeature_is_filtered\u001b[39m\u001b[38;5;124m'\u001b[39m] \u001b[38;5;241m=\u001b[39m \u001b[38;5;28;01mFalse\u001b[39;00m\n\u001b[0;32m----> 9\u001b[0m \u001b[43msave_and_test\u001b[49m\u001b[43m(\u001b[49m\u001b[43madata\u001b[49m\u001b[43m,\u001b[49m\u001b[43m \u001b[49m\u001b[38;5;124;43m'\u001b[39;49m\u001b[38;5;124;43mTrue\u001b[39;49m\u001b[38;5;124;43m'\u001b[39;49m\u001b[43m)\u001b[49m\n",
      "Cell \u001b[0;32mIn[25], line 33\u001b[0m, in \u001b[0;36msave_and_test\u001b[0;34m(adata, expected)\u001b[0m\n\u001b[1;32m     31\u001b[0m     \u001b[38;5;28mprint\u001b[39m(\u001b[38;5;124m'\u001b[39m\u001b[38;5;130;01m\\033\u001b[39;00m\u001b[38;5;124m[1m\u001b[39m\u001b[38;5;130;01m\\033\u001b[39;00m\u001b[38;5;124m[92mPASSED\u001b[39m\u001b[38;5;130;01m\\033\u001b[39;00m\u001b[38;5;124m[0m\u001b[39m\u001b[38;5;124m'\u001b[39m)\n\u001b[1;32m     32\u001b[0m     \u001b[38;5;28;01mif\u001b[39;00m expected \u001b[38;5;241m==\u001b[39m \u001b[38;5;124m'\u001b[39m\u001b[38;5;124mTrue\u001b[39m\u001b[38;5;124m'\u001b[39m:\n\u001b[0;32m---> 33\u001b[0m         \u001b[43mcxg_upload\u001b[49m\u001b[38;5;241;43m.\u001b[39;49m\u001b[43mupload\u001b[49m\u001b[43m(\u001b[49m\u001b[43mfile\u001b[49m\u001b[43m)\u001b[49m\n\u001b[1;32m     34\u001b[0m os\u001b[38;5;241m.\u001b[39mremove(file)\n",
      "File \u001b[0;32m~/GitClones/Lattice-Data/lattice-tools/cellxgene_resources/cxg_4.0.0_testing/cxg_upload.py:18\u001b[0m, in \u001b[0;36mupload\u001b[0;34m(file)\u001b[0m\n\u001b[1;32m     16\u001b[0m collection_id \u001b[38;5;241m=\u001b[39m \u001b[38;5;124m'\u001b[39m\u001b[38;5;124maec7f284-3cce-48f2-b256-af685dd40a38\u001b[39m\u001b[38;5;124m'\u001b[39m\n\u001b[1;32m     17\u001b[0m d \u001b[38;5;241m=\u001b[39m create_dataset(collection_id)\n\u001b[0;32m---> 18\u001b[0m \u001b[43mupload_local_datafile\u001b[49m\u001b[43m(\u001b[49m\u001b[43mfile\u001b[49m\u001b[43m,\u001b[49m\u001b[43m \u001b[49m\u001b[43mcollection_id\u001b[49m\u001b[43m,\u001b[49m\u001b[43m \u001b[49m\u001b[43md\u001b[49m\u001b[43m)\u001b[49m\n",
      "File \u001b[0;32m~/GitClones/CZI/single-cell-curation/notebooks/curation_api/python/src/dataset.py:255\u001b[0m, in \u001b[0;36mupload_local_datafile\u001b[0;34m(datafile_path, collection_id, dataset_id)\u001b[0m\n\u001b[1;32m    248\u001b[0m                 \u001b[38;5;28mprint\u001b[39m(\n\u001b[1;32m    249\u001b[0m                     \u001b[38;5;124mf\u001b[39m\u001b[38;5;124m\"\u001b[39m\u001b[38;5;132;01m{\u001b[39;00mcollection_id\u001b[38;5;132;01m}\u001b[39;00m\u001b[38;5;124m/\u001b[39m\u001b[38;5;132;01m{\u001b[39;00mdataset_id\u001b[38;5;132;01m}\u001b[39;00m\u001b[38;5;124m: \u001b[39m\u001b[38;5;124m\"\u001b[39m \u001b[38;5;124mf\u001b[39m\u001b[38;5;124m\"\u001b[39m\u001b[38;5;130;01m\\033\u001b[39;00m\u001b[38;5;124m[1m\u001b[39m\u001b[38;5;132;01m{\u001b[39;00mcolor\u001b[38;5;132;01m}\u001b[39;00m\u001b[38;5;132;01m{\u001b[39;00mpercent_of_total_upload\u001b[38;5;132;01m}\u001b[39;00m\u001b[38;5;124m% uploaded\u001b[39m\u001b[38;5;130;01m\\033\u001b[39;00m\u001b[38;5;124m[0m\u001b[39m\u001b[38;5;130;01m\\r\u001b[39;00m\u001b[38;5;124m\"\u001b[39m,\n\u001b[1;32m    250\u001b[0m                     end\u001b[38;5;241m=\u001b[39m\u001b[38;5;124m\"\u001b[39m\u001b[38;5;124m\"\u001b[39m,\n\u001b[1;32m    251\u001b[0m                 )\n\u001b[1;32m    253\u001b[0m     \u001b[38;5;28;01mreturn\u001b[39;00m progress_cb\n\u001b[0;32m--> 255\u001b[0m credentials_and_path \u001b[38;5;241m=\u001b[39m \u001b[43mretrieve_s3_credentials_and_upload_key_prefix\u001b[49m\u001b[43m(\u001b[49m\u001b[43m)\u001b[49m\n\u001b[1;32m    256\u001b[0m bucket, key_prefix \u001b[38;5;241m=\u001b[39m credentials_and_path[\u001b[38;5;124m\"\u001b[39m\u001b[38;5;124mBucket\u001b[39m\u001b[38;5;124m\"\u001b[39m], credentials_and_path[\u001b[38;5;124m\"\u001b[39m\u001b[38;5;124mUploadKeyPrefix\u001b[39m\u001b[38;5;124m\"\u001b[39m]\n\u001b[1;32m    257\u001b[0m upload_key \u001b[38;5;241m=\u001b[39m key_prefix \u001b[38;5;241m+\u001b[39m dataset_id\n",
      "File \u001b[0;32m~/GitClones/CZI/single-cell-curation/notebooks/curation_api/python/src/dataset.py:207\u001b[0m, in \u001b[0;36mupload_local_datafile.<locals>.retrieve_s3_credentials_and_upload_key_prefix\u001b[0;34m()\u001b[0m\n\u001b[1;32m    205\u001b[0m \u001b[38;5;28;01mexcept\u001b[39;00m requests\u001b[38;5;241m.\u001b[39mHTTPError \u001b[38;5;28;01mas\u001b[39;00m e:\n\u001b[1;32m    206\u001b[0m     failure(logger, e)\n\u001b[0;32m--> 207\u001b[0m     \u001b[38;5;28;01mraise\u001b[39;00m e\n\u001b[1;32m    208\u001b[0m \u001b[38;5;28;01mreturn\u001b[39;00m res\u001b[38;5;241m.\u001b[39mjson()\n",
      "File \u001b[0;32m~/GitClones/CZI/single-cell-curation/notebooks/curation_api/python/src/dataset.py:204\u001b[0m, in \u001b[0;36mupload_local_datafile.<locals>.retrieve_s3_credentials_and_upload_key_prefix\u001b[0;34m()\u001b[0m\n\u001b[1;32m    202\u001b[0m \u001b[38;5;28;01mtry\u001b[39;00m:\n\u001b[1;32m    203\u001b[0m     res \u001b[38;5;241m=\u001b[39m requests\u001b[38;5;241m.\u001b[39mget(url, headers\u001b[38;5;241m=\u001b[39mheaders)\n\u001b[0;32m--> 204\u001b[0m     \u001b[43mres\u001b[49m\u001b[38;5;241;43m.\u001b[39;49m\u001b[43mraise_for_status\u001b[49m\u001b[43m(\u001b[49m\u001b[43m)\u001b[49m\n\u001b[1;32m    205\u001b[0m \u001b[38;5;28;01mexcept\u001b[39;00m requests\u001b[38;5;241m.\u001b[39mHTTPError \u001b[38;5;28;01mas\u001b[39;00m e:\n\u001b[1;32m    206\u001b[0m     failure(logger, e)\n",
      "File \u001b[0;32m/opt/anaconda3/envs/lattice/lib/python3.9/site-packages/requests/models.py:1021\u001b[0m, in \u001b[0;36mResponse.raise_for_status\u001b[0;34m(self)\u001b[0m\n\u001b[1;32m   1016\u001b[0m     http_error_msg \u001b[38;5;241m=\u001b[39m (\n\u001b[1;32m   1017\u001b[0m         \u001b[38;5;124mf\u001b[39m\u001b[38;5;124m\"\u001b[39m\u001b[38;5;132;01m{\u001b[39;00m\u001b[38;5;28mself\u001b[39m\u001b[38;5;241m.\u001b[39mstatus_code\u001b[38;5;132;01m}\u001b[39;00m\u001b[38;5;124m Server Error: \u001b[39m\u001b[38;5;132;01m{\u001b[39;00mreason\u001b[38;5;132;01m}\u001b[39;00m\u001b[38;5;124m for url: \u001b[39m\u001b[38;5;132;01m{\u001b[39;00m\u001b[38;5;28mself\u001b[39m\u001b[38;5;241m.\u001b[39murl\u001b[38;5;132;01m}\u001b[39;00m\u001b[38;5;124m\"\u001b[39m\n\u001b[1;32m   1018\u001b[0m     )\n\u001b[1;32m   1020\u001b[0m \u001b[38;5;28;01mif\u001b[39;00m http_error_msg:\n\u001b[0;32m-> 1021\u001b[0m     \u001b[38;5;28;01mraise\u001b[39;00m HTTPError(http_error_msg, response\u001b[38;5;241m=\u001b[39m\u001b[38;5;28mself\u001b[39m)\n",
      "\u001b[0;31mHTTPError\u001b[0m: 504 Server Error: Gateway Time-out for url: https://api.cellxgene.dev.single-cell.czi.technology/curation/v1/collections/aec7f284-3cce-48f2-b256-af685dd40a38/s3-upload-credentials"
     ]
    }
   ],
   "source": [
    "# Create a larger object with csr matrix\n",
    "adata = sc.read_h5ad('../valid.h5ad')\n",
    "adata.uns['title'] = '382 larger object with csr matrix'\n",
    "\n",
    "adata = ad.concat([adata, adata, adata, adata, adata, adata], uns_merge='first')\n",
    "adata.obs_names_make_unique()\n",
    "adata.var['feature_is_filtered'] = False\n",
    "\n",
    "save_and_test(adata, 'True')"
   ]
  },
  {
   "cell_type": "code",
   "execution_count": 19,
   "id": "5928e6a6-0292-46e4-aa18-bca5f546dc8d",
   "metadata": {},
   "outputs": [
    {
     "name": "stderr",
     "output_type": "stream",
     "text": [
      "/opt/anaconda3/envs/lattice/lib/python3.9/site-packages/anndata/_core/anndata.py:1828: UserWarning: Observation names are not unique. To make them unique, call `.obs_names_make_unique`.\n",
      "  utils.warn_names_duplicates(\"obs\")\n"
     ]
    },
    {
     "name": "stdout",
     "output_type": "stream",
     "text": [
      "adata.raw present\n",
      "Raw matrix data structure: csc\n",
      "Raw matrix max value:157728.0\n",
      "Last 10 raw values: [  3.  10.   1.  37.   2.  94.  30.  43.  11. 123.]\n",
      "------------------\n",
      "Loading dependencies\n",
      "Loading validator modules\n",
      "\n",
      "Starting validation...\n",
      "Matrices are in CSC format; loading entire dataset into memory.\n",
      "WARNING: Sparsity of 'X' is 0.6653779298622293 which is greater than 0.5, and it is not a 'scipy.sparse.csr_matrix'. It is STRONGLY RECOMMENDED to use this type of matrix for the given sparsity.\n",
      "WARNING: Sparsity of 'raw.X' is 0.6653779298622293 which is greater than 0.5, and it is not a 'scipy.sparse.csr_matrix'. It is STRONGLY RECOMMENDED to use this type of matrix for the given sparsity.\n",
      "Validation complete in 0:00:03.796028 with status is_valid=True\n",
      "------------------\n",
      "\u001b[1m\u001b[92mPASSED\u001b[0m\n"
     ]
    }
   ],
   "source": [
    "# Create a larger object with csc matrix\n",
    "adata = sc.read_h5ad('../valid.h5ad')\n",
    "adata.uns['title'] = '382 larger object with csc matrix'\n",
    "\n",
    "adata = ad.concat([adata, adata, adata, adata, adata, adata], uns_merge='first')\n",
    "adata.obs_names_make_unique()\n",
    "adata.var['feature_is_filtered'] = False\n",
    "\n",
    "raw = ad.AnnData(X=sparse.csc_matrix(adata.raw.X), obs=adata.obs, var=adata.raw.var)\n",
    "adata.X = sparse.csc_matrix(adata.X)\n",
    "adata.raw = raw\n",
    "save_and_test(adata, 'True')"
   ]
  },
  {
   "cell_type": "code",
   "execution_count": 20,
   "id": "52898130-1a00-4ca4-9218-4ae2b91ca646",
   "metadata": {},
   "outputs": [
    {
     "name": "stderr",
     "output_type": "stream",
     "text": [
      "/opt/anaconda3/envs/lattice/lib/python3.9/site-packages/anndata/_core/anndata.py:1828: UserWarning: Observation names are not unique. To make them unique, call `.obs_names_make_unique`.\n",
      "  utils.warn_names_duplicates(\"obs\")\n"
     ]
    },
    {
     "name": "stdout",
     "output_type": "stream",
     "text": [
      "adata.raw present\n",
      "Raw matrix data structure: numpy array\n",
      "Raw matrix max value:157728.0\n",
      "Last 10 raw values: [  0.   0.   0. 185.   0.   0.  94.  73.   0.   0.]\n",
      "------------------\n",
      "Loading dependencies\n",
      "Loading validator modules\n",
      "\n",
      "Starting validation...\n",
      "WARNING: Sparsity of 'X' is 0.6653779298622293 which is greater than 0.5, and it is not a 'scipy.sparse.csr_matrix'. It is STRONGLY RECOMMENDED to use this type of matrix for the given sparsity.\n",
      "WARNING: Sparsity of 'raw.X' is 0.6653779298622293 which is greater than 0.5, and it is not a 'scipy.sparse.csr_matrix'. It is STRONGLY RECOMMENDED to use this type of matrix for the given sparsity.\n",
      "Validation complete in 0:00:06.525588 with status is_valid=True\n",
      "------------------\n",
      "\u001b[1m\u001b[92mPASSED\u001b[0m\n"
     ]
    }
   ],
   "source": [
    "# Create a larger object with dense matrix\n",
    "adata = sc.read_h5ad('../valid.h5ad')\n",
    "adata.uns['title'] = '382 larger object with dense matrix'\n",
    "\n",
    "adata = ad.concat([adata, adata, adata, adata, adata, adata], uns_merge='first')\n",
    "adata.obs_names_make_unique()\n",
    "adata.var['feature_is_filtered'] = False\n",
    "\n",
    "raw = ad.AnnData(X=adata.raw.X.toarray(), obs=adata.obs, var=adata.raw.var)\n",
    "adata.X = adata.X.toarray()\n",
    "adata.raw = raw\n",
    "save_and_test(adata, 'True')"
   ]
  },
  {
   "cell_type": "markdown",
   "id": "0afbc690-9ec5-43d7-9e39-3bb3d45970e9",
   "metadata": {},
   "source": [
    "## Add float to > 10000th cell (adata.raw.X: csr, csc, and dense matrix), should not pass validation"
   ]
  },
  {
   "cell_type": "code",
   "execution_count": 9,
   "id": "dabd5f9c-f6ea-45cc-b4b7-168227c62044",
   "metadata": {},
   "outputs": [
    {
     "name": "stderr",
     "output_type": "stream",
     "text": [
      "/opt/anaconda3/envs/cxg4testing/lib/python3.9/site-packages/anndata/_core/anndata.py:1828: UserWarning: Observation names are not unique. To make them unique, call `.obs_names_make_unique`.\n",
      "  utils.warn_names_duplicates(\"obs\")\n"
     ]
    },
    {
     "name": "stdout",
     "output_type": "stream",
     "text": [
      "adata.raw present\n",
      "Raw matrix data structure: csr\n",
      "Raw matrix max value:157728.0\n",
      "Last 10 raw values: [ 48.3  93.3  31.3 230.3 866.3 286.3 205.3 185.3  94.3  73.3]\n",
      "------------------\n",
      "Loading dependencies\n",
      "Loading validator modules\n",
      "\n",
      "Starting validation...\n",
      "ERROR: Raw data may be missing: data in 'raw.X' contains non-integer values.\n",
      "Validation complete in 0:00:04.439690 with status is_valid=False\n",
      "------------------\n",
      "\u001b[1m\u001b[92mPASSED\u001b[0m\n"
     ]
    }
   ],
   "source": [
    "# Create a larger object\n",
    "adata = sc.read_h5ad('../valid.h5ad')\n",
    "adata = ad.concat([adata, adata, adata, adata, adata, adata], uns_merge='first')\n",
    "adata.obs_names_make_unique()\n",
    "adata.var['feature_is_filtered'] = False\n",
    "\n",
    "# Modify last 10 expression values into float for csr matrix in adata.raw.X\n",
    "l = len(adata.raw.X.data)\n",
    "adata.raw.X.data[l-10:l] = adata.raw.X.data[l-10:l] + 0.3\n",
    "save_and_test(adata, 'False')"
   ]
  },
  {
   "cell_type": "code",
   "execution_count": 10,
   "id": "87c7542c-05bd-485d-8bb0-f28b50d569d5",
   "metadata": {},
   "outputs": [
    {
     "name": "stderr",
     "output_type": "stream",
     "text": [
      "/opt/anaconda3/envs/cxg4testing/lib/python3.9/site-packages/anndata/_core/anndata.py:1828: UserWarning: Observation names are not unique. To make them unique, call `.obs_names_make_unique`.\n",
      "  utils.warn_names_duplicates(\"obs\")\n"
     ]
    },
    {
     "name": "stdout",
     "output_type": "stream",
     "text": [
      "adata.raw present\n",
      "Raw matrix data structure: csc\n",
      "Raw matrix max value:157728.0\n",
      "Last 10 raw values: [  3.3  10.3   1.3  37.3   2.3  94.3  30.3  43.3  11.3 123.3]\n",
      "------------------\n",
      "Loading dependencies\n",
      "Loading validator modules\n",
      "\n",
      "Starting validation...\n",
      "Matrices are in CSC format; loading entire dataset into memory.\n",
      "WARNING: Sparsity of 'raw.X' is 0.6653779298622293 which is greater than 0.5, and it is not a 'scipy.sparse.csr_matrix'. It is STRONGLY RECOMMENDED to use this type of matrix for the given sparsity.\n",
      "ERROR: Raw data may be missing: data in 'raw.X' contains non-integer values.\n",
      "Validation complete in 0:00:04.186302 with status is_valid=False\n",
      "------------------\n",
      "\u001b[1m\u001b[92mPASSED\u001b[0m\n"
     ]
    }
   ],
   "source": [
    "# Create a larger object\n",
    "adata = sc.read_h5ad('../valid.h5ad')\n",
    "adata = ad.concat([adata, adata, adata, adata, adata, adata], uns_merge='first')\n",
    "adata.obs_names_make_unique()\n",
    "adata.var['feature_is_filtered'] = False\n",
    "\n",
    "# Modify last 10 expression values into float for csc matrix in adata.raw.X\n",
    "raw = ad.AnnData(X=sparse.csc_matrix(adata.raw.X), obs=adata.obs, var=adata.raw.var)\n",
    "l = len(adata.raw.X.data)\n",
    "raw.X.data[l-10:l] = raw.X.data[l-10:l] + 0.3\n",
    "adata.raw = raw\n",
    "save_and_test(adata, 'False')"
   ]
  },
  {
   "cell_type": "code",
   "execution_count": 11,
   "id": "0f1bdd70-c8c4-47c5-93a1-5042632ce32a",
   "metadata": {},
   "outputs": [
    {
     "name": "stderr",
     "output_type": "stream",
     "text": [
      "/opt/anaconda3/envs/cxg4testing/lib/python3.9/site-packages/anndata/_core/anndata.py:1828: UserWarning: Observation names are not unique. To make them unique, call `.obs_names_make_unique`.\n",
      "  utils.warn_names_duplicates(\"obs\")\n"
     ]
    },
    {
     "name": "stdout",
     "output_type": "stream",
     "text": [
      "adata.raw present\n",
      "Raw matrix data structure: numpy array\n",
      "Raw matrix max value:157728.0\n",
      "Last 10 raw values: [  0.3   0.3   0.3 185.3   0.3   0.3  94.3  73.3   0.3   0.3]\n",
      "------------------\n",
      "Loading dependencies\n",
      "Loading validator modules\n",
      "\n",
      "Starting validation...\n",
      "WARNING: Sparsity of 'raw.X' is 0.6653779037693088 which is greater than 0.5, and it is not a 'scipy.sparse.csr_matrix'. It is STRONGLY RECOMMENDED to use this type of matrix for the given sparsity.\n",
      "ERROR: Raw data may be missing: data in 'raw.X' contains non-integer values.\n",
      "Validation complete in 0:00:06.424151 with status is_valid=False\n",
      "------------------\n",
      "\u001b[1m\u001b[92mPASSED\u001b[0m\n"
     ]
    }
   ],
   "source": [
    "# Create a larger object\n",
    "adata = sc.read_h5ad('../valid.h5ad')\n",
    "adata = ad.concat([adata, adata, adata, adata, adata, adata], uns_merge='first')\n",
    "adata.obs_names_make_unique()\n",
    "adata.var['feature_is_filtered'] = False\n",
    "\n",
    "# Modify last 10 expression values into float for dense matrix in adata.raw.X\n",
    "raw = ad.AnnData(X=adata.raw.X.toarray(), obs=adata.obs, var=adata.raw.var)\n",
    "s = raw.X.shape\n",
    "raw.X[s[0]-1][s[1]-10:s[1]] = raw.X[s[0]-1][s[1]-10:s[1]] + 0.3\n",
    "adata.raw = raw\n",
    "save_and_test(adata, 'False')"
   ]
  },
  {
   "cell_type": "markdown",
   "id": "3f1174ff-79cd-4ff8-82c1-28b167750225",
   "metadata": {},
   "source": [
    "## Add float to > 10000th cell (adata.X: csr, csc, and dense matrix), should not pass validation"
   ]
  },
  {
   "cell_type": "code",
   "execution_count": 12,
   "id": "a2f8d4a7-5470-46be-8f4c-2cdfc59a9c29",
   "metadata": {},
   "outputs": [
    {
     "name": "stderr",
     "output_type": "stream",
     "text": [
      "/opt/anaconda3/envs/cxg4testing/lib/python3.9/site-packages/anndata/_core/anndata.py:1828: UserWarning: Observation names are not unique. To make them unique, call `.obs_names_make_unique`.\n",
      "  utils.warn_names_duplicates(\"obs\")\n"
     ]
    },
    {
     "name": "stdout",
     "output_type": "stream",
     "text": [
      "No adata.raw present\n",
      "Raw matrix data structure: csr\n",
      "Raw matrix max value:157728.0\n",
      "Last 10 raw values: [ 48.3  93.3  31.3 230.3 866.3 286.3 205.3 185.3  94.3  73.3]\n",
      "------------------\n",
      "Loading dependencies\n",
      "Loading validator modules\n",
      "\n",
      "Starting validation...\n",
      "ERROR: Raw data is missing: there is only a normalized matrix in X and no raw.X\n",
      "Validation complete in 0:00:03.885130 with status is_valid=False\n",
      "------------------\n",
      "\u001b[1m\u001b[92mPASSED\u001b[0m\n"
     ]
    }
   ],
   "source": [
    "# Create a larger object\n",
    "adata = sc.read_h5ad('../valid.h5ad')\n",
    "adata = ad.concat([adata, adata, adata, adata, adata, adata], uns_merge='first')\n",
    "adata.obs_names_make_unique()\n",
    "adata.var['feature_is_filtered'] = False\n",
    "\n",
    "# Modify last 10 expression values into float for csr matrix in adata.X\n",
    "l = len(adata.raw.X.data)\n",
    "adata.raw.X.data[l-10:l] = adata.raw.X.data[l-10:l] + 0.3\n",
    "adata.X = adata.raw.X\n",
    "del adata.raw\n",
    "save_and_test(adata, 'False')"
   ]
  },
  {
   "cell_type": "code",
   "execution_count": 13,
   "id": "aaa8d0a9-eda7-4ef0-bf65-2a405f018a19",
   "metadata": {},
   "outputs": [
    {
     "name": "stderr",
     "output_type": "stream",
     "text": [
      "/opt/anaconda3/envs/cxg4testing/lib/python3.9/site-packages/anndata/_core/anndata.py:1828: UserWarning: Observation names are not unique. To make them unique, call `.obs_names_make_unique`.\n",
      "  utils.warn_names_duplicates(\"obs\")\n"
     ]
    },
    {
     "name": "stdout",
     "output_type": "stream",
     "text": [
      "No adata.raw present\n",
      "Raw matrix data structure: csc\n",
      "Raw matrix max value:157728.0\n",
      "Last 10 raw values: [  3.3  10.3   1.3  37.3   2.3  94.3  30.3  43.3  11.3 123.3]\n",
      "------------------\n",
      "Loading dependencies\n",
      "Loading validator modules\n",
      "\n",
      "Starting validation...\n",
      "Matrices are in CSC format; loading entire dataset into memory.\n",
      "WARNING: Sparsity of 'X' is 0.6653779298622293 which is greater than 0.5, and it is not a 'scipy.sparse.csr_matrix'. It is STRONGLY RECOMMENDED to use this type of matrix for the given sparsity.\n",
      "ERROR: Raw data is missing: there is only a normalized matrix in X and no raw.X\n",
      "Validation complete in 0:00:03.459428 with status is_valid=False\n",
      "------------------\n",
      "\u001b[1m\u001b[92mPASSED\u001b[0m\n"
     ]
    }
   ],
   "source": [
    "# Create a larger object\n",
    "adata = sc.read_h5ad('../valid.h5ad')\n",
    "adata = ad.concat([adata, adata, adata, adata, adata, adata], uns_merge='first')\n",
    "adata.obs_names_make_unique()\n",
    "adata.var['feature_is_filtered'] = False\n",
    "\n",
    "# Modify last 10 expression values into float for csc matrix in adata.X\n",
    "raw = ad.AnnData(X=sparse.csc_matrix(adata.raw.X), obs=adata.obs, var=adata.raw.var)\n",
    "l = len(adata.raw.X.data)\n",
    "raw.X.data[l-10:l] = raw.X.data[l-10:l] + 0.3\n",
    "adata.X = raw.X\n",
    "del adata.raw\n",
    "save_and_test(adata, 'False')"
   ]
  },
  {
   "cell_type": "code",
   "execution_count": 14,
   "id": "706eaaa6-20fb-411c-a540-c8510e1dd44a",
   "metadata": {},
   "outputs": [
    {
     "name": "stderr",
     "output_type": "stream",
     "text": [
      "/opt/anaconda3/envs/cxg4testing/lib/python3.9/site-packages/anndata/_core/anndata.py:1828: UserWarning: Observation names are not unique. To make them unique, call `.obs_names_make_unique`.\n",
      "  utils.warn_names_duplicates(\"obs\")\n"
     ]
    },
    {
     "name": "stdout",
     "output_type": "stream",
     "text": [
      "No adata.raw present\n",
      "Raw matrix data structure: numpy array\n",
      "Raw matrix max value:157728.0\n",
      "Last 10 raw values: [  0.3   0.3   0.3 185.3   0.3   0.3  94.3  73.3   0.3   0.3]\n",
      "------------------\n",
      "Loading dependencies\n",
      "Loading validator modules\n",
      "\n",
      "Starting validation...\n",
      "WARNING: Sparsity of 'X' is 0.6653779037693088 which is greater than 0.5, and it is not a 'scipy.sparse.csr_matrix'. It is STRONGLY RECOMMENDED to use this type of matrix for the given sparsity.\n",
      "ERROR: Raw data is missing: there is only a normalized matrix in X and no raw.X\n",
      "Validation complete in 0:00:06.266844 with status is_valid=False\n",
      "------------------\n",
      "\u001b[1m\u001b[92mPASSED\u001b[0m\n"
     ]
    }
   ],
   "source": [
    "# Create a larger object\n",
    "adata = sc.read_h5ad('../valid.h5ad')\n",
    "adata = ad.concat([adata, adata, adata, adata, adata, adata], uns_merge='first')\n",
    "adata.obs_names_make_unique()\n",
    "adata.var['feature_is_filtered'] = False\n",
    "\n",
    "# Modify last 10 expression values into float for dense matrix in adata.X\n",
    "raw = ad.AnnData(X=adata.raw.X.toarray(), obs=adata.obs, var=adata.raw.var)\n",
    "s = raw.X.shape\n",
    "raw.X[s[0]-1][s[1]-10:s[1]] = raw.X[s[0]-1][s[1]-10:s[1]] + 0.3\n",
    "adata.X = raw.X\n",
    "del adata.raw\n",
    "save_and_test(adata, 'False')"
   ]
  }
 ],
 "metadata": {
  "kernelspec": {
   "display_name": "Python 3 (ipykernel)",
   "language": "python",
   "name": "python3"
  },
  "language_info": {
   "codemirror_mode": {
    "name": "ipython",
    "version": 3
   },
   "file_extension": ".py",
   "mimetype": "text/x-python",
   "name": "python",
   "nbconvert_exporter": "python",
   "pygments_lexer": "ipython3",
   "version": "3.9.18"
  }
 },
 "nbformat": 4,
 "nbformat_minor": 5
}
