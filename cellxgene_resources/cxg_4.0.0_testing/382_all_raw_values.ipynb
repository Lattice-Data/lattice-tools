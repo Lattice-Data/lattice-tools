{
 "cells": [
  {
   "cell_type": "markdown",
   "id": "d70656a7-c1f6-48d5-a28f-82db6d35cc99",
   "metadata": {},
   "source": [
    "https://github.com/chanzuckerberg/single-cell-curation/issues/382"
   ]
  },
  {
   "cell_type": "code",
   "execution_count": 1,
   "id": "44de289e-348d-421a-82cd-63e48e5817bf",
   "metadata": {},
   "outputs": [],
   "source": [
    "import numpy as np\n",
    "import os\n",
    "import scanpy as sc\n",
    "import subprocess\n",
    "import anndata as ad\n",
    "from scipy import sparse"
   ]
  },
  {
   "cell_type": "code",
   "execution_count": 2,
   "id": "6cd1680c",
   "metadata": {},
   "outputs": [],
   "source": [
    "def validate(file):\n",
    "    validate_process = subprocess.run(['cellxgene-schema', 'validate', file], stdout=subprocess.PIPE, stderr=subprocess.PIPE)\n",
    "    for line in validate_process.stdout.decode('utf-8').split('\\n'):\n",
    "        print(line)\n",
    "    for line in validate_process.stderr.decode('utf-8').split('\\n'):\n",
    "        print(line)\n",
    "        if 'is_valid=' in line:\n",
    "            valid = line.split('=')[-1]\n",
    "            return valid"
   ]
  },
  {
   "cell_type": "code",
   "execution_count": 3,
   "id": "bfafa028-c441-46ed-b455-593279cfa5df",
   "metadata": {},
   "outputs": [],
   "source": [
    "def last_values(x):\n",
    "    if sparse.issparse(x):\n",
    "        l = len(x.data)\n",
    "        return(x.data[l-10:l])\n",
    "    else:\n",
    "        s = x.shape\n",
    "        return(x[s[0]-1][s[1]-10:s[1]])"
   ]
  },
  {
   "cell_type": "code",
   "execution_count": 4,
   "id": "43388be8-52fe-4193-ae78-09f87708f20d",
   "metadata": {},
   "outputs": [],
   "source": [
    "def get_format(x):\n",
    "    if sparse.issparse(x):\n",
    "        return(x.getformat())\n",
    "    elif isinstance(x, np.ndarray):\n",
    "        return(\"numpy array\")"
   ]
  },
  {
   "cell_type": "code",
   "execution_count": 5,
   "id": "56eca710-ad1e-446f-a2be-5a703cb85476",
   "metadata": {},
   "outputs": [],
   "source": [
    "def save_and_test(adata, expected):\n",
    "    adata.write(filename='test.h5ad')    \n",
    "    adata = sc.read_h5ad('test.h5ad')\n",
    "    \n",
    "    if adata.raw:\n",
    "        print(\"adata.raw present\")\n",
    "        print(\"Raw matrix data structure: {}\".format(get_format(adata.raw.X)))\n",
    "        print(\"Raw matrix max value:{}\".format(adata.raw.X.max()))\n",
    "        last_values_list = last_values(adata.raw.X)\n",
    "        print(\"Last 10 raw values: {}\".format(last_values_list))\n",
    "    else:\n",
    "        print(\"No adata.raw present\")\n",
    "        print(\"Raw matrix data structure: {}\".format(get_format(adata.X)))\n",
    "        print(\"Raw matrix max value:{}\".format(adata.X.max()))\n",
    "        last_values_list = last_values(adata.X)\n",
    "        print(\"Last 10 raw values: {}\".format(last_values_list))\n",
    "    print('------------------')\n",
    "\n",
    "    valid = validate('test.h5ad')\n",
    "    print('------------------')\n",
    "    \n",
    "\n",
    "    if expected != valid:\n",
    "        print('\\033[1m\\033[91mERROR\\033[0m')\n",
    "    else:\n",
    "        print('\\033[1m\\033[92mPASSED\\033[0m')\n",
    "    os.remove('test.h5ad')"
   ]
  },
  {
   "cell_type": "markdown",
   "id": "207129fb-eb50-4471-b79f-0c764c573c04",
   "metadata": {},
   "source": [
    "## Test Valid Cases"
   ]
  },
  {
   "cell_type": "code",
   "execution_count": 6,
   "id": "bc2881b6-e1e1-47d3-92ed-0a17c04da6fc",
   "metadata": {},
   "outputs": [
    {
     "name": "stderr",
     "output_type": "stream",
     "text": [
      "/opt/anaconda3/envs/cxg4testing/lib/python3.9/site-packages/anndata/_core/anndata.py:1828: UserWarning: Observation names are not unique. To make them unique, call `.obs_names_make_unique`.\n",
      "  utils.warn_names_duplicates(\"obs\")\n"
     ]
    },
    {
     "name": "stdout",
     "output_type": "stream",
     "text": [
      "adata.raw present\n",
      "Raw matrix data structure: csr\n",
      "Raw matrix max value:157728.0\n",
      "Last 10 raw values: [ 48.  93.  31. 230. 866. 286. 205. 185.  94.  73.]\n",
      "------------------\n",
      "Loading dependencies\n",
      "Loading validator modules\n",
      "\n",
      "Starting validation...\n",
      "Validation complete in 0:00:04.651533 with status is_valid=True\n",
      "------------------\n",
      "\u001b[1m\u001b[92mPASSED\u001b[0m\n"
     ]
    }
   ],
   "source": [
    "# Create a larger object with csr matrix\n",
    "adata = sc.read_h5ad('../valid.h5ad')\n",
    "adata = ad.concat([adata, adata, adata, adata, adata, adata], uns_merge='first')\n",
    "adata.obs_names_make_unique()\n",
    "adata.var['feature_is_filtered'] = False\n",
    "\n",
    "save_and_test(adata, 'True')"
   ]
  },
  {
   "cell_type": "code",
   "execution_count": 7,
   "id": "5928e6a6-0292-46e4-aa18-bca5f546dc8d",
   "metadata": {},
   "outputs": [
    {
     "name": "stderr",
     "output_type": "stream",
     "text": [
      "/opt/anaconda3/envs/cxg4testing/lib/python3.9/site-packages/anndata/_core/anndata.py:1828: UserWarning: Observation names are not unique. To make them unique, call `.obs_names_make_unique`.\n",
      "  utils.warn_names_duplicates(\"obs\")\n"
     ]
    },
    {
     "name": "stdout",
     "output_type": "stream",
     "text": [
      "adata.raw present\n",
      "Raw matrix data structure: csc\n",
      "Raw matrix max value:157728.0\n",
      "Last 10 raw values: [  3.  10.   1.  37.   2.  94.  30.  43.  11. 123.]\n",
      "------------------\n",
      "Loading dependencies\n",
      "Loading validator modules\n",
      "\n",
      "Starting validation...\n",
      "Matrices are in CSC format; loading entire dataset into memory.\n",
      "WARNING: Sparsity of 'X' is 0.6653779298622293 which is greater than 0.5, and it is not a 'scipy.sparse.csr_matrix'. It is STRONGLY RECOMMENDED to use this type of matrix for the given sparsity.\n",
      "WARNING: Sparsity of 'raw.X' is 0.6653779298622293 which is greater than 0.5, and it is not a 'scipy.sparse.csr_matrix'. It is STRONGLY RECOMMENDED to use this type of matrix for the given sparsity.\n",
      "Validation complete in 0:00:04.173522 with status is_valid=True\n",
      "------------------\n",
      "\u001b[1m\u001b[92mPASSED\u001b[0m\n"
     ]
    }
   ],
   "source": [
    "# Create a larger object with csc matrix\n",
    "adata = sc.read_h5ad('../valid.h5ad')\n",
    "adata = ad.concat([adata, adata, adata, adata, adata, adata], uns_merge='first')\n",
    "adata.obs_names_make_unique()\n",
    "adata.var['feature_is_filtered'] = False\n",
    "\n",
    "raw = ad.AnnData(X=sparse.csc_matrix(adata.raw.X), obs=adata.obs, var=adata.raw.var)\n",
    "adata.X = sparse.csc_matrix(adata.X)\n",
    "adata.raw = raw\n",
    "save_and_test(adata, 'True')"
   ]
  },
  {
   "cell_type": "code",
   "execution_count": 8,
   "id": "52898130-1a00-4ca4-9218-4ae2b91ca646",
   "metadata": {},
   "outputs": [
    {
     "name": "stderr",
     "output_type": "stream",
     "text": [
      "/opt/anaconda3/envs/cxg4testing/lib/python3.9/site-packages/anndata/_core/anndata.py:1828: UserWarning: Observation names are not unique. To make them unique, call `.obs_names_make_unique`.\n",
      "  utils.warn_names_duplicates(\"obs\")\n"
     ]
    },
    {
     "name": "stdout",
     "output_type": "stream",
     "text": [
      "adata.raw present\n",
      "Raw matrix data structure: numpy array\n",
      "Raw matrix max value:157728.0\n",
      "Last 10 raw values: [  0.   0.   0. 185.   0.   0.  94.  73.   0.   0.]\n",
      "------------------\n",
      "Loading dependencies\n",
      "Loading validator modules\n",
      "\n",
      "Starting validation...\n",
      "WARNING: Sparsity of 'X' is 0.6653779298622293 which is greater than 0.5, and it is not a 'scipy.sparse.csr_matrix'. It is STRONGLY RECOMMENDED to use this type of matrix for the given sparsity.\n",
      "WARNING: Sparsity of 'raw.X' is 0.6653779298622293 which is greater than 0.5, and it is not a 'scipy.sparse.csr_matrix'. It is STRONGLY RECOMMENDED to use this type of matrix for the given sparsity.\n",
      "Validation complete in 0:00:06.866454 with status is_valid=True\n",
      "------------------\n",
      "\u001b[1m\u001b[92mPASSED\u001b[0m\n"
     ]
    }
   ],
   "source": [
    "# Create a larger object with dense matrix\n",
    "adata = sc.read_h5ad('../valid.h5ad')\n",
    "adata = ad.concat([adata, adata, adata, adata, adata, adata], uns_merge='first')\n",
    "adata.obs_names_make_unique()\n",
    "adata.var['feature_is_filtered'] = False\n",
    "\n",
    "raw = ad.AnnData(X=adata.raw.X.toarray(), obs=adata.obs, var=adata.raw.var)\n",
    "adata.X = adata.X.toarray()\n",
    "adata.raw = raw\n",
    "save_and_test(adata, 'True')"
   ]
  },
  {
   "cell_type": "markdown",
   "id": "0afbc690-9ec5-43d7-9e39-3bb3d45970e9",
   "metadata": {},
   "source": [
    "## Add float to > 10000th cell (adata.raw.X: csr, csc, and dense matrix), should not pass validation"
   ]
  },
  {
   "cell_type": "code",
   "execution_count": 9,
   "id": "dabd5f9c-f6ea-45cc-b4b7-168227c62044",
   "metadata": {},
   "outputs": [
    {
     "name": "stderr",
     "output_type": "stream",
     "text": [
      "/opt/anaconda3/envs/cxg4testing/lib/python3.9/site-packages/anndata/_core/anndata.py:1828: UserWarning: Observation names are not unique. To make them unique, call `.obs_names_make_unique`.\n",
      "  utils.warn_names_duplicates(\"obs\")\n"
     ]
    },
    {
     "name": "stdout",
     "output_type": "stream",
     "text": [
      "adata.raw present\n",
      "Raw matrix data structure: csr\n",
      "Raw matrix max value:157728.0\n",
      "Last 10 raw values: [ 48.3  93.3  31.3 230.3 866.3 286.3 205.3 185.3  94.3  73.3]\n",
      "------------------\n",
      "Loading dependencies\n",
      "Loading validator modules\n",
      "\n",
      "Starting validation...\n",
      "ERROR: Raw data may be missing: data in 'raw.X' contains non-integer values.\n",
      "Validation complete in 0:00:04.439690 with status is_valid=False\n",
      "------------------\n",
      "\u001b[1m\u001b[92mPASSED\u001b[0m\n"
     ]
    }
   ],
   "source": [
    "# Create a larger object\n",
    "adata = sc.read_h5ad('../valid.h5ad')\n",
    "adata = ad.concat([adata, adata, adata, adata, adata, adata], uns_merge='first')\n",
    "adata.obs_names_make_unique()\n",
    "adata.var['feature_is_filtered'] = False\n",
    "\n",
    "# Modify last 10 expression values into float for csr matrix in adata.raw.X\n",
    "l = len(adata.raw.X.data)\n",
    "adata.raw.X.data[l-10:l] = adata.raw.X.data[l-10:l] + 0.3\n",
    "save_and_test(adata, 'False')"
   ]
  },
  {
   "cell_type": "code",
   "execution_count": 10,
   "id": "87c7542c-05bd-485d-8bb0-f28b50d569d5",
   "metadata": {},
   "outputs": [
    {
     "name": "stderr",
     "output_type": "stream",
     "text": [
      "/opt/anaconda3/envs/cxg4testing/lib/python3.9/site-packages/anndata/_core/anndata.py:1828: UserWarning: Observation names are not unique. To make them unique, call `.obs_names_make_unique`.\n",
      "  utils.warn_names_duplicates(\"obs\")\n"
     ]
    },
    {
     "name": "stdout",
     "output_type": "stream",
     "text": [
      "adata.raw present\n",
      "Raw matrix data structure: csc\n",
      "Raw matrix max value:157728.0\n",
      "Last 10 raw values: [  3.3  10.3   1.3  37.3   2.3  94.3  30.3  43.3  11.3 123.3]\n",
      "------------------\n",
      "Loading dependencies\n",
      "Loading validator modules\n",
      "\n",
      "Starting validation...\n",
      "Matrices are in CSC format; loading entire dataset into memory.\n",
      "WARNING: Sparsity of 'raw.X' is 0.6653779298622293 which is greater than 0.5, and it is not a 'scipy.sparse.csr_matrix'. It is STRONGLY RECOMMENDED to use this type of matrix for the given sparsity.\n",
      "ERROR: Raw data may be missing: data in 'raw.X' contains non-integer values.\n",
      "Validation complete in 0:00:04.186302 with status is_valid=False\n",
      "------------------\n",
      "\u001b[1m\u001b[92mPASSED\u001b[0m\n"
     ]
    }
   ],
   "source": [
    "# Create a larger object\n",
    "adata = sc.read_h5ad('../valid.h5ad')\n",
    "adata = ad.concat([adata, adata, adata, adata, adata, adata], uns_merge='first')\n",
    "adata.obs_names_make_unique()\n",
    "adata.var['feature_is_filtered'] = False\n",
    "\n",
    "# Modify last 10 expression values into float for csc matrix in adata.raw.X\n",
    "raw = ad.AnnData(X=sparse.csc_matrix(adata.raw.X), obs=adata.obs, var=adata.raw.var)\n",
    "l = len(adata.raw.X.data)\n",
    "raw.X.data[l-10:l] = raw.X.data[l-10:l] + 0.3\n",
    "adata.raw = raw\n",
    "save_and_test(adata, 'False')"
   ]
  },
  {
   "cell_type": "code",
   "execution_count": 11,
   "id": "0f1bdd70-c8c4-47c5-93a1-5042632ce32a",
   "metadata": {},
   "outputs": [
    {
     "name": "stderr",
     "output_type": "stream",
     "text": [
      "/opt/anaconda3/envs/cxg4testing/lib/python3.9/site-packages/anndata/_core/anndata.py:1828: UserWarning: Observation names are not unique. To make them unique, call `.obs_names_make_unique`.\n",
      "  utils.warn_names_duplicates(\"obs\")\n"
     ]
    },
    {
     "name": "stdout",
     "output_type": "stream",
     "text": [
      "adata.raw present\n",
      "Raw matrix data structure: numpy array\n",
      "Raw matrix max value:157728.0\n",
      "Last 10 raw values: [  0.3   0.3   0.3 185.3   0.3   0.3  94.3  73.3   0.3   0.3]\n",
      "------------------\n",
      "Loading dependencies\n",
      "Loading validator modules\n",
      "\n",
      "Starting validation...\n",
      "WARNING: Sparsity of 'raw.X' is 0.6653779037693088 which is greater than 0.5, and it is not a 'scipy.sparse.csr_matrix'. It is STRONGLY RECOMMENDED to use this type of matrix for the given sparsity.\n",
      "ERROR: Raw data may be missing: data in 'raw.X' contains non-integer values.\n",
      "Validation complete in 0:00:06.424151 with status is_valid=False\n",
      "------------------\n",
      "\u001b[1m\u001b[92mPASSED\u001b[0m\n"
     ]
    }
   ],
   "source": [
    "# Create a larger object\n",
    "adata = sc.read_h5ad('../valid.h5ad')\n",
    "adata = ad.concat([adata, adata, adata, adata, adata, adata], uns_merge='first')\n",
    "adata.obs_names_make_unique()\n",
    "adata.var['feature_is_filtered'] = False\n",
    "\n",
    "# Modify last 10 expression values into float for dense matrix in adata.raw.X\n",
    "raw = ad.AnnData(X=adata.raw.X.toarray(), obs=adata.obs, var=adata.raw.var)\n",
    "s = raw.X.shape\n",
    "raw.X[s[0]-1][s[1]-10:s[1]] = raw.X[s[0]-1][s[1]-10:s[1]] + 0.3\n",
    "adata.raw = raw\n",
    "save_and_test(adata, 'False')"
   ]
  },
  {
   "cell_type": "markdown",
   "id": "3f1174ff-79cd-4ff8-82c1-28b167750225",
   "metadata": {},
   "source": [
    "## Add float to > 10000th cell (adata.X: csr, csc, and dense matrix), should not pass validation"
   ]
  },
  {
   "cell_type": "code",
   "execution_count": 12,
   "id": "a2f8d4a7-5470-46be-8f4c-2cdfc59a9c29",
   "metadata": {},
   "outputs": [
    {
     "name": "stderr",
     "output_type": "stream",
     "text": [
      "/opt/anaconda3/envs/cxg4testing/lib/python3.9/site-packages/anndata/_core/anndata.py:1828: UserWarning: Observation names are not unique. To make them unique, call `.obs_names_make_unique`.\n",
      "  utils.warn_names_duplicates(\"obs\")\n"
     ]
    },
    {
     "name": "stdout",
     "output_type": "stream",
     "text": [
      "No adata.raw present\n",
      "Raw matrix data structure: csr\n",
      "Raw matrix max value:157728.0\n",
      "Last 10 raw values: [ 48.3  93.3  31.3 230.3 866.3 286.3 205.3 185.3  94.3  73.3]\n",
      "------------------\n",
      "Loading dependencies\n",
      "Loading validator modules\n",
      "\n",
      "Starting validation...\n",
      "ERROR: Raw data is missing: there is only a normalized matrix in X and no raw.X\n",
      "Validation complete in 0:00:03.885130 with status is_valid=False\n",
      "------------------\n",
      "\u001b[1m\u001b[92mPASSED\u001b[0m\n"
     ]
    }
   ],
   "source": [
    "# Create a larger object\n",
    "adata = sc.read_h5ad('../valid.h5ad')\n",
    "adata = ad.concat([adata, adata, adata, adata, adata, adata], uns_merge='first')\n",
    "adata.obs_names_make_unique()\n",
    "adata.var['feature_is_filtered'] = False\n",
    "\n",
    "# Modify last 10 expression values into float for csr matrix in adata.X\n",
    "l = len(adata.raw.X.data)\n",
    "adata.raw.X.data[l-10:l] = adata.raw.X.data[l-10:l] + 0.3\n",
    "adata.X = adata.raw.X\n",
    "del adata.raw\n",
    "save_and_test(adata, 'False')"
   ]
  },
  {
   "cell_type": "code",
   "execution_count": 13,
   "id": "aaa8d0a9-eda7-4ef0-bf65-2a405f018a19",
   "metadata": {},
   "outputs": [
    {
     "name": "stderr",
     "output_type": "stream",
     "text": [
      "/opt/anaconda3/envs/cxg4testing/lib/python3.9/site-packages/anndata/_core/anndata.py:1828: UserWarning: Observation names are not unique. To make them unique, call `.obs_names_make_unique`.\n",
      "  utils.warn_names_duplicates(\"obs\")\n"
     ]
    },
    {
     "name": "stdout",
     "output_type": "stream",
     "text": [
      "No adata.raw present\n",
      "Raw matrix data structure: csc\n",
      "Raw matrix max value:157728.0\n",
      "Last 10 raw values: [  3.3  10.3   1.3  37.3   2.3  94.3  30.3  43.3  11.3 123.3]\n",
      "------------------\n",
      "Loading dependencies\n",
      "Loading validator modules\n",
      "\n",
      "Starting validation...\n",
      "Matrices are in CSC format; loading entire dataset into memory.\n",
      "WARNING: Sparsity of 'X' is 0.6653779298622293 which is greater than 0.5, and it is not a 'scipy.sparse.csr_matrix'. It is STRONGLY RECOMMENDED to use this type of matrix for the given sparsity.\n",
      "ERROR: Raw data is missing: there is only a normalized matrix in X and no raw.X\n",
      "Validation complete in 0:00:03.459428 with status is_valid=False\n",
      "------------------\n",
      "\u001b[1m\u001b[92mPASSED\u001b[0m\n"
     ]
    }
   ],
   "source": [
    "# Create a larger object\n",
    "adata = sc.read_h5ad('../valid.h5ad')\n",
    "adata = ad.concat([adata, adata, adata, adata, adata, adata], uns_merge='first')\n",
    "adata.obs_names_make_unique()\n",
    "adata.var['feature_is_filtered'] = False\n",
    "\n",
    "# Modify last 10 expression values into float for csc matrix in adata.X\n",
    "raw = ad.AnnData(X=sparse.csc_matrix(adata.raw.X), obs=adata.obs, var=adata.raw.var)\n",
    "l = len(adata.raw.X.data)\n",
    "raw.X.data[l-10:l] = raw.X.data[l-10:l] + 0.3\n",
    "adata.X = raw.X\n",
    "del adata.raw\n",
    "save_and_test(adata, 'False')"
   ]
  },
  {
   "cell_type": "code",
   "execution_count": 14,
   "id": "706eaaa6-20fb-411c-a540-c8510e1dd44a",
   "metadata": {},
   "outputs": [
    {
     "name": "stderr",
     "output_type": "stream",
     "text": [
      "/opt/anaconda3/envs/cxg4testing/lib/python3.9/site-packages/anndata/_core/anndata.py:1828: UserWarning: Observation names are not unique. To make them unique, call `.obs_names_make_unique`.\n",
      "  utils.warn_names_duplicates(\"obs\")\n"
     ]
    },
    {
     "name": "stdout",
     "output_type": "stream",
     "text": [
      "No adata.raw present\n",
      "Raw matrix data structure: numpy array\n",
      "Raw matrix max value:157728.0\n",
      "Last 10 raw values: [  0.3   0.3   0.3 185.3   0.3   0.3  94.3  73.3   0.3   0.3]\n",
      "------------------\n",
      "Loading dependencies\n",
      "Loading validator modules\n",
      "\n",
      "Starting validation...\n",
      "WARNING: Sparsity of 'X' is 0.6653779037693088 which is greater than 0.5, and it is not a 'scipy.sparse.csr_matrix'. It is STRONGLY RECOMMENDED to use this type of matrix for the given sparsity.\n",
      "ERROR: Raw data is missing: there is only a normalized matrix in X and no raw.X\n",
      "Validation complete in 0:00:06.266844 with status is_valid=False\n",
      "------------------\n",
      "\u001b[1m\u001b[92mPASSED\u001b[0m\n"
     ]
    }
   ],
   "source": [
    "# Create a larger object\n",
    "adata = sc.read_h5ad('../valid.h5ad')\n",
    "adata = ad.concat([adata, adata, adata, adata, adata, adata], uns_merge='first')\n",
    "adata.obs_names_make_unique()\n",
    "adata.var['feature_is_filtered'] = False\n",
    "\n",
    "# Modify last 10 expression values into float for dense matrix in adata.X\n",
    "raw = ad.AnnData(X=adata.raw.X.toarray(), obs=adata.obs, var=adata.raw.var)\n",
    "s = raw.X.shape\n",
    "raw.X[s[0]-1][s[1]-10:s[1]] = raw.X[s[0]-1][s[1]-10:s[1]] + 0.3\n",
    "adata.X = raw.X\n",
    "del adata.raw\n",
    "save_and_test(adata, 'False')"
   ]
  }
 ],
 "metadata": {
  "kernelspec": {
   "display_name": "Python 3 (ipykernel)",
   "language": "python",
   "name": "python3"
  },
  "language_info": {
   "codemirror_mode": {
    "name": "ipython",
    "version": 3
   },
   "file_extension": ".py",
   "mimetype": "text/x-python",
   "name": "python",
   "nbconvert_exporter": "python",
   "pygments_lexer": "ipython3",
   "version": "3.9.18"
  }
 },
 "nbformat": 4,
 "nbformat_minor": 5
}
