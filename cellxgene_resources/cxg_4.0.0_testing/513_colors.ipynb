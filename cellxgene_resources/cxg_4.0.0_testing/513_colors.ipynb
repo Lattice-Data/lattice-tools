{
 "cells": [
  {
   "cell_type": "markdown",
   "id": "0fdc81bf",
   "metadata": {},
   "source": [
    "https://github.com/chanzuckerberg/single-cell-curation/issues/513 <br>\n",
    "https://github.com/chanzuckerberg/single-cell-curation/blob/main/schema/4.0.0/schema.md#column_colors"
   ]
  },
  {
   "cell_type": "code",
   "execution_count": 1,
   "id": "2b8b98ac",
   "metadata": {},
   "outputs": [],
   "source": [
    "import matplotlib.colors as mcolors\n",
    "import numpy as np\n",
    "import os\n",
    "import pandas as pd\n",
    "import random\n",
    "import scanpy as sc\n",
    "import subprocess"
   ]
  },
  {
   "cell_type": "code",
   "execution_count": 2,
   "id": "75849952",
   "metadata": {},
   "outputs": [],
   "source": [
    "def validate(file):\n",
    "    validate_process = subprocess.run(['cellxgene-schema', 'validate', file], stdout=subprocess.PIPE, stderr=subprocess.PIPE)\n",
    "    for line in validate_process.stdout.decode('utf-8').split('\\n'):\n",
    "        print(line)\n",
    "    for line in validate_process.stderr.decode('utf-8').split('\\n'):\n",
    "        print(line)\n",
    "        if 'is_valid=' in line:\n",
    "            valid = line.split('=')[-1]\n",
    "            return valid"
   ]
  },
  {
   "cell_type": "code",
   "execution_count": 3,
   "id": "19365f72",
   "metadata": {},
   "outputs": [],
   "source": [
    "def save_and_test(adata, expected):\n",
    "    adata.write(filename='test.h5ad')\n",
    "    test_adata = sc.read_h5ad('test.h5ad')\n",
    "    for k,v in test_adata.uns.items():\n",
    "        if k.endswith('_colors'):\n",
    "            print('--')\n",
    "            print(k)\n",
    "            print(v)\n",
    "            obs_field = k.replace('_colors','')\n",
    "            if obs_field in test_adata.obs.columns:\n",
    "                uniq_vals = str(len(test_adata.obs[obs_field].unique()))\n",
    "                val_type = str(test_adata.obs[obs_field].dtype)\n",
    "                print(obs_field + ':' + uniq_vals + ' values of type:' + val_type)\n",
    "            else:\n",
    "                print(obs_field + ' not in obs')\n",
    "            print('--')\n",
    "    print('------------------')\n",
    "\n",
    "    valid = validate('test.h5ad')\n",
    "    print('------------------')\n",
    "    if expected != valid:\n",
    "        print('\\033[1m\\033[91mERROR\\033[0m')\n",
    "    else:\n",
    "        print('\\033[1m\\033[92mPASSED\\033[0m')\n",
    "    os.remove('test.h5ad')"
   ]
  },
  {
   "cell_type": "code",
   "execution_count": 4,
   "id": "92a073af",
   "metadata": {},
   "outputs": [],
   "source": [
    "adata = sc.read_h5ad('../valid.h5ad')"
   ]
  },
  {
   "cell_type": "code",
   "execution_count": 5,
   "id": "e3ac92c0",
   "metadata": {},
   "outputs": [
    {
     "data": {
      "text/html": [
       "<div>\n",
       "<style scoped>\n",
       "    .dataframe tbody tr th:only-of-type {\n",
       "        vertical-align: middle;\n",
       "    }\n",
       "\n",
       "    .dataframe tbody tr th {\n",
       "        vertical-align: top;\n",
       "    }\n",
       "\n",
       "    .dataframe thead th {\n",
       "        text-align: right;\n",
       "    }\n",
       "</style>\n",
       "<table border=\"1\" class=\"dataframe\">\n",
       "  <thead>\n",
       "    <tr style=\"text-align: right;\">\n",
       "      <th></th>\n",
       "      <th>0</th>\n",
       "      <th>unique len</th>\n",
       "    </tr>\n",
       "    <tr>\n",
       "      <th>index</th>\n",
       "      <th></th>\n",
       "      <th></th>\n",
       "    </tr>\n",
       "  </thead>\n",
       "  <tbody>\n",
       "    <tr>\n",
       "      <th>BICCN_cluster_id</th>\n",
       "      <td>float64</td>\n",
       "      <td>61</td>\n",
       "    </tr>\n",
       "    <tr>\n",
       "      <th>QC</th>\n",
       "      <td>category</td>\n",
       "      <td>2000</td>\n",
       "    </tr>\n",
       "    <tr>\n",
       "      <th>BICCN_cluster_label</th>\n",
       "      <td>category</td>\n",
       "      <td>61</td>\n",
       "    </tr>\n",
       "    <tr>\n",
       "      <th>BICCN_subclass_label</th>\n",
       "      <td>category</td>\n",
       "      <td>17</td>\n",
       "    </tr>\n",
       "    <tr>\n",
       "      <th>BICCN_class_label</th>\n",
       "      <td>category</td>\n",
       "      <td>3</td>\n",
       "    </tr>\n",
       "    <tr>\n",
       "      <th>cluster_color</th>\n",
       "      <td>category</td>\n",
       "      <td>61</td>\n",
       "    </tr>\n",
       "    <tr>\n",
       "      <th>size</th>\n",
       "      <td>float64</td>\n",
       "      <td>55</td>\n",
       "    </tr>\n",
       "    <tr>\n",
       "      <th>temp_class_label</th>\n",
       "      <td>category</td>\n",
       "      <td>17</td>\n",
       "    </tr>\n",
       "    <tr>\n",
       "      <th>BICCN_ontology_term_id</th>\n",
       "      <td>category</td>\n",
       "      <td>17</td>\n",
       "    </tr>\n",
       "    <tr>\n",
       "      <th>assay_ontology_term_id</th>\n",
       "      <td>category</td>\n",
       "      <td>1</td>\n",
       "    </tr>\n",
       "    <tr>\n",
       "      <th>disease_ontology_term_id</th>\n",
       "      <td>category</td>\n",
       "      <td>1</td>\n",
       "    </tr>\n",
       "    <tr>\n",
       "      <th>tissue_ontology_term_id</th>\n",
       "      <td>category</td>\n",
       "      <td>1</td>\n",
       "    </tr>\n",
       "    <tr>\n",
       "      <th>BICCN_project</th>\n",
       "      <td>category</td>\n",
       "      <td>1</td>\n",
       "    </tr>\n",
       "    <tr>\n",
       "      <th>cell_type_ontology_term_id</th>\n",
       "      <td>category</td>\n",
       "      <td>6</td>\n",
       "    </tr>\n",
       "    <tr>\n",
       "      <th>self_reported_ethnicity_ontology_term_id</th>\n",
       "      <td>category</td>\n",
       "      <td>1</td>\n",
       "    </tr>\n",
       "    <tr>\n",
       "      <th>development_stage_ontology_term_id</th>\n",
       "      <td>category</td>\n",
       "      <td>1</td>\n",
       "    </tr>\n",
       "    <tr>\n",
       "      <th>sex_ontology_term_id</th>\n",
       "      <td>category</td>\n",
       "      <td>2</td>\n",
       "    </tr>\n",
       "    <tr>\n",
       "      <th>is_primary_data</th>\n",
       "      <td>bool</td>\n",
       "      <td>1</td>\n",
       "    </tr>\n",
       "    <tr>\n",
       "      <th>organism_ontology_term_id</th>\n",
       "      <td>category</td>\n",
       "      <td>1</td>\n",
       "    </tr>\n",
       "    <tr>\n",
       "      <th>donor_id</th>\n",
       "      <td>category</td>\n",
       "      <td>44</td>\n",
       "    </tr>\n",
       "    <tr>\n",
       "      <th>suspension_type</th>\n",
       "      <td>category</td>\n",
       "      <td>1</td>\n",
       "    </tr>\n",
       "    <tr>\n",
       "      <th>tissue_type</th>\n",
       "      <td>category</td>\n",
       "      <td>1</td>\n",
       "    </tr>\n",
       "  </tbody>\n",
       "</table>\n",
       "</div>"
      ],
      "text/plain": [
       "                                                 0  unique len\n",
       "index                                                         \n",
       "BICCN_cluster_id                           float64          61\n",
       "QC                                        category        2000\n",
       "BICCN_cluster_label                       category          61\n",
       "BICCN_subclass_label                      category          17\n",
       "BICCN_class_label                         category           3\n",
       "cluster_color                             category          61\n",
       "size                                       float64          55\n",
       "temp_class_label                          category          17\n",
       "BICCN_ontology_term_id                    category          17\n",
       "assay_ontology_term_id                    category           1\n",
       "disease_ontology_term_id                  category           1\n",
       "tissue_ontology_term_id                   category           1\n",
       "BICCN_project                             category           1\n",
       "cell_type_ontology_term_id                category           6\n",
       "self_reported_ethnicity_ontology_term_id  category           1\n",
       "development_stage_ontology_term_id        category           1\n",
       "sex_ontology_term_id                      category           2\n",
       "is_primary_data                               bool           1\n",
       "organism_ontology_term_id                 category           1\n",
       "donor_id                                  category          44\n",
       "suspension_type                           category           1\n",
       "tissue_type                               category           1"
      ]
     },
     "execution_count": 5,
     "metadata": {},
     "output_type": "execute_result"
    }
   ],
   "source": [
    "df = pd.DataFrame(adata.obs.dtypes).reset_index()\n",
    "df['unique len'] = df['index'].apply(lambda x: len(adata.obs[x].unique()))\n",
    "df.set_index('index', inplace=True)\n",
    "df"
   ]
  },
  {
   "cell_type": "code",
   "execution_count": 6,
   "id": "5d3723b1",
   "metadata": {},
   "outputs": [],
   "source": [
    "def create_color_list(count):\n",
    "    # Generating a random number in between 0 and 2^24\n",
    "    colors = random.sample(range(0, 2**24),count)\n",
    "\n",
    "    # Converting that number from base-10\n",
    "    # (decimal) to base-16 (hexadecimal)\n",
    "    hex_colors = [hex(c).replace('0x','#') for c in colors]\n",
    "\n",
    "    return hex_colors"
   ]
  },
  {
   "cell_type": "markdown",
   "id": "f4a199fe",
   "metadata": {},
   "source": [
    "**Test valid cases**"
   ]
  },
  {
   "cell_type": "code",
   "execution_count": 7,
   "id": "68d9a16e-635f-4a5a-9ad4-472007c5f706",
   "metadata": {},
   "outputs": [
    {
     "name": "stdout",
     "output_type": "stream",
     "text": [
      "------------------\n",
      "Loading dependencies\n",
      "Loading validator modules\n",
      "\n",
      "Starting validation...\n",
      "Validation complete in 0:00:00.842838 with status is_valid=True\n",
      "------------------\n",
      "\u001b[1m\u001b[92mPASSED\u001b[0m\n"
     ]
    }
   ],
   "source": [
    "#untouched, no colors defined\n",
    "save_and_test(adata, 'True')"
   ]
  },
  {
   "cell_type": "code",
   "execution_count": 8,
   "id": "20d01266",
   "metadata": {},
   "outputs": [
    {
     "name": "stderr",
     "output_type": "stream",
     "text": [
      "/var/folders/63/6nnd9y1x6y769sbxd81cy8380000gn/T/ipykernel_26574/3507434554.py:3: DeprecationWarning: Sampling from a set deprecated\n",
      "since Python 3.9 and will be removed in a subsequent version.\n",
      "  adata.uns['BICCN_class_label_colors'] = np.array(random.sample(mcolors.CSS4_COLORS.keys(), 3))\n"
     ]
    },
    {
     "name": "stdout",
     "output_type": "stream",
     "text": [
      "--\n",
      "BICCN_class_label_colors\n",
      "['darkgoldenrod' 'lawngreen' 'lightgrey']\n",
      "BICCN_class_label:3 values of type:category\n",
      "--\n",
      "--\n",
      "temp_class_label_colors\n",
      "['#f9d05c' '#b70f5b' '#e0fcfd' '#d6bbc7' '#256a58' '#9b6d49' '#f675f3'\n",
      " '#a66f4f' '#21f39a' '#3cddd0' '#1d750d' '#d5ea0a' '#84345b' '#74b0c7'\n",
      " '#8cb84f' '#16da6e' '#b94371']\n",
      "temp_class_label:17 values of type:category\n",
      "--\n",
      "------------------\n",
      "Loading dependencies\n",
      "Loading validator modules\n",
      "\n",
      "Starting validation...\n",
      "Validation complete in 0:00:00.828629 with status is_valid=True\n",
      "------------------\n",
      "\u001b[1m\u001b[92mPASSED\u001b[0m\n"
     ]
    }
   ],
   "source": [
    "#colors matches length of obs - named & hex\n",
    "adata.uns['temp_class_label_colors'] = np.array(create_color_list(17))\n",
    "adata.uns['BICCN_class_label_colors'] = np.array(random.sample(mcolors.CSS4_COLORS.keys(), 3))\n",
    "save_and_test(adata, 'True')"
   ]
  },
  {
   "cell_type": "code",
   "execution_count": 9,
   "id": "2e0c8175",
   "metadata": {},
   "outputs": [
    {
     "name": "stderr",
     "output_type": "stream",
     "text": [
      "/var/folders/63/6nnd9y1x6y769sbxd81cy8380000gn/T/ipykernel_26574/4055306964.py:3: DeprecationWarning: Sampling from a set deprecated\n",
      "since Python 3.9 and will be removed in a subsequent version.\n",
      "  adata.uns['BICCN_class_label_colors'] = np.array(random.sample(mcolors.CSS4_COLORS.keys(), 12))\n"
     ]
    },
    {
     "name": "stdout",
     "output_type": "stream",
     "text": [
      "--\n",
      "BICCN_class_label_colors\n",
      "['lightpink' 'pink' 'sienna' 'forestgreen' 'lightgrey' 'snow' 'burlywood'\n",
      " 'darkturquoise' 'goldenrod' 'firebrick' 'olivedrab' 'blueviolet']\n",
      "BICCN_class_label:3 values of type:category\n",
      "--\n",
      "--\n",
      "temp_class_label_colors\n",
      "['#55464e' '#f5e029' '#d59c39' '#badeae' '#36c26' '#b7ebfb' '#e4018'\n",
      " '#2a05c3' '#9ce656' '#8706f4' '#87de9e' '#969ab0' '#f67e17' '#1f1932'\n",
      " '#278188' '#f52b46' '#4d888f' '#fa3c44' '#341ea4' '#3bbe7' '#5666f0'\n",
      " '#7c07bd' '#ca3e51' '#dd91f2' '#8c9aa4' '#9075' '#87ffd5' '#f435c'\n",
      " '#56d8cf' '#1dfa5b' '#a5814d' '#217a46' '#869446' '#269531' '#c40837'\n",
      " '#c075bd' '#dcdd36' '#8eb36f' '#943689' '#4a2c90']\n",
      "temp_class_label:17 values of type:category\n",
      "--\n",
      "------------------\n",
      "Loading dependencies\n",
      "Loading validator modules\n",
      "\n",
      "Starting validation...\n",
      "Validation complete in 0:00:00.902623 with status is_valid=True\n",
      "------------------\n",
      "\u001b[1m\u001b[92mPASSED\u001b[0m\n"
     ]
    }
   ],
   "source": [
    "#colors exceeds length of obs - named & hex\n",
    "adata.uns['temp_class_label_colors'] = np.array(create_color_list(40))\n",
    "adata.uns['BICCN_class_label_colors'] = np.array(random.sample(mcolors.CSS4_COLORS.keys(), 12))\n",
    "save_and_test(adata, 'True')"
   ]
  },
  {
   "cell_type": "code",
   "execution_count": 10,
   "id": "de19a968",
   "metadata": {},
   "outputs": [
    {
     "name": "stdout",
     "output_type": "stream",
     "text": [
      "--\n",
      "BICCN_ontology_term_id_colors\n",
      "['#63c1cf' '#92cb56' '#3fef1e' '#c793d0' '#a1c415' '#e20cc4' '#55f307'\n",
      " '#8a4da7' '#5e69e6' '#131a4a' '#b805c8' '#a78588' '#67300e' '#cde0bb'\n",
      " '#13897b' '#fd1178' '#b9fdc5']\n",
      "BICCN_ontology_term_id:17 values of type:category\n",
      "--\n",
      "------------------\n",
      "Loading dependencies\n",
      "Loading validator modules\n",
      "\n",
      "Starting validation...\n",
      "Validation complete in 0:00:00.908282 with status is_valid=True\n",
      "------------------\n",
      "\u001b[1m\u001b[92mPASSED\u001b[0m\n"
     ]
    }
   ],
   "source": [
    "adata.uns = {'title': 'temporary title'}\n",
    "#colors for non-schema *_ontology_term_id - hex\n",
    "adata.uns['BICCN_ontology_term_id_colors'] = np.array(create_color_list(17))\n",
    "save_and_test(adata, 'True')"
   ]
  },
  {
   "cell_type": "code",
   "execution_count": 11,
   "id": "6e52a4f1",
   "metadata": {},
   "outputs": [
    {
     "name": "stderr",
     "output_type": "stream",
     "text": [
      "/var/folders/63/6nnd9y1x6y769sbxd81cy8380000gn/T/ipykernel_26574/1897414309.py:2: DeprecationWarning: Sampling from a set deprecated\n",
      "since Python 3.9 and will be removed in a subsequent version.\n",
      "  adata.uns['BICCN_ontology_term_id_colors'] = np.array(random.sample(mcolors.CSS4_COLORS.keys(), 17))\n"
     ]
    },
    {
     "name": "stdout",
     "output_type": "stream",
     "text": [
      "--\n",
      "BICCN_ontology_term_id_colors\n",
      "['slategray' 'indigo' 'wheat' 'lightslategrey' 'cadetblue' 'darksalmon'\n",
      " 'yellowgreen' 'dimgrey' 'blueviolet' 'tomato' 'maroon' 'burlywood'\n",
      " 'brown' 'darkkhaki' 'darkmagenta' 'whitesmoke' 'seagreen']\n",
      "BICCN_ontology_term_id:17 values of type:category\n",
      "--\n",
      "------------------\n",
      "Loading dependencies\n",
      "Loading validator modules\n",
      "\n",
      "Starting validation...\n",
      "Validation complete in 0:00:00.840888 with status is_valid=True\n",
      "------------------\n",
      "\u001b[1m\u001b[92mPASSED\u001b[0m\n"
     ]
    }
   ],
   "source": [
    "#colors for non-schema_ontology_term_id - named\n",
    "adata.uns['BICCN_ontology_term_id_colors'] = np.array(random.sample(mcolors.CSS4_COLORS.keys(), 17))\n",
    "save_and_test(adata, 'True')"
   ]
  },
  {
   "cell_type": "code",
   "execution_count": 12,
   "id": "fb66aa19",
   "metadata": {},
   "outputs": [
    {
     "name": "stderr",
     "output_type": "stream",
     "text": [
      "/var/folders/63/6nnd9y1x6y769sbxd81cy8380000gn/T/ipykernel_26574/3680964483.py:4: DeprecationWarning: Sampling from a set deprecated\n",
      "since Python 3.9 and will be removed in a subsequent version.\n",
      "  adata.uns['assay_ontology_term_id_colors'] = random.sample(mcolors.CSS4_COLORS.keys(), 1)\n"
     ]
    },
    {
     "name": "stdout",
     "output_type": "stream",
     "text": [
      "--\n",
      "assay_ontology_term_id_colors\n",
      "['hotpink']\n",
      "assay_ontology_term_id:1 values of type:category\n",
      "--\n",
      "--\n",
      "sex_ontology_term_id_colors\n",
      "['#dc8124' '#9cd90d']\n",
      "sex_ontology_term_id:2 values of type:category\n",
      "--\n",
      "------------------\n",
      "Loading dependencies\n",
      "Loading validator modules\n",
      "\n",
      "Starting validation...\n",
      "Validation complete in 0:00:00.840851 with status is_valid=True\n",
      "------------------\n",
      "\u001b[1m\u001b[92mPASSED\u001b[0m\n"
     ]
    }
   ],
   "source": [
    "adata.uns = {'title': 'temporary title'}\n",
    "#colors is for *_ontology_term_id = hex * named\n",
    "adata.uns['sex_ontology_term_id_colors'] = np.array(create_color_list(2))\n",
    "adata.uns['assay_ontology_term_id_colors'] = random.sample(mcolors.CSS4_COLORS.keys(), 1)\n",
    "save_and_test(adata, 'True')"
   ]
  },
  {
   "cell_type": "code",
   "execution_count": 13,
   "id": "93244d5c",
   "metadata": {},
   "outputs": [
    {
     "name": "stderr",
     "output_type": "stream",
     "text": [
      "/var/folders/63/6nnd9y1x6y769sbxd81cy8380000gn/T/ipykernel_26574/2303774649.py:2: DeprecationWarning: Sampling from a set deprecated\n",
      "since Python 3.9 and will be removed in a subsequent version.\n",
      "  adata.uns['BICCN_class_label_colors'] = random.sample(mcolors.CSS4_COLORS.keys(), 2)\n"
     ]
    },
    {
     "name": "stdout",
     "output_type": "stream",
     "text": [
      "--\n",
      "BICCN_class_label_colors\n",
      "['dimgray' 'salmon' 'dimgray' 'salmon']\n",
      "BICCN_class_label:3 values of type:category\n",
      "--\n",
      "--\n",
      "assay_ontology_term_id_colors\n",
      "['hotpink']\n",
      "assay_ontology_term_id:1 values of type:category\n",
      "--\n",
      "--\n",
      "cell_type_colors\n",
      "['#576b84' '#4f1610' '#88a4fb' '#576b84' '#4f1610' '#88a4fb']\n",
      "cell_type not in obs\n",
      "--\n",
      "--\n",
      "sex_ontology_term_id_colors\n",
      "['#dc8124' '#9cd90d']\n",
      "sex_ontology_term_id:2 values of type:category\n",
      "--\n",
      "------------------\n",
      "Loading dependencies\n",
      "Loading validator modules\n",
      "\n",
      "Starting validation...\n",
      "Validation complete in 0:00:00.832948 with status is_valid=True\n",
      "------------------\n",
      "\u001b[1m\u001b[92mPASSED\u001b[0m\n"
     ]
    }
   ],
   "source": [
    "#duplicate colors in a list - hex & named\n",
    "adata.uns['BICCN_class_label_colors'] = random.sample(mcolors.CSS4_COLORS.keys(), 2)\n",
    "adata.uns['BICCN_class_label_colors'] += adata.uns['BICCN_class_label_colors']\n",
    "adata.uns['BICCN_class_label_colors'] = np.array(adata.uns['BICCN_class_label_colors'])\n",
    "\n",
    "adata.uns['cell_type_colors'] = create_color_list(3)\n",
    "adata.uns['cell_type_colors'] += adata.uns['cell_type_colors']\n",
    "adata.uns['cell_type_colors'] = np.array(adata.uns['cell_type_colors'])\n",
    "save_and_test(adata, 'True')"
   ]
  },
  {
   "cell_type": "markdown",
   "id": "36b19db2",
   "metadata": {},
   "source": [
    "**Test invalid cases**"
   ]
  },
  {
   "cell_type": "code",
   "execution_count": 14,
   "id": "75307e6a",
   "metadata": {},
   "outputs": [
    {
     "name": "stderr",
     "output_type": "stream",
     "text": [
      "/var/folders/63/6nnd9y1x6y769sbxd81cy8380000gn/T/ipykernel_26574/2281613395.py:4: DeprecationWarning: Sampling from a set deprecated\n",
      "since Python 3.9 and will be removed in a subsequent version.\n",
      "  adata.uns['BICCN_class_label_colors'] = np.array(random.sample(mcolors.CSS4_COLORS.keys(), 1))\n"
     ]
    },
    {
     "name": "stdout",
     "output_type": "stream",
     "text": [
      "--\n",
      "BICCN_class_label_colors\n",
      "['orange']\n",
      "BICCN_class_label:3 values of type:category\n",
      "--\n",
      "--\n",
      "temp_class_label_colors\n",
      "['#10f41b' '#7f20df']\n",
      "temp_class_label:17 values of type:category\n",
      "--\n",
      "------------------\n",
      "Loading dependencies\n",
      "Loading validator modules\n",
      "\n",
      "Starting validation...\n",
      "Validation complete in 0:00:00.828900 with status is_valid=True\n",
      "------------------\n",
      "\u001b[1m\u001b[91mERROR\u001b[0m\n"
     ]
    }
   ],
   "source": [
    "adata.uns = {'title': 'temporary title'}\n",
    "#invalid test for length of colors array is less than obs counterpart - named & hex\n",
    "adata.uns['temp_class_label_colors'] = np.array(create_color_list(2))\n",
    "adata.uns['BICCN_class_label_colors'] = np.array(random.sample(mcolors.CSS4_COLORS.keys(), 1))\n",
    "save_and_test(adata, 'False')"
   ]
  },
  {
   "cell_type": "code",
   "execution_count": 15,
   "id": "51190aa7",
   "metadata": {},
   "outputs": [
    {
     "name": "stdout",
     "output_type": "stream",
     "text": [
      "--\n",
      "BICCN_class_label_colors\n",
      "[]\n",
      "BICCN_class_label:3 values of type:category\n",
      "--\n",
      "------------------\n",
      "Loading dependencies\n",
      "Loading validator modules\n",
      "\n",
      "Starting validation...\n",
      "Validation complete in 0:00:00.828037 with status is_valid=True\n",
      "------------------\n",
      "\u001b[1m\u001b[91mERROR\u001b[0m\n"
     ]
    }
   ],
   "source": [
    "adata.uns = {'title': 'temporary title'}\n",
    "#invalid test for colors array that is empty np array\n",
    "adata.uns['BICCN_class_label_colors'] = np.array([])\n",
    "save_and_test(adata, 'False')"
   ]
  },
  {
   "cell_type": "code",
   "execution_count": 16,
   "id": "33e25d73",
   "metadata": {},
   "outputs": [
    {
     "name": "stdout",
     "output_type": "stream",
     "text": [
      "--\n",
      "BICCN_class_label_colors\n",
      "[nan nan nan]\n",
      "BICCN_class_label:3 values of type:category\n",
      "--\n",
      "------------------\n",
      "Loading dependencies\n",
      "Loading validator modules\n",
      "\n",
      "Starting validation...\n",
      "Validation complete in 0:00:00.827962 with status is_valid=True\n",
      "------------------\n",
      "\u001b[1m\u001b[91mERROR\u001b[0m\n"
     ]
    }
   ],
   "source": [
    "adata.uns = {'title': 'temporary title'}\n",
    "#invalid test for colors array that is None or np.nan\n",
    "adata.uns['BICCN_class_label_colors'] = np.array([np.nan, np.nan, np.nan])\n",
    "save_and_test(adata, 'False')"
   ]
  },
  {
   "cell_type": "code",
   "execution_count": 17,
   "id": "bad379fa",
   "metadata": {},
   "outputs": [
    {
     "name": "stdout",
     "output_type": "stream",
     "text": [
      "--\n",
      "BICCN_class_label_colors\n",
      "['' '' '']\n",
      "BICCN_class_label:3 values of type:category\n",
      "--\n",
      "------------------\n",
      "Loading dependencies\n",
      "Loading validator modules\n",
      "\n",
      "Starting validation...\n",
      "Validation complete in 0:00:00.830766 with status is_valid=True\n",
      "------------------\n",
      "\u001b[1m\u001b[91mERROR\u001b[0m\n"
     ]
    }
   ],
   "source": [
    "adata.uns = {'title': 'temporary title'}\n",
    "#invalid test for colors array that is empty strings\n",
    "adata.uns['BICCN_class_label_colors'] = np.array(['','',''])\n",
    "save_and_test(adata, 'False')"
   ]
  },
  {
   "cell_type": "code",
   "execution_count": 18,
   "id": "46504981",
   "metadata": {},
   "outputs": [
    {
     "name": "stderr",
     "output_type": "stream",
     "text": [
      "/var/folders/63/6nnd9y1x6y769sbxd81cy8380000gn/T/ipykernel_26574/1445415300.py:4: DeprecationWarning: Sampling from a set deprecated\n",
      "since Python 3.9 and will be removed in a subsequent version.\n",
      "  adata.uns['sex_ontology_term_id_colors'] = ','.join(random.sample(mcolors.CSS4_COLORS.keys(), 2))\n"
     ]
    },
    {
     "name": "stdout",
     "output_type": "stream",
     "text": [
      "--\n",
      "BICCN_class_label_colors\n",
      "#d18a20,#c477fc,#ec5176,#a90c11,#566b12,#f51748,#d7fdf6,#f2e706,#e52740,#30d573,#e966d8,#a572fa,#a5571a,#837b78,#249c79,#d119fe,#b8f567\n",
      "BICCN_class_label:3 values of type:category\n",
      "--\n",
      "--\n",
      "sex_ontology_term_id_colors\n",
      "blueviolet,lightgoldenrodyellow\n",
      "sex_ontology_term_id:2 values of type:category\n",
      "--\n",
      "------------------\n",
      "Loading dependencies\n",
      "Loading validator modules\n",
      "\n",
      "Starting validation...\n",
      "Validation complete in 0:00:00.834110 with status is_valid=True\n",
      "------------------\n",
      "\u001b[1m\u001b[91mERROR\u001b[0m\n"
     ]
    }
   ],
   "source": [
    "adata.uns = {'title': 'temporary title'}\n",
    "#invalid test for colors as string or dictionary\n",
    "adata.uns['BICCN_class_label_colors'] = ','.join(create_color_list(17))\n",
    "adata.uns['sex_ontology_term_id_colors'] = ','.join(random.sample(mcolors.CSS4_COLORS.keys(), 2))\n",
    "save_and_test(adata, 'False')"
   ]
  },
  {
   "cell_type": "code",
   "execution_count": 19,
   "id": "c7421f3c",
   "metadata": {},
   "outputs": [
    {
     "name": "stderr",
     "output_type": "stream",
     "text": [
      "/var/folders/63/6nnd9y1x6y769sbxd81cy8380000gn/T/ipykernel_26574/1083785059.py:4: DeprecationWarning: Sampling from a set deprecated\n",
      "since Python 3.9 and will be removed in a subsequent version.\n",
      "  adata.uns['sex_colors'] = np.array(random.sample(mcolors.CSS4_COLORS.keys(), 2))\n"
     ]
    },
    {
     "name": "stdout",
     "output_type": "stream",
     "text": [
      "--\n",
      "cell_type_colors\n",
      "['#4ebf02' '#c9a7e' '#7cc677' '#fee897' '#74e39f' '#4593e5']\n",
      "cell_type not in obs\n",
      "--\n",
      "--\n",
      "sex_colors\n",
      "['mediumpurple' 'darkcyan']\n",
      "sex not in obs\n",
      "--\n",
      "------------------\n",
      "Loading dependencies\n",
      "Loading validator modules\n",
      "\n",
      "Starting validation...\n",
      "Validation complete in 0:00:00.851521 with status is_valid=True\n",
      "------------------\n",
      "\u001b[1m\u001b[91mERROR\u001b[0m\n"
     ]
    }
   ],
   "source": [
    "adata.uns = {'title': 'temporary title'}\n",
    "#colors for schema fields - named & hex\n",
    "adata.uns['cell_type_colors'] = np.array(create_color_list(6))\n",
    "adata.uns['sex_colors'] = np.array(random.sample(mcolors.CSS4_COLORS.keys(), 2))\n",
    "save_and_test(adata, 'False')"
   ]
  },
  {
   "cell_type": "code",
   "execution_count": 20,
   "id": "4a297e63",
   "metadata": {},
   "outputs": [
    {
     "name": "stdout",
     "output_type": "stream",
     "text": [
      "--\n",
      "author_cell_type_colors\n",
      "['#b3eca6' '#b3d473' '#bfcd0d' '#badd48' '#c58308' '#c1a967' '#13955e'\n",
      " '#240a3' '#bc3b17' '#3051e4' '#200417' '#52dfac' '#b5a826' '#cf797a'\n",
      " '#cad48c' '#a678fd' '#12c6ea']\n",
      "author_cell_type not in obs\n",
      "--\n",
      "------------------\n",
      "Loading dependencies\n",
      "Loading validator modules\n",
      "\n",
      "Starting validation...\n",
      "Validation complete in 0:00:00.827955 with status is_valid=True\n",
      "------------------\n",
      "\u001b[1m\u001b[91mERROR\u001b[0m\n"
     ]
    }
   ],
   "source": [
    "adata.uns = {'title': 'temporary title'}\n",
    "#colors does not have obs counterpart\n",
    "adata.uns['author_cell_type_colors'] = np.array(create_color_list(17))\n",
    "save_and_test(adata, 'False')"
   ]
  },
  {
   "cell_type": "code",
   "execution_count": 21,
   "id": "b672c585",
   "metadata": {},
   "outputs": [
    {
     "name": "stderr",
     "output_type": "stream",
     "text": [
      "/var/folders/63/6nnd9y1x6y769sbxd81cy8380000gn/T/ipykernel_26574/386928218.py:4: DeprecationWarning: Sampling from a set deprecated\n",
      "since Python 3.9 and will be removed in a subsequent version.\n",
      "  np.array(create_color_list(20) + random.sample(mcolors.CSS4_COLORS.keys(), 20))\n"
     ]
    },
    {
     "name": "stdout",
     "output_type": "stream",
     "text": [
      "--\n",
      "BICCN_ontology_term_id_colors\n",
      "['#9ec3d0' '#18002d' '#fe5868' '#4ce6b9' '#6d6c4d' '#aaa922' '#c9f4e4'\n",
      " '#a5f62c' '#449bb7' '#c75dac' '#13716c' '#43a60b' '#df0b03' '#eb6888'\n",
      " '#90630c' '#e5ae97' '#3a988a' '#59da08' '#8d0b1e' '#6b51c1' 'lightgreen'\n",
      " 'darkolivegreen' 'darkkhaki' 'tomato' 'firebrick' 'red' 'blanchedalmond'\n",
      " 'dimgrey' 'wheat' 'goldenrod' 'mediumblue' 'darkorange' 'aqua' 'cyan'\n",
      " 'olivedrab' 'palegoldenrod' 'khaki' 'ivory' 'fuchsia' 'lime']\n",
      "BICCN_ontology_term_id:17 values of type:category\n",
      "--\n",
      "------------------\n",
      "Loading dependencies\n",
      "Loading validator modules\n",
      "\n",
      "Starting validation...\n",
      "Validation complete in 0:00:00.857961 with status is_valid=True\n",
      "------------------\n",
      "\u001b[1m\u001b[91mERROR\u001b[0m\n"
     ]
    }
   ],
   "source": [
    "adata.uns = {'title': 'temporary title'}\n",
    "#colors is mixed named & hex\n",
    "adata.uns['BICCN_ontology_term_id_colors'] = \\\n",
    "    np.array(create_color_list(20) + random.sample(mcolors.CSS4_COLORS.keys(), 20))\n",
    "save_and_test(adata, 'False')"
   ]
  },
  {
   "cell_type": "code",
   "execution_count": 22,
   "id": "1a62f63f",
   "metadata": {},
   "outputs": [
    {
     "name": "stderr",
     "output_type": "stream",
     "text": [
      "/var/folders/63/6nnd9y1x6y769sbxd81cy8380000gn/T/ipykernel_26574/2724578257.py:3: DeprecationWarning: Sampling from a set deprecated\n",
      "since Python 3.9 and will be removed in a subsequent version.\n",
      "  adata.uns['BICCN_class_label_colors'] = np.array(random.sample(mcolors.BASE_COLORS.keys(), 3))\n"
     ]
    },
    {
     "name": "stdout",
     "output_type": "stream",
     "text": [
      "--\n",
      "BICCN_class_label_colors\n",
      "['g' 'r' 'w']\n",
      "BICCN_class_label:3 values of type:category\n",
      "--\n",
      "------------------\n",
      "Loading dependencies\n",
      "Loading validator modules\n",
      "\n",
      "Starting validation...\n",
      "Validation complete in 0:00:00.861840 with status is_valid=True\n",
      "------------------\n",
      "\u001b[1m\u001b[91mERROR\u001b[0m\n"
     ]
    }
   ],
   "source": [
    "adata.uns = {'title': 'temporary title'}\n",
    "#colors is non-named or hex\n",
    "adata.uns['BICCN_class_label_colors'] = np.array(random.sample(mcolors.BASE_COLORS.keys(), 3))\n",
    "save_and_test(adata, 'False')"
   ]
  },
  {
   "cell_type": "code",
   "execution_count": 23,
   "id": "b6b9b488",
   "metadata": {},
   "outputs": [
    {
     "name": "stdout",
     "output_type": "stream",
     "text": [
      "--\n",
      "BICCN_class_label_colors\n",
      "[[0.75 0.   0.75]\n",
      " [0.   0.   1.  ]\n",
      " [0.75 0.75 0.  ]]\n",
      "BICCN_class_label:3 values of type:category\n",
      "--\n",
      "------------------\n",
      "Loading dependencies\n",
      "Loading validator modules\n",
      "\n",
      "Starting validation...\n",
      "Validation complete in 0:00:00.843230 with status is_valid=True\n",
      "------------------\n",
      "\u001b[1m\u001b[91mERROR\u001b[0m\n"
     ]
    }
   ],
   "source": [
    "#colors is non-named or hex\n",
    "adata.uns['BICCN_class_label_colors'] = np.array(random.sample(list(mcolors.BASE_COLORS.values()), 3))\n",
    "save_and_test(adata, 'False')"
   ]
  },
  {
   "cell_type": "code",
   "execution_count": 25,
   "id": "f0108058",
   "metadata": {},
   "outputs": [
    {
     "name": "stderr",
     "output_type": "stream",
     "text": [
      "/var/folders/63/6nnd9y1x6y769sbxd81cy8380000gn/T/ipykernel_26574/3751173854.py:2: DeprecationWarning: Sampling from a set deprecated\n",
      "since Python 3.9 and will be removed in a subsequent version.\n",
      "  adata.uns['BICCN_class_label_colors'] = np.array(random.sample(mcolors.XKCD_COLORS.keys(), 3))\n"
     ]
    },
    {
     "name": "stdout",
     "output_type": "stream",
     "text": [
      "--\n",
      "BICCN_class_label_colors\n",
      "['xkcd:burnt sienna' 'xkcd:twilight' 'xkcd:pale orange']\n",
      "BICCN_class_label:3 values of type:category\n",
      "--\n",
      "------------------\n",
      "Loading dependencies\n",
      "Loading validator modules\n",
      "\n",
      "Starting validation...\n",
      "Validation complete in 0:00:00.841223 with status is_valid=True\n",
      "------------------\n",
      "\u001b[1m\u001b[91mERROR\u001b[0m\n"
     ]
    }
   ],
   "source": [
    "#colors is non-named or hex\n",
    "adata.uns['BICCN_class_label_colors'] = np.array(random.sample(mcolors.XKCD_COLORS.keys(), 3))\n",
    "save_and_test(adata, 'False')"
   ]
  },
  {
   "cell_type": "code",
   "execution_count": 26,
   "id": "05dd5530",
   "metadata": {},
   "outputs": [
    {
     "name": "stderr",
     "output_type": "stream",
     "text": [
      "/var/folders/63/6nnd9y1x6y769sbxd81cy8380000gn/T/ipykernel_26574/3878135180.py:2: DeprecationWarning: Sampling from a set deprecated\n",
      "since Python 3.9 and will be removed in a subsequent version.\n",
      "  adata.uns['BICCN_class_label_colors'] = np.array(random.sample(mcolors.TABLEAU_COLORS.keys(), 3))\n"
     ]
    },
    {
     "name": "stdout",
     "output_type": "stream",
     "text": [
      "--\n",
      "BICCN_class_label_colors\n",
      "['tab:orange' 'tab:green' 'tab:cyan']\n",
      "BICCN_class_label:3 values of type:category\n",
      "--\n",
      "------------------\n",
      "Loading dependencies\n",
      "Loading validator modules\n",
      "\n",
      "Starting validation...\n",
      "Validation complete in 0:00:00.839049 with status is_valid=True\n",
      "------------------\n",
      "\u001b[1m\u001b[91mERROR\u001b[0m\n"
     ]
    }
   ],
   "source": [
    "#colors is non-named or hex\n",
    "adata.uns['BICCN_class_label_colors'] = np.array(random.sample(mcolors.TABLEAU_COLORS.keys(), 3))\n",
    "save_and_test(adata, 'False')"
   ]
  },
  {
   "cell_type": "code",
   "execution_count": 27,
   "id": "43330dad",
   "metadata": {},
   "outputs": [
    {
     "name": "stderr",
     "output_type": "stream",
     "text": [
      "/var/folders/63/6nnd9y1x6y769sbxd81cy8380000gn/T/ipykernel_26574/3542767481.py:3: DeprecationWarning: Sampling from a set deprecated\n",
      "since Python 3.9 and will be removed in a subsequent version.\n",
      "  adata.uns['is_primary_data_colors'] = np.array(random.sample(mcolors.CSS4_COLORS.keys(), 1))\n"
     ]
    },
    {
     "name": "stdout",
     "output_type": "stream",
     "text": [
      "--\n",
      "is_primary_data_colors\n",
      "['white']\n",
      "is_primary_data:1 values of type:bool\n",
      "--\n",
      "------------------\n",
      "Loading dependencies\n",
      "Loading validator modules\n",
      "\n",
      "Starting validation...\n",
      "Validation complete in 0:00:00.832784 with status is_valid=True\n",
      "------------------\n",
      "\u001b[1m\u001b[91mERROR\u001b[0m\n"
     ]
    }
   ],
   "source": [
    "adata.uns = {'title': 'temporary title'}\n",
    "#colors counterpart in obs is boolean\n",
    "adata.uns['is_primary_data_colors'] = np.array(random.sample(mcolors.CSS4_COLORS.keys(), 1))\n",
    "save_and_test(adata, 'False')"
   ]
  },
  {
   "cell_type": "code",
   "execution_count": 28,
   "id": "3e681ba0",
   "metadata": {},
   "outputs": [
    {
     "name": "stdout",
     "output_type": "stream",
     "text": [
      "--\n",
      "size_colors\n",
      "['#3c9c72' '#4e007e' '#543712' '#1af883' '#a80d82' '#fc25b2' '#eb5433'\n",
      " '#f6e95d' '#2d2c1b' '#c0a4ef' '#9282f2' '#d044bc' '#2a7913' '#a3ae59'\n",
      " '#cf9cfd' '#4f6ff' '#a242e1']\n",
      "size:55 values of type:float64\n",
      "--\n",
      "------------------\n",
      "Loading dependencies\n",
      "Loading validator modules\n",
      "\n",
      "Starting validation...\n",
      "Validation complete in 0:00:00.901279 with status is_valid=True\n",
      "------------------\n",
      "\u001b[1m\u001b[91mERROR\u001b[0m\n"
     ]
    }
   ],
   "source": [
    "adata.uns = {'title': 'temporary title'}\n",
    "#colors counterpart in obs is float\n",
    "adata.uns['size_colors'] = np.array(create_color_list(17))\n",
    "save_and_test(adata, 'False')"
   ]
  },
  {
   "cell_type": "code",
   "execution_count": 29,
   "id": "10c71a67",
   "metadata": {},
   "outputs": [
    {
     "name": "stdout",
     "output_type": "stream",
     "text": [
      "--\n",
      "BICCN_cluster_id_colors\n",
      "['#3ec48c' '#fdb82f' '#e16d27' '#f0034f' '#cf1274' '#60af21' '#faf8fb'\n",
      " '#6eaca7' '#76523d' '#90d94c' '#95cd6e' '#d677b6' '#648e58' '#40e236'\n",
      " '#a06024' '#df0142' '#e82262' '#1f407f' '#2ac226' '#75eb' '#aae970'\n",
      " '#6587a4' '#3cc437' '#90feb0' '#ea0611' '#43f800' '#74e1e6' '#b069df'\n",
      " '#11374b' '#60c5ac' '#555408' '#f765f7' '#26969b' '#2e818c' '#e955b6'\n",
      " '#1e4a75' '#500773' '#58594' '#c2f2f4' '#d39151' '#e9b8f0' '#58e81d'\n",
      " '#1cd1b5' '#b2c57b' '#21009c' '#98a864' '#b29bdb' '#8d8036' '#7c0ded'\n",
      " '#fd9bac' '#761838' '#4ae565' '#28e527' '#80ab01' '#80cc38' '#8312f1'\n",
      " '#ed7159' '#c03075' '#dadfa0' '#d82c09' '#930aee']\n",
      "BICCN_cluster_id:61 values of type:int64\n",
      "--\n",
      "------------------\n",
      "Loading dependencies\n",
      "Loading validator modules\n",
      "\n",
      "Starting validation...\n",
      "Validation complete in 0:00:00.924559 with status is_valid=True\n",
      "------------------\n",
      "\u001b[1m\u001b[91mERROR\u001b[0m\n"
     ]
    }
   ],
   "source": [
    "adata.uns = {'title': 'temporary title'}\n",
    "adata.obs['BICCN_cluster_id'] = adata.obs['BICCN_cluster_id'].map(int)\n",
    "#colors counterpart in obs is int\n",
    "adata.uns['BICCN_cluster_id_colors'] = np.array(create_color_list(61))\n",
    "save_and_test(adata, 'False')"
   ]
  },
  {
   "cell_type": "code",
   "execution_count": 31,
   "id": "0a143aa3",
   "metadata": {},
   "outputs": [
    {
     "name": "stderr",
     "output_type": "stream",
     "text": [
      "/var/folders/63/6nnd9y1x6y769sbxd81cy8380000gn/T/ipykernel_26574/4051928139.py:3: DeprecationWarning: Sampling from a set deprecated\n",
      "since Python 3.9 and will be removed in a subsequent version.\n",
      "  adata.uns['BICCN_class_label_colors'] = random.sample(mcolors.CSS4_COLORS.keys(), 3)\n"
     ]
    },
    {
     "name": "stdout",
     "output_type": "stream",
     "text": [
      "--\n",
      "BICCN_class_label_colors\n",
      "['darkred' 'purple' 'navajowhite']\n",
      "BICCN_class_label:3 values of type:category\n",
      "--\n",
      "--\n",
      "BICCN_cluster_id_colors\n",
      "['#3ec48c' '#fdb82f' '#e16d27' '#f0034f' '#cf1274' '#60af21' '#faf8fb'\n",
      " '#6eaca7' '#76523d' '#90d94c' '#95cd6e' '#d677b6' '#648e58' '#40e236'\n",
      " '#a06024' '#df0142' '#e82262' '#1f407f' '#2ac226' '#75eb' '#aae970'\n",
      " '#6587a4' '#3cc437' '#90feb0' '#ea0611' '#43f800' '#74e1e6' '#b069df'\n",
      " '#11374b' '#60c5ac' '#555408' '#f765f7' '#26969b' '#2e818c' '#e955b6'\n",
      " '#1e4a75' '#500773' '#58594' '#c2f2f4' '#d39151' '#e9b8f0' '#58e81d'\n",
      " '#1cd1b5' '#b2c57b' '#21009c' '#98a864' '#b29bdb' '#8d8036' '#7c0ded'\n",
      " '#fd9bac' '#761838' '#4ae565' '#28e527' '#80ab01' '#80cc38' '#8312f1'\n",
      " '#ed7159' '#c03075' '#dadfa0' '#d82c09' '#930aee']\n",
      "BICCN_cluster_id:61 values of type:int64\n",
      "--\n",
      "--\n",
      "temp_class_label_colors\n",
      "['#5dddd3' '#c041e1' '#535cda' '#accb2a' '#825f4c' '#8a71f4' '#67fd7'\n",
      " '#4f91d8' '#e4bc5a' '#552496' '#75db37' '#dd1396' '#27d7c9' '#bcfdce'\n",
      " '#926780' '#4c76b5' '#208573']\n",
      "temp_class_label:17 values of type:category\n",
      "--\n",
      "------------------\n",
      "Loading dependencies\n",
      "Loading validator modules\n",
      "\n",
      "Starting validation...\n",
      "Validation complete in 0:00:00.842757 with status is_valid=True\n",
      "------------------\n",
      "\u001b[1m\u001b[91mERROR\u001b[0m\n"
     ]
    }
   ],
   "source": [
    "#not np.array\n",
    "adata.uns['temp_class_label_colors'] = create_color_list(17)\n",
    "adata.uns['BICCN_class_label_colors'] = random.sample(mcolors.CSS4_COLORS.keys(), 3)\n",
    "save_and_test(adata, 'False')"
   ]
  },
  {
   "cell_type": "code",
   "execution_count": null,
   "id": "a5ee7420",
   "metadata": {},
   "outputs": [],
   "source": []
  }
 ],
 "metadata": {
  "kernelspec": {
   "display_name": "Python 3 (ipykernel)",
   "language": "python",
   "name": "python3"
  },
  "language_info": {
   "codemirror_mode": {
    "name": "ipython",
    "version": 3
   },
   "file_extension": ".py",
   "mimetype": "text/x-python",
   "name": "python",
   "nbconvert_exporter": "python",
   "pygments_lexer": "ipython3",
   "version": "3.9.18"
  }
 },
 "nbformat": 4,
 "nbformat_minor": 5
}
