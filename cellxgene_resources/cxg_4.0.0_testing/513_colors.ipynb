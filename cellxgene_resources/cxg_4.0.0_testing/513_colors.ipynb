{
 "cells": [
  {
   "cell_type": "markdown",
   "id": "0fdc81bf",
   "metadata": {},
   "source": [
    "https://github.com/chanzuckerberg/single-cell-curation/issues/513 <br>\n",
    "https://github.com/chanzuckerberg/single-cell-curation/blob/main/schema/4.0.0/schema.md#column_colors"
   ]
  },
  {
   "cell_type": "code",
   "execution_count": 1,
   "id": "2b8b98ac",
   "metadata": {},
   "outputs": [],
   "source": [
    "#import cxg_upload\n",
    "import matplotlib.colors as mcolors\n",
    "import numpy as np\n",
    "import os\n",
    "import pandas as pd\n",
    "import random\n",
    "import scanpy as sc\n",
    "import subprocess\n",
    "from datetime import datetime"
   ]
  },
  {
   "cell_type": "code",
   "execution_count": 2,
   "id": "75849952",
   "metadata": {},
   "outputs": [],
   "source": [
    "def validate(file):\n",
    "    validate_process = subprocess.run(['cellxgene-schema', 'validate', file], stdout=subprocess.PIPE, stderr=subprocess.PIPE)\n",
    "    for line in validate_process.stdout.decode('utf-8').split('\\n'):\n",
    "        print(line)\n",
    "    for line in validate_process.stderr.decode('utf-8').split('\\n'):\n",
    "        print(line)\n",
    "        if 'is_valid=' in line:\n",
    "            valid = line.split('=')[-1]\n",
    "            return valid"
   ]
  },
  {
   "cell_type": "code",
   "execution_count": 3,
   "id": "19365f72",
   "metadata": {},
   "outputs": [],
   "source": [
    "def save_and_test(adata, expected):\n",
    "    now = datetime.now() \n",
    "    dt_string = now.strftime('%m/%d %H:%M')\n",
    "    adata.uns['title'] += (' - ' + dt_string)\n",
    "\n",
    "    file = 'test.h5ad'\n",
    "    adata.write(filename=file)\n",
    "    test_adata = sc.read_h5ad(file)\n",
    "    for k,v in test_adata.uns.items():\n",
    "        if k.endswith('_colors'):\n",
    "            print('--')\n",
    "            print(k)\n",
    "            print(v)\n",
    "            obs_field = k.replace('_colors','')\n",
    "            if obs_field in test_adata.obs.columns:\n",
    "                uniq_vals = str(len(test_adata.obs[obs_field].unique()))\n",
    "                val_type = str(test_adata.obs[obs_field].dtype)\n",
    "                print(obs_field + ':' + uniq_vals + ' values of type:' + val_type)\n",
    "            else:\n",
    "                print(obs_field + ' not in obs')\n",
    "            print('--')\n",
    "    print('------------------')\n",
    "\n",
    "    valid = validate(file)\n",
    "    print('------------------')\n",
    "    if expected != valid:\n",
    "        print('\\033[1m\\033[91mERROR\\033[0m')\n",
    "    else:\n",
    "        print('\\033[1m\\033[92mPASSED\\033[0m')\n",
    "        #if expected == 'True':\n",
    "            #cxg_upload.upload(file)\n",
    "    os.remove(file)"
   ]
  },
  {
   "cell_type": "code",
   "execution_count": 4,
   "id": "92a073af",
   "metadata": {},
   "outputs": [],
   "source": [
    "adata = sc.read_h5ad('../valid.h5ad')"
   ]
  },
  {
   "cell_type": "code",
   "execution_count": 5,
   "id": "e3ac92c0",
   "metadata": {},
   "outputs": [
    {
     "data": {
      "text/html": [
       "<div>\n",
       "<style scoped>\n",
       "    .dataframe tbody tr th:only-of-type {\n",
       "        vertical-align: middle;\n",
       "    }\n",
       "\n",
       "    .dataframe tbody tr th {\n",
       "        vertical-align: top;\n",
       "    }\n",
       "\n",
       "    .dataframe thead th {\n",
       "        text-align: right;\n",
       "    }\n",
       "</style>\n",
       "<table border=\"1\" class=\"dataframe\">\n",
       "  <thead>\n",
       "    <tr style=\"text-align: right;\">\n",
       "      <th></th>\n",
       "      <th>0</th>\n",
       "      <th>unique len</th>\n",
       "    </tr>\n",
       "    <tr>\n",
       "      <th>index</th>\n",
       "      <th></th>\n",
       "      <th></th>\n",
       "    </tr>\n",
       "  </thead>\n",
       "  <tbody>\n",
       "    <tr>\n",
       "      <th>BICCN_cluster_id</th>\n",
       "      <td>float64</td>\n",
       "      <td>61</td>\n",
       "    </tr>\n",
       "    <tr>\n",
       "      <th>QC</th>\n",
       "      <td>category</td>\n",
       "      <td>2000</td>\n",
       "    </tr>\n",
       "    <tr>\n",
       "      <th>BICCN_cluster_label</th>\n",
       "      <td>category</td>\n",
       "      <td>61</td>\n",
       "    </tr>\n",
       "    <tr>\n",
       "      <th>BICCN_subclass_label</th>\n",
       "      <td>category</td>\n",
       "      <td>17</td>\n",
       "    </tr>\n",
       "    <tr>\n",
       "      <th>BICCN_class_label</th>\n",
       "      <td>category</td>\n",
       "      <td>3</td>\n",
       "    </tr>\n",
       "    <tr>\n",
       "      <th>cluster_color</th>\n",
       "      <td>category</td>\n",
       "      <td>61</td>\n",
       "    </tr>\n",
       "    <tr>\n",
       "      <th>size</th>\n",
       "      <td>float64</td>\n",
       "      <td>55</td>\n",
       "    </tr>\n",
       "    <tr>\n",
       "      <th>temp_class_label</th>\n",
       "      <td>category</td>\n",
       "      <td>17</td>\n",
       "    </tr>\n",
       "    <tr>\n",
       "      <th>BICCN_ontology_term_id</th>\n",
       "      <td>category</td>\n",
       "      <td>17</td>\n",
       "    </tr>\n",
       "    <tr>\n",
       "      <th>assay_ontology_term_id</th>\n",
       "      <td>category</td>\n",
       "      <td>1</td>\n",
       "    </tr>\n",
       "    <tr>\n",
       "      <th>disease_ontology_term_id</th>\n",
       "      <td>category</td>\n",
       "      <td>1</td>\n",
       "    </tr>\n",
       "    <tr>\n",
       "      <th>tissue_ontology_term_id</th>\n",
       "      <td>category</td>\n",
       "      <td>1</td>\n",
       "    </tr>\n",
       "    <tr>\n",
       "      <th>BICCN_project</th>\n",
       "      <td>category</td>\n",
       "      <td>1</td>\n",
       "    </tr>\n",
       "    <tr>\n",
       "      <th>cell_type_ontology_term_id</th>\n",
       "      <td>category</td>\n",
       "      <td>6</td>\n",
       "    </tr>\n",
       "    <tr>\n",
       "      <th>self_reported_ethnicity_ontology_term_id</th>\n",
       "      <td>category</td>\n",
       "      <td>1</td>\n",
       "    </tr>\n",
       "    <tr>\n",
       "      <th>development_stage_ontology_term_id</th>\n",
       "      <td>category</td>\n",
       "      <td>1</td>\n",
       "    </tr>\n",
       "    <tr>\n",
       "      <th>sex_ontology_term_id</th>\n",
       "      <td>category</td>\n",
       "      <td>2</td>\n",
       "    </tr>\n",
       "    <tr>\n",
       "      <th>is_primary_data</th>\n",
       "      <td>bool</td>\n",
       "      <td>1</td>\n",
       "    </tr>\n",
       "    <tr>\n",
       "      <th>organism_ontology_term_id</th>\n",
       "      <td>category</td>\n",
       "      <td>1</td>\n",
       "    </tr>\n",
       "    <tr>\n",
       "      <th>donor_id</th>\n",
       "      <td>category</td>\n",
       "      <td>44</td>\n",
       "    </tr>\n",
       "    <tr>\n",
       "      <th>suspension_type</th>\n",
       "      <td>category</td>\n",
       "      <td>1</td>\n",
       "    </tr>\n",
       "    <tr>\n",
       "      <th>tissue_type</th>\n",
       "      <td>category</td>\n",
       "      <td>1</td>\n",
       "    </tr>\n",
       "  </tbody>\n",
       "</table>\n",
       "</div>"
      ],
      "text/plain": [
       "                                                 0  unique len\n",
       "index                                                         \n",
       "BICCN_cluster_id                           float64          61\n",
       "QC                                        category        2000\n",
       "BICCN_cluster_label                       category          61\n",
       "BICCN_subclass_label                      category          17\n",
       "BICCN_class_label                         category           3\n",
       "cluster_color                             category          61\n",
       "size                                       float64          55\n",
       "temp_class_label                          category          17\n",
       "BICCN_ontology_term_id                    category          17\n",
       "assay_ontology_term_id                    category           1\n",
       "disease_ontology_term_id                  category           1\n",
       "tissue_ontology_term_id                   category           1\n",
       "BICCN_project                             category           1\n",
       "cell_type_ontology_term_id                category           6\n",
       "self_reported_ethnicity_ontology_term_id  category           1\n",
       "development_stage_ontology_term_id        category           1\n",
       "sex_ontology_term_id                      category           2\n",
       "is_primary_data                               bool           1\n",
       "organism_ontology_term_id                 category           1\n",
       "donor_id                                  category          44\n",
       "suspension_type                           category           1\n",
       "tissue_type                               category           1"
      ]
     },
     "execution_count": 5,
     "metadata": {},
     "output_type": "execute_result"
    }
   ],
   "source": [
    "df = pd.DataFrame(adata.obs.dtypes).reset_index()\n",
    "df['unique len'] = df['index'].apply(lambda x: len(adata.obs[x].unique()))\n",
    "df.set_index('index', inplace=True)\n",
    "df"
   ]
  },
  {
   "cell_type": "code",
   "execution_count": 6,
   "id": "5d3723b1",
   "metadata": {},
   "outputs": [],
   "source": [
    "def create_color_list(count):\n",
    "    # Generating a random number in between 0 and 2^24\n",
    "    colors = random.sample(range(0, 2**24),count)\n",
    "\n",
    "    # Converting that number from base-10\n",
    "    # (decimal) to base-16 (hexadecimal)\n",
    "    hex_colors = [hex(c).replace('0x','#') for c in colors]\n",
    "\n",
    "    return hex_colors"
   ]
  },
  {
   "cell_type": "markdown",
   "id": "f4a199fe",
   "metadata": {},
   "source": [
    "**Test valid cases**"
   ]
  },
  {
   "cell_type": "code",
   "execution_count": 7,
   "id": "68d9a16e-635f-4a5a-9ad4-472007c5f706",
   "metadata": {},
   "outputs": [
    {
     "name": "stdout",
     "output_type": "stream",
     "text": [
      "------------------\n",
      "Loading dependencies\n",
      "Loading validator modules\n",
      "\n",
      "Starting validation...\n",
      "Validation complete in 0:00:01.652165 with status is_valid=True\n",
      "------------------\n",
      "\u001b[1m\u001b[92mPASSED\u001b[0m\n"
     ]
    }
   ],
   "source": [
    "#untouched, no colors defined\n",
    "save_and_test(adata, 'True')"
   ]
  },
  {
   "cell_type": "code",
   "execution_count": 8,
   "id": "20d01266",
   "metadata": {},
   "outputs": [
    {
     "name": "stderr",
     "output_type": "stream",
     "text": [
      "/var/folders/63/6nnd9y1x6y769sbxd81cy8380000gn/T/ipykernel_53465/1194014541.py:5: DeprecationWarning: Sampling from a set deprecated\n",
      "since Python 3.9 and will be removed in a subsequent version.\n",
      "  adata.uns['BICCN_class_label_colors'] = np.array(random.sample(mcolors.CSS4_COLORS.keys(), 3))\n"
     ]
    },
    {
     "name": "stdout",
     "output_type": "stream",
     "text": [
      "--\n",
      "BICCN_class_label_colors\n",
      "['turquoise' 'orchid' 'bisque']\n",
      "BICCN_class_label:3 values of type:category\n",
      "--\n",
      "--\n",
      "temp_class_label_colors\n",
      "['#e91b64' '#c90c01' '#514bd0' '#7bdb5' '#da05c' '#b52d0a' '#e9dde5'\n",
      " '#c6e0aa' '#56d49b' '#e1c165' '#f78ec7' '#ce064e' '#7d6bae' '#f52cb'\n",
      " '#1da543' '#ae2240' '#db787f']\n",
      "temp_class_label:17 values of type:category\n",
      "--\n",
      "------------------\n",
      "Loading dependencies\n",
      "Loading validator modules\n",
      "\n",
      "Starting validation...\n",
      "WARNING: Validation of raw layer was not performed due to current errors, try again after fixing current errors.\n",
      "ERROR: Colors in uns[temp_class_label_colors] must be either all hex colors or all CSS4 named colors. Found: ['#1da543' '#514bd0' '#56d49b' '#7bdb5' '#7d6bae' '#ae2240' '#b52d0a'\n",
      " '#c6e0aa' '#c90c01' '#ce064e' '#da05c' '#db787f' '#e1c165' '#e91b64'\n",
      " '#e9dde5' '#f52cb' '#f78ec7']\n",
      "Validation complete in 0:00:00.596298 with status is_valid=False\n",
      "------------------\n",
      "\u001b[1m\u001b[91mERROR\u001b[0m\n"
     ]
    }
   ],
   "source": [
    "#colors matches length of obs - named & hex\n",
    "adata.uns['title'] = '513 colors matches length of obs'\n",
    "\n",
    "adata.uns['temp_class_label_colors'] = np.array(create_color_list(17))\n",
    "adata.uns['BICCN_class_label_colors'] = np.array(random.sample(mcolors.CSS4_COLORS.keys(), 3))\n",
    "save_and_test(adata, 'True')"
   ]
  },
  {
   "cell_type": "code",
   "execution_count": 9,
   "id": "2e0c8175",
   "metadata": {},
   "outputs": [
    {
     "name": "stderr",
     "output_type": "stream",
     "text": [
      "/var/folders/63/6nnd9y1x6y769sbxd81cy8380000gn/T/ipykernel_53465/3889217428.py:5: DeprecationWarning: Sampling from a set deprecated\n",
      "since Python 3.9 and will be removed in a subsequent version.\n",
      "  adata.uns['BICCN_class_label_colors'] = np.array(random.sample(mcolors.CSS4_COLORS.keys(), 12))\n"
     ]
    },
    {
     "name": "stdout",
     "output_type": "stream",
     "text": [
      "--\n",
      "BICCN_class_label_colors\n",
      "['yellow' 'mistyrose' 'gray' 'darkgreen' 'antiquewhite' 'palegreen'\n",
      " 'whitesmoke' 'darkslategrey' 'paleturquoise' 'cyan' 'ghostwhite'\n",
      " 'indianred']\n",
      "BICCN_class_label:3 values of type:category\n",
      "--\n",
      "--\n",
      "temp_class_label_colors\n",
      "['#d3498a' '#56dd6c' '#eb7513' '#4bdc45' '#62aed1' '#2f3792' '#70c7f7'\n",
      " '#35bd66' '#c8b763' '#18307d' '#fda82a' '#b252f6' '#ee9567' '#4ce7e6'\n",
      " '#bad0f6' '#f46a6c' '#77f849' '#e5675c' '#c26785' '#49df11' '#c6aa61'\n",
      " '#a6d215' '#c2a3a7' '#d7203d' '#5cd1db' '#e20879' '#d4db8' '#4b8353'\n",
      " '#760942' '#e97fd2' '#359284' '#99c53d' '#4417d6' '#e60a42' '#759de6'\n",
      " '#14ad8a' '#12d6d2' '#a72da7' '#776949' '#710145']\n",
      "temp_class_label:17 values of type:category\n",
      "--\n",
      "------------------\n",
      "Loading dependencies\n",
      "Loading validator modules\n",
      "\n",
      "Starting validation...\n",
      "WARNING: Validation of raw layer was not performed due to current errors, try again after fixing current errors.\n",
      "ERROR: Colors in uns[BICCN_class_label_colors] must be either all hex colors or all CSS4 named colors. Found: ['antiquewhite' 'cyan' 'darkgreen' 'darkslategrey' 'ghostwhite' 'gray'\n",
      " 'indianred' 'mistyrose' 'palegreen' 'paleturquoise' 'whitesmoke' 'yellow']\n",
      "ERROR: Colors in uns[temp_class_label_colors] must be either all hex colors or all CSS4 named colors. Found: ['#12d6d2' '#14ad8a' '#18307d' '#2f3792' '#359284' '#35bd66' '#4417d6'\n",
      " '#49df11' '#4b8353' '#4bdc45' '#4ce7e6' '#56dd6c' '#5cd1db' '#62aed1'\n",
      " '#70c7f7' '#710145' '#759de6' '#760942' '#776949' '#77f849' '#99c53d'\n",
      " '#a6d215' '#a72da7' '#b252f6' '#bad0f6' '#c26785' '#c2a3a7' '#c6aa61'\n",
      " '#c8b763' '#d3498a' '#d4db8' '#d7203d' '#e20879' '#e5675c' '#e60a42'\n",
      " '#e97fd2' '#eb7513' '#ee9567' '#f46a6c' '#fda82a']\n",
      "Validation complete in 0:00:00.529816 with status is_valid=False\n",
      "------------------\n",
      "\u001b[1m\u001b[91mERROR\u001b[0m\n"
     ]
    }
   ],
   "source": [
    "#colors exceeds length of obs - named & hex\n",
    "adata.uns['title'] = '513 colors exceeds length of obs'\n",
    "\n",
    "adata.uns['temp_class_label_colors'] = np.array(create_color_list(40))\n",
    "adata.uns['BICCN_class_label_colors'] = np.array(random.sample(mcolors.CSS4_COLORS.keys(), 12))\n",
    "save_and_test(adata, 'True')"
   ]
  },
  {
   "cell_type": "code",
   "execution_count": 10,
   "id": "de19a968",
   "metadata": {},
   "outputs": [
    {
     "name": "stdout",
     "output_type": "stream",
     "text": [
      "--\n",
      "BICCN_ontology_term_id_colors\n",
      "['#c2f515' '#9535f3' '#7b90b5' '#8e0abb' '#932f39' '#842102' '#d14d3a'\n",
      " '#be0a38' '#41763e' '#c1dea5' '#61072' '#db8fd1' '#7d3624' '#c3347f'\n",
      " '#624095' '#9fc916' '#9b09f6']\n",
      "BICCN_ontology_term_id:17 values of type:category\n",
      "--\n",
      "------------------\n",
      "Loading dependencies\n",
      "Loading validator modules\n",
      "\n",
      "Starting validation...\n",
      "WARNING: Validation of raw layer was not performed due to current errors, try again after fixing current errors.\n",
      "ERROR: Colors in uns[BICCN_ontology_term_id_colors] must be either all hex colors or all CSS4 named colors. Found: ['#41763e' '#61072' '#624095' '#7b90b5' '#7d3624' '#842102' '#8e0abb'\n",
      " '#932f39' '#9535f3' '#9b09f6' '#9fc916' '#be0a38' '#c1dea5' '#c2f515'\n",
      " '#c3347f' '#d14d3a' '#db8fd1']\n",
      "Validation complete in 0:00:00.524219 with status is_valid=False\n",
      "------------------\n",
      "\u001b[1m\u001b[91mERROR\u001b[0m\n"
     ]
    }
   ],
   "source": [
    "adata.uns = {'title': 'temporary title'}\n",
    "#colors for non-schema *_ontology_term_id - hex\n",
    "adata.uns['title'] = '513 colors for non-schema *_ontology_term_id'\n",
    "\n",
    "adata.uns['BICCN_ontology_term_id_colors'] = np.array(create_color_list(17))\n",
    "save_and_test(adata, 'True')"
   ]
  },
  {
   "cell_type": "code",
   "execution_count": 11,
   "id": "6e52a4f1",
   "metadata": {},
   "outputs": [
    {
     "name": "stderr",
     "output_type": "stream",
     "text": [
      "/var/folders/63/6nnd9y1x6y769sbxd81cy8380000gn/T/ipykernel_53465/565956949.py:4: DeprecationWarning: Sampling from a set deprecated\n",
      "since Python 3.9 and will be removed in a subsequent version.\n",
      "  adata.uns['BICCN_ontology_term_id_colors'] = np.array(random.sample(mcolors.CSS4_COLORS.keys(), 17))\n"
     ]
    },
    {
     "name": "stdout",
     "output_type": "stream",
     "text": [
      "--\n",
      "BICCN_ontology_term_id_colors\n",
      "['gray' 'lightslategray' 'springgreen' 'skyblue' 'plum' 'fuchsia'\n",
      " 'aliceblue' 'slateblue' 'dodgerblue' 'yellow' 'moccasin' 'teal' 'navy'\n",
      " 'beige' 'darkslategrey' 'powderblue' 'mediumblue']\n",
      "BICCN_ontology_term_id:17 values of type:category\n",
      "--\n",
      "------------------\n",
      "Loading dependencies\n",
      "Loading validator modules\n",
      "\n",
      "Starting validation...\n",
      "WARNING: Validation of raw layer was not performed due to current errors, try again after fixing current errors.\n",
      "ERROR: Colors in uns[BICCN_ontology_term_id_colors] must be either all hex colors or all CSS4 named colors. Found: ['aliceblue' 'beige' 'darkslategrey' 'dodgerblue' 'fuchsia' 'gray'\n",
      " 'lightslategray' 'mediumblue' 'moccasin' 'navy' 'plum' 'powderblue'\n",
      " 'skyblue' 'slateblue' 'springgreen' 'teal' 'yellow']\n",
      "Validation complete in 0:00:00.523417 with status is_valid=False\n",
      "------------------\n",
      "\u001b[1m\u001b[91mERROR\u001b[0m\n"
     ]
    }
   ],
   "source": [
    "#colors for non-schema_ontology_term_id - named\n",
    "adata.uns['title'] = '513 colors for non-schema_ontology_term_id'\n",
    "\n",
    "adata.uns['BICCN_ontology_term_id_colors'] = np.array(random.sample(mcolors.CSS4_COLORS.keys(), 17))\n",
    "save_and_test(adata, 'True')"
   ]
  },
  {
   "cell_type": "code",
   "execution_count": 12,
   "id": "fb66aa19",
   "metadata": {},
   "outputs": [
    {
     "name": "stderr",
     "output_type": "stream",
     "text": [
      "/var/folders/63/6nnd9y1x6y769sbxd81cy8380000gn/T/ipykernel_53465/3666815808.py:6: DeprecationWarning: Sampling from a set deprecated\n",
      "since Python 3.9 and will be removed in a subsequent version.\n",
      "  adata.uns['assay_ontology_term_id_colors'] = random.sample(mcolors.CSS4_COLORS.keys(), 1)\n"
     ]
    },
    {
     "name": "stdout",
     "output_type": "stream",
     "text": [
      "--\n",
      "assay_ontology_term_id_colors\n",
      "['lavenderblush']\n",
      "assay_ontology_term_id:1 values of type:category\n",
      "--\n",
      "--\n",
      "sex_ontology_term_id_colors\n",
      "['#f07304' '#e18eac']\n",
      "sex_ontology_term_id:2 values of type:category\n",
      "--\n",
      "------------------\n",
      "Loading dependencies\n",
      "Loading validator modules\n",
      "\n",
      "Starting validation...\n",
      "Validation complete in 0:00:01.629299 with status is_valid=True\n",
      "------------------\n",
      "\u001b[1m\u001b[92mPASSED\u001b[0m\n"
     ]
    }
   ],
   "source": [
    "adata.uns = {'title': 'temporary title'}\n",
    "#colors is for *_ontology_term_id = hex * named\n",
    "adata.uns['title'] = '513 colors is for *_ontology_term_id'\n",
    "\n",
    "adata.uns['sex_ontology_term_id_colors'] = np.array(create_color_list(2))\n",
    "adata.uns['assay_ontology_term_id_colors'] = random.sample(mcolors.CSS4_COLORS.keys(), 1)\n",
    "save_and_test(adata, 'True')"
   ]
  },
  {
   "cell_type": "code",
   "execution_count": 13,
   "id": "93244d5c",
   "metadata": {},
   "outputs": [
    {
     "name": "stderr",
     "output_type": "stream",
     "text": [
      "/var/folders/63/6nnd9y1x6y769sbxd81cy8380000gn/T/ipykernel_53465/83740981.py:5: DeprecationWarning: Sampling from a set deprecated\n",
      "since Python 3.9 and will be removed in a subsequent version.\n",
      "  adata.uns['BICCN_class_label_colors'] = random.sample(mcolors.CSS4_COLORS.keys(), 2)\n"
     ]
    },
    {
     "name": "stdout",
     "output_type": "stream",
     "text": [
      "--\n",
      "BICCN_class_label_colors\n",
      "['dodgerblue' 'oldlace' 'dodgerblue' 'oldlace']\n",
      "BICCN_class_label:3 values of type:category\n",
      "--\n",
      "--\n",
      "cell_type_ontology_term_id_colors\n",
      "['#c6b71b' '#db098a' '#a60ac8' '#c6b71b' '#db098a' '#a60ac8']\n",
      "cell_type_ontology_term_id:6 values of type:category\n",
      "--\n",
      "------------------\n",
      "Loading dependencies\n",
      "Loading validator modules\n",
      "\n",
      "Starting validation...\n",
      "WARNING: Validation of raw layer was not performed due to current errors, try again after fixing current errors.\n",
      "ERROR: Annotated categorical field BICCN_class_label must have at least 3 color options in uns[BICCN_class_label_colors]. Found: ['dodgerblue' 'oldlace']\n",
      "ERROR: Annotated categorical field cell_type_ontology_term_id must have at least 6 color options in uns[cell_type_ontology_term_id_colors]. Found: ['#a60ac8' '#c6b71b' '#db098a']\n",
      "Validation complete in 0:00:00.641408 with status is_valid=False\n",
      "------------------\n",
      "\u001b[1m\u001b[91mERROR\u001b[0m\n"
     ]
    }
   ],
   "source": [
    "adata.uns = {'title': 'temporary title'}\n",
    "#duplicate colors in a list - hex & named\n",
    "adata.uns['title'] = '513 duplicate colors in a list'\n",
    "\n",
    "adata.uns['BICCN_class_label_colors'] = random.sample(mcolors.CSS4_COLORS.keys(), 2)\n",
    "adata.uns['BICCN_class_label_colors'] += adata.uns['BICCN_class_label_colors']\n",
    "adata.uns['BICCN_class_label_colors'] = np.array(adata.uns['BICCN_class_label_colors'])\n",
    "\n",
    "adata.uns['cell_type_ontology_term_id_colors'] = create_color_list(3)\n",
    "adata.uns['cell_type_ontology_term_id_colors'] += adata.uns['cell_type_ontology_term_id_colors']\n",
    "adata.uns['cell_type_ontology_term_id_colors'] = np.array(adata.uns['cell_type_ontology_term_id_colors'])\n",
    "save_and_test(adata, 'True')"
   ]
  },
  {
   "cell_type": "markdown",
   "id": "36b19db2",
   "metadata": {},
   "source": [
    "**Test invalid cases**"
   ]
  },
  {
   "cell_type": "code",
   "execution_count": 14,
   "id": "75307e6a",
   "metadata": {},
   "outputs": [
    {
     "name": "stderr",
     "output_type": "stream",
     "text": [
      "/var/folders/63/6nnd9y1x6y769sbxd81cy8380000gn/T/ipykernel_6839/2281613395.py:4: DeprecationWarning: Sampling from a set deprecated\n",
      "since Python 3.9 and will be removed in a subsequent version.\n",
      "  adata.uns['BICCN_class_label_colors'] = np.array(random.sample(mcolors.CSS4_COLORS.keys(), 1))\n"
     ]
    },
    {
     "name": "stdout",
     "output_type": "stream",
     "text": [
      "--\n",
      "BICCN_class_label_colors\n",
      "['powderblue']\n",
      "BICCN_class_label:3 values of type:category\n",
      "--\n",
      "--\n",
      "temp_class_label_colors\n",
      "['#670d17' '#550496']\n",
      "temp_class_label:17 values of type:category\n",
      "--\n",
      "------------------\n",
      "Loading dependencies\n",
      "Loading validator modules\n",
      "\n",
      "Starting validation...\n",
      "WARNING: Validation of raw layer was not performed due to current errors, try again after fixing current errors.\n",
      "ERROR: Colors in uns[BICCN_class_label_colors] must be strings. Found: ['powderblue']\n",
      "ERROR: Colors in uns[temp_class_label_colors] must be strings. Found: ['#670d17' '#550496']\n",
      "Validation complete in 0:00:00.514451 with status is_valid=False\n",
      "------------------\n",
      "\u001b[1m\u001b[92mPASSED\u001b[0m\n"
     ]
    }
   ],
   "source": [
    "adata.uns = {'title': 'temporary title'}\n",
    "#invalid test for length of colors array is less than obs counterpart - named & hex\n",
    "adata.uns['temp_class_label_colors'] = np.array(create_color_list(2))\n",
    "adata.uns['BICCN_class_label_colors'] = np.array(random.sample(mcolors.CSS4_COLORS.keys(), 1))\n",
    "save_and_test(adata, 'False')"
   ]
  },
  {
   "cell_type": "code",
   "execution_count": 15,
   "id": "51190aa7",
   "metadata": {},
   "outputs": [
    {
     "name": "stdout",
     "output_type": "stream",
     "text": [
      "--\n",
      "BICCN_class_label_colors\n",
      "[]\n",
      "BICCN_class_label:3 values of type:category\n",
      "--\n",
      "------------------\n",
      "Loading dependencies\n",
      "Loading validator modules\n",
      "\n",
      "Starting validation...\n",
      "WARNING: Validation of raw layer was not performed due to current errors, try again after fixing current errors.\n",
      "ERROR: Colors in uns[BICCN_class_label_colors] must be strings. Found: []\n",
      "Validation complete in 0:00:00.512304 with status is_valid=False\n",
      "------------------\n",
      "\u001b[1m\u001b[92mPASSED\u001b[0m\n"
     ]
    }
   ],
   "source": [
    "adata.uns = {'title': 'temporary title'}\n",
    "#invalid test for colors array that is empty np array\n",
    "adata.uns['BICCN_class_label_colors'] = np.array([])\n",
    "save_and_test(adata, 'False')"
   ]
  },
  {
   "cell_type": "code",
   "execution_count": 16,
   "id": "33e25d73",
   "metadata": {},
   "outputs": [
    {
     "name": "stdout",
     "output_type": "stream",
     "text": [
      "--\n",
      "BICCN_class_label_colors\n",
      "[nan nan nan]\n",
      "BICCN_class_label:3 values of type:category\n",
      "--\n",
      "------------------\n",
      "Loading dependencies\n",
      "Loading validator modules\n",
      "\n",
      "Starting validation...\n",
      "WARNING: Validation of raw layer was not performed due to current errors, try again after fixing current errors.\n",
      "ERROR: Colors in uns[BICCN_class_label_colors] must be strings. Found: [nan nan nan]\n",
      "Validation complete in 0:00:00.528823 with status is_valid=False\n",
      "------------------\n",
      "\u001b[1m\u001b[92mPASSED\u001b[0m\n"
     ]
    }
   ],
   "source": [
    "adata.uns = {'title': 'temporary title'}\n",
    "#invalid test for colors array that is None or np.nan\n",
    "adata.uns['BICCN_class_label_colors'] = np.array([np.nan, np.nan, np.nan])\n",
    "save_and_test(adata, 'False')"
   ]
  },
  {
   "cell_type": "code",
   "execution_count": 17,
   "id": "bad379fa",
   "metadata": {},
   "outputs": [
    {
     "name": "stdout",
     "output_type": "stream",
     "text": [
      "--\n",
      "BICCN_class_label_colors\n",
      "['' '' '']\n",
      "BICCN_class_label:3 values of type:category\n",
      "--\n",
      "------------------\n",
      "Loading dependencies\n",
      "Loading validator modules\n",
      "\n",
      "Starting validation...\n",
      "WARNING: Validation of raw layer was not performed due to current errors, try again after fixing current errors.\n",
      "ERROR: Colors in uns[BICCN_class_label_colors] must be strings. Found: ['' '' '']\n",
      "Validation complete in 0:00:00.601835 with status is_valid=False\n",
      "------------------\n",
      "\u001b[1m\u001b[92mPASSED\u001b[0m\n"
     ]
    }
   ],
   "source": [
    "adata.uns = {'title': 'temporary title'}\n",
    "#invalid test for colors array that is empty strings\n",
    "adata.uns['BICCN_class_label_colors'] = np.array(['','',''])\n",
    "save_and_test(adata, 'False')"
   ]
  },
  {
   "cell_type": "code",
   "execution_count": 18,
   "id": "46504981",
   "metadata": {},
   "outputs": [
    {
     "name": "stderr",
     "output_type": "stream",
     "text": [
      "/var/folders/63/6nnd9y1x6y769sbxd81cy8380000gn/T/ipykernel_6839/1445415300.py:4: DeprecationWarning: Sampling from a set deprecated\n",
      "since Python 3.9 and will be removed in a subsequent version.\n",
      "  adata.uns['sex_ontology_term_id_colors'] = ','.join(random.sample(mcolors.CSS4_COLORS.keys(), 2))\n"
     ]
    },
    {
     "name": "stdout",
     "output_type": "stream",
     "text": [
      "--\n",
      "BICCN_class_label_colors\n",
      "#68952e,#2f1f73,#cc5c4e,#7ee86b,#39f382,#5a4a25,#e1c908,#cf4ce0,#4225c5,#ac2690,#881d6f,#ce3921,#418e1b,#fc02ae,#ab2e4,#6bd49b,#3cda6b\n",
      "BICCN_class_label:3 values of type:category\n",
      "--\n",
      "--\n",
      "sex_ontology_term_id_colors\n",
      "lime,teal\n",
      "sex_ontology_term_id:2 values of type:category\n",
      "--\n",
      "------------------\n",
      "Loading dependencies\n",
      "Loading validator modules\n",
      "\n",
      "Starting validation...\n",
      "WARNING: Validation of raw layer was not performed due to current errors, try again after fixing current errors.\n",
      "ERROR: Colors field uns['BICCN_class_label_colors'] must be of 'numpy.ndarray' type, it is <class 'str'>\n",
      "ERROR: Colors field uns['sex_ontology_term_id_colors'] must be of 'numpy.ndarray' type, it is <class 'str'>\n",
      "Validation complete in 0:00:00.541761 with status is_valid=False\n",
      "------------------\n",
      "\u001b[1m\u001b[92mPASSED\u001b[0m\n"
     ]
    }
   ],
   "source": [
    "adata.uns = {'title': 'temporary title'}\n",
    "#invalid test for colors as string or dictionary\n",
    "adata.uns['BICCN_class_label_colors'] = ','.join(create_color_list(17))\n",
    "adata.uns['sex_ontology_term_id_colors'] = ','.join(random.sample(mcolors.CSS4_COLORS.keys(), 2))\n",
    "save_and_test(adata, 'False')"
   ]
  },
  {
   "cell_type": "code",
   "execution_count": 19,
   "id": "c7421f3c",
   "metadata": {},
   "outputs": [
    {
     "name": "stderr",
     "output_type": "stream",
     "text": [
      "/var/folders/63/6nnd9y1x6y769sbxd81cy8380000gn/T/ipykernel_6839/1083785059.py:4: DeprecationWarning: Sampling from a set deprecated\n",
      "since Python 3.9 and will be removed in a subsequent version.\n",
      "  adata.uns['sex_colors'] = np.array(random.sample(mcolors.CSS4_COLORS.keys(), 2))\n"
     ]
    },
    {
     "name": "stdout",
     "output_type": "stream",
     "text": [
      "--\n",
      "cell_type_colors\n",
      "['#d2520f' '#59900b' '#149ee6' '#330c9a' '#3f6020' '#5c566']\n",
      "cell_type not in obs\n",
      "--\n",
      "--\n",
      "sex_colors\n",
      "['cornflowerblue' 'dimgrey']\n",
      "sex not in obs\n",
      "--\n",
      "------------------\n",
      "Loading dependencies\n",
      "Loading validator modules\n",
      "\n",
      "Starting validation...\n",
      "WARNING: Validation of raw layer was not performed due to current errors, try again after fixing current errors.\n",
      "ERROR: Colors field uns[cell_type_colors] does not have a corresponding categorical field in obs\n",
      "ERROR: Colors field uns[sex_colors] does not have a corresponding categorical field in obs\n",
      "Validation complete in 0:00:00.533900 with status is_valid=False\n",
      "------------------\n",
      "\u001b[1m\u001b[92mPASSED\u001b[0m\n"
     ]
    }
   ],
   "source": [
    "adata.uns = {'title': 'temporary title'}\n",
    "#colors for schema fields - named & hex\n",
    "adata.uns['cell_type_colors'] = np.array(create_color_list(6))\n",
    "adata.uns['sex_colors'] = np.array(random.sample(mcolors.CSS4_COLORS.keys(), 2))\n",
    "save_and_test(adata, 'False')"
   ]
  },
  {
   "cell_type": "code",
   "execution_count": 20,
   "id": "4a297e63",
   "metadata": {},
   "outputs": [
    {
     "name": "stdout",
     "output_type": "stream",
     "text": [
      "--\n",
      "author_cell_type_colors\n",
      "['#4ed5f3' '#382692' '#703dde' '#492ab3' '#5ced6a' '#e7a77c' '#32753c'\n",
      " '#cc57c8' '#5b33a0' '#528643' '#d7cbfc' '#32dbc' '#255c41' '#6ba963'\n",
      " '#82d2fa' '#77cd2c' '#5783b5']\n",
      "author_cell_type not in obs\n",
      "--\n",
      "------------------\n",
      "Loading dependencies\n",
      "Loading validator modules\n",
      "\n",
      "Starting validation...\n",
      "WARNING: Validation of raw layer was not performed due to current errors, try again after fixing current errors.\n",
      "ERROR: Colors field uns[author_cell_type_colors] does not have a corresponding categorical field in obs\n",
      "Validation complete in 0:00:00.516170 with status is_valid=False\n",
      "------------------\n",
      "\u001b[1m\u001b[92mPASSED\u001b[0m\n"
     ]
    }
   ],
   "source": [
    "adata.uns = {'title': 'temporary title'}\n",
    "#colors does not have obs counterpart\n",
    "adata.uns['author_cell_type_colors'] = np.array(create_color_list(17))\n",
    "save_and_test(adata, 'False')"
   ]
  },
  {
   "cell_type": "code",
   "execution_count": 21,
   "id": "b672c585",
   "metadata": {},
   "outputs": [
    {
     "name": "stderr",
     "output_type": "stream",
     "text": [
      "/var/folders/63/6nnd9y1x6y769sbxd81cy8380000gn/T/ipykernel_6839/386928218.py:4: DeprecationWarning: Sampling from a set deprecated\n",
      "since Python 3.9 and will be removed in a subsequent version.\n",
      "  np.array(create_color_list(20) + random.sample(mcolors.CSS4_COLORS.keys(), 20))\n"
     ]
    },
    {
     "name": "stdout",
     "output_type": "stream",
     "text": [
      "--\n",
      "BICCN_ontology_term_id_colors\n",
      "['#f5b0f6' '#e4c5a1' '#7172e9' '#db066d' '#6c19a' '#94535f' '#c0e567'\n",
      " '#f27bb7' '#2bed14' '#6b9cc2' '#9add3d' '#3e1dfe' '#4a2347' '#72d8a0'\n",
      " '#60920f' '#391d74' '#8292a' '#90b26d' '#4b8895' '#ba6896'\n",
      " 'darkslategrey' 'lightseagreen' 'saddlebrown' 'lightgoldenrodyellow'\n",
      " 'mediumblue' 'steelblue' 'gold' 'darkorange' 'lightblue' 'dodgerblue'\n",
      " 'darkmagenta' 'olive' 'brown' 'lightgray' 'greenyellow' 'lavender'\n",
      " 'gainsboro' 'mediumslateblue' 'navy' 'slategray']\n",
      "BICCN_ontology_term_id:17 values of type:category\n",
      "--\n",
      "------------------\n",
      "Loading dependencies\n",
      "Loading validator modules\n",
      "\n",
      "Starting validation...\n",
      "WARNING: Validation of raw layer was not performed due to current errors, try again after fixing current errors.\n",
      "ERROR: Colors in uns[BICCN_ontology_term_id_colors] must be strings. Found: ['#f5b0f6' '#e4c5a1' '#7172e9' '#db066d' '#6c19a' '#94535f' '#c0e567'\n",
      " '#f27bb7' '#2bed14' '#6b9cc2' '#9add3d' '#3e1dfe' '#4a2347' '#72d8a0'\n",
      " '#60920f' '#391d74' '#8292a' '#90b26d' '#4b8895' '#ba6896'\n",
      " 'darkslategrey' 'lightseagreen' 'saddlebrown' 'lightgoldenrodyellow'\n",
      " 'mediumblue' 'steelblue' 'gold' 'darkorange' 'lightblue' 'dodgerblue'\n",
      " 'darkmagenta' 'olive' 'brown' 'lightgray' 'greenyellow' 'lavender'\n",
      " 'gainsboro' 'mediumslateblue' 'navy' 'slategray']\n",
      "Validation complete in 0:00:00.531222 with status is_valid=False\n",
      "------------------\n",
      "\u001b[1m\u001b[92mPASSED\u001b[0m\n"
     ]
    }
   ],
   "source": [
    "adata.uns = {'title': 'temporary title'}\n",
    "#colors is mixed named & hex\n",
    "adata.uns['BICCN_ontology_term_id_colors'] = \\\n",
    "    np.array(create_color_list(20) + random.sample(mcolors.CSS4_COLORS.keys(), 20))\n",
    "save_and_test(adata, 'False')"
   ]
  },
  {
   "cell_type": "code",
   "execution_count": 22,
   "id": "1a62f63f",
   "metadata": {},
   "outputs": [
    {
     "name": "stderr",
     "output_type": "stream",
     "text": [
      "/var/folders/63/6nnd9y1x6y769sbxd81cy8380000gn/T/ipykernel_6839/2724578257.py:3: DeprecationWarning: Sampling from a set deprecated\n",
      "since Python 3.9 and will be removed in a subsequent version.\n",
      "  adata.uns['BICCN_class_label_colors'] = np.array(random.sample(mcolors.BASE_COLORS.keys(), 3))\n"
     ]
    },
    {
     "name": "stdout",
     "output_type": "stream",
     "text": [
      "--\n",
      "BICCN_class_label_colors\n",
      "['y' 'c' 'w']\n",
      "BICCN_class_label:3 values of type:category\n",
      "--\n",
      "------------------\n",
      "Loading dependencies\n",
      "Loading validator modules\n",
      "\n",
      "Starting validation...\n",
      "WARNING: Validation of raw layer was not performed due to current errors, try again after fixing current errors.\n",
      "ERROR: Colors in uns[BICCN_class_label_colors] must be strings. Found: ['y' 'c' 'w']\n",
      "Validation complete in 0:00:00.522807 with status is_valid=False\n",
      "------------------\n",
      "\u001b[1m\u001b[92mPASSED\u001b[0m\n"
     ]
    }
   ],
   "source": [
    "adata.uns = {'title': 'temporary title'}\n",
    "#colors is non-named or hex\n",
    "adata.uns['BICCN_class_label_colors'] = np.array(random.sample(mcolors.BASE_COLORS.keys(), 3))\n",
    "save_and_test(adata, 'False')"
   ]
  },
  {
   "cell_type": "code",
   "execution_count": 23,
   "id": "b6b9b488",
   "metadata": {},
   "outputs": [
    {
     "name": "stdout",
     "output_type": "stream",
     "text": [
      "--\n",
      "BICCN_class_label_colors\n",
      "[[0.   0.5  0.  ]\n",
      " [0.   0.75 0.75]\n",
      " [0.75 0.   0.75]]\n",
      "BICCN_class_label:3 values of type:category\n",
      "--\n",
      "------------------\n",
      "Loading dependencies\n",
      "Loading validator modules\n",
      "\n",
      "Starting validation...\n",
      "WARNING: Validation of raw layer was not performed due to current errors, try again after fixing current errors.\n",
      "ERROR: Colors in uns[BICCN_class_label_colors] must be strings. Found: [[0.   0.5  0.  ]\n",
      " [0.   0.75 0.75]\n",
      " [0.75 0.   0.75]]\n",
      "Validation complete in 0:00:00.518634 with status is_valid=False\n",
      "------------------\n",
      "\u001b[1m\u001b[92mPASSED\u001b[0m\n"
     ]
    }
   ],
   "source": [
    "#colors is non-named or hex\n",
    "adata.uns['BICCN_class_label_colors'] = np.array(random.sample(list(mcolors.BASE_COLORS.values()), 3))\n",
    "save_and_test(adata, 'False')"
   ]
  },
  {
   "cell_type": "code",
   "execution_count": 24,
   "id": "f0108058",
   "metadata": {},
   "outputs": [
    {
     "name": "stderr",
     "output_type": "stream",
     "text": [
      "/var/folders/63/6nnd9y1x6y769sbxd81cy8380000gn/T/ipykernel_6839/3751173854.py:2: DeprecationWarning: Sampling from a set deprecated\n",
      "since Python 3.9 and will be removed in a subsequent version.\n",
      "  adata.uns['BICCN_class_label_colors'] = np.array(random.sample(mcolors.XKCD_COLORS.keys(), 3))\n"
     ]
    },
    {
     "name": "stdout",
     "output_type": "stream",
     "text": [
      "--\n",
      "BICCN_class_label_colors\n",
      "['xkcd:dark sage' 'xkcd:pistachio' 'xkcd:peacock blue']\n",
      "BICCN_class_label:3 values of type:category\n",
      "--\n",
      "------------------\n",
      "Loading dependencies\n",
      "Loading validator modules\n",
      "\n",
      "Starting validation...\n",
      "WARNING: Validation of raw layer was not performed due to current errors, try again after fixing current errors.\n",
      "ERROR: Colors in uns[BICCN_class_label_colors] must be strings. Found: ['xkcd:dark sage' 'xkcd:pistachio' 'xkcd:peacock blue']\n",
      "Validation complete in 0:00:00.537274 with status is_valid=False\n",
      "------------------\n",
      "\u001b[1m\u001b[92mPASSED\u001b[0m\n"
     ]
    }
   ],
   "source": [
    "#colors is non-named or hex\n",
    "adata.uns['BICCN_class_label_colors'] = np.array(random.sample(mcolors.XKCD_COLORS.keys(), 3))\n",
    "save_and_test(adata, 'False')"
   ]
  },
  {
   "cell_type": "code",
   "execution_count": 25,
   "id": "05dd5530",
   "metadata": {},
   "outputs": [
    {
     "name": "stderr",
     "output_type": "stream",
     "text": [
      "/var/folders/63/6nnd9y1x6y769sbxd81cy8380000gn/T/ipykernel_6839/3878135180.py:2: DeprecationWarning: Sampling from a set deprecated\n",
      "since Python 3.9 and will be removed in a subsequent version.\n",
      "  adata.uns['BICCN_class_label_colors'] = np.array(random.sample(mcolors.TABLEAU_COLORS.keys(), 3))\n"
     ]
    },
    {
     "name": "stdout",
     "output_type": "stream",
     "text": [
      "--\n",
      "BICCN_class_label_colors\n",
      "['tab:orange' 'tab:cyan' 'tab:brown']\n",
      "BICCN_class_label:3 values of type:category\n",
      "--\n",
      "------------------\n",
      "Loading dependencies\n",
      "Loading validator modules\n",
      "\n",
      "Starting validation...\n",
      "WARNING: Validation of raw layer was not performed due to current errors, try again after fixing current errors.\n",
      "ERROR: Colors in uns[BICCN_class_label_colors] must be strings. Found: ['tab:orange' 'tab:cyan' 'tab:brown']\n",
      "Validation complete in 0:00:00.523151 with status is_valid=False\n",
      "------------------\n",
      "\u001b[1m\u001b[92mPASSED\u001b[0m\n"
     ]
    }
   ],
   "source": [
    "#colors is non-named or hex\n",
    "adata.uns['BICCN_class_label_colors'] = np.array(random.sample(mcolors.TABLEAU_COLORS.keys(), 3))\n",
    "save_and_test(adata, 'False')"
   ]
  },
  {
   "cell_type": "code",
   "execution_count": 26,
   "id": "43330dad",
   "metadata": {},
   "outputs": [
    {
     "name": "stderr",
     "output_type": "stream",
     "text": [
      "/var/folders/63/6nnd9y1x6y769sbxd81cy8380000gn/T/ipykernel_6839/3542767481.py:3: DeprecationWarning: Sampling from a set deprecated\n",
      "since Python 3.9 and will be removed in a subsequent version.\n",
      "  adata.uns['is_primary_data_colors'] = np.array(random.sample(mcolors.CSS4_COLORS.keys(), 1))\n"
     ]
    },
    {
     "name": "stdout",
     "output_type": "stream",
     "text": [
      "--\n",
      "is_primary_data_colors\n",
      "['rebeccapurple']\n",
      "is_primary_data:1 values of type:bool\n",
      "--\n",
      "------------------\n",
      "Loading dependencies\n",
      "Loading validator modules\n",
      "\n",
      "Starting validation...\n",
      "WARNING: Validation of raw layer was not performed due to current errors, try again after fixing current errors.\n",
      "ERROR: Colors field uns[is_primary_data_colors] does not have a corresponding categorical field in obs\n",
      "Validation complete in 0:00:00.535543 with status is_valid=False\n",
      "------------------\n",
      "\u001b[1m\u001b[92mPASSED\u001b[0m\n"
     ]
    }
   ],
   "source": [
    "adata.uns = {'title': 'temporary title'}\n",
    "#colors counterpart in obs is boolean\n",
    "adata.uns['is_primary_data_colors'] = np.array(random.sample(mcolors.CSS4_COLORS.keys(), 1))\n",
    "save_and_test(adata, 'False')"
   ]
  },
  {
   "cell_type": "code",
   "execution_count": 27,
   "id": "3e681ba0",
   "metadata": {},
   "outputs": [
    {
     "name": "stdout",
     "output_type": "stream",
     "text": [
      "--\n",
      "size_colors\n",
      "['#92a9ab' '#44b4c' '#a48b58' '#8fa2' '#244f84' '#a18f46' '#fa9622'\n",
      " '#483586' '#fbbe8' '#65597' '#d75471' '#aa2177' '#b0cadd' '#aaf7c8'\n",
      " '#23602c' '#7ce633' '#a23b93']\n",
      "size:55 values of type:float64\n",
      "--\n",
      "------------------\n",
      "Loading dependencies\n",
      "Loading validator modules\n",
      "\n",
      "Starting validation...\n",
      "WARNING: Validation of raw layer was not performed due to current errors, try again after fixing current errors.\n",
      "ERROR: Colors field uns[size_colors] does not have a corresponding categorical field in obs\n",
      "Validation complete in 0:00:00.587618 with status is_valid=False\n",
      "------------------\n",
      "\u001b[1m\u001b[92mPASSED\u001b[0m\n"
     ]
    }
   ],
   "source": [
    "adata.uns = {'title': 'temporary title'}\n",
    "#colors counterpart in obs is float\n",
    "adata.uns['size_colors'] = np.array(create_color_list(17))\n",
    "save_and_test(adata, 'False')"
   ]
  },
  {
   "cell_type": "code",
   "execution_count": 28,
   "id": "10c71a67",
   "metadata": {},
   "outputs": [
    {
     "name": "stdout",
     "output_type": "stream",
     "text": [
      "--\n",
      "BICCN_cluster_id_colors\n",
      "['#22edce' '#2b0ce2' '#210182' '#2467d1' '#278e44' '#ef12d0' '#605157'\n",
      " '#e4d019' '#6c2bc6' '#5afa6a' '#ab20bd' '#cabe1a' '#9e9f76' '#78011c'\n",
      " '#20b591' '#e0f43a' '#a3b8cf' '#f0ee36' '#a69935' '#c1c121' '#b4f2cc'\n",
      " '#6bee47' '#9ab08c' '#149608' '#f10b18' '#cd8a39' '#6150cf' '#98841e'\n",
      " '#4bff25' '#3f7e0' '#2f602' '#829037' '#a4243b' '#823b63' '#472f46'\n",
      " '#aaa883' '#46326b' '#b989c0' '#fb7e27' '#bb3399' '#43c67' '#3d8ef2'\n",
      " '#1d032' '#df06db' '#c7235' '#18f3c5' '#e3f918' '#844597' '#f78fb1'\n",
      " '#e93cf8' '#1d38a0' '#5ffd7b' '#1aa4e0' '#c1ffbb' '#c179ea' '#6d4839'\n",
      " '#6a1a72' '#c11eda' '#1d559' '#9a59ee' '#169f5c']\n",
      "BICCN_cluster_id:61 values of type:int64\n",
      "--\n",
      "------------------\n",
      "Loading dependencies\n",
      "Loading validator modules\n",
      "\n",
      "Starting validation...\n",
      "WARNING: Validation of raw layer was not performed due to current errors, try again after fixing current errors.\n",
      "ERROR: Colors field uns[BICCN_cluster_id_colors] does not have a corresponding categorical field in obs\n",
      "Validation complete in 0:00:00.518460 with status is_valid=False\n",
      "------------------\n",
      "\u001b[1m\u001b[92mPASSED\u001b[0m\n"
     ]
    }
   ],
   "source": [
    "adata.uns = {'title': 'temporary title'}\n",
    "adata.obs['BICCN_cluster_id'] = adata.obs['BICCN_cluster_id'].map(int)\n",
    "#colors counterpart in obs is int\n",
    "adata.uns['BICCN_cluster_id_colors'] = np.array(create_color_list(61))\n",
    "save_and_test(adata, 'False')"
   ]
  },
  {
   "cell_type": "code",
   "execution_count": 29,
   "id": "0a143aa3",
   "metadata": {},
   "outputs": [],
   "source": [
    "#not np.array - couldn't test as array seems to be converted upon writing AnnData"
   ]
  },
  {
   "cell_type": "code",
   "execution_count": null,
   "id": "a5ee7420",
   "metadata": {},
   "outputs": [],
   "source": []
  }
 ],
 "metadata": {
  "kernelspec": {
   "display_name": "Python 3 (ipykernel)",
   "language": "python",
   "name": "python3"
  },
  "language_info": {
   "codemirror_mode": {
    "name": "ipython",
    "version": 3
   },
   "file_extension": ".py",
   "mimetype": "text/x-python",
   "name": "python",
   "nbconvert_exporter": "python",
   "pygments_lexer": "ipython3",
   "version": "3.9.18"
  }
 },
 "nbformat": 4,
 "nbformat_minor": 5
}
