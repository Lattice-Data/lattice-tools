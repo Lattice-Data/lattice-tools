{
 "cells": [
  {
   "cell_type": "markdown",
   "id": "0fdc81bf",
   "metadata": {},
   "source": [
    "https://github.com/chanzuckerberg/single-cell-curation/issues/513 <br>\n",
    "https://github.com/chanzuckerberg/single-cell-curation/blob/main/schema/4.0.0/schema.md#column_colors"
   ]
  },
  {
   "cell_type": "code",
   "execution_count": 8,
   "id": "2b8b98ac",
   "metadata": {},
   "outputs": [],
   "source": [
    "import cxg_upload\n",
    "import matplotlib.colors as mcolors\n",
    "import numpy as np\n",
    "import os\n",
    "import pandas as pd\n",
    "import random\n",
    "import scanpy as sc\n",
    "import subprocess\n",
    "from datetime import datetime"
   ]
  },
  {
   "cell_type": "code",
   "execution_count": 9,
   "id": "75849952",
   "metadata": {},
   "outputs": [],
   "source": [
    "def validate(file):\n",
    "    validate_process = subprocess.run(['cellxgene-schema', 'validate', file], stdout=subprocess.PIPE, stderr=subprocess.PIPE)\n",
    "    for line in validate_process.stdout.decode('utf-8').split('\\n'):\n",
    "        print(line)\n",
    "    for line in validate_process.stderr.decode('utf-8').split('\\n'):\n",
    "        print(line)\n",
    "        if 'is_valid=' in line:\n",
    "            valid = line.split('=')[-1]\n",
    "            return valid"
   ]
  },
  {
   "cell_type": "code",
   "execution_count": 10,
   "id": "19365f72",
   "metadata": {},
   "outputs": [],
   "source": [
    "def save_and_test(adata, expected):\n",
    "    now = datetime.now() \n",
    "    dt_string = now.strftime('%m/%d %H:%M')\n",
    "    adata.uns['title'] += (' - ' + dt_string)\n",
    "\n",
    "    file = 'test.h5ad'\n",
    "    adata.write(filename=file)\n",
    "    test_adata = sc.read_h5ad(file)\n",
    "    for k,v in test_adata.uns.items():\n",
    "        if k.endswith('_colors'):\n",
    "            print('--')\n",
    "            print(k)\n",
    "            print(v)\n",
    "            obs_field = k.replace('_colors','')\n",
    "            if obs_field in test_adata.obs.columns:\n",
    "                uniq_vals = str(len(test_adata.obs[obs_field].unique()))\n",
    "                val_type = str(test_adata.obs[obs_field].dtype)\n",
    "                print(obs_field + ':' + uniq_vals + ' values of type:' + val_type)\n",
    "            else:\n",
    "                print(obs_field + ' not in obs')\n",
    "            print('--')\n",
    "    print('------------------')\n",
    "\n",
    "    valid = validate(file)\n",
    "    print('------------------')\n",
    "    if expected != valid:\n",
    "        print('\\033[1m\\033[91mERROR\\033[0m')\n",
    "    else:\n",
    "        print('\\033[1m\\033[92mPASSED\\033[0m')\n",
    "        if expected == 'True':\n",
    "            cxg_upload.upload(file)\n",
    "    os.remove(file)"
   ]
  },
  {
   "cell_type": "code",
   "execution_count": 11,
   "id": "92a073af",
   "metadata": {},
   "outputs": [],
   "source": [
    "adata = sc.read_h5ad('../valid.h5ad')"
   ]
  },
  {
   "cell_type": "code",
   "execution_count": 12,
   "id": "e3ac92c0",
   "metadata": {},
   "outputs": [
    {
     "data": {
      "text/html": [
       "<div>\n",
       "<style scoped>\n",
       "    .dataframe tbody tr th:only-of-type {\n",
       "        vertical-align: middle;\n",
       "    }\n",
       "\n",
       "    .dataframe tbody tr th {\n",
       "        vertical-align: top;\n",
       "    }\n",
       "\n",
       "    .dataframe thead th {\n",
       "        text-align: right;\n",
       "    }\n",
       "</style>\n",
       "<table border=\"1\" class=\"dataframe\">\n",
       "  <thead>\n",
       "    <tr style=\"text-align: right;\">\n",
       "      <th></th>\n",
       "      <th>0</th>\n",
       "      <th>unique len</th>\n",
       "    </tr>\n",
       "    <tr>\n",
       "      <th>index</th>\n",
       "      <th></th>\n",
       "      <th></th>\n",
       "    </tr>\n",
       "  </thead>\n",
       "  <tbody>\n",
       "    <tr>\n",
       "      <th>BICCN_cluster_id</th>\n",
       "      <td>float64</td>\n",
       "      <td>61</td>\n",
       "    </tr>\n",
       "    <tr>\n",
       "      <th>QC</th>\n",
       "      <td>category</td>\n",
       "      <td>2000</td>\n",
       "    </tr>\n",
       "    <tr>\n",
       "      <th>BICCN_cluster_label</th>\n",
       "      <td>category</td>\n",
       "      <td>61</td>\n",
       "    </tr>\n",
       "    <tr>\n",
       "      <th>BICCN_subclass_label</th>\n",
       "      <td>category</td>\n",
       "      <td>17</td>\n",
       "    </tr>\n",
       "    <tr>\n",
       "      <th>BICCN_class_label</th>\n",
       "      <td>category</td>\n",
       "      <td>3</td>\n",
       "    </tr>\n",
       "    <tr>\n",
       "      <th>cluster_color</th>\n",
       "      <td>category</td>\n",
       "      <td>61</td>\n",
       "    </tr>\n",
       "    <tr>\n",
       "      <th>size</th>\n",
       "      <td>float64</td>\n",
       "      <td>55</td>\n",
       "    </tr>\n",
       "    <tr>\n",
       "      <th>temp_class_label</th>\n",
       "      <td>category</td>\n",
       "      <td>17</td>\n",
       "    </tr>\n",
       "    <tr>\n",
       "      <th>BICCN_ontology_term_id</th>\n",
       "      <td>category</td>\n",
       "      <td>17</td>\n",
       "    </tr>\n",
       "    <tr>\n",
       "      <th>assay_ontology_term_id</th>\n",
       "      <td>category</td>\n",
       "      <td>1</td>\n",
       "    </tr>\n",
       "    <tr>\n",
       "      <th>disease_ontology_term_id</th>\n",
       "      <td>category</td>\n",
       "      <td>1</td>\n",
       "    </tr>\n",
       "    <tr>\n",
       "      <th>tissue_ontology_term_id</th>\n",
       "      <td>category</td>\n",
       "      <td>1</td>\n",
       "    </tr>\n",
       "    <tr>\n",
       "      <th>BICCN_project</th>\n",
       "      <td>category</td>\n",
       "      <td>1</td>\n",
       "    </tr>\n",
       "    <tr>\n",
       "      <th>cell_type_ontology_term_id</th>\n",
       "      <td>category</td>\n",
       "      <td>6</td>\n",
       "    </tr>\n",
       "    <tr>\n",
       "      <th>self_reported_ethnicity_ontology_term_id</th>\n",
       "      <td>category</td>\n",
       "      <td>1</td>\n",
       "    </tr>\n",
       "    <tr>\n",
       "      <th>development_stage_ontology_term_id</th>\n",
       "      <td>category</td>\n",
       "      <td>1</td>\n",
       "    </tr>\n",
       "    <tr>\n",
       "      <th>sex_ontology_term_id</th>\n",
       "      <td>category</td>\n",
       "      <td>2</td>\n",
       "    </tr>\n",
       "    <tr>\n",
       "      <th>is_primary_data</th>\n",
       "      <td>bool</td>\n",
       "      <td>1</td>\n",
       "    </tr>\n",
       "    <tr>\n",
       "      <th>organism_ontology_term_id</th>\n",
       "      <td>category</td>\n",
       "      <td>1</td>\n",
       "    </tr>\n",
       "    <tr>\n",
       "      <th>donor_id</th>\n",
       "      <td>category</td>\n",
       "      <td>44</td>\n",
       "    </tr>\n",
       "    <tr>\n",
       "      <th>suspension_type</th>\n",
       "      <td>category</td>\n",
       "      <td>1</td>\n",
       "    </tr>\n",
       "    <tr>\n",
       "      <th>tissue_type</th>\n",
       "      <td>category</td>\n",
       "      <td>1</td>\n",
       "    </tr>\n",
       "  </tbody>\n",
       "</table>\n",
       "</div>"
      ],
      "text/plain": [
       "                                                 0  unique len\n",
       "index                                                         \n",
       "BICCN_cluster_id                           float64          61\n",
       "QC                                        category        2000\n",
       "BICCN_cluster_label                       category          61\n",
       "BICCN_subclass_label                      category          17\n",
       "BICCN_class_label                         category           3\n",
       "cluster_color                             category          61\n",
       "size                                       float64          55\n",
       "temp_class_label                          category          17\n",
       "BICCN_ontology_term_id                    category          17\n",
       "assay_ontology_term_id                    category           1\n",
       "disease_ontology_term_id                  category           1\n",
       "tissue_ontology_term_id                   category           1\n",
       "BICCN_project                             category           1\n",
       "cell_type_ontology_term_id                category           6\n",
       "self_reported_ethnicity_ontology_term_id  category           1\n",
       "development_stage_ontology_term_id        category           1\n",
       "sex_ontology_term_id                      category           2\n",
       "is_primary_data                               bool           1\n",
       "organism_ontology_term_id                 category           1\n",
       "donor_id                                  category          44\n",
       "suspension_type                           category           1\n",
       "tissue_type                               category           1"
      ]
     },
     "execution_count": 12,
     "metadata": {},
     "output_type": "execute_result"
    }
   ],
   "source": [
    "df = pd.DataFrame(adata.obs.dtypes).reset_index()\n",
    "df['unique len'] = df['index'].apply(lambda x: len(adata.obs[x].unique()))\n",
    "df.set_index('index', inplace=True)\n",
    "df"
   ]
  },
  {
   "cell_type": "code",
   "execution_count": 13,
   "id": "5d3723b1",
   "metadata": {},
   "outputs": [],
   "source": [
    "def create_color_list(count):\n",
    "    # Generating a random number in between 0 and 2^24\n",
    "    colors = random.sample(range(0, 2**24),count)\n",
    "\n",
    "    # Converting that number from base-10\n",
    "    # (decimal) to base-16 (hexadecimal)\n",
    "    hex_colors = [hex(c).replace('0x','#') for c in colors]\n",
    "\n",
    "    return hex_colors"
   ]
  },
  {
   "cell_type": "markdown",
   "id": "f4a199fe",
   "metadata": {},
   "source": [
    "**Test valid cases**"
   ]
  },
  {
   "cell_type": "code",
   "execution_count": 14,
   "id": "68d9a16e-635f-4a5a-9ad4-472007c5f706",
   "metadata": {},
   "outputs": [
    {
     "name": "stdout",
     "output_type": "stream",
     "text": [
      "------------------\n",
      "Loading dependencies\n",
      "Loading validator modules\n",
      "\n",
      "Starting validation...\n",
      "Validation complete in 0:00:00.835897 with status is_valid=True\n",
      "------------------\n",
      "\u001b[1m\u001b[92mPASSED\u001b[0m\n"
     ]
    }
   ],
   "source": [
    "#untouched, no colors defined\n",
    "save_and_test(adata, 'True')"
   ]
  },
  {
   "cell_type": "code",
   "execution_count": 15,
   "id": "20d01266",
   "metadata": {},
   "outputs": [
    {
     "name": "stderr",
     "output_type": "stream",
     "text": [
      "/var/folders/63/6nnd9y1x6y769sbxd81cy8380000gn/T/ipykernel_26912/3507434554.py:3: DeprecationWarning: Sampling from a set deprecated\n",
      "since Python 3.9 and will be removed in a subsequent version.\n",
      "  adata.uns['BICCN_class_label_colors'] = np.array(random.sample(mcolors.CSS4_COLORS.keys(), 3))\n"
     ]
    },
    {
     "name": "stdout",
     "output_type": "stream",
     "text": [
      "--\n",
      "BICCN_class_label_colors\n",
      "['orange' 'lightskyblue' 'rebeccapurple']\n",
      "BICCN_class_label:3 values of type:category\n",
      "--\n",
      "--\n",
      "temp_class_label_colors\n",
      "['#b36e88' '#caec46' '#e1dbe0' '#bf372f' '#b285cc' '#e2e452' '#7533d2'\n",
      " '#455bd3' '#6f8a4e' '#3248e4' '#511c7b' '#33da70' '#37a073' '#374743'\n",
      " '#7723fc' '#716e4d' '#e7be8d']\n",
      "temp_class_label:17 values of type:category\n",
      "--\n",
      "------------------\n",
      "Loading dependencies\n",
      "Loading validator modules\n",
      "\n",
      "Starting validation...\n",
      "Validation complete in 0:00:00.845156 with status is_valid=True\n",
      "------------------\n",
      "\u001b[1m\u001b[92mPASSED\u001b[0m\n"
     ]
    }
   ],
   "source": [
    "#colors matches length of obs - named & hex\n",
    "adata.uns['title'] = '513 colors matches length of obs'\n",
    "\n",
    "adata.uns['temp_class_label_colors'] = np.array(create_color_list(17))\n",
    "adata.uns['BICCN_class_label_colors'] = np.array(random.sample(mcolors.CSS4_COLORS.keys(), 3))\n",
    "save_and_test(adata, 'True')"
   ]
  },
  {
   "cell_type": "code",
   "execution_count": 16,
   "id": "2e0c8175",
   "metadata": {},
   "outputs": [
    {
     "name": "stderr",
     "output_type": "stream",
     "text": [
      "/var/folders/63/6nnd9y1x6y769sbxd81cy8380000gn/T/ipykernel_26912/4055306964.py:3: DeprecationWarning: Sampling from a set deprecated\n",
      "since Python 3.9 and will be removed in a subsequent version.\n",
      "  adata.uns['BICCN_class_label_colors'] = np.array(random.sample(mcolors.CSS4_COLORS.keys(), 12))\n"
     ]
    },
    {
     "name": "stdout",
     "output_type": "stream",
     "text": [
      "--\n",
      "BICCN_class_label_colors\n",
      "['olive' 'mistyrose' 'violet' 'goldenrod' 'midnightblue' 'slategrey'\n",
      " 'mediumblue' 'lavenderblush' 'darkgoldenrod' 'ghostwhite' 'tan'\n",
      " 'blanchedalmond']\n",
      "BICCN_class_label:3 values of type:category\n",
      "--\n",
      "--\n",
      "temp_class_label_colors\n",
      "['#602492' '#101e62' '#837d10' '#bfd301' '#bafc48' '#50eafa' '#62d4f'\n",
      " '#4e5374' '#ff8959' '#440e38' '#c251a1' '#b4a357' '#6e1619' '#b23184'\n",
      " '#806c4c' '#a48813' '#2cc5ff' '#f8c6ce' '#79f993' '#5e40bf' '#4062a9'\n",
      " '#3bab1f' '#f1db5e' '#2fbb02' '#ff067a' '#90fca2' '#1c63d4' '#7c1a04'\n",
      " '#9aca25' '#71e8e7' '#4fa9f9' '#62ddc8' '#abd911' '#f76cca' '#4f253b'\n",
      " '#d9f03d' '#a4fe6a' '#7ade37' '#a171f5' '#ed64e8']\n",
      "temp_class_label:17 values of type:category\n",
      "--\n",
      "------------------\n",
      "Loading dependencies\n",
      "Loading validator modules\n",
      "\n",
      "Starting validation...\n",
      "Validation complete in 0:00:00.830164 with status is_valid=True\n",
      "------------------\n",
      "\u001b[1m\u001b[92mPASSED\u001b[0m\n"
     ]
    }
   ],
   "source": [
    "#colors exceeds length of obs - named & hex\n",
    "adata.uns['title'] = '513 colors exceeds length of obs'\n",
    "\n",
    "adata.uns['temp_class_label_colors'] = np.array(create_color_list(40))\n",
    "adata.uns['BICCN_class_label_colors'] = np.array(random.sample(mcolors.CSS4_COLORS.keys(), 12))\n",
    "save_and_test(adata, 'True')"
   ]
  },
  {
   "cell_type": "code",
   "execution_count": 17,
   "id": "de19a968",
   "metadata": {},
   "outputs": [
    {
     "name": "stdout",
     "output_type": "stream",
     "text": [
      "--\n",
      "BICCN_ontology_term_id_colors\n",
      "['#4af0d3' '#ec1677' '#9dbeb9' '#241ff7' '#6fcfea' '#ca3c4e' '#b9ec55'\n",
      " '#1bea42' '#7faffb' '#99c178' '#3eae32' '#24ab4a' '#934abb' '#8a0867'\n",
      " '#e35b4e' '#390987' '#9bf9e6']\n",
      "BICCN_ontology_term_id:17 values of type:category\n",
      "--\n",
      "------------------\n",
      "Loading dependencies\n",
      "Loading validator modules\n",
      "\n",
      "Starting validation...\n",
      "Validation complete in 0:00:00.834851 with status is_valid=True\n",
      "------------------\n",
      "\u001b[1m\u001b[92mPASSED\u001b[0m\n"
     ]
    }
   ],
   "source": [
    "adata.uns = {'title': 'temporary title'}\n",
    "#colors for non-schema *_ontology_term_id - hex\n",
    "adata.uns['title'] = '513 colors for non-schema *_ontology_term_id'\n",
    "\n",
    "adata.uns['BICCN_ontology_term_id_colors'] = np.array(create_color_list(17))\n",
    "save_and_test(adata, 'True')"
   ]
  },
  {
   "cell_type": "code",
   "execution_count": 18,
   "id": "6e52a4f1",
   "metadata": {},
   "outputs": [
    {
     "name": "stderr",
     "output_type": "stream",
     "text": [
      "/var/folders/63/6nnd9y1x6y769sbxd81cy8380000gn/T/ipykernel_26912/1897414309.py:2: DeprecationWarning: Sampling from a set deprecated\n",
      "since Python 3.9 and will be removed in a subsequent version.\n",
      "  adata.uns['BICCN_ontology_term_id_colors'] = np.array(random.sample(mcolors.CSS4_COLORS.keys(), 17))\n"
     ]
    },
    {
     "name": "stdout",
     "output_type": "stream",
     "text": [
      "--\n",
      "BICCN_ontology_term_id_colors\n",
      "['mediumblue' 'rosybrown' 'burlywood' 'honeydew' 'darkcyan' 'dimgray'\n",
      " 'mediumvioletred' 'black' 'peachpuff' 'lightgreen' 'mediumorchid'\n",
      " 'palegoldenrod' 'rebeccapurple' 'lightsalmon' 'limegreen' 'linen'\n",
      " 'olivedrab']\n",
      "BICCN_ontology_term_id:17 values of type:category\n",
      "--\n",
      "------------------\n",
      "Loading dependencies\n",
      "Loading validator modules\n",
      "\n",
      "Starting validation...\n",
      "Validation complete in 0:00:00.834125 with status is_valid=True\n",
      "------------------\n",
      "\u001b[1m\u001b[92mPASSED\u001b[0m\n"
     ]
    }
   ],
   "source": [
    "#colors for non-schema_ontology_term_id - named\n",
    "adata.uns['title'] = '513 colors for non-schema_ontology_term_id'\n",
    "\n",
    "adata.uns['BICCN_ontology_term_id_colors'] = np.array(random.sample(mcolors.CSS4_COLORS.keys(), 17))\n",
    "save_and_test(adata, 'True')"
   ]
  },
  {
   "cell_type": "code",
   "execution_count": 19,
   "id": "fb66aa19",
   "metadata": {},
   "outputs": [
    {
     "name": "stderr",
     "output_type": "stream",
     "text": [
      "/var/folders/63/6nnd9y1x6y769sbxd81cy8380000gn/T/ipykernel_26912/3680964483.py:4: DeprecationWarning: Sampling from a set deprecated\n",
      "since Python 3.9 and will be removed in a subsequent version.\n",
      "  adata.uns['assay_ontology_term_id_colors'] = random.sample(mcolors.CSS4_COLORS.keys(), 1)\n"
     ]
    },
    {
     "name": "stdout",
     "output_type": "stream",
     "text": [
      "--\n",
      "assay_ontology_term_id_colors\n",
      "['aliceblue']\n",
      "assay_ontology_term_id:1 values of type:category\n",
      "--\n",
      "--\n",
      "sex_ontology_term_id_colors\n",
      "['#9fc3db' '#866db7']\n",
      "sex_ontology_term_id:2 values of type:category\n",
      "--\n",
      "------------------\n",
      "Loading dependencies\n",
      "Loading validator modules\n",
      "\n",
      "Starting validation...\n",
      "Validation complete in 0:00:00.832303 with status is_valid=True\n",
      "------------------\n",
      "\u001b[1m\u001b[92mPASSED\u001b[0m\n"
     ]
    }
   ],
   "source": [
    "adata.uns = {'title': 'temporary title'}\n",
    "#colors is for *_ontology_term_id = hex * named\n",
    "adata.uns['title'] = '513 colors is for *_ontology_term_id'\n",
    "\n",
    "adata.uns['sex_ontology_term_id_colors'] = np.array(create_color_list(2))\n",
    "adata.uns['assay_ontology_term_id_colors'] = random.sample(mcolors.CSS4_COLORS.keys(), 1)\n",
    "save_and_test(adata, 'True')"
   ]
  },
  {
   "cell_type": "code",
   "execution_count": 20,
   "id": "93244d5c",
   "metadata": {},
   "outputs": [
    {
     "name": "stderr",
     "output_type": "stream",
     "text": [
      "/var/folders/63/6nnd9y1x6y769sbxd81cy8380000gn/T/ipykernel_26912/2303774649.py:2: DeprecationWarning: Sampling from a set deprecated\n",
      "since Python 3.9 and will be removed in a subsequent version.\n",
      "  adata.uns['BICCN_class_label_colors'] = random.sample(mcolors.CSS4_COLORS.keys(), 2)\n"
     ]
    },
    {
     "name": "stdout",
     "output_type": "stream",
     "text": [
      "--\n",
      "BICCN_class_label_colors\n",
      "['dimgray' 'grey' 'dimgray' 'grey']\n",
      "BICCN_class_label:3 values of type:category\n",
      "--\n",
      "--\n",
      "assay_ontology_term_id_colors\n",
      "['aliceblue']\n",
      "assay_ontology_term_id:1 values of type:category\n",
      "--\n",
      "--\n",
      "cell_type_colors\n",
      "['#a1c006' '#703058' '#f0a7be' '#a1c006' '#703058' '#f0a7be']\n",
      "cell_type not in obs\n",
      "--\n",
      "--\n",
      "sex_ontology_term_id_colors\n",
      "['#9fc3db' '#866db7']\n",
      "sex_ontology_term_id:2 values of type:category\n",
      "--\n",
      "------------------\n",
      "Loading dependencies\n",
      "Loading validator modules\n",
      "\n",
      "Starting validation...\n",
      "Validation complete in 0:00:00.841411 with status is_valid=True\n",
      "------------------\n",
      "\u001b[1m\u001b[92mPASSED\u001b[0m\n"
     ]
    }
   ],
   "source": [
    "#duplicate colors in a list - hex & named\n",
    "adata.uns['title'] = '513 duplicate colors in a list'\n",
    "\n",
    "adata.uns['BICCN_class_label_colors'] = random.sample(mcolors.CSS4_COLORS.keys(), 2)\n",
    "adata.uns['BICCN_class_label_colors'] += adata.uns['BICCN_class_label_colors']\n",
    "adata.uns['BICCN_class_label_colors'] = np.array(adata.uns['BICCN_class_label_colors'])\n",
    "\n",
    "adata.uns['cell_type_colors'] = create_color_list(3)\n",
    "adata.uns['cell_type_colors'] += adata.uns['cell_type_colors']\n",
    "adata.uns['cell_type_colors'] = np.array(adata.uns['cell_type_colors'])\n",
    "save_and_test(adata, 'True')"
   ]
  },
  {
   "cell_type": "markdown",
   "id": "36b19db2",
   "metadata": {},
   "source": [
    "**Test invalid cases**"
   ]
  },
  {
   "cell_type": "code",
   "execution_count": 21,
   "id": "75307e6a",
   "metadata": {},
   "outputs": [
    {
     "name": "stderr",
     "output_type": "stream",
     "text": [
      "/var/folders/63/6nnd9y1x6y769sbxd81cy8380000gn/T/ipykernel_26912/2281613395.py:4: DeprecationWarning: Sampling from a set deprecated\n",
      "since Python 3.9 and will be removed in a subsequent version.\n",
      "  adata.uns['BICCN_class_label_colors'] = np.array(random.sample(mcolors.CSS4_COLORS.keys(), 1))\n"
     ]
    },
    {
     "name": "stdout",
     "output_type": "stream",
     "text": [
      "--\n",
      "BICCN_class_label_colors\n",
      "['tan']\n",
      "BICCN_class_label:3 values of type:category\n",
      "--\n",
      "--\n",
      "temp_class_label_colors\n",
      "['#8192d3' '#1d3793']\n",
      "temp_class_label:17 values of type:category\n",
      "--\n",
      "------------------\n",
      "Loading dependencies\n",
      "Loading validator modules\n",
      "\n",
      "Starting validation...\n",
      "Validation complete in 0:00:00.851006 with status is_valid=True\n",
      "------------------\n",
      "\u001b[1m\u001b[91mERROR\u001b[0m\n"
     ]
    }
   ],
   "source": [
    "adata.uns = {'title': 'temporary title'}\n",
    "#invalid test for length of colors array is less than obs counterpart - named & hex\n",
    "adata.uns['temp_class_label_colors'] = np.array(create_color_list(2))\n",
    "adata.uns['BICCN_class_label_colors'] = np.array(random.sample(mcolors.CSS4_COLORS.keys(), 1))\n",
    "save_and_test(adata, 'False')"
   ]
  },
  {
   "cell_type": "code",
   "execution_count": 22,
   "id": "51190aa7",
   "metadata": {},
   "outputs": [
    {
     "name": "stdout",
     "output_type": "stream",
     "text": [
      "--\n",
      "BICCN_class_label_colors\n",
      "[]\n",
      "BICCN_class_label:3 values of type:category\n",
      "--\n",
      "------------------\n",
      "Loading dependencies\n",
      "Loading validator modules\n",
      "\n",
      "Starting validation...\n",
      "Validation complete in 0:00:00.849144 with status is_valid=True\n",
      "------------------\n",
      "\u001b[1m\u001b[91mERROR\u001b[0m\n"
     ]
    }
   ],
   "source": [
    "adata.uns = {'title': 'temporary title'}\n",
    "#invalid test for colors array that is empty np array\n",
    "adata.uns['BICCN_class_label_colors'] = np.array([])\n",
    "save_and_test(adata, 'False')"
   ]
  },
  {
   "cell_type": "code",
   "execution_count": 23,
   "id": "33e25d73",
   "metadata": {},
   "outputs": [
    {
     "name": "stdout",
     "output_type": "stream",
     "text": [
      "--\n",
      "BICCN_class_label_colors\n",
      "[nan nan nan]\n",
      "BICCN_class_label:3 values of type:category\n",
      "--\n",
      "------------------\n",
      "Loading dependencies\n",
      "Loading validator modules\n",
      "\n",
      "Starting validation...\n",
      "Validation complete in 0:00:00.843677 with status is_valid=True\n",
      "------------------\n",
      "\u001b[1m\u001b[91mERROR\u001b[0m\n"
     ]
    }
   ],
   "source": [
    "adata.uns = {'title': 'temporary title'}\n",
    "#invalid test for colors array that is None or np.nan\n",
    "adata.uns['BICCN_class_label_colors'] = np.array([np.nan, np.nan, np.nan])\n",
    "save_and_test(adata, 'False')"
   ]
  },
  {
   "cell_type": "code",
   "execution_count": 24,
   "id": "bad379fa",
   "metadata": {},
   "outputs": [
    {
     "name": "stdout",
     "output_type": "stream",
     "text": [
      "--\n",
      "BICCN_class_label_colors\n",
      "['' '' '']\n",
      "BICCN_class_label:3 values of type:category\n",
      "--\n",
      "------------------\n",
      "Loading dependencies\n",
      "Loading validator modules\n",
      "\n",
      "Starting validation...\n",
      "Validation complete in 0:00:00.863752 with status is_valid=True\n",
      "------------------\n",
      "\u001b[1m\u001b[91mERROR\u001b[0m\n"
     ]
    }
   ],
   "source": [
    "adata.uns = {'title': 'temporary title'}\n",
    "#invalid test for colors array that is empty strings\n",
    "adata.uns['BICCN_class_label_colors'] = np.array(['','',''])\n",
    "save_and_test(adata, 'False')"
   ]
  },
  {
   "cell_type": "code",
   "execution_count": 25,
   "id": "46504981",
   "metadata": {},
   "outputs": [
    {
     "name": "stderr",
     "output_type": "stream",
     "text": [
      "/var/folders/63/6nnd9y1x6y769sbxd81cy8380000gn/T/ipykernel_26912/1445415300.py:4: DeprecationWarning: Sampling from a set deprecated\n",
      "since Python 3.9 and will be removed in a subsequent version.\n",
      "  adata.uns['sex_ontology_term_id_colors'] = ','.join(random.sample(mcolors.CSS4_COLORS.keys(), 2))\n"
     ]
    },
    {
     "name": "stdout",
     "output_type": "stream",
     "text": [
      "--\n",
      "BICCN_class_label_colors\n",
      "#1879f5,#efeed0,#a92a3b,#61f5d6,#99161f,#d998a0,#122ab3,#23e4c0,#8c96a4,#da9a3e,#d44e0d,#880be4,#d3d39f,#c07171,#37418c,#dc11e4,#db90c9\n",
      "BICCN_class_label:3 values of type:category\n",
      "--\n",
      "--\n",
      "sex_ontology_term_id_colors\n",
      "slategray,lightgoldenrodyellow\n",
      "sex_ontology_term_id:2 values of type:category\n",
      "--\n",
      "------------------\n",
      "Loading dependencies\n",
      "Loading validator modules\n",
      "\n",
      "Starting validation...\n",
      "Validation complete in 0:00:00.983656 with status is_valid=True\n",
      "------------------\n",
      "\u001b[1m\u001b[91mERROR\u001b[0m\n"
     ]
    }
   ],
   "source": [
    "adata.uns = {'title': 'temporary title'}\n",
    "#invalid test for colors as string or dictionary\n",
    "adata.uns['BICCN_class_label_colors'] = ','.join(create_color_list(17))\n",
    "adata.uns['sex_ontology_term_id_colors'] = ','.join(random.sample(mcolors.CSS4_COLORS.keys(), 2))\n",
    "save_and_test(adata, 'False')"
   ]
  },
  {
   "cell_type": "code",
   "execution_count": 26,
   "id": "c7421f3c",
   "metadata": {},
   "outputs": [
    {
     "name": "stderr",
     "output_type": "stream",
     "text": [
      "/var/folders/63/6nnd9y1x6y769sbxd81cy8380000gn/T/ipykernel_26912/1083785059.py:4: DeprecationWarning: Sampling from a set deprecated\n",
      "since Python 3.9 and will be removed in a subsequent version.\n",
      "  adata.uns['sex_colors'] = np.array(random.sample(mcolors.CSS4_COLORS.keys(), 2))\n"
     ]
    },
    {
     "name": "stdout",
     "output_type": "stream",
     "text": [
      "--\n",
      "cell_type_colors\n",
      "['#761c1f' '#e461fd' '#f45ea9' '#a13907' '#488b1' '#d9ae44']\n",
      "cell_type not in obs\n",
      "--\n",
      "--\n",
      "sex_colors\n",
      "['lightpink' 'lightgray']\n",
      "sex not in obs\n",
      "--\n",
      "------------------\n",
      "Loading dependencies\n",
      "Loading validator modules\n",
      "\n",
      "Starting validation...\n",
      "Validation complete in 0:00:00.832762 with status is_valid=True\n",
      "------------------\n",
      "\u001b[1m\u001b[91mERROR\u001b[0m\n"
     ]
    }
   ],
   "source": [
    "adata.uns = {'title': 'temporary title'}\n",
    "#colors for schema fields - named & hex\n",
    "adata.uns['cell_type_colors'] = np.array(create_color_list(6))\n",
    "adata.uns['sex_colors'] = np.array(random.sample(mcolors.CSS4_COLORS.keys(), 2))\n",
    "save_and_test(adata, 'False')"
   ]
  },
  {
   "cell_type": "code",
   "execution_count": 27,
   "id": "4a297e63",
   "metadata": {},
   "outputs": [
    {
     "name": "stdout",
     "output_type": "stream",
     "text": [
      "--\n",
      "author_cell_type_colors\n",
      "['#4a26a6' '#6c91ac' '#c05322' '#1541e0' '#45532f' '#ca0d36' '#2d4dfd'\n",
      " '#ea5b56' '#7174c0' '#471490' '#947537' '#d07f79' '#ca11f5' '#680bef'\n",
      " '#85d2b8' '#801adf' '#7d6e30']\n",
      "author_cell_type not in obs\n",
      "--\n",
      "------------------\n",
      "Loading dependencies\n",
      "Loading validator modules\n",
      "\n",
      "Starting validation...\n",
      "Validation complete in 0:00:00.875487 with status is_valid=True\n",
      "------------------\n",
      "\u001b[1m\u001b[91mERROR\u001b[0m\n"
     ]
    }
   ],
   "source": [
    "adata.uns = {'title': 'temporary title'}\n",
    "#colors does not have obs counterpart\n",
    "adata.uns['author_cell_type_colors'] = np.array(create_color_list(17))\n",
    "save_and_test(adata, 'False')"
   ]
  },
  {
   "cell_type": "code",
   "execution_count": 28,
   "id": "b672c585",
   "metadata": {},
   "outputs": [
    {
     "name": "stderr",
     "output_type": "stream",
     "text": [
      "/var/folders/63/6nnd9y1x6y769sbxd81cy8380000gn/T/ipykernel_26912/386928218.py:4: DeprecationWarning: Sampling from a set deprecated\n",
      "since Python 3.9 and will be removed in a subsequent version.\n",
      "  np.array(create_color_list(20) + random.sample(mcolors.CSS4_COLORS.keys(), 20))\n"
     ]
    },
    {
     "name": "stdout",
     "output_type": "stream",
     "text": [
      "--\n",
      "BICCN_ontology_term_id_colors\n",
      "['#8e93f' '#8ca5e5' '#56d253' '#24510e' '#127eb3' '#6bdd47' '#6f7300'\n",
      " '#e494d2' '#acc3c9' '#fb1f95' '#d98953' '#132202' '#b1d331' '#bcafbf'\n",
      " '#f39088' '#45fd10' '#d3f373' '#6c671b' '#12f394' '#ef7735'\n",
      " 'darkturquoise' 'fuchsia' 'gainsboro' 'mediumspringgreen' 'black' 'beige'\n",
      " 'dodgerblue' 'skyblue' 'navajowhite' 'lemonchiffon' 'mediumaquamarine'\n",
      " 'rebeccapurple' 'darkseagreen' 'lightslategrey' 'ghostwhite' 'tomato'\n",
      " 'slategray' 'springgreen' 'lightcyan' 'indianred']\n",
      "BICCN_ontology_term_id:17 values of type:category\n",
      "--\n",
      "------------------\n",
      "Loading dependencies\n",
      "Loading validator modules\n",
      "\n",
      "Starting validation...\n",
      "Validation complete in 0:00:01.027402 with status is_valid=True\n",
      "------------------\n",
      "\u001b[1m\u001b[91mERROR\u001b[0m\n"
     ]
    }
   ],
   "source": [
    "adata.uns = {'title': 'temporary title'}\n",
    "#colors is mixed named & hex\n",
    "adata.uns['BICCN_ontology_term_id_colors'] = \\\n",
    "    np.array(create_color_list(20) + random.sample(mcolors.CSS4_COLORS.keys(), 20))\n",
    "save_and_test(adata, 'False')"
   ]
  },
  {
   "cell_type": "code",
   "execution_count": 29,
   "id": "1a62f63f",
   "metadata": {},
   "outputs": [
    {
     "name": "stderr",
     "output_type": "stream",
     "text": [
      "/var/folders/63/6nnd9y1x6y769sbxd81cy8380000gn/T/ipykernel_26912/2724578257.py:3: DeprecationWarning: Sampling from a set deprecated\n",
      "since Python 3.9 and will be removed in a subsequent version.\n",
      "  adata.uns['BICCN_class_label_colors'] = np.array(random.sample(mcolors.BASE_COLORS.keys(), 3))\n"
     ]
    },
    {
     "name": "stdout",
     "output_type": "stream",
     "text": [
      "--\n",
      "BICCN_class_label_colors\n",
      "['c' 'r' 'k']\n",
      "BICCN_class_label:3 values of type:category\n",
      "--\n",
      "------------------\n",
      "Loading dependencies\n",
      "Loading validator modules\n",
      "\n",
      "Starting validation...\n",
      "Validation complete in 0:00:00.871584 with status is_valid=True\n",
      "------------------\n",
      "\u001b[1m\u001b[91mERROR\u001b[0m\n"
     ]
    }
   ],
   "source": [
    "adata.uns = {'title': 'temporary title'}\n",
    "#colors is non-named or hex\n",
    "adata.uns['BICCN_class_label_colors'] = np.array(random.sample(mcolors.BASE_COLORS.keys(), 3))\n",
    "save_and_test(adata, 'False')"
   ]
  },
  {
   "cell_type": "code",
   "execution_count": 30,
   "id": "b6b9b488",
   "metadata": {},
   "outputs": [
    {
     "name": "stdout",
     "output_type": "stream",
     "text": [
      "--\n",
      "BICCN_class_label_colors\n",
      "[[0.   0.   0.  ]\n",
      " [0.75 0.75 0.  ]\n",
      " [0.   0.5  0.  ]]\n",
      "BICCN_class_label:3 values of type:category\n",
      "--\n",
      "------------------\n",
      "Loading dependencies\n",
      "Loading validator modules\n",
      "\n",
      "Starting validation...\n",
      "Validation complete in 0:00:00.879610 with status is_valid=True\n",
      "------------------\n",
      "\u001b[1m\u001b[91mERROR\u001b[0m\n"
     ]
    }
   ],
   "source": [
    "#colors is non-named or hex\n",
    "adata.uns['BICCN_class_label_colors'] = np.array(random.sample(list(mcolors.BASE_COLORS.values()), 3))\n",
    "save_and_test(adata, 'False')"
   ]
  },
  {
   "cell_type": "code",
   "execution_count": 31,
   "id": "f0108058",
   "metadata": {},
   "outputs": [
    {
     "name": "stderr",
     "output_type": "stream",
     "text": [
      "/var/folders/63/6nnd9y1x6y769sbxd81cy8380000gn/T/ipykernel_26912/3751173854.py:2: DeprecationWarning: Sampling from a set deprecated\n",
      "since Python 3.9 and will be removed in a subsequent version.\n",
      "  adata.uns['BICCN_class_label_colors'] = np.array(random.sample(mcolors.XKCD_COLORS.keys(), 3))\n"
     ]
    },
    {
     "name": "stdout",
     "output_type": "stream",
     "text": [
      "--\n",
      "BICCN_class_label_colors\n",
      "['xkcd:greenish teal' 'xkcd:leather' 'xkcd:hunter green']\n",
      "BICCN_class_label:3 values of type:category\n",
      "--\n",
      "------------------\n",
      "Loading dependencies\n",
      "Loading validator modules\n",
      "\n",
      "Starting validation...\n",
      "Validation complete in 0:00:00.851622 with status is_valid=True\n",
      "------------------\n",
      "\u001b[1m\u001b[91mERROR\u001b[0m\n"
     ]
    }
   ],
   "source": [
    "#colors is non-named or hex\n",
    "adata.uns['BICCN_class_label_colors'] = np.array(random.sample(mcolors.XKCD_COLORS.keys(), 3))\n",
    "save_and_test(adata, 'False')"
   ]
  },
  {
   "cell_type": "code",
   "execution_count": 32,
   "id": "05dd5530",
   "metadata": {},
   "outputs": [
    {
     "name": "stderr",
     "output_type": "stream",
     "text": [
      "/var/folders/63/6nnd9y1x6y769sbxd81cy8380000gn/T/ipykernel_26912/3878135180.py:2: DeprecationWarning: Sampling from a set deprecated\n",
      "since Python 3.9 and will be removed in a subsequent version.\n",
      "  adata.uns['BICCN_class_label_colors'] = np.array(random.sample(mcolors.TABLEAU_COLORS.keys(), 3))\n"
     ]
    },
    {
     "name": "stdout",
     "output_type": "stream",
     "text": [
      "--\n",
      "BICCN_class_label_colors\n",
      "['tab:pink' 'tab:red' 'tab:gray']\n",
      "BICCN_class_label:3 values of type:category\n",
      "--\n",
      "------------------\n",
      "Loading dependencies\n",
      "Loading validator modules\n",
      "\n",
      "Starting validation...\n",
      "Validation complete in 0:00:00.912127 with status is_valid=True\n",
      "------------------\n",
      "\u001b[1m\u001b[91mERROR\u001b[0m\n"
     ]
    }
   ],
   "source": [
    "#colors is non-named or hex\n",
    "adata.uns['BICCN_class_label_colors'] = np.array(random.sample(mcolors.TABLEAU_COLORS.keys(), 3))\n",
    "save_and_test(adata, 'False')"
   ]
  },
  {
   "cell_type": "code",
   "execution_count": 33,
   "id": "43330dad",
   "metadata": {},
   "outputs": [
    {
     "name": "stderr",
     "output_type": "stream",
     "text": [
      "/var/folders/63/6nnd9y1x6y769sbxd81cy8380000gn/T/ipykernel_26912/3542767481.py:3: DeprecationWarning: Sampling from a set deprecated\n",
      "since Python 3.9 and will be removed in a subsequent version.\n",
      "  adata.uns['is_primary_data_colors'] = np.array(random.sample(mcolors.CSS4_COLORS.keys(), 1))\n"
     ]
    },
    {
     "name": "stdout",
     "output_type": "stream",
     "text": [
      "--\n",
      "is_primary_data_colors\n",
      "['palegoldenrod']\n",
      "is_primary_data:1 values of type:bool\n",
      "--\n",
      "------------------\n",
      "Loading dependencies\n",
      "Loading validator modules\n",
      "\n",
      "Starting validation...\n",
      "Validation complete in 0:00:00.852724 with status is_valid=True\n",
      "------------------\n",
      "\u001b[1m\u001b[91mERROR\u001b[0m\n"
     ]
    }
   ],
   "source": [
    "adata.uns = {'title': 'temporary title'}\n",
    "#colors counterpart in obs is boolean\n",
    "adata.uns['is_primary_data_colors'] = np.array(random.sample(mcolors.CSS4_COLORS.keys(), 1))\n",
    "save_and_test(adata, 'False')"
   ]
  },
  {
   "cell_type": "code",
   "execution_count": 34,
   "id": "3e681ba0",
   "metadata": {},
   "outputs": [
    {
     "name": "stdout",
     "output_type": "stream",
     "text": [
      "--\n",
      "size_colors\n",
      "['#ea466c' '#40aaa1' '#520c7' '#d573b5' '#f79140' '#8cdc00' '#3a296e'\n",
      " '#28e29e' '#28702c' '#4ce739' '#886ac3' '#ef8bdb' '#ef4ffd' '#23167'\n",
      " '#dea1a5' '#db6a3c' '#4c800b']\n",
      "size:55 values of type:float64\n",
      "--\n",
      "------------------\n",
      "Loading dependencies\n",
      "Loading validator modules\n",
      "\n",
      "Starting validation...\n",
      "Validation complete in 0:00:00.844212 with status is_valid=True\n",
      "------------------\n",
      "\u001b[1m\u001b[91mERROR\u001b[0m\n"
     ]
    }
   ],
   "source": [
    "adata.uns = {'title': 'temporary title'}\n",
    "#colors counterpart in obs is float\n",
    "adata.uns['size_colors'] = np.array(create_color_list(17))\n",
    "save_and_test(adata, 'False')"
   ]
  },
  {
   "cell_type": "code",
   "execution_count": 35,
   "id": "10c71a67",
   "metadata": {},
   "outputs": [
    {
     "name": "stdout",
     "output_type": "stream",
     "text": [
      "--\n",
      "BICCN_cluster_id_colors\n",
      "['#33b6f5' '#6b1be3' '#287431' '#c759ab' '#71a672' '#eca806' '#69b102'\n",
      " '#92546d' '#ae066' '#f285bf' '#a748dc' '#301cb6' '#c26be9' '#775fd1'\n",
      " '#174f97' '#81ad93' '#fabe17' '#1078a8' '#115a23' '#b13572' '#15954a'\n",
      " '#7da004' '#7f6ce9' '#f57ea2' '#cfec94' '#f3b979' '#a21b57' '#a2dbdc'\n",
      " '#f95441' '#6a0257' '#3dc9eb' '#8107f4' '#aed1d0' '#b0a85f' '#44bf6a'\n",
      " '#a9fb1a' '#be1a09' '#e67257' '#802a38' '#bbcb8' '#668ada' '#c3f50f'\n",
      " '#49c295' '#421baa' '#c6cb03' '#3075fe' '#d5bcfc' '#5db5b5' '#273693'\n",
      " '#4a7d75' '#f2deb5' '#86213b' '#6f391c' '#8723d9' '#98e054' '#c86759'\n",
      " '#4791f' '#c03dc8' '#6f2b56' '#8e7f0d' '#19d100']\n",
      "BICCN_cluster_id:61 values of type:int64\n",
      "--\n",
      "------------------\n",
      "Loading dependencies\n",
      "Loading validator modules\n",
      "\n",
      "Starting validation...\n",
      "Validation complete in 0:00:00.848217 with status is_valid=True\n",
      "------------------\n",
      "\u001b[1m\u001b[91mERROR\u001b[0m\n"
     ]
    }
   ],
   "source": [
    "adata.uns = {'title': 'temporary title'}\n",
    "adata.obs['BICCN_cluster_id'] = adata.obs['BICCN_cluster_id'].map(int)\n",
    "#colors counterpart in obs is int\n",
    "adata.uns['BICCN_cluster_id_colors'] = np.array(create_color_list(61))\n",
    "save_and_test(adata, 'False')"
   ]
  },
  {
   "cell_type": "code",
   "execution_count": 36,
   "id": "0a143aa3",
   "metadata": {},
   "outputs": [],
   "source": [
    "#not np.array - couldn't test as array seems to be converted upon writing AnnData"
   ]
  },
  {
   "cell_type": "code",
   "execution_count": null,
   "id": "a5ee7420",
   "metadata": {},
   "outputs": [],
   "source": []
  }
 ],
 "metadata": {
  "kernelspec": {
   "display_name": "Python 3 (ipykernel)",
   "language": "python",
   "name": "python3"
  },
  "language_info": {
   "codemirror_mode": {
    "name": "ipython",
    "version": 3
   },
   "file_extension": ".py",
   "mimetype": "text/x-python",
   "name": "python",
   "nbconvert_exporter": "python",
   "pygments_lexer": "ipython3",
   "version": "3.9.18"
  }
 },
 "nbformat": 4,
 "nbformat_minor": 5
}
