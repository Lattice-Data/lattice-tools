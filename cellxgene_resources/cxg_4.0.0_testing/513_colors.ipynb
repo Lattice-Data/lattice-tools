{
 "cells": [
  {
   "cell_type": "markdown",
   "id": "0fdc81bf",
   "metadata": {},
   "source": [
    "https://github.com/chanzuckerberg/single-cell-curation/issues/513 <br>\n",
    "https://github.com/chanzuckerberg/single-cell-curation/blob/main/schema/4.0.0/schema.md#column_colors"
   ]
  },
  {
   "cell_type": "code",
   "execution_count": 24,
   "id": "2b8b98ac",
   "metadata": {},
   "outputs": [],
   "source": [
    "#import cxg_upload\n",
    "import matplotlib.colors as mcolors\n",
    "import numpy as np\n",
    "import os\n",
    "import pandas as pd\n",
    "import random\n",
    "import scanpy as sc\n",
    "import subprocess\n",
    "from datetime import datetime"
   ]
  },
  {
   "cell_type": "code",
   "execution_count": 25,
   "id": "75849952",
   "metadata": {},
   "outputs": [],
   "source": [
    "def validate(file):\n",
    "    validate_process = subprocess.run(['cellxgene-schema', 'validate', file], stdout=subprocess.PIPE, stderr=subprocess.PIPE)\n",
    "    for line in validate_process.stdout.decode('utf-8').split('\\n'):\n",
    "        print(line)\n",
    "    for line in validate_process.stderr.decode('utf-8').split('\\n'):\n",
    "        print(line)\n",
    "        if 'is_valid=' in line:\n",
    "            valid = line.split('=')[-1]\n",
    "            return valid"
   ]
  },
  {
   "cell_type": "code",
   "execution_count": 26,
   "id": "19365f72",
   "metadata": {},
   "outputs": [],
   "source": [
    "def save_and_test(adata, expected):\n",
    "    now = datetime.now() \n",
    "    dt_string = now.strftime('%m/%d %H:%M')\n",
    "    adata.uns['title'] += (' - ' + dt_string)\n",
    "\n",
    "    file = 'test.h5ad'\n",
    "    adata.write(filename=file)\n",
    "    test_adata = sc.read_h5ad(file)\n",
    "    for k,v in test_adata.uns.items():\n",
    "        if k.endswith('_colors'):\n",
    "            print('--')\n",
    "            print(k)\n",
    "            print(v)\n",
    "            obs_field = k.replace('_colors','')\n",
    "            if obs_field in test_adata.obs.columns:\n",
    "                uniq_vals = str(len(test_adata.obs[obs_field].unique()))\n",
    "                val_type = str(test_adata.obs[obs_field].dtype)\n",
    "                print(obs_field + ':' + uniq_vals + ' values of type:' + val_type)\n",
    "            else:\n",
    "                print(obs_field + ' not in obs')\n",
    "            print('--')\n",
    "    print('------------------')\n",
    "\n",
    "    valid = validate(file)\n",
    "    print('------------------')\n",
    "    if expected != valid:\n",
    "        print('\\033[1m\\033[91mERROR\\033[0m')\n",
    "    else:\n",
    "        print('\\033[1m\\033[92mPASSED\\033[0m')\n",
    "        #if expected == 'True':\n",
    "            #cxg_upload.upload(file)\n",
    "    os.remove(file)"
   ]
  },
  {
   "cell_type": "code",
   "execution_count": 27,
   "id": "92a073af",
   "metadata": {},
   "outputs": [],
   "source": [
    "adata = sc.read_h5ad('../valid.h5ad')"
   ]
  },
  {
   "cell_type": "code",
   "execution_count": 28,
   "id": "e3ac92c0",
   "metadata": {},
   "outputs": [
    {
     "data": {
      "text/html": [
       "<div>\n",
       "<style scoped>\n",
       "    .dataframe tbody tr th:only-of-type {\n",
       "        vertical-align: middle;\n",
       "    }\n",
       "\n",
       "    .dataframe tbody tr th {\n",
       "        vertical-align: top;\n",
       "    }\n",
       "\n",
       "    .dataframe thead th {\n",
       "        text-align: right;\n",
       "    }\n",
       "</style>\n",
       "<table border=\"1\" class=\"dataframe\">\n",
       "  <thead>\n",
       "    <tr style=\"text-align: right;\">\n",
       "      <th></th>\n",
       "      <th>0</th>\n",
       "      <th>unique len</th>\n",
       "    </tr>\n",
       "    <tr>\n",
       "      <th>index</th>\n",
       "      <th></th>\n",
       "      <th></th>\n",
       "    </tr>\n",
       "  </thead>\n",
       "  <tbody>\n",
       "    <tr>\n",
       "      <th>BICCN_cluster_id</th>\n",
       "      <td>float64</td>\n",
       "      <td>61</td>\n",
       "    </tr>\n",
       "    <tr>\n",
       "      <th>QC</th>\n",
       "      <td>category</td>\n",
       "      <td>2000</td>\n",
       "    </tr>\n",
       "    <tr>\n",
       "      <th>BICCN_cluster_label</th>\n",
       "      <td>category</td>\n",
       "      <td>61</td>\n",
       "    </tr>\n",
       "    <tr>\n",
       "      <th>BICCN_subclass_label</th>\n",
       "      <td>category</td>\n",
       "      <td>17</td>\n",
       "    </tr>\n",
       "    <tr>\n",
       "      <th>BICCN_class_label</th>\n",
       "      <td>category</td>\n",
       "      <td>3</td>\n",
       "    </tr>\n",
       "    <tr>\n",
       "      <th>cluster_color</th>\n",
       "      <td>category</td>\n",
       "      <td>61</td>\n",
       "    </tr>\n",
       "    <tr>\n",
       "      <th>size</th>\n",
       "      <td>float64</td>\n",
       "      <td>55</td>\n",
       "    </tr>\n",
       "    <tr>\n",
       "      <th>temp_class_label</th>\n",
       "      <td>category</td>\n",
       "      <td>17</td>\n",
       "    </tr>\n",
       "    <tr>\n",
       "      <th>BICCN_ontology_term_id</th>\n",
       "      <td>category</td>\n",
       "      <td>17</td>\n",
       "    </tr>\n",
       "    <tr>\n",
       "      <th>assay_ontology_term_id</th>\n",
       "      <td>category</td>\n",
       "      <td>1</td>\n",
       "    </tr>\n",
       "    <tr>\n",
       "      <th>disease_ontology_term_id</th>\n",
       "      <td>category</td>\n",
       "      <td>1</td>\n",
       "    </tr>\n",
       "    <tr>\n",
       "      <th>tissue_ontology_term_id</th>\n",
       "      <td>category</td>\n",
       "      <td>1</td>\n",
       "    </tr>\n",
       "    <tr>\n",
       "      <th>BICCN_project</th>\n",
       "      <td>category</td>\n",
       "      <td>1</td>\n",
       "    </tr>\n",
       "    <tr>\n",
       "      <th>cell_type_ontology_term_id</th>\n",
       "      <td>category</td>\n",
       "      <td>6</td>\n",
       "    </tr>\n",
       "    <tr>\n",
       "      <th>self_reported_ethnicity_ontology_term_id</th>\n",
       "      <td>category</td>\n",
       "      <td>1</td>\n",
       "    </tr>\n",
       "    <tr>\n",
       "      <th>development_stage_ontology_term_id</th>\n",
       "      <td>category</td>\n",
       "      <td>1</td>\n",
       "    </tr>\n",
       "    <tr>\n",
       "      <th>sex_ontology_term_id</th>\n",
       "      <td>category</td>\n",
       "      <td>2</td>\n",
       "    </tr>\n",
       "    <tr>\n",
       "      <th>is_primary_data</th>\n",
       "      <td>bool</td>\n",
       "      <td>1</td>\n",
       "    </tr>\n",
       "    <tr>\n",
       "      <th>organism_ontology_term_id</th>\n",
       "      <td>category</td>\n",
       "      <td>1</td>\n",
       "    </tr>\n",
       "    <tr>\n",
       "      <th>donor_id</th>\n",
       "      <td>category</td>\n",
       "      <td>44</td>\n",
       "    </tr>\n",
       "    <tr>\n",
       "      <th>suspension_type</th>\n",
       "      <td>category</td>\n",
       "      <td>1</td>\n",
       "    </tr>\n",
       "    <tr>\n",
       "      <th>tissue_type</th>\n",
       "      <td>category</td>\n",
       "      <td>1</td>\n",
       "    </tr>\n",
       "  </tbody>\n",
       "</table>\n",
       "</div>"
      ],
      "text/plain": [
       "                                                 0  unique len\n",
       "index                                                         \n",
       "BICCN_cluster_id                           float64          61\n",
       "QC                                        category        2000\n",
       "BICCN_cluster_label                       category          61\n",
       "BICCN_subclass_label                      category          17\n",
       "BICCN_class_label                         category           3\n",
       "cluster_color                             category          61\n",
       "size                                       float64          55\n",
       "temp_class_label                          category          17\n",
       "BICCN_ontology_term_id                    category          17\n",
       "assay_ontology_term_id                    category           1\n",
       "disease_ontology_term_id                  category           1\n",
       "tissue_ontology_term_id                   category           1\n",
       "BICCN_project                             category           1\n",
       "cell_type_ontology_term_id                category           6\n",
       "self_reported_ethnicity_ontology_term_id  category           1\n",
       "development_stage_ontology_term_id        category           1\n",
       "sex_ontology_term_id                      category           2\n",
       "is_primary_data                               bool           1\n",
       "organism_ontology_term_id                 category           1\n",
       "donor_id                                  category          44\n",
       "suspension_type                           category           1\n",
       "tissue_type                               category           1"
      ]
     },
     "execution_count": 28,
     "metadata": {},
     "output_type": "execute_result"
    }
   ],
   "source": [
    "df = pd.DataFrame(adata.obs.dtypes).reset_index()\n",
    "df['unique len'] = df['index'].apply(lambda x: len(adata.obs[x].unique()))\n",
    "df.set_index('index', inplace=True)\n",
    "df"
   ]
  },
  {
   "cell_type": "code",
   "execution_count": 29,
   "id": "5d3723b1",
   "metadata": {},
   "outputs": [],
   "source": [
    "def create_color_list(count):\n",
    "    # Generating a random number in between 0 and 2^24\n",
    "    colors = random.sample(range(0, 2**24),count)\n",
    "\n",
    "    # Converting that number from base-10\n",
    "    # (decimal) to base-16 (hexadecimal)\n",
    "    hex_colors = [hex(c).replace('0x','#') for c in colors]\n",
    "\n",
    "    return hex_colors"
   ]
  },
  {
   "cell_type": "markdown",
   "id": "f4a199fe",
   "metadata": {},
   "source": [
    "**Test valid cases**"
   ]
  },
  {
   "cell_type": "code",
   "execution_count": 30,
   "id": "68d9a16e-635f-4a5a-9ad4-472007c5f706",
   "metadata": {},
   "outputs": [
    {
     "name": "stdout",
     "output_type": "stream",
     "text": [
      "------------------\n",
      "Loading dependencies\n",
      "Loading validator modules\n",
      "\n",
      "Starting validation...\n",
      "Validation complete in 0:00:01.694509 with status is_valid=True\n",
      "------------------\n",
      "\u001b[1m\u001b[92mPASSED\u001b[0m\n"
     ]
    }
   ],
   "source": [
    "#untouched, no colors defined\n",
    "save_and_test(adata, 'True')"
   ]
  },
  {
   "cell_type": "code",
   "execution_count": 31,
   "id": "20d01266",
   "metadata": {},
   "outputs": [
    {
     "name": "stderr",
     "output_type": "stream",
     "text": [
      "/var/folders/63/6nnd9y1x6y769sbxd81cy8380000gn/T/ipykernel_99139/1194014541.py:5: DeprecationWarning: Sampling from a set deprecated\n",
      "since Python 3.9 and will be removed in a subsequent version.\n",
      "  adata.uns['BICCN_class_label_colors'] = np.array(random.sample(mcolors.CSS4_COLORS.keys(), 3))\n"
     ]
    },
    {
     "name": "stdout",
     "output_type": "stream",
     "text": [
      "--\n",
      "BICCN_class_label_colors\n",
      "['indianred' 'seashell' 'slategrey']\n",
      "BICCN_class_label:3 values of type:category\n",
      "--\n",
      "--\n",
      "temp_class_label_colors\n",
      "['#87679b' '#d8643e' '#1d6f9c' '#d6217d' '#c092af' '#e3c4d0' '#31c190'\n",
      " '#7050a7' '#5f4ea7' '#8423d9' '#30654f' '#e064ad' '#3c67a5' '#5cdafd'\n",
      " '#d859a3' '#e09231' '#2dfa87']\n",
      "temp_class_label:17 values of type:category\n",
      "--\n",
      "------------------\n",
      "Loading dependencies\n",
      "Loading validator modules\n",
      "\n",
      "Starting validation...\n",
      "WARNING: Validation of raw layer was not performed due to current errors, try again after fixing current errors.\n",
      "ERROR: Colors field uns[BICCN_class_label_colors] does not have a corresponding categorical field in obs\n",
      "ERROR: Colors field uns[temp_class_label_colors] does not have a corresponding categorical field in obs\n",
      "Validation complete in 0:00:00.515107 with status is_valid=False\n",
      "------------------\n",
      "\u001b[1m\u001b[91mERROR\u001b[0m\n"
     ]
    }
   ],
   "source": [
    "#colors matches length of obs - named & hex\n",
    "adata.uns['title'] = '513 colors matches length of obs'\n",
    "\n",
    "adata.uns['temp_class_label_colors'] = np.array(create_color_list(17))\n",
    "adata.uns['BICCN_class_label_colors'] = np.array(random.sample(mcolors.CSS4_COLORS.keys(), 3))\n",
    "save_and_test(adata, 'True')"
   ]
  },
  {
   "cell_type": "code",
   "execution_count": 32,
   "id": "2e0c8175",
   "metadata": {},
   "outputs": [
    {
     "name": "stderr",
     "output_type": "stream",
     "text": [
      "/var/folders/63/6nnd9y1x6y769sbxd81cy8380000gn/T/ipykernel_99139/3889217428.py:5: DeprecationWarning: Sampling from a set deprecated\n",
      "since Python 3.9 and will be removed in a subsequent version.\n",
      "  adata.uns['BICCN_class_label_colors'] = np.array(random.sample(mcolors.CSS4_COLORS.keys(), 12))\n"
     ]
    },
    {
     "name": "stdout",
     "output_type": "stream",
     "text": [
      "--\n",
      "BICCN_class_label_colors\n",
      "['plum' 'blue' 'dimgray' 'forestgreen' 'mediumblue' 'lavenderblush'\n",
      " 'palegreen' 'deeppink' 'paleturquoise' 'darkgoldenrod' 'darksalmon'\n",
      " 'yellowgreen']\n",
      "BICCN_class_label:3 values of type:category\n",
      "--\n",
      "--\n",
      "temp_class_label_colors\n",
      "['#c03fef' '#9e23b9' '#7faf7c' '#1b3f83' '#b815fe' '#46bb64' '#c44e2'\n",
      " '#9967b7' '#acf053' '#f6d396' '#d1952e' '#8a9667' '#1924c9' '#fe5d70'\n",
      " '#ca46b9' '#362561' '#9034cc' '#e7c35' '#4b0d75' '#1e35ee' '#81e56a'\n",
      " '#5c05e1' '#5d5359' '#736b5e' '#519c25' '#6a4a00' '#54b0f6' '#dc44cb'\n",
      " '#3a8c38' '#1af69d' '#437864' '#d823a6' '#2b6340' '#86a243' '#5d9c7e'\n",
      " '#cab4ae' '#2fc6f6' '#a9433a' '#34a20f' '#a4c343']\n",
      "temp_class_label:17 values of type:category\n",
      "--\n",
      "------------------\n",
      "Loading dependencies\n",
      "Loading validator modules\n",
      "\n",
      "Starting validation...\n",
      "WARNING: Validation of raw layer was not performed due to current errors, try again after fixing current errors.\n",
      "ERROR: Colors field uns[BICCN_class_label_colors] does not have a corresponding categorical field in obs\n",
      "ERROR: Colors field uns[temp_class_label_colors] does not have a corresponding categorical field in obs\n",
      "Validation complete in 0:00:00.515202 with status is_valid=False\n",
      "------------------\n",
      "\u001b[1m\u001b[91mERROR\u001b[0m\n"
     ]
    }
   ],
   "source": [
    "#colors exceeds length of obs - named & hex\n",
    "adata.uns['title'] = '513 colors exceeds length of obs'\n",
    "\n",
    "adata.uns['temp_class_label_colors'] = np.array(create_color_list(40))\n",
    "adata.uns['BICCN_class_label_colors'] = np.array(random.sample(mcolors.CSS4_COLORS.keys(), 12))\n",
    "save_and_test(adata, 'True')"
   ]
  },
  {
   "cell_type": "code",
   "execution_count": 33,
   "id": "de19a968",
   "metadata": {},
   "outputs": [
    {
     "name": "stdout",
     "output_type": "stream",
     "text": [
      "--\n",
      "BICCN_ontology_term_id_colors\n",
      "['#5f388e' '#7357bb' '#a6a810' '#a659f4' '#7c5971' '#b86ae9' '#270f65'\n",
      " '#117d02' '#85023c' '#d97741' '#193858' '#6e10ad' '#506ead' '#a78e14'\n",
      " '#34492e' '#cadd95' '#7a24d1']\n",
      "BICCN_ontology_term_id:17 values of type:category\n",
      "--\n",
      "------------------\n",
      "Loading dependencies\n",
      "Loading validator modules\n",
      "\n",
      "Starting validation...\n",
      "WARNING: Validation of raw layer was not performed due to current errors, try again after fixing current errors.\n",
      "ERROR: Colors field uns[BICCN_ontology_term_id_colors] does not have a corresponding categorical field in obs\n",
      "Validation complete in 0:00:00.577442 with status is_valid=False\n",
      "------------------\n",
      "\u001b[1m\u001b[91mERROR\u001b[0m\n"
     ]
    }
   ],
   "source": [
    "adata.uns = {'title': 'temporary title'}\n",
    "#colors for non-schema *_ontology_term_id - hex\n",
    "adata.uns['title'] = '513 colors for non-schema *_ontology_term_id'\n",
    "\n",
    "adata.uns['BICCN_ontology_term_id_colors'] = np.array(create_color_list(17))\n",
    "save_and_test(adata, 'True')"
   ]
  },
  {
   "cell_type": "code",
   "execution_count": 34,
   "id": "6e52a4f1",
   "metadata": {},
   "outputs": [
    {
     "name": "stderr",
     "output_type": "stream",
     "text": [
      "/var/folders/63/6nnd9y1x6y769sbxd81cy8380000gn/T/ipykernel_99139/565956949.py:4: DeprecationWarning: Sampling from a set deprecated\n",
      "since Python 3.9 and will be removed in a subsequent version.\n",
      "  adata.uns['BICCN_ontology_term_id_colors'] = np.array(random.sample(mcolors.CSS4_COLORS.keys(), 17))\n"
     ]
    },
    {
     "name": "stdout",
     "output_type": "stream",
     "text": [
      "--\n",
      "BICCN_ontology_term_id_colors\n",
      "['azure' 'mistyrose' 'lightsteelblue' 'lightsalmon' 'sienna'\n",
      " 'palevioletred' 'orchid' 'rosybrown' 'lightgoldenrodyellow'\n",
      " 'blanchedalmond' 'darkorchid' 'limegreen' 'indianred' 'sandybrown'\n",
      " 'lightgrey' 'magenta' 'oldlace']\n",
      "BICCN_ontology_term_id:17 values of type:category\n",
      "--\n",
      "------------------\n",
      "Loading dependencies\n",
      "Loading validator modules\n",
      "\n",
      "Starting validation...\n",
      "WARNING: Validation of raw layer was not performed due to current errors, try again after fixing current errors.\n",
      "ERROR: Colors field uns[BICCN_ontology_term_id_colors] does not have a corresponding categorical field in obs\n",
      "Validation complete in 0:00:00.523869 with status is_valid=False\n",
      "------------------\n",
      "\u001b[1m\u001b[91mERROR\u001b[0m\n"
     ]
    }
   ],
   "source": [
    "#colors for non-schema_ontology_term_id - named\n",
    "adata.uns['title'] = '513 colors for non-schema_ontology_term_id'\n",
    "\n",
    "adata.uns['BICCN_ontology_term_id_colors'] = np.array(random.sample(mcolors.CSS4_COLORS.keys(), 17))\n",
    "save_and_test(adata, 'True')"
   ]
  },
  {
   "cell_type": "code",
   "execution_count": 35,
   "id": "fb66aa19",
   "metadata": {},
   "outputs": [
    {
     "name": "stderr",
     "output_type": "stream",
     "text": [
      "/var/folders/63/6nnd9y1x6y769sbxd81cy8380000gn/T/ipykernel_99139/3666815808.py:6: DeprecationWarning: Sampling from a set deprecated\n",
      "since Python 3.9 and will be removed in a subsequent version.\n",
      "  adata.uns['assay_ontology_term_id_colors'] = random.sample(mcolors.CSS4_COLORS.keys(), 1)\n"
     ]
    },
    {
     "name": "stdout",
     "output_type": "stream",
     "text": [
      "--\n",
      "assay_ontology_term_id_colors\n",
      "['rebeccapurple']\n",
      "assay_ontology_term_id:1 values of type:category\n",
      "--\n",
      "--\n",
      "sex_ontology_term_id_colors\n",
      "['#fe2469' '#9c87ac']\n",
      "sex_ontology_term_id:2 values of type:category\n",
      "--\n",
      "------------------\n",
      "Loading dependencies\n",
      "Loading validator modules\n",
      "\n",
      "Starting validation...\n",
      "WARNING: Validation of raw layer was not performed due to current errors, try again after fixing current errors.\n",
      "ERROR: Colors field uns[assay_ontology_term_id_colors] does not have a corresponding categorical field in obs\n",
      "ERROR: Colors field uns[sex_ontology_term_id_colors] does not have a corresponding categorical field in obs\n",
      "Validation complete in 0:00:00.510250 with status is_valid=False\n",
      "------------------\n",
      "\u001b[1m\u001b[91mERROR\u001b[0m\n"
     ]
    }
   ],
   "source": [
    "adata.uns = {'title': 'temporary title'}\n",
    "#colors is for *_ontology_term_id = hex * named\n",
    "adata.uns['title'] = '513 colors is for *_ontology_term_id'\n",
    "\n",
    "adata.uns['sex_ontology_term_id_colors'] = np.array(create_color_list(2))\n",
    "adata.uns['assay_ontology_term_id_colors'] = random.sample(mcolors.CSS4_COLORS.keys(), 1)\n",
    "save_and_test(adata, 'True')"
   ]
  },
  {
   "cell_type": "code",
   "execution_count": 36,
   "id": "93244d5c",
   "metadata": {},
   "outputs": [
    {
     "name": "stderr",
     "output_type": "stream",
     "text": [
      "/var/folders/63/6nnd9y1x6y769sbxd81cy8380000gn/T/ipykernel_99139/3902603643.py:4: DeprecationWarning: Sampling from a set deprecated\n",
      "since Python 3.9 and will be removed in a subsequent version.\n",
      "  adata.uns['BICCN_class_label_colors'] = random.sample(mcolors.CSS4_COLORS.keys(), 2)\n"
     ]
    },
    {
     "name": "stdout",
     "output_type": "stream",
     "text": [
      "--\n",
      "BICCN_class_label_colors\n",
      "['lightgoldenrodyellow' 'cyan' 'lightgoldenrodyellow' 'cyan']\n",
      "BICCN_class_label:3 values of type:category\n",
      "--\n",
      "--\n",
      "assay_ontology_term_id_colors\n",
      "['rebeccapurple']\n",
      "assay_ontology_term_id:1 values of type:category\n",
      "--\n",
      "--\n",
      "cell_type_colors\n",
      "['#af5b05' '#ef2305' '#f6826a' '#af5b05' '#ef2305' '#f6826a']\n",
      "cell_type not in obs\n",
      "--\n",
      "--\n",
      "sex_ontology_term_id_colors\n",
      "['#fe2469' '#9c87ac']\n",
      "sex_ontology_term_id:2 values of type:category\n",
      "--\n",
      "------------------\n",
      "Loading dependencies\n",
      "Loading validator modules\n",
      "\n",
      "Starting validation...\n",
      "WARNING: Validation of raw layer was not performed due to current errors, try again after fixing current errors.\n",
      "ERROR: Colors field uns[BICCN_class_label_colors] does not have a corresponding categorical field in obs\n",
      "ERROR: Colors field uns[assay_ontology_term_id_colors] does not have a corresponding categorical field in obs\n",
      "ERROR: Colors field uns[cell_type_colors] does not have a corresponding categorical field in obs\n",
      "ERROR: Colors field uns[sex_ontology_term_id_colors] does not have a corresponding categorical field in obs\n",
      "Validation complete in 0:00:00.519258 with status is_valid=False\n",
      "------------------\n",
      "\u001b[1m\u001b[91mERROR\u001b[0m\n"
     ]
    }
   ],
   "source": [
    "#duplicate colors in a list - hex & named\n",
    "adata.uns['title'] = '513 duplicate colors in a list'\n",
    "\n",
    "adata.uns['BICCN_class_label_colors'] = random.sample(mcolors.CSS4_COLORS.keys(), 2)\n",
    "adata.uns['BICCN_class_label_colors'] += adata.uns['BICCN_class_label_colors']\n",
    "adata.uns['BICCN_class_label_colors'] = np.array(adata.uns['BICCN_class_label_colors'])\n",
    "\n",
    "adata.uns['cell_type_colors'] = create_color_list(3)\n",
    "adata.uns['cell_type_colors'] += adata.uns['cell_type_colors']\n",
    "adata.uns['cell_type_colors'] = np.array(adata.uns['cell_type_colors'])\n",
    "save_and_test(adata, 'True')"
   ]
  },
  {
   "cell_type": "markdown",
   "id": "36b19db2",
   "metadata": {},
   "source": [
    "**Test invalid cases**"
   ]
  },
  {
   "cell_type": "code",
   "execution_count": null,
   "id": "75307e6a",
   "metadata": {},
   "outputs": [],
   "source": [
    "adata.uns = {'title': 'temporary title'}\n",
    "#invalid test for length of colors array is less than obs counterpart - named & hex\n",
    "adata.uns['temp_class_label_colors'] = np.array(create_color_list(2))\n",
    "adata.uns['BICCN_class_label_colors'] = np.array(random.sample(mcolors.CSS4_COLORS.keys(), 1))\n",
    "save_and_test(adata, 'False')"
   ]
  },
  {
   "cell_type": "code",
   "execution_count": null,
   "id": "51190aa7",
   "metadata": {},
   "outputs": [],
   "source": [
    "adata.uns = {'title': 'temporary title'}\n",
    "#invalid test for colors array that is empty np array\n",
    "adata.uns['BICCN_class_label_colors'] = np.array([])\n",
    "save_and_test(adata, 'False')"
   ]
  },
  {
   "cell_type": "code",
   "execution_count": null,
   "id": "33e25d73",
   "metadata": {},
   "outputs": [],
   "source": [
    "adata.uns = {'title': 'temporary title'}\n",
    "#invalid test for colors array that is None or np.nan\n",
    "adata.uns['BICCN_class_label_colors'] = np.array([np.nan, np.nan, np.nan])\n",
    "save_and_test(adata, 'False')"
   ]
  },
  {
   "cell_type": "code",
   "execution_count": null,
   "id": "bad379fa",
   "metadata": {},
   "outputs": [],
   "source": [
    "adata.uns = {'title': 'temporary title'}\n",
    "#invalid test for colors array that is empty strings\n",
    "adata.uns['BICCN_class_label_colors'] = np.array(['','',''])\n",
    "save_and_test(adata, 'False')"
   ]
  },
  {
   "cell_type": "code",
   "execution_count": null,
   "id": "46504981",
   "metadata": {},
   "outputs": [],
   "source": [
    "adata.uns = {'title': 'temporary title'}\n",
    "#invalid test for colors as string or dictionary\n",
    "adata.uns['BICCN_class_label_colors'] = ','.join(create_color_list(17))\n",
    "adata.uns['sex_ontology_term_id_colors'] = ','.join(random.sample(mcolors.CSS4_COLORS.keys(), 2))\n",
    "save_and_test(adata, 'False')"
   ]
  },
  {
   "cell_type": "code",
   "execution_count": null,
   "id": "c7421f3c",
   "metadata": {},
   "outputs": [],
   "source": [
    "adata.uns = {'title': 'temporary title'}\n",
    "#colors for schema fields - named & hex\n",
    "adata.uns['cell_type_colors'] = np.array(create_color_list(6))\n",
    "adata.uns['sex_colors'] = np.array(random.sample(mcolors.CSS4_COLORS.keys(), 2))\n",
    "save_and_test(adata, 'False')"
   ]
  },
  {
   "cell_type": "code",
   "execution_count": null,
   "id": "4a297e63",
   "metadata": {},
   "outputs": [],
   "source": [
    "adata.uns = {'title': 'temporary title'}\n",
    "#colors does not have obs counterpart\n",
    "adata.uns['author_cell_type_colors'] = np.array(create_color_list(17))\n",
    "save_and_test(adata, 'False')"
   ]
  },
  {
   "cell_type": "code",
   "execution_count": null,
   "id": "b672c585",
   "metadata": {},
   "outputs": [],
   "source": [
    "adata.uns = {'title': 'temporary title'}\n",
    "#colors is mixed named & hex\n",
    "adata.uns['BICCN_ontology_term_id_colors'] = \\\n",
    "    np.array(create_color_list(20) + random.sample(mcolors.CSS4_COLORS.keys(), 20))\n",
    "save_and_test(adata, 'False')"
   ]
  },
  {
   "cell_type": "code",
   "execution_count": null,
   "id": "1a62f63f",
   "metadata": {},
   "outputs": [],
   "source": [
    "adata.uns = {'title': 'temporary title'}\n",
    "#colors is non-named or hex\n",
    "adata.uns['BICCN_class_label_colors'] = np.array(random.sample(mcolors.BASE_COLORS.keys(), 3))\n",
    "save_and_test(adata, 'False')"
   ]
  },
  {
   "cell_type": "code",
   "execution_count": null,
   "id": "b6b9b488",
   "metadata": {},
   "outputs": [],
   "source": [
    "#colors is non-named or hex\n",
    "adata.uns['BICCN_class_label_colors'] = np.array(random.sample(list(mcolors.BASE_COLORS.values()), 3))\n",
    "save_and_test(adata, 'False')"
   ]
  },
  {
   "cell_type": "code",
   "execution_count": null,
   "id": "f0108058",
   "metadata": {},
   "outputs": [],
   "source": [
    "#colors is non-named or hex\n",
    "adata.uns['BICCN_class_label_colors'] = np.array(random.sample(mcolors.XKCD_COLORS.keys(), 3))\n",
    "save_and_test(adata, 'False')"
   ]
  },
  {
   "cell_type": "code",
   "execution_count": null,
   "id": "05dd5530",
   "metadata": {},
   "outputs": [],
   "source": [
    "#colors is non-named or hex\n",
    "adata.uns['BICCN_class_label_colors'] = np.array(random.sample(mcolors.TABLEAU_COLORS.keys(), 3))\n",
    "save_and_test(adata, 'False')"
   ]
  },
  {
   "cell_type": "code",
   "execution_count": null,
   "id": "43330dad",
   "metadata": {},
   "outputs": [],
   "source": [
    "adata.uns = {'title': 'temporary title'}\n",
    "#colors counterpart in obs is boolean\n",
    "adata.uns['is_primary_data_colors'] = np.array(random.sample(mcolors.CSS4_COLORS.keys(), 1))\n",
    "save_and_test(adata, 'False')"
   ]
  },
  {
   "cell_type": "code",
   "execution_count": null,
   "id": "3e681ba0",
   "metadata": {},
   "outputs": [],
   "source": [
    "adata.uns = {'title': 'temporary title'}\n",
    "#colors counterpart in obs is float\n",
    "adata.uns['size_colors'] = np.array(create_color_list(17))\n",
    "save_and_test(adata, 'False')"
   ]
  },
  {
   "cell_type": "code",
   "execution_count": null,
   "id": "10c71a67",
   "metadata": {},
   "outputs": [],
   "source": [
    "adata.uns = {'title': 'temporary title'}\n",
    "adata.obs['BICCN_cluster_id'] = adata.obs['BICCN_cluster_id'].map(int)\n",
    "#colors counterpart in obs is int\n",
    "adata.uns['BICCN_cluster_id_colors'] = np.array(create_color_list(61))\n",
    "save_and_test(adata, 'False')"
   ]
  },
  {
   "cell_type": "code",
   "execution_count": null,
   "id": "0a143aa3",
   "metadata": {},
   "outputs": [],
   "source": [
    "#not np.array - couldn't test as array seems to be converted upon writing AnnData"
   ]
  },
  {
   "cell_type": "code",
   "execution_count": null,
   "id": "a5ee7420",
   "metadata": {},
   "outputs": [],
   "source": []
  }
 ],
 "metadata": {
  "kernelspec": {
   "display_name": "Python 3 (ipykernel)",
   "language": "python",
   "name": "python3"
  },
  "language_info": {
   "codemirror_mode": {
    "name": "ipython",
    "version": 3
   },
   "file_extension": ".py",
   "mimetype": "text/x-python",
   "name": "python",
   "nbconvert_exporter": "python",
   "pygments_lexer": "ipython3",
   "version": "3.9.18"
  }
 },
 "nbformat": 4,
 "nbformat_minor": 5
}
