{
 "cells": [
  {
   "cell_type": "markdown",
   "id": "155dffdf-b391-4418-85bc-9f2ed50737b7",
   "metadata": {},
   "source": [
    "https://github.com/chanzuckerberg/single-cell-curation/issues/519"
   ]
  },
  {
   "cell_type": "code",
   "execution_count": 6,
   "id": "2318c3dc-9510-40db-b4f3-5ded405511af",
   "metadata": {},
   "outputs": [],
   "source": [
    "import numpy as np\n",
    "import os\n",
    "import scanpy as sc\n",
    "import subprocess"
   ]
  },
  {
   "cell_type": "code",
   "execution_count": 7,
   "id": "d83852b5-5398-4ad1-80bb-5122a4ed00e2",
   "metadata": {},
   "outputs": [],
   "source": [
    "def validate(file):\n",
    "    validate_process = subprocess.run(['cellxgene-schema', 'validate', file], stdout=subprocess.PIPE, stderr=subprocess.PIPE)\n",
    "    for line in validate_process.stdout.decode('utf-8').split('\\n'):\n",
    "        print(line)\n",
    "    for line in validate_process.stderr.decode('utf-8').split('\\n'):\n",
    "        print(line)\n",
    "        if 'is_valid=' in line:\n",
    "            valid = line.split('=')[-1]\n",
    "            return valid"
   ]
  },
  {
   "cell_type": "code",
   "execution_count": 8,
   "id": "8a4d0515-f37b-40f1-bb16-d2f40cd58d31",
   "metadata": {},
   "outputs": [],
   "source": [
    "def save_and_test(adata, expected):\n",
    "    adata.write(filename='test.h5ad')\n",
    "    adata = sc.read_h5ad('test.h5ad')\n",
    "    print(adata.var.keys())\n",
    "    print('------------------')\n",
    "    valid = validate('test.h5ad')\n",
    "    print('------------------')\n",
    "    if expected != valid:\n",
    "        print('\\033[1m\\033[91mERROR\\033[0m')\n",
    "    else:\n",
    "        print('\\033[1m\\033[92mPASSED\\033[0m')\n",
    "    os.remove('test.h5ad')"
   ]
  },
  {
   "cell_type": "code",
   "execution_count": 9,
   "id": "d052eddf-31b8-4541-b110-648214ff9771",
   "metadata": {},
   "outputs": [],
   "source": [
    "adata = sc.read_h5ad('../valid.h5ad')"
   ]
  },
  {
   "cell_type": "markdown",
   "id": "bdab744d-c717-438f-bda3-e01312edf1fa",
   "metadata": {},
   "source": [
    "### Test Valid Cases"
   ]
  },
  {
   "cell_type": "code",
   "execution_count": 10,
   "id": "47ca2efa-5e61-4b89-b7ae-dad4890c29e9",
   "metadata": {},
   "outputs": [
    {
     "name": "stdout",
     "output_type": "stream",
     "text": [
      "Index(['Unnamed: 0', 'feature_is_filtered'], dtype='object')\n",
      "------------------\n",
      "Loading dependencies\n",
      "Loading validator modules\n",
      "\n",
      "Starting validation...\n",
      "Validation complete in 0:00:00.880320 with status is_valid=True\n",
      "------------------\n",
      "\u001b[1m\u001b[92mPASSED\u001b[0m\n"
     ]
    }
   ],
   "source": [
    "# non-reserved metadata key\n",
    "adata.var['feature_is_filtered'] = False\n",
    "save_and_test(adata, 'True')\n",
    "# feature_is_filtered is not dropped so that only thing preventing validation is modifications"
   ]
  },
  {
   "cell_type": "code",
   "execution_count": 11,
   "id": "75593c5c-14b8-4f03-8f6b-7997294c1083",
   "metadata": {},
   "outputs": [
    {
     "name": "stdout",
     "output_type": "stream",
     "text": [
      "Index(['Unnamed: 0', 'feature_is_filtered', 'feature_is_filtered_1'], dtype='object')\n",
      "------------------\n",
      "Loading dependencies\n",
      "Loading validator modules\n",
      "\n",
      "Starting validation...\n",
      "Validation complete in 0:00:00.870057 with status is_valid=True\n",
      "------------------\n",
      "\u001b[1m\u001b[92mPASSED\u001b[0m\n"
     ]
    }
   ],
   "source": [
    "# non-duplicate, non-reserved metadata keys\n",
    "adata.var['feature_is_filtered'] = False\n",
    "adata.var['feature_is_filtered_1'] = False\n",
    "save_and_test(adata, 'True')\n",
    "adata.var.drop(columns=['feature_is_filtered_1'], inplace=True)"
   ]
  },
  {
   "cell_type": "markdown",
   "id": "679fc344-ec7a-4dc2-8353-62922444cb23",
   "metadata": {},
   "source": [
    "### Test Invalid Cases "
   ]
  },
  {
   "cell_type": "code",
   "execution_count": 12,
   "id": "65cd6242-22d3-4507-bb86-c0dca3e2641e",
   "metadata": {},
   "outputs": [
    {
     "name": "stdout",
     "output_type": "stream",
     "text": [
      "Index(['Unnamed: 0', 'feature_is_filtered'], dtype='object')\n",
      "------------------\n",
      "Loading dependencies\n",
      "Loading validator modules\n",
      "\n",
      "Starting validation...\n",
      "Validation complete in 0:00:00.865374 with status is_valid=True\n",
      "------------------\n",
      "\u001b[1m\u001b[91mERROR\u001b[0m\n"
     ]
    }
   ],
   "source": [
    "# reserved metadata key citation\n",
    "adata.uns['citation'] = 'test'\n",
    "save_and_test(adata, 'False')\n",
    "del adata.uns['citation']"
   ]
  },
  {
   "cell_type": "code",
   "execution_count": 13,
   "id": "fc137be6-ce27-45bc-a75f-b45d62b6f899",
   "metadata": {},
   "outputs": [
    {
     "name": "stdout",
     "output_type": "stream",
     "text": [
      "Index(['Unnamed: 0', 'feature_is_filtered', 'feature_length'], dtype='object')\n",
      "------------------\n",
      "Loading dependencies\n",
      "Loading validator modules\n",
      "\n",
      "Starting validation...\n",
      "Validation complete in 0:00:00.866196 with status is_valid=True\n",
      "------------------\n",
      "\u001b[1m\u001b[91mERROR\u001b[0m\n"
     ]
    }
   ],
   "source": [
    "# reserved metadata key feature_length\n",
    "adata.var['feature_length'] = 'test'\n",
    "save_and_test(adata, 'False')\n",
    "adata.var.drop(columns=['feature_length'], inplace=True)"
   ]
  },
  {
   "cell_type": "code",
   "execution_count": 14,
   "id": "7ec54456-9756-4d52-acc0-0dfbb913a70c",
   "metadata": {},
   "outputs": [
    {
     "name": "stdout",
     "output_type": "stream",
     "text": [
      "Index(['Unnamed: 0', 'feature_is_filtered'], dtype='object')\n",
      "------------------\n",
      "Loading dependencies\n",
      "Loading validator modules\n",
      "\n",
      "Starting validation...\n",
      "Validation complete in 0:00:00.867357 with status is_valid=True\n",
      "------------------\n",
      "\u001b[1m\u001b[91mERROR\u001b[0m\n"
     ]
    }
   ],
   "source": [
    "# reserved metadata key schema_reference\n",
    "adata.uns['schema_reference'] = 'test'\n",
    "save_and_test(adata, 'False')\n",
    "del adata.uns['schema_reference']"
   ]
  },
  {
   "cell_type": "code",
   "execution_count": 16,
   "id": "7a1430de-c96a-46e6-9f75-e77bbb55237a",
   "metadata": {},
   "outputs": [
    {
     "name": "stdout",
     "output_type": "stream",
     "text": [
      "Index(['Unnamed: 0', 'feature_is_filtered', '__feature_is_filtered'], dtype='object')\n",
      "------------------\n",
      "Loading dependencies\n",
      "Loading validator modules\n",
      "\n",
      "Starting validation...\n",
      "WARNING: Validation of raw layer was not performed due to current errors, try again after fixing current errors.\n",
      "ERROR: The field '__feature_is_filtered' in 'var' is invalid. Fields that start with '__' are reserved.\n",
      "Validation complete in 0:00:00.488876 with status is_valid=False\n",
      "------------------\n",
      "\u001b[1m\u001b[92mPASSED\u001b[0m\n"
     ]
    }
   ],
   "source": [
    "# non-reserved metadata key that starts with '__'\n",
    "adata.var['__feature_is_filtered'] = False\n",
    "save_and_test(adata, 'False')\n",
    "adata.var.drop(columns=['__feature_is_filtered'], inplace=True)"
   ]
  },
  {
   "cell_type": "code",
   "execution_count": 17,
   "id": "a5f40327-b6fd-4e7c-a470-27d51822c449",
   "metadata": {},
   "outputs": [
    {
     "name": "stdout",
     "output_type": "stream",
     "text": [
      "Index(['Unnamed: 0', 'feature_is_filtered', '__schema_reference'], dtype='object')\n",
      "------------------\n",
      "Loading dependencies\n",
      "Loading validator modules\n",
      "\n",
      "Starting validation...\n",
      "WARNING: Validation of raw layer was not performed due to current errors, try again after fixing current errors.\n",
      "ERROR: The field '__schema_reference' in 'var' is invalid. Fields that start with '__' are reserved.\n",
      "Validation complete in 0:00:00.482974 with status is_valid=False\n",
      "------------------\n",
      "\u001b[1m\u001b[92mPASSED\u001b[0m\n"
     ]
    }
   ],
   "source": [
    "# reserved metadata key that starts with '__'\n",
    "adata.var['__schema_reference'] = 'test'\n",
    "save_and_test(adata, 'False')\n",
    "adata.var.drop(columns=['__schema_reference'], inplace=True)"
   ]
  }
 ],
 "metadata": {
  "kernelspec": {
   "display_name": "Python 3 (ipykernel)",
   "language": "python",
   "name": "python3"
  },
  "language_info": {
   "codemirror_mode": {
    "name": "ipython",
    "version": 3
   },
   "file_extension": ".py",
   "mimetype": "text/x-python",
   "name": "python",
   "nbconvert_exporter": "python",
   "pygments_lexer": "ipython3",
   "version": "3.10.8"
  }
 },
 "nbformat": 4,
 "nbformat_minor": 5
}
