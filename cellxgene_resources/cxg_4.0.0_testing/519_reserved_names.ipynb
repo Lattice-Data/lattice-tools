{
 "cells": [
  {
   "cell_type": "markdown",
   "id": "155dffdf-b391-4418-85bc-9f2ed50737b7",
   "metadata": {},
   "source": [
    "https://github.com/chanzuckerberg/single-cell-curation/issues/519"
   ]
  },
  {
   "cell_type": "code",
   "execution_count": 14,
   "id": "2318c3dc-9510-40db-b4f3-5ded405511af",
   "metadata": {},
   "outputs": [],
   "source": [
    "import numpy as np\n",
    "import os\n",
    "import scanpy as sc\n",
    "import subprocess"
   ]
  },
  {
   "cell_type": "code",
   "execution_count": 15,
   "id": "d83852b5-5398-4ad1-80bb-5122a4ed00e2",
   "metadata": {},
   "outputs": [],
   "source": [
    "def validate(file):\n",
    "    validate_process = subprocess.run(['cellxgene-schema', 'validate', file], stdout=subprocess.PIPE, stderr=subprocess.PIPE)\n",
    "    for line in validate_process.stdout.decode('utf-8').split('\\n'):\n",
    "        print(line)\n",
    "    for line in validate_process.stderr.decode('utf-8').split('\\n'):\n",
    "        print(line)\n",
    "        if 'is_valid=' in line:\n",
    "            valid = line.split('=')[-1]\n",
    "            return valid"
   ]
  },
  {
   "cell_type": "code",
   "execution_count": 16,
   "id": "8a4d0515-f37b-40f1-bb16-d2f40cd58d31",
   "metadata": {},
   "outputs": [],
   "source": [
    "def save_and_test(adata, expected):\n",
    "    adata.write(filename='test.h5ad')\n",
    "    adata = sc.read_h5ad('test.h5ad')\n",
    "    print(adata.var.keys())\n",
    "    print('------------------')\n",
    "    valid = validate('test.h5ad')\n",
    "    print('------------------')\n",
    "    if expected != valid:\n",
    "        print('\\033[1m\\033[91mERROR\\033[0m')\n",
    "    else:\n",
    "        print('\\033[1m\\033[92mPASSED\\033[0m')\n",
    "    os.remove('test.h5ad')"
   ]
  },
  {
   "cell_type": "code",
   "execution_count": 17,
   "id": "d052eddf-31b8-4541-b110-648214ff9771",
   "metadata": {},
   "outputs": [],
   "source": [
    "adata = sc.read_h5ad('../valid.h5ad')"
   ]
  },
  {
   "cell_type": "markdown",
   "id": "bdab744d-c717-438f-bda3-e01312edf1fa",
   "metadata": {},
   "source": [
    "### Test Valid Cases"
   ]
  },
  {
   "cell_type": "code",
   "execution_count": 18,
   "id": "47ca2efa-5e61-4b89-b7ae-dad4890c29e9",
   "metadata": {},
   "outputs": [
    {
     "name": "stdout",
     "output_type": "stream",
     "text": [
      "Index(['Unnamed: 0', 'feature_is_filtered'], dtype='object')\n",
      "------------------\n",
      "Loading dependencies\n",
      "Loading validator modules\n",
      "\n",
      "Starting validation...\n",
      "Validation complete in 0:00:00.833550 with status is_valid=True\n",
      "------------------\n",
      "\u001b[1m\u001b[92mPASSED\u001b[0m\n"
     ]
    }
   ],
   "source": [
    "# non-reserved metadata key\n",
    "adata.var['feature_is_filtered'] = False\n",
    "save_and_test(adata, 'True')"
   ]
  },
  {
   "cell_type": "code",
   "execution_count": 19,
   "id": "75593c5c-14b8-4f03-8f6b-7997294c1083",
   "metadata": {},
   "outputs": [
    {
     "name": "stdout",
     "output_type": "stream",
     "text": [
      "Index(['Unnamed: 0', 'feature_is_filtered', 'feature_is_filtered_1'], dtype='object')\n",
      "------------------\n",
      "Loading dependencies\n",
      "Loading validator modules\n",
      "\n",
      "Starting validation...\n",
      "Validation complete in 0:00:00.836993 with status is_valid=True\n",
      "------------------\n",
      "\u001b[1m\u001b[92mPASSED\u001b[0m\n"
     ]
    }
   ],
   "source": [
    "# non-duplicate, non-reserved metadata keys\n",
    "adata = sc.read_h5ad('../valid.h5ad')\n",
    "adata.var['feature_is_filtered_1'] = False\n",
    "save_and_test(adata, 'True')"
   ]
  },
  {
   "cell_type": "markdown",
   "id": "679fc344-ec7a-4dc2-8353-62922444cb23",
   "metadata": {},
   "source": [
    "### Test Invalid Cases "
   ]
  },
  {
   "cell_type": "code",
   "execution_count": 20,
   "id": "65cd6242-22d3-4507-bb86-c0dca3e2641e",
   "metadata": {},
   "outputs": [
    {
     "name": "stdout",
     "output_type": "stream",
     "text": [
      "Index(['Unnamed: 0', 'feature_is_filtered'], dtype='object')\n",
      "------------------\n",
      "Loading dependencies\n",
      "Loading validator modules\n",
      "\n",
      "Starting validation...\n",
      "WARNING: Validation of raw layer was not performed due to current errors, try again after fixing current errors.\n",
      "ERROR: Column 'citation' is a reserved column name of 'uns'. Remove it from h5ad and try again.\n",
      "Validation complete in 0:00:00.577517 with status is_valid=False\n",
      "------------------\n",
      "\u001b[1m\u001b[92mPASSED\u001b[0m\n"
     ]
    }
   ],
   "source": [
    "# reserved metadata key citation\n",
    "adata = sc.read_h5ad('../valid.h5ad')\n",
    "adata.uns['citation'] = 'test'\n",
    "save_and_test(adata, 'False')"
   ]
  },
  {
   "cell_type": "code",
   "execution_count": 21,
   "id": "fc137be6-ce27-45bc-a75f-b45d62b6f899",
   "metadata": {},
   "outputs": [
    {
     "name": "stdout",
     "output_type": "stream",
     "text": [
      "Index(['Unnamed: 0', 'feature_is_filtered', 'feature_length'], dtype='object')\n",
      "------------------\n",
      "Loading dependencies\n",
      "Loading validator modules\n",
      "\n",
      "Starting validation...\n",
      "WARNING: Validation of raw layer was not performed due to current errors, try again after fixing current errors.\n",
      "ERROR: Add labels error: Column 'feature_length' is a reserved column name of 'var'. Remove it from h5ad and try again.\n",
      "Validation complete in 0:00:00.493258 with status is_valid=False\n",
      "------------------\n",
      "\u001b[1m\u001b[92mPASSED\u001b[0m\n"
     ]
    }
   ],
   "source": [
    "# reserved metadata key feature_length\n",
    "adata = sc.read_h5ad('../valid.h5ad')\n",
    "adata.var['feature_length'] = 'test'\n",
    "save_and_test(adata, 'False')"
   ]
  },
  {
   "cell_type": "code",
   "execution_count": 22,
   "id": "7ec54456-9756-4d52-acc0-0dfbb913a70c",
   "metadata": {},
   "outputs": [
    {
     "name": "stdout",
     "output_type": "stream",
     "text": [
      "Index(['Unnamed: 0', 'feature_is_filtered'], dtype='object')\n",
      "------------------\n",
      "Loading dependencies\n",
      "Loading validator modules\n",
      "\n",
      "Starting validation...\n",
      "WARNING: Validation of raw layer was not performed due to current errors, try again after fixing current errors.\n",
      "ERROR: Column 'schema_reference' is a reserved column name of 'uns'. Remove it from h5ad and try again.\n",
      "Validation complete in 0:00:00.485001 with status is_valid=False\n",
      "------------------\n",
      "\u001b[1m\u001b[92mPASSED\u001b[0m\n"
     ]
    }
   ],
   "source": [
    "# reserved metadata key schema_reference\n",
    "adata = sc.read_h5ad('../valid.h5ad')\n",
    "adata.uns['schema_reference'] = 'test'\n",
    "save_and_test(adata, 'False')"
   ]
  },
  {
   "cell_type": "code",
   "execution_count": 23,
   "id": "7a1430de-c96a-46e6-9f75-e77bbb55237a",
   "metadata": {},
   "outputs": [
    {
     "name": "stdout",
     "output_type": "stream",
     "text": [
      "Index(['Unnamed: 0', 'feature_is_filtered', '__feature_mightbe_filtered'], dtype='object')\n",
      "------------------\n",
      "Loading dependencies\n",
      "Loading validator modules\n",
      "\n",
      "Starting validation...\n",
      "WARNING: Validation of raw layer was not performed due to current errors, try again after fixing current errors.\n",
      "ERROR: The field '__feature_mightbe_filtered' in 'var' is invalid. Fields that start with '__' are reserved.\n",
      "Validation complete in 0:00:00.495310 with status is_valid=False\n",
      "------------------\n",
      "\u001b[1m\u001b[92mPASSED\u001b[0m\n"
     ]
    }
   ],
   "source": [
    "# non-reserved metadata key that starts with '__'\n",
    "adata = sc.read_h5ad('../valid.h5ad')\n",
    "adata.var['__feature_mightbe_filtered'] = False\n",
    "save_and_test(adata, 'False')"
   ]
  },
  {
   "cell_type": "code",
   "execution_count": 24,
   "id": "a5f40327-b6fd-4e7c-a470-27d51822c449",
   "metadata": {},
   "outputs": [
    {
     "name": "stdout",
     "output_type": "stream",
     "text": [
      "Index(['Unnamed: 0', 'feature_is_filtered', '__schema_reference'], dtype='object')\n",
      "------------------\n",
      "Loading dependencies\n",
      "Loading validator modules\n",
      "\n",
      "Starting validation...\n",
      "WARNING: Validation of raw layer was not performed due to current errors, try again after fixing current errors.\n",
      "ERROR: The field '__schema_reference' in 'var' is invalid. Fields that start with '__' are reserved.\n",
      "Validation complete in 0:00:00.483374 with status is_valid=False\n",
      "------------------\n",
      "\u001b[1m\u001b[92mPASSED\u001b[0m\n"
     ]
    }
   ],
   "source": [
    "# reserved metadata key that starts with '__'\n",
    "adata = sc.read_h5ad('../valid.h5ad')\n",
    "adata.var['__schema_reference'] = 'test'\n",
    "save_and_test(adata, 'False')"
   ]
  },
  {
   "cell_type": "code",
   "execution_count": 25,
   "id": "a8b01550-b5c0-4db0-b466-3e623fdc2966",
   "metadata": {},
   "outputs": [
    {
     "name": "stdout",
     "output_type": "stream",
     "text": [
      "Index(['Unnamed: 0', 'feature_is_filtered'], dtype='object')\n",
      "------------------\n",
      "Loading dependencies\n",
      "Loading validator modules\n",
      "\n",
      "Starting validation...\n",
      "WARNING: Validation of raw layer was not performed due to current errors, try again after fixing current errors.\n",
      "ERROR: The field '__myfield' in 'raw.var' is invalid. Fields that start with '__' are reserved.\n",
      "Validation complete in 0:00:00.488880 with status is_valid=False\n",
      "------------------\n",
      "\u001b[1m\u001b[92mPASSED\u001b[0m\n"
     ]
    }
   ],
   "source": [
    "# non-reserved metadata key that starts with '__'\n",
    "adata = sc.read_h5ad('../valid.h5ad')\n",
    "adata.raw.var['__myfield'] = False\n",
    "save_and_test(adata, 'False')"
   ]
  },
  {
   "cell_type": "code",
   "execution_count": 26,
   "id": "6e642c67-bd10-4ddc-a5dd-2d1bcf6310c1",
   "metadata": {},
   "outputs": [
    {
     "name": "stdout",
     "output_type": "stream",
     "text": [
      "Index(['Unnamed: 0', 'feature_is_filtered'], dtype='object')\n",
      "------------------\n",
      "Loading dependencies\n",
      "Loading validator modules\n",
      "\n",
      "Starting validation...\n",
      "WARNING: Validation of raw layer was not performed due to current errors, try again after fixing current errors.\n",
      "ERROR: The field '__myfield' in 'obs' is invalid. Fields that start with '__' are reserved.\n",
      "ERROR: The field '__myotherfield' in 'obs' is invalid. Fields that start with '__' are reserved.\n",
      "Validation complete in 0:00:00.483493 with status is_valid=False\n",
      "------------------\n",
      "\u001b[1m\u001b[92mPASSED\u001b[0m\n"
     ]
    }
   ],
   "source": [
    "# non-reserved metadata key that starts with '__'\n",
    "adata = sc.read_h5ad('../valid.h5ad')\n",
    "adata.obs['__myfield'] = False\n",
    "adata.obs['__myotherfield'] = True\n",
    "save_and_test(adata, 'False')"
   ]
  },
  {
   "cell_type": "code",
   "execution_count": 27,
   "id": "1d4b3977-979b-4d68-b07b-b816b89be131",
   "metadata": {},
   "outputs": [
    {
     "name": "stdout",
     "output_type": "stream",
     "text": [
      "Index(['Unnamed: 0', 'feature_is_filtered'], dtype='object')\n",
      "------------------\n",
      "Loading dependencies\n",
      "Loading validator modules\n",
      "\n",
      "Starting validation...\n",
      "WARNING: Validation of raw layer was not performed due to current errors, try again after fixing current errors.\n",
      "ERROR: The field '__myfield' in 'uns' is invalid. Fields that start with '__' are reserved.\n",
      "Validation complete in 0:00:00.482300 with status is_valid=False\n",
      "------------------\n",
      "\u001b[1m\u001b[92mPASSED\u001b[0m\n"
     ]
    }
   ],
   "source": [
    "# non-reserved metadata key that starts with '__'\n",
    "adata = sc.read_h5ad('../valid.h5ad')\n",
    "adata.uns['__myfield'] = False\n",
    "save_and_test(adata, 'False')"
   ]
  }
 ],
 "metadata": {
  "kernelspec": {
   "display_name": "Python 3 (ipykernel)",
   "language": "python",
   "name": "python3"
  },
  "language_info": {
   "codemirror_mode": {
    "name": "ipython",
    "version": 3
   },
   "file_extension": ".py",
   "mimetype": "text/x-python",
   "name": "python",
   "nbconvert_exporter": "python",
   "pygments_lexer": "ipython3",
   "version": "3.9.18"
  }
 },
 "nbformat": 4,
 "nbformat_minor": 5
}
