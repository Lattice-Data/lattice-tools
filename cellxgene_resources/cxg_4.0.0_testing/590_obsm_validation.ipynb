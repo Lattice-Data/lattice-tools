{
 "cells": [
  {
   "cell_type": "markdown",
   "id": "10f5d312-83d0-4d4a-a65c-e9b006ac9495",
   "metadata": {},
   "source": [
    "https://github.com/chanzuckerberg/single-cell-curation/issues/590<br>\n",
    "https://github.com/chanzuckerberg/single-cell-curation/blob/main/schema/4.0.0/schema.md#obsm-embeddings"
   ]
  },
  {
   "cell_type": "code",
   "execution_count": 1,
   "id": "d91ef7d3-99c9-4c43-bfa8-c30c9a256874",
   "metadata": {},
   "outputs": [],
   "source": [
    "import numpy as np\n",
    "import os\n",
    "import scanpy as sc\n",
    "import subprocess\n",
    "import anndata as ad\n",
    "from scipy import sparse"
   ]
  },
  {
   "cell_type": "code",
   "execution_count": 2,
   "id": "fb95e457-7543-4a19-a056-5697df81a21a",
   "metadata": {},
   "outputs": [],
   "source": [
    "def validate(file):\n",
    "    validate_process = subprocess.run(['cellxgene-schema', 'validate', file], stdout=subprocess.PIPE, stderr=subprocess.PIPE)\n",
    "    for line in validate_process.stdout.decode('utf-8').split('\\n'):\n",
    "        print(line)\n",
    "    for line in validate_process.stderr.decode('utf-8').split('\\n'):\n",
    "        print(line)\n",
    "        if 'is_valid=' in line:\n",
    "            valid = line.split('=')[-1]\n",
    "            return valid"
   ]
  },
  {
   "cell_type": "code",
   "execution_count": 61,
   "id": "bc0ef816-b3a5-41b2-8c64-36081866aff6",
   "metadata": {},
   "outputs": [],
   "source": [
    "def save_and_test(adata, expected):\n",
    "    adata.write(filename='test.h5ad')\n",
    "    adata = sc.read_h5ad('test.h5ad')\n",
    "\n",
    "    print(\"Keys in obsm: {}\".format(adata.obsm.keys()))\n",
    "    for k in adata.obsm.keys():\n",
    "        print(\"Dimensions and dtype of {}:\\t{}\\t{}\".format(k, adata.obsm[k].shape, adata.obsm[k].dtype))\n",
    "    print('------------------')\n",
    "\n",
    "    valid = validate('test.h5ad')\n",
    "    print('------------------')\n",
    "    \n",
    "    if expected != valid:\n",
    "        print('\\033[1m\\033[91mERROR\\033[0m')\n",
    "    else:\n",
    "        print('\\033[1m\\033[92mPASSED\\033[0m')\n",
    "    os.remove('test.h5ad')"
   ]
  },
  {
   "cell_type": "markdown",
   "id": "69912f2a-4f45-4fc5-8bbf-e7ecd50186b0",
   "metadata": {},
   "source": [
    "## Test Valid Cases"
   ]
  },
  {
   "cell_type": "code",
   "execution_count": 63,
   "id": "1117c2fb-046d-43c7-b4fa-9e48741b44c6",
   "metadata": {},
   "outputs": [
    {
     "name": "stdout",
     "output_type": "stream",
     "text": [
      "Keys in obsm: KeysView(AxisArrays with keys: X_harmony, X_umap)\n",
      "Dimensions and dtype of X_harmony:\t(2000, 2)\tint64\n",
      "Dimensions and dtype of X_umap:\t(2000, 2)\tfloat64\n",
      "------------------\n",
      "Loading dependencies\n",
      "Loading validator modules\n",
      "\n",
      "Starting validation...\n",
      "Validation complete in 0:00:00.639563 with status is_valid=True\n",
      "------------------\n",
      "\u001b[1m\u001b[92mPASSED\u001b[0m\n"
     ]
    }
   ],
   "source": [
    "# Make sure valid.h5ad is still valid, where X_umap is float and X_harmony is int\n",
    "adata = sc.read_h5ad(\"../valid.h5ad\")\n",
    "save_and_test(adata, 'True')"
   ]
  },
  {
   "cell_type": "markdown",
   "id": "69a661c6-6f78-4ac7-a876-c97a8f73d674",
   "metadata": {},
   "source": [
    "## Test Invalid Cases"
   ]
  },
  {
   "cell_type": "code",
   "execution_count": 29,
   "id": "68560b99-a3aa-49a0-992f-14a909f859ac",
   "metadata": {},
   "outputs": [
    {
     "name": "stdout",
     "output_type": "stream",
     "text": [
      "Keys in obsm: KeysView(AxisArrays with keys: X_harmony, X_umap)\n",
      "Dimensions and shape of X_harmony:\t(2000, 2)\n",
      "Dimensions and shape of X_umap:\t(2000,)\n",
      "------------------\n",
      "Loading dependencies\n",
      "Loading validator modules\n",
      "\n",
      "Starting validation...\n",
      "WARNING: Validation of raw layer was not performed due to current errors, try again after fixing current errors.\n",
      "ERROR: All embeddings must have as many rows as cells, and at least two columns.'adata.obsm['X_umap']' has shape of '(2000,)'.\n",
      "Validation complete in 0:00:00.308411 with status is_valid=False\n",
      "------------------\n",
      "\u001b[1m\u001b[92mPASSED\u001b[0m\n"
     ]
    }
   ],
   "source": [
    "# Embedding has only 1 dimension\n",
    "adata = sc.read_h5ad(\"../valid.h5ad\")\n",
    "adata.obsm['X_umap'] = adata.obsm['X_umap'][:,1]\n",
    "save_and_test(adata, 'False')"
   ]
  },
  {
   "cell_type": "code",
   "execution_count": 62,
   "id": "8eb8acab-9c3d-40e2-805f-ae3905ffb9de",
   "metadata": {},
   "outputs": [
    {
     "name": "stdout",
     "output_type": "stream",
     "text": [
      "Keys in obsm: KeysView(AxisArrays with keys: X_harmony, X_umap)\n",
      "Dimensions and dtype of X_harmony:\t(2000, 2)\tint64\n",
      "Dimensions and dtype of X_umap:\t(2000, 2)\tobject\n",
      "------------------\n",
      "Loading dependencies\n",
      "Loading validator modules\n",
      "\n",
      "Starting validation...\n",
      "Validation complete in 0:00:00.643883 with status is_valid=True\n",
      "------------------\n",
      "\u001b[1m\u001b[91mERROR\u001b[0m\n"
     ]
    }
   ],
   "source": [
    "# Embedding is a string\n",
    "adata = sc.read_h5ad(\"../valid.h5ad\")\n",
    "adata.obsm['X_umap'] = adata.obsm['X_umap'].astype('str')\n",
    "save_and_test(adata, 'False')"
   ]
  },
  {
   "cell_type": "code",
   "execution_count": 70,
   "id": "da5948c9-56a7-4f1d-b8fa-991d779edc78",
   "metadata": {},
   "outputs": [
    {
     "name": "stdout",
     "output_type": "stream",
     "text": [
      "Contains np.inf\n",
      "[[-0.47524262         inf]\n",
      " [-3.89065357         inf]\n",
      " [10.62553437         inf]\n",
      " [ 0.65694539         inf]\n",
      " [-2.15557401         inf]\n",
      " [ 2.24644435         inf]\n",
      " [ 2.49312419         inf]\n",
      " [10.7198808          inf]\n",
      " [16.89689347         inf]\n",
      " [ 0.07814408         inf]]\n",
      "Keys in obsm: KeysView(AxisArrays with keys: X_harmony, X_umap)\n",
      "Dimensions and dtype of X_harmony:\t(2000, 2)\tint64\n",
      "Dimensions and dtype of X_umap:\t(2000, 2)\tfloat64\n",
      "------------------\n",
      "Loading dependencies\n",
      "Loading validator modules\n",
      "\n",
      "Starting validation...\n",
      "Validation complete in 0:00:00.655359 with status is_valid=True\n",
      "------------------\n",
      "\u001b[1m\u001b[91mERROR\u001b[0m\n"
     ]
    }
   ],
   "source": [
    "# Embedding cannot contain any positive infinity\n",
    "adata = sc.read_h5ad(\"../valid.h5ad\")\n",
    "adata.obsm['X_umap'][0:100,1] = np.inf\n",
    "print(\"Contains np.inf\")\n",
    "print(adata.obsm['X_umap'][0:10,:])\n",
    "save_and_test(adata, 'False')"
   ]
  },
  {
   "cell_type": "code",
   "execution_count": 71,
   "id": "6aaac9a8-be5d-4d8e-948f-94d0853cc7e9",
   "metadata": {},
   "outputs": [
    {
     "name": "stdout",
     "output_type": "stream",
     "text": [
      "Contains np.np.NINF\n",
      "[[-0.47524262        -inf]\n",
      " [-3.89065357        -inf]\n",
      " [10.62553437        -inf]\n",
      " [ 0.65694539        -inf]\n",
      " [-2.15557401        -inf]\n",
      " [ 2.24644435        -inf]\n",
      " [ 2.49312419        -inf]\n",
      " [10.7198808         -inf]\n",
      " [16.89689347        -inf]\n",
      " [ 0.07814408        -inf]]\n",
      "Keys in obsm: KeysView(AxisArrays with keys: X_harmony, X_umap)\n",
      "Dimensions and dtype of X_harmony:\t(2000, 2)\tint64\n",
      "Dimensions and dtype of X_umap:\t(2000, 2)\tfloat64\n",
      "------------------\n",
      "Loading dependencies\n",
      "Loading validator modules\n",
      "\n",
      "Starting validation...\n",
      "Validation complete in 0:00:00.693057 with status is_valid=True\n",
      "------------------\n",
      "\u001b[1m\u001b[91mERROR\u001b[0m\n"
     ]
    }
   ],
   "source": [
    "# Embedding cannot contain any negative infinity\n",
    "adata = sc.read_h5ad(\"../valid.h5ad\")\n",
    "adata.obsm['X_umap'][0:100,1] = np.NINF\n",
    "print(\"Contains np.np.NINF\")\n",
    "print(adata.obsm['X_umap'][0:10,:])\n",
    "save_and_test(adata, 'False')"
   ]
  },
  {
   "cell_type": "code",
   "execution_count": null,
   "id": "892537a4-32c4-4b67-93c7-c7e3c7c9e494",
   "metadata": {},
   "outputs": [
    {
     "name": "stdout",
     "output_type": "stream",
     "text": [
      "Number of np.nan values in X_umap of shape (2000, 2):\t4000\n",
      "Keys in obsm: KeysView(AxisArrays with keys: X_harmony, X_umap)\n",
      "Dimensions and dtype of X_harmony:\t(2000, 2)\tint64\n",
      "Dimensions and dtype of X_umap:\t(2000, 2)\tfloat64\n",
      "------------------\n"
     ]
    }
   ],
   "source": [
    "# Embedding cannot contain all np.nan values\n",
    "adata = sc.read_h5ad(\"../valid.h5ad\")\n",
    "all_nan = np.full(adata.obsm['X_umap'].shape, np.nan)\n",
    "adata.obsm['X_umap'] = all_nan\n",
    "print(\"Number of np.nan values in X_umap of shape {}:\\t{}\".format(adata.obsm['X_umap'].shape, np.count_nonzero(np.isnan(all_nan))))\n",
    "save_and_test(adata, 'False')"
   ]
  }
 ],
 "metadata": {
  "kernelspec": {
   "display_name": "Python 3 (ipykernel)",
   "language": "python",
   "name": "python3"
  },
  "language_info": {
   "codemirror_mode": {
    "name": "ipython",
    "version": 3
   },
   "file_extension": ".py",
   "mimetype": "text/x-python",
   "name": "python",
   "nbconvert_exporter": "python",
   "pygments_lexer": "ipython3",
   "version": "3.9.17"
  }
 },
 "nbformat": 4,
 "nbformat_minor": 5
}
