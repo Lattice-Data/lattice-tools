{
 "cells": [
  {
   "cell_type": "markdown",
   "id": "10f5d312-83d0-4d4a-a65c-e9b006ac9495",
   "metadata": {},
   "source": [
    "https://github.com/chanzuckerberg/single-cell-curation/issues/590<br>\n",
    "https://github.com/chanzuckerberg/single-cell-curation/blob/main/schema/4.0.0/schema.md#obsm-embeddings"
   ]
  },
  {
   "cell_type": "code",
   "execution_count": null,
   "id": "d91ef7d3-99c9-4c43-bfa8-c30c9a256874",
   "metadata": {},
   "outputs": [],
   "source": [
    "import numpy as np\n",
    "import os\n",
    "import scanpy as sc\n",
    "import subprocess\n",
    "import anndata as ad\n",
    "from scipy import sparse"
   ]
  },
  {
   "cell_type": "code",
   "execution_count": null,
   "id": "fb95e457-7543-4a19-a056-5697df81a21a",
   "metadata": {},
   "outputs": [],
   "source": [
    "def validate(file):\n",
    "    validate_process = subprocess.run(['cellxgene-schema', 'validate', file], stdout=subprocess.PIPE, stderr=subprocess.PIPE)\n",
    "    for line in validate_process.stdout.decode('utf-8').split('\\n'):\n",
    "        print(line)\n",
    "    for line in validate_process.stderr.decode('utf-8').split('\\n'):\n",
    "        print(line)\n",
    "        if 'is_valid=' in line:\n",
    "            valid = line.split('=')[-1]\n",
    "            return valid"
   ]
  },
  {
   "cell_type": "code",
   "execution_count": null,
   "id": "bc0ef816-b3a5-41b2-8c64-36081866aff6",
   "metadata": {},
   "outputs": [],
   "source": [
    "def save_and_test(adata, expected):\n",
    "    adata.write(filename='test.h5ad')\n",
    "    adata = sc.read_h5ad('test.h5ad')\n",
    "\n",
    "    print(\"Keys in obsm: {}\".format(adata.obsm.keys()))\n",
    "    for k in adata.obsm.keys():\n",
    "        print(\"Dimensions and dtype of {}:\\t{}\\t{}\".format(k, adata.obsm[k].shape, adata.obsm[k].dtype))\n",
    "    print('------------------')\n",
    "\n",
    "    valid = validate('test.h5ad')\n",
    "    print('------------------')\n",
    "    \n",
    "    if expected != valid:\n",
    "        print('\\033[1m\\033[91mERROR\\033[0m')\n",
    "    else:\n",
    "        print('\\033[1m\\033[92mPASSED\\033[0m')\n",
    "    os.remove('test.h5ad')"
   ]
  },
  {
   "cell_type": "markdown",
   "id": "69912f2a-4f45-4fc5-8bbf-e7ecd50186b0",
   "metadata": {},
   "source": [
    "## Test Valid Cases"
   ]
  },
  {
   "cell_type": "code",
   "execution_count": null,
   "id": "1117c2fb-046d-43c7-b4fa-9e48741b44c6",
   "metadata": {},
   "outputs": [],
   "source": [
    "# Make sure valid.h5ad is still valid, where X_umap is float and X_harmony is int\n",
    "adata = sc.read_h5ad(\"../valid.h5ad\")\n",
    "save_and_test(adata, 'True')"
   ]
  },
  {
   "cell_type": "code",
   "execution_count": null,
   "id": "eae40077-3b01-4ce8-ba32-219b719832fa",
   "metadata": {},
   "outputs": [],
   "source": [
    "# 32 bit\n",
    "adata = sc.read_h5ad(\"../valid.h5ad\")\n",
    "adata.obsm['X_harmony'] = adata.obsm['X_harmony'].astype(\"int32\")\n",
    "adata.obsm['X_umap'] = adata.obsm['X_umap'].astype(\"float32\")\n",
    "save_and_test(adata, 'True')"
   ]
  },
  {
   "cell_type": "code",
   "execution_count": null,
   "id": "11460310-eabb-4ceb-96a1-f363d598fac0",
   "metadata": {},
   "outputs": [],
   "source": [
    "# 16 bit\n",
    "adata = sc.read_h5ad(\"../valid.h5ad\")\n",
    "adata.obsm['X_harmony'] = adata.obsm['X_harmony'].astype(\"int16\")\n",
    "adata.obsm['X_umap'] = adata.obsm['X_umap'].astype(\"float16\")\n",
    "save_and_test(adata, 'True')"
   ]
  },
  {
   "cell_type": "code",
   "execution_count": null,
   "id": "fe44ee02-5622-4f42-af1d-fae688a466bc",
   "metadata": {},
   "outputs": [],
   "source": [
    "# 8 bit (float8 is not a thing)\n",
    "adata = sc.read_h5ad(\"../valid.h5ad\")\n",
    "adata.obsm['X_harmony'] = adata.obsm['X_harmony'].astype(\"int8\")\n",
    "save_and_test(adata, 'True')"
   ]
  },
  {
   "cell_type": "markdown",
   "id": "69a661c6-6f78-4ac7-a876-c97a8f73d674",
   "metadata": {},
   "source": [
    "## Test Invalid Cases"
   ]
  },
  {
   "cell_type": "code",
   "execution_count": null,
   "id": "68560b99-a3aa-49a0-992f-14a909f859ac",
   "metadata": {},
   "outputs": [],
   "source": [
    "# Embedding has only 1 dimension\n",
    "adata = sc.read_h5ad(\"../valid.h5ad\")\n",
    "adata.obsm['X_umap'] = adata.obsm['X_umap'][:,1]\n",
    "save_and_test(adata, 'False')"
   ]
  },
  {
   "cell_type": "code",
   "execution_count": null,
   "id": "8eb8acab-9c3d-40e2-805f-ae3905ffb9de",
   "metadata": {},
   "outputs": [],
   "source": [
    "# Embedding is a string\n",
    "adata = sc.read_h5ad(\"../valid.h5ad\")\n",
    "adata.obsm['X_umap'] = adata.obsm['X_umap'].astype('str')\n",
    "save_and_test(adata, 'False')"
   ]
  },
  {
   "cell_type": "code",
   "execution_count": null,
   "id": "da5948c9-56a7-4f1d-b8fa-991d779edc78",
   "metadata": {},
   "outputs": [],
   "source": [
    "# Embedding cannot contain any positive infinity\n",
    "adata = sc.read_h5ad(\"../valid.h5ad\")\n",
    "adata.obsm['X_umap'][0:100,1] = np.inf\n",
    "print(\"Contains np.inf\")\n",
    "print(adata.obsm['X_umap'][0:10,:])\n",
    "save_and_test(adata, 'False')"
   ]
  },
  {
   "cell_type": "code",
   "execution_count": null,
   "id": "6aaac9a8-be5d-4d8e-948f-94d0853cc7e9",
   "metadata": {},
   "outputs": [],
   "source": [
    "# Embedding cannot contain any negative infinity\n",
    "adata = sc.read_h5ad(\"../valid.h5ad\")\n",
    "adata.obsm['X_umap'][0:100,1] = np.NINF\n",
    "print(\"Contains np.np.NINF\")\n",
    "print(adata.obsm['X_umap'][0:10,:])\n",
    "save_and_test(adata, 'False')"
   ]
  },
  {
   "cell_type": "code",
   "execution_count": null,
   "id": "892537a4-32c4-4b67-93c7-c7e3c7c9e494",
   "metadata": {},
   "outputs": [],
   "source": [
    "# Embedding cannot contain all np.nan values\n",
    "adata = sc.read_h5ad(\"../valid.h5ad\")\n",
    "all_nan = np.full(adata.obsm['X_umap'].shape, np.nan)\n",
    "adata.obsm['X_umap'] = all_nan\n",
    "print(\"Number of np.nan values in X_umap of shape {}:\\t{}\".format(adata.obsm['X_umap'].shape, np.count_nonzero(np.isnan(all_nan))))\n",
    "save_and_test(adata, 'False')"
   ]
  },
  {
   "cell_type": "code",
   "execution_count": null,
   "id": "d8f2793a-2516-4c34-a7bd-eb80cb11daad",
   "metadata": {},
   "outputs": [],
   "source": [
    "# Test embedding of obsm size zero\n",
    "size_zero = np.empty(shape=(2000,0))\n",
    "adata = sc.read_h5ad(\"../valid.h5ad\")\n",
    "adata.obsm['X_umap'] = size_zero\n",
    "print(\"Size of X_umap: {}\".format(adata.obsm['X_umap'].size))\n",
    "save_and_test(adata, 'False')"
   ]
  },
  {
   "cell_type": "code",
   "execution_count": null,
   "id": "3618a067-3567-4886-bb5f-0e76aff873c0",
   "metadata": {},
   "outputs": [],
   "source": [
    "# None of the obsm keys start with X_\n",
    "adata = sc.read_h5ad(\"../valid.h5ad\")\n",
    "adata.obsm['umap'] = adata.obsm['X_umap']\n",
    "adata.obsm['harmony'] = adata.obsm['X_harmony']\n",
    "del adata.obsm['X_umap']\n",
    "del adata.obsm['X_harmony']\n",
    "save_and_test(adata, 'False')"
   ]
  },
  {
   "cell_type": "code",
   "execution_count": null,
   "id": "54394dbb-4fa4-465b-8ae5-8fa1baaa0243",
   "metadata": {},
   "outputs": [],
   "source": [
    "# obsm key is 'X_'\n",
    "adata = sc.read_h5ad(\"../valid.h5ad\")\n",
    "adata.obsm['X_'] = adata.obsm['X_umap']\n",
    "save_and_test(adata, 'False')"
   ]
  },
  {
   "cell_type": "code",
   "execution_count": null,
   "id": "acce8238-96aa-464c-a0c2-b0d1e113f163",
   "metadata": {},
   "outputs": [],
   "source": [
    "# obsm key is 'X_ '\n",
    "adata = sc.read_h5ad(\"../valid.h5ad\")\n",
    "adata.obsm['X_ '] = adata.obsm['X_umap']\n",
    "save_and_test(adata, 'False')"
   ]
  },
  {
   "cell_type": "code",
   "execution_count": null,
   "id": "f1f4b9ee-e37e-4e8b-bf14-79fa9b720c14",
   "metadata": {},
   "outputs": [],
   "source": []
  }
 ],
 "metadata": {
  "kernelspec": {
   "display_name": "Python 3 (ipykernel)",
   "language": "python",
   "name": "python3"
  },
  "language_info": {
   "codemirror_mode": {
    "name": "ipython",
    "version": 3
   },
   "file_extension": ".py",
   "mimetype": "text/x-python",
   "name": "python",
   "nbconvert_exporter": "python",
   "pygments_lexer": "ipython3",
   "version": "3.9.18"
  }
 },
 "nbformat": 4,
 "nbformat_minor": 5
}
