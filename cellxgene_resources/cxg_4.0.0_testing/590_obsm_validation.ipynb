{
 "cells": [
  {
   "cell_type": "markdown",
   "id": "10f5d312-83d0-4d4a-a65c-e9b006ac9495",
   "metadata": {},
   "source": [
    "https://github.com/chanzuckerberg/single-cell-curation/issues/590<br>\n",
    "https://github.com/chanzuckerberg/single-cell-curation/blob/main/schema/4.0.0/schema.md#obsm-embeddings"
   ]
  },
  {
   "cell_type": "code",
   "execution_count": 2,
   "id": "d91ef7d3-99c9-4c43-bfa8-c30c9a256874",
   "metadata": {},
   "outputs": [],
   "source": [
    "#import cxg_upload\n",
    "import numpy as np\n",
    "import os\n",
    "import scanpy as sc\n",
    "import subprocess\n",
    "import anndata as ad\n",
    "from scipy import sparse\n",
    "from datetime import datetime"
   ]
  },
  {
   "cell_type": "code",
   "execution_count": 3,
   "id": "fb95e457-7543-4a19-a056-5697df81a21a",
   "metadata": {},
   "outputs": [],
   "source": [
    "def validate(file):\n",
    "    validate_process = subprocess.run(['cellxgene-schema', 'validate', file], stdout=subprocess.PIPE, stderr=subprocess.PIPE)\n",
    "    for line in validate_process.stdout.decode('utf-8').split('\\n'):\n",
    "        print(line)\n",
    "    for line in validate_process.stderr.decode('utf-8').split('\\n'):\n",
    "        print(line)\n",
    "        if 'is_valid=' in line:\n",
    "            valid = line.split('=')[-1]\n",
    "            return valid"
   ]
  },
  {
   "cell_type": "code",
   "execution_count": 4,
   "id": "bc0ef816-b3a5-41b2-8c64-36081866aff6",
   "metadata": {},
   "outputs": [],
   "source": [
    "def save_and_test(adata, expected):\n",
    "    now = datetime.now() \n",
    "    dt_string = now.strftime('%m/%d %H:%M')\n",
    "    adata.uns['title'] += (' - ' + dt_string)\n",
    "\n",
    "    file = 'test.h5ad'\n",
    "    adata.write(filename=file)\n",
    "    adata = sc.read_h5ad(file)\n",
    "\n",
    "    print(\"Keys in obsm: {}\".format(adata.obsm.keys()))\n",
    "    for k in adata.obsm.keys():\n",
    "        print(\"Dimensions and dtype of {}:\\t{}\\t{}\".format(k, adata.obsm[k].shape, adata.obsm[k].dtype))\n",
    "    print('------------------')\n",
    "\n",
    "    valid = validate(file)\n",
    "    print('------------------')\n",
    "    \n",
    "    if expected != valid:\n",
    "        print('\\033[1m\\033[91mERROR\\033[0m')\n",
    "    else:\n",
    "        print('\\033[1m\\033[92mPASSED\\033[0m')\n",
    "        #if expected == 'True':\n",
    "            #cxg_upload.upload(file)\n",
    "    os.remove(file)"
   ]
  },
  {
   "cell_type": "markdown",
   "id": "69912f2a-4f45-4fc5-8bbf-e7ecd50186b0",
   "metadata": {},
   "source": [
    "## Test Valid Cases"
   ]
  },
  {
   "cell_type": "code",
   "execution_count": 6,
   "id": "1117c2fb-046d-43c7-b4fa-9e48741b44c6",
   "metadata": {},
   "outputs": [
    {
     "name": "stdout",
     "output_type": "stream",
     "text": [
      "Keys in obsm: KeysView(AxisArrays with keys: X_harmony, X_umap)\n",
      "Dimensions and dtype of X_harmony:\t(2000, 2)\tint64\n",
      "Dimensions and dtype of X_umap:\t(2000, 2)\tfloat64\n",
      "------------------\n",
      "Loading dependencies\n",
      "Loading validator modules\n",
      "\n",
      "Starting validation...\n",
      "Validation complete in 0:00:01.629539 with status is_valid=True\n",
      "------------------\n",
      "\u001b[1m\u001b[92mPASSED\u001b[0m\n"
     ]
    }
   ],
   "source": [
    "# Make sure valid.h5ad is still valid, where X_umap is float and X_harmony is int\n",
    "adata = sc.read_h5ad(\"../valid.h5ad\")\n",
    "adata.uns['title'] = '590 X_umap is float and X_harmony is int'\n",
    "\n",
    "save_and_test(adata, 'True')"
   ]
  },
  {
   "cell_type": "code",
   "execution_count": 7,
   "id": "eae40077-3b01-4ce8-ba32-219b719832fa",
   "metadata": {},
   "outputs": [
    {
     "name": "stdout",
     "output_type": "stream",
     "text": [
      "Keys in obsm: KeysView(AxisArrays with keys: X_harmony, X_umap)\n",
      "Dimensions and dtype of X_harmony:\t(2000, 2)\tint32\n",
      "Dimensions and dtype of X_umap:\t(2000, 2)\tfloat32\n",
      "------------------\n",
      "Loading dependencies\n",
      "Loading validator modules\n",
      "\n",
      "Starting validation...\n",
      "Validation complete in 0:00:01.632606 with status is_valid=True\n",
      "------------------\n",
      "\u001b[1m\u001b[92mPASSED\u001b[0m\n"
     ]
    }
   ],
   "source": [
    "# 32 bit\n",
    "adata = sc.read_h5ad(\"../valid.h5ad\")\n",
    "adata.uns['title'] = '590 32bit'\n",
    "\n",
    "adata.obsm['X_harmony'] = adata.obsm['X_harmony'].astype(\"int32\")\n",
    "adata.obsm['X_umap'] = adata.obsm['X_umap'].astype(\"float32\")\n",
    "save_and_test(adata, 'True')"
   ]
  },
  {
   "cell_type": "code",
   "execution_count": 8,
   "id": "11460310-eabb-4ceb-96a1-f363d598fac0",
   "metadata": {},
   "outputs": [
    {
     "name": "stdout",
     "output_type": "stream",
     "text": [
      "Keys in obsm: KeysView(AxisArrays with keys: X_harmony, X_umap)\n",
      "Dimensions and dtype of X_harmony:\t(2000, 2)\tint16\n",
      "Dimensions and dtype of X_umap:\t(2000, 2)\tfloat16\n",
      "------------------\n",
      "Loading dependencies\n",
      "Loading validator modules\n",
      "\n",
      "Starting validation...\n",
      "Validation complete in 0:00:01.685250 with status is_valid=True\n",
      "------------------\n",
      "\u001b[1m\u001b[92mPASSED\u001b[0m\n"
     ]
    }
   ],
   "source": [
    "# 16 bit\n",
    "adata = sc.read_h5ad(\"../valid.h5ad\")\n",
    "adata.uns['title'] = '590 16bit'\n",
    "\n",
    "adata.obsm['X_harmony'] = adata.obsm['X_harmony'].astype(\"int16\")\n",
    "adata.obsm['X_umap'] = adata.obsm['X_umap'].astype(\"float16\")\n",
    "save_and_test(adata, 'True')"
   ]
  },
  {
   "cell_type": "code",
   "execution_count": 9,
   "id": "fe44ee02-5622-4f42-af1d-fae688a466bc",
   "metadata": {},
   "outputs": [
    {
     "name": "stdout",
     "output_type": "stream",
     "text": [
      "Keys in obsm: KeysView(AxisArrays with keys: X_harmony, X_umap)\n",
      "Dimensions and dtype of X_harmony:\t(2000, 2)\tint8\n",
      "Dimensions and dtype of X_umap:\t(2000, 2)\tfloat64\n",
      "------------------\n",
      "Loading dependencies\n",
      "Loading validator modules\n",
      "\n",
      "Starting validation...\n",
      "Validation complete in 0:00:01.644642 with status is_valid=True\n",
      "------------------\n",
      "\u001b[1m\u001b[92mPASSED\u001b[0m\n"
     ]
    }
   ],
   "source": [
    "# 8 bit (float8 is not a thing)\n",
    "adata = sc.read_h5ad(\"../valid.h5ad\")\n",
    "adata.uns['title'] = '590 8bit'\n",
    "\n",
    "adata.obsm['X_harmony'] = adata.obsm['X_harmony'].astype(\"int8\")\n",
    "save_and_test(adata, 'True')"
   ]
  },
  {
   "cell_type": "code",
   "execution_count": 10,
   "id": "080b3a56-9875-4646-a273-bad2bb5ee508",
   "metadata": {},
   "outputs": [
    {
     "name": "stdout",
     "output_type": "stream",
     "text": [
      "Keys in obsm: KeysView(AxisArrays with keys: X_umap)\n",
      "Dimensions and dtype of X_umap:\t(2000, 2)\tfloat64\n",
      "------------------\n",
      "Loading dependencies\n",
      "Loading validator modules\n",
      "\n",
      "Starting validation...\n",
      "Validation complete in 0:00:01.718067 with status is_valid=True\n",
      "------------------\n",
      "\u001b[1m\u001b[92mPASSED\u001b[0m\n"
     ]
    }
   ],
   "source": [
    "#some, but not all, np.nan values\n",
    "adata = sc.read_h5ad(\"../valid.h5ad\")\n",
    "adata.uns['title'] = '590 some, but not all, np.nan values'\n",
    "\n",
    "coord1 = [4] + [np.nan] * (adata.obsm['X_umap'].shape[0] - 1)\n",
    "coord2 = [-54] + [np.nan] * (adata.obsm['X_umap'].shape[0] - 1)\n",
    "adata.obsm['X_umap'] = np.column_stack((coord1, coord2))\n",
    "\n",
    "del adata.obsm['X_harmony']\n",
    "save_and_test(adata, 'True')"
   ]
  },
  {
   "cell_type": "code",
   "execution_count": 23,
   "id": "747e9105-5a24-4deb-b0d7-25eec93433e2",
   "metadata": {},
   "outputs": [
    {
     "name": "stdout",
     "output_type": "stream",
     "text": [
      "Keys in obsm: KeysView(AxisArrays with keys: X_umap, harmony)\n",
      "Dimensions and dtype of X_umap:\t(2000, 2)\tfloat64\n",
      "Dimensions and dtype of harmony:\t(2000, 2)\tint64\n",
      "------------------\n",
      "Loading dependencies\n",
      "Loading validator modules\n",
      "\n",
      "Starting validation...\n",
      "WARNING: Embedding key in 'adata.obsm' harmony does not start with X_\n",
      "Validation complete in 0:00:01.640864 with status is_valid=True\n",
      "------------------\n",
      "\u001b[1m\u001b[92mPASSED\u001b[0m\n"
     ]
    }
   ],
   "source": [
    "# One of the obsm keys start with X_, one doesn't\n",
    "adata = sc.read_h5ad(\"../valid.h5ad\")\n",
    "adata.obsm['harmony'] = adata.obsm['X_harmony']\n",
    "del adata.obsm['X_harmony']\n",
    "save_and_test(adata, 'True')"
   ]
  },
  {
   "cell_type": "markdown",
   "id": "69a661c6-6f78-4ac7-a876-c97a8f73d674",
   "metadata": {},
   "source": [
    "## Test Invalid Cases"
   ]
  },
  {
   "cell_type": "code",
   "execution_count": 11,
   "id": "68560b99-a3aa-49a0-992f-14a909f859ac",
   "metadata": {},
   "outputs": [
    {
     "name": "stdout",
     "output_type": "stream",
     "text": [
      "Keys in obsm: KeysView(AxisArrays with keys: X_harmony, X_umap)\n",
      "Dimensions and dtype of X_harmony:\t(2000, 2)\tint64\n",
      "Dimensions and dtype of X_umap:\t(2000,)\tfloat64\n",
      "------------------\n",
      "Loading dependencies\n",
      "Loading validator modules\n",
      "\n",
      "Starting validation...\n",
      "WARNING: Validation of raw layer was not performed due to current errors, try again after fixing current errors.\n",
      "ERROR: All embeddings must have as many rows as cells, and at least two columns. 'adata.obsm['X_umap']' has shape of '(2000,)'.\n",
      "Validation complete in 0:00:00.524231 with status is_valid=False\n",
      "------------------\n",
      "\u001b[1m\u001b[92mPASSED\u001b[0m\n"
     ]
    }
   ],
   "source": [
    "# Embedding has only 1 dimension\n",
    "adata = sc.read_h5ad(\"../valid.h5ad\")\n",
    "adata.obsm['X_umap'] = adata.obsm['X_umap'][:,1]\n",
    "save_and_test(adata, 'False')"
   ]
  },
  {
   "cell_type": "code",
   "execution_count": 12,
   "id": "8eb8acab-9c3d-40e2-805f-ae3905ffb9de",
   "metadata": {},
   "outputs": [
    {
     "name": "stdout",
     "output_type": "stream",
     "text": [
      "Keys in obsm: KeysView(AxisArrays with keys: X_harmony, X_umap)\n",
      "Dimensions and dtype of X_harmony:\t(2000, 2)\tint64\n",
      "Dimensions and dtype of X_umap:\t(2000, 2)\tobject\n",
      "------------------\n",
      "Loading dependencies\n",
      "Loading validator modules\n",
      "\n",
      "Starting validation...\n",
      "WARNING: Validation of raw layer was not performed due to current errors, try again after fixing current errors.\n",
      "ERROR: adata.obsm['X_umap'] has an invalid data type. It should be float, integer, or unsigned integer of any precision (8, 16, 32, or 64 bits).\n",
      "Validation complete in 0:00:00.539631 with status is_valid=False\n",
      "------------------\n",
      "\u001b[1m\u001b[92mPASSED\u001b[0m\n"
     ]
    }
   ],
   "source": [
    "# Embedding is a string\n",
    "adata = sc.read_h5ad(\"../valid.h5ad\")\n",
    "adata.obsm['X_umap'] = adata.obsm['X_umap'].astype('str')\n",
    "save_and_test(adata, 'False')"
   ]
  },
  {
   "cell_type": "code",
   "execution_count": 13,
   "id": "da5948c9-56a7-4f1d-b8fa-991d779edc78",
   "metadata": {},
   "outputs": [
    {
     "name": "stdout",
     "output_type": "stream",
     "text": [
      "Contains np.inf\n",
      "[[-0.47524262         inf]\n",
      " [-3.89065357         inf]\n",
      " [10.62553437         inf]\n",
      " [ 0.65694539         inf]\n",
      " [-2.15557401         inf]\n",
      " [ 2.24644435         inf]\n",
      " [ 2.49312419         inf]\n",
      " [10.7198808          inf]\n",
      " [16.89689347         inf]\n",
      " [ 0.07814408         inf]]\n",
      "Keys in obsm: KeysView(AxisArrays with keys: X_harmony, X_umap)\n",
      "Dimensions and dtype of X_harmony:\t(2000, 2)\tint64\n",
      "Dimensions and dtype of X_umap:\t(2000, 2)\tfloat64\n",
      "------------------\n",
      "Loading dependencies\n",
      "Loading validator modules\n",
      "\n",
      "Starting validation...\n",
      "WARNING: Validation of raw layer was not performed due to current errors, try again after fixing current errors.\n",
      "ERROR: adata.obsm['X_umap'] contains positive infinity or negative infinity values.\n",
      "Validation complete in 0:00:00.524756 with status is_valid=False\n",
      "------------------\n",
      "\u001b[1m\u001b[92mPASSED\u001b[0m\n"
     ]
    }
   ],
   "source": [
    "# Embedding cannot contain any positive infinity\n",
    "adata = sc.read_h5ad(\"../valid.h5ad\")\n",
    "adata.obsm['X_umap'][0:100,1] = np.inf\n",
    "print(\"Contains np.inf\")\n",
    "print(adata.obsm['X_umap'][0:10,:])\n",
    "save_and_test(adata, 'False')"
   ]
  },
  {
   "cell_type": "code",
   "execution_count": 14,
   "id": "6aaac9a8-be5d-4d8e-948f-94d0853cc7e9",
   "metadata": {},
   "outputs": [
    {
     "name": "stdout",
     "output_type": "stream",
     "text": [
      "Contains np.np.NINF\n",
      "[[-0.47524262        -inf]\n",
      " [-3.89065357        -inf]\n",
      " [10.62553437        -inf]\n",
      " [ 0.65694539        -inf]\n",
      " [-2.15557401        -inf]\n",
      " [ 2.24644435        -inf]\n",
      " [ 2.49312419        -inf]\n",
      " [10.7198808         -inf]\n",
      " [16.89689347        -inf]\n",
      " [ 0.07814408        -inf]]\n",
      "Keys in obsm: KeysView(AxisArrays with keys: X_harmony, X_umap)\n",
      "Dimensions and dtype of X_harmony:\t(2000, 2)\tint64\n",
      "Dimensions and dtype of X_umap:\t(2000, 2)\tfloat64\n",
      "------------------\n",
      "Loading dependencies\n",
      "Loading validator modules\n",
      "\n",
      "Starting validation...\n",
      "WARNING: Validation of raw layer was not performed due to current errors, try again after fixing current errors.\n",
      "ERROR: adata.obsm['X_umap'] contains positive infinity or negative infinity values.\n",
      "Validation complete in 0:00:00.525169 with status is_valid=False\n",
      "------------------\n",
      "\u001b[1m\u001b[92mPASSED\u001b[0m\n"
     ]
    }
   ],
   "source": [
    "# Embedding cannot contain any negative infinity\n",
    "adata = sc.read_h5ad(\"../valid.h5ad\")\n",
    "adata.obsm['X_umap'][0:100,1] = np.NINF\n",
    "print(\"Contains np.np.NINF\")\n",
    "print(adata.obsm['X_umap'][0:10,:])\n",
    "save_and_test(adata, 'False')"
   ]
  },
  {
   "cell_type": "code",
   "execution_count": 15,
   "id": "892537a4-32c4-4b67-93c7-c7e3c7c9e494",
   "metadata": {},
   "outputs": [
    {
     "name": "stdout",
     "output_type": "stream",
     "text": [
      "Number of np.nan values in X_umap of shape (2000, 2):\t4000\n",
      "Keys in obsm: KeysView(AxisArrays with keys: X_harmony, X_umap)\n",
      "Dimensions and dtype of X_harmony:\t(2000, 2)\tint64\n",
      "Dimensions and dtype of X_umap:\t(2000, 2)\tfloat64\n",
      "------------------\n",
      "Loading dependencies\n",
      "Loading validator modules\n",
      "\n",
      "Starting validation...\n",
      "WARNING: Validation of raw layer was not performed due to current errors, try again after fixing current errors.\n",
      "ERROR: adata.obsm['X_umap'] contains all NaN values.\n",
      "Validation complete in 0:00:00.531610 with status is_valid=False\n",
      "------------------\n",
      "\u001b[1m\u001b[92mPASSED\u001b[0m\n"
     ]
    }
   ],
   "source": [
    "# Embedding cannot contain all np.nan values\n",
    "adata = sc.read_h5ad(\"../valid.h5ad\")\n",
    "all_nan = np.full(adata.obsm['X_umap'].shape, np.nan)\n",
    "adata.obsm['X_umap'] = all_nan\n",
    "print(\"Number of np.nan values in X_umap of shape {}:\\t{}\".format(adata.obsm['X_umap'].shape, np.count_nonzero(np.isnan(all_nan))))\n",
    "save_and_test(adata, 'False')"
   ]
  },
  {
   "cell_type": "code",
   "execution_count": 16,
   "id": "d8f2793a-2516-4c34-a7bd-eb80cb11daad",
   "metadata": {},
   "outputs": [
    {
     "name": "stdout",
     "output_type": "stream",
     "text": [
      "Size of X_umap: 0\n",
      "Keys in obsm: KeysView(AxisArrays with keys: X_harmony, X_umap)\n",
      "Dimensions and dtype of X_harmony:\t(2000, 2)\tint64\n",
      "Dimensions and dtype of X_umap:\t(2000, 0)\tfloat64\n",
      "------------------\n",
      "Loading dependencies\n",
      "Loading validator modules\n",
      "\n",
      "Starting validation...\n",
      "WARNING: Validation of raw layer was not performed due to current errors, try again after fixing current errors.\n",
      "ERROR: The size of the ndarray stored for a 'adata.obsm['X_umap']' MUST NOT be zero.\n",
      "ERROR: All embeddings must have as many rows as cells, and at least two columns. 'adata.obsm['X_umap']' has shape of '(2000, 0)'.\n",
      "ERROR: adata.obsm['X_umap'] contains all NaN values.\n",
      "Validation complete in 0:00:00.509780 with status is_valid=False\n",
      "------------------\n",
      "\u001b[1m\u001b[92mPASSED\u001b[0m\n"
     ]
    }
   ],
   "source": [
    "# Test embedding of obsm size zero\n",
    "size_zero = np.empty(shape=(2000,0))\n",
    "adata = sc.read_h5ad(\"../valid.h5ad\")\n",
    "adata.obsm['X_umap'] = size_zero\n",
    "print(\"Size of X_umap: {}\".format(adata.obsm['X_umap'].size))\n",
    "save_and_test(adata, 'False')"
   ]
  },
  {
   "cell_type": "code",
   "execution_count": 17,
   "id": "3618a067-3567-4886-bb5f-0e76aff873c0",
   "metadata": {},
   "outputs": [
    {
     "name": "stdout",
     "output_type": "stream",
     "text": [
      "Keys in obsm: KeysView(AxisArrays with keys: harmony, umap)\n",
      "Dimensions and dtype of harmony:\t(2000, 2)\tint64\n",
      "Dimensions and dtype of umap:\t(2000, 2)\tfloat64\n",
      "------------------\n",
      "Loading dependencies\n",
      "Loading validator modules\n",
      "\n",
      "Starting validation...\n",
      "WARNING: Embedding key in 'adata.obsm' harmony does not start with X_\n",
      "WARNING: Embedding key in 'adata.obsm' umap does not start with X_\n",
      "WARNING: Validation of raw layer was not performed due to current errors, try again after fixing current errors.\n",
      "ERROR: At least one embedding in 'obsm' has to have a key with an 'X_' prefix.\n",
      "Validation complete in 0:00:00.515444 with status is_valid=False\n",
      "------------------\n",
      "\u001b[1m\u001b[92mPASSED\u001b[0m\n"
     ]
    }
   ],
   "source": [
    "# None of the obsm keys start with X_\n",
    "adata = sc.read_h5ad(\"../valid.h5ad\")\n",
    "adata.obsm['umap'] = adata.obsm['X_umap']\n",
    "adata.obsm['harmony'] = adata.obsm['X_harmony']\n",
    "del adata.obsm['X_umap']\n",
    "del adata.obsm['X_harmony']\n",
    "save_and_test(adata, 'False')"
   ]
  },
  {
   "cell_type": "code",
   "execution_count": 19,
   "id": "54394dbb-4fa4-465b-8ae5-8fa1baaa0243",
   "metadata": {},
   "outputs": [
    {
     "name": "stdout",
     "output_type": "stream",
     "text": [
      "Keys in obsm: KeysView(AxisArrays with keys: X_, X_harmony, X_umap)\n",
      "Dimensions and dtype of X_:\t(2000, 2)\tfloat64\n",
      "Dimensions and dtype of X_harmony:\t(2000, 2)\tint64\n",
      "Dimensions and dtype of X_umap:\t(2000, 2)\tfloat64\n",
      "------------------\n",
      "Loading dependencies\n",
      "Loading validator modules\n",
      "\n",
      "Starting validation...\n",
      "WARNING: Validation of raw layer was not performed due to current errors, try again after fixing current errors.\n",
      "ERROR: Embedding key in 'adata.obsm' X_ must start with X_ and have a suffix at least one character long.\n",
      "Validation complete in 0:00:00.514275 with status is_valid=False\n",
      "------------------\n",
      "\u001b[1m\u001b[92mPASSED\u001b[0m\n"
     ]
    }
   ],
   "source": [
    "# obsm key is 'X_'\n",
    "adata = sc.read_h5ad(\"../valid.h5ad\")\n",
    "adata.obsm['X_'] = adata.obsm['X_umap']\n",
    "save_and_test(adata, 'False')"
   ]
  },
  {
   "cell_type": "code",
   "execution_count": 20,
   "id": "acce8238-96aa-464c-a0c2-b0d1e113f163",
   "metadata": {},
   "outputs": [
    {
     "name": "stdout",
     "output_type": "stream",
     "text": [
      "Keys in obsm: KeysView(AxisArrays with keys: X_ , X_harmony, X_umap)\n",
      "Dimensions and dtype of X_ :\t(2000, 2)\tfloat64\n",
      "Dimensions and dtype of X_harmony:\t(2000, 2)\tint64\n",
      "Dimensions and dtype of X_umap:\t(2000, 2)\tfloat64\n",
      "------------------\n",
      "Loading dependencies\n",
      "Loading validator modules\n",
      "\n",
      "Starting validation...\n",
      "WARNING: Validation of raw layer was not performed due to current errors, try again after fixing current errors.\n",
      "ERROR: Embedding key in 'adata.obsm' X_  must start with X_ and have a suffix at least one character long.\n",
      "ERROR: Embedding key X_  has whitespace in it, please remove it.\n",
      "Validation complete in 0:00:00.511037 with status is_valid=False\n",
      "------------------\n",
      "\u001b[1m\u001b[92mPASSED\u001b[0m\n"
     ]
    }
   ],
   "source": [
    "# obsm key is 'X_ '\n",
    "adata = sc.read_h5ad(\"../valid.h5ad\")\n",
    "adata.obsm['X_ '] = adata.obsm['X_umap']\n",
    "save_and_test(adata, 'False')"
   ]
  },
  {
   "cell_type": "code",
   "execution_count": 22,
   "id": "f1f4b9ee-e37e-4e8b-bf14-79fa9b720c14",
   "metadata": {},
   "outputs": [
    {
     "name": "stdout",
     "output_type": "stream",
     "text": [
      "Keys in obsm: KeysView(AxisArrays with keys: X_ U M A P, X_harmony, X_umap)\n",
      "Dimensions and dtype of X_ U M A P:\t(2000, 2)\tfloat64\n",
      "Dimensions and dtype of X_harmony:\t(2000, 2)\tint64\n",
      "Dimensions and dtype of X_umap:\t(2000, 2)\tfloat64\n",
      "------------------\n",
      "Loading dependencies\n",
      "Loading validator modules\n",
      "\n",
      "Starting validation...\n",
      "WARNING: Validation of raw layer was not performed due to current errors, try again after fixing current errors.\n",
      "ERROR: Embedding key X_ U M A P has whitespace in it, please remove it.\n",
      "Validation complete in 0:00:00.515069 with status is_valid=False\n",
      "------------------\n",
      "\u001b[1m\u001b[92mPASSED\u001b[0m\n"
     ]
    }
   ],
   "source": [
    "# obsm key has a whitespace\n",
    "adata = sc.read_h5ad(\"../valid.h5ad\")\n",
    "adata.obsm['X_ U M A P'] = adata.obsm['X_umap']\n",
    "save_and_test(adata, 'False')"
   ]
  },
  {
   "cell_type": "code",
   "execution_count": null,
   "id": "93824c6a-aa06-4681-af70-a28e06370dd8",
   "metadata": {},
   "outputs": [],
   "source": []
  }
 ],
 "metadata": {
  "kernelspec": {
   "display_name": "Python 3 (ipykernel)",
   "language": "python",
   "name": "python3"
  },
  "language_info": {
   "codemirror_mode": {
    "name": "ipython",
    "version": 3
   },
   "file_extension": ".py",
   "mimetype": "text/x-python",
   "name": "python",
   "nbconvert_exporter": "python",
   "pygments_lexer": "ipython3",
   "version": "3.9.18"
  }
 },
 "nbformat": 4,
 "nbformat_minor": 5
}
