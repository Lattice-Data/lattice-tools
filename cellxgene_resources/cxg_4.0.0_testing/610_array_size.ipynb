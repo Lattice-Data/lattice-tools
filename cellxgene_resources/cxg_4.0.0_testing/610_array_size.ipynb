{
 "cells": [
  {
   "cell_type": "markdown",
   "id": "a61fea12-c0cf-4268-8d80-7524c62cf7ca",
   "metadata": {},
   "source": [
    "https://github.com/chanzuckerberg/single-cell-curation/issues/610"
   ]
  },
  {
   "cell_type": "code",
   "execution_count": null,
   "id": "86b75929-832a-4125-bcd8-bd25809f525a",
   "metadata": {},
   "outputs": [],
   "source": [
    "import numpy as np\n",
    "import os\n",
    "import scanpy as sc\n",
    "import subprocess"
   ]
  },
  {
   "cell_type": "code",
   "execution_count": null,
   "id": "eb0eb74e-1a25-4167-b856-215b0375a195",
   "metadata": {},
   "outputs": [],
   "source": [
    "def validate(file):\n",
    "    validate_process = subprocess.run(['cellxgene-schema', 'validate', file], stdout=subprocess.PIPE, stderr=subprocess.PIPE)\n",
    "    for line in validate_process.stdout.decode('utf-8').split('\\n'):\n",
    "        print(line)\n",
    "    for line in validate_process.stderr.decode('utf-8').split('\\n'):\n",
    "        print(line)\n",
    "        if 'is_valid=' in line:\n",
    "            valid = line.split('=')[-1]\n",
    "            return valid"
   ]
  },
  {
   "cell_type": "code",
   "execution_count": null,
   "id": "0c72e672-190c-4903-a780-8432360b3277",
   "metadata": {},
   "outputs": [],
   "source": [
    "def save_and_test(adata, expected):\n",
    "    adata.write(filename='test.h5ad')\n",
    "    adata = sc.read_h5ad('test.h5ad')\n",
    "    for f in adata.obsm:\n",
    "        print('adata.obsm size:')\n",
    "        print(adata.obsm[f].size)\n",
    "    for f in adata.obsp:\n",
    "        print('adata.obsp size:')\n",
    "        print(adata.obsp[f].size)\n",
    "    for f in adata.varm:\n",
    "        print('adata.varm size:')\n",
    "        print(adata.varm[f].size)\n",
    "    for f in adata.varp:\n",
    "        print('adata.varp size:')\n",
    "        print(adata.varp[f].size)\n",
    "    print('------------------')\n",
    "    valid = validate('test.h5ad')\n",
    "    print('------------------')\n",
    "    if expected != valid:\n",
    "        print('\\033[1m\\033[91mERROR\\033[0m')\n",
    "    else:\n",
    "        print('\\033[1m\\033[92mPASSED\\033[0m')\n",
    "    os.remove('test.h5ad')"
   ]
  },
  {
   "cell_type": "code",
   "execution_count": null,
   "id": "231f6aa5-2cc1-4859-b6a5-916588d349be",
   "metadata": {},
   "outputs": [],
   "source": [
    "adata = sc.read_h5ad('valid.h5ad')"
   ]
  },
  {
   "cell_type": "markdown",
   "id": "3511f6f3-a3e2-4a24-a6b4-7dc158bcec87",
   "metadata": {},
   "source": [
    "### Test Valid Cases "
   ]
  },
  {
   "cell_type": "code",
   "execution_count": null,
   "id": "df0b8ea8-3001-494e-ae6a-dad8b7220f7e",
   "metadata": {},
   "outputs": [],
   "source": [
    "# \"regular\" sized obsm array\n",
    "adata.obsm['test_array'] = np.zeros(2000,dtype=float)\n",
    "save_and_test(adata, 'True')\n",
    "del adata.obsm['test_array']"
   ]
  },
  {
   "cell_type": "code",
   "execution_count": null,
   "id": "f88996d2-93f2-4fa7-9268-82c75e8b964f",
   "metadata": {},
   "outputs": [],
   "source": [
    "# \"regular\" sized obsp array\n",
    "adata.obsp['test_array'] = np.zeros([2000,2000],dtype=float)\n",
    "save_and_test(adata, 'True')\n",
    "del adata.obsp['test_array']"
   ]
  },
  {
   "cell_type": "code",
   "execution_count": null,
   "id": "5f50126f-1df7-4044-9918-51cc3f2f9004",
   "metadata": {},
   "outputs": [],
   "source": [
    "# \"regular\" sized varm array\n",
    "adata.varm['test_array'] = np.zeros(22356,dtype=float)\n",
    "save_and_test(adata, 'True')\n",
    "del adata.varm['test_array']"
   ]
  },
  {
   "cell_type": "code",
   "execution_count": null,
   "id": "2028a0e1-2cdb-4a33-a714-e9e806dc6b10",
   "metadata": {},
   "outputs": [],
   "source": [
    "# \"regular\" sized varp array\n",
    "adata.varp['test_array'] = np.zeros([22356,22356],dtype=float)\n",
    "save_and_test(adata, 'True')\n",
    "del adata.varp['test_array']"
   ]
  },
  {
   "cell_type": "markdown",
   "id": "4dde2586-ca8d-40d3-a4f3-08fff2d6f8df",
   "metadata": {},
   "source": [
    "### Test Invalid Cases "
   ]
  },
  {
   "cell_type": "code",
   "execution_count": null,
   "id": "6a50e030-b8af-4c5b-b281-be03226fde81",
   "metadata": {},
   "outputs": [],
   "source": [
    "# obsm with array size of 0\n",
    "adata.obsm['test_array'] = np.empty(shape=(2000,0))\n",
    "save_and_test(adata, 'False')\n",
    "del adata.obsm['test_array']"
   ]
  },
  {
   "cell_type": "code",
   "execution_count": null,
   "id": "e7acead1-2ce3-4fdd-8066-2661ced080a8",
   "metadata": {},
   "outputs": [],
   "source": [
    "# obsp with array size of 0\n",
    "adata.obsp['test_array'] = np.empty(shape=(2000,2000,0))\n",
    "save_and_test(adata, 'False')\n",
    "del adata.obsp['test_array']"
   ]
  },
  {
   "cell_type": "code",
   "execution_count": null,
   "id": "aff1b7ba-3836-409d-afec-29c661b47829",
   "metadata": {},
   "outputs": [],
   "source": [
    "# varm with array size of 0\n",
    "adata.varm['test_array'] = np.empty(shape=(22356,0))\n",
    "save_and_test(adata, 'False')\n",
    "del adata.varm['test_array']"
   ]
  },
  {
   "cell_type": "code",
   "execution_count": null,
   "id": "25076f26-7fbd-44e4-ba97-cb7c22897f54",
   "metadata": {},
   "outputs": [],
   "source": [
    "# varp with array size of 0\n",
    "adata.varp['test_array'] = np.empty(shape = (22356,22356,0))\n",
    "save_and_test(adata, 'False')\n",
    "del adata.varp['test_array']"
   ]
  }
 ],
 "metadata": {
  "kernelspec": {
   "display_name": "Python 3 (ipykernel)",
   "language": "python",
   "name": "python3"
  },
  "language_info": {
   "codemirror_mode": {
    "name": "ipython",
    "version": 3
   },
   "file_extension": ".py",
   "mimetype": "text/x-python",
   "name": "python",
   "nbconvert_exporter": "python",
   "pygments_lexer": "ipython3",
   "version": "3.10.8"
  }
 },
 "nbformat": 4,
 "nbformat_minor": 5
}
