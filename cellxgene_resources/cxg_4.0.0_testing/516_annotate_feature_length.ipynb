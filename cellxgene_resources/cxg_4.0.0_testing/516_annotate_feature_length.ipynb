{
 "cells": [
  {
   "cell_type": "code",
   "execution_count": null,
   "id": "2b8b98ac",
   "metadata": {},
   "outputs": [],
   "source": [
    "# https://github.com/chanzuckerberg/single-cell-curation/issues/516\n",
    "# https://github.com/chanzuckerberg/single-cell-curation/blob/main/schema/4.0.0/schema.md#feature_length\n",
    "\n",
    "import numpy as np\n",
    "import os\n",
    "import scanpy as sc\n",
    "import subprocess\n",
    "import pandas as pd"
   ]
  },
  {
   "cell_type": "code",
   "execution_count": null,
   "id": "75849952",
   "metadata": {},
   "outputs": [],
   "source": [
    "def validate(file):\n",
    "    validate_process = subprocess.run(['cellxgene-schema', 'validate', '--add-labels', file], stdout=subprocess.PIPE, stderr=subprocess.PIPE)\n",
    "    for line in validate_process.stdout.decode('utf-8').split('\\n'):\n",
    "        print(line)\n",
    "    for line in validate_process.stderr.decode('utf-8').split('\\n'):\n",
    "        print(line)\n",
    "        if 'is_valid=' in line:\n",
    "            valid = line.split('=')[-1]\n",
    "            return valid"
   ]
  },
  {
   "cell_type": "code",
   "execution_count": null,
   "id": "19365f72",
   "metadata": {},
   "outputs": [],
   "source": [
    "def save_and_test(adata, expected):\n",
    "    adata.write(filename='test.h5ad')\n",
    "    adata = sc.read_h5ad('test.h5ad')\n",
    "    if ('feature_length' in adata.var.columns) and ('feature_biotype' in adata.var.columns):\n",
    "        print(adata.var[['feature_biotype','feature_length']].info())\n",
    "        print('-------------------')\n",
    "        print(adata.var[['feature_length','feature_biotype']].value_counts())\n",
    "        \n",
    "    elif 'feature_biotype' in adata.var.columns: \n",
    "        print('feature_length is absent')\n",
    "    \n",
    "    else: \n",
    "        print('feature_biotype is absent')\n",
    "\n",
    "    print('------------------')\n",
    "    valid = validate('test.h5ad')\n",
    "    print('------------------')\n",
    "    if expected != valid:\n",
    "        print('\\033[1m\\033[91mERROR\\033[0m')\n",
    "    else:\n",
    "        print('\\033[1m\\033[92mPASSED\\033[0m')\n",
    "    os.remove('test.h5ad')"
   ]
  },
  {
   "cell_type": "code",
   "execution_count": null,
   "id": "92a073af",
   "metadata": {},
   "outputs": [],
   "source": [
    "adata = sc.read_h5ad('../valid.h5ad') #backed='r' would be slightly quicker but produces an error with multiple writes"
   ]
  },
  {
   "cell_type": "code",
   "execution_count": null,
   "id": "e9f79ba1",
   "metadata": {},
   "outputs": [],
   "source": [
    "adata.var"
   ]
  },
  {
   "cell_type": "code",
   "execution_count": null,
   "id": "7e0b17ef",
   "metadata": {},
   "outputs": [],
   "source": [
    "adata.raw.var"
   ]
  },
  {
   "cell_type": "markdown",
   "id": "8c289720",
   "metadata": {},
   "source": [
    "### Test info\n",
    "- feature_length will be a new var field that the portal will add to each dataset upon submission: Annotator =\tCELLxGENE Discover\n",
    "\n",
    "- the --add-labels option for cellxgene-schema should be adding this too. \n",
    "\n",
    "- validation will be to run --add-labels to a .h5ad, then open the resulting .h5ad and do some checks:\n",
    "\n",
    "    1. make sure var.feature_length is present\n",
    "\n",
    "    2. if there’s a raw layer, make sure raw.var.feature_length is present\n",
    "\n",
    "    3. then do some checks to make sure the lengths filled in are expected (we may need to pull some genes from v38 GENCODE gtf to use as checks here)\n",
    "\n",
    "        - Lengths depend on feature_biotype = 'gene' or 'spike-in'\n",
    "        - Gene lengths are calculated by creating non-overlapping concatenated exons across all isoforms of the gene, and then adding up their length in base-pairs.\n",
    "        - Testing both var and raw.var\n",
    "\n",
    "        <br> Valid cases:\n",
    "        1. gene = summed length of non-overlapping concatenated exons across all isoforms of the gene\n",
    "           \n",
    "        2. spike-in = 0\n",
    "\n",
    "        <br> Invalid cases:\n",
    "        \n",
    "        1. when feature_biotype = `gene` -> is gene length calculated as expected?\n",
    "            - test when there are overlapping exons of various lengths (isoforms):\n",
    "                - using gene found in v38 gencode gtf with multiple exons that vary in length\n",
    "            \n",
    "            - does it matter what strands exons are found on?\n",
    "            \n",
    "            - test null values?\n",
    "\n",
    "            - test datatypes: str, float\n",
    "            - any investigation into the use of cds vs exons?\n",
    "\n",
    "        2. when feature_biotype = `spike-in` -> is length calculated as 0?\n",
    "            - test non-zero value\n",
    "            - test null value\n",
    "            - test datatypes: str, float\n",
    "            \n"
   ]
  },
  {
   "cell_type": "code",
   "execution_count": null,
   "id": "742e831b",
   "metadata": {},
   "outputs": [],
   "source": [
    "def create_exon_df(ref_gtf):\n",
    "    '''\n",
    "    Input: 1) path to reference gtf annotation file\n",
    "    Output: pandas dataframe of extracted exon elements\n",
    "    '''\n",
    "\n",
    "    ref = pd.read_table(ref_gtf, skiprows=[0,1,2,3,4,5], header=None)\n",
    "    # extract feature information from ref_gtf\n",
    "    feature_dict = {\n",
    "        'ensg_id': [],\n",
    "        'gene_name': [],\n",
    "        'feature': [],\n",
    "        'exon_id': [],\n",
    "        'exon_number': [],\n",
    "        'gene_type': [],\n",
    "        'start': [],\n",
    "        'stop': [],\n",
    "        'strand': [],\n",
    "        'column8': []\n",
    "    }\n",
    "\n",
    "    for index,row in ref.iterrows():\n",
    "        #print(row[2])\n",
    "        #print(row[8])\n",
    "        if row[2] == 'exon':\n",
    "            #print(row[8].split(';')[0].split('\"')[1].split('.')[0])\n",
    "            #print(row[8].split(';')[8])\n",
    "            #print(row[8].split(';')[9].split('\"')[1])\n",
    "            feature_dict['ensg_id'].append(row[8].split(';')[0].split('\"')[1].split('.')[0])\n",
    "            feature_dict['gene_name'].append(row[8].split(';')[4].split('\"')[1])\n",
    "            feature_dict['feature'].append(row[2])\n",
    "            feature_dict['exon_id'].append(row[8].split(';')[9].split('\"')[1])\n",
    "            feature_dict['exon_number'].append(row[8].split(';')[8])\n",
    "            feature_dict['gene_type'].append(row[8].split(';')[2].split('\"')[1])\n",
    "            feature_dict['start'].append(row[3])\n",
    "            feature_dict['stop'].append(row[4])\n",
    "            feature_dict['strand'].append(row[6])\n",
    "            feature_dict['column8'].append(row[8])\n",
    "        \n",
    "    \n",
    "    return pd.DataFrame(feature_dict)\n",
    "    "
   ]
  },
  {
   "cell_type": "code",
   "execution_count": null,
   "id": "694e8da3",
   "metadata": {},
   "outputs": [],
   "source": [
    "exon_df = create_exon_df('/Users/corinnsmall/Downloads/gencode.vM1.annotation.gtf')\n",
    "exon_df"
   ]
  },
  {
   "cell_type": "code",
   "execution_count": null,
   "id": "f6d572ce",
   "metadata": {},
   "outputs": [],
   "source": [
    "exon_df['exon_id'].value_counts()"
   ]
  },
  {
   "cell_type": "code",
   "execution_count": null,
   "id": "1414f897",
   "metadata": {},
   "outputs": [],
   "source": [
    "exon_df[exon_df['exon_id'] == 'ENSMUSE00000140031.1']"
   ]
  },
  {
   "cell_type": "code",
   "execution_count": null,
   "id": "31112617",
   "metadata": {},
   "outputs": [],
   "source": [
    "for i in exon_df[exon_df['ensg_id'] == 'ENSMUSG00000029577']['column8']:\n",
    "    print(i)"
   ]
  },
  {
   "cell_type": "code",
   "execution_count": null,
   "id": "f66a319c",
   "metadata": {},
   "outputs": [],
   "source": [
    "def calculate_expected_feature_length(ensg_id, exon_df):\n",
    "    '''\n",
    "    Input: 1) known ensg_id; 2) exon df of known genes\n",
    "    Output: expected gene length in bps\n",
    "    \n",
    "    Method: Gene lengths are calculated by creating non-overlapping concatenated exons across all isoforms of the gene, and then adding up their length in base-pairs.\n",
    "    '''\n",
    "\n",
    "    "
   ]
  },
  {
   "cell_type": "code",
   "execution_count": null,
   "id": "931b0f2f",
   "metadata": {},
   "outputs": [],
   "source": []
  },
  {
   "cell_type": "markdown",
   "id": "f4a199fe",
   "metadata": {},
   "source": [
    "**Test valid cases**"
   ]
  },
  {
   "cell_type": "code",
   "execution_count": null,
   "id": "b139b307",
   "metadata": {},
   "outputs": [],
   "source": [
    "# var.feature_length is present, for a known gene\n",
    "adata.var['feature_biotype'] = 'gene'\n",
    "adata.var['feature_length'] = calculate_expected_feature_length(ensg_id, exon_df)  # still need to determine which gene to use\n",
    "save_and_test(adata, 'True')"
   ]
  },
  {
   "cell_type": "code",
   "execution_count": null,
   "id": "7f66127c",
   "metadata": {},
   "outputs": [],
   "source": [
    "# raw.var.feature_length is present\n",
    "adata.raw.var['feature_biotype'] = 'gene'\n",
    "adata.raw.var['feature_length'] = calculate_expected_feature_length(ensg_id, exon_df) # still need to determine which gene to use\n",
    "save_and_test(adata, 'True')"
   ]
  },
  {
   "cell_type": "code",
   "execution_count": null,
   "id": "78cabbce",
   "metadata": {},
   "outputs": [],
   "source": [
    "# var.feature_length is present, for a 'spike-in'\n",
    "adata.var['feature_biotype'] = 'spike-in'\n",
    "adata.var['feature_length'] = 0\n",
    "save_and_test(adata, 'True')"
   ]
  },
  {
   "cell_type": "code",
   "execution_count": null,
   "id": "74aee5b9",
   "metadata": {},
   "outputs": [],
   "source": [
    "# var.feature_length is present, for a 'spike-in'\n",
    "adata.raw.var['feature_biotype'] = 'spike-in'\n",
    "adata.raw.var['feature_length'] = 0\n",
    "save_and_test(adata, 'True')"
   ]
  },
  {
   "cell_type": "markdown",
   "id": "36b19db2",
   "metadata": {},
   "source": [
    "**Test invalid cases for 'feature_biotype'='gene'**"
   ]
  },
  {
   "cell_type": "code",
   "execution_count": null,
   "id": "74b63c54",
   "metadata": {},
   "outputs": [],
   "source": [
    "# var.feature_length is not present, for a known gene\n",
    "adata.var['feature_biotype'] = 'gene'\n",
    "adata.var.drop(columns=['feature_length'])\n",
    "save_and_test(adata, 'False')"
   ]
  },
  {
   "cell_type": "code",
   "execution_count": null,
   "id": "c20330b4",
   "metadata": {},
   "outputs": [],
   "source": [
    "# raw.var.feature_length is not present, for a known gene\n",
    "adata.raw.var['feature_biotype'] = 'gene'\n",
    "adata.raw.var.drop(columns=['feature_length'])\n",
    "save_and_test(adata, 'False')"
   ]
  },
  {
   "cell_type": "code",
   "execution_count": null,
   "id": "3d038ab2",
   "metadata": {},
   "outputs": [],
   "source": [
    "# var.feature_length is present and null, for a known gene\n",
    "adata.var['feature_biotype'] = 'gene'\n",
    "adata.var['feature_length'] = None\n",
    "save_and_test(adata, 'False')"
   ]
  },
  {
   "cell_type": "code",
   "execution_count": null,
   "id": "5dcc28be",
   "metadata": {},
   "outputs": [],
   "source": [
    "# raw.var.feature_length is present and null, for a known gene\n",
    "adata.raw.var['feature_biotype'] = 'gene'\n",
    "adata.raw.var['feature_length'] = None\n",
    "save_and_test(adata, 'False')"
   ]
  },
  {
   "cell_type": "code",
   "execution_count": null,
   "id": "6194cbc3",
   "metadata": {},
   "outputs": [],
   "source": [
    "# var.feature_length as bool, for a known gene\n",
    "adata.var['feature_biotype'] = 'gene'\n",
    "adata.var['feature_length'] = False\n",
    "save_and_test(adata, 'False')"
   ]
  },
  {
   "cell_type": "code",
   "execution_count": null,
   "id": "60182e1b",
   "metadata": {},
   "outputs": [],
   "source": [
    "# raw.var.feature_length as empty str, for a known gene\n",
    "adata.raw.var['feature_biotype'] = 'gene'\n",
    "adata.raw.var['feature_length'] = False\n",
    "save_and_test(adata, 'False')"
   ]
  },
  {
   "cell_type": "code",
   "execution_count": null,
   "id": "4cb69343",
   "metadata": {},
   "outputs": [],
   "source": [
    "# var.feature_length as empty str, for a known gene\n",
    "adata.var['feature_biotype'] = 'gene'\n",
    "adata.var['feature_length'] = ''\n",
    "save_and_test(adata, 'False')"
   ]
  },
  {
   "cell_type": "code",
   "execution_count": null,
   "id": "6e49755c",
   "metadata": {},
   "outputs": [],
   "source": [
    "# raw.var.feature_length as empty str, for a known gene\n",
    "adata.raw.var['feature_biotype'] = 'gene'\n",
    "adata.raw.var['feature_length'] = ''\n",
    "save_and_test(adata, 'False')"
   ]
  },
  {
   "cell_type": "code",
   "execution_count": null,
   "id": "bcc7417d",
   "metadata": {},
   "outputs": [],
   "source": [
    "# var.feature_length as 'NaN' (str), for a known gene\n",
    "adata.var['feature_biotype'] = 'gene'\n",
    "adata.var['feature_length'] = 'NaN'\n",
    "save_and_test(adata, 'False')"
   ]
  },
  {
   "cell_type": "code",
   "execution_count": null,
   "id": "02726004",
   "metadata": {},
   "outputs": [],
   "source": [
    "# raw.var.feature_length as 'NaN' (str), for a known gene\n",
    "adata.raw.var['feature_biotype'] = 'gene'\n",
    "adata.raw.var['feature_length'] = 'NaN'\n",
    "save_and_test(adata, 'False')"
   ]
  },
  {
   "cell_type": "code",
   "execution_count": null,
   "id": "7b6c8adb",
   "metadata": {},
   "outputs": [],
   "source": [
    "# var.feature_length as unexpected length, for a known gene\n",
    "adata.var['feature_biotype'] = 'gene'\n",
    "adata.var['feature_length'] = 0   # unexpected_length\n",
    "save_and_test(adata, 'False')"
   ]
  },
  {
   "cell_type": "code",
   "execution_count": null,
   "id": "a33669ef",
   "metadata": {},
   "outputs": [],
   "source": [
    "# raw.var.feature_length as unexpected length, for a known gene\n",
    "adata.raw.var['feature_biotype'] = 'gene'\n",
    "adata.raw.var['feature_length'] = 0   # unexpected_length\n",
    "save_and_test(adata, 'False')"
   ]
  },
  {
   "cell_type": "code",
   "execution_count": null,
   "id": "12be2715",
   "metadata": {},
   "outputs": [],
   "source": [
    "# var.feature_length as negative value, for a known gene\n",
    "adata.var['feature_biotype'] = 'gene'\n",
    "adata.var['feature_length'] = np.negative(calculate_expected_feature_length(ensg_id, exon_df))   # unexpected value for uint dtype\n",
    "save_and_test(adata, 'False')"
   ]
  },
  {
   "cell_type": "code",
   "execution_count": null,
   "id": "8f717276",
   "metadata": {},
   "outputs": [],
   "source": [
    "# raw.var.feature_length as negative value, for a known gene\n",
    "adata.raw.var['feature_biotype'] = 'gene'\n",
    "adata.raw.var['feature_length'] = np.negative(calculate_expected_feature_length(ensg_id, exon_df))   # unexpected value for uint dtype\n",
    "save_and_test(adata, 'False')"
   ]
  },
  {
   "cell_type": "code",
   "execution_count": null,
   "id": "9cb6d150",
   "metadata": {},
   "outputs": [],
   "source": [
    "# var.feature_length as float value, for a known gene\n",
    "adata.var['feature_biotype'] = 'gene'\n",
    "adata.var['feature_length'] = float(calculate_expected_feature_length(ensg_id, exon_df))  # unexpected value for uint dtype\n",
    "save_and_test(adata, 'False')"
   ]
  },
  {
   "cell_type": "code",
   "execution_count": null,
   "id": "8c88e1d8",
   "metadata": {},
   "outputs": [],
   "source": [
    "# raw.var.feature_length as float value, for a known gene\n",
    "adata.raw.var['feature_biotype'] = 'gene'\n",
    "adata.raw.var['feature_length'] = float(calculate_expected_feature_length(ensg_id, exon_df))  # unexpected value for uint dtype\n",
    "save_and_test(adata, 'False')"
   ]
  },
  {
   "cell_type": "markdown",
   "id": "169ed9dd",
   "metadata": {},
   "source": [
    "**Test invalid cases for 'feature_biotype'='spike-in'**"
   ]
  },
  {
   "cell_type": "code",
   "execution_count": null,
   "id": "e8a3dcce",
   "metadata": {},
   "outputs": [],
   "source": [
    "# var.feature_length is not present, for spike-in\n",
    "adata.var['feature_biotype'] = 'spike-in'\n",
    "adata.var.drop(columns=['feature_length'])\n",
    "save_and_test(adata, 'False')"
   ]
  },
  {
   "cell_type": "code",
   "execution_count": null,
   "id": "8de942dc",
   "metadata": {},
   "outputs": [],
   "source": [
    "# raw.var.feature_length is not present, for spike-in\n",
    "adata.raw.var['feature_biotype'] = 'spike-in'\n",
    "adata.raw.var.drop(columns=['feature_length'])\n",
    "save_and_test(adata, 'False')"
   ]
  },
  {
   "cell_type": "code",
   "execution_count": null,
   "id": "dbf25271",
   "metadata": {},
   "outputs": [],
   "source": [
    "# var.feature_length is present and null, for spike-in\n",
    "adata.var['feature_biotype'] = 'spike-in'\n",
    "adata.var['feature_length'] = None\n",
    "save_and_test(adata, 'False')"
   ]
  },
  {
   "cell_type": "code",
   "execution_count": null,
   "id": "868064e1",
   "metadata": {},
   "outputs": [],
   "source": [
    "# raw.var.feature_length is present and null, for spike-in\n",
    "adata.raw.var['feature_biotype'] = 'spike-in'\n",
    "adata.raw.var['feature_length'] = None\n",
    "save_and_test(adata, 'False')"
   ]
  },
  {
   "cell_type": "code",
   "execution_count": null,
   "id": "ce929124",
   "metadata": {},
   "outputs": [],
   "source": [
    "# var.feature_length as bool, for spike-in\n",
    "adata.var['feature_biotype'] = 'spike-in'\n",
    "adata.var['feature_length'] = False\n",
    "save_and_test(adata, 'False')"
   ]
  },
  {
   "cell_type": "code",
   "execution_count": null,
   "id": "d6665325",
   "metadata": {},
   "outputs": [],
   "source": [
    "# raw.var.feature_length as bool, for spike-in\n",
    "adata.raw.var['feature_biotype'] = 'spike-in'\n",
    "adata.raw.var['feature_length'] = False\n",
    "save_and_test(adata, 'False')"
   ]
  },
  {
   "cell_type": "code",
   "execution_count": null,
   "id": "be2b6556",
   "metadata": {},
   "outputs": [],
   "source": [
    "# var.feature_length as empty str, for spike-in\n",
    "adata.var['feature_biotype'] = 'spike-in'\n",
    "adata.var['feature_length'] = ''\n",
    "save_and_test(adata, 'False')"
   ]
  },
  {
   "cell_type": "code",
   "execution_count": null,
   "id": "d6ecd061",
   "metadata": {},
   "outputs": [],
   "source": [
    "# raw.var.feature_length as empty str, for spike-in\n",
    "adata.raw.var['feature_biotype'] = 'spike-in'\n",
    "adata.raw.var['feature_length'] = ''\n",
    "save_and_test(adata, 'False')"
   ]
  },
  {
   "cell_type": "code",
   "execution_count": null,
   "id": "39b42f2c",
   "metadata": {},
   "outputs": [],
   "source": [
    "# var.feature_length as 'NaN' (str), for spike-in\n",
    "adata.var['feature_biotype'] = 'spike-in'\n",
    "adata.var['feature_length'] = 'NaN'\n",
    "save_and_test(adata, 'False')"
   ]
  },
  {
   "cell_type": "code",
   "execution_count": null,
   "id": "a4676b69",
   "metadata": {},
   "outputs": [],
   "source": [
    "# raw.var.feature_length as 'NaN' (str), for spike-in\n",
    "adata.raw.var['feature_biotype'] = 'spike-in'\n",
    "adata.raw.var['feature_length'] = 'NaN'\n",
    "save_and_test(adata, 'False')"
   ]
  },
  {
   "cell_type": "code",
   "execution_count": null,
   "id": "7cf69538",
   "metadata": {},
   "outputs": [],
   "source": [
    "# var.feature_length as > 0, for spike-in\n",
    "adata.var['feature_biotype'] = 'spike-in'\n",
    "adata.var['feature_length'] = 1\n",
    "save_and_test(adata, 'False')"
   ]
  },
  {
   "cell_type": "code",
   "execution_count": null,
   "id": "e12257a4",
   "metadata": {},
   "outputs": [],
   "source": [
    "# raw.var.feature_length as > 0, for spike-in\n",
    "adata.raw.var['feature_biotype'] = 'spike-in'\n",
    "adata.raw.var['feature_length'] = 1\n",
    "save_and_test(adata, 'False')"
   ]
  },
  {
   "cell_type": "code",
   "execution_count": null,
   "id": "f087722c",
   "metadata": {},
   "outputs": [],
   "source": [
    "# var.feature_length as < 0, for spike-in\n",
    "adata.var['feature_biotype'] = 'spike-in'\n",
    "adata.var['feature_length'] = -1\n",
    "save_and_test(adata, 'False')"
   ]
  },
  {
   "cell_type": "code",
   "execution_count": null,
   "id": "28091e31",
   "metadata": {},
   "outputs": [],
   "source": [
    "# raw.var.feature_length as < 0, for spike-in\n",
    "adata.raw.var['feature_biotype'] = 'spike-in'\n",
    "adata.raw.var['feature_length'] = -1\n",
    "save_and_test(adata, 'False')"
   ]
  },
  {
   "cell_type": "code",
   "execution_count": null,
   "id": "119a7cf5",
   "metadata": {},
   "outputs": [],
   "source": [
    "# var.feature_length as float, for spike-in\n",
    "adata.var['feature_biotype'] = 'spike-in'\n",
    "adata.var['feature_length'] = 0.0\n",
    "save_and_test(adata, 'False')"
   ]
  },
  {
   "cell_type": "code",
   "execution_count": null,
   "id": "12fd8ebe",
   "metadata": {},
   "outputs": [],
   "source": [
    "# raw.var.feature_length as float, for spike-in\n",
    "adata.raw.var['feature_biotype'] = 'spike-in'\n",
    "adata.raw.var['feature_length'] = 0.0\n",
    "save_and_test(adata, 'False')"
   ]
  }
 ],
 "metadata": {
  "kernelspec": {
   "display_name": "Python 3 (ipykernel)",
   "language": "python",
   "name": "python3"
  },
  "language_info": {
   "codemirror_mode": {
    "name": "ipython",
    "version": 3
   },
   "file_extension": ".py",
   "mimetype": "text/x-python",
   "name": "python",
   "nbconvert_exporter": "python",
   "pygments_lexer": "ipython3",
   "version": "3.9.18"
  }
 },
 "nbformat": 4,
 "nbformat_minor": 5
}
