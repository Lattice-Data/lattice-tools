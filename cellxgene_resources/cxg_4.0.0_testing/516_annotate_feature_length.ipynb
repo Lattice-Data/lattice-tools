{
 "cells": [
  {
   "cell_type": "code",
   "execution_count": 42,
   "id": "2b8b98ac",
   "metadata": {},
   "outputs": [],
   "source": [
    "# https://github.com/chanzuckerberg/single-cell-curation/issues/516\n",
    "# https://github.com/chanzuckerberg/single-cell-curation/blob/main/schema/4.0.0/schema.md#feature_length\n",
    "\n",
    "import numpy as np\n",
    "import os\n",
    "import scanpy as sc\n",
    "import subprocess\n",
    "import pandas as pd"
   ]
  },
  {
   "cell_type": "code",
   "execution_count": 43,
   "id": "19365f72",
   "metadata": {},
   "outputs": [],
   "source": [
    "def save(adata, h5ad_file_name): \n",
    "    ''' \n",
    "    Input: valid adata\n",
    "    Output: valid h5ad and checks adata.raw.var and adata.var for relevant fields\n",
    "    \n",
    "    '''\n",
    "\n",
    "    adata.write(filename=h5ad_file_name)\n",
    "    adata = sc.read_h5ad(h5ad_file_name) \n",
    "    print(adata)\n",
    "    \n",
    "    try:\n",
    "        adata.raw\n",
    "        print('adata.raw present')\n",
    "        # check adata.raw.var\n",
    "        if ('feature_length' not in adata.raw.var.columns) and ('feature_biotype' not in adata.raw.var.columns):\n",
    "            print('Raw.var: feature_length and feature_biotype are absent - good CELLxGENE should annotate these two var fields')\n",
    "    \n",
    "        elif ('feature_biotype' in adata.raw.var.columns) and ('feature_length' not in adata.raw.var.columns):\n",
    "            print('Raw.var: feature_biotype is present')\n",
    "            #print(adata.raw.var['feature_biotype'].info())\n",
    "            print('-------------------')\n",
    "    \n",
    "        else: \n",
    "            print(adata.raw.var['feature_length'].info())\n",
    "    except:\n",
    "        print('adata.raw not present')\n",
    "\n",
    "    try:\n",
    "        adata.var\n",
    "        # check adata.var\n",
    "        if ('feature_length' not in adata.var.columns) and ('feature_biotype' not in adata.var.columns):\n",
    "            print('Var: feature_length and feature_biotype are absent - good CELLxGENE should annotate these two var fields')\n",
    "\n",
    "        elif ('feature_biotype' in adata.var.columns) and ('feature_length' not in adata.var.columns):\n",
    "            print('Var: feature_biotype is present')\n",
    "            #print(adata.var['feature_biotype'].info())\n",
    "            print('-------------------')\n",
    "\n",
    "        else: \n",
    "            print(adata.var['feature_length'].info())\n",
    "    \n",
    "    except:\n",
    "        print('adata.var not present')"
   ]
  },
  {
   "cell_type": "code",
   "execution_count": 44,
   "id": "19d531be",
   "metadata": {},
   "outputs": [],
   "source": [
    "def concat_expected_lengths(directory, list_of_csvs):\n",
    "    df_list = []\n",
    "    for c in list_of_csvs:\n",
    "        df = pd.read_csv(directory + c,header=None)\n",
    "        df_list.append(df)\n",
    "    \n",
    "    return pd.concat(df_list,ignore_index=True)"
   ]
  },
  {
   "cell_type": "code",
   "execution_count": 45,
   "id": "75849952",
   "metadata": {},
   "outputs": [],
   "source": [
    "def validate(input_file, output_file):\n",
    "    ''' \n",
    "    Input: h5ad file\n",
    "    Output: h5ad file with additional var metadata fields\n",
    "    \n",
    "    '''\n",
    "    validate_process = subprocess.run(['cellxgene-schema', 'validate', '--add-labels', f'{output_file}', f'{input_file}'], stdout=subprocess.PIPE, stderr=subprocess.PIPE)\n",
    "    for line in validate_process.stdout.decode('utf-8').split('\\n'):\n",
    "        print(line)\n",
    "    for line in validate_process.stderr.decode('utf-8').split('\\n'):\n",
    "        print(line)\n",
    "        if 'is_valid=' in line:\n",
    "            valid = line.split('=')[-1]\n",
    "            print(valid)"
   ]
  },
  {
   "cell_type": "code",
   "execution_count": 46,
   "id": "8caeb0ba",
   "metadata": {},
   "outputs": [],
   "source": [
    "# read in gene csvs with known feature lengths\n",
    "list_of_gene_csvs = ['genes_homo_sapiens.csv.gz', 'genes_mus_musculus.csv.gz', 'genes_sars_cov_2.csv.gz', 'genes_ercc.csv.gz']\n",
    "expected_df = concat_expected_lengths('~/GitClones/CZI/single-cell-curation/cellxgene_schema_cli/cellxgene_schema/ontology_files/', list_of_gene_csvs)\n",
    "\n",
    "expected_df.rename(columns={0:'feature_id', 1:'gene_name', 2:'gene_version', 3:'gene_length'}, inplace=True)\n",
    "expected_df.loc[expected_df['feature_id'].str.startswith('ERCC'), 'gene_length'] = 0"
   ]
  },
  {
   "cell_type": "code",
   "execution_count": 47,
   "id": "e009ee17",
   "metadata": {},
   "outputs": [],
   "source": [
    "# read in valid h5ad (modify this to include all human, mouse (already included), sars-cov, and spike-in feature ID)\n",
    "adata = sc.read_h5ad('../valid.h5ad')\n",
    "adata.var.reset_index(inplace=True)\n",
    "adata.raw.var.reset_index(inplace=True)"
   ]
  },
  {
   "cell_type": "code",
   "execution_count": 49,
   "id": "a2e79569",
   "metadata": {},
   "outputs": [],
   "source": [
    "# create new list of feature_ids sampled from concatenated list of genes\n",
    "sample = pd.DataFrame(expected_df.sample(22356)['feature_id'])\n",
    "sample = sample.reset_index()\n",
    "sample.drop(columns='index', inplace=True)"
   ]
  },
  {
   "cell_type": "code",
   "execution_count": 51,
   "id": "e08b4dab",
   "metadata": {},
   "outputs": [
    {
     "name": "stdout",
     "output_type": "stream",
     "text": [
      "Mouse sample count:  10749\n",
      "Human sample count:  11586\n",
      "Covid sample count:  1\n",
      "Spike-in sample count:  20\n"
     ]
    }
   ],
   "source": [
    "# check how many of each organism was sampled\n",
    "print('Mouse sample count: ',sample.loc[sample['feature_id'].str.contains(r'^ENSMUSG'), :].shape[0])\n",
    "print('Human sample count: ',sample.loc[sample['feature_id'].str.contains(r'^ENSG'), :].shape[0])\n",
    "print('Covid sample count: ',sample.loc[sample['feature_id'].str.contains(r'^ENSSASG'), :].shape[0])\n",
    "print('Spike-in sample count: ', sample.loc[sample['feature_id'].str.contains(r'^ERCC'), :].shape[0])"
   ]
  },
  {
   "cell_type": "code",
   "execution_count": 52,
   "id": "c0fcc16a",
   "metadata": {},
   "outputs": [],
   "source": [
    "# replace adata.var and adata.raw.var with new sampling of feature ids\n",
    "adata.var['feature_id'] = sample\n",
    "adata.var.set_index('feature_id', inplace=True)\n",
    "adata.raw.var['feature_id'] = sample\n",
    "adata.raw.var.set_index('feature_id', inplace=True)"
   ]
  },
  {
   "cell_type": "code",
   "execution_count": 53,
   "id": "092514c7",
   "metadata": {},
   "outputs": [
    {
     "name": "stdout",
     "output_type": "stream",
     "text": [
      "AnnData object with n_obs × n_vars = 2000 × 22356\n",
      "    obs: 'BICCN_cluster_id', 'QC', 'BICCN_cluster_label', 'BICCN_subclass_label', 'BICCN_class_label', 'cluster_color', 'size', 'temp_class_label', 'BICCN_ontology_term_id', 'assay_ontology_term_id', 'disease_ontology_term_id', 'tissue_ontology_term_id', 'BICCN_project', 'cell_type_ontology_term_id', 'self_reported_ethnicity_ontology_term_id', 'development_stage_ontology_term_id', 'sex_ontology_term_id', 'is_primary_data', 'organism_ontology_term_id', 'donor_id', 'suspension_type', 'tissue_type'\n",
      "    var: 'Unnamed: 0', 'feature_is_filtered'\n",
      "    uns: 'title'\n",
      "    obsm: 'X_harmony', 'X_umap'\n",
      "adata.raw present\n",
      "Raw.var: feature_length and feature_biotype are absent - good CELLxGENE should annotate these two var fields\n",
      "Var: feature_length and feature_biotype are absent - good CELLxGENE should annotate these two var fields\n"
     ]
    }
   ],
   "source": [
    "# save new adata as h5ad\n",
    "save(adata, 'new_valid.h5ad')"
   ]
  },
  {
   "cell_type": "code",
   "execution_count": 54,
   "id": "22f26e04",
   "metadata": {},
   "outputs": [
    {
     "name": "stdout",
     "output_type": "stream",
     "text": [
      "Loading dependencies\n",
      "Loading validator modules\n",
      "\n",
      "Starting validation...\n",
      "Validation complete in 0:00:00.911992 with status is_valid=True\n",
      "True\n",
      "Writing labels\n",
      "enforce canonical format in X\n",
      "enforce canonical format in raw.X\n",
      "H5AD label writing complete in 0:03:13.952881, was_writing_successful: True\n",
      "\n"
     ]
    }
   ],
   "source": [
    "# validate new_valid.h5ad\n",
    "validate('new_valid.h5ad','output_new_valid.h5ad')"
   ]
  },
  {
   "cell_type": "code",
   "execution_count": 59,
   "id": "21befb99",
   "metadata": {},
   "outputs": [
    {
     "name": "stdout",
     "output_type": "stream",
     "text": [
      "\u001b[1m\u001b[92mPASSED\u001b[0m\n",
      "\u001b[1m\u001b[92mPASSED\u001b[0m\n"
     ]
    }
   ],
   "source": [
    "# check output_new_valid.h5ad for var.feature_length & raw.var.feature_length\n",
    "adata_with_feature_length = sc.read_h5ad('output_new_valid.h5ad')\n",
    "\n",
    "try:\n",
    "    adata_with_feature_length.var['feature_length']\n",
    "    print('\\033[1m\\033[92mPASSED\\033[0m')\n",
    "except:\n",
    "    print('\\033[1m\\033[91mERROR\\033[0m')\n",
    "    print(\"'feature_length' is not present in var\")\n",
    "\n",
    "try:\n",
    "    adata_with_feature_length.raw.var['feature_length']\n",
    "    print('\\033[1m\\033[92mPASSED\\033[0m')\n",
    "except:\n",
    "    print('\\033[1m\\033[91mERROR\\033[0m')\n",
    "    print(\"'feature_length' is not present in raw.var\")"
   ]
  },
  {
   "cell_type": "code",
   "execution_count": 56,
   "id": "43b72485",
   "metadata": {},
   "outputs": [],
   "source": [
    "# merge vars with the concatenated expected feature lengths df\n",
    "merged_expected_and_calc_var = pd.merge(adata_with_feature_length.var, expected_df, how = 'left', left_index=True,right_on='feature_id')\n",
    "merged_expected_and_calc_raw_var = pd.merge(adata_with_feature_length.raw.var, expected_df, how = 'left', left_index=True,right_on='feature_id')"
   ]
  },
  {
   "cell_type": "code",
   "execution_count": 57,
   "id": "69bf8b75-aa06-4065-875c-d15f5217cd57",
   "metadata": {},
   "outputs": [
    {
     "name": "stdout",
     "output_type": "stream",
     "text": [
      "\u001b[1m\u001b[92mPASSED\u001b[0m\n",
      "All 22356 features have expected lengths\n"
     ]
    }
   ],
   "source": [
    "var_mismatch = merged_expected_and_calc_var[\n",
    "    merged_expected_and_calc_var['feature_length'] != merged_expected_and_calc_var['gene_length']\n",
    "    ].shape[0]\n",
    "\n",
    "var_match = merged_expected_and_calc_var[\n",
    "    merged_expected_and_calc_var['feature_length'] == merged_expected_and_calc_var['gene_length']\n",
    "    ].shape[0]\n",
    "\n",
    "if var_mismatch > 0:\n",
    "    print('\\033[1m\\033[91mERROR\\033[0m')\n",
    "    print(f'{str(var_mismatch)} features have unexpected lengths')\n",
    "else:\n",
    "    print('\\033[1m\\033[92mPASSED\\033[0m')\n",
    "    print(f'All {str(var_match)} features have expected lengths')"
   ]
  },
  {
   "cell_type": "code",
   "execution_count": 58,
   "id": "be927eb6-9f4f-4ae0-99dd-d3e18fc8cdde",
   "metadata": {},
   "outputs": [
    {
     "name": "stdout",
     "output_type": "stream",
     "text": [
      "\u001b[1m\u001b[92mPASSED\u001b[0m\n",
      "All 22356 features have expected lengths\n"
     ]
    }
   ],
   "source": [
    "raw_var_mismatch = merged_expected_and_calc_raw_var[\n",
    "    merged_expected_and_calc_raw_var['feature_length'] != merged_expected_and_calc_raw_var['gene_length']\n",
    "    ].shape[0]\n",
    "\n",
    "raw_var_match = merged_expected_and_calc_raw_var[\n",
    "    merged_expected_and_calc_raw_var['feature_length'] == merged_expected_and_calc_raw_var['gene_length']\n",
    "    ].shape[0]\n",
    "\n",
    "if raw_var_mismatch > 0:\n",
    "    print('\\033[1m\\033[91mERROR\\033[0m')\n",
    "    print(f'{str(raw_var_mismatch)} features have unexpected lengths')\n",
    "else:\n",
    "    print('\\033[1m\\033[92mPASSED\\033[0m')\n",
    "    print(f'All {str(raw_var_match)} features have expected lengths')"
   ]
  },
  {
   "cell_type": "code",
   "execution_count": null,
   "id": "81ed9283-dc07-4514-90a0-b48395b0e0db",
   "metadata": {},
   "outputs": [],
   "source": []
  }
 ],
 "metadata": {
  "kernelspec": {
   "display_name": "Python 3 (ipykernel)",
   "language": "python",
   "name": "python3"
  },
  "language_info": {
   "codemirror_mode": {
    "name": "ipython",
    "version": 3
   },
   "file_extension": ".py",
   "mimetype": "text/x-python",
   "name": "python",
   "nbconvert_exporter": "python",
   "pygments_lexer": "ipython3",
   "version": "3.9.18"
  }
 },
 "nbformat": 4,
 "nbformat_minor": 5
}
