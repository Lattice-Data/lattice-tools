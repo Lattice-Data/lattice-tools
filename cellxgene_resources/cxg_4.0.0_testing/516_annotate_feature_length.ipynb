{
 "cells": [
  {
   "cell_type": "code",
   "execution_count": 47,
   "id": "2b8b98ac",
   "metadata": {},
   "outputs": [],
   "source": [
    "#https://github.com/chanzuckerberg/single-cell-curation/issues/516\n",
    "import numpy as np\n",
    "import os\n",
    "import scanpy as sc\n",
    "import subprocess"
   ]
  },
  {
   "cell_type": "code",
   "execution_count": 48,
   "id": "75849952",
   "metadata": {},
   "outputs": [],
   "source": [
    "def validate(file):\n",
    "    validate_process = subprocess.run(['cellxgene-schema', 'validate', file], stdout=subprocess.PIPE, stderr=subprocess.PIPE)\n",
    "    for line in validate_process.stdout.decode('utf-8').split('\\n'):\n",
    "        print(line)\n",
    "    for line in validate_process.stderr.decode('utf-8').split('\\n'):\n",
    "        print(line)\n",
    "        if 'is_valid=' in line:\n",
    "            valid = line.split('=')[-1]\n",
    "            return valid"
   ]
  },
  {
   "cell_type": "code",
   "execution_count": 49,
   "id": "19365f72",
   "metadata": {},
   "outputs": [],
   "source": [
    "def save_and_test(adata, expected):\n",
    "    if 'feature_length' in adata.obs.columns:\n",
    "        print(adata.obs[['feature_length','feature_biotype']].value_counts())\n",
    "    else:\n",
    "        print('feature_length is absent')\n",
    "    print('------------------')\n",
    "\n",
    "    adata.write(filename='test.h5ad')\n",
    "    valid = validate('test.h5ad')\n",
    "    print('------------------')\n",
    "    if expected != valid:\n",
    "        print('\\033[1m\\033[91mERROR\\033[0m')\n",
    "    else:\n",
    "        print('\\033[1m\\033[92mPASSED\\033[0m')\n",
    "    os.remove('test.h5ad')"
   ]
  },
  {
   "cell_type": "code",
   "execution_count": 50,
   "id": "92a073af",
   "metadata": {},
   "outputs": [],
   "source": [
    "adata = sc.read_h5ad('../valid.h5ad') #backed='r' would be slightly quicker but produces an error with multiple writes"
   ]
  },
  {
   "cell_type": "markdown",
   "id": "f4a199fe",
   "metadata": {},
   "source": [
    "**Test valid cases**"
   ]
  },
  {
   "cell_type": "code",
   "execution_count": 51,
   "id": "20d01266",
   "metadata": {},
   "outputs": [
    {
     "name": "stdout",
     "output_type": "stream",
     "text": [
      "tissue_type  tissue_ontology_term_id\n",
      "tissue       UBERON:0004784             3000\n",
      "dtype: int64\n",
      "------------------\n",
      "Loading dependencies\n",
      "Loading validator modules\n",
      "\n",
      "Starting validation...\n",
      "Validation complete in 0:00:01.085725 with status is_valid=True\n",
      "------------------\n",
      "\u001b[1m\u001b[92mPASSED\u001b[0m\n"
     ]
    }
   ],
   "source": [
    "adata.obs['feature_length'] = 100\n",
    "adata.obs['tissue_ontology_term_id'] = 'UBERON:0004784'\n",
    "save_and_test(adata, 'True')"
   ]
  },
  {
   "cell_type": "code",
   "execution_count": 52,
   "id": "2e0c8175",
   "metadata": {},
   "outputs": [
    {
     "name": "stdout",
     "output_type": "stream",
     "text": [
      "tissue_type  tissue_ontology_term_id\n",
      "organoid     UBERON:0004784             3000\n",
      "dtype: int64\n",
      "------------------\n",
      "Loading dependencies\n",
      "Loading validator modules\n",
      "\n",
      "Starting validation...\n",
      "Validation complete in 0:00:01.085846 with status is_valid=True\n",
      "------------------\n",
      "\u001b[1m\u001b[92mPASSED\u001b[0m\n"
     ]
    }
   ],
   "source": [
    "adata.obs['tissue_type'] = 'organoid'\n",
    "adata.obs['tissue_ontology_term_id'] = 'UBERON:0004784'\n",
    "save_and_test(adata, 'True')"
   ]
  },
  {
   "cell_type": "code",
   "execution_count": 53,
   "id": "c7421f3c",
   "metadata": {},
   "outputs": [
    {
     "name": "stdout",
     "output_type": "stream",
     "text": [
      "tissue_type   tissue_ontology_term_id\n",
      "cell culture  CL:0000034                 3000\n",
      "dtype: int64\n",
      "------------------\n",
      "Loading dependencies\n",
      "Loading validator modules\n",
      "\n",
      "Starting validation...\n",
      "Validation complete in 0:00:01.088309 with status is_valid=True\n",
      "------------------\n",
      "\u001b[1m\u001b[92mPASSED\u001b[0m\n"
     ]
    }
   ],
   "source": [
    "adata.obs['tissue_type'] = 'cell culture'\n",
    "adata.obs['tissue_ontology_term_id'] = 'CL:0000034'\n",
    "save_and_test(adata, 'True')"
   ]
  },
  {
   "cell_type": "markdown",
   "id": "36b19db2",
   "metadata": {},
   "source": [
    "**Test invalid cases**"
   ]
  },
  {
   "cell_type": "code",
   "execution_count": 54,
   "id": "4a297e63",
   "metadata": {},
   "outputs": [
    {
     "name": "stdout",
     "output_type": "stream",
     "text": [
      "tissue_type  tissue_ontology_term_id\n",
      "Tissue       CL:0000034                 3000\n",
      "dtype: int64\n",
      "------------------\n",
      "Loading dependencies\n",
      "Loading validator modules\n",
      "\n",
      "Starting validation...\n",
      "Validation complete in 0:00:01.163020 with status is_valid=True\n",
      "------------------\n",
      "\u001b[1m\u001b[91mERROR\u001b[0m\n"
     ]
    }
   ],
   "source": [
    "adata.obs['tissue_type'] = 'Tissue'\n",
    "save_and_test(adata, 'False')"
   ]
  },
  {
   "cell_type": "code",
   "execution_count": 55,
   "id": "43330dad",
   "metadata": {},
   "outputs": [
    {
     "name": "stdout",
     "output_type": "stream",
     "text": [
      "Series([], dtype: int64)\n",
      "------------------\n",
      "Loading dependencies\n",
      "Loading validator modules\n",
      "\n",
      "Starting validation...\n",
      "Validation complete in 0:00:01.084717 with status is_valid=True\n",
      "------------------\n",
      "\u001b[1m\u001b[91mERROR\u001b[0m\n"
     ]
    }
   ],
   "source": [
    "adata.obs['tissue_type'] = np.NaN\n",
    "save_and_test(adata, 'False')"
   ]
  },
  {
   "cell_type": "code",
   "execution_count": 56,
   "id": "3e681ba0",
   "metadata": {},
   "outputs": [
    {
     "name": "stdout",
     "output_type": "stream",
     "text": [
      "tissue_type   tissue_ontology_term_id\n",
      "cell culture  UBERON:0004784             3000\n",
      "dtype: int64\n",
      "------------------\n",
      "Loading dependencies\n",
      "Loading validator modules\n",
      "\n",
      "Starting validation...\n",
      "Validation complete in 0:00:01.085726 with status is_valid=True\n",
      "------------------\n",
      "\u001b[1m\u001b[91mERROR\u001b[0m\n"
     ]
    }
   ],
   "source": [
    "adata.obs['tissue_type'] = 'cell culture'\n",
    "adata.obs['tissue_ontology_term_id'] = 'UBERON:0004784'\n",
    "save_and_test(adata, 'False')"
   ]
  },
  {
   "cell_type": "code",
   "execution_count": 57,
   "id": "10c71a67",
   "metadata": {},
   "outputs": [
    {
     "name": "stdout",
     "output_type": "stream",
     "text": [
      "tissue_type  tissue_ontology_term_id\n",
      "organoid     CL:0000034                 3000\n",
      "dtype: int64\n",
      "------------------\n",
      "Loading dependencies\n",
      "Loading validator modules\n",
      "\n",
      "Starting validation...\n",
      "Validation complete in 0:00:01.097522 with status is_valid=True\n",
      "------------------\n",
      "\u001b[1m\u001b[91mERROR\u001b[0m\n"
     ]
    }
   ],
   "source": [
    "adata.obs['tissue_type'] = 'organoid'\n",
    "adata.obs['tissue_ontology_term_id'] = 'CL:0000034'\n",
    "save_and_test(adata, 'False')"
   ]
  },
  {
   "cell_type": "code",
   "execution_count": 58,
   "id": "fb66aa19",
   "metadata": {},
   "outputs": [
    {
     "name": "stdout",
     "output_type": "stream",
     "text": [
      "tissue_type  tissue_ontology_term_id\n",
      "tissue       CL:0000034                 3000\n",
      "dtype: int64\n",
      "------------------\n",
      "Loading dependencies\n",
      "Loading validator modules\n",
      "\n",
      "Starting validation...\n",
      "Validation complete in 0:00:01.089813 with status is_valid=True\n",
      "------------------\n",
      "\u001b[1m\u001b[91mERROR\u001b[0m\n"
     ]
    }
   ],
   "source": [
    "adata.obs['tissue_type'] = 'tissue'\n",
    "adata.obs['tissue_ontology_term_id'] = 'CL:0000034'\n",
    "save_and_test(adata, 'False')"
   ]
  },
  {
   "cell_type": "code",
   "execution_count": 59,
   "id": "b672c585",
   "metadata": {},
   "outputs": [
    {
     "name": "stdout",
     "output_type": "stream",
     "text": [
      "tissue_type  tissue_ontology_term_id\n",
      "tissue       UBERON:0001062             3000\n",
      "dtype: int64\n",
      "------------------\n",
      "Loading dependencies\n",
      "Loading validator modules\n",
      "\n",
      "Starting validation...\n",
      "Validation complete in 0:00:01.106240 with status is_valid=True\n",
      "------------------\n",
      "\u001b[1m\u001b[91mERROR\u001b[0m\n"
     ]
    }
   ],
   "source": [
    "adata.obs['tissue_type'] = 'tissue'\n",
    "adata.obs['tissue_ontology_term_id'] = 'UBERON:0001062'\n",
    "save_and_test(adata, 'False')"
   ]
  },
  {
   "cell_type": "code",
   "execution_count": 60,
   "id": "1a62f63f",
   "metadata": {},
   "outputs": [
    {
     "name": "stdout",
     "output_type": "stream",
     "text": [
      "tissue_type absent\n",
      "------------------\n",
      "Loading dependencies\n",
      "Loading validator modules\n",
      "\n",
      "Starting validation...\n",
      "Validation complete in 0:00:01.090693 with status is_valid=True\n",
      "------------------\n",
      "\u001b[1m\u001b[91mERROR\u001b[0m\n"
     ]
    }
   ],
   "source": [
    "adata.obs.drop(columns=['tissue_type'], inplace=True)\n",
    "save_and_test(adata, 'False')"
   ]
  },
  {
   "cell_type": "code",
   "execution_count": null,
   "id": "9fdd0243",
   "metadata": {},
   "outputs": [],
   "source": []
  }
 ],
 "metadata": {
  "kernelspec": {
   "display_name": "Python 3 (ipykernel)",
   "language": "python",
   "name": "python3"
  },
  "language_info": {
   "codemirror_mode": {
    "name": "ipython",
    "version": 3
   },
   "file_extension": ".py",
   "mimetype": "text/x-python",
   "name": "python",
   "nbconvert_exporter": "python",
   "pygments_lexer": "ipython3",
   "version": "3.9.17"
  }
 },
 "nbformat": 4,
 "nbformat_minor": 5
}
