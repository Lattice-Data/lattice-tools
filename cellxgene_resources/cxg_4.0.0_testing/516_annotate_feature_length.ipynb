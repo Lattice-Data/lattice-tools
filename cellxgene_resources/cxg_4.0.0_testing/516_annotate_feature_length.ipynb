{
 "cells": [
  {
   "cell_type": "code",
   "execution_count": 1,
   "id": "2b8b98ac",
   "metadata": {},
   "outputs": [],
   "source": [
    "# https://github.com/chanzuckerberg/single-cell-curation/issues/516\n",
    "# https://github.com/chanzuckerberg/single-cell-curation/blob/main/schema/4.0.0/schema.md#feature_length\n",
    "\n",
    "import numpy as np\n",
    "import os\n",
    "import scanpy as sc\n",
    "import subprocess"
   ]
  },
  {
   "cell_type": "code",
   "execution_count": 2,
   "id": "75849952",
   "metadata": {},
   "outputs": [],
   "source": [
    "def validate(file):\n",
    "    validate_process = subprocess.run(['cellxgene-schema', 'validate', file], stdout=subprocess.PIPE, stderr=subprocess.PIPE)\n",
    "    for line in validate_process.stdout.decode('utf-8').split('\\n'):\n",
    "        print(line)\n",
    "    for line in validate_process.stderr.decode('utf-8').split('\\n'):\n",
    "        print(line)\n",
    "        if 'is_valid=' in line:\n",
    "            valid = line.split('=')[-1]\n",
    "            return valid"
   ]
  },
  {
   "cell_type": "code",
   "execution_count": 66,
   "id": "19365f72",
   "metadata": {},
   "outputs": [],
   "source": [
    "def save_and_test(adata, expected):\n",
    "    if ('feature_length' in adata.obs.columns) and ('feature_biotype' in adata.obs.columns):\n",
    "        print(adata.obs[['feature_biotype','feature_length']].info())\n",
    "        print('-------------------')\n",
    "        print(adata.obs[['feature_length','feature_biotype']].value_counts())\n",
    "        \n",
    "    elif 'feature_biotype' in adata.obs.columns: \n",
    "        print('feature_length is absent')\n",
    "    \n",
    "    else: \n",
    "        print('feature_biotype is absent')\n",
    "\n",
    "    print('------------------')\n",
    "\n",
    "    adata.write(filename='test.h5ad')\n",
    "    valid = validate('test.h5ad')\n",
    "    print('------------------')\n",
    "    if expected != valid:\n",
    "        print('\\033[1m\\033[91mERROR\\033[0m')\n",
    "    else:\n",
    "        print('\\033[1m\\033[92mPASSED\\033[0m')\n",
    "    os.remove('test.h5ad')"
   ]
  },
  {
   "cell_type": "code",
   "execution_count": 4,
   "id": "92a073af",
   "metadata": {},
   "outputs": [],
   "source": [
    "adata = sc.read_h5ad('../valid.h5ad') #backed='r' would be slightly quicker but produces an error with multiple writes"
   ]
  },
  {
   "cell_type": "markdown",
   "id": "f4a199fe",
   "metadata": {},
   "source": [
    "**Test valid cases**"
   ]
  },
  {
   "cell_type": "code",
   "execution_count": 35,
   "id": "20d01266",
   "metadata": {},
   "outputs": [
    {
     "name": "stdout",
     "output_type": "stream",
     "text": [
      "<class 'pandas.core.frame.DataFrame'>\n",
      "Index: 2000 entries, SM-D9D8O_S03_E1-50 to SM-D9E5W_S12_E1-50\n",
      "Data columns (total 2 columns):\n",
      " #   Column           Non-Null Count  Dtype \n",
      "---  ------           --------------  ----- \n",
      " 0   feature_biotype  2000 non-null   object\n",
      " 1   feature_length   2000 non-null   int64 \n",
      "dtypes: int64(1), object(1)\n",
      "memory usage: 111.4+ KB\n",
      "None\n",
      "-------------------\n",
      "feature_length  feature_biotype\n",
      "1000            gene               2000\n",
      "dtype: int64\n",
      "------------------\n",
      "Loading dependencies\n",
      "Loading validator modules\n",
      "\n",
      "Starting validation...\n",
      "Validation complete in 0:00:00.649407 with status is_valid=True\n",
      "------------------\n",
      "\u001b[1m\u001b[92mPASSED\u001b[0m\n"
     ]
    }
   ],
   "source": [
    "adata.obs['feature_biotype'] = 'gene'\n",
    "adata.obs['feature_length'] = 1000\n",
    "save_and_test(adata, 'True')"
   ]
  },
  {
   "cell_type": "code",
   "execution_count": 82,
   "id": "c7421f3c",
   "metadata": {},
   "outputs": [
    {
     "name": "stdout",
     "output_type": "stream",
     "text": [
      "<class 'pandas.core.frame.DataFrame'>\n",
      "Index: 2000 entries, SM-D9D8O_S03_E1-50 to SM-D9E5W_S12_E1-50\n",
      "Data columns (total 2 columns):\n",
      " #   Column           Non-Null Count  Dtype \n",
      "---  ------           --------------  ----- \n",
      " 0   feature_biotype  2000 non-null   object\n",
      " 1   feature_length   2000 non-null   int64 \n",
      "dtypes: int64(1), object(1)\n",
      "memory usage: 111.4+ KB\n",
      "None\n",
      "-------------------\n",
      "feature_length  feature_biotype\n",
      "0               spike-in           2000\n",
      "dtype: int64\n",
      "------------------\n",
      "Loading dependencies\n",
      "Loading validator modules\n",
      "\n",
      "Starting validation...\n",
      "Validation complete in 0:00:00.651693 with status is_valid=True\n",
      "------------------\n",
      "\u001b[1m\u001b[92mPASSED\u001b[0m\n"
     ]
    }
   ],
   "source": [
    "adata.obs['feature_biotype'] = 'spike-in'\n",
    "adata.obs['feature_length'] = 0\n",
    "save_and_test(adata, 'True')"
   ]
  },
  {
   "cell_type": "markdown",
   "id": "36b19db2",
   "metadata": {},
   "source": [
    "**Test invalid cases**"
   ]
  },
  {
   "cell_type": "code",
   "execution_count": 77,
   "id": "4a297e63",
   "metadata": {},
   "outputs": [
    {
     "name": "stdout",
     "output_type": "stream",
     "text": [
      "feature_length is absent\n",
      "------------------\n",
      "Loading dependencies\n",
      "Loading validator modules\n",
      "\n",
      "Starting validation...\n",
      "Validation complete in 0:00:00.686513 with status is_valid=True\n",
      "------------------\n",
      "\u001b[1m\u001b[91mERROR\u001b[0m\n"
     ]
    }
   ],
   "source": [
    "# feature_biotype = gene\n",
    "# feature_length = absent column\n",
    "\n",
    "adata.obs['feature_biotype'] = 'gene'\n",
    "adata.obs.drop(columns=['feature_length'], inplace=True)\n",
    "save_and_test(adata, 'False')"
   ]
  },
  {
   "cell_type": "code",
   "execution_count": 79,
   "id": "42d1a23b",
   "metadata": {},
   "outputs": [
    {
     "name": "stdout",
     "output_type": "stream",
     "text": [
      "feature_length is absent\n",
      "------------------\n",
      "Loading dependencies\n",
      "Loading validator modules\n",
      "\n",
      "Starting validation...\n",
      "Validation complete in 0:00:00.664002 with status is_valid=True\n",
      "------------------\n",
      "\u001b[1m\u001b[91mERROR\u001b[0m\n"
     ]
    }
   ],
   "source": [
    "# feature_biotype = spike-in\n",
    "# feature_length = absent column\n",
    "\n",
    "adata.obs['feature_biotype'] = 'spike-in'\n",
    "adata.obs.drop(columns=['feature_length'], inplace=True)\n",
    "save_and_test(adata, 'False')"
   ]
  },
  {
   "cell_type": "code",
   "execution_count": 81,
   "id": "559f4b62",
   "metadata": {},
   "outputs": [
    {
     "name": "stdout",
     "output_type": "stream",
     "text": [
      "feature_biotype is absent\n",
      "------------------\n",
      "Loading dependencies\n",
      "Loading validator modules\n",
      "\n",
      "Starting validation...\n",
      "Validation complete in 0:00:00.687375 with status is_valid=True\n",
      "------------------\n",
      "\u001b[1m\u001b[91mERROR\u001b[0m\n"
     ]
    }
   ],
   "source": [
    "# feature_biotype = absent column\n",
    "# feature_length = gene value\n",
    "\n",
    "adata.obs.drop(columns='feature_biotype', inplace=True)\n",
    "adata.obs['feature_length'] = 1000\n",
    "save_and_test(adata, 'False')"
   ]
  },
  {
   "cell_type": "code",
   "execution_count": 83,
   "id": "504fb54c",
   "metadata": {},
   "outputs": [
    {
     "name": "stdout",
     "output_type": "stream",
     "text": [
      "feature_biotype is absent\n",
      "------------------\n",
      "Loading dependencies\n",
      "Loading validator modules\n",
      "\n",
      "Starting validation...\n",
      "Validation complete in 0:00:00.650419 with status is_valid=True\n",
      "------------------\n",
      "\u001b[1m\u001b[91mERROR\u001b[0m\n"
     ]
    }
   ],
   "source": [
    "# feature_biotype = absent column\n",
    "# feature_length = spike-in value\n",
    "\n",
    "adata.obs.drop(columns='feature_biotype', inplace=True)\n",
    "adata.obs['feature_length'] = 0\n",
    "save_and_test(adata, 'False')"
   ]
  },
  {
   "cell_type": "code",
   "execution_count": 84,
   "id": "43330dad",
   "metadata": {},
   "outputs": [
    {
     "name": "stdout",
     "output_type": "stream",
     "text": [
      "<class 'pandas.core.frame.DataFrame'>\n",
      "Index: 2000 entries, SM-D9D8O_S03_E1-50 to SM-D9E5W_S12_E1-50\n",
      "Data columns (total 2 columns):\n",
      " #   Column           Non-Null Count  Dtype  \n",
      "---  ------           --------------  -----  \n",
      " 0   feature_biotype  2000 non-null   object \n",
      " 1   feature_length   0 non-null      float64\n",
      "dtypes: float64(1), object(1)\n",
      "memory usage: 111.4+ KB\n",
      "None\n",
      "-------------------\n",
      "Series([], dtype: int64)\n",
      "------------------\n",
      "Loading dependencies\n",
      "Loading validator modules\n",
      "\n",
      "Starting validation...\n",
      "Validation complete in 0:00:00.689997 with status is_valid=True\n",
      "------------------\n",
      "\u001b[1m\u001b[91mERROR\u001b[0m\n"
     ]
    }
   ],
   "source": [
    "# feature_biotype = gene\n",
    "# feature_length = null values\n",
    "\n",
    "adata.obs['feature_biotype'] = 'gene'\n",
    "adata.obs['feature_length'] = np.NaN\n",
    "save_and_test(adata, 'False')"
   ]
  },
  {
   "cell_type": "code",
   "execution_count": 85,
   "id": "3730bdd2",
   "metadata": {},
   "outputs": [
    {
     "name": "stdout",
     "output_type": "stream",
     "text": [
      "<class 'pandas.core.frame.DataFrame'>\n",
      "Index: 2000 entries, SM-D9D8O_S03_E1-50 to SM-D9E5W_S12_E1-50\n",
      "Data columns (total 2 columns):\n",
      " #   Column           Non-Null Count  Dtype  \n",
      "---  ------           --------------  -----  \n",
      " 0   feature_biotype  2000 non-null   object \n",
      " 1   feature_length   0 non-null      float64\n",
      "dtypes: float64(1), object(1)\n",
      "memory usage: 111.4+ KB\n",
      "None\n",
      "-------------------\n",
      "Series([], dtype: int64)\n",
      "------------------\n",
      "Loading dependencies\n",
      "Loading validator modules\n",
      "\n",
      "Starting validation...\n",
      "Validation complete in 0:00:00.650022 with status is_valid=True\n",
      "------------------\n",
      "\u001b[1m\u001b[91mERROR\u001b[0m\n"
     ]
    }
   ],
   "source": [
    "# feature_biotype = spike-in\n",
    "# feature_length = null values\n",
    "\n",
    "adata.obs['feature_biotype'] = 'spike-in'\n",
    "adata.obs['feature_length'] = np.NaN\n",
    "save_and_test(adata, 'False')"
   ]
  },
  {
   "cell_type": "code",
   "execution_count": 43,
   "id": "fabd19a9",
   "metadata": {},
   "outputs": [
    {
     "name": "stdout",
     "output_type": "stream",
     "text": [
      "<class 'pandas.core.frame.DataFrame'>\n",
      "Index: 2000 entries, SM-D9D8O_S03_E1-50 to SM-D9E5W_S12_E1-50\n",
      "Data columns (total 2 columns):\n",
      " #   Column           Non-Null Count  Dtype \n",
      "---  ------           --------------  ----- \n",
      " 0   feature_biotype  2000 non-null   object\n",
      " 1   feature_length   2000 non-null   int64 \n",
      "dtypes: int64(1), object(1)\n",
      "memory usage: 111.4+ KB\n",
      "None\n",
      "-------------------\n",
      "feature_length  feature_biotype\n",
      "0               gene               2000\n",
      "dtype: int64\n",
      "------------------\n",
      "Loading dependencies\n",
      "Loading validator modules\n",
      "\n",
      "Starting validation...\n",
      "Validation complete in 0:00:00.642831 with status is_valid=True\n",
      "------------------\n",
      "\u001b[1m\u001b[91mERROR\u001b[0m\n"
     ]
    }
   ],
   "source": [
    "# feature_biotype = gene\n",
    "# feature_length = 0 (zero int value)\n",
    "\n",
    "adata.obs['feature_biotype'] = 'gene'\n",
    "adata.obs['feature_length'] = 0\n",
    "save_and_test(adata, 'False')"
   ]
  },
  {
   "cell_type": "code",
   "execution_count": 94,
   "id": "e7897e77",
   "metadata": {},
   "outputs": [
    {
     "name": "stdout",
     "output_type": "stream",
     "text": [
      "<class 'pandas.core.frame.DataFrame'>\n",
      "Index: 2000 entries, SM-D9D8O_S03_E1-50 to SM-D9E5W_S12_E1-50\n",
      "Data columns (total 2 columns):\n",
      " #   Column           Non-Null Count  Dtype \n",
      "---  ------           --------------  ----- \n",
      " 0   feature_biotype  2000 non-null   object\n",
      " 1   feature_length   2000 non-null   int64 \n",
      "dtypes: int64(1), object(1)\n",
      "memory usage: 111.4+ KB\n",
      "None\n",
      "-------------------\n",
      "feature_length  feature_biotype\n",
      "1000            spike-in           2000\n",
      "dtype: int64\n",
      "------------------\n",
      "Loading dependencies\n",
      "Loading validator modules\n",
      "\n",
      "Starting validation...\n",
      "Validation complete in 0:00:00.671492 with status is_valid=True\n",
      "------------------\n",
      "\u001b[1m\u001b[91mERROR\u001b[0m\n"
     ]
    }
   ],
   "source": [
    "# feature_biotype = spike-in\n",
    "# feature_length = 1000 (non-zero int value)\n",
    "\n",
    "adata.obs['feature_biotype'] = 'spike-in'\n",
    "adata.obs['feature_length'] = 1000\n",
    "save_and_test(adata, 'False')"
   ]
  },
  {
   "cell_type": "code",
   "execution_count": 86,
   "id": "8f3cd13c",
   "metadata": {},
   "outputs": [
    {
     "name": "stdout",
     "output_type": "stream",
     "text": [
      "<class 'pandas.core.frame.DataFrame'>\n",
      "Index: 2000 entries, SM-D9D8O_S03_E1-50 to SM-D9E5W_S12_E1-50\n",
      "Data columns (total 2 columns):\n",
      " #   Column           Non-Null Count  Dtype \n",
      "---  ------           --------------  ----- \n",
      " 0   feature_biotype  2000 non-null   object\n",
      " 1   feature_length   2000 non-null   int64 \n",
      "dtypes: int64(1), object(1)\n",
      "memory usage: 111.4+ KB\n",
      "None\n",
      "-------------------\n",
      "feature_length  feature_biotype\n",
      "1               gene               2000\n",
      "dtype: int64\n",
      "------------------\n",
      "Loading dependencies\n",
      "Loading validator modules\n",
      "\n",
      "Starting validation...\n",
      "Validation complete in 0:00:00.645326 with status is_valid=True\n",
      "------------------\n",
      "\u001b[1m\u001b[91mERROR\u001b[0m\n"
     ]
    }
   ],
   "source": [
    "# feature_biotype = gene\n",
    "# feature_length = too small of a length?\n",
    "# not sure if needed?\n",
    "\n",
    "adata.obs['feature_biotype'] = 'gene'\n",
    "adata.obs['feature_length'] = 1\n",
    "save_and_test(adata, 'False')"
   ]
  },
  {
   "cell_type": "code",
   "execution_count": 87,
   "id": "3e681ba0",
   "metadata": {},
   "outputs": [
    {
     "name": "stdout",
     "output_type": "stream",
     "text": [
      "<class 'pandas.core.frame.DataFrame'>\n",
      "Index: 2000 entries, SM-D9D8O_S03_E1-50 to SM-D9E5W_S12_E1-50\n",
      "Data columns (total 2 columns):\n",
      " #   Column           Non-Null Count  Dtype \n",
      "---  ------           --------------  ----- \n",
      " 0   feature_biotype  2000 non-null   object\n",
      " 1   feature_length   2000 non-null   int64 \n",
      "dtypes: int64(1), object(1)\n",
      "memory usage: 111.4+ KB\n",
      "None\n",
      "-------------------\n",
      "feature_length  feature_biotype\n",
      "-1              gene               2000\n",
      "dtype: int64\n",
      "------------------\n",
      "Loading dependencies\n",
      "Loading validator modules\n",
      "\n",
      "Starting validation...\n",
      "Validation complete in 0:00:00.642309 with status is_valid=True\n",
      "------------------\n",
      "\u001b[1m\u001b[91mERROR\u001b[0m\n"
     ]
    }
   ],
   "source": [
    "# feature_biotype = gene\n",
    "# feature_length = negative value\n",
    "\n",
    "adata.obs['feature_biotype'] = 'gene'\n",
    "adata.obs['feature_length'] = -1\n",
    "save_and_test(adata, 'False')"
   ]
  },
  {
   "cell_type": "code",
   "execution_count": 88,
   "id": "2935f579",
   "metadata": {},
   "outputs": [
    {
     "name": "stdout",
     "output_type": "stream",
     "text": [
      "<class 'pandas.core.frame.DataFrame'>\n",
      "Index: 2000 entries, SM-D9D8O_S03_E1-50 to SM-D9E5W_S12_E1-50\n",
      "Data columns (total 2 columns):\n",
      " #   Column           Non-Null Count  Dtype \n",
      "---  ------           --------------  ----- \n",
      " 0   feature_biotype  2000 non-null   object\n",
      " 1   feature_length   2000 non-null   int64 \n",
      "dtypes: int64(1), object(1)\n",
      "memory usage: 111.4+ KB\n",
      "None\n",
      "-------------------\n",
      "feature_length  feature_biotype\n",
      "-1              spike-in           2000\n",
      "dtype: int64\n",
      "------------------\n",
      "Loading dependencies\n",
      "Loading validator modules\n",
      "\n",
      "Starting validation...\n",
      "Validation complete in 0:00:00.667825 with status is_valid=True\n",
      "------------------\n",
      "\u001b[1m\u001b[91mERROR\u001b[0m\n"
     ]
    }
   ],
   "source": [
    "# feature_biotype = spike-in\n",
    "# feature_length = negative value\n",
    "\n",
    "adata.obs['feature_biotype'] = 'spike-in'\n",
    "adata.obs['feature_length'] = -1\n",
    "save_and_test(adata, 'False')"
   ]
  },
  {
   "cell_type": "code",
   "execution_count": 41,
   "id": "10c71a67",
   "metadata": {},
   "outputs": [
    {
     "name": "stdout",
     "output_type": "stream",
     "text": [
      "<class 'pandas.core.frame.DataFrame'>\n",
      "Index: 2000 entries, SM-D9D8O_S03_E1-50 to SM-D9E5W_S12_E1-50\n",
      "Data columns (total 2 columns):\n",
      " #   Column           Non-Null Count  Dtype  \n",
      "---  ------           --------------  -----  \n",
      " 0   feature_biotype  2000 non-null   object \n",
      " 1   feature_length   2000 non-null   float64\n",
      "dtypes: float64(1), object(1)\n",
      "memory usage: 111.4+ KB\n",
      "None\n",
      "-------------------\n",
      "feature_length  feature_biotype\n",
      "1.4             gene               2000\n",
      "dtype: int64\n",
      "------------------\n",
      "Loading dependencies\n",
      "Loading validator modules\n",
      "\n",
      "Starting validation...\n",
      "Validation complete in 0:00:00.644813 with status is_valid=True\n",
      "------------------\n",
      "\u001b[1m\u001b[91mERROR\u001b[0m\n"
     ]
    }
   ],
   "source": [
    "# feature_biotype = gene\n",
    "# feature_length = float\n",
    "\n",
    "adata.obs['feature_biotype'] = 'gene'\n",
    "adata.obs['feature_length'] = 1.4\n",
    "save_and_test(adata, 'False')"
   ]
  },
  {
   "cell_type": "code",
   "execution_count": 93,
   "id": "24aa7771",
   "metadata": {},
   "outputs": [
    {
     "name": "stdout",
     "output_type": "stream",
     "text": [
      "<class 'pandas.core.frame.DataFrame'>\n",
      "Index: 2000 entries, SM-D9D8O_S03_E1-50 to SM-D9E5W_S12_E1-50\n",
      "Data columns (total 2 columns):\n",
      " #   Column           Non-Null Count  Dtype  \n",
      "---  ------           --------------  -----  \n",
      " 0   feature_biotype  2000 non-null   object \n",
      " 1   feature_length   2000 non-null   float64\n",
      "dtypes: float64(1), object(1)\n",
      "memory usage: 111.4+ KB\n",
      "None\n",
      "-------------------\n",
      "feature_length  feature_biotype\n",
      "1.4             spike-in           2000\n",
      "dtype: int64\n",
      "------------------\n",
      "Loading dependencies\n",
      "Loading validator modules\n",
      "\n",
      "Starting validation...\n",
      "Validation complete in 0:00:00.653256 with status is_valid=True\n",
      "------------------\n",
      "\u001b[1m\u001b[91mERROR\u001b[0m\n"
     ]
    }
   ],
   "source": [
    "# feature_biotype = spike-in\n",
    "# feature_length = float\n",
    "\n",
    "adata.obs['feature_biotype'] = 'spike-in'\n",
    "adata.obs['feature_length'] = 1.4\n",
    "save_and_test(adata, 'False')"
   ]
  },
  {
   "cell_type": "code",
   "execution_count": 92,
   "id": "be5e910a",
   "metadata": {},
   "outputs": [
    {
     "name": "stdout",
     "output_type": "stream",
     "text": [
      "<class 'pandas.core.frame.DataFrame'>\n",
      "Index: 2000 entries, SM-D9D8O_S03_E1-50 to SM-D9E5W_S12_E1-50\n",
      "Data columns (total 2 columns):\n",
      " #   Column           Non-Null Count  Dtype  \n",
      "---  ------           --------------  -----  \n",
      " 0   feature_biotype  2000 non-null   object \n",
      " 1   feature_length   2000 non-null   float64\n",
      "dtypes: float64(1), object(1)\n",
      "memory usage: 111.4+ KB\n",
      "None\n",
      "-------------------\n",
      "feature_length  feature_biotype\n",
      "-1.4            gene               2000\n",
      "dtype: int64\n",
      "------------------\n",
      "Loading dependencies\n",
      "Loading validator modules\n",
      "\n",
      "Starting validation...\n",
      "Validation complete in 0:00:00.654662 with status is_valid=True\n",
      "------------------\n",
      "\u001b[1m\u001b[91mERROR\u001b[0m\n"
     ]
    }
   ],
   "source": [
    "# feature_biotype = gene\n",
    "# feature_length = negative float\n",
    "# maybe unnecessary\n",
    "\n",
    "adata.obs['feature_biotype'] = 'gene'\n",
    "adata.obs['feature_length'] = -1.4\n",
    "save_and_test(adata, 'False')"
   ]
  },
  {
   "cell_type": "code",
   "execution_count": 91,
   "id": "7b593ee0",
   "metadata": {},
   "outputs": [
    {
     "name": "stdout",
     "output_type": "stream",
     "text": [
      "<class 'pandas.core.frame.DataFrame'>\n",
      "Index: 2000 entries, SM-D9D8O_S03_E1-50 to SM-D9E5W_S12_E1-50\n",
      "Data columns (total 2 columns):\n",
      " #   Column           Non-Null Count  Dtype  \n",
      "---  ------           --------------  -----  \n",
      " 0   feature_biotype  2000 non-null   object \n",
      " 1   feature_length   2000 non-null   float64\n",
      "dtypes: float64(1), object(1)\n",
      "memory usage: 111.4+ KB\n",
      "None\n",
      "-------------------\n",
      "feature_length  feature_biotype\n",
      "-1.4            gene               2000\n",
      "dtype: int64\n",
      "------------------\n",
      "Loading dependencies\n",
      "Loading validator modules\n",
      "\n",
      "Starting validation...\n",
      "Validation complete in 0:00:00.653314 with status is_valid=True\n",
      "------------------\n",
      "\u001b[1m\u001b[91mERROR\u001b[0m\n"
     ]
    }
   ],
   "source": [
    "# feature_biotype = spike-in\n",
    "# feature_length = negative float\n",
    "# maybe unnecessary\n",
    "\n",
    "adata.obs['feature_biotype'] = 'gene'\n",
    "adata.obs['feature_length'] = -1.4\n",
    "save_and_test(adata, 'False')"
   ]
  },
  {
   "cell_type": "code",
   "execution_count": 90,
   "id": "ea15c990",
   "metadata": {},
   "outputs": [
    {
     "name": "stdout",
     "output_type": "stream",
     "text": [
      "<class 'pandas.core.frame.DataFrame'>\n",
      "Index: 2000 entries, SM-D9D8O_S03_E1-50 to SM-D9E5W_S12_E1-50\n",
      "Data columns (total 2 columns):\n",
      " #   Column           Non-Null Count  Dtype \n",
      "---  ------           --------------  ----- \n",
      " 0   feature_biotype  2000 non-null   object\n",
      " 1   feature_length   2000 non-null   object\n",
      "dtypes: object(2)\n",
      "memory usage: 111.4+ KB\n",
      "None\n",
      "-------------------\n",
      "feature_length  feature_biotype\n",
      "1000            gene               2000\n",
      "dtype: int64\n",
      "------------------\n",
      "Loading dependencies\n",
      "Loading validator modules\n",
      "\n",
      "Starting validation...\n",
      "Validation complete in 0:00:00.652828 with status is_valid=True\n",
      "------------------\n",
      "\u001b[1m\u001b[91mERROR\u001b[0m\n"
     ]
    }
   ],
   "source": [
    "# feature_biotype = gene\n",
    "# feature_length = str\n",
    "\n",
    "adata.obs['feature_biotype'] = 'gene'\n",
    "adata.obs['feature_length'] = '1000'\n",
    "save_and_test(adata, 'False')"
   ]
  },
  {
   "cell_type": "code",
   "execution_count": 89,
   "id": "5c4c760b",
   "metadata": {},
   "outputs": [
    {
     "name": "stdout",
     "output_type": "stream",
     "text": [
      "<class 'pandas.core.frame.DataFrame'>\n",
      "Index: 2000 entries, SM-D9D8O_S03_E1-50 to SM-D9E5W_S12_E1-50\n",
      "Data columns (total 2 columns):\n",
      " #   Column           Non-Null Count  Dtype \n",
      "---  ------           --------------  ----- \n",
      " 0   feature_biotype  2000 non-null   object\n",
      " 1   feature_length   2000 non-null   object\n",
      "dtypes: object(2)\n",
      "memory usage: 111.4+ KB\n",
      "None\n",
      "-------------------\n",
      "feature_length  feature_biotype\n",
      "0               spike-in           2000\n",
      "dtype: int64\n",
      "------------------\n",
      "Loading dependencies\n",
      "Loading validator modules\n",
      "\n",
      "Starting validation...\n",
      "Validation complete in 0:00:00.651013 with status is_valid=True\n",
      "------------------\n",
      "\u001b[1m\u001b[91mERROR\u001b[0m\n"
     ]
    }
   ],
   "source": [
    "# feature_biotype = spike-in\n",
    "# feature_length = str\n",
    "\n",
    "adata.obs['feature_biotype'] = 'spike-in'\n",
    "adata.obs['feature_length'] = '0'\n",
    "save_and_test(adata, 'False')"
   ]
  }
 ],
 "metadata": {
  "kernelspec": {
   "display_name": "Python 3 (ipykernel)",
   "language": "python",
   "name": "python3"
  },
  "language_info": {
   "codemirror_mode": {
    "name": "ipython",
    "version": 3
   },
   "file_extension": ".py",
   "mimetype": "text/x-python",
   "name": "python",
   "nbconvert_exporter": "python",
   "pygments_lexer": "ipython3",
   "version": "3.9.18"
  }
 },
 "nbformat": 4,
 "nbformat_minor": 5
}
