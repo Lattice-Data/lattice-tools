{
 "cells": [
  {
   "cell_type": "markdown",
   "metadata": {},
   "source": [
    "**This notebook provides a sample curation workflow of a Visium dataset towards CELLxGENE standards starting with Space Ranger outputs**\n",
    "* [Read Space Ranger outputs into AnnData and curate uns](#read_vis_uns)\n",
    "* [Add fullres image from file](#full_res)\n",
    "* [Curate var](#var)\n",
    "* [Fill in barcodes not included from the Space Ranger outputs](#fill_bar)\n",
    "* [Revise any in_tissue:1 spots that have all 0s to in_tissue:0](#rev_intiss)\n",
    "* [Curate obs](#obs)\n",
    "* [Add cell label metadata](#cell_labels)\n",
    "* [Add normalized layer](#norm_data)\n",
    "* [Add non-spatial embeddings](#umap)\n",
    "* [QA by plotting](#qa_plot)\n",
    "* [Write to .h5ad](#write)"
   ]
  },
  {
   "cell_type": "markdown",
   "metadata": {},
   "source": [
    "The example is from [He et al 2022](https://doi.org/10.1016/j.cell.2022.11.005)\\\n",
    "The Space Ranger ouputs `6332STDY10289523.tar.gz` & fullres image `V10S24-031_D1.jpg` can be downloaded from [E-MTAB-11265](https://www.ebi.ac.uk/biostudies/arrayexpress/studies/E-MTAB-11265)\\\n",
    "`6332STDY10289523.220627.h5ad` can be downloaded from the pcw19 Dataset at the [Fetal Lung portal](https://fetal-lung.cellgeni.sanger.ac.uk/visium.html) for cell2location proportions, normalized data, non-spatial embeddings "
   ]
  },
  {
   "cell_type": "code",
   "execution_count": null,
   "metadata": {},
   "outputs": [],
   "source": [
    "import anndata as ad\n",
    "import json\n",
    "import numpy as np\n",
    "import os\n",
    "import pandas as pd\n",
    "import scanpy as sc\n",
    "import squidpy as sq\n",
    "from PIL import Image\n",
    "from scipy import sparse"
   ]
  },
  {
   "cell_type": "markdown",
   "metadata": {},
   "source": [
    "**Read Space Ranger outputs into AnnData** <a id=\"read_vis_uns\"></a> \\\n",
    "Specify the Space Ranger output folder that contains at least these files...\n",
    "- raw_feature_bc_matrix.h5\n",
    "- spatial/\n",
    "  - scalefactors_json.json\n",
    "  - tissue_hires_image.png\n",
    "  - tissue_lowres_image.png (will be removed but is required for read.visium)\n",
    "  - tissue_positions_list.csv / tissue_positions.csv"
   ]
  },
  {
   "cell_type": "code",
   "execution_count": null,
   "metadata": {},
   "outputs": [],
   "source": [
    "sr_outs = '6332STDY10289523/outs'"
   ]
  },
  {
   "cell_type": "markdown",
   "metadata": {},
   "source": [
    "Create the tissue_positions_list.csv from tissue_positions.csv, if needed\\\n",
    "Space Ranger v2.0 onwards includes tissue_positions.csv, which includes headers, but squidpy consumes tissue_positions_list.csv "
   ]
  },
  {
   "cell_type": "markdown",
   "metadata": {},
   "source": [
    "REQUIRED to include background spots, so must specify `raw_feature_bc_matrix.h5`"
   ]
  },
  {
   "cell_type": "code",
   "execution_count": null,
   "metadata": {},
   "outputs": [],
   "source": [
    "count_file = f'{sr_outs}/raw_feature_bc_matrix.h5'\n",
    "if os.path.exists(count_file):\n",
    "    adata = sc.read_10x_h5(count_file)\n",
    "\n",
    "    with File(count_file, mode='r') as f:\n",
    "        attrs = dict(f.attrs)\n",
    "    library_id = str(attrs['library_ids'][0], 'utf-8')\n",
    "\n",
    "    #optional\n",
    "    adata.uns['spatial_metadata'] = {\n",
    "        'chemistry_description': attrs['chemistry_description'],\n",
    "        'software_version': attrs['software_version']\n",
    "    }\n",
    "\n",
    "else: #if only mtx is available\n",
    "    count_file = f'{sr_outs}/raw_feature_bc_matrix'\n",
    "    adata = sc.read_10x_mtx(count_file)\n",
    "    library_id = 'my library id'\n",
    "\n",
    "hires_path = f'{sr_outs}/spatial/tissue_hires_image.png'\n",
    "hires_np = np.asarray(Image.open(hires_path))\n",
    "\n",
    "scfs = json.load(open(f'{sr_outs}/spatial/scalefactors_json.json'))\n",
    "\n",
    "adata.uns['title'] = library_id,\n",
    "adata.uns['spatial'] = {\n",
    "    'is_single': True,\n",
    "    library_id: {\n",
    "        'images': {\n",
    "            'hires': hires_np\n",
    "        },\n",
    "        'scalefactors': {\n",
    "            'spot_diameter_fullres': scfs['spot_diameter_fullres'],\n",
    "            'tissue_hires_scalef': scfs['tissue_hires_scalef']\n",
    "        }\n",
    "    }\n",
    "}\n",
    "\n",
    "if os.path.exists(sr_outs + '/spatial/tissue_positions_list.csv'):\n",
    "    tpl = pd.read_csv(f'{sr_outs}/spatial/tissue_positions_list.csv', index_col=0, names=['in_tissue','array_row','array_col','pxl_row_in_fullres','pxl_col_in_fullres'])\n",
    "else:\n",
    "    tpl = pd.read_csv(f'{sr_outs}/spatial/tissue_positions.csv', index_col=0)\n",
    "adata.obs = adata.obs.merge(tpl, left_index=True, right_index=True, how='left').set_index(adata.obs.index)\n",
    "\n",
    "adata.obsm['spatial'] = adata.obs[['pxl_col_in_fullres', 'pxl_row_in_fullres']].to_numpy()\n",
    "adata.obs.drop(columns=['pxl_col_in_fullres', 'pxl_row_in_fullres'], inplace=True)"
   ]
  },
  {
   "cell_type": "markdown",
   "metadata": {},
   "source": [
    "**PREFERRED to include fullres image** <a id=\"full_res\"></a> \\\n",
    "This is the image input to Space Ranger, not an output\\\n",
    "Specify image file"
   ]
  },
  {
   "cell_type": "code",
   "execution_count": null,
   "metadata": {},
   "outputs": [],
   "source": [
    "fullres_path = 'V10S24-031_D1.jpg'"
   ]
  },
  {
   "cell_type": "markdown",
   "metadata": {},
   "source": [
    "Read the image in as a numpy array and slot it in `uns`"
   ]
  },
  {
   "cell_type": "code",
   "execution_count": null,
   "metadata": {},
   "outputs": [],
   "source": [
    "if fullres_path.split('.')[-1] in ['tif','tiff','jpg']:\n",
    "    #some of the fullres images require expanding the limit\n",
    "    Image.MAX_IMAGE_PIXELS = 699408640\n",
    "    fullres_np = np.asarray(Image.open(fullres_path))\n",
    "\n",
    "#.ome.tif examples - https://www.heartcellatlas.org/\n",
    "elif fullres_path.endswith('.ome.tif'):\n",
    "    from pyometiff import OMETIFFReader\n",
    "\n",
    "    reader = OMETIFFReader(fpath=fullres_path)\n",
    "    fullres_np, metadata, xml_metadata = reader.read()\n",
    "\n",
    "    #may need to transpose the image if its an invalid shape\n",
    "    fullres_np = np.transpose(fullres_np, (1,2,0))\n",
    "\n",
    "    sr_adata.uns['spatial'][library_id]['images']['fullres'] = fullres_np\n",
    "\n",
    "    #OPTIONAL to store image metadata in the dataset\n",
    "    sr_adata.uns['fullres_xml_metadata'] = xml_metadata\n",
    "\n",
    "#may need to rotate the image to align with embeddings\n",
    "#k is the number of times to rotate the image 90 degrees counter-clockwise\n",
    "#fullres_np  = np.rot90(fullres_np, k=3)\n",
    "\n",
    "adata.uns['spatial'][library_id]['images']['fullres'] = fullres_np"
   ]
  },
  {
   "cell_type": "markdown",
   "metadata": {},
   "source": [
    "**Curate `var` to meet CELLxGENE standards** <a id=\"var\"></a> \\\n",
    "Ensembl gene IDs are required to be in the var index"
   ]
  },
  {
   "cell_type": "code",
   "execution_count": null,
   "metadata": {},
   "outputs": [],
   "source": [
    "adata.var.set_index('gene_ids', inplace=True)"
   ]
  },
  {
   "cell_type": "markdown",
   "metadata": {},
   "source": [
    "**Fill any missing barcodes into the matrix with all `0` counts** <a id=\"fill_bar\"></a>\\\n",
    "Space Ranger will not output spots that have zero reads mapped"
   ]
  },
  {
   "cell_type": "code",
   "execution_count": null,
   "metadata": {},
   "outputs": [],
   "source": [
    "if adata.obs.shape[0] < 4992:\n",
    "    all_barcodes = pd.read_csv(sr_outs + '/spatial/tissue_positions_list.csv', header=None)\n",
    "    missing_barcodes = all_barcodes[all_barcodes[0].isin(list(adata.obs.index)) == False]\n",
    "    missing_barcodes.set_index(0, inplace=True)\n",
    "    missing_barcodes.rename(columns={1: 'in_tissue', 2:'array_row', 3:'array_col'}, inplace=True)\n",
    "    empty_matrix = sparse.csr_matrix((missing_barcodes.shape[0], adata.var.shape[0]), dtype=np.float32)\n",
    "    missing_adata = ad.AnnData(empty_matrix, var=adata.var, obs=missing_barcodes[['in_tissue','array_row','array_col']])\n",
    "    comb_adata = ad.concat([adata, missing_adata], uns_merge='first', merge='first')\n",
    "    comb_adata.obsm['spatial'] = np.concatenate((adata.obsm['spatial'],missing_barcodes[[5,4]].values))\n",
    "    adata = comb_adata"
   ]
  },
  {
   "cell_type": "markdown",
   "metadata": {},
   "source": [
    "**Revise misannotated in_tissue observations** <a id=\"rev_intiss\"></a> \\\n",
    "Occassionally, in_tissue:1 observations have all `0` counts, indicating that they are not truly in tissue"
   ]
  },
  {
   "cell_type": "code",
   "execution_count": null,
   "metadata": {},
   "outputs": [],
   "source": [
    "sum_df = adata.obs.copy()\n",
    "sum_df['total_counts'] = [np.sum(r) for r in adata.X.toarray()]\n",
    "to_revise = sum_df[(sum_df['total_counts'] == 0) & (sum_df['in_tissue'] != 0)]\n",
    "if not to_revise.empty:\n",
    "    adata.obs.loc[to_revise.index, 'in_tissue'] = 0\n",
    "    print(to_revise.shape[0],'obs revised to in_tissue:0')"
   ]
  },
  {
   "cell_type": "markdown",
   "metadata": {},
   "source": [
    "**Curate `obs` metadata to meet CELLxGENE Standards** <a id=\"obs\"></a>"
   ]
  },
  {
   "cell_type": "code",
   "execution_count": null,
   "metadata": {},
   "outputs": [],
   "source": [
    "#REQUIRED - will be the same for all Visium V1 Datasets\n",
    "adata.obs['suspension_type'] = 'na'\n",
    "adata.obs['assay_ontology_term_id'] = 'EFO:0010961'\n",
    "\n",
    "#REQUIRED - most likely the same value for all obs, update based on the given donor/sample\n",
    "adata.obs['donor_id'] = 'HDBR15773'\n",
    "adata.obs['organism_ontology_term_id'] = 'NCBITaxon:9606' #NCBITaxon:9606 for human, NCBITaxon:10090 for mouse\n",
    "adata.obs['sex_ontology_term_id'] = 'PATO:0000384' #PATO:0000383 for female, PATO:0000384 for male\n",
    "adata.obs['development_stage_ontology_term_id'] = 'HsapDv:0000056' #HsapDv or MmusDv term\n",
    "adata.obs['self_reported_ethnicity_ontology_term_id'] = 'HANCESTRO:0022' #HANCESTRO term, 'na' for mouse\n",
    "adata.obs['disease_ontology_term_id'] = 'PATO:0000461' #PATO:0000461 for normal, MONDO term for disease\n",
    "adata.obs['tissue_type'] = 'tissue' #tissue, organoid\n",
    "adata.obs['tissue_ontology_term_id'] = 'UBERON:0002048' #UBERON term"
   ]
  },
  {
   "cell_type": "markdown",
   "metadata": {},
   "source": [
    "**Currate cell type metadata** <a id=\"cell_labels\"></a>"
   ]
  },
  {
   "cell_type": "markdown",
   "metadata": {},
   "source": [
    "Define a mapping of population names to CL terms"
   ]
  },
  {
   "cell_type": "code",
   "execution_count": null,
   "metadata": {},
   "outputs": [],
   "source": [
    "cl_map = {\n",
    "    'Adventitial fibro': 'CL:4028006', #alveolar adventitial fibroblast\n",
    "    'Alveolar fibro': 'CL:4028006', #alveolar adventitial fibroblast\n",
    "    'AT1': 'CL:0002062', #pulmonary alveolar type 1 cell\n",
    "    'AT2': 'CL:0002063', #pulmonary alveolar type 2 cell\n",
    "    'ASPN+ chondrocyte': 'CL:0000138', #chondrocyte\n",
    "    'Interm chondrocyte': 'CL:0000138', #chondrocyte\n",
    "    'Myofibro 2': 'CL:0000186', #myofibroblast cell\n",
    "    'Ciliated': 'CL:0000064', #ciliated cell\n",
    "    'MUC16+ ciliated': 'CL:0000064', #ciliated cell\n",
    "    'Late airway SMC': 'CL:0000192', #smooth muscle cell\n",
    "    'Vascular SMC 2': 'CL:0000359', #vascular associated smooth muscle cell\n",
    "    'Late airway progenitor': 'CL:0011026', #progenitor cell\n",
    "    'Mid fibro': 'CL:0000057', #fibroblast\n",
    "    'Mid Schwann': 'CL:0002573', #Schwann cell\n",
    "    'Proximal secretory 2': 'CL:0000151', #secretory cell\n",
    "    'Late tip': 'CL:0000423', #tip cell\n",
    "    'Club': 'CL:0000158', #club cell\n",
    "    'KCNIP4+ neuron': 'CL:0000540', #neuron\n",
    "    'SST+ neuron': 'CL:0000540', #neuron\n",
    "    'SCG3+ lymphatic endothelial': 'CL:0002138', #endothelial cell of lymphatic vessel\n",
    "    'Deuterosomal': 'CL:4033044', #deuterosomal cell\n",
    "    'Proximal basal': 'CL:0000646', #basal cell\n",
    "    'Late basal': 'CL:0000646' #basal cell\n",
    "}"
   ]
  },
  {
   "cell_type": "markdown",
   "metadata": {},
   "source": [
    "This example contains cell metadata, including cell2location outputs stored in the obs of an AnnData object\\\n",
    "Specify the .h5ad file & load"
   ]
  },
  {
   "cell_type": "code",
   "execution_count": null,
   "metadata": {},
   "outputs": [],
   "source": [
    "import scanpy as sc\n",
    "\n",
    "\n",
    "final_mx = '6332STDY10289523.220627.h5ad'\n",
    "final_adata = sc.read_h5ad(final_mx)\n",
    "final_adata.var.set_index('gene_ids', inplace=True)"
   ]
  },
  {
   "cell_type": "markdown",
   "metadata": {},
   "source": [
    "One possible way to curate cell_type from such outputs is to identify the cell label with the highest abundance score,\\\n",
    "and then map that to a CL term, per CELLxGENE standards"
   ]
  },
  {
   "cell_type": "code",
   "execution_count": null,
   "metadata": {},
   "outputs": [],
   "source": [
    "#update the obs index values to match the Space Ranger outputs (<barcode>-1), if needed\n",
    "final_adata.obs.index = [i[0] for i in final_adata.obs.index.str.split('_')]\n",
    "\n",
    "#OPTIONAL merge over all of final_adata.obs to adata\n",
    "new_cols = [c for c in final_adata.obs.columns if c in adata.obs.columns]\n",
    "final_adata.obs.drop(columns=new_cols, inplace=True)\n",
    "adata.obs = adata.obs.merge(final_adata.obs, left_index=True, right_index=True, how='left').set_index(adata.obs.index)\n",
    "\n",
    "#define a prefix to identify all of the columns with abundance metrics\n",
    "prefix = 'q05cell_abundance_w_sf_'\n",
    "\n",
    "#name the column that will store the max cell label\n",
    "max_field = 'annotation'\n",
    "\n",
    "#extract the max cell label\n",
    "adata.obs[max_field] = adata.obs[[c for c in final_adata.obs.columns if c.startswith(prefix)]].idxmax(axis='columns')\n",
    "adata.obs[max_field] = adata.obs[max_field].str.replace(prefix, '')\n",
    "\n",
    "#map the cell labels to CL terms\n",
    "adata.obs['cell_type_ontology_term_id'] = adata.obs[max_field].map(cl_map).fillna('unknown')"
   ]
  },
  {
   "cell_type": "markdown",
   "metadata": {},
   "source": [
    "**OPTIONAL to add normalized data layer** <a id=\"norm_data\"></a> \\\n",
    "Fills in all `0`s for barcodes filtered out of the normalized data (usually in_tissue:0 observations),\\\n",
    "so this may not be appropriate depending on the normalization/scaling of final layer"
   ]
  },
  {
   "cell_type": "code",
   "execution_count": null,
   "metadata": {},
   "outputs": [],
   "source": [
    "#add filtered-out barcodes to the normalized AnnData\n",
    "barcodes_add = [e for e in adata.obs.index if e not in final_adata.obs.index]\n",
    "new_obs=pd.DataFrame(index=barcodes_add)\n",
    "empty_matrix = sparse.csr_matrix((len(barcodes_add), final_adata.var.shape[0]))\n",
    "missing_adata = ad.AnnData(empty_matrix, var=final_adata.var, obs=new_obs)\n",
    "final_adata = ad.concat([final_adata, missing_adata], join='outer')\n",
    "\n",
    "#add filtered-out features to the normalized AnnData\n",
    "genes_add = [e for e in adata.var.index if e not in final_adata.var.index]\n",
    "all_genes = final_adata.var.index.to_list() + genes_add\n",
    "new_var = pd.DataFrame(index=all_genes)\n",
    "new_matrix = sparse.csr_matrix((final_adata.X.data, final_adata.X.indices, final_adata.X.indptr), shape = adata.shape)\n",
    "final_adata = ad.AnnData(X=new_matrix, obs=final_adata.obs, var=new_var, obsm=final_adata.obsm)\n",
    "\n",
    "#sort the normalized AnnData to match the order of the raw AnnData\n",
    "final_adata = final_adata[adata.obs.index.to_list(), :]\n",
    "final_adata = final_adata[:, adata.var.index.to_list()]\n",
    "\n",
    "#set the raw counts to the .raw slot and normalized to .X\n",
    "adata.raw = adata\n",
    "adata.X = final_adata.X\n",
    "\n",
    "#features that are measured in the raw layer, but were filtered-out \n",
    "adata.var['feature_is_filtered'] = np.where(adata.var.index.isin(genes_add), True, False)"
   ]
  },
  {
   "cell_type": "markdown",
   "metadata": {},
   "source": [
    "**OPTIONAL to add non-spatial embeddings** <a id=\"umap\"></a> \\\n",
    "filtered-out barcodes will have null values in each embedding from the above processes"
   ]
  },
  {
   "cell_type": "code",
   "execution_count": null,
   "metadata": {},
   "outputs": [],
   "source": [
    "for k in final_adata.obsm:\n",
    "    if 'spatial' not in k:\n",
    "        adata.obsm[k] = final_adata.obsm[k]"
   ]
  },
  {
   "cell_type": "markdown",
   "metadata": {},
   "source": [
    "**QA by plotting with the hires image and fullres image, if present**  <a id=\"qa_plot\"></a>"
   ]
  },
  {
   "cell_type": "code",
   "execution_count": null,
   "metadata": {},
   "outputs": [],
   "source": [
    "sq.pl.spatial_scatter(\n",
    "    adata, library_id=library_id, figsize=(12,4),\n",
    "    color='in_tissue'\n",
    ")\n",
    "\n",
    "sq.pl.spatial_scatter(\n",
    "    adata, library_id=library_id, figsize=(12,4),\n",
    "    color=max_field ,legend_fontsize=10\n",
    ")\n",
    "del adata.uns[max_field + '_colors']\n",
    "\n",
    "if 'fullres' in adata.uns['spatial'][library_id]['images']:\n",
    "    sq.pl.spatial_scatter(\n",
    "        adata, library_id=library_id, figsize=(12,4),\n",
    "        color='in_tissue', img_res_key='fullres', scale_factor=1.0\n",
    "        )\n",
    "\n",
    "    sq.pl.spatial_scatter(\n",
    "        adata, library_id=library_id, figsize=(12,4),\n",
    "        color=max_field, img_res_key='fullres', scale_factor=1.0,\n",
    "        legend_fontsize=10\n",
    "        )\n",
    "    del adata.uns[max_field + '_colors']"
   ]
  },
  {
   "cell_type": "markdown",
   "metadata": {},
   "source": [
    "**Write to file**  <a id=\"write\"></a>"
   ]
  },
  {
   "cell_type": "code",
   "execution_count": null,
   "metadata": {},
   "outputs": [],
   "source": [
    "adata.write(filename=library_id + '_curated.h5ad', compression='gzip')"
   ]
  },
  {
   "cell_type": "code",
   "execution_count": null,
   "metadata": {},
   "outputs": [],
   "source": []
  }
 ],
 "metadata": {
  "kernelspec": {
   "display_name": "Python 3 (ipykernel)",
   "language": "python",
   "name": "python3"
  },
  "language_info": {
   "codemirror_mode": {
    "name": "ipython",
    "version": 3
   },
   "file_extension": ".py",
   "mimetype": "text/x-python",
   "name": "python",
   "nbconvert_exporter": "python",
   "pygments_lexer": "ipython3",
   "version": "3.11.9"
  }
 },
 "nbformat": 4,
 "nbformat_minor": 4
}
