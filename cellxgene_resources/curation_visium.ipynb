{
 "cells": [
  {
   "cell_type": "markdown",
   "metadata": {},
   "source": [
    "**This notebook provides a sample curation workflow of a Visium dataset towards CELLxGENE standards starting with Space Ranger outputs**\\\n",
    "*Outline of tasks included*\\\n",
    "...\\\n",
    "..."
   ]
  },
  {
   "cell_type": "markdown",
   "metadata": {},
   "source": [
    "The example is from [He et al 2022](https://doi.org/10.1016/j.cell.2022.11.005)\\\n",
    "The Space Ranger ouputs `6332STDY10289523.tar.gz` can be downloaded from [E-MTAB-11265](https://www.ebi.ac.uk/biostudies/arrayexpress/studies/E-MTAB-11265)\\\n",
    "The fullres image `V10S24-031_D1.jpg` can also be downloaded from [E-MTAB-11265](https://www.ebi.ac.uk/biostudies/arrayexpress/studies/E-MTAB-11265)\\\n",
    "`6332STDY10289523.220627.h5ad` with normalized data and cell2location proportions can be downloaded from the pcw19 Dataset at the [Fetal Lung portal](https://fetal-lung.cellgeni.sanger.ac.uk/visium.html)"
   ]
  },
  {
   "cell_type": "code",
   "execution_count": null,
   "metadata": {},
   "outputs": [],
   "source": [
    "import anndata as ad\n",
    "import numpy as np\n",
    "import os\n",
    "import pandas as pd\n",
    "import scanpy as sc\n",
    "import squidpy as sq\n",
    "from PIL import Image\n",
    "from pyometiff import OMETIFFReader\n",
    "from scipy import sparse"
   ]
  },
  {
   "cell_type": "markdown",
   "metadata": {},
   "source": [
    "Specify the Space Ranger output folder. It must include at least these files...\n",
    "- raw_feature_bc_matrix.h5\n",
    "- spatial/\n",
    "  - scalefactors_json.json\n",
    "  - tissue_hires_image.png\n",
    "  - tissue_lowres_image.png*\n",
    "  - tissue_positions_list.csv / tissue_positions.csv\n",
    "\n",
    "*the lowres image will be deleted but is required for `read_visium()`"
   ]
  },
  {
   "cell_type": "code",
   "execution_count": null,
   "metadata": {},
   "outputs": [],
   "source": [
    "sr_outs = '6332STDY10289523/outs'"
   ]
  },
  {
   "cell_type": "markdown",
   "metadata": {},
   "source": [
    "squidpy consumes tissue_positions_list.csv, but the file name and format are different for Space Ranger versions *????*"
   ]
  },
  {
   "cell_type": "code",
   "execution_count": null,
   "metadata": {},
   "outputs": [],
   "source": [
    "if not os.path.exists(sr_outs + '/spatial/tissue_positions_list.csv'):\n",
    "    df = pd.read_csv(sr_outs + '/spatial/tissue_positions.csv')\n",
    "    df.to_csv(sr_outs + '/spatial/tissue_positions_list.csv', header=False, index=False)"
   ]
  },
  {
   "cell_type": "markdown",
   "metadata": {},
   "source": [
    "**REQUIRED** to include background spots, so specify `raw_feature_bc_matrix.h5`"
   ]
  },
  {
   "cell_type": "code",
   "execution_count": null,
   "metadata": {},
   "outputs": [],
   "source": [
    "adata = sq.read.visium(sr_outs, counts_file='raw_feature_bc_matrix.h5')"
   ]
  },
  {
   "cell_type": "code",
   "execution_count": null,
   "metadata": {},
   "outputs": [],
   "source": [
    "adata.var.set_index('gene_ids', inplace=True)"
   ]
  },
  {
   "cell_type": "markdown",
   "metadata": {},
   "source": [
    "Space Ranger will not output spots that have zero reads mapped\\\n",
    "Fill those in with 0s, if needed"
   ]
  },
  {
   "cell_type": "code",
   "execution_count": null,
   "metadata": {},
   "outputs": [],
   "source": [
    "if adata.obs.shape[0] < 4992:\n",
    "    all_barcodes = pd.read_csv(sr_outs + '/spatial/tissue_positions_list.csv', header=None)\n",
    "    missing_barcodes = all_barcodes[all_barcodes[0].isin(list(adata.obs.index)) == False]\n",
    "    missing_barcodes.set_index(0, inplace=True)\n",
    "    missing_barcodes.rename(columns={1: 'in_tissue', 2:'array_row', 3:'array_col'}, inplace=True)\n",
    "    empty_matrix = sparse.csr_matrix((missing_barcodes.shape[0], adata.var.shape[0]), dtype=np.float32)\n",
    "    #make empty matrix float32?\n",
    "    missing_adata = ad.AnnData(empty_matrix, var=adata.var, obs=missing_barcodes[['in_tissue','array_row','array_col']])\n",
    "    comb_adata = ad.concat([adata, missing_adata], uns_merge='first', merge='first')\n",
    "    comb_adata.obsm['spatial'] = np.concatenate((adata.obsm['spatial'],missing_barcodes[[5,4]].values))\n",
    "    adata = comb_adata"
   ]
  },
  {
   "cell_type": "markdown",
   "metadata": {},
   "source": [
    "Occassionally, in_tissue:1 observations have all 0s, indicating that they are not truly in tissue\\\n",
    "These can be updated to in_tissue:0..."
   ]
  },
  {
   "cell_type": "code",
   "execution_count": null,
   "metadata": {},
   "outputs": [],
   "source": [
    "gene_sum_df = adata.obs.copy()\n",
    "gene_sum_df['total_counts'] = [np.sum(r) for r in adata.X.toarray()]\n",
    "in_tissue_zeroes = gene_sum_df[(gene_sum_df['total_counts'] == 0) & (gene_sum_df['in_tissue'] != 0)]\n",
    "if not in_tissue_zeroes.empty:\n",
    "    adata.obs.loc[in_tissue_zeroes.index, 'in_tissue'] = 0\n",
    "    print(in_tissue_zeroes.shape[0],'obs revised to in_tissue:0')"
   ]
  },
  {
   "cell_type": "code",
   "execution_count": null,
   "metadata": {},
   "outputs": [],
   "source": [
    "library_id = list(adata.uns['spatial'].keys())[0]"
   ]
  },
  {
   "cell_type": "code",
   "execution_count": null,
   "metadata": {},
   "outputs": [],
   "source": [
    "adata.uns['title'] = library_id"
   ]
  },
  {
   "cell_type": "code",
   "execution_count": null,
   "metadata": {},
   "outputs": [],
   "source": [
    "#REQUIRED to distinguish single section data from integrated data\n",
    "adata.uns['spatial']['is_single'] = True"
   ]
  },
  {
   "cell_type": "markdown",
   "metadata": {},
   "source": [
    "PREFERRED to include fullres image\\\n",
    "This is a Space Ranger input, not an output"
   ]
  },
  {
   "cell_type": "code",
   "execution_count": null,
   "metadata": {},
   "outputs": [],
   "source": [
    "fullres_path = 'V10S24-031_D1.jpg'\n",
    "\n",
    "#some of the fullres images require expanding the limit\n",
    "Image.MAX_IMAGE_PIXELS = 699408640\n",
    "\n",
    "if fullres_path.split('.')[-1] in ['tif','tiff','jpg']:\n",
    "    fullres_np = np.asarray(Image.open(fullres_path))\n",
    "    \n",
    "#.ome.tif examples - https://www.heartcellatlas.org/\n",
    "elif fullres_path.endswith('.ome.tif'):\n",
    "    reader = OMETIFFReader(fpath=fullres_path)\n",
    "    fullres_np, metadata, xml_metadata = reader.read()\n",
    "\n",
    "    #may need to transpose the image if its an invalid shape\n",
    "    fullres_np = np.transpose(fullres_np, (1,2,0))\n",
    "\n",
    "    sr_adata.uns['spatial'][library_id]['images']['fullres'] = fullres_np\n",
    "\n",
    "    #optional to store image metadata in the dataset\n",
    "    sr_adata.uns['fullres_xml_metadata'] = xml_metadata\n",
    "\n",
    "#may need to rotate the image to align with embeddings\n",
    "#k is the number of times to rotate the image 90 degrees counter-clockwise\n",
    "#fullres_np  = np.rot90(fullres_np, k=3)\n",
    "\n",
    "adata.uns['spatial'][library_id]['images']['fullres'] = fullres_np"
   ]
  },
  {
   "cell_type": "code",
   "execution_count": null,
   "metadata": {},
   "outputs": [],
   "source": [
    "#OPTIONAL to move metadata before deleting it\n",
    "adata.uns['spatial_metadata'] = adata.uns['spatial'][library_id]['metadata']\n",
    "\n",
    "#MUST NOT SUBMIT metadata or lowres or fiducial_diameter_fullres in uns.spatial\n",
    "del adata.uns['spatial'][library_id]['metadata']\n",
    "del adata.uns['spatial'][library_id]['images']['lowres']\n",
    "del adata.uns['spatial'][library_id]['scalefactors']['tissue_lowres_scalef']\n",
    "del adata.uns['spatial'][library_id]['scalefactors']['fiducial_diameter_fullres']"
   ]
  },
  {
   "cell_type": "code",
   "execution_count": null,
   "metadata": {},
   "outputs": [],
   "source": [
    "#REQUIRED obs metadata - will be the same for all Visium Datasets\n",
    "adata.obs['suspension_type'] = 'na'\n",
    "adata.obs['assay_ontology_term_id'] = 'EFO:0010961'"
   ]
  },
  {
   "cell_type": "code",
   "execution_count": null,
   "metadata": {},
   "outputs": [],
   "source": [
    "#REQUIRED obs metadata - most likely the same value for all obs\n",
    "#update based on the given donor/sample\n",
    "adata.obs['donor_id'] = 'donor_A'\n",
    "adata.obs['organism_ontology_term_id'] = 'NCBITaxon:9606' #NCBITaxon:9606 for human, NCBITaxon:10090 for mouse\n",
    "adata.obs['sex_ontology_term_id'] = 'PATO:0000383' #PATO:0000383 for female, PATO:0000384 for male\n",
    "adata.obs['development_stage_ontology_term_id'] = 'HsapDv:0000137' #HsapDv or MmusDv term\n",
    "adata.obs['self_reported_ethnicity_ontology_term_id'] = 'HANCESTRO:0022' #HANCESTRO term, 'na' for mouse\n",
    "adata.obs['disease_ontology_term_id'] = 'PATO:0000461' #PATO:0000461 for normal, MONDO term for disease\n",
    "adata.obs['tissue_type'] = 'tissue' #tissue, organoid\n",
    "adata.obs['tissue_ontology_term_id'] = 'UBERON:0001115' #UBERON term"
   ]
  },
  {
   "cell_type": "code",
   "execution_count": null,
   "metadata": {},
   "outputs": [],
   "source": [
    "#REQUIRED obs.cell_type_ontology_term_id\n",
    "#cell labels are not included in the SpaceRanger output and thus must be prepared separately\n",
    "#this example reads in a csv with barcodes in the first column and CL terms in the second column\n",
    "cell_types = pd.read_csv('cell_annotations.csv', names=['barcode','cell_type_ontology_term_id'])\n",
    "adata.obs = adata.obs.merge(cell_types, left_index=True, right_on='barcode', how='left').set_index(adata.obs.index)\n",
    "\n",
    "#background spots will likely not have labels, so annotate those as 'unknown'\n",
    "adata.obs.fillna({'cell_type_ontology_term_id': 'unknown'}, inplace=True)"
   ]
  },
  {
   "cell_type": "code",
   "execution_count": null,
   "metadata": {},
   "outputs": [],
   "source": [
    "#QA by plotting with the hires image\n",
    "sq.pl.spatial_scatter(\n",
    "    adata,\n",
    "    library_id=library_id,\n",
    "    color='in_tissue'\n",
    ")\n",
    "\n",
    "#same plot with fullres image, if present\n",
    "if 'fullres' in adata.uns['spatial'][library_id]['images']:\n",
    "    sq.pl.spatial_scatter(\n",
    "        adata,\n",
    "        library_id=library_id,\n",
    "        color='in_tissue',\n",
    "        img_res_key='fullres',\n",
    "        scale_factor=1.0\n",
    "        )"
   ]
  },
  {
   "cell_type": "code",
   "execution_count": null,
   "metadata": {},
   "outputs": [],
   "source": [
    "adata.write(filename=library_id + '_curated.h5ad', compression='gzip')"
   ]
  },
  {
   "cell_type": "code",
   "execution_count": null,
   "metadata": {},
   "outputs": [],
   "source": []
  }
 ],
 "metadata": {
  "kernelspec": {
   "display_name": "Python 3 (ipykernel)",
   "language": "python",
   "name": "python3"
  },
  "language_info": {
   "codemirror_mode": {
    "name": "ipython",
    "version": 3
   },
   "file_extension": ".py",
   "mimetype": "text/x-python",
   "name": "python",
   "nbconvert_exporter": "python",
   "pygments_lexer": "ipython3",
   "version": "3.11.8"
  }
 },
 "nbformat": 4,
 "nbformat_minor": 4
}
