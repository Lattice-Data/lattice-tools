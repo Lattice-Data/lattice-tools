{
 "cells": [
  {
   "cell_type": "markdown",
   "metadata": {},
   "source": [
    "**This notebook provides a sample curation workflow of a Visium dataset towards CELLxGENE standards starting with SpaceRanger outputs**\\\n",
    "The `WS_PLA_S9101764` data example can be downloaded from [E-MTAB-12698](https://www.ebi.ac.uk/biostudies/arrayexpress/studies/E-MTAB-12698)"
   ]
  },
  {
   "cell_type": "code",
   "execution_count": null,
   "metadata": {},
   "outputs": [],
   "source": [
    "import anndata as ad\n",
    "import numpy as np\n",
    "import pandas as pd\n",
    "import scanpy as sc\n",
    "from PIL import Image\n",
    "from scipy import sparse"
   ]
  },
  {
   "cell_type": "markdown",
   "metadata": {},
   "source": [
    "Specify the folder that includes these files...\n",
    "- raw_feature_bc_matrix.h5\n",
    "- spatial/\n",
    "  - scalefactors_json.json\n",
    "  - tissue_hires_image.png\n",
    "  - tissue_lowres_image.png*\n",
    "  - tissue_positions_list.csv\n",
    "\n",
    "*the lowres image will be deleted but is required for `read_visium()`"
   ]
  },
  {
   "cell_type": "code",
   "execution_count": null,
   "metadata": {},
   "outputs": [],
   "source": [
    "folder = 'WS_PLA_S9101764'\n",
    "\n",
    "#REQUIRED to include empty spots, so specify raw_feature_bc_matrix.h5\n",
    "adata = sc.read_visium(folder, count_file='raw_feature_bc_matrix.h5')\n",
    "adata.var.set_index('gene_ids', inplace=True)"
   ]
  },
  {
   "cell_type": "code",
   "execution_count": null,
   "metadata": {},
   "outputs": [],
   "source": [
    "#SpaceRanger will not output spots that have zero reads mapped, so fill those in with 0s, if needed\n",
    "if adata.obs.shape[0] < 4992:\n",
    "    all_barcodes = pd.read_csv(folder + '/spatial/tissue_positions_list.csv', header=None)\n",
    "    missing_barcodes = all_barcodes[all_barcodes[0].isin(list(adata.obs.index)) == False]\n",
    "    missing_barcodes.set_index(0, inplace=True)\n",
    "    missing_barcodes.rename(columns={1: 'in_tissue', 2:'array_row', 3:'array_col'}, inplace=True)\n",
    "    empty_matrix = sparse.csr_matrix((missing_barcodes.shape[0], adata.var.shape[0]))\n",
    "    missing_adata = ad.AnnData(empty_matrix, var=adata.var, obs=missing_barcodes[['in_tissue','array_row','array_col']])\n",
    "    comb_adata = ad.concat([adata, missing_adata], uns_merge='first', merge='first')\n",
    "    comb_adata.obsm['spatial'] = np.concatenate((adata.obsm['spatial'],missing_barcodes[[5,4]].values))\n",
    "    adata = comb_adata"
   ]
  },
  {
   "cell_type": "code",
   "execution_count": null,
   "metadata": {},
   "outputs": [],
   "source": [
    "library_id = list(adata.uns['spatial'].keys())[0]"
   ]
  },
  {
   "cell_type": "code",
   "execution_count": null,
   "metadata": {},
   "outputs": [],
   "source": [
    "#REQUIRED to distinguish single section data from integrated data\n",
    "adata.uns['spatial']['is_single'] = True"
   ]
  },
  {
   "cell_type": "code",
   "execution_count": null,
   "metadata": {},
   "outputs": [],
   "source": [
    "#PREFERRED to include fullres image\n",
    "fullres_path = 'WS_PLA_S9101764.tif'\n",
    "adata.uns['spatial'][library_id]['images']['fullres'] = np.asarray(Image.open(fullres_path))"
   ]
  },
  {
   "cell_type": "code",
   "execution_count": null,
   "metadata": {},
   "outputs": [],
   "source": [
    "adata.uns['title'] = library_id"
   ]
  },
  {
   "cell_type": "code",
   "execution_count": null,
   "metadata": {},
   "outputs": [],
   "source": [
    "#OPTIONAL to move metadata before deleting it\n",
    "adata.uns['spatial_metadata'] = adata.uns['spatial'][library_id]['metadata']\n",
    "\n",
    "#MUST NOT SUBMIT metadata or lowres or fiducial_diameter_fullres in uns.spatial\n",
    "del adata.uns['spatial'][library_id]['metadata']\n",
    "del adata.uns['spatial'][library_id]['images']['lowres']\n",
    "del adata.uns['spatial'][library_id]['scalefactors']['tissue_lowres_scalef']\n",
    "del adata.uns['spatial'][library_id]['scalefactors']['fiducial_diameter_fullres']"
   ]
  },
  {
   "cell_type": "code",
   "execution_count": null,
   "metadata": {},
   "outputs": [],
   "source": [
    "#REQUIRED obs metadata - will be the same for all Visium Datasets\n",
    "adata.obs['suspension_type'] = 'na'\n",
    "adata.obs['assay_ontology_term_id'] = 'EFO:0010961'"
   ]
  },
  {
   "cell_type": "code",
   "execution_count": null,
   "metadata": {},
   "outputs": [],
   "source": [
    "#REQUIRED obs metadata - most likely the same value for all obs\n",
    "#update based on the given donor/sample\n",
    "adata.obs['donor_id'] = 'donor_A'\n",
    "adata.obs['organism_ontology_term_id'] = 'NCBITaxon:9606' #NCBITaxon:9606 for human, NCBITaxon:10090 for mouse\n",
    "adata.obs['sex_ontology_term_id'] = 'PATO:0000383' #PATO:0000383 for female, PATO:0000384 for male\n",
    "adata.obs['development_stage_ontology_term_id'] = 'HsapDv:0000137' #HsapDv or MmusDv term\n",
    "adata.obs['self_reported_ethnicity_ontology_term_id'] = 'HANCESTRO:0022' #HANCESTRO term\n",
    "adata.obs['disease_ontology_term_id'] = 'PATO:0000461' #PATO:0000461 for normal, MONDO term for disease\n",
    "adata.obs['tissue_type'] = 'tissue' #tissue, organoid\n",
    "adata.obs['tissue_ontology_term_id'] = 'UBERON:0001115' #UBERON term"
   ]
  },
  {
   "cell_type": "code",
   "execution_count": null,
   "metadata": {},
   "outputs": [],
   "source": [
    "#REQUIRED obs.cell_type_ontology_term_id\n",
    "#cell labels are not included in the SpaceRanger output and thus must be prepared separately\n",
    "#this example reads in a csv with barcodes in the first column and CL terms in the second column\n",
    "cell_types = pd.read_csv('cell_annotations.csv', names=['barcode','cell_type_ontology_term_id'])\n",
    "adata.obs = adata.obs.merge(cell_types, left_index=True, right_on='barcode', how='left').set_index(adata.obs.index)\n",
    "\n",
    "adata.obs.fillna({'cell_type_ontology_term_id': 'unknown'}, inplace=True)"
   ]
  },
  {
   "cell_type": "code",
   "execution_count": null,
   "metadata": {},
   "outputs": [],
   "source": [
    "#QA by plotting with the hires image\n",
    "sc.pl.spatial(adata,\n",
    "              library_id=library_id,\n",
    "              color='cell_type_ontology_term_id')"
   ]
  },
  {
   "cell_type": "code",
   "execution_count": null,
   "metadata": {},
   "outputs": [],
   "source": [
    "#same plot with fullres image, if present\n",
    "if 'fullres' in adata.uns['spatial'][library_id]['images']:\n",
    "    sc.pl.spatial(adata,\n",
    "                  library_id=library_id,\n",
    "                  color='cell_type_ontology_term_id',\n",
    "                  img_key='fullres',\n",
    "                  scale_factor=1\n",
    "                 )"
   ]
  },
  {
   "cell_type": "code",
   "execution_count": null,
   "metadata": {},
   "outputs": [],
   "source": [
    "adata.write(filename=library_id + '_curated.h5ad', compression='gzip')"
   ]
  },
  {
   "cell_type": "code",
   "execution_count": null,
   "metadata": {},
   "outputs": [],
   "source": []
  }
 ],
 "metadata": {
  "kernelspec": {
   "display_name": "Python 3 (ipykernel)",
   "language": "python",
   "name": "python3"
  },
  "language_info": {
   "codemirror_mode": {
    "name": "ipython",
    "version": 3
   },
   "file_extension": ".py",
   "mimetype": "text/x-python",
   "name": "python",
   "nbconvert_exporter": "python",
   "pygments_lexer": "ipython3",
   "version": "3.9.18"
  }
 },
 "nbformat": 4,
 "nbformat_minor": 4
}
