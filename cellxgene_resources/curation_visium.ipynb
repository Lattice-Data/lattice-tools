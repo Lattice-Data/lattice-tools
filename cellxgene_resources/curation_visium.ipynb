{
 "cells": [
  {
   "cell_type": "code",
   "execution_count": null,
   "metadata": {},
   "outputs": [],
   "source": [
    "import anndata as ad\n",
    "import json\n",
    "import numpy as np\n",
    "import os\n",
    "import pandas as pd\n",
    "import re\n",
    "import requests\n",
    "import scanpy as sc\n",
    "import subprocess\n",
    "from PIL import Image\n",
    "from random import randint\n",
    "from scipy import sparse\n",
    "from urllib.parse import quote"
   ]
  },
  {
   "cell_type": "markdown",
   "metadata": {},
   "source": [
    "Specify the folder that includes these files...\n",
    "- raw_feature_bc_matrix.h5\n",
    "- spatial/\n",
    "  - scalefactors_json.json\n",
    "  - tissue_hires_image.png\n",
    "  - tissue_lowres_image.png*\n",
    "  - tissue_positions_list.csv\n",
    "\n",
    "*the lowres image will be deleted but is required for `read_visium()`"
   ]
  },
  {
   "cell_type": "code",
   "execution_count": null,
   "metadata": {},
   "outputs": [],
   "source": [
    "folder = 'WS_PLA_S9101764'\n",
    "\n",
    "#REQUIRED to include empty spots, so specify raw_feature_bc_matrix.h5\n",
    "adata = sc.read_visium(folder, count_file='raw_feature_bc_matrix.h5')"
   ]
  },
  {
   "cell_type": "code",
   "execution_count": null,
   "metadata": {},
   "outputs": [],
   "source": [
    "if adata.obs.shape[0] < 4992:\n",
    "    all_barcodes = pd.read_csv(folder + '/spatial/tissue_positions_list.csv', header=None)\n",
    "    missing_barcodes = all_barcodes[all_barcodes[0].isin(list(adata.obs.index)) == False]\n",
    "    missing_barcodes.set_index(0, inplace=True)\n",
    "    missing_barcodes.rename(columns={1: 'in_tissue', 2:'array_row', 3:'array_col'}, inplace=True)\n",
    "    empty_matrix = sparse.csr_matrix((missing_barcodes.shape[0], adata.var.shape[0]))\n",
    "    missing_adata = ad.AnnData(empty_matrix, var=adata.var, obs=missing_barcodes[['in_tissue','array_row','array_col']])\n",
    "    comb_adata = ad.concat([adata, missing_adata], uns_merge='first', merge='first')\n",
    "    comb_adata.obsm['spatial'] = np.concatenate((adata.obsm['spatial'],missing_barcodes[[5,4]].values))\n",
    "    adata = comb_adata"
   ]
  },
  {
   "cell_type": "code",
   "execution_count": null,
   "metadata": {},
   "outputs": [],
   "source": [
    "library_id = list(adata.uns['spatial'].keys())[0]"
   ]
  },
  {
   "cell_type": "code",
   "execution_count": null,
   "metadata": {},
   "outputs": [],
   "source": [
    "adata.uns['spatial']['is_single'] = True"
   ]
  },
  {
   "cell_type": "code",
   "execution_count": null,
   "metadata": {},
   "outputs": [],
   "source": [
    "#PREFERRED to include fullres image\n",
    "fullres_path = 'WS_PLA_S9101764.tif'\n",
    "adata.uns['spatial'][library_id]['images']['fullres'] = np.asarray(Image.open(fullres_path))"
   ]
  },
  {
   "cell_type": "code",
   "execution_count": null,
   "metadata": {},
   "outputs": [],
   "source": [
    "adata.uns['title'] = library_id"
   ]
  },
  {
   "cell_type": "code",
   "execution_count": null,
   "metadata": {},
   "outputs": [],
   "source": [
    "#OPTIONAL\n",
    "adata.uns['spatial_metadata'] = adata.uns['spatial'][library_id]['metadata']\n",
    "\n",
    "#MUST NOT SUBMIT metadata or lowres or fiducial_diameter_fullres\n",
    "del adata.uns['spatial'][library_id]['metadata']\n",
    "del adata.uns['spatial'][library_id]['images']['lowres']\n",
    "del adata.uns['spatial'][library_id]['scalefactors']['tissue_lowres_scalef']\n",
    "del adata.uns['spatial'][library_id]['scalefactors']['fiducial_diameter_fullres']"
   ]
  },
  {
   "cell_type": "code",
   "execution_count": null,
   "metadata": {},
   "outputs": [],
   "source": [
    "#consistent for all Visium Datasets\n",
    "adata.obs['suspension_type'] = 'na'\n",
    "adata.obs['assay_ontology_term_id'] = 'EFO:0010961'"
   ]
  },
  {
   "cell_type": "code",
   "execution_count": null,
   "metadata": {},
   "outputs": [],
   "source": [
    "#consistent metadata for all obs\n",
    "adata.obs['is_primary_data'] = True\n",
    "adata.obs['donor_id'] = 'donor_A'\n",
    "adata.obs['organism_ontology_term_id'] = 'NCBITaxon:9606'\n",
    "adata.obs['sex_ontology_term_id'] = 'PATO:0000383'\n",
    "adata.obs['development_stage_ontology_term_id'] = 'HsapDv:0000137'\n",
    "adata.obs['self_reported_ethnicity_ontology_term_id'] = 'HANCESTRO:0022'\n",
    "adata.obs['tissue_type'] = 'tissue'"
   ]
  },
  {
   "cell_type": "code",
   "execution_count": null,
   "metadata": {},
   "outputs": [],
   "source": [
    "#usually consistent metadata for all obs\n",
    "adata.obs['tissue_ontology_term_id'] = 'UBERON:0001115'\n",
    "adata.obs['disease_ontology_term_id'] = 'PATO:0000461'"
   ]
  },
  {
   "cell_type": "code",
   "execution_count": null,
   "metadata": {},
   "outputs": [],
   "source": [
    "#map in cell_types\n",
    "cell_types = pd.read_csv('cell_annotations.csv', names=['barcode','cell_type_ontology_term_id'])\n",
    "adata.obs = adata.obs.merge(cell_types, left_index=True, right_on='barcode', how='left').set_index(adata.obs.index)\n",
    "\n",
    "adata.obs.fillna({'cell_type_ontology_term_id': 'unknown'}, inplace=True)"
   ]
  },
  {
   "cell_type": "code",
   "execution_count": null,
   "metadata": {},
   "outputs": [],
   "source": [
    "adata.obs['cell_type_ontology_term_id'].value_counts()"
   ]
  },
  {
   "cell_type": "code",
   "execution_count": null,
   "metadata": {},
   "outputs": [],
   "source": [
    "approved = pd.read_csv('ref_files/genes_approved.csv',dtype='str')\n",
    "v44_gene_map = json.load(open('../gene_ID_mapping/gene_map_v44.json'))\n",
    "\n",
    "adata.var.reset_index(inplace=True)\n",
    "\n",
    "my_gene_map = {k:v for k,v in v44_gene_map.items() if k in adata.var['gene_ids'] and v not in adata.var['gene_ids']}\n",
    "adata.var.replace({'gene_ids': my_gene_map}, inplace=True)\n",
    "\n",
    "var_to_keep = adata.var[adata.var['gene_ids'].isin(approved['feature_id'])].index\n",
    "adata = adata[:, var_to_keep]\n",
    "adata.var.set_index('gene_ids', inplace=True)\n",
    "adata.var.drop(columns=['feature_types','index'], inplace=True)\n",
    "\n",
    "adata.var['feature_is_filtered'] = False"
   ]
  },
  {
   "cell_type": "code",
   "execution_count": null,
   "metadata": {},
   "outputs": [],
   "source": [
    "sc.pl.spatial(adata,\n",
    "              library_id=library_id,\n",
    "              color='in_tissue')"
   ]
  },
  {
   "cell_type": "code",
   "execution_count": null,
   "metadata": {},
   "outputs": [],
   "source": [
    "sc.pl.spatial(adata,\n",
    "              library_id=library_id,\n",
    "              color='in_tissue',\n",
    "              img_key='fullres',\n",
    "              scale_factor=1\n",
    "             )"
   ]
  },
  {
   "cell_type": "code",
   "execution_count": null,
   "metadata": {},
   "outputs": [],
   "source": [
    "new_one = library_id + '_revised.h5ad'\n",
    "adata.write(filename=new_one, compression='gzip')"
   ]
  },
  {
   "cell_type": "code",
   "execution_count": null,
   "metadata": {},
   "outputs": [],
   "source": [
    "validate_process = subprocess.run(['cellxgene-schema', 'validate', new_one], stdout=subprocess.PIPE, stderr=subprocess.PIPE)\n",
    "for line in validate_process.stdout.decode('utf-8').split('\\n'):\n",
    "    print(line)\n",
    "for line in validate_process.stderr.decode('utf-8').split('\\n'):\n",
    "    print(line)"
   ]
  },
  {
   "cell_type": "code",
   "execution_count": null,
   "metadata": {},
   "outputs": [],
   "source": []
  }
 ],
 "metadata": {
  "kernelspec": {
   "display_name": "Python 3 (ipykernel)",
   "language": "python",
   "name": "python3"
  },
  "language_info": {
   "codemirror_mode": {
    "name": "ipython",
    "version": 3
   },
   "file_extension": ".py",
   "mimetype": "text/x-python",
   "name": "python",
   "nbconvert_exporter": "python",
   "pygments_lexer": "ipython3",
   "version": "3.9.18"
  }
 },
 "nbformat": 4,
 "nbformat_minor": 4
}
