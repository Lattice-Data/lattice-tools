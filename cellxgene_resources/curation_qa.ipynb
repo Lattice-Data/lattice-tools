{
 "cells": [
  {
   "cell_type": "markdown",
   "metadata": {},
   "source": [
    "**This notebook provides quality assurance, much of which cannot be covered by cellxgene validate, of AnnData objects towards CELLxGENE curation**"
   ]
  },
  {
   "cell_type": "code",
   "execution_count": null,
   "metadata": {},
   "outputs": [],
   "source": [
    "import anndata as ad\n",
    "import json\n",
    "import pandas as pd\n",
    "import requests\n",
    "import scanpy as sc\n",
    "from IPython.display import display\n",
    "from scipy import sparse\n",
    "from urllib.parse import quote\n",
    "from cellxgene_mods import *\n",
    "from hca import validate_hca"
   ]
  },
  {
   "cell_type": "markdown",
   "metadata": {},
   "source": [
    "# Loading the AnnData object\n",
    "**Update the path of the file**<br>\n",
    "*The sample `valid.h5ad` that is in this repo is subsampled from https://cellxgene.cziscience.com/e/f15e263b-6544-46cb-a46e-e33ab7ce8347.cxg/ with some metadata alterations for the purpose of this notebook*"
   ]
  },
  {
   "cell_type": "code",
   "execution_count": null,
   "metadata": {},
   "outputs": [],
   "source": [
    "file = 'valid.h5ad'"
   ]
  },
  {
   "cell_type": "markdown",
   "metadata": {},
   "source": [
    "**Load the AnnData object**"
   ]
  },
  {
   "cell_type": "code",
   "execution_count": null,
   "metadata": {},
   "outputs": [],
   "source": [
    "adata = sc.read_h5ad(file)\n",
    "cxg_labels = True if 'schema_reference' in adata.uns else False\n",
    "adata"
   ]
  },
  {
   "cell_type": "markdown",
   "metadata": {},
   "source": [
    "# data"
   ]
  },
  {
   "cell_type": "markdown",
   "metadata": {},
   "source": [
    "**Check if any matrix should be stored as sparse format but isn't**"
   ]
  },
  {
   "cell_type": "code",
   "execution_count": null,
   "metadata": {},
   "outputs": [],
   "source": [
    "evaluate_sparsity(adata)"
   ]
  },
  {
   "cell_type": "markdown",
   "metadata": {},
   "source": [
    "**Look for duplicated layers, raw integer counts of reasonable scale (typically ~10<sup>3</sup> or more), etc.**"
   ]
  },
  {
   "cell_type": "code",
   "execution_count": null,
   "metadata": {},
   "outputs": [],
   "source": [
    "evaluate_data(adata)"
   ]
  },
  {
   "cell_type": "markdown",
   "metadata": {},
   "source": [
    "**Check if any observations have exactly the same raw count vector to identify possible duplication**"
   ]
  },
  {
   "cell_type": "code",
   "execution_count": null,
   "metadata": {},
   "outputs": [],
   "source": [
    "evaluate_dup_counts(adata)"
   ]
  },
  {
   "cell_type": "markdown",
   "metadata": {},
   "source": [
    "# obsm\n",
    "**Confirm at least one set of embeddings is present**"
   ]
  },
  {
   "cell_type": "code",
   "execution_count": null,
   "metadata": {},
   "outputs": [],
   "source": [
    "adata.obsm"
   ]
  },
  {
   "cell_type": "markdown",
   "metadata": {},
   "source": [
    "**View embeddings to identify which matches paper figures**"
   ]
  },
  {
   "cell_type": "code",
   "execution_count": null,
   "metadata": {},
   "outputs": [],
   "source": [
    "cellpop_field = 'cell_type' if cxg_labels else 'cell_type_ontology_term_id'\n",
    "\n",
    "if f'{cellpop_field}_colors' in adata.uns:\n",
    "    remove_colors = False\n",
    "else:\n",
    "    remove_colors = True\n",
    "\n",
    "sc.set_figure_params(dpi=100)\n",
    "for e in adata.obsm:\n",
    "    if e.startswith('X_'):\n",
    "        sc.pl.embedding(adata, basis=e, color=cellpop_field, legend_loc='on data')\n",
    "    elif e == 'spatial':\n",
    "        if np.isnan(adata.obsm['spatial']).any():\n",
    "            report(\"obsm['spatial'] contains nans\", 'ERROR')\n",
    "        sc.pl.embedding(adata, basis=e, color=cellpop_field, legend_loc='on data')\n",
    "    else:\n",
    "        report(f'{e} will not be plotted')\n",
    "if remove_colors:\n",
    "    del adata.uns[f'{cellpop_field}_colors']"
   ]
  },
  {
   "cell_type": "markdown",
   "metadata": {},
   "source": [
    "**Check that the default_embedding value, if defined, is in obsm**"
   ]
  },
  {
   "cell_type": "code",
   "execution_count": null,
   "metadata": {},
   "outputs": [],
   "source": [
    "if 'default_embedding' in adata.uns:\n",
    "    de = adata.uns['default_embedding']\n",
    "    if de not in adata.obsm_keys():\n",
    "        report(f'{de} not in [{\",\".join(adata.obsm_keys())}]', 'ERROR')\n",
    "    else:\n",
    "        report(f'{de} is in [{\",\".join(adata.obsm_keys())}]', 'GOOD')"
   ]
  },
  {
   "cell_type": "markdown",
   "metadata": {},
   "source": [
    "# uns\n",
    "**Check for required uns fields**"
   ]
  },
  {
   "cell_type": "code",
   "execution_count": null,
   "metadata": {},
   "outputs": [],
   "source": [
    "for f in curator_uns_fields:\n",
    "    if f not in adata.uns:\n",
    "        report(f'{f} is required', 'ERROR')"
   ]
  },
  {
   "cell_type": "markdown",
   "metadata": {},
   "source": [
    "**Confirm portal fields are not in uns**"
   ]
  },
  {
   "cell_type": "code",
   "execution_count": null,
   "metadata": {},
   "outputs": [],
   "source": [
    "if not cxg_labels:\n",
    "    for f in portal_uns_fields:\n",
    "        if f in adata.uns:\n",
    "            report(f'{f} should not be present in uns', 'ERROR')"
   ]
  },
  {
   "cell_type": "markdown",
   "metadata": {},
   "source": [
    "**Check any _colors fields defined in uns**"
   ]
  },
  {
   "cell_type": "code",
   "execution_count": null,
   "metadata": {},
   "outputs": [],
   "source": [
    "evaluate_uns_colors(adata)"
   ]
  },
  {
   "cell_type": "markdown",
   "metadata": {},
   "source": [
    "**Browse all of uns**"
   ]
  },
  {
   "cell_type": "code",
   "execution_count": null,
   "metadata": {},
   "outputs": [],
   "source": [
    "adata.uns"
   ]
  },
  {
   "cell_type": "markdown",
   "metadata": {},
   "source": [
    "# obs"
   ]
  },
  {
   "cell_type": "code",
   "execution_count": null,
   "metadata": {},
   "outputs": [],
   "source": [
    "adata.obs.info()"
   ]
  },
  {
   "cell_type": "code",
   "execution_count": null,
   "metadata": {},
   "outputs": [],
   "source": [
    "adata.obs"
   ]
  },
  {
   "cell_type": "markdown",
   "metadata": {},
   "source": [
    "**Ensure obs schema fields are present & precise, and no conflict with portal fields**"
   ]
  },
  {
   "cell_type": "code",
   "execution_count": null,
   "metadata": {},
   "outputs": [],
   "source": [
    "evaluate_obs_schema(adata.obs, labels=cxg_labels)"
   ]
  },
  {
   "cell_type": "markdown",
   "metadata": {},
   "source": [
    "# 10x barcode checker\n",
    "**Checks the barcodes in obs index against 10x barcode lists**<br>\n",
    "*5' v1 and v2 kits use the same barcode list as 3' v2*<br>\n",
    "*`evaluate_10x_barcodes()` only needs to be run once*<br>\n",
    "*To generate a report based on a different variable, use any obs field as the second argument in `parse_barcode_df()`*<br>\n",
    "*To generate a report based on a subset of cells, create a subset dataframe from `barcode_df` and use that as the first argument in `parse_barcode_df()`*"
   ]
  },
  {
   "cell_type": "code",
   "execution_count": null,
   "metadata": {},
   "outputs": [],
   "source": [
    "assay_field = 'assay' if cxg_labels else 'assay_ontology_term_id'\n",
    "\n",
    "barcode_df = evaluate_10x_barcodes(adata.obs)\n",
    "parse_barcode_df(barcode_df, assay_field)"
   ]
  },
  {
   "cell_type": "markdown",
   "metadata": {},
   "source": [
    "**Look for general obs field issues, redundant information,** \\\n",
    "**fields that aren't appropriate as gradient (e.g. cluster number),** \\\n",
    "**any categorical fields with more than 200 categories as they may not be useful in the visualization**"
   ]
  },
  {
   "cell_type": "code",
   "execution_count": null,
   "metadata": {},
   "outputs": [],
   "source": [
    "evaluate_obs(adata.obs, full_obs_standards)"
   ]
  },
  {
   "cell_type": "markdown",
   "metadata": {},
   "source": [
    "**Investigate any fields that may be redundant**"
   ]
  },
  {
   "cell_type": "code",
   "execution_count": null,
   "metadata": {},
   "outputs": [],
   "source": [
    "#adata.obs[['development_stage_ontology_term_id','author_age']].value_counts(dropna=False)"
   ]
  },
  {
   "cell_type": "markdown",
   "metadata": {},
   "source": [
    "**See if any donors have variable donor-level metadata** \\\n",
    "*disease may need to be removed from donor_fields if a donor contributed healthy and disease tissue within in study* \\\n",
    "*development_stage may need to be removed from donor_fields for longitudinal studies*"
   ]
  },
  {
   "cell_type": "code",
   "execution_count": null,
   "metadata": {},
   "outputs": [],
   "source": [
    "donor_fields = ['donor_id',\n",
    "                'sex_ontology_term_id',\n",
    "                'development_stage_ontology_term_id',\n",
    "                'self_reported_ethnicity_ontology_term_id',\n",
    "                'disease_ontology_term_id']\n",
    "if cxg_labels:\n",
    "    donor_fields = [f.replace('_ontology_term_id','') for f in donor_fields]\n",
    "\n",
    "donor_df = pd.DataFrame(adata.obs[donor_fields].value_counts()).reset_index()\n",
    "inconsistencies = donor_df[donor_df.duplicated(subset='donor_id', keep=False) == True].sort_values('donor_id')\n",
    "if not inconsistencies.empty:\n",
    "    report('donor metadata inconsistencies', 'ERROR')\n",
    "    display(inconsistencies)"
   ]
  },
  {
   "cell_type": "markdown",
   "metadata": {},
   "source": [
    "**Browse the per donor metadata**"
   ]
  },
  {
   "cell_type": "code",
   "execution_count": null,
   "metadata": {},
   "outputs": [],
   "source": [
    "donor_df"
   ]
  },
  {
   "cell_type": "markdown",
   "metadata": {},
   "source": [
    "**Check human donors' reported sex**<br>\n",
    "The metric (x) used to determine sex is the ratio of male to female raw expression counts summed across all genes found in sex_analysis_genes.json. \n",
    "- Donor is considered **male:** *if x > 0.35*\n",
    "- Donor is considered **female:** *if x < 0.05*\n",
    "- Donor is considered **unknown:** *if 0.05 < x < 0.35*"
   ]
  },
  {
   "cell_type": "code",
   "execution_count": null,
   "metadata": {},
   "outputs": [],
   "source": [
    "donor_sex_df,dp = evaluate_donors_sex(adata)\n",
    "\n",
    "if donor_sex_df is not None:\n",
    "    inconsistencies = donor_sex_df[donor_sex_df['scRNAseq_sex'] != donor_sex_df['author_annotated_sex']].sort_values('donor_id')\n",
    "    if not inconsistencies.empty:\n",
    "        report('donor sex metadata inconsistencies', 'ERROR')\n",
    "        display(inconsistencies)\n",
    "    else:\n",
    "        report('donor sex metadata is consistent', 'GOOD')\n",
    "\n",
    "if dp:\n",
    "    dp.show()"
   ]
  },
  {
   "cell_type": "markdown",
   "metadata": {},
   "source": [
    "# var\n",
    "**Check for Ensembl IDs, redundant fields, etc.**<br>\n",
    "**Check for schema fields**"
   ]
  },
  {
   "cell_type": "code",
   "execution_count": null,
   "metadata": {},
   "outputs": [],
   "source": [
    "adata.var"
   ]
  },
  {
   "cell_type": "code",
   "execution_count": null,
   "metadata": {},
   "outputs": [],
   "source": [
    "if len(adata.var) < 15000:\n",
    "    report('Less than 15k genes present','ERROR')\n",
    "elif len(adata.var) < 20000:\n",
    "    report('Less than 20k genes present','WARNING')"
   ]
  },
  {
   "cell_type": "markdown",
   "metadata": {},
   "source": [
    "**Similar checks for raw.var, if present**"
   ]
  },
  {
   "cell_type": "code",
   "execution_count": null,
   "metadata": {},
   "outputs": [],
   "source": [
    "if adata.raw:\n",
    "    display(adata.raw.var)"
   ]
  },
  {
   "cell_type": "markdown",
   "metadata": {},
   "source": [
    "# Validate\n",
    "**Determine the embedding by which to plot**\\\n",
    "May need to overwrite if the first obsm is not informative"
   ]
  },
  {
   "cell_type": "code",
   "execution_count": null,
   "metadata": {},
   "outputs": [],
   "source": [
    "default_embedding = adata.uns.get('default_embedding', pick_embed(adata.obsm_keys()))\n",
    "default_embedding"
   ]
  },
  {
   "cell_type": "markdown",
   "metadata": {},
   "source": [
    "**Plot by multiple genes using the normalized counts**<br>\n",
    "*It is best to get a list of genes relevant to the specific data from the contributor/publication*"
   ]
  },
  {
   "cell_type": "code",
   "execution_count": null,
   "metadata": {},
   "outputs": [],
   "source": [
    "symbols = [\n",
    "    'CD34',\n",
    "    'IGLL1',\n",
    "    'TRGC2',\n",
    "    'CCR9',\n",
    "    'CCR7',\n",
    "    'HIVEP3',\n",
    "    'TOX2',\n",
    "    'RAG1',\n",
    "    'RAG2',\n",
    "    'PCNA',\n",
    "    'CDK1'\n",
    "]\n",
    "\n",
    "ensg_list = symbols_to_ids(symbols, adata.var)"
   ]
  },
  {
   "cell_type": "code",
   "execution_count": null,
   "metadata": {},
   "outputs": [],
   "source": [
    "sc.pl.embedding(adata, basis=default_embedding, color=ensg_list, use_raw=False)"
   ]
  },
  {
   "cell_type": "markdown",
   "metadata": {},
   "source": [
    "**Compare with the same genes using the raw counts to confirm they are correlated**"
   ]
  },
  {
   "cell_type": "code",
   "execution_count": null,
   "metadata": {},
   "outputs": [],
   "source": [
    "if adata.raw:\n",
    "    sc.pl.embedding(adata, basis=default_embedding, color=ensg_list, use_raw=True)"
   ]
  },
  {
   "cell_type": "markdown",
   "metadata": {},
   "source": [
    "**Additionally, you could compare dotplots of those genes in each cell population**\\\n",
    "*This will scale all genes based on the max range of any gene so 1 gene with high values may make others difficult to distinguish*"
   ]
  },
  {
   "cell_type": "code",
   "execution_count": null,
   "metadata": {},
   "outputs": [],
   "source": [
    "sc.pl.dotplot(adata, ensg_list, cellpop_field, use_raw=False)"
   ]
  },
  {
   "cell_type": "code",
   "execution_count": null,
   "metadata": {},
   "outputs": [],
   "source": [
    "if adata.raw:\n",
    "    sc.pl.dotplot(adata, ensg_list, cellpop_field, use_raw=True)"
   ]
  },
  {
   "cell_type": "markdown",
   "metadata": {},
   "source": [
    "**If it is spatial data, test if the image and X_spatial embeddings enable scanpy use**"
   ]
  },
  {
   "cell_type": "code",
   "execution_count": null,
   "metadata": {},
   "outputs": [],
   "source": [
    "if adata.obs['assay_ontology_term_id'].unique()[0] == 'EFO:0010961' and adata.uns['spatial']['is_single'] == True:\n",
    "    plot_vis(adata, cellpop_field)\n",
    "    if remove_colors:\n",
    "        del adata.uns[f'{cellpop_field}_colors']"
   ]
  },
  {
   "cell_type": "markdown",
   "metadata": {},
   "source": [
    "**If submitted as an HCA Dataset, check for additional HCA standards**"
   ]
  },
  {
   "cell_type": "code",
   "execution_count": null,
   "metadata": {},
   "outputs": [],
   "source": [
    "# hca_errors = validate_hca(adata)\n",
    "# if hca_errors:\n",
    "#    for e in hca_errors:\n",
    "#        report(e, 'ERROR')\n",
    "# else:\n",
    "#    report('meets HCA Tier 1 requirements')"
   ]
  },
  {
   "cell_type": "markdown",
   "metadata": {},
   "source": [
    "**If updates have been made, write the revised file**\\\n",
    "*`compression='gzip'` is critical here to keep the file size down*\\\n",
    "**Run the CELLxGENE validator on the revised file**\\\n",
    "*This is the same as running `cellxgene-schema validate <file>` in the terminal*"
   ]
  },
  {
   "cell_type": "code",
   "execution_count": null,
   "metadata": {},
   "outputs": [],
   "source": [
    "# new_one = file.replace('.h5ad','_revised.h5ad')\n",
    "# adata.write(filename=new_one, compression='gzip')\n",
    "\n",
    "# valid = validate(new_one)"
   ]
  },
  {
   "cell_type": "code",
   "execution_count": null,
   "metadata": {},
   "outputs": [],
   "source": []
  }
 ],
 "metadata": {
  "kernelspec": {
   "display_name": "Python 3 (ipykernel)",
   "language": "python",
   "name": "python3"
  },
  "language_info": {
   "codemirror_mode": {
    "name": "ipython",
    "version": 3
   },
   "file_extension": ".py",
   "mimetype": "text/x-python",
   "name": "python",
   "nbconvert_exporter": "python",
   "pygments_lexer": "ipython3",
   "version": "3.11.8"
  }
 },
 "nbformat": 4,
 "nbformat_minor": 4
}
