{
 "cells": [
  {
   "cell_type": "code",
   "execution_count": null,
   "id": "71700148",
   "metadata": {
    "scrolled": false
   },
   "outputs": [],
   "source": [
    "library(SeuratDisk)\n",
    "library(sceasy)\n",
    "library(Seurat)"
   ]
  },
  {
   "cell_type": "markdown",
   "id": "74aed995",
   "metadata": {},
   "source": [
    "## SeuratDisk conversion\n",
    "Convert a Seurat object to a h5ad file using an intermediate h5Seurat file (https://mojaveazure.github.io/seurat-disk/articles/convert-anndata.html)"
   ]
  },
  {
   "cell_type": "code",
   "execution_count": null,
   "id": "20e45fc5",
   "metadata": {},
   "outputs": [],
   "source": [
    "seurat_obj <- readRDS(\"local.rds\")"
   ]
  },
  {
   "cell_type": "markdown",
   "id": "dea6fc5a",
   "metadata": {},
   "source": [
    "Check if Seurat object has a scaled matrix layer in @scale.data. If so, it is most straight forward to remove\n",
    "the @scale.data slot using DietSeurat (https://satijalab.org/seurat/reference/dietseurat)"
   ]
  },
  {
   "cell_type": "code",
   "execution_count": null,
   "id": "652f0822",
   "metadata": {},
   "outputs": [],
   "source": [
    "reducs <- names(seurat_obj@reductions)\n",
    "seurat_obj <- Seurat::DietSeurat(object = seurat_obj, dimreducs = reducs)"
   ]
  },
  {
   "cell_type": "markdown",
   "id": "bc86868c",
   "metadata": {},
   "source": [
    "Possible updates to ensure accurate conversion if the Seurat object needs updating or\n",
    "any cell metadata is not the appropriate data type"
   ]
  },
  {
   "cell_type": "code",
   "execution_count": null,
   "id": "c7520fb2",
   "metadata": {},
   "outputs": [],
   "source": [
    "seurat_obj <- Seurat::UpdateSeuratObject(object = seurat_obj)"
   ]
  },
  {
   "cell_type": "code",
   "execution_count": null,
   "id": "3f50fde7",
   "metadata": {},
   "outputs": [],
   "source": [
    "seurat_obj@meta.data$celltype <- as.character(seurat_obj@meta.data$celltype)"
   ]
  },
  {
   "cell_type": "markdown",
   "id": "f75c9034",
   "metadata": {},
   "source": [
    "Save seurat object as h5Seurat and convert"
   ]
  },
  {
   "cell_type": "code",
   "execution_count": null,
   "id": "4e8ea13e",
   "metadata": {},
   "outputs": [],
   "source": [
    "SeuratDisk::SaveH5Seurat(object = seurat_obj, filename = \"seurat_obj.h5Seurat\")"
   ]
  },
  {
   "cell_type": "code",
   "execution_count": null,
   "id": "24f245af",
   "metadata": {},
   "outputs": [],
   "source": [
    "SeuratDisk::Convert(source = \"seurat_obj.h5Seurat\", dest = \"h5ad\")"
   ]
  },
  {
   "cell_type": "markdown",
   "id": "c7c9e54d",
   "metadata": {},
   "source": [
    "## Sceasy conversion\n",
    "Convert a Seurat object to an h5ad file using the sceasy library package (https://github.com/cellgeni/sceasy). # Sceasy will convert the Seurat assay indicated. The resulting h5ad will transfer the \n",
    "normalized matrix to adata.X and the raw matrix layer into adata.layers['counts']"
   ]
  },
  {
   "cell_type": "code",
   "execution_count": null,
   "id": "17cb56ae",
   "metadata": {},
   "outputs": [],
   "source": [
    "sceasy::convertFormat(seurat_obj, from='seurat', to='anndata', transfer_layers='counts', assay='RNA',\n",
    "                      outFile='outfile.h5ad', drop_single_values=FALSE)"
   ]
  }
 ],
 "metadata": {
  "kernelspec": {
   "display_name": "R",
   "language": "R",
   "name": "ir"
  },
  "language_info": {
   "codemirror_mode": "r",
   "file_extension": ".r",
   "mimetype": "text/x-r-source",
   "name": "R",
   "pygments_lexer": "r",
   "version": "4.2.1"
  }
 },
 "nbformat": 4,
 "nbformat_minor": 5
}
