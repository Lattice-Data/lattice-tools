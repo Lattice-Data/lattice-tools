{
 "cells": [
  {
   "cell_type": "code",
   "execution_count": null,
   "id": "71700148",
   "metadata": {
    "scrolled": false
   },
   "outputs": [],
   "source": [
    "library(SeuratDisk)\n",
    "library(sceasy)\n",
    "library(Seurat)"
   ]
  },
  {
   "cell_type": "code",
   "execution_count": null,
   "id": "01fea429",
   "metadata": {},
   "outputs": [],
   "source": [
    "# show where is working directory where files will be read or save, unless entire path is given\n",
    "getwd()"
   ]
  },
  {
   "cell_type": "markdown",
   "id": "74aed995",
   "metadata": {},
   "source": [
    "## SeuratDisk conversion\n",
    "Convert a Seurat object to a h5ad file using an intermediate h5Seurat file (https://mojaveazure.github.io/seurat-disk/articles/convert-anndata.html)"
   ]
  },
  {
   "cell_type": "code",
   "execution_count": null,
   "id": "20e45fc5",
   "metadata": {},
   "outputs": [],
   "source": [
    "# Read rds file into memory\n",
    "\n",
    "seurat_obj <- readRDS(\"local.rds\")"
   ]
  },
  {
   "cell_type": "code",
   "execution_count": null,
   "id": "652f0822",
   "metadata": {},
   "outputs": [],
   "source": [
    "# Check if Seurat object has a scaled matrix layer in @scale.data. If so, it is most straight forward to remove\n",
    "# the @scale.data slot using DietSeurat (https://satijalab.org/seurat/reference/dietseurat)\n",
    "\n",
    "reducs <- names(seurat_obj@reductions)\n",
    "seurat_obj <- DietSeurat(seurat_obj, dimreducs = reducs)"
   ]
  },
  {
   "cell_type": "code",
   "execution_count": null,
   "id": "4e8ea13e",
   "metadata": {},
   "outputs": [],
   "source": [
    "# Save seurat object as h5Seurat and convert\n",
    "\n",
    "SeuratDisk::SaveH5Seurat(seurat_obj, filename = \"seurat_obj.h5Seurat\")\n",
    "SeuratDisk::Convert(source = \"seurat_obj.h5Seurat\", dest = \"h5ad\")"
   ]
  },
  {
   "cell_type": "markdown",
   "id": "c7c9e54d",
   "metadata": {},
   "source": [
    "## Sceasy conversion\n",
    "Convert a Seurat object to an h5ad file using the sceasy library package (https://github.com/cellgeni/sceasy)"
   ]
  },
  {
   "cell_type": "code",
   "execution_count": null,
   "id": "17cb56ae",
   "metadata": {},
   "outputs": [],
   "source": [
    "# The resulting h5ad will move the raw matrix layer into adata.layers['counts']\n",
    "\n",
    "sceasy::convertFormat(seurat_obj, from='seurat', to='anndata', transfer_layers='counts',\n",
    "                      outFile='outfile.h5ad', drop_single_values=FALSE)"
   ]
  }
 ],
 "metadata": {
  "kernelspec": {
   "display_name": "R",
   "language": "R",
   "name": "ir"
  },
  "language_info": {
   "codemirror_mode": "r",
   "file_extension": ".r",
   "mimetype": "text/x-r-source",
   "name": "R",
   "pygments_lexer": "r",
   "version": "4.2.1"
  }
 },
 "nbformat": 4,
 "nbformat_minor": 5
}
