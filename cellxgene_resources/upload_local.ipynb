{
 "cells": [
  {
   "cell_type": "code",
   "execution_count": null,
   "id": "b7b8c865",
   "metadata": {},
   "outputs": [],
   "source": [
    "import os\n",
    "from cellxgene_mods import CxG_API\n",
    "\n",
    "\n",
    "CxG_API.config() # set env='dev' if working with dev portal"
   ]
  },
  {
   "cell_type": "markdown",
   "id": "2bf01cc5",
   "metadata": {},
   "source": [
    "**Specify the Collection to upload to**<br>\n",
    "If a Revision, use the Revision ID, not the Published ID"
   ]
  },
  {
   "cell_type": "code",
   "execution_count": null,
   "id": "e9e6043b",
   "metadata": {},
   "outputs": [],
   "source": [
    "collection_id = ''"
   ]
  },
  {
   "cell_type": "markdown",
   "id": "091f9676",
   "metadata": {},
   "source": [
    "**List the existing Datasets in the Collection**"
   ]
  },
  {
   "cell_type": "code",
   "execution_count": null,
   "id": "02703f4a",
   "metadata": {},
   "outputs": [],
   "source": [
    "coll_datasets = {d['dataset_id']:d['title'] for d in CxG_API.get_collection(collection_id)['datasets']}\n",
    "coll_datasets"
   ]
  },
  {
   "cell_type": "markdown",
   "id": "101a9d56",
   "metadata": {},
   "source": [
    "**Set the directory that the files to upload are in**"
   ]
  },
  {
   "cell_type": "code",
   "execution_count": null,
   "id": "e3890758",
   "metadata": {},
   "outputs": [],
   "source": [
    "directory = os.path.expanduser('~/Downloads/')"
   ]
  },
  {
   "cell_type": "markdown",
   "id": "ed9e292e",
   "metadata": {},
   "source": [
    "**List certain files in that directory**<br>\n",
    "The curation_qa notebook saves files with a `_revised.h5ad` suffix"
   ]
  },
  {
   "cell_type": "code",
   "execution_count": null,
   "id": "ee8dfa8e",
   "metadata": {},
   "outputs": [],
   "source": [
    "for f in os.listdir(directory):\n",
    "    if f.endswith('_revised.h5ad'):\n",
    "        print(f)"
   ]
  },
  {
   "cell_type": "markdown",
   "id": "c073beb0",
   "metadata": {},
   "source": [
    "**Fill in file name:Dataset ID pairs**<br>\n",
    "If adding a dataset, rather than replacing an existing dataset, use `new` for the Dataset ID"
   ]
  },
  {
   "cell_type": "code",
   "execution_count": null,
   "id": "8be0c822",
   "metadata": {},
   "outputs": [],
   "source": [
    "datasets = {\n",
    "    directory + 'my_matrix_revised.h5ad': 'new'\n",
    "}"
   ]
  },
  {
   "cell_type": "markdown",
   "id": "e59d9b52",
   "metadata": {},
   "source": [
    "**Ensure that each file exists and each Dataset exists or is `new`**"
   ]
  },
  {
   "cell_type": "code",
   "execution_count": null,
   "id": "ee784234",
   "metadata": {},
   "outputs": [],
   "source": [
    "for f,d in datasets.items():\n",
    "    if not os.path.exists(f):\n",
    "        print('Invalid file:' + f)\n",
    "    if d != 'new':\n",
    "        if d not in coll_datasets:\n",
    "            print('Invalid dataset:' + d)\n",
    "        if list(datasets.values()).count(d) > 1:\n",
    "            print('Repeated dataset:' + d)"
   ]
  },
  {
   "cell_type": "markdown",
   "id": "4c350ec5",
   "metadata": {},
   "source": [
    "**Upload each Dataset**"
   ]
  },
  {
   "cell_type": "code",
   "execution_count": null,
   "id": "6e09015a",
   "metadata": {},
   "outputs": [],
   "source": [
    "for f,d in datasets.items():\n",
    "    if d == 'new':\n",
    "        d = CxG_API.create_dataset(collection_id)\n",
    "    CxG_API.upload_local_datafile(f, collection_id, d)"
   ]
  },
  {
   "cell_type": "code",
   "execution_count": null,
   "id": "5628a657",
   "metadata": {},
   "outputs": [],
   "source": []
  }
 ],
 "metadata": {
  "kernelspec": {
   "display_name": "Python 3 (ipykernel)",
   "language": "python",
   "name": "python3"
  },
  "language_info": {
   "codemirror_mode": {
    "name": "ipython",
    "version": 3
   },
   "file_extension": ".py",
   "mimetype": "text/x-python",
   "name": "python",
   "nbconvert_exporter": "python",
   "pygments_lexer": "ipython3",
   "version": "3.9.18"
  }
 },
 "nbformat": 4,
 "nbformat_minor": 5
}
