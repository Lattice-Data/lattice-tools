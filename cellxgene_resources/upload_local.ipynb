{
 "cells": [
  {
   "cell_type": "code",
   "execution_count": 1,
   "id": "b7b8c865",
   "metadata": {},
   "outputs": [
    {
     "name": "stderr",
     "output_type": "stream",
     "text": [
      "/Users/brianmott/anaconda3/envs/lattice/lib/python3.11/site-packages/dask/dataframe/__init__.py:31: FutureWarning: The legacy Dask DataFrame implementation is deprecated and will be removed in a future version. Set the configuration option `dataframe.query-planning` to `True` or None to enable the new Dask Dataframe implementation and silence this warning.\n",
      "  warnings.warn(\n",
      "/Users/brianmott/anaconda3/envs/lattice/lib/python3.11/site-packages/anndata/utils.py:434: FutureWarning: Importing read_text from `anndata` is deprecated. Import anndata.io.read_text instead.\n",
      "  warnings.warn(msg, FutureWarning)\n"
     ]
    },
    {
     "name": "stdout",
     "output_type": "stream",
     "text": [
      "Set 'SITE_URL' env var to https://cellxgene.cziscience.com\n",
      "Set 'API_URL_BASE' env var to https://api.cellxgene.cziscience.com\n",
      "Successfully set 'ACCESS_TOKEN' env var!\n"
     ]
    }
   ],
   "source": [
    "import os\n",
    "from cellxgene_mods import CxG_API\n",
    "\n",
    "\n",
    "CxG_API.config() # set env='dev' or 'staging' if working in either of those test environments\""
   ]
  },
  {
   "cell_type": "markdown",
   "id": "2bf01cc5",
   "metadata": {},
   "source": [
    "**Specify the Collection to upload to**<br>\n",
    "If a Revision, use the Revision ID, not the Published ID"
   ]
  },
  {
   "cell_type": "code",
   "execution_count": 2,
   "id": "e9e6043b",
   "metadata": {},
   "outputs": [],
   "source": [
    "collection_id = '9c9d04c4-8899-417f-bb6f-6107dcadf14f'"
   ]
  },
  {
   "cell_type": "markdown",
   "id": "091f9676",
   "metadata": {},
   "source": [
    "**List the existing Datasets in the Collection**"
   ]
  },
  {
   "cell_type": "code",
   "execution_count": 3,
   "id": "02703f4a",
   "metadata": {},
   "outputs": [
    {
     "data": {
      "text/plain": [
       "{'91f31e05-56d8-46fc-b408-d90c9228a81b': 'Single-cell RNA-seq of the Adult Human Kidney (Version 2.0)',\n",
       " '7ff0197b-d175-49bf-b4fa-150fe0995d93': 'Single-nucleus RNA-seq of the Adult Human Kidney (Version 2.0)'}"
      ]
     },
     "execution_count": 3,
     "metadata": {},
     "output_type": "execute_result"
    }
   ],
   "source": [
    "coll_datasets = CxG_API.get_collection(collection_id)['datasets']\n",
    "status = {d['dataset_id']:d['processing_status'] for d in coll_datasets}\n",
    "titles = {d['dataset_id']:d['title'] for d in coll_datasets}\n",
    "titles"
   ]
  },
  {
   "cell_type": "markdown",
   "id": "101a9d56",
   "metadata": {},
   "source": [
    "**Set the directory that the files to upload are in**"
   ]
  },
  {
   "cell_type": "code",
   "execution_count": 4,
   "id": "e3890758",
   "metadata": {},
   "outputs": [],
   "source": [
    "directory = os.path.expanduser('/Users/brianmott/Documents/Curation/CellxGene/CXG-708/KPMP_version2_SingleCell_CELLxGENE/')"
   ]
  },
  {
   "cell_type": "markdown",
   "id": "ed9e292e",
   "metadata": {},
   "source": [
    "**List certain files in that directory**<br>\n",
    "The curation_qa notebook saves files with a `_revised.h5ad` suffix"
   ]
  },
  {
   "cell_type": "code",
   "execution_count": 5,
   "id": "ee8dfa8e",
   "metadata": {},
   "outputs": [
    {
     "name": "stdout",
     "output_type": "stream",
     "text": [
      "single_cell_kpmp_revised.h5ad\n",
      "single_cell_kpmp_normalized_revised.h5ad\n"
     ]
    }
   ],
   "source": [
    "for f in os.listdir(directory):\n",
    "    if f.endswith('_revised.h5ad') or f.endswith('fragments.tsv.gz'):\n",
    "        print(f)"
   ]
  },
  {
   "cell_type": "markdown",
   "id": "c073beb0",
   "metadata": {},
   "source": [
    "**Fill in Dataset ID and file names to upload**<br>\n",
    "Use `new` for the _dataset_id_ if adding a Dataset, rather than replacing an existing Dataset\\\n",
    "_fragments_ is optional\\\n",
    "Use `existing` for _anndata_ if adding fragments to an existing Dataset without re-uploading the .h5ad"
   ]
  },
  {
   "cell_type": "code",
   "execution_count": 6,
   "id": "159f2bde-5bcf-4430-967a-337ffe7e3bf7",
   "metadata": {},
   "outputs": [],
   "source": [
    "datasets = [\n",
    "    {\n",
    "        'dataset_id': '91f31e05-56d8-46fc-b408-d90c9228a81b',\n",
    "        'anndata': directory + 'single_cell_kpmp_normalized_revised.h5ad'\n",
    "    },\n",
    "]"
   ]
  },
  {
   "cell_type": "markdown",
   "id": "2c021340-44b1-4f14-adc4-d0d4bbb4cce5",
   "metadata": {},
   "source": [
    "**Confirm the files are specified correctly, etc.**"
   ]
  },
  {
   "cell_type": "code",
   "execution_count": 7,
   "id": "4af7a164-816d-47e7-894d-d20d4e8d1927",
   "metadata": {},
   "outputs": [],
   "source": [
    "all_ids = [d['dataset_id'] for d in datasets]\n",
    "for index,d in enumerate(datasets):\n",
    "    if d['anndata'] != 'existing' and not os.path.exists(d['anndata']):\n",
    "        print(f\"Invalid file: {d['anndata']}\")\n",
    "    if 'fragments' in d and not os.path.exists(d['fragments']):\n",
    "        print(f\"Invalid file: {d['fragments']}\")\n",
    "    if d['anndata'] == 'existing':\n",
    "        if 'fragments' not in d:\n",
    "            print(f\"Must define fragments if revising an existing matrix for datasets[{index}]\")\n",
    "        if d['dataset_id'] == 'new':\n",
    "            print(f\"Must define either dataset_id or anndata file to upload for datasets[{index}]\")\n",
    "    if d['dataset_id'] != 'new':\n",
    "        if all_ids.count(d['dataset_id']) > 1:\n",
    "            print(f\"Repeated dataset: {d['dataset_id']}\")\n",
    "        if d['dataset_id'] not in titles:\n",
    "            print(f\"Invalid dataset: {d['dataset_id']}\")\n",
    "            continue\n",
    "        if status[d['dataset_id']] != 'SUCCESS':\n",
    "            print(f\"{d['dataset_id']} is processing_status:{status[d['dataset_id']]}, must wait for SUCCESS\")"
   ]
  },
  {
   "cell_type": "markdown",
   "id": "4c350ec5",
   "metadata": {},
   "source": [
    "**Upload each Dataset**"
   ]
  },
  {
   "cell_type": "code",
   "execution_count": 8,
   "id": "911ead71-835e-4169-8fd9-a5d9c759f443",
   "metadata": {
    "scrolled": true
   },
   "outputs": [
    {
     "name": "stdout",
     "output_type": "stream",
     "text": [
      "Full S3 write path is s3://cellxgene-dataset-submissions/super/9c9d04c4-8899-417f-bb6f-6107dcadf14f/91f31e05-56d8-46fc-b408-d90c9228a81b/single_cell_kpmp_normalized_revised.h5ad\n",
      "\n",
      "\n",
      "Uploading /Users/brianmott/Documents/Curation/CellxGene/CXG-708/KPMP_version2_SingleCell_CELLxGENE/single_cell_kpmp_normalized_revised.h5ad to Collection 9c9d04c4-8899-417f-bb6f-6107dcadf14f with dataset_id '91f31e05-56d8-46fc-b408-d90c9228a81b'...\n",
      "\n",
      "9c9d04c4-8899-417f-bb6f-6107dcadf14f/91f31e05-56d8-46fc-b408-d90c9228a81b: \u001b[1m\u001b[38;5;10m100.0% uploaded\u001b[0m\n",
      "\u001b[1m\u001b[38;5;10mSUCCESS\u001b[0m\n",
      "\n",
      "UPLOAD COMPLETE.\n",
      "\n",
      "\u001b[1m\u001b[38;5;10mSUCCESS\u001b[0m\n",
      "\n",
      "Uploading Dataset with id '91f31e05-56d8-46fc-b408-d90c9228a81b' to Collection https://cellxgene.cziscience.com/collections/9c9d04c4-8899-417f-bb6f-6107dcadf14f sourcing from manifest: {'anndata': 's3://cellxgene-dataset-submissions/super/9c9d04c4-8899-417f-bb6f-6107dcadf14f/91f31e05-56d8-46fc-b408-d90c9228a81b/single_cell_kpmp_normalized_revised.h5ad'}\n"
     ]
    }
   ],
   "source": [
    "for d in datasets:\n",
    "    if d['dataset_id'] == 'new':\n",
    "        d['dataset_id'] = CxG_API.create_dataset(collection_id)\n",
    "\n",
    "    if d['anndata'] == 'existing':\n",
    "        manifest = CxG_API.get_dataset_manifest(collection_id, d['dataset_id'])\n",
    "    else:\n",
    "        manifest = {\n",
    "            'anndata': CxG_API.upload_local_datafile(d['anndata'], collection_id, d['dataset_id'])\n",
    "        }\n",
    "\n",
    "    if 'fragments' in d:\n",
    "        manifest['atac_fragment'] = CxG_API.upload_local_datafile(d['fragments'], collection_id, d['dataset_id'])\n",
    "    \n",
    "    CxG_API.upload_datafiles_from_manifest(manifest, collection_id, d['dataset_id'])"
   ]
  },
  {
   "cell_type": "code",
   "execution_count": null,
   "id": "e9e9c048-3751-4953-a22a-2315cf78015d",
   "metadata": {},
   "outputs": [],
   "source": []
  }
 ],
 "metadata": {
  "kernelspec": {
   "display_name": "lattice",
   "language": "python",
   "name": "python3"
  },
  "language_info": {
   "codemirror_mode": {
    "name": "ipython",
    "version": 3
   },
   "file_extension": ".py",
   "mimetype": "text/x-python",
   "name": "python",
   "nbconvert_exporter": "python",
   "pygments_lexer": "ipython3",
   "version": "3.11.8"
  }
 },
 "nbformat": 4,
 "nbformat_minor": 5
}
