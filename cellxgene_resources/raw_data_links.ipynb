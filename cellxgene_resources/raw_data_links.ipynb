{
 "cells": [
  {
   "cell_type": "code",
   "execution_count": null,
   "id": "c5307c0e-43e0-464e-a120-98687d5c85a8",
   "metadata": {},
   "outputs": [],
   "source": [
    "import pandas as pd\n",
    "import sys\n",
    "from cellxgene_mods import CxG_API\n",
    "\n",
    "sys.path.append('..')\n",
    "from public_resources.public_resources import parse_data_repo_url,validate_raw_insdc\n",
    "\n",
    "CxG_API.config()"
   ]
  },
  {
   "cell_type": "code",
   "execution_count": null,
   "id": "c2e6982f-c637-4a6e-a05f-3e3650260a18",
   "metadata": {},
   "outputs": [],
   "source": [
    "collections = CxG_API.get_collections()"
   ]
  },
  {
   "cell_type": "code",
   "execution_count": null,
   "id": "7e012d32-6dc5-4cb2-ad80-c999111ae4c0",
   "metadata": {
    "scrolled": true
   },
   "outputs": [],
   "source": [
    "insdc_resources = ['geo','arrex','bioproj','ena']\n",
    "all_collections = []\n",
    "for c in collections:\n",
    "    orgs = ','.join(set([o['label'] for d in c['datasets'] for o in d['organism']]))\n",
    "    assays = ','.join(set([o['label'] for d in c['datasets'] for o in d['assay']]))\n",
    "    \n",
    "    tempc = {\n",
    "        'collection': c['collection_id'],\n",
    "        'published_date': c['published_at'],\n",
    "        'organisms': orgs,\n",
    "        'assays': assays\n",
    "    }\n",
    "    for l in c['links']:\n",
    "        url = l['link_url']\n",
    "        resource = parse_data_repo_url(url)\n",
    "        if resource in insdc_resources:\n",
    "            raw_formats = validate_raw_insdc(url)\n",
    "            if raw_formats:\n",
    "                if l['link_type'] != 'RAW_DATA':\n",
    "                    print('ERROR:raw but not labeled RAW')\n",
    "                    print(url)\n",
    "                    print(c['collection_id'])\n",
    "            elif not raw_formats and l['link_type'] == 'RAW_DATA':\n",
    "                print('ERROR:no raw but labeled RAW')\n",
    "                print(url)\n",
    "                print(c['collection_id'])\n",
    "        if l['link_type'] == 'RAW_DATA':\n",
    "            if resource in tempc:\n",
    "                tempc[resource].append(url)\n",
    "            else:\n",
    "                tempc[resource] = [url]\n",
    "    all_collections.append(tempc)\n",
    "\n",
    "df = pd.DataFrame(all_collections)\n",
    "df"
   ]
  },
  {
   "cell_type": "code",
   "execution_count": null,
   "id": "59bf6ca9-7323-49e7-ab92-4c33cc819bf5",
   "metadata": {},
   "outputs": [],
   "source": [
    "#need to add a new base url?\n",
    "df['other'].dropna().tolist()"
   ]
  },
  {
   "cell_type": "code",
   "execution_count": null,
   "id": "4b910cb0-6dc5-46c7-8efb-ec7c4f00105d",
   "metadata": {},
   "outputs": [],
   "source": [
    "insdc_df = df.dropna(subset=insdc_resources, how='all')[['collection','organisms','assays'] + insdc_resources]\n",
    "insdc_df"
   ]
  }
 ],
 "metadata": {
  "kernelspec": {
   "display_name": "Python 3 (ipykernel)",
   "language": "python",
   "name": "python3"
  },
  "language_info": {
   "codemirror_mode": {
    "name": "ipython",
    "version": 3
   },
   "file_extension": ".py",
   "mimetype": "text/x-python",
   "name": "python",
   "nbconvert_exporter": "python",
   "pygments_lexer": "ipython3",
   "version": "3.11.11"
  }
 },
 "nbformat": 4,
 "nbformat_minor": 5
}
