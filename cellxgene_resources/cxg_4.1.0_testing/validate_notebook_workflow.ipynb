{
 "cells": [
  {
   "cell_type": "markdown",
   "id": "ac5c4947",
   "metadata": {},
   "source": [
    "### Confirm Curator Notebook Validation Remains Intact"
   ]
  },
  {
   "cell_type": "markdown",
   "id": "384cd59d-9ae0-4b8b-8dab-79cefe90dfaa",
   "metadata": {},
   "source": [
    "Adopted from cxg_4.0.0_testing/405_category_of_bool.ipynb  \n",
    "\n",
    "For this schema update, we will focus most of the individual test cases through pytest. However, in our workflow, we primarily access the Validator through the cellxgene-schema module and the terminal using the subprocess module. Running this notebook during each iteration of curation validation checks that our standard validation workflow remains intact.\n",
    "\n",
    "Make sure to select the correct test env with the latest version of cellxgene-schema installed via the github repo\n",
    "\n",
    "Also set scc_repo_loc to the directory of the local repo for single-cell-curation"
   ]
  },
  {
   "cell_type": "code",
   "execution_count": 1,
   "id": "cff55803-6fc1-477e-82ec-95d73e824784",
   "metadata": {},
   "outputs": [],
   "source": [
    "import os\n",
    "import scanpy as sc\n",
    "import subprocess"
   ]
  },
  {
   "cell_type": "code",
   "execution_count": 2,
   "id": "e0f968a6",
   "metadata": {},
   "outputs": [],
   "source": [
    "try:\n",
    "    scc_repo_loc = os.path.expanduser('~/GitClones/CZI/single-cell-curation/')\n",
    "    current_commit = subprocess.check_output(['git', 'rev-parse', '--short', 'HEAD'], cwd=scc_repo_loc).decode('ascii').strip()\n",
    "    main_commit = subprocess.check_output(['git', 'rev-parse', '--short', 'main'], cwd=scc_repo_loc).decode('ascii').strip()\n",
    "except FileNotFoundError as e:\n",
    "    print(f\"{e}: Please enter correct local location of single-cell-curation repo\")\n",
    "    current_commit = 'Incorrect repo location'"
   ]
  },
  {
   "cell_type": "code",
   "execution_count": 3,
   "id": "40bf652d-17d3-4b5d-88a0-dd16f0283315",
   "metadata": {},
   "outputs": [],
   "source": [
    "def validate(file):\n",
    "    validate_process = subprocess.run(['cellxgene-schema', 'validate', file], stdout=subprocess.PIPE, stderr=subprocess.PIPE)\n",
    "    for line in validate_process.stdout.decode('utf-8').split('\\n'):\n",
    "        print(line)\n",
    "    for line in validate_process.stderr.decode('utf-8').split('\\n'):\n",
    "        print(line)\n",
    "        if 'is_valid=' in line:\n",
    "            valid = line.split('=')[-1]\n",
    "            return valid"
   ]
  },
  {
   "cell_type": "code",
   "execution_count": 4,
   "id": "dc39f074-4f1e-4c8c-8326-4763dc9fde36",
   "metadata": {},
   "outputs": [],
   "source": [
    "def save_and_test(adata, expected):\n",
    "    adata.write(filename='test.h5ad')\n",
    "    adata = sc.read_h5ad('test.h5ad')\n",
    "\n",
    "    print(\"A valid h5ad\")\n",
    "    print('------------------')\n",
    "\n",
    "    valid = validate('test.h5ad')\n",
    "    print('------------------')\n",
    "    \n",
    "    if expected != valid:\n",
    "        print('\\033[1m\\033[91mERROR\\033[0m')\n",
    "    else:\n",
    "        print('\\033[1m\\033[92mPASSED\\033[0m')\n",
    "    \n",
    "    if current_commit != main_commit:\n",
    "        print('NOT ON MAIN BRANCH')\n",
    "    else:\n",
    "        print(f'Using CZI single-cell-curation commit: {current_commit}')\n",
    "\n",
    "    os.remove('test.h5ad')"
   ]
  },
  {
   "cell_type": "markdown",
   "id": "face024a-052c-472f-b0ba-a5066ea1ddf4",
   "metadata": {},
   "source": [
    "## Test Validator Pathway"
   ]
  },
  {
   "cell_type": "code",
   "execution_count": 5,
   "id": "50b2671a-533c-459e-83d9-acbd009c0d46",
   "metadata": {},
   "outputs": [
    {
     "name": "stdout",
     "output_type": "stream",
     "text": [
      "A valid h5ad\n",
      "------------------\n",
      "Loading dependencies\n",
      "Loading validator modules\n",
      "\n",
      "Starting validation...\n",
      "WARNING: Data contains assay(s) that are not represented in the 'suspension_type' schema definition table. Ensure you have selected the most appropriate value for the assay(s) between 'cell', 'nucleus', and 'na'. Please contact cellxgene@chanzuckerberg.com during submission so that the assay(s) can be added to the schema definition document.\n",
      "Validation complete in 0:00:01.213689 with status is_valid=True\n",
      "------------------\n",
      "\u001b[1m\u001b[92mPASSED\u001b[0m\n",
      "Using CZI single-cell-curation commit: 15bdad5\n"
     ]
    }
   ],
   "source": [
    "adata = sc.read_h5ad(\"fixtures/valid.h5ad\")\n",
    "adata.obs['assay_ontology_term_id'] = 'EFO:0022490'\n",
    "save_and_test(adata,'True')"
   ]
  }
 ],
 "metadata": {
  "kernelspec": {
   "display_name": "Python 3 (ipykernel)",
   "language": "python",
   "name": "python3"
  },
  "language_info": {
   "codemirror_mode": {
    "name": "ipython",
    "version": 3
   },
   "file_extension": ".py",
   "mimetype": "text/x-python",
   "name": "python",
   "nbconvert_exporter": "python",
   "pygments_lexer": "ipython3",
   "version": "3.9.18"
  }
 },
 "nbformat": 4,
 "nbformat_minor": 5
}
