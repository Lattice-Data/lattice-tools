{
 "cells": [
  {
   "cell_type": "code",
   "execution_count": null,
   "id": "f6f6d908-5bdb-483c-b9b3-47fd8e1bf20d",
   "metadata": {},
   "outputs": [],
   "source": [
    "import h5py\n",
    "import matplotlib.pyplot as plt\n",
    "import os\n",
    "import pandas as pd\n",
    "import random\n",
    "import subprocess\n",
    "from anndata._io.specs import read_elem"
   ]
  },
  {
   "cell_type": "markdown",
   "id": "465e290f-c5c7-48ab-898e-ded21864516b",
   "metadata": {},
   "source": [
    "**Read in the barcodes from the AnnData**"
   ]
  },
  {
   "cell_type": "code",
   "execution_count": null,
   "id": "b5dbcc35-c7fd-43ba-ada6-12eee03b5f7e",
   "metadata": {},
   "outputs": [],
   "source": [
    "my_dir = '/Users/jason/Downloads/10x_multiome_samples/brain_pediatric/'"
   ]
  },
  {
   "cell_type": "code",
   "execution_count": null,
   "id": "cbe05622-5354-4ec3-9d7b-4abfe1c37bef",
   "metadata": {},
   "outputs": [],
   "source": [
    "rna_file = f'{my_dir}fd808279-8829-4677-836d-ed43628a7a54.h5ad'\n",
    "with h5py.File(rna_file) as f:\n",
    "    barcodes = read_elem(f['obs']).index.to_series()\n",
    "random.sample(list(barcodes), 25)"
   ]
  },
  {
   "cell_type": "markdown",
   "id": "42d08e09-62ae-4a31-9701-b105a79bbb5f",
   "metadata": {},
   "source": [
    "**Identify if the library tag is a prefix or suffix to the barcode**"
   ]
  },
  {
   "cell_type": "code",
   "execution_count": null,
   "id": "b8c494c4-2d43-4dac-8eaa-d6c080629a89",
   "metadata": {},
   "outputs": [],
   "source": [
    "appendage = 'suffix' #will need to update this\n",
    "\n",
    "\n",
    "if appendage == 'prefix':\n",
    "    pattern = r\"[ACGT]{16}-1$\"  # for prefix\n",
    "    col = 0\n",
    "else:\n",
    "    pattern = r\"^[AGCT]{16}-1\"  # for suffix\n",
    "    col = 1\n",
    "adata_index_split = barcodes.str.split(pat = pattern, regex=True, expand=True)\n",
    "barcode_apps = adata_index_split[col].unique()\n",
    "list(barcode_apps)"
   ]
  },
  {
   "cell_type": "code",
   "execution_count": null,
   "id": "7444adce-bf7c-4d7c-b003-7eaeb959338a",
   "metadata": {},
   "outputs": [],
   "source": [
    "#may change depending on file structure\n",
    "sample_apps = [f.replace('atac_fragments.tsv.gz','') for f in os.listdir(my_dir) if f.endswith('atac_fragments.tsv.gz')]\n",
    "sample_apps"
   ]
  },
  {
   "cell_type": "markdown",
   "id": "5b5f953b-5aaa-4240-b7f2-919d55d93075",
   "metadata": {},
   "source": [
    "**Map the sample IDs to the IDs appended to the barcodes**"
   ]
  },
  {
   "cell_type": "code",
   "execution_count": null,
   "id": "c9cefa94-2090-4652-98cd-f7764d73acf3",
   "metadata": {},
   "outputs": [],
   "source": [
    "app_map = {\n",
    "    'G120_F1_N_': '_1',\n",
    "    'G133_D_FL_': '_4',\n",
    "    'G210_D_': '_11',\n",
    "    'G150_D_': '_7',\n",
    "    'G171_D_': '_9',\n",
    "    'G120_D_FL_': '_3',\n",
    "    'G187_D_': '_10',\n",
    "    'G159_D_': '_8',\n",
    "    'G129_D_': '_6',\n",
    "    'G133_N_FL_': '_5',\n",
    "    'G120_D_TL_': '_2'\n",
    "}"
   ]
  },
  {
   "cell_type": "code",
   "execution_count": null,
   "id": "eadd27e6-7b10-4ce8-91de-dbe77fceb545",
   "metadata": {},
   "outputs": [],
   "source": [
    "[a for a in barcode_apps if a not in app_map.values()]"
   ]
  },
  {
   "cell_type": "code",
   "execution_count": null,
   "id": "9d10c900-acdc-46a3-a872-2626301b7c9e",
   "metadata": {},
   "outputs": [],
   "source": [
    "[a for a in sample_apps if a not in app_map.keys()]"
   ]
  },
  {
   "cell_type": "markdown",
   "id": "5910f997-0238-4693-b5d0-d0f467f1f028",
   "metadata": {},
   "source": [
    "**May need to alter how `frag_file` is defined based on the file structure & naming**"
   ]
  },
  {
   "cell_type": "code",
   "execution_count": null,
   "id": "ebe8d339-827d-408a-b00e-9d763e46a339",
   "metadata": {},
   "outputs": [],
   "source": [
    "ind_frag_files = []\n",
    "stats = []\n",
    "for s,a in app_map.items():\n",
    "    print(s)\n",
    "    frag_file = f'{my_dir}{s}atac_fragments.tsv.gz' #gonna need to update this pattern\n",
    "\n",
    "    #read in the fragments\n",
    "    frags_df = pd.read_csv(\n",
    "        frag_file,\n",
    "        comment='#',\n",
    "        sep='\\t',\n",
    "        names=['chrom','start','end','barcode','readSupport']\n",
    "    )\n",
    "\n",
    "    #plot for QA\n",
    "    counts = frags_df['barcode'].value_counts()\n",
    "    fig, axes = plt.subplots(1, 2, figsize=(10, 5))\n",
    "    axes[0].hist(counts, range=(0,1000), bins=200)\n",
    "    axes[0].set_ylim(ymin=0)\n",
    "    axes[0].set_title('raw')\n",
    "\n",
    "    #store stats for QA\n",
    "    raw_min = counts.min()\n",
    "    raw_mean = round(counts.mean())\n",
    "\n",
    "    #update the barcode to match the CxG matrix obx index\n",
    "    if appendage == 'prefix':\n",
    "        frags_df['barcode'] = a + frags_df['barcode'].astype(str)\n",
    "    else:\n",
    "        frags_df['barcode'] = frags_df['barcode'].astype(str) + a\n",
    "\n",
    "    #filter down to only barcodes in the CxG matrix\n",
    "    frags_df = frags_df[frags_df['barcode'].isin(barcodes)]\n",
    "\n",
    "    #plot for QA\n",
    "    counts = frags_df['barcode'].value_counts()\n",
    "    axes[1].hist(counts, range=(0,1000), bins=200)\n",
    "    axes[1].set_ylim(ymin=0)\n",
    "    axes[1].set_title('filtered')\n",
    "    plt.show()\n",
    "\n",
    "    #store stats for QA\n",
    "    stats.append({\n",
    "        'sample': s,\n",
    "        'raw min': raw_min,\n",
    "        'filt min': counts.min(),\n",
    "        'raw mean': raw_mean,\n",
    "        'filt mean': round(counts.mean())\n",
    "    })\n",
    "    #add in 'uniq barcodes': len(frags_df['barcode'].unique())?\n",
    "    #could validate that the total equals cells in the RNA matrix - len(barcodes)\n",
    "\n",
    "    #write the filtered fragments file\n",
    "    output = frag_file.replace('atac_fragments', 'filtered_fragments')\n",
    "    frags_df.to_csv(output, compression='gzip', sep='\\t', index=False, header=False)\n",
    "    ind_frag_files.append(output)\n",
    "\n",
    "pd.DataFrame(stats)"
   ]
  },
  {
   "cell_type": "markdown",
   "id": "de396f61-55b7-41c5-8b7d-1fd70e88e181",
   "metadata": {},
   "source": [
    "**Concatenate all of the outputs**"
   ]
  },
  {
   "cell_type": "code",
   "execution_count": null,
   "id": "eae8cc60-8ab7-4cc5-a9fa-8229357124b1",
   "metadata": {},
   "outputs": [],
   "source": [
    "concat_frags = f'{my_dir}concatenated_filtered_fragments.tsv.gz'\n",
    "subprocess.run(['cat ' + ' '.join(ind_frag_files) + ' > ' + concat_frags], shell=True)"
   ]
  },
  {
   "cell_type": "code",
   "execution_count": null,
   "id": "3f49c7a4-c40b-4b20-af29-3d07cf7ac18b",
   "metadata": {},
   "outputs": [],
   "source": []
  }
 ],
 "metadata": {
  "kernelspec": {
   "display_name": "Python 3 (ipykernel)",
   "language": "python",
   "name": "python3"
  },
  "language_info": {
   "codemirror_mode": {
    "name": "ipython",
    "version": 3
   },
   "file_extension": ".py",
   "mimetype": "text/x-python",
   "name": "python",
   "nbconvert_exporter": "python",
   "pygments_lexer": "ipython3",
   "version": "3.11.9"
  }
 },
 "nbformat": 4,
 "nbformat_minor": 5
}
