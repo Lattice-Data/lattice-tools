{
 "cells": [
  {
   "cell_type": "markdown",
   "metadata": {},
   "source": [
    "**This notebook provides code samples to be used to manipulate AnnData objects towards CELLxGENE curation\\\n",
    "It is not intended to be used as a single coherent workflow**"
   ]
  },
  {
   "cell_type": "markdown",
   "metadata": {},
   "source": [
    "## Table of Contents\n",
    "* **CELLxGENE Revision**\n",
    " * [Remove CELLxGENE portal fields](#revision)\n",
    "* **Subset**\n",
    " * [subset the matrix](#subset)\n",
    "* **obsm**\n",
    " * [convert x,y columns to embeddings](#set-embed)\n",
    "* **layers**\n",
    " * [Move a layer](#mv-layer)\n",
    " * [Delete a layer](#del-layer)\n",
    "* **uns**\n",
    " * [Set a field](#set-uns)\n",
    " * [Delete a field](#del-uns)\n",
    "* **obs**\n",
    " * [Remove columns](#del-obs)\n",
    " * [Rename columns](#rn-obs)\n",
    " * [Replace values](#rp-obs)\n",
    " * [Set a column with the same value](#set-obs)\n",
    " * [Fill null values in a specific column](#fillna-obs)\n",
    " * [Convert numeric field to categorical](#cat-obs)\n",
    " * [Alter the values in a column using a function](#typo-obs)\n",
    " * [Add a column mapped from another - dictionary](#add-dict-obs)\n",
    " * [Add a column mapped from aonther - Google Sheet](#add-gs-obs)\n",
    "* **var**\n",
    " * [Remove columns](#del-var)\n",
    " * [Set a column with the same value](#set-var)\n",
    " * [Add a column mapped from another - function](#typo-var)\n",
    " * [Set a column as the index](#index-var)\n",
    " * [Map in Ensembl IDs based on symbols and reference annotation](#id-map-var)\n",
    " * [Fill var with filtered features that are in raw.var](#fill-filt-var)"
   ]
  },
  {
   "cell_type": "markdown",
   "metadata": {},
   "source": [
    "# Revising existing CELLxGENE Dataset <a class=\"anchor\" id=\"revision\"></a>\n",
    "**Remove fields that filled in by the portal upon submission**"
   ]
  },
  {
   "cell_type": "code",
   "execution_count": null,
   "metadata": {},
   "outputs": [],
   "source": [
    "portal_obs = [\n",
    "    'assay',\n",
    "    'cell_type',\n",
    "    'development_stage',\n",
    "    'disease',\n",
    "    'self_reported_ethnicity',\n",
    "    'organism',\n",
    "    'sex',\n",
    "    'tissue'\n",
    "]\n",
    "\n",
    "portal_var = [\n",
    "    'feature_name',\n",
    "    'feature_reference',\n",
    "    'feature_biotype'\n",
    "]\n",
    "\n",
    "adata.obs.drop(columns=portal_obs, inplace=True)\n",
    "adata.var.drop(columns=portal_var, inplace=True)\n",
    "\n",
    "\n",
    "if adata.raw:\n",
    "    remove_raw_var = [p for p in portal_var if p in adata.raw.var]\n",
    "    if remove_raw_var:\n",
    "        adata.raw.var.drop(columns=remove_raw_var, inplace=True)"
   ]
  },
  {
   "cell_type": "markdown",
   "metadata": {},
   "source": [
    "# Subset matrix  <a class=\"anchor\" id=\"subset\"></a>"
   ]
  },
  {
   "cell_type": "code",
   "execution_count": null,
   "metadata": {},
   "outputs": [],
   "source": [
    "#give me a csv with cell IDs & embeddings\n",
    "#obs_to_keep = cell ID column\n",
    "#set the embeddings in obsm"
   ]
  },
  {
   "cell_type": "code",
   "execution_count": null,
   "metadata": {},
   "outputs": [],
   "source": [
    "obs_to_keep = [i for i in adatasm.obs.index if i.endswith('-1-1') != True]\n",
    "len(obs_to_keep)"
   ]
  },
  {
   "cell_type": "code",
   "execution_count": null,
   "metadata": {},
   "outputs": [],
   "source": [
    "adatasm = adatasm[obs_to_keep, : ]\n",
    "adatasm"
   ]
  },
  {
   "cell_type": "markdown",
   "metadata": {},
   "source": [
    "# obsm"
   ]
  },
  {
   "cell_type": "markdown",
   "metadata": {},
   "source": [
    "**add spatial embeddings based on two columns in obs** <a class=\"anchor\" id=\"set-embed\"></a>"
   ]
  },
  {
   "cell_type": "code",
   "execution_count": null,
   "metadata": {},
   "outputs": [],
   "source": [
    "adata.obsm['X_spatial'] = adata.obs[['xcoord','ycoord']].to_numpy()\n",
    "adata.obs.drop(columns=['xcoord','ycoord'], inplace=True)"
   ]
  },
  {
   "cell_type": "markdown",
   "metadata": {},
   "source": [
    "# layers"
   ]
  },
  {
   "cell_type": "markdown",
   "metadata": {},
   "source": [
    "**move a layer to the raw slot** <a class=\"anchor\" id=\"mv-layer\"></a>"
   ]
  },
  {
   "cell_type": "code",
   "execution_count": null,
   "metadata": {},
   "outputs": [],
   "source": [
    "raw_adata = ad.AnnData(adata.layers['counts'], var=adata.var)\n",
    "adata.raw = raw_adata"
   ]
  },
  {
   "cell_type": "markdown",
   "metadata": {},
   "source": [
    "**delete a layer** <a class=\"anchor\" id=\"del-layer\"></a>"
   ]
  },
  {
   "cell_type": "code",
   "execution_count": null,
   "metadata": {},
   "outputs": [],
   "source": [
    "del adata.layers['counts']"
   ]
  },
  {
   "cell_type": "markdown",
   "metadata": {},
   "source": [
    "# uns"
   ]
  },
  {
   "cell_type": "markdown",
   "metadata": {},
   "source": [
    "**define a field in uns** <a class=\"anchor\" id=\"set-uns\"></a>"
   ]
  },
  {
   "cell_type": "code",
   "execution_count": null,
   "metadata": {},
   "outputs": [],
   "source": [
    "adata.uns['schema_version'] = '3.0.0'\n",
    "adata.uns['default_embedding'] = 'X_umap'"
   ]
  },
  {
   "cell_type": "markdown",
   "metadata": {},
   "source": [
    "**remove a field from uns** <a class=\"anchor\" id=\"del-uns\"></a>"
   ]
  },
  {
   "cell_type": "code",
   "execution_count": null,
   "metadata": {},
   "outputs": [],
   "source": [
    "del adata.uns['X_normalization']"
   ]
  },
  {
   "cell_type": "markdown",
   "metadata": {},
   "source": [
    "# obs"
   ]
  },
  {
   "cell_type": "markdown",
   "metadata": {},
   "source": [
    "**Remove columns**  <a class=\"anchor\" id=\"del-obs\"></a>"
   ]
  },
  {
   "cell_type": "code",
   "execution_count": null,
   "metadata": {},
   "outputs": [],
   "source": [
    "obs_remove = [\n",
    "    'author_tissue',\n",
    "    'Assay',\n",
    "    'method',\n",
    "    'donor_age'\n",
    "]\n",
    "\n",
    "obs_remove = [o for o in obs_remove if o in adata.obs.columns]\n",
    "adata.obs.drop(columns=obs_remove, inplace=True)\n",
    "if obs_remove:\n",
    "    print('removed: ' + ','.join(obs_remove))"
   ]
  },
  {
   "cell_type": "markdown",
   "metadata": {},
   "source": [
    "**change column names**  <a class=\"anchor\" id=\"rn-obs\"></a>"
   ]
  },
  {
   "cell_type": "code",
   "execution_count": null,
   "metadata": {},
   "outputs": [],
   "source": [
    "rename_me = {\n",
    "    'cell_type': 'author_cell_type',\n",
    "    'ethnicity_ontology_id': 'self_reported_ethnicity_ontology_term_id',\n",
    "    'disease_ontology_id': 'disease_ontology_term_id'\n",
    "}\n",
    "\n",
    "adata.obs.rename(columns=rename_me, inplace=True)"
   ]
  },
  {
   "cell_type": "markdown",
   "metadata": {},
   "source": [
    "**replace specified values in specified columns** <a class=\"anchor\" id=\"rp-obs\"></a>"
   ]
  },
  {
   "cell_type": "code",
   "execution_count": null,
   "metadata": {},
   "outputs": [],
   "source": [
    "replace_me = {\n",
    "    'organism_ontology_term_id':{'human': 'NCBITaxon:9606', 'mouse': 'NCBITaxon:10090'},\n",
    "    'assay_ontology_term_id': {'EFO:0030003': 'EFO:0009899'}\n",
    "}\n",
    "\n",
    "adata.obs.replace(replace_me,inplace=True)"
   ]
  },
  {
   "cell_type": "markdown",
   "metadata": {},
   "source": [
    "**set a column with all the same values**  <a class=\"anchor\" id=\"set-obs\"></a>"
   ]
  },
  {
   "cell_type": "code",
   "execution_count": null,
   "metadata": {},
   "outputs": [],
   "source": [
    "adata.obs['is_primary_data'] = True\n",
    "adata.obs['suspension_type'] = 'nucleus'"
   ]
  },
  {
   "cell_type": "markdown",
   "metadata": {},
   "source": [
    "**fill null values of a specific column with a specified value**  <a class=\"anchor\" id=\"fillna-obs\"></a>"
   ]
  },
  {
   "cell_type": "code",
   "execution_count": null,
   "metadata": {},
   "outputs": [],
   "source": [
    "adata.obs['sex_ontology_term_id'].cat.add_categories('unknown', inplace=True)\n",
    "adata.obs.fillna({'sex_ontology_term_id': 'unknown'}, inplace=True)"
   ]
  },
  {
   "cell_type": "markdown",
   "metadata": {},
   "source": [
    "**Update a gradient field to categorical** <a class=\"anchor\" id=\"cat-obs\"></a>"
   ]
  },
  {
   "cell_type": "code",
   "execution_count": null,
   "metadata": {},
   "outputs": [],
   "source": [
    "adata.obs['cluster_id'] = adata.obs['cluster_id'].map(str)"
   ]
  },
  {
   "cell_type": "markdown",
   "metadata": {},
   "source": [
    "**adjust the values in a specific column in a standard way with a function** <a class=\"anchor\" id=\"typo-obs\"></a>"
   ]
  },
  {
   "cell_type": "code",
   "execution_count": null,
   "metadata": {},
   "outputs": [],
   "source": [
    "def fix_typo(x):\n",
    "    return x.replace('_',':')\n",
    "\n",
    "\n",
    "adata.obs['development_stage_ontology_term_id'] = adata.obs['development_stage_ontology_term_id'].apply(fix_typo)"
   ]
  },
  {
   "cell_type": "markdown",
   "metadata": {},
   "source": [
    "**Add a new column mapped from another- with Dictionary** <a class=\"anchor\" id=\"add-dict-obs\"></a>"
   ]
  },
  {
   "cell_type": "code",
   "execution_count": null,
   "metadata": {},
   "outputs": [],
   "source": [
    "donor_map = {\n",
    "    'KL001': 'P21',\n",
    "    'KL002': 'P22',\n",
    "    'KL003': 'P23'\n",
    "}\n",
    "\n",
    "adata.obs['donor_id'] = adata.obs['sample'].map(donor_map)\n",
    "adata.obs[['donor_id','sample']].value_counts(dropna=False)"
   ]
  },
  {
   "cell_type": "markdown",
   "metadata": {},
   "source": [
    "***Add a new column mapped from another - with Google Sheet** <a class=\"anchor\" id=\"add-gs-obs\"></a>\\\n",
    "**Step 1:** get the values to map from"
   ]
  },
  {
   "cell_type": "code",
   "execution_count": null,
   "metadata": {},
   "outputs": [],
   "source": [
    "for k in adata.obs['author_cell_type'].unique():\n",
    "    print(k)"
   ]
  },
  {
   "cell_type": "markdown",
   "metadata": {},
   "source": [
    "**Step 2** set up a dataframe with the mapping from a Google Sheet\\\n",
    "*Google Sheet permissions must be Anyone with Link is a Viewer*"
   ]
  },
  {
   "cell_type": "code",
   "execution_count": null,
   "metadata": {},
   "outputs": [],
   "source": [
    "sheet_id = '15oG8v5BS6HMPqCehYQcujMZUq9PgQNpo8osKhO7yA5o'\n",
    "tab_name = 'Sheet1'\n",
    "url = f'https://docs.google.com/spreadsheets/d/{sheet_id}/gviz/tq?tqx=out:csv&sheet={tab_name}'\n",
    "ct_df = pd.read_csv(url)\n",
    "ct_df"
   ]
  },
  {
   "cell_type": "markdown",
   "metadata": {},
   "source": [
    "**Step 3:** merge the dataframe into obs\\\n",
    "*`how='left'` is critical to ensure obs order is retained\\\n",
    "`set_index` is critical to ensure the index is retained*"
   ]
  },
  {
   "cell_type": "code",
   "execution_count": null,
   "metadata": {},
   "outputs": [],
   "source": [
    "adata.obs = adata.obs.merge(ct_df, on='author_cell_type',how='left').set_index(adata.obs.index)"
   ]
  },
  {
   "cell_type": "markdown",
   "metadata": {},
   "source": [
    "# var"
   ]
  },
  {
   "cell_type": "markdown",
   "metadata": {},
   "source": [
    "**Remove columns** <a class=\"anchor\" id=\"del-var\"></a>"
   ]
  },
  {
   "cell_type": "code",
   "execution_count": null,
   "metadata": {},
   "outputs": [],
   "source": [
    "adata.var.drop(columns=['gene_symbols'], inplace=True)"
   ]
  },
  {
   "cell_type": "markdown",
   "metadata": {},
   "source": [
    "**set a column with all the same values** <a class=\"anchor\" id=\"set-var\"></a>"
   ]
  },
  {
   "cell_type": "code",
   "execution_count": null,
   "metadata": {},
   "outputs": [],
   "source": [
    "adata.var['feature_is_filtered'] = False"
   ]
  },
  {
   "cell_type": "markdown",
   "metadata": {},
   "source": [
    "**Add a new column mapped from another - with function** <a class=\"anchor\" id=\"typo-var\"></a>"
   ]
  },
  {
   "cell_type": "code",
   "execution_count": null,
   "metadata": {},
   "outputs": [],
   "source": [
    "adata.var['gene_id'] = adata.var['ensembl_version'].apply(lambda x: x.split('.')[0])"
   ]
  },
  {
   "cell_type": "markdown",
   "metadata": {},
   "source": [
    "**Set a column as the index** <a class=\"anchor\" id=\"index-var\"></a>"
   ]
  },
  {
   "cell_type": "code",
   "execution_count": null,
   "metadata": {},
   "outputs": [],
   "source": [
    "adata.var.set_index('gene_id', inplace=True)"
   ]
  },
  {
   "cell_type": "markdown",
   "metadata": {},
   "source": [
    "**Map Ensembl IDs from symbols using a reference annotation** <a class=\"anchor\" id=\"id-map-var\"></a>"
   ]
  },
  {
   "cell_type": "markdown",
   "metadata": {},
   "source": [
    "**If CellRanger may have been used for alignment, check against the default CellRanger references for matches in order to inform symbol-to-ID mapping**"
   ]
  },
  {
   "cell_type": "code",
   "execution_count": null,
   "metadata": {},
   "outputs": [],
   "source": [
    "CR_12 = 'refdata-cellranger-GRCh38-1_2_0_genes_gtf.tsv'\n",
    "CR_30 = 'refdata-cellranger-GRCh38-3_0_0_genes_gtf.tsv'\n",
    "CR_2020 = 'refdata-gex-GRCh38-2020-A_genes_gtf.tsv'\n",
    "CR_hg19 = 'refdata-cellranger-hg19-1_2_0_genes_gtf.tsv'\n",
    "for v in [CR_12,CR_30,CR_2020,CR_hg19]:\n",
    "    map_df = pd.read_csv(v, sep='\\t')\n",
    "    print(v)\n",
    "    print(adata.var.merge(map_df,left_index=True,right_on='gene_symbols',how='inner').shape[0])\n",
    "    print('----------')"
   ]
  },
  {
   "cell_type": "code",
   "execution_count": null,
   "metadata": {},
   "outputs": [],
   "source": [
    "var_mapping_file = CR_12"
   ]
  },
  {
   "cell_type": "markdown",
   "metadata": {},
   "source": [
    "**Fill in the mapping file to use to map symbols to Ensembl IDs**<br>\n",
    "*Expecting a .tsv with columns `gene_symbols` & `gene_ids`*"
   ]
  },
  {
   "cell_type": "code",
   "execution_count": null,
   "metadata": {},
   "outputs": [],
   "source": [
    "#make a tsv from a gtf"
   ]
  },
  {
   "cell_type": "code",
   "execution_count": null,
   "metadata": {},
   "outputs": [],
   "source": [
    "var_mapping_file = 'refdata-cellranger-GRCh38-3_0_0_genes_gtf.tsv'"
   ]
  },
  {
   "cell_type": "markdown",
   "metadata": {},
   "source": [
    "**View what features are not mapped in this**<br>\n",
    "*Check for typos or other alterations to the symbols that can be fixed*<br>\n",
    "*Common to see many ending in `.1` or `-1` resulting from duplicated symbols in the reference*"
   ]
  },
  {
   "cell_type": "code",
   "execution_count": null,
   "metadata": {},
   "outputs": [],
   "source": [
    "var_map_df = pd.read_csv(var_mapping_file, sep='\\t')\n",
    "adata.var[adata.var.index.isin(var_map_df['gene_symbols']) != True]"
   ]
  },
  {
   "cell_type": "markdown",
   "metadata": {},
   "source": [
    "**Map the Ensembl IDs**"
   ]
  },
  {
   "cell_type": "code",
   "execution_count": null,
   "metadata": {},
   "outputs": [],
   "source": [
    "adata.var = adata.var.merge(var_map_df,left_index=True,right_on='gene_symbols',how='left').set_index(adata.var.index)"
   ]
  },
  {
   "cell_type": "markdown",
   "metadata": {},
   "source": [
    "**Filter out genes that don't appear in the approved annotation**"
   ]
  },
  {
   "cell_type": "markdown",
   "metadata": {},
   "source": [
    "**Create the list of approved IDs to filter on**<br>\n",
    "*For the initial run, download the 4 genes_ csv files from https://github.com/chanzuckerberg/single-cell-curation/tree/main/cellxgene_schema_cli/cellxgene_schema/ontology_files*<br>\n",
    "*After that, if the `genes_approved.csv` is available locally, then the 4 genes_ files won't be necessary*"
   ]
  },
  {
   "cell_type": "code",
   "execution_count": null,
   "metadata": {},
   "outputs": [],
   "source": [
    "ref_files = [\n",
    "    'genes_ercc.csv',\n",
    "    'genes_homo_sapiens.csv',\n",
    "    'genes_mus_musculus.csv',\n",
    "    'genes_sars_cov_2.csv'\n",
    "]\n",
    "\n",
    "if not os.path.exists('genes_approved.csv'):\n",
    "    ids = pd.DataFrame()\n",
    "    for f in ref_files:\n",
    "        df = pd.read_csv(f, names=['feature_id','symb','num','length'],dtype='str',index_col=False)\n",
    "        ids = ids.append(df)\n",
    "        os.remove(f)\n",
    "    ids.to_csv('genes_approved.csv', index=False)\n",
    "\n",
    "approved = pd.read_csv('genes_approved.csv',dtype='str')"
   ]
  },
  {
   "cell_type": "code",
   "execution_count": null,
   "metadata": {},
   "outputs": [],
   "source": [
    "var_to_keep = adata.var.index.tolist()\n",
    "var_in_approved = adata.var.index[adata.var.index.isin(approved['feature_id'])].tolist()\n",
    "var_to_keep = [e for e in var_to_keep if e in var_in_approved]\n",
    "adata = adata[:, var_to_keep]"
   ]
  },
  {
   "cell_type": "markdown",
   "metadata": {},
   "source": [
    "**Repeat much of the same steps for the `raw.var`, if it exists**"
   ]
  },
  {
   "cell_type": "code",
   "execution_count": null,
   "metadata": {},
   "outputs": [],
   "source": [
    "raw_adata = ad.AnnData(adata.raw.X, var=adata.raw.var, obs=adata.obs)\n",
    "\n",
    "raw_adata.var = raw_adata.var.merge(var_map_df,left_index=True,right_on='gene_symbols',how='left').set_index(raw_adata.var.index)\n",
    "\n",
    "raw_adata = raw_adata[:, var_to_keep]\n",
    "adata.raw = raw_adata\n",
    "\n",
    "adata.raw.var"
   ]
  },
  {
   "cell_type": "markdown",
   "metadata": {},
   "source": [
    "**Fill genes that are present in raw but not in X** <a class=\"anchor\" id=\"fill-filt-var\"></a>"
   ]
  },
  {
   "cell_type": "code",
   "execution_count": null,
   "metadata": {},
   "outputs": [],
   "source": [
    "genes_add = [e for e in adata.raw.var.index if e not in adata.var.index]\n",
    "\n",
    "new_matrix = sparse.csr_matrix((adata.X.data, adata.X.indices, adata.X.indptr), shape = adata.raw.shape)\n",
    "\n",
    "all_genes = adata.var.index.to_list()\n",
    "all_genes.extend(genes_add)\n",
    "\n",
    "new_var = pd.DataFrame(index=all_genes)\n",
    "new_var = pd.merge(new_var, adata.var, left_index=True, right_index=True, how='left')\n",
    "new_var.loc[genes_add, 'feature_is_filtered'] = True\n",
    "new_adata = ad.AnnData(X=new_matrix, obs=adata.obs, var=new_var, uns=adata.uns, obsm=adata.obsm, raw = adata.raw)\n",
    "new_adata = new_adata[:,adata.raw.var.index.to_list()]\n",
    "adata = new_adata\n",
    "\n",
    "for c in ['feature_is_filtered']:\n",
    "    adata.var[c] = adata.var[c].astype('bool')"
   ]
  }
 ],
 "metadata": {
  "kernelspec": {
   "display_name": "Python 3 (ipykernel)",
   "language": "python",
   "name": "python3"
  },
  "language_info": {
   "codemirror_mode": {
    "name": "ipython",
    "version": 3
   },
   "file_extension": ".py",
   "mimetype": "text/x-python",
   "name": "python",
   "nbconvert_exporter": "python",
   "pygments_lexer": "ipython3",
   "version": "3.9.16"
  }
 },
 "nbformat": 4,
 "nbformat_minor": 4
}
