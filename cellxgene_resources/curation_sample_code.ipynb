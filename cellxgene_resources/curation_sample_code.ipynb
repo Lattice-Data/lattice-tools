{
 "cells": [
  {
   "cell_type": "markdown",
   "metadata": {},
   "source": [
    "**This notebook provides code samples to be used to manipulate AnnData objects towards CELLxGENE curation\\\n",
    "It is not intended to be used as a single coherent workflow**"
   ]
  },
  {
   "cell_type": "markdown",
   "metadata": {},
   "source": [
    "# data layers"
   ]
  },
  {
   "cell_type": "markdown",
   "metadata": {},
   "source": [
    "**move a layer to the raw slot**"
   ]
  },
  {
   "cell_type": "code",
   "execution_count": null,
   "metadata": {},
   "outputs": [],
   "source": [
    "raw_adata = ad.AnnData(adata.layers['counts'], var=adata.var, obs=adata.obs)\n",
    "adata.raw = raw_adata"
   ]
  },
  {
   "cell_type": "markdown",
   "metadata": {},
   "source": [
    "**delete a layer**"
   ]
  },
  {
   "cell_type": "code",
   "execution_count": null,
   "metadata": {},
   "outputs": [],
   "source": [
    "del adata.layers['counts']"
   ]
  },
  {
   "cell_type": "markdown",
   "metadata": {},
   "source": [
    "# obsm"
   ]
  },
  {
   "cell_type": "markdown",
   "metadata": {},
   "source": [
    "**update uns.default_embedding**\\\n",
    "Ideally, the default_embedding matches the figures in the paper"
   ]
  },
  {
   "cell_type": "code",
   "execution_count": null,
   "metadata": {},
   "outputs": [],
   "source": [
    "adata.uns['default_embedding'] = 'X_umap'"
   ]
  },
  {
   "cell_type": "markdown",
   "metadata": {},
   "source": [
    "**add spatial embeddings based on two columns in obs**"
   ]
  },
  {
   "cell_type": "code",
   "execution_count": null,
   "metadata": {},
   "outputs": [],
   "source": [
    "adata.obsm['X_spatial'] = adata.obs[['xcoord','ycoord']].to_numpy()"
   ]
  },
  {
   "cell_type": "markdown",
   "metadata": {},
   "source": [
    "# uns"
   ]
  },
  {
   "cell_type": "markdown",
   "metadata": {},
   "source": [
    "**define a field in uns**"
   ]
  },
  {
   "cell_type": "code",
   "execution_count": null,
   "metadata": {},
   "outputs": [],
   "source": [
    "adata.uns['schema_version'] = '3.0.0'"
   ]
  },
  {
   "cell_type": "markdown",
   "metadata": {},
   "source": [
    "**remove a field from uns**"
   ]
  },
  {
   "cell_type": "code",
   "execution_count": null,
   "metadata": {},
   "outputs": [],
   "source": [
    "del adata.uns['X_normalization']"
   ]
  },
  {
   "cell_type": "markdown",
   "metadata": {},
   "source": [
    "# obs / var"
   ]
  },
  {
   "cell_type": "markdown",
   "metadata": {},
   "source": [
    "**set a column with all the same values**"
   ]
  },
  {
   "cell_type": "code",
   "execution_count": null,
   "metadata": {},
   "outputs": [],
   "source": [
    "adata.obs['is_primary_data'] = True\n",
    "adata.obs['suspension_type'] = 'nucleus'\n",
    "####################\n",
    "adata.var['feature_is_filtered'] = False"
   ]
  },
  {
   "cell_type": "markdown",
   "metadata": {},
   "source": [
    "**Remove columns**"
   ]
  },
  {
   "cell_type": "code",
   "execution_count": null,
   "metadata": {},
   "outputs": [],
   "source": [
    "var_remove = [\n",
    "    'gene_symbols'\n",
    "]\n",
    "\n",
    "adata.var.drop(columns=var_remove, inplace=True)\n",
    "####################\n",
    "obs_remove = [\n",
    "    'tissue',\n",
    "    'organism',\n",
    "    'self_reported_ethnicity',\n",
    "    'assay',\n",
    "    'disease',\n",
    "    'sex',\n",
    "    'cell_type',\n",
    "    'development_stage'\n",
    "]\n",
    "\n",
    "obs_remove = [o for o in obs_remove if o in adata.obs.columns]\n",
    "adata.obs.drop(columns=obs_remove, inplace=True)\n",
    "if obs_remove:\n",
    "    print('removed: ' + ','.join(obs_remove))"
   ]
  },
  {
   "cell_type": "markdown",
   "metadata": {},
   "source": [
    "**change column names**"
   ]
  },
  {
   "cell_type": "code",
   "execution_count": null,
   "metadata": {},
   "outputs": [],
   "source": [
    "rename_me = {\n",
    "    'cell_type': 'author_cell_type',\n",
    "    'ethnicity_ontology_id': 'self_reported_ethnicity_ontology_term_id',\n",
    "    'disease_ontology_id': 'disease_ontology_term_id'\n",
    "}\n",
    "\n",
    "adata.obs.rename(columns=rename_me, inplace=True)"
   ]
  },
  {
   "cell_type": "markdown",
   "metadata": {},
   "source": [
    "# obs"
   ]
  },
  {
   "cell_type": "markdown",
   "metadata": {},
   "source": [
    "**fill null values of a specific column with a specified value**"
   ]
  },
  {
   "cell_type": "code",
   "execution_count": null,
   "metadata": {},
   "outputs": [],
   "source": [
    "adata.obs['sex_ontology_term_id'].cat.add_categories('unknown', inplace=True)\n",
    "adata.obs.fillna({'sex_ontology_term_id': 'unknown'}, inplace=True)"
   ]
  },
  {
   "cell_type": "markdown",
   "metadata": {},
   "source": [
    "**adjust the values in a specific column in a standard way with a function**"
   ]
  },
  {
   "cell_type": "code",
   "execution_count": null,
   "metadata": {},
   "outputs": [],
   "source": [
    "def fix_typo(x):\n",
    "    return x.replace('_',':')\n",
    "\n",
    "\n",
    "adata.obs['development_stage_ontology_term_id'] = adata.obs['development_stage_ontology_term_id'].apply(fix_typo)"
   ]
  },
  {
   "cell_type": "markdown",
   "metadata": {},
   "source": [
    "**replace specified values in specified columns**"
   ]
  },
  {
   "cell_type": "code",
   "execution_count": null,
   "metadata": {},
   "outputs": [],
   "source": [
    "replace_me = {\n",
    "    'organism_ontology_term_id':{'human':'NCBITaxon:9606', 'mouse': 'NCBITaxon:10090'},\n",
    "    'assay_ontology_term_id': {'EFO:0030003': 'EFO:0009899'}\n",
    "}\n",
    "\n",
    "adata.obs.replace(replace_me,inplace=True)"
   ]
  },
  {
   "cell_type": "markdown",
   "metadata": {},
   "source": [
    "**add a new column with values based on values in an existing column - with DataFrame**\\\n",
    "**Step 1:** get the values to map from"
   ]
  },
  {
   "cell_type": "code",
   "execution_count": null,
   "metadata": {},
   "outputs": [],
   "source": [
    "for k in adata.obs['author_cell_type'].unique():\n",
    "    print(k)"
   ]
  },
  {
   "cell_type": "markdown",
   "metadata": {},
   "source": [
    "**Step 2 - Option A:** set up a dataframe with the mapping from a dictionary"
   ]
  },
  {
   "cell_type": "code",
   "execution_count": null,
   "metadata": {},
   "outputs": [],
   "source": [
    "#map in values based on another field - step 2: set up a dataframe with the mapping\n",
    "#option A: from dict\n",
    "celltypes = {\n",
    "    'Myeloid': 'CL:0001082',\n",
    "    'Endothelial': 'CL:0010008',\n",
    "    'Fibroblast': 'CL:0002548',\n",
    "    'Cardiomyocyte': 'CL:0000513',\n",
    "    'Pericyte': 'CL:0000669',\n",
    "    'Lymphoid': 'CL:0000838',\n",
    "    'Cycling cells': 'CL:0000003',\n",
    "    'vSMCs': 'CL:0000514',\n",
    "    'Neuronal': 'CL:0000006'\n",
    "}\n",
    "\n",
    "ct_df = pd.DataFrame.from_dict(celltypes,orient='index',columns=['cell_type_ontology_term_id']).reset_index().rename(columns={'index':'author_cell_type'})\n",
    "ct_df"
   ]
  },
  {
   "cell_type": "markdown",
   "metadata": {},
   "source": [
    "**Step 2 - Option B:** set up a dataframe with the mapping from a Google Sheet\\\n",
    "*Google Sheet permissions must be Anyone with Link is a Viewer*"
   ]
  },
  {
   "cell_type": "code",
   "execution_count": null,
   "metadata": {},
   "outputs": [],
   "source": [
    "sheet_id = '15oG8v5BS6HMPqCehYQcujMZUq9PgQNpo8osKhO7yA5o'\n",
    "tab_name = 'Sheet1'\n",
    "url = f'https://docs.google.com/spreadsheets/d/{sheet_id}/gviz/tq?tqx=out:csv&sheet={tab_name}'\n",
    "ct_df = pd.read_csv(url)\n",
    "ct_df"
   ]
  },
  {
   "cell_type": "markdown",
   "metadata": {},
   "source": [
    "**Step 3:** merge the dataframe into obs\\\n",
    "*`how='left'` is critical to ensure obs order is retained\\\n",
    "`set_index` is critical to ensure the index is retained*"
   ]
  },
  {
   "cell_type": "code",
   "execution_count": null,
   "metadata": {},
   "outputs": [],
   "source": [
    "adata.obs = adata.obs.merge(ct_df, on='author_cell_type',how='left').set_index(adata.obs.index)"
   ]
  },
  {
   "cell_type": "markdown",
   "metadata": {},
   "source": [
    "**add a new column with values based on values in an existing column - with Dictionary**"
   ]
  },
  {
   "cell_type": "code",
   "execution_count": null,
   "metadata": {},
   "outputs": [],
   "source": [
    "donor_map = {\n",
    "    'KL001': 'P21',\n",
    "    'KL002': 'P22',\n",
    "    'KL003': 'P23'\n",
    "}\n",
    "\n",
    "adata.obs['donor_id'] = adata.obs['sample'].map(donor_map)\n",
    "adata.obs[['donor_id','sample']].value_counts(dropna=False)"
   ]
  },
  {
   "cell_type": "markdown",
   "metadata": {},
   "source": [
    "**Update a gradient field to categorical**"
   ]
  },
  {
   "cell_type": "code",
   "execution_count": null,
   "metadata": {},
   "outputs": [],
   "source": [
    "adata.obs['cluster_id'] = adata.obs['cluster_id'].map(str)"
   ]
  },
  {
   "cell_type": "markdown",
   "metadata": {},
   "source": [
    "# var"
   ]
  },
  {
   "cell_type": "markdown",
   "metadata": {},
   "source": [
    "**Add a column for Gene IDs based on a column with Gene *version* IDs**"
   ]
  },
  {
   "cell_type": "code",
   "execution_count": null,
   "metadata": {},
   "outputs": [],
   "source": [
    "adata.var['gene_ids'] = adata.var['ensembl'].apply(lambda x: x.split('.')[0])"
   ]
  },
  {
   "cell_type": "markdown",
   "metadata": {},
   "source": [
    "**Fill in the mapping file to use to map symbols to Ensembl IDs**<br>\n",
    "*Expecting a .tsv with columns `gene_symbols` & `gene_ids`*"
   ]
  },
  {
   "cell_type": "code",
   "execution_count": null,
   "metadata": {},
   "outputs": [],
   "source": [
    "var_mapping_file = 'refdata-cellranger-GRCh38-3_0_0_genes_gtf.tsv'"
   ]
  },
  {
   "cell_type": "markdown",
   "metadata": {},
   "source": [
    "**View what features are not mapped in this**<br>\n",
    "*Check for typos or other alterations to the symbols that can be fixed*<br>\n",
    "*Common to see many ending in `.1` or `-1` resulting from duplicated symbols in the reference*"
   ]
  },
  {
   "cell_type": "code",
   "execution_count": null,
   "metadata": {},
   "outputs": [],
   "source": [
    "var_map_df = pd.read_csv(var_mapping_file, sep='\\t')\n",
    "adata.var[adata.var.index.isin(var_map_df['gene_symbols']) != True]"
   ]
  },
  {
   "cell_type": "markdown",
   "metadata": {},
   "source": [
    "**Create the list of approved IDs to filter on**<br>\n",
    "*For the initial run, download the 4 genes_ csv files from https://github.com/chanzuckerberg/single-cell-curation/tree/main/cellxgene_schema_cli/cellxgene_schema/ontology_files*<br>\n",
    "*After that, if the `genes_approved.csv` is available locally, then the 4 genes_ files won't be necessary*"
   ]
  },
  {
   "cell_type": "code",
   "execution_count": null,
   "metadata": {},
   "outputs": [],
   "source": [
    "ref_files = [\n",
    "    'genes_ercc.csv',\n",
    "    'genes_homo_sapiens.csv',\n",
    "    'genes_mus_musculus.csv',\n",
    "    'genes_sars_cov_2.csv'\n",
    "]\n",
    "\n",
    "if not os.path.exists('genes_approved.csv'):\n",
    "    ids = pd.DataFrame()\n",
    "    for f in ref_files:\n",
    "        df = pd.read_csv(f, names=['feature_id','symb','num','length'],dtype='str',index_col=False)\n",
    "        ids = ids.append(df)\n",
    "        os.remove(f)\n",
    "    ids.to_csv('genes_approved.csv', index=False)\n",
    "\n",
    "approved = pd.read_csv('genes_approved.csv',dtype='str')"
   ]
  },
  {
   "cell_type": "markdown",
   "metadata": {},
   "source": [
    "**Map the Ensembl IDs**"
   ]
  },
  {
   "cell_type": "code",
   "execution_count": null,
   "metadata": {},
   "outputs": [],
   "source": [
    "adata.var = adata.var.merge(var_map_df,left_index=True,right_on='gene_symbols',how='left').set_index(adata.var.index)"
   ]
  },
  {
   "cell_type": "markdown",
   "metadata": {},
   "source": [
    "**Filter out genes that don't appear in the approved annotation**"
   ]
  },
  {
   "cell_type": "code",
   "execution_count": null,
   "metadata": {},
   "outputs": [],
   "source": [
    "var_to_keep = adata.var.index.tolist()\n",
    "var_in_approved = adata.var.index[adata.var['gene_ids'].isin(approved['feature_id'])].tolist()\n",
    "var_to_keep = [e for e in var_to_keep if e in var_in_approved]\n",
    "adata = adata[:, var_to_keep]\n",
    "adata.var.set_index('gene_ids',inplace=True)"
   ]
  },
  {
   "cell_type": "markdown",
   "metadata": {},
   "source": [
    "**Repeat much of the same steps for the `raw.var`, if it exists**"
   ]
  },
  {
   "cell_type": "code",
   "execution_count": null,
   "metadata": {},
   "outputs": [],
   "source": [
    "raw_var_remove = [\n",
    "    'gene_symbols'\n",
    "]\n",
    "adata.raw.var.drop(columns=raw_var_remove, inplace=True)\n",
    "\n",
    "raw_adata = ad.AnnData(adata.raw.X, var=adata.raw.var, obs=adata.obs)\n",
    "\n",
    "raw_adata.var = raw_adata.var.merge(var_map_df,left_index=True,right_on='gene_symbols',how='left').set_index(raw_adata.var.index)\n",
    "\n",
    "raw_adata = raw_adata[:, var_to_keep]\n",
    "raw_adata.var.set_index('gene_ids',inplace=True)\n",
    "adata.raw = raw_adata\n",
    "adata.raw.var"
   ]
  },
  {
   "cell_type": "code",
   "execution_count": null,
   "metadata": {},
   "outputs": [],
   "source": []
  }
 ],
 "metadata": {
  "kernelspec": {
   "display_name": "Python 3 (ipykernel)",
   "language": "python",
   "name": "python3"
  },
  "language_info": {
   "codemirror_mode": {
    "name": "ipython",
    "version": 3
   },
   "file_extension": ".py",
   "mimetype": "text/x-python",
   "name": "python",
   "nbconvert_exporter": "python",
   "pygments_lexer": "ipython3",
   "version": "3.10.4"
  }
 },
 "nbformat": 4,
 "nbformat_minor": 4
}
