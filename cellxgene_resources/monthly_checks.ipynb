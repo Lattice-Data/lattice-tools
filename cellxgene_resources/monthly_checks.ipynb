{
 "cells": [
  {
   "cell_type": "code",
   "execution_count": null,
   "id": "7b0ce9fa-67de-4d0c-8507-dce2129d1029",
   "metadata": {},
   "outputs": [],
   "source": [
    "import csv\n",
    "import pandas as pd\n",
    "import requests\n",
    "import time\n",
    "from cellxgene_mods import CxG_API\n",
    "from datetime import datetime\n",
    "from pub_check import *\n",
    "\n",
    "\n",
    "CxG_API.config()\n",
    "\n",
    "pub_collections = CxG_API.get_collections()\n",
    "pub_dataset_ids = [d['dataset_id'] for c in pub_collections for d in c['datasets']]\n",
    "pub_collection_ids = [c['collection_id'] for c in pub_collections]\n",
    "\n",
    "priv_collections = CxG_API.get_collections(visibility='PRIVATE')\n",
    "priv_dataset_ids = [d['dataset_id'] for c in priv_collections for d in c['datasets']]\n",
    "priv_collection_ids = [c['collection_id'] for c in priv_collections]\n",
    "\n",
    "nonrev_priv_collections = [c for c in priv_collections if not c.get('revision_of')]\n",
    "\n",
    "ds_coll = {d['dataset_id']:c['collection_id'] for c in pub_collections + priv_collections for d in c['datasets']}\n",
    "\n",
    "wrk_dir = '/Users/jason/Downloads/'"
   ]
  },
  {
   "cell_type": "markdown",
   "id": "8522b477-aeb5-442b-ba52-8e38b1328440",
   "metadata": {},
   "source": [
    "# DOI review\n",
    "**check for preprints that have been published**"
   ]
  },
  {
   "cell_type": "code",
   "execution_count": null,
   "id": "a3fb4c8f-0174-42da-8f2c-b9f13abbf960",
   "metadata": {},
   "outputs": [],
   "source": [
    "pub_info = []\n",
    "for c in pub_collections + priv_collections:\n",
    "    if c.get('publisher_metadata') and c['publisher_metadata']['journal'] in ['bioRxiv', 'medRxiv']:\n",
    "        r = doi_checker(c['doi'])\n",
    "        pub_info.append(r)\n",
    "pub_df = pd.DataFrame(pub_info)\n",
    "if 'invalid DOI' in pub_df.columns:\n",
    "    display(pub_df[pub_df['invalid DOI'].isna() == False])"
   ]
  },
  {
   "cell_type": "markdown",
   "id": "24bc6755-00e3-4a3f-b451-2f03f1d33eab",
   "metadata": {},
   "source": [
    "**check for Collections that might now have DOIs**"
   ]
  },
  {
   "cell_type": "code",
   "execution_count": null,
   "id": "ac458f7d-f3e8-4627-91c1-10ffcd52e953",
   "metadata": {},
   "outputs": [],
   "source": [
    "for c in pub_collections:\n",
    "    if not c.get('doi'):\n",
    "        dois = pubtator_search(c['collection_id'])\n",
    "        if dois:\n",
    "            print(c['collection_id'], ','.join(dois))\n",
    "        time.sleep(0.5)"
   ]
  },
  {
   "cell_type": "markdown",
   "id": "2ed4b563-2046-42d2-8164-350706dfb156",
   "metadata": {},
   "source": [
    "# long-term private Collections\n",
    "**pull private Collections older than a specified cut-off**"
   ]
  },
  {
   "cell_type": "code",
   "execution_count": null,
   "id": "5700c828-49f2-49bf-bc61-4e9f8eaeac24",
   "metadata": {},
   "outputs": [],
   "source": [
    "year_cutoff = 1.5\n",
    "\n",
    "day_cutoff = 365.25 * year_cutoff\n",
    "today = datetime.today()\n",
    "\n",
    "sorted_collections = sorted(nonrev_priv_collections, key=lambda nonrev_priv_collections: nonrev_priv_collections['created_at'])\n",
    "\n",
    "f = open(f'{wrk_dir}long_private_collections.csv', 'w', encoding='UTF8')\n",
    "\n",
    "writer = csv.writer(f)\n",
    "writer.writerow([\n",
    "    'collection',\n",
    "    'name',\n",
    "    'doi',\n",
    "    'contact name',\n",
    "    'contact email',\n",
    "    'created at',\n",
    "    'number of datasets'\n",
    "])\n",
    "\n",
    "for collection in sorted_collections:\n",
    "    date1 = datetime.strptime(collection['created_at'].split('T')[0], '%Y-%m-%d')\n",
    "    difference = today - date1\n",
    "    gap = difference.days\n",
    "\n",
    "    if gap > day_cutoff:\n",
    "        writer.writerow([\n",
    "            collection['collection_url'],\n",
    "            collection['name'],\n",
    "            collection['doi'],\n",
    "            collection['contact_name'],\n",
    "            collection['contact_email'],                \n",
    "            collection['created_at'],\n",
    "            len(collection['datasets'])\n",
    "        ])\n",
    "\n",
    "f.close()"
   ]
  },
  {
   "cell_type": "markdown",
   "id": "e09a0c47-faa9-4e62-83ad-2b6ae81f5d3f",
   "metadata": {},
   "source": [
    "# private URLs made public\n",
    "**looked for private Collection URLs in PubMed**"
   ]
  },
  {
   "cell_type": "code",
   "execution_count": null,
   "id": "3266a3ed-20d2-4372-a8e7-038cd0f73106",
   "metadata": {},
   "outputs": [],
   "source": [
    "pubtator_res = []\n",
    "for c in priv_collection_ids:\n",
    "    dois = pubtator_search(c)\n",
    "    if dois:\n",
    "        new = {'collection_id':c, 'source': ','.join(dois)}\n",
    "        pubtator_res.append(new)\n",
    "    time.sleep(0.5)"
   ]
  },
  {
   "cell_type": "markdown",
   "id": "ede2167a-a059-4e71-9da7-1359e52fa758",
   "metadata": {},
   "source": [
    "**filter AirTable report for possible private URL sharing**"
   ]
  },
  {
   "cell_type": "code",
   "execution_count": null,
   "id": "aab134a9-aaf3-414a-9596-ef54fea23701",
   "metadata": {},
   "outputs": [],
   "source": [
    "at_export = 'Sources of private collections_datasets-Grid view.csv'\n",
    "df = pd.read_csv(f'{wrk_dir}{at_export}')\n",
    "\n",
    "month = df.loc[0]['time period']\n",
    "ignore_sources = ['lattice.atlassian.net','lattice-data.org','Direct / None']\n",
    "uuid_pattern = '[0-9a-f]{8}-[0-9a-f]{4}-[0-9a-f]{4}-[0-9a-f]{4}-[0-9a-f]{12}'\n",
    "\n",
    "df = df[\n",
    "    (df['time period'] == month) &\n",
    "    (df['source'].isin(ignore_sources) == False) &\n",
    "    (df['url'].str.contains(uuid_pattern))\n",
    "]\n",
    "df.drop(columns=['dataset name','time period'], inplace=True)\n",
    "\n",
    "act = df[df['url'].str.startswith('/collections/')]\n",
    "act['collection_id'] = act['url'].apply(lambda x: x.split('/')[2])\n",
    "act = act[act['collection_id'].isin(priv_collection_ids)]\n",
    "\n",
    "ds_df = df[df['url'].str.startswith('/e/')]\n",
    "ds_df['dataset_id'] = ds_df['url'].apply(lambda x: x.split('/')[2].split('.')[0])\n",
    "ds_df = ds_df[ds_df['dataset_id'].isin(priv_dataset_ids)]\n",
    "ds_df['collection_id'] = ds_df['dataset_id'].map(ds_coll)\n",
    "\n",
    "act = pd.concat([act, ds_df, pd.DataFrame(pubtator_res)]).fillna({'visitors':0, 'dataset_id': ''})\n",
    "act = act.groupby('collection_id').agg({\n",
    "    'source': lambda x: ','.join(set(x)),\n",
    "    'dataset_id': lambda x: ','.join(set(x)).strip(','),\n",
    "    'visitors': 'sum'\n",
    "}).sort_values('visitors', ascending=False)\n",
    "act.reset_index(inplace=True)\n",
    "act['collection_url'] = 'https://cellxgene.cziscience.com/collections/' + act['collection_id'].astype(str)\n",
    "act = act[['collection_url','source','visitors','dataset_id']]\n",
    "\n",
    "act.to_csv(f'{wrk_dir}private_URL_{month}.csv', index=False)"
   ]
  },
  {
   "cell_type": "markdown",
   "id": "ec310a96-a5a5-4ace-ae50-1ee35abbdc17",
   "metadata": {},
   "source": [
    "# is_primary_data evaluation"
   ]
  },
  {
   "cell_type": "code",
   "execution_count": null,
   "id": "14814163-7669-46e5-9abd-9778c75089e5",
   "metadata": {},
   "outputs": [],
   "source": []
  },
  {
   "cell_type": "markdown",
   "id": "fcd30bd7-135f-4125-9fdc-130acecef447",
   "metadata": {},
   "source": [
    "# in progress DOIs\n",
    "**generate a report of DOIs currently in private Collections**"
   ]
  },
  {
   "cell_type": "code",
   "execution_count": null,
   "id": "c658f56b-cfc8-4b50-9912-fc8db28b0487",
   "metadata": {},
   "outputs": [],
   "source": [
    "date = today.strftime('%Y_%m_%d')\n",
    "priv_dois = set([\n",
    "    c['doi'] for c in nonrev_priv_collections if c.get('doi')\n",
    "])\n",
    "filename = f'{wrk_dir}cxg_private_dois_{date}.txt'\n",
    "with open(filename, 'w') as file:\n",
    "    for doi in priv_dois:\n",
    "        file.write(f'{doi}\\n')"
   ]
  },
  {
   "cell_type": "code",
   "execution_count": null,
   "id": "34630cfd-0304-4242-a9fc-71ca6198278e",
   "metadata": {},
   "outputs": [],
   "source": []
  }
 ],
 "metadata": {
  "kernelspec": {
   "display_name": "Python 3 (ipykernel)",
   "language": "python",
   "name": "python3"
  },
  "language_info": {
   "codemirror_mode": {
    "name": "ipython",
    "version": 3
   },
   "file_extension": ".py",
   "mimetype": "text/x-python",
   "name": "python",
   "nbconvert_exporter": "python",
   "pygments_lexer": "ipython3",
   "version": "3.11.9"
  }
 },
 "nbformat": 4,
 "nbformat_minor": 5
}
