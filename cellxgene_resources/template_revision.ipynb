{
 "cells": [
  {
   "cell_type": "code",
   "execution_count": null,
   "metadata": {},
   "outputs": [],
   "source": [
    "import anndata as ad\n",
    "import pandas as pd\n",
    "import scanpy as sc\n",
    "from scipy import sparse\n",
    "\n",
    "\n",
    "#update to local directory to hold files\n",
    "download_dir = '/Users/jason/Downloads/'"
   ]
  },
  {
   "cell_type": "code",
   "execution_count": null,
   "metadata": {},
   "outputs": [],
   "source": [
    "#fill in the file name & establish the AnnData object\n",
    "file = 'local'\n",
    "adata = sc.read_h5ad(download_dir + file + '.h5ad',backed='r') #backed='r' assumes metadata updates only\n",
    "adata"
   ]
  },
  {
   "cell_type": "code",
   "execution_count": null,
   "metadata": {},
   "outputs": [],
   "source": [
    "#define the portal-filled fields and remove them\n",
    "portal_obs = [\n",
    "    'assay',\n",
    "    'cell_type',\n",
    "    'development_stage',\n",
    "    'disease',\n",
    "    'ethnicity',\n",
    "    'organism',\n",
    "    'sex',\n",
    "    'tissue'\n",
    "]\n",
    "\n",
    "portal_var = [\n",
    "    'feature_name',\n",
    "    'feature_reference'\n",
    "]\n",
    "\n",
    "adata.obs.drop(columns=portal_obs, inplace=True)\n",
    "adata.var.drop(columns=portal_var, inplace=True)\n",
    "\n",
    "\n",
    "if adata.raw:\n",
    "    remove_raw_var = [p for p in portal_var if p in adata.raw.var]\n",
    "    if remove_raw_var:\n",
    "        adata.raw.var.drop(columns=remove_raw_var, inplace=True)"
   ]
  },
  {
   "cell_type": "code",
   "execution_count": null,
   "metadata": {},
   "outputs": [],
   "source": [
    "#INSERT UPDATES HERE\n"
   ]
  },
  {
   "cell_type": "code",
   "execution_count": null,
   "metadata": {},
   "outputs": [],
   "source": [
    "#plot the cells to ensure they cluster by cell type\n",
    "default_embedding = adata.uns.get('default_embedding',adata.obsm_keys()[0])\n",
    "sc.set_figure_params(dpi=150)\n",
    "sc.pl.embedding(adata, basis=default_embedding, color=['cell_type_ontology_term_id'])"
   ]
  },
  {
   "cell_type": "code",
   "execution_count": null,
   "metadata": {},
   "outputs": [],
   "source": [
    "#write the file\n",
    "new_one = file + '_revised.h5ad'\n",
    "adata.write(filename=download_dir + new_one, compression='gzip')"
   ]
  },
  {
   "cell_type": "code",
   "execution_count": null,
   "metadata": {},
   "outputs": [],
   "source": []
  }
 ],
 "metadata": {
  "kernelspec": {
   "display_name": "Python 3",
   "language": "python",
   "name": "python3"
  },
  "language_info": {
   "codemirror_mode": {
    "name": "ipython",
    "version": 3
   },
   "file_extension": ".py",
   "mimetype": "text/x-python",
   "name": "python",
   "nbconvert_exporter": "python",
   "pygments_lexer": "ipython3",
   "version": "3.7.13"
  }
 },
 "nbformat": 4,
 "nbformat_minor": 4
}
