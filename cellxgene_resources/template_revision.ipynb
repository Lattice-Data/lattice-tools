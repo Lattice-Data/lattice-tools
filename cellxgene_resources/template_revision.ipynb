{
 "cells": [
  {
   "cell_type": "code",
   "execution_count": null,
   "metadata": {},
   "outputs": [],
   "source": [
    "import anndata as ad\n",
    "import pandas as pd\n",
    "import scanpy as sc\n",
    "from scipy import sparse\n",
    "import subprocess"
   ]
  },
  {
   "cell_type": "markdown",
   "metadata": {},
   "source": [
    "# Loading the AnnData object\n",
    "**Update to your local directory where the matrix file is located & the name of the file (without the .h5ad extension)**"
   ]
  },
  {
   "cell_type": "code",
   "execution_count": null,
   "metadata": {},
   "outputs": [],
   "source": [
    "file = 'local'"
   ]
  },
  {
   "cell_type": "markdown",
   "metadata": {},
   "source": [
    "**Load the AnnData object**<br>\n",
    "*`backed='r'` saves memory but assumes metadata updates only*"
   ]
  },
  {
   "cell_type": "code",
   "execution_count": null,
   "metadata": {},
   "outputs": [],
   "source": [
    "adata = sc.read_h5ad(file + '.h5ad',backed='r')\n",
    "adata"
   ]
  },
  {
   "cell_type": "markdown",
   "metadata": {},
   "source": [
    "**Portal fields are defined & removed**"
   ]
  },
  {
   "cell_type": "code",
   "execution_count": null,
   "metadata": {},
   "outputs": [],
   "source": [
    "portal_obs = [\n",
    "    'assay',\n",
    "    'cell_type',\n",
    "    'development_stage',\n",
    "    'disease',\n",
    "    'ethnicity',\n",
    "    'organism',\n",
    "    'sex',\n",
    "    'tissue'\n",
    "]\n",
    "\n",
    "portal_var = [\n",
    "    'feature_name',\n",
    "    'feature_reference'\n",
    "]\n",
    "\n",
    "adata.obs.drop(columns=portal_obs, inplace=True)\n",
    "adata.var.drop(columns=portal_var, inplace=True)\n",
    "\n",
    "\n",
    "if adata.raw:\n",
    "    remove_raw_var = [p for p in portal_var if p in adata.raw.var]\n",
    "    if remove_raw_var:\n",
    "        adata.raw.var.drop(columns=remove_raw_var, inplace=True)"
   ]
  },
  {
   "cell_type": "markdown",
   "metadata": {},
   "source": [
    "# INSERT UPDATES HERE"
   ]
  },
  {
   "cell_type": "code",
   "execution_count": null,
   "metadata": {},
   "outputs": [],
   "source": []
  },
  {
   "cell_type": "markdown",
   "metadata": {},
   "source": [
    "**Plot the cells to ensure they cluster by cell type**"
   ]
  },
  {
   "cell_type": "code",
   "execution_count": null,
   "metadata": {},
   "outputs": [],
   "source": [
    "default_embedding = adata.uns.get('default_embedding',adata.obsm_keys()[0])\n",
    "sc.set_figure_params(dpi=150)\n",
    "sc.pl.embedding(adata, basis=default_embedding, color=['cell_type_ontology_term_id'])"
   ]
  },
  {
   "cell_type": "markdown",
   "metadata": {},
   "source": [
    "**The above plot will set a color palette in uns, so remove that**"
   ]
  },
  {
   "cell_type": "code",
   "execution_count": null,
   "metadata": {},
   "outputs": [],
   "source": [
    "del adata.uns['cell_type_ontology_term_id_colors']"
   ]
  },
  {
   "cell_type": "markdown",
   "metadata": {},
   "source": [
    "**Write the file**"
   ]
  },
  {
   "cell_type": "code",
   "execution_count": null,
   "metadata": {},
   "outputs": [],
   "source": [
    "new_one = file + '_revised.h5ad'\n",
    "adata.write(filename=new_one, compression='gzip')\n",
    "new_one"
   ]
  },
  {
   "cell_type": "markdown",
   "metadata": {},
   "source": [
    "**Run the CELLxGENE validator**"
   ]
  },
  {
   "cell_type": "code",
   "execution_count": null,
   "metadata": {},
   "outputs": [],
   "source": [
    "validate_process = subprocess.run(['cellxgene-schema', 'validate', new_one], stdout=subprocess.PIPE, stderr=subprocess.PIPE)\n",
    "for line in validate_process.stdout.decode('utf-8').split('\\n'):\n",
    "    print(line)\n",
    "for line in validate_process.stderr.decode('utf-8').split('\\n'):\n",
    "    print(line)"
   ]
  }
 ],
 "metadata": {
  "kernelspec": {
   "display_name": "Python 3",
   "language": "python",
   "name": "python3"
  },
  "language_info": {
   "codemirror_mode": {
    "name": "ipython",
    "version": 3
   },
   "file_extension": ".py",
   "mimetype": "text/x-python",
   "name": "python",
   "nbconvert_exporter": "python",
   "pygments_lexer": "ipython3",
   "version": "3.7.13"
  }
 },
 "nbformat": 4,
 "nbformat_minor": 4
}
