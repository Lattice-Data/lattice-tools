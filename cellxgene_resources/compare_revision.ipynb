{
 "cells": [
  {
   "cell_type": "code",
   "execution_count": null,
   "id": "d52e124a-7b4c-4137-ab28-8d400e162e5e",
   "metadata": {},
   "outputs": [],
   "source": [
    "import os\n",
    "import pandas as pd\n",
    "import sys"
   ]
  },
  {
   "cell_type": "markdown",
   "id": "01da4d7f-379f-453e-a173-a45e6ea5cfbb",
   "metadata": {},
   "source": [
    "**Specify the locations of the cloned [single-cell-curation repo](https://github.com/chanzuckerberg/single-cell-curation) & your API key file**"
   ]
  },
  {
   "cell_type": "code",
   "execution_count": null,
   "id": "e3e7312d-32a2-4513-8513-cafeae162de4",
   "metadata": {},
   "outputs": [],
   "source": [
    "scc_repo_loc = os.path.expanduser('~/GitClones/CZI/')\n",
    "api_key_file_path = os.path.expanduser('~/Documents/keys/cxg-api-key.txt')"
   ]
  },
  {
   "cell_type": "code",
   "execution_count": null,
   "id": "75433286-62d2-4c1b-aa42-b03a20b60a94",
   "metadata": {},
   "outputs": [],
   "source": [
    "sys.path.append(os.path.abspath(scc_repo_loc + 'single-cell-curation/notebooks/curation_api/python/'))\n",
    "\n",
    "\n",
    "from src.utils.config import set_api_access_config\n",
    "from src.collection import get_collection"
   ]
  },
  {
   "cell_type": "code",
   "execution_count": null,
   "id": "ce51b59c-c7aa-469e-a87a-1b92eab9e1e3",
   "metadata": {},
   "outputs": [],
   "source": [
    "set_api_access_config(api_key_file_path) #use env='dev' to work on the dev site"
   ]
  },
  {
   "cell_type": "markdown",
   "id": "2230bac5-658b-4ab1-9a5d-7caab3460131",
   "metadata": {},
   "source": [
    "**Specify the Published ID of the Collection (not the Revision ID)**"
   ]
  },
  {
   "cell_type": "code",
   "execution_count": null,
   "id": "bb82f0f9",
   "metadata": {},
   "outputs": [],
   "source": [
    "collection_id = ''"
   ]
  },
  {
   "cell_type": "code",
   "execution_count": null,
   "id": "cb3dd36b",
   "metadata": {},
   "outputs": [],
   "source": [
    "collection = get_collection(collection_id)\n",
    "rev_id = collection['revising_in']\n",
    "rev = get_collection(rev_id)"
   ]
  },
  {
   "cell_type": "code",
   "execution_count": null,
   "id": "acc7c9bf",
   "metadata": {},
   "outputs": [],
   "source": [
    "should_differ = [\n",
    "    'collection_id', 'collection_url', 'collection_version_id',\n",
    "    'created_at', 'revising_in', 'revision_of', 'visibility'\n",
    "]\n",
    "should_be_absent = [\n",
    "    'processing_status'\n",
    "]\n",
    "\n",
    "for k,v in rev.items():\n",
    "    if k not in collection.keys():\n",
    "        if k not in should_be_absent:\n",
    "            print('not present: ' + k)\n",
    "    elif collection.get(k) != v and k not in should_differ:\n",
    "        print('not same: ' + k)\n",
    "        if k not in ['datasets','publisher_metadata']:\n",
    "            print('--- published: ' + v)\n",
    "            print('----- revised: ' + collection[k])"
   ]
  },
  {
   "cell_type": "markdown",
   "id": "d70bdcbe-41cb-466e-9b8d-3b30fc7c3f7e",
   "metadata": {},
   "source": [
    "**If `datasets` differ then continue to parse out how they differ**"
   ]
  },
  {
   "cell_type": "code",
   "execution_count": null,
   "id": "05d23867",
   "metadata": {},
   "outputs": [],
   "source": [
    "should_differ = [\n",
    "    'dataset_version_id','explorer_url','assets','revised_at','citation'\n",
    "]\n",
    "\n",
    "ont_fields = [\n",
    "    'assay','cell_type','development_stage','disease',\n",
    "    'self_reported_ethnicity','sex','tissue'\n",
    "]\n",
    "\n",
    "pub_datasets = {d['dataset_id']: d for d in collection['datasets']}\n",
    "rev_datasets = {d['dataset_id']: d for d in rev['datasets']}\n",
    "\n",
    "comp = {}\n",
    "for ds_id,v in rev_datasets.items():\n",
    "    comp[ds_id] = {'title': v['title']}\n",
    "    if ds_id not in pub_datasets.keys():\n",
    "        comp[ds_id]['in published'] = 'not present'\n",
    "    else:\n",
    "        for prop,rev_val in v.items():\n",
    "            if prop not in should_differ:\n",
    "                pub_val = pub_datasets[ds_id].get(prop)\n",
    "                if prop in ont_fields:\n",
    "                    rev_val = [t['label'] for t in rev_val]\n",
    "                    pub_val = [t['label'] for t in pub_val]\n",
    "                if isinstance(rev_val, list) and prop != 'assets':\n",
    "                    rev_val.sort()\n",
    "                    pub_val.sort()\n",
    "                if pub_val != rev_val:\n",
    "                    if prop == 'mean_genes_per_cell' and round(rev_val, 5) == round(pub_val, 5):\n",
    "                        continue\n",
    "                    comp[ds_id][prop + '_REV'] = rev_val\n",
    "                    comp[ds_id][prop + '_PUB'] = pub_val\n",
    "\n",
    "comp_df = pd.DataFrame(comp).transpose()\n",
    "comp_df = comp_df.dropna(subset=[c for c in comp_df.columns if c != 'title'], how='all')\n",
    "comp_df.fillna('')"
   ]
  },
  {
   "cell_type": "markdown",
   "id": "7f03a4c4-3036-4f79-88c0-26d8125de5c4",
   "metadata": {},
   "source": [
    "**Identify properties to investigate differences between long lists**"
   ]
  },
  {
   "cell_type": "code",
   "execution_count": null,
   "id": "5ef9de56-7568-4c85-8f3a-7c060bdb640b",
   "metadata": {},
   "outputs": [],
   "source": [
    "fields = [\n",
    "    'tissue'\n",
    "]"
   ]
  },
  {
   "cell_type": "code",
   "execution_count": null,
   "id": "b2d7882d-4bbf-4846-a401-229b7479849e",
   "metadata": {},
   "outputs": [],
   "source": [
    "for f in fields:\n",
    "    temp = comp_df[(comp_df[f + '_REV'] != comp_df[f + '_PUB']) & (comp_df[f + '_PUB'].isna() == False)]\n",
    "    for i,row in temp.iterrows():\n",
    "        print(i + '-' + f)\n",
    "        p = row[f + '_PUB']\n",
    "        r = row[f + '_REV']\n",
    "        only_in_pub = [e for e in p if e not in r]\n",
    "        only_in_rev = [e for e in r if e not in p]\n",
    "        print('only in pub:' + ','.join(only_in_pub))\n",
    "        print('only in rev:' + ','.join(only_in_rev))\n",
    "        print('---------')"
   ]
  },
  {
   "cell_type": "code",
   "execution_count": null,
   "id": "03949a5c-0357-4817-a82b-d8e957216781",
   "metadata": {},
   "outputs": [],
   "source": []
  }
 ],
 "metadata": {
  "kernelspec": {
   "display_name": "Python 3 (ipykernel)",
   "language": "python",
   "name": "python3"
  },
  "language_info": {
   "codemirror_mode": {
    "name": "ipython",
    "version": 3
   },
   "file_extension": ".py",
   "mimetype": "text/x-python",
   "name": "python",
   "nbconvert_exporter": "python",
   "pygments_lexer": "ipython3",
   "version": "3.9.18"
  }
 },
 "nbformat": 4,
 "nbformat_minor": 5
}
