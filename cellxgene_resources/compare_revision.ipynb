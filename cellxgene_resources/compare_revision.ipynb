{
 "cells": [
  {
   "cell_type": "code",
   "execution_count": null,
   "id": "d52e124a-7b4c-4137-ab28-8d400e162e5e",
   "metadata": {},
   "outputs": [],
   "source": [
    "import pandas as pd\n",
    "from cellxgene_mods import CxG_API"
   ]
  },
  {
   "cell_type": "markdown",
   "id": "2230bac5-658b-4ab1-9a5d-7caab3460131",
   "metadata": {},
   "source": [
    "**Specify the Published ID of the Collection (not the Revision ID)**"
   ]
  },
  {
   "cell_type": "code",
   "execution_count": null,
   "id": "bb82f0f9",
   "metadata": {},
   "outputs": [],
   "source": [
    "collection_id = ''"
   ]
  },
  {
   "cell_type": "code",
   "execution_count": null,
   "id": "cb3dd36b",
   "metadata": {},
   "outputs": [],
   "source": [
    "collection = CxG_API.get_collection(collection_id)\n",
    "rev_id = collection['revising_in']\n",
    "rev = CxG_API.get_collection(rev_id)"
   ]
  },
  {
   "cell_type": "code",
   "execution_count": null,
   "id": "99d8d05d-1286-47a2-a6a5-2f4fe34fe505",
   "metadata": {},
   "outputs": [],
   "source": [
    "should_differ_collection = [\n",
    "    'collection_id', 'collection_url', 'collection_version_id',\n",
    "    'created_at', 'revising_in', 'revision_of', 'visibility'\n",
    "]\n",
    "should_be_absent = [\n",
    "    'processing_status'\n",
    "]\n",
    "\n",
    "should_differ_dataset = [\n",
    "    'dataset_version_id','explorer_url','assets','revised_at','citation','processing_status'\n",
    "]\n",
    "\n",
    "ont_fields = [\n",
    "    'assay','cell_type','development_stage','disease',\n",
    "    'self_reported_ethnicity','sex','tissue','organism'\n",
    "]"
   ]
  },
  {
   "cell_type": "code",
   "execution_count": null,
   "id": "acc7c9bf",
   "metadata": {},
   "outputs": [],
   "source": [
    "for k,v in rev.items():\n",
    "    if k not in collection.keys():\n",
    "        if k not in should_be_absent:\n",
    "            print('not present: ' + k)\n",
    "    elif collection.get(k) != v and k not in should_differ_collection:\n",
    "        if k == 'datasets':\n",
    "            diff_props = []\n",
    "            pub_datasets = {d['dataset_id']: d for d in collection[k]}\n",
    "            rev_datasets = {d['dataset_id']: d for d in rev[k]}\n",
    "            comp = {}\n",
    "            for ds_id,v in rev_datasets.items():\n",
    "                comp[ds_id] = {'title': v['title']}\n",
    "                if ds_id not in pub_datasets.keys():\n",
    "                    comp[ds_id]['in published'] = 'not present'\n",
    "                else:\n",
    "                    for prop,rev_val in v.items():\n",
    "                        if prop not in should_differ_dataset:\n",
    "                            pub_val = pub_datasets[ds_id].get(prop)\n",
    "                            if prop in ont_fields:\n",
    "                                rev_val = [t['label'] for t in rev_val]\n",
    "                                pub_val = [t['label'] for t in pub_val]\n",
    "                            if isinstance(rev_val, list) and prop != 'assets':\n",
    "                                rev_val.sort()\n",
    "                                pub_val.sort()\n",
    "                            if pub_val != rev_val:\n",
    "                                if prop == 'mean_genes_per_cell' and round(rev_val, 5) == round(pub_val, 5):\n",
    "                                    continue\n",
    "                                diff_props.append(prop)\n",
    "                                comp[ds_id][prop + '_REV'] = rev_val\n",
    "                                comp[ds_id][prop + '_PUB'] = pub_val\n",
    "        else:\n",
    "            print('not same: ' + k)\n",
    "            if k not in ['datasets','publisher_metadata']:\n",
    "                if k in ['links']:\n",
    "                    diff_in_pub = [l for l in collection[k] if l not in v]\n",
    "                    print('--- published: ', diff_in_pub)\n",
    "                    diff_in_rev = [l for l in v if l not in collection[k]]\n",
    "                    print('----- revised: ', diff_in_rev)\n",
    "                else:\n",
    "                    print('--- published: ', str(collection[k]))\n",
    "                    print('----- revised: ', v)\n",
    "\n",
    "\n",
    "comp_df = pd.DataFrame(comp).transpose()\n",
    "comp_df = comp_df.dropna(subset=[c for c in comp_df.columns if c != 'title'], how='all')\n",
    "if not comp_df.empty:\n",
    "    display(comp_df.fillna(''))\n",
    "\n",
    "for f in diff_props:\n",
    "    temp = comp_df[(comp_df[f + '_REV'] != comp_df[f + '_PUB']) & (comp_df[f + '_PUB'].isna() == False)]\n",
    "    for i,row in temp.iterrows():\n",
    "        print(i + '-' + f)\n",
    "        p = row[f + '_PUB']\n",
    "        r = row[f + '_REV']\n",
    "        only_in_pub = [e for e in p if e not in r]\n",
    "        only_in_rev = [e for e in r if e not in p]\n",
    "        print('only in pub:' + ','.join(only_in_pub))\n",
    "        print('only in rev:' + ','.join(only_in_rev))\n",
    "        print('---------')"
   ]
  },
  {
   "cell_type": "code",
   "execution_count": null,
   "id": "03949a5c-0357-4817-a82b-d8e957216781",
   "metadata": {},
   "outputs": [],
   "source": []
  }
 ],
 "metadata": {
  "kernelspec": {
   "display_name": "Python 3 (ipykernel)",
   "language": "python",
   "name": "python3"
  },
  "language_info": {
   "codemirror_mode": {
    "name": "ipython",
    "version": 3
   },
   "file_extension": ".py",
   "mimetype": "text/x-python",
   "name": "python",
   "nbconvert_exporter": "python",
   "pygments_lexer": "ipython3",
   "version": "3.9.18"
  }
 },
 "nbformat": 4,
 "nbformat_minor": 5
}
