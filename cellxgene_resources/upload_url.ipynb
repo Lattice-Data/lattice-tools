{
 "cells": [
  {
   "cell_type": "code",
   "execution_count": null,
   "id": "ec5bfee1-c792-41ec-9ee1-df9bce93c6ba",
   "metadata": {},
   "outputs": [],
   "source": [
    "import os\n",
    "import sys\n",
    "import boto3\n",
    "\n",
    "\n",
    "s3client = boto3.client('s3')"
   ]
  },
  {
   "cell_type": "code",
   "execution_count": null,
   "id": "96c524d6",
   "metadata": {},
   "outputs": [],
   "source": [
    "def create_presigned_url(bucket_name, object_name, expiration=28800):\n",
    "    try:\n",
    "        response = s3client.generate_presigned_url('get_object',\n",
    "                                                    Params={'Bucket': bucket_name,\n",
    "                                                            'Key': object_name},\n",
    "                                                    ExpiresIn=expiration)\n",
    "    except ClientError as e:\n",
    "        logging.error(e)\n",
    "        return None\n",
    "    return response"
   ]
  },
  {
   "cell_type": "markdown",
   "id": "02337314",
   "metadata": {},
   "source": [
    "**Specify the locations of the cloned [single-cell-curation repo](https://github.com/chanzuckerberg/single-cell-curation) & your API key file**"
   ]
  },
  {
   "cell_type": "code",
   "execution_count": null,
   "id": "40fdef3d",
   "metadata": {},
   "outputs": [],
   "source": [
    "scc_repo_loc = os.path.expanduser('~/GitClones/CZI/')\n",
    "api_key_file_path = os.path.expanduser('~/Documents/keys/cxg-api-key.txt')"
   ]
  },
  {
   "cell_type": "code",
   "execution_count": null,
   "id": "7bcd3206",
   "metadata": {},
   "outputs": [],
   "source": [
    "sys.path.append(os.path.abspath(scc_repo + 'single-cell-curation/notebooks/curation_api/python/'))\n",
    "\n",
    "\n",
    "from src.utils.config import set_api_access_config\n",
    "from src.dataset import create_dataset,upload_local_datafile,upload_datafile_from_link\n",
    "from src.collection import get_collection,create_revision"
   ]
  },
  {
   "cell_type": "code",
   "execution_count": null,
   "id": "c299141e",
   "metadata": {},
   "outputs": [],
   "source": [
    "set_api_access_config(api_key_file_path) #use env='dev' to work on the dev site"
   ]
  },
  {
   "cell_type": "markdown",
   "id": "2bf01cc5",
   "metadata": {},
   "source": [
    "**Specify the Collection to upload to**<br>\n",
    "If a Revision, use the Revision ID, not the Published ID"
   ]
  },
  {
   "cell_type": "code",
   "execution_count": null,
   "id": "e9e6043b",
   "metadata": {},
   "outputs": [],
   "source": [
    "collection_id = ''"
   ]
  },
  {
   "cell_type": "code",
   "execution_count": null,
   "id": "02703f4a",
   "metadata": {},
   "outputs": [],
   "source": [
    "coll_datasets = {d['dataset_id']:d['title'] for d in get_collection(collection_id)['datasets']}\n",
    "coll_datasets"
   ]
  },
  {
   "cell_type": "markdown",
   "id": "e47def8d-d640-485a-86c0-c2cb9d5fd8a8",
   "metadata": {},
   "source": [
    "**Specify which Dataset to upload to, or specify `new` to add a Dataset**"
   ]
  },
  {
   "cell_type": "code",
   "execution_count": null,
   "id": "d0fa7d0d-51c7-4ac1-ab1e-003906995920",
   "metadata": {},
   "outputs": [],
   "source": [
    "d = ''"
   ]
  },
  {
   "cell_type": "markdown",
   "id": "823b87f1-447f-4a2d-8401-8b335f1c8ac0",
   "metadata": {},
   "source": [
    "**Specify the bucket, any path directories (as prefix)**"
   ]
  },
  {
   "cell_type": "code",
   "execution_count": null,
   "id": "07ef0bc2",
   "metadata": {},
   "outputs": [],
   "source": [
    "bucket = 'submissions-lattice'\n",
    "prefix = 'cellxgene-curation/'\n",
    "\n",
    "results = s3client.list_objects_v2(Bucket=bucket, Prefix=prefix, Delimiter=\"/\")"
   ]
  },
  {
   "cell_type": "code",
   "execution_count": null,
   "id": "04fb1bdd",
   "metadata": {},
   "outputs": [],
   "source": [
    "for file in results.get('Contents'):\n",
    "    if file.get('Size') == 0:\n",
    "        continue\n",
    "    if file.get('Key').endswith('_revised.h5ad'):\n",
    "        print(file.get('Key'))"
   ]
  },
  {
   "cell_type": "code",
   "execution_count": null,
   "id": "480e11a7",
   "metadata": {},
   "outputs": [],
   "source": [
    "file_key = 'cellxgene-curation/integrated_HBCA_cellxgene_wtissuetype_revised.h5ad'\n",
    "\n",
    "url = create_presigned_url(bucket, file_key)\n",
    "url"
   ]
  },
  {
   "cell_type": "code",
   "execution_count": null,
   "id": "68d89900",
   "metadata": {},
   "outputs": [],
   "source": [
    "if d == 'new':\n",
    "    d = create_dataset(collection_id)\n",
    "upload_datafile_from_link(url, collection_id, d)"
   ]
  },
  {
   "cell_type": "code",
   "execution_count": null,
   "id": "292267fb",
   "metadata": {},
   "outputs": [],
   "source": []
  }
 ],
 "metadata": {
  "kernelspec": {
   "display_name": "Python 3 (ipykernel)",
   "language": "python",
   "name": "python3"
  },
  "language_info": {
   "codemirror_mode": {
    "name": "ipython",
    "version": 3
   },
   "file_extension": ".py",
   "mimetype": "text/x-python",
   "name": "python",
   "nbconvert_exporter": "python",
   "pygments_lexer": "ipython3",
   "version": "3.9.18"
  }
 },
 "nbformat": 4,
 "nbformat_minor": 5
}
